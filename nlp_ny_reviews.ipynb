{
 "cells": [
  {
   "cell_type": "code",
   "execution_count": 3,
   "id": "2d5b1644-5a92-45b6-9145-48c1885fb743",
   "metadata": {},
   "outputs": [],
   "source": [
    "import acquire as a\n",
    "import prepare as p"
   ]
  },
  {
   "cell_type": "code",
   "execution_count": 6,
   "id": "cc80ab2b-1d2a-44aa-bee5-7fb53b4c7068",
   "metadata": {},
   "outputs": [
    {
     "name": "stdout",
     "output_type": "stream",
     "text": [
      "reviews.csv found!\n"
     ]
    }
   ],
   "source": [
    "ny_reviews = p.acquire_ny_reviews()"
   ]
  },
  {
   "cell_type": "code",
   "execution_count": 10,
   "id": "b983ddb6-110b-4a7b-8e09-e7ad2a655589",
   "metadata": {
    "scrolled": true
   },
   "outputs": [],
   "source": [
    "ny_reviews = ny_reviews.dropna()"
   ]
  },
  {
   "cell_type": "code",
   "execution_count": 11,
   "id": "dfed25d3-b875-4b85-90da-85873092cdd6",
   "metadata": {},
   "outputs": [
    {
     "name": "stdout",
     "output_type": "stream",
     "text": [
      "<class 'pandas.core.frame.DataFrame'>\n",
      "Index: 4086 entries, 155 to 59922\n",
      "Data columns (total 16 columns):\n",
      " #   Column                 Non-Null Count  Dtype  \n",
      "---  ------                 --------------  -----  \n",
      " 0   camis                  4086 non-null   int64  \n",
      " 1   dba                    4086 non-null   object \n",
      " 2   boro                   4086 non-null   object \n",
      " 3   phone                  4086 non-null   int64  \n",
      " 4   cuisine_description    4086 non-null   object \n",
      " 5   inspection_date        4086 non-null   object \n",
      " 6   action                 4086 non-null   object \n",
      " 7   score                  4086 non-null   int64  \n",
      " 8   grade                  4086 non-null   object \n",
      " 9   latitude               4086 non-null   float64\n",
      " 10  longitude              4086 non-null   float64\n",
      " 11  full_address           4086 non-null   object \n",
      " 12  violation_code         4086 non-null   object \n",
      " 13  violation_description  4086 non-null   object \n",
      " 14  last_inspection_date   4086 non-null   object \n",
      " 15  concatenated_reviews   4086 non-null   object \n",
      "dtypes: float64(2), int64(3), object(11)\n",
      "memory usage: 542.7+ KB\n"
     ]
    }
   ],
   "source": [
    "ny_reviews.info()"
   ]
  },
  {
   "cell_type": "code",
   "execution_count": 14,
   "id": "43ba7efd-07f9-4001-b830-bcc01eebf92e",
   "metadata": {},
   "outputs": [
    {
     "data": {
      "text/plain": [
       "boro\n",
       "Manhattan        1421\n",
       "Brooklyn         1186\n",
       "Queens            893\n",
       "Bronx             401\n",
       "Staten Island     185\n",
       "Name: count, dtype: int64"
      ]
     },
     "execution_count": 14,
     "metadata": {},
     "output_type": "execute_result"
    }
   ],
   "source": [
    "ny_reviews.boro.value_counts()"
   ]
  }
 ],
 "metadata": {
  "kernelspec": {
   "display_name": "Python 3 (ipykernel)",
   "language": "python",
   "name": "python3"
  },
  "language_info": {
   "codemirror_mode": {
    "name": "ipython",
    "version": 3
   },
   "file_extension": ".py",
   "mimetype": "text/x-python",
   "name": "python",
   "nbconvert_exporter": "python",
   "pygments_lexer": "ipython3",
   "version": "3.10.9"
  }
 },
 "nbformat": 4,
 "nbformat_minor": 5
}
