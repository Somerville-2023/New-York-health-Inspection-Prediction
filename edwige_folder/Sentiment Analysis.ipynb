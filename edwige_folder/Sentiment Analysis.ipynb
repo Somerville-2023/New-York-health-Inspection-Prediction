{
 "cells": [
  {
   "cell_type": "code",
   "execution_count": 1,
   "id": "218814c1",
   "metadata": {},
   "outputs": [
    {
     "name": "stderr",
     "output_type": "stream",
     "text": [
      "[nltk_data] Downloading package vader_lexicon to\n",
      "[nltk_data]     /Users/edwige/nltk_data...\n",
      "[nltk_data]   Package vader_lexicon is already up-to-date!\n"
     ]
    }
   ],
   "source": [
    "import pandas as pd\n",
    "import numpy as np\n",
    "import matplotlib.pyplot as plt\n",
    "import seaborn as sns\n",
    "import nltk\n",
    "\n",
    "# progress bar\n",
    "from tqdm.notebook import tqdm\n",
    "\n",
    "# nltk tools for vader\n",
    "# lexicon is vaders bag of words\n",
    "# need to run it only once\n",
    "# nltk.download('vader_lexicon')\n",
    "from nltk.sentiment import SentimentIntensityAnalyzer"
   ]
  },
  {
   "cell_type": "markdown",
   "id": "938af56d",
   "metadata": {},
   "source": [
    "## enviornment and df prep"
   ]
  },
  {
   "cell_type": "code",
   "execution_count": 2,
   "id": "445473d3",
   "metadata": {},
   "outputs": [],
   "source": [
    "# checking out a clean style we don't have to use it in final presentations\n",
    "plt.style.use('ggplot')"
   ]
  },
  {
   "cell_type": "code",
   "execution_count": 3,
   "id": "f2a40463",
   "metadata": {},
   "outputs": [],
   "source": [
    "# importing test csv from jons scraping. \n",
    "# Change this path in pipeline\n",
    "df = pd.read_csv('scraper_gmaps/data/newest_gm_reviews.csv')"
   ]
  },
  {
   "cell_type": "code",
   "execution_count": 4,
   "id": "a0510abf",
   "metadata": {},
   "outputs": [],
   "source": [
    " # df.head(20)"
   ]
  },
  {
   "cell_type": "code",
   "execution_count": 5,
   "id": "dcecf6a7",
   "metadata": {},
   "outputs": [],
   "source": [
    "# just taking rating and review\n",
    "df = df[['caption', 'rating']]"
   ]
  },
  {
   "cell_type": "code",
   "execution_count": 6,
   "id": "334e9eaa",
   "metadata": {},
   "outputs": [
    {
     "data": {
      "text/html": [
       "<div>\n",
       "<style scoped>\n",
       "    .dataframe tbody tr th:only-of-type {\n",
       "        vertical-align: middle;\n",
       "    }\n",
       "\n",
       "    .dataframe tbody tr th {\n",
       "        vertical-align: top;\n",
       "    }\n",
       "\n",
       "    .dataframe thead th {\n",
       "        text-align: right;\n",
       "    }\n",
       "</style>\n",
       "<table border=\"1\" class=\"dataframe\">\n",
       "  <thead>\n",
       "    <tr style=\"text-align: right;\">\n",
       "      <th></th>\n",
       "      <th>caption</th>\n",
       "      <th>rating</th>\n",
       "    </tr>\n",
       "  </thead>\n",
       "  <tbody>\n",
       "    <tr>\n",
       "      <th>0</th>\n",
       "      <td>NaN</td>\n",
       "      <td>5.0</td>\n",
       "    </tr>\n",
       "    <tr>\n",
       "      <th>1</th>\n",
       "      <td>NaN</td>\n",
       "      <td>5.0</td>\n",
       "    </tr>\n",
       "    <tr>\n",
       "      <th>2</th>\n",
       "      <td>Another review  my daughter and friends  love ...</td>\n",
       "      <td>4.0</td>\n",
       "    </tr>\n",
       "    <tr>\n",
       "      <th>3</th>\n",
       "      <td>NaN</td>\n",
       "      <td>4.0</td>\n",
       "    </tr>\n",
       "    <tr>\n",
       "      <th>4</th>\n",
       "      <td>Can’t get your order right for nothing and the...</td>\n",
       "      <td>1.0</td>\n",
       "    </tr>\n",
       "    <tr>\n",
       "      <th>...</th>\n",
       "      <td>...</td>\n",
       "      <td>...</td>\n",
       "    </tr>\n",
       "    <tr>\n",
       "      <th>10745</th>\n",
       "      <td>NaN</td>\n",
       "      <td>4.0</td>\n",
       "    </tr>\n",
       "    <tr>\n",
       "      <th>10746</th>\n",
       "      <td>Kinda pricey but great food n service</td>\n",
       "      <td>5.0</td>\n",
       "    </tr>\n",
       "    <tr>\n",
       "      <th>10747</th>\n",
       "      <td>Perfect. Great food.</td>\n",
       "      <td>5.0</td>\n",
       "    </tr>\n",
       "    <tr>\n",
       "      <th>10748</th>\n",
       "      <td>I love it! There is a wide variety of food sol...</td>\n",
       "      <td>5.0</td>\n",
       "    </tr>\n",
       "    <tr>\n",
       "      <th>10749</th>\n",
       "      <td>Don't care about the food here..went in bought...</td>\n",
       "      <td>1.0</td>\n",
       "    </tr>\n",
       "  </tbody>\n",
       "</table>\n",
       "<p>10750 rows × 2 columns</p>\n",
       "</div>"
      ],
      "text/plain": [
       "                                                 caption  rating\n",
       "0                                                    NaN     5.0\n",
       "1                                                    NaN     5.0\n",
       "2      Another review  my daughter and friends  love ...     4.0\n",
       "3                                                    NaN     4.0\n",
       "4      Can’t get your order right for nothing and the...     1.0\n",
       "...                                                  ...     ...\n",
       "10745                                                NaN     4.0\n",
       "10746              Kinda pricey but great food n service     5.0\n",
       "10747                               Perfect. Great food.     5.0\n",
       "10748  I love it! There is a wide variety of food sol...     5.0\n",
       "10749  Don't care about the food here..went in bought...     1.0\n",
       "\n",
       "[10750 rows x 2 columns]"
      ]
     },
     "execution_count": 6,
     "metadata": {},
     "output_type": "execute_result"
    }
   ],
   "source": [
    "df"
   ]
  },
  {
   "cell_type": "code",
   "execution_count": 7,
   "id": "a7bbd67c",
   "metadata": {},
   "outputs": [],
   "source": [
    "# dropped null reviews\n",
    "df = df.dropna(subset=['caption'])"
   ]
  },
  {
   "cell_type": "code",
   "execution_count": 8,
   "id": "1934449e",
   "metadata": {},
   "outputs": [
    {
     "data": {
      "text/html": [
       "<div>\n",
       "<style scoped>\n",
       "    .dataframe tbody tr th:only-of-type {\n",
       "        vertical-align: middle;\n",
       "    }\n",
       "\n",
       "    .dataframe tbody tr th {\n",
       "        vertical-align: top;\n",
       "    }\n",
       "\n",
       "    .dataframe thead th {\n",
       "        text-align: right;\n",
       "    }\n",
       "</style>\n",
       "<table border=\"1\" class=\"dataframe\">\n",
       "  <thead>\n",
       "    <tr style=\"text-align: right;\">\n",
       "      <th></th>\n",
       "      <th>caption</th>\n",
       "      <th>rating</th>\n",
       "    </tr>\n",
       "  </thead>\n",
       "  <tbody>\n",
       "    <tr>\n",
       "      <th>2</th>\n",
       "      <td>Another review  my daughter and friends  love ...</td>\n",
       "      <td>4.0</td>\n",
       "    </tr>\n",
       "    <tr>\n",
       "      <th>4</th>\n",
       "      <td>Can’t get your order right for nothing and the...</td>\n",
       "      <td>1.0</td>\n",
       "    </tr>\n",
       "    <tr>\n",
       "      <th>5</th>\n",
       "      <td>We always buy when we leave early we have a co...</td>\n",
       "      <td>5.0</td>\n",
       "    </tr>\n",
       "    <tr>\n",
       "      <th>6</th>\n",
       "      <td>Great</td>\n",
       "      <td>4.0</td>\n",
       "    </tr>\n",
       "    <tr>\n",
       "      <th>7</th>\n",
       "      <td>Poor customer service by manager</td>\n",
       "      <td>1.0</td>\n",
       "    </tr>\n",
       "  </tbody>\n",
       "</table>\n",
       "</div>"
      ],
      "text/plain": [
       "                                             caption  rating\n",
       "2  Another review  my daughter and friends  love ...     4.0\n",
       "4  Can’t get your order right for nothing and the...     1.0\n",
       "5  We always buy when we leave early we have a co...     5.0\n",
       "6                                              Great     4.0\n",
       "7                   Poor customer service by manager     1.0"
      ]
     },
     "execution_count": 8,
     "metadata": {},
     "output_type": "execute_result"
    }
   ],
   "source": [
    "df.head()"
   ]
  },
  {
   "cell_type": "code",
   "execution_count": 9,
   "id": "1f5cca16",
   "metadata": {},
   "outputs": [
    {
     "data": {
      "text/plain": [
       "(6556, 2)"
      ]
     },
     "execution_count": 9,
     "metadata": {},
     "output_type": "execute_result"
    }
   ],
   "source": [
    "df.shape"
   ]
  },
  {
   "cell_type": "code",
   "execution_count": 10,
   "id": "a6cb0a85",
   "metadata": {},
   "outputs": [],
   "source": [
    "# not sure how long things will take to run \n",
    "# so making a smaller df\n",
    "vader_df = df.head(50)"
   ]
  },
  {
   "cell_type": "code",
   "execution_count": 11,
   "id": "7455accc",
   "metadata": {},
   "outputs": [
    {
     "data": {
      "text/plain": [
       "(50, 2)"
      ]
     },
     "execution_count": 11,
     "metadata": {},
     "output_type": "execute_result"
    }
   ],
   "source": [
    "vader_df.shape"
   ]
  },
  {
   "cell_type": "code",
   "execution_count": 12,
   "id": "98b703bf",
   "metadata": {},
   "outputs": [],
   "source": [
    "# reindexing so that I can call rows\n",
    "vader_df = vader_df.reset_index(drop=True)"
   ]
  },
  {
   "cell_type": "code",
   "execution_count": 13,
   "id": "e686045d",
   "metadata": {},
   "outputs": [
    {
     "data": {
      "text/html": [
       "<div>\n",
       "<style scoped>\n",
       "    .dataframe tbody tr th:only-of-type {\n",
       "        vertical-align: middle;\n",
       "    }\n",
       "\n",
       "    .dataframe tbody tr th {\n",
       "        vertical-align: top;\n",
       "    }\n",
       "\n",
       "    .dataframe thead th {\n",
       "        text-align: right;\n",
       "    }\n",
       "</style>\n",
       "<table border=\"1\" class=\"dataframe\">\n",
       "  <thead>\n",
       "    <tr style=\"text-align: right;\">\n",
       "      <th></th>\n",
       "      <th>caption</th>\n",
       "      <th>rating</th>\n",
       "    </tr>\n",
       "  </thead>\n",
       "  <tbody>\n",
       "    <tr>\n",
       "      <th>0</th>\n",
       "      <td>Another review  my daughter and friends  love ...</td>\n",
       "      <td>4.0</td>\n",
       "    </tr>\n",
       "    <tr>\n",
       "      <th>1</th>\n",
       "      <td>Can’t get your order right for nothing and the...</td>\n",
       "      <td>1.0</td>\n",
       "    </tr>\n",
       "    <tr>\n",
       "      <th>2</th>\n",
       "      <td>We always buy when we leave early we have a co...</td>\n",
       "      <td>5.0</td>\n",
       "    </tr>\n",
       "    <tr>\n",
       "      <th>3</th>\n",
       "      <td>Great</td>\n",
       "      <td>4.0</td>\n",
       "    </tr>\n",
       "    <tr>\n",
       "      <th>4</th>\n",
       "      <td>Poor customer service by manager</td>\n",
       "      <td>1.0</td>\n",
       "    </tr>\n",
       "    <tr>\n",
       "      <th>5</th>\n",
       "      <td>Employee was a bit moody but food bussing</td>\n",
       "      <td>4.0</td>\n",
       "    </tr>\n",
       "    <tr>\n",
       "      <th>6</th>\n",
       "      <td>I haven't had Dunkin Donuts in years. Being th...</td>\n",
       "      <td>1.0</td>\n",
       "    </tr>\n",
       "    <tr>\n",
       "      <th>7</th>\n",
       "      <td>Great coffee</td>\n",
       "      <td>5.0</td>\n",
       "    </tr>\n",
       "    <tr>\n",
       "      <th>8</th>\n",
       "      <td>Disappointed, no blueberry donut. Mmmm mmmm, smh</td>\n",
       "      <td>3.0</td>\n",
       "    </tr>\n",
       "    <tr>\n",
       "      <th>9</th>\n",
       "      <td>These Guys are really professional. Well behav...</td>\n",
       "      <td>5.0</td>\n",
       "    </tr>\n",
       "    <tr>\n",
       "      <th>10</th>\n",
       "      <td>The DD is housed in a Mobil Station...not Suno...</td>\n",
       "      <td>4.0</td>\n",
       "    </tr>\n",
       "    <tr>\n",
       "      <th>11</th>\n",
       "      <td>i went these place  and buy some stuff for eat...</td>\n",
       "      <td>1.0</td>\n",
       "    </tr>\n",
       "    <tr>\n",
       "      <th>12</th>\n",
       "      <td>😎👍🏻👍🏻</td>\n",
       "      <td>5.0</td>\n",
       "    </tr>\n",
       "    <tr>\n",
       "      <th>13</th>\n",
       "      <td>Ordered a box of joes they tried to cheat with...</td>\n",
       "      <td>2.0</td>\n",
       "    </tr>\n",
       "    <tr>\n",
       "      <th>14</th>\n",
       "      <td>This Dunkin is nice, but it's located inside a...</td>\n",
       "      <td>5.0</td>\n",
       "    </tr>\n",
       "    <tr>\n",
       "      <th>15</th>\n",
       "      <td>Quick service hot and fresh coffee</td>\n",
       "      <td>5.0</td>\n",
       "    </tr>\n",
       "    <tr>\n",
       "      <th>16</th>\n",
       "      <td>Great service</td>\n",
       "      <td>5.0</td>\n",
       "    </tr>\n",
       "    <tr>\n",
       "      <th>17</th>\n",
       "      <td>☕☕☕☕good</td>\n",
       "      <td>4.0</td>\n",
       "    </tr>\n",
       "    <tr>\n",
       "      <th>18</th>\n",
       "      <td>This D&amp;D is okay. Service was nice. But I real...</td>\n",
       "      <td>3.0</td>\n",
       "    </tr>\n",
       "    <tr>\n",
       "      <th>19</th>\n",
       "      <td>Window service only</td>\n",
       "      <td>3.0</td>\n",
       "    </tr>\n",
       "    <tr>\n",
       "      <th>20</th>\n",
       "      <td>Worst chai latte I ever had</td>\n",
       "      <td>1.0</td>\n",
       "    </tr>\n",
       "    <tr>\n",
       "      <th>21</th>\n",
       "      <td>They take long, but food is good</td>\n",
       "      <td>5.0</td>\n",
       "    </tr>\n",
       "    <tr>\n",
       "      <th>22</th>\n",
       "      <td>Services is done at the window, the line to se...</td>\n",
       "      <td>3.0</td>\n",
       "    </tr>\n",
       "    <tr>\n",
       "      <th>23</th>\n",
       "      <td>Had to get my coffee</td>\n",
       "      <td>5.0</td>\n",
       "    </tr>\n",
       "    <tr>\n",
       "      <th>24</th>\n",
       "      <td>Staff rude and lazy as hell</td>\n",
       "      <td>1.0</td>\n",
       "    </tr>\n",
       "    <tr>\n",
       "      <th>25</th>\n",
       "      <td>The worst.</td>\n",
       "      <td>1.0</td>\n",
       "    </tr>\n",
       "    <tr>\n",
       "      <th>26</th>\n",
       "      <td>Good</td>\n",
       "      <td>5.0</td>\n",
       "    </tr>\n",
       "    <tr>\n",
       "      <th>27</th>\n",
       "      <td>Best Dunkin with friendly staff.</td>\n",
       "      <td>5.0</td>\n",
       "    </tr>\n",
       "    <tr>\n",
       "      <th>28</th>\n",
       "      <td>The donuts are always fresh and the people are...</td>\n",
       "      <td>5.0</td>\n",
       "    </tr>\n",
       "    <tr>\n",
       "      <th>29</th>\n",
       "      <td>One of the worst dunkin donuts ive been to the...</td>\n",
       "      <td>1.0</td>\n",
       "    </tr>\n",
       "    <tr>\n",
       "      <th>30</th>\n",
       "      <td>🍩 are the best …</td>\n",
       "      <td>5.0</td>\n",
       "    </tr>\n",
       "    <tr>\n",
       "      <th>31</th>\n",
       "      <td>Best time to come...  8:30 am ...</td>\n",
       "      <td>5.0</td>\n",
       "    </tr>\n",
       "    <tr>\n",
       "      <th>32</th>\n",
       "      <td>I like this place</td>\n",
       "      <td>5.0</td>\n",
       "    </tr>\n",
       "    <tr>\n",
       "      <th>33</th>\n",
       "      <td>I LOVE THIS PLACE, VERY NICE AND GREAT CREW ME...</td>\n",
       "      <td>5.0</td>\n",
       "    </tr>\n",
       "    <tr>\n",
       "      <th>34</th>\n",
       "      <td>worse dunkin donut service poor flies everywhe...</td>\n",
       "      <td>1.0</td>\n",
       "    </tr>\n",
       "    <tr>\n",
       "      <th>35</th>\n",
       "      <td>Fast service</td>\n",
       "      <td>5.0</td>\n",
       "    </tr>\n",
       "    <tr>\n",
       "      <th>36</th>\n",
       "      <td>Easy to see,quick pick up.</td>\n",
       "      <td>4.0</td>\n",
       "    </tr>\n",
       "    <tr>\n",
       "      <th>37</th>\n",
       "      <td>They sell warm coffee.. coffee was terrible</td>\n",
       "      <td>1.0</td>\n",
       "    </tr>\n",
       "    <tr>\n",
       "      <th>38</th>\n",
       "      <td>Dunkin Donuts is what it is. This is about the...</td>\n",
       "      <td>3.0</td>\n",
       "    </tr>\n",
       "    <tr>\n",
       "      <th>39</th>\n",
       "      <td>Friendly staff.</td>\n",
       "      <td>5.0</td>\n",
       "    </tr>\n",
       "    <tr>\n",
       "      <th>40</th>\n",
       "      <td>I'm here everyday and the employees are the fr...</td>\n",
       "      <td>4.0</td>\n",
       "    </tr>\n",
       "    <tr>\n",
       "      <th>41</th>\n",
       "      <td>Was a long line and only person at the counter...</td>\n",
       "      <td>4.0</td>\n",
       "    </tr>\n",
       "    <tr>\n",
       "      <th>42</th>\n",
       "      <td>Not open 24hrs took a cab ride there and wasn'...</td>\n",
       "      <td>1.0</td>\n",
       "    </tr>\n",
       "    <tr>\n",
       "      <th>43</th>\n",
       "      <td>Great pizza place, coal oven, nice atmosphere ...</td>\n",
       "      <td>5.0</td>\n",
       "    </tr>\n",
       "    <tr>\n",
       "      <th>44</th>\n",
       "      <td>I know it’s Halloween, but Table 87 must be me...</td>\n",
       "      <td>1.0</td>\n",
       "    </tr>\n",
       "    <tr>\n",
       "      <th>45</th>\n",
       "      <td>Best brick oven pizza in Brooklyn Heights! And...</td>\n",
       "      <td>5.0</td>\n",
       "    </tr>\n",
       "    <tr>\n",
       "      <th>46</th>\n",
       "      <td>👎</td>\n",
       "      <td>1.0</td>\n",
       "    </tr>\n",
       "    <tr>\n",
       "      <th>47</th>\n",
       "      <td>mmm good pizza</td>\n",
       "      <td>5.0</td>\n",
       "    </tr>\n",
       "    <tr>\n",
       "      <th>48</th>\n",
       "      <td>We stopped in on the fly, first visit.. the bu...</td>\n",
       "      <td>5.0</td>\n",
       "    </tr>\n",
       "    <tr>\n",
       "      <th>49</th>\n",
       "      <td>Tatiana was an amazing host. Food was deliciou...</td>\n",
       "      <td>5.0</td>\n",
       "    </tr>\n",
       "  </tbody>\n",
       "</table>\n",
       "</div>"
      ],
      "text/plain": [
       "                                              caption  rating\n",
       "0   Another review  my daughter and friends  love ...     4.0\n",
       "1   Can’t get your order right for nothing and the...     1.0\n",
       "2   We always buy when we leave early we have a co...     5.0\n",
       "3                                               Great     4.0\n",
       "4                    Poor customer service by manager     1.0\n",
       "5           Employee was a bit moody but food bussing     4.0\n",
       "6   I haven't had Dunkin Donuts in years. Being th...     1.0\n",
       "7                                        Great coffee     5.0\n",
       "8    Disappointed, no blueberry donut. Mmmm mmmm, smh     3.0\n",
       "9   These Guys are really professional. Well behav...     5.0\n",
       "10  The DD is housed in a Mobil Station...not Suno...     4.0\n",
       "11  i went these place  and buy some stuff for eat...     1.0\n",
       "12                                              😎👍🏻👍🏻     5.0\n",
       "13  Ordered a box of joes they tried to cheat with...     2.0\n",
       "14  This Dunkin is nice, but it's located inside a...     5.0\n",
       "15                 Quick service hot and fresh coffee     5.0\n",
       "16                                      Great service     5.0\n",
       "17                                           ☕☕☕☕good     4.0\n",
       "18  This D&D is okay. Service was nice. But I real...     3.0\n",
       "19                                Window service only     3.0\n",
       "20                        Worst chai latte I ever had     1.0\n",
       "21                   They take long, but food is good     5.0\n",
       "22  Services is done at the window, the line to se...     3.0\n",
       "23                               Had to get my coffee     5.0\n",
       "24                        Staff rude and lazy as hell     1.0\n",
       "25                                         The worst.     1.0\n",
       "26                                               Good     5.0\n",
       "27                   Best Dunkin with friendly staff.     5.0\n",
       "28  The donuts are always fresh and the people are...     5.0\n",
       "29  One of the worst dunkin donuts ive been to the...     1.0\n",
       "30                                   🍩 are the best …     5.0\n",
       "31                  Best time to come...  8:30 am ...     5.0\n",
       "32                                  I like this place     5.0\n",
       "33  I LOVE THIS PLACE, VERY NICE AND GREAT CREW ME...     5.0\n",
       "34  worse dunkin donut service poor flies everywhe...     1.0\n",
       "35                                       Fast service     5.0\n",
       "36                         Easy to see,quick pick up.     4.0\n",
       "37        They sell warm coffee.. coffee was terrible     1.0\n",
       "38  Dunkin Donuts is what it is. This is about the...     3.0\n",
       "39                                    Friendly staff.     5.0\n",
       "40  I'm here everyday and the employees are the fr...     4.0\n",
       "41  Was a long line and only person at the counter...     4.0\n",
       "42  Not open 24hrs took a cab ride there and wasn'...     1.0\n",
       "43  Great pizza place, coal oven, nice atmosphere ...     5.0\n",
       "44  I know it’s Halloween, but Table 87 must be me...     1.0\n",
       "45  Best brick oven pizza in Brooklyn Heights! And...     5.0\n",
       "46                                                  👎     1.0\n",
       "47                                     mmm good pizza     5.0\n",
       "48  We stopped in on the fly, first visit.. the bu...     5.0\n",
       "49  Tatiana was an amazing host. Food was deliciou...     5.0"
      ]
     },
     "execution_count": 13,
     "metadata": {},
     "output_type": "execute_result"
    }
   ],
   "source": [
    "vader_df"
   ]
  },
  {
   "cell_type": "code",
   "execution_count": 14,
   "id": "be9939de",
   "metadata": {},
   "outputs": [
    {
     "data": {
      "text/plain": [
       "\"I'm here everyday and the employees are the friendliest I've come across.\""
      ]
     },
     "execution_count": 14,
     "metadata": {},
     "output_type": "execute_result"
    }
   ],
   "source": [
    "# reading random review\n",
    "vader_df.caption[40]"
   ]
  },
  {
   "cell_type": "markdown",
   "id": "80022d91",
   "metadata": {},
   "source": [
    "## vader tests"
   ]
  },
  {
   "cell_type": "code",
   "execution_count": 15,
   "id": "0af9ebee",
   "metadata": {},
   "outputs": [
    {
     "name": "stdout",
     "output_type": "stream",
     "text": [
      "👎\n",
      "😎👍🏻👍🏻\n",
      "Employee was a bit moody but food bussing\n",
      "We stopped in on the fly, first visit.. the burrata pepperoni slices were incredible and the Nutella pizza was perfect to share afterwards. It’s going to be our destination pizza place. 100% recommend!\n"
     ]
    }
   ],
   "source": [
    "# cool test cases\n",
    "# emoji\n",
    "print(vader_df.caption[46])\n",
    "\n",
    "# emoji\n",
    "print(vader_df.caption[12])\n",
    "\n",
    "# slang\n",
    "print(vader_df.caption[5])\n",
    "\n",
    "# slang\n",
    "print(vader_df.caption[48])"
   ]
  },
  {
   "cell_type": "code",
   "execution_count": 16,
   "id": "e5281c41",
   "metadata": {},
   "outputs": [],
   "source": [
    "sia = SentimentIntensityAnalyzer()"
   ]
  },
  {
   "cell_type": "code",
   "execution_count": 17,
   "id": "a0c8e71f",
   "metadata": {},
   "outputs": [
    {
     "data": {
      "text/plain": [
       "{'neg': 0.499, 'neu': 0.501, 'pos': 0.0, 'compound': -0.7171}"
      ]
     },
     "execution_count": 17,
     "metadata": {},
     "output_type": "execute_result"
    }
   ],
   "source": [
    "# sia test\n",
    "sia.polarity_scores('My back is fucking killing me!')"
   ]
  },
  {
   "cell_type": "markdown",
   "id": "b7c8a9ad",
   "metadata": {},
   "source": [
    "The sia correctly predicts the sentiment of the above text with a negative rating of -0.7171"
   ]
  },
  {
   "cell_type": "code",
   "execution_count": 18,
   "id": "b1ac2220",
   "metadata": {},
   "outputs": [
    {
     "data": {
      "text/plain": [
       "{'neg': 0.0, 'neu': 0.536, 'pos': 0.464, 'compound': 0.6369}"
      ]
     },
     "execution_count": 18,
     "metadata": {},
     "output_type": "execute_result"
    }
   ],
   "source": [
    "# sia test 2\n",
    "sia.polarity_scores('The Boys spinnoff was better than the original.')"
   ]
  },
  {
   "cell_type": "markdown",
   "id": "48156199",
   "metadata": {},
   "source": [
    "The sia correctly predicts the sentiment of the above text with a positive rating of 0.6369"
   ]
  },
  {
   "cell_type": "code",
   "execution_count": null,
   "id": "12e29e7d",
   "metadata": {},
   "outputs": [],
   "source": []
  },
  {
   "cell_type": "code",
   "execution_count": 19,
   "id": "508daebe",
   "metadata": {},
   "outputs": [],
   "source": [
    "# running sia on in sample examples "
   ]
  },
  {
   "cell_type": "code",
   "execution_count": 20,
   "id": "a39da08b",
   "metadata": {},
   "outputs": [
    {
     "name": "stdout",
     "output_type": "stream",
     "text": [
      "👎\n"
     ]
    },
    {
     "data": {
      "text/plain": [
       "{'neg': 0.0, 'neu': 0.0, 'pos': 0.0, 'compound': 0.0}"
      ]
     },
     "execution_count": 20,
     "metadata": {},
     "output_type": "execute_result"
    }
   ],
   "source": [
    "print(vader_df.caption[46])\n",
    "sia.polarity_scores(vader_df.caption[46])"
   ]
  },
  {
   "cell_type": "markdown",
   "id": "accdc534",
   "metadata": {},
   "source": [
    "Does not recognize emoji"
   ]
  },
  {
   "cell_type": "code",
   "execution_count": null,
   "id": "f46ad9f4",
   "metadata": {},
   "outputs": [],
   "source": []
  },
  {
   "cell_type": "code",
   "execution_count": 21,
   "id": "0d8293d4",
   "metadata": {},
   "outputs": [
    {
     "name": "stdout",
     "output_type": "stream",
     "text": [
      "😎👍🏻👍🏻\n"
     ]
    },
    {
     "data": {
      "text/plain": [
       "{'neg': 0.0, 'neu': 1.0, 'pos': 0.0, 'compound': 0.0}"
      ]
     },
     "execution_count": 21,
     "metadata": {},
     "output_type": "execute_result"
    }
   ],
   "source": [
    "print(vader_df.caption[12])\n",
    "sia.polarity_scores(vader_df.caption[12])"
   ]
  },
  {
   "cell_type": "markdown",
   "id": "e8653ace",
   "metadata": {},
   "source": [
    "Does not recognize emoji"
   ]
  },
  {
   "cell_type": "code",
   "execution_count": null,
   "id": "9c5762b7",
   "metadata": {},
   "outputs": [],
   "source": []
  },
  {
   "cell_type": "code",
   "execution_count": 22,
   "id": "14778b16",
   "metadata": {},
   "outputs": [
    {
     "name": "stdout",
     "output_type": "stream",
     "text": [
      "Employee was a bit moody but food bussing\n"
     ]
    },
    {
     "data": {
      "text/plain": [
       "{'neg': 0.226, 'neu': 0.774, 'pos': 0.0, 'compound': -0.1901}"
      ]
     },
     "execution_count": 22,
     "metadata": {},
     "output_type": "execute_result"
    }
   ],
   "source": [
    "print(vader_df.caption[5])\n",
    "sia.polarity_scores(vader_df.caption[5])"
   ]
  },
  {
   "cell_type": "markdown",
   "id": "9d725ff8",
   "metadata": {},
   "source": [
    "incorrectly labels positive slang but picks up negative"
   ]
  },
  {
   "cell_type": "code",
   "execution_count": null,
   "id": "d881e131",
   "metadata": {},
   "outputs": [],
   "source": []
  },
  {
   "cell_type": "code",
   "execution_count": 23,
   "id": "d02aa7ef",
   "metadata": {},
   "outputs": [
    {
     "name": "stdout",
     "output_type": "stream",
     "text": [
      "We stopped in on the fly, first visit.. the burrata pepperoni slices were incredible and the Nutella pizza was perfect to share afterwards. It’s going to be our destination pizza place. 100% recommend!\n"
     ]
    },
    {
     "data": {
      "text/plain": [
       "{'neg': 0.048, 'neu': 0.732, 'pos': 0.22, 'compound': 0.7777}"
      ]
     },
     "execution_count": 23,
     "metadata": {},
     "output_type": "execute_result"
    }
   ],
   "source": [
    "print(vader_df.caption[48])\n",
    "sia.polarity_scores(vader_df.caption[48])"
   ]
  },
  {
   "cell_type": "markdown",
   "id": "b6ab0bc3",
   "metadata": {},
   "source": [
    "Picks up poitive and seems to ignore slang. Seems to work better with long text as it has more to go on."
   ]
  },
  {
   "cell_type": "code",
   "execution_count": null,
   "id": "5edeff96",
   "metadata": {},
   "outputs": [],
   "source": []
  },
  {
   "cell_type": "markdown",
   "id": "8287e129",
   "metadata": {},
   "source": [
    "## vader time"
   ]
  },
  {
   "cell_type": "code",
   "execution_count": 24,
   "id": "6ec9a8e4",
   "metadata": {},
   "outputs": [
    {
     "data": {
      "text/plain": [
       "(50, 2)"
      ]
     },
     "execution_count": 24,
     "metadata": {},
     "output_type": "execute_result"
    }
   ],
   "source": [
    "vader_df.shape"
   ]
  },
  {
   "cell_type": "code",
   "execution_count": 27,
   "id": "08a2592f",
   "metadata": {},
   "outputs": [
    {
     "data": {
      "application/vnd.jupyter.widget-view+json": {
       "model_id": "bf6a206e10c84b37b442637782f7b498",
       "version_major": 2,
       "version_minor": 0
      },
      "text/plain": [
       "  0%|          | 0/50 [00:00<?, ?it/s]"
      ]
     },
     "metadata": {},
     "output_type": "display_data"
    }
   ],
   "source": [
    "# running our polarity score on our test vader dataset\n",
    "# trying out the tqdm progress bar which will be \n",
    "## usefull for full dataset of reviews\n",
    "# store results in dictionary vader_results\n",
    "'''vader_results = {}\n",
    "for i, row in tqdm(vader_df.iterrows(), total=len(vader_df)):\n",
    "    review = row['caption']\n",
    "    index_id = i\n",
    "    vader_results[index_id] = sia.polarity_scores(review)'''"
   ]
  },
  {
   "cell_type": "markdown",
   "id": "72cb871c",
   "metadata": {},
   "source": [
    "I cannot get the tqdm progress bar to run. th efunction works but the progress bar just doesn't run. Can go back to using print statements."
   ]
  },
  {
   "cell_type": "markdown",
   "id": "e92ea7cb",
   "metadata": {},
   "source": [
    "### If you try to use the cmis instead of index than the results will get overwritten."
   ]
  },
  {
   "cell_type": "code",
   "execution_count": 28,
   "id": "09623069",
   "metadata": {},
   "outputs": [
    {
     "data": {
      "text/plain": [
       "50"
      ]
     },
     "execution_count": 28,
     "metadata": {},
     "output_type": "execute_result"
    }
   ],
   "source": [
    "len(vader_results)"
   ]
  },
  {
   "cell_type": "code",
   "execution_count": 29,
   "id": "05f7ae2d",
   "metadata": {},
   "outputs": [],
   "source": [
    "vader_results = {}\n",
    "for i, row in vader_df.iterrows():\n",
    "    review = row['caption']\n",
    "    index_id = i\n",
    "    vader_results[index_id] = sia.polarity_scores(review)"
   ]
  },
  {
   "cell_type": "code",
   "execution_count": 31,
   "id": "5d577a53",
   "metadata": {},
   "outputs": [],
   "source": [
    "# vader_results"
   ]
  },
  {
   "cell_type": "code",
   "execution_count": 37,
   "id": "f0ce9bac",
   "metadata": {},
   "outputs": [],
   "source": [
    "vader_results_df = pd.DataFrame(vader_results).T"
   ]
  },
  {
   "cell_type": "code",
   "execution_count": 39,
   "id": "6ca0e92e",
   "metadata": {},
   "outputs": [],
   "source": [
    "from nltk.sentiment import SentimentIntensityAnalyzer\n",
    "\n",
    "def vader_sentiment_analysis(df):\n",
    "    '''\n",
    "    Takes in a dataframe with 2 columns named:\n",
    "    camis, reviews_sw\n",
    "    \n",
    "    reviews_sw = block of text minus stop words \n",
    "    \n",
    "    returns a dataframe of five collums:\n",
    "    camis, neg, neu, pos, compound\n",
    "    '''\n",
    "    \n",
    "    sia = SentimentIntensityAnalyzer()\n",
    "    vader_results = {}\n",
    "    \n",
    "    for i, row in df.iterrows():\n",
    "        review = row['reviews_sw']\n",
    "        index_id = i\n",
    "        vader_results[index_id] = sia.polarity_scores(review)\n",
    "\n",
    "        # Transposes vader results so that data is the long way.\n",
    "        vader_results_df = pd.DataFrame(vader_results).T\n",
    "        \n",
    "    return vader_results_df\n",
    "    \n",
    "    "
   ]
  },
  {
   "cell_type": "code",
   "execution_count": null,
   "id": "6e9bd41a",
   "metadata": {},
   "outputs": [],
   "source": []
  },
  {
   "cell_type": "code",
   "execution_count": 38,
   "id": "936976e5",
   "metadata": {},
   "outputs": [
    {
     "data": {
      "text/html": [
       "<div>\n",
       "<style scoped>\n",
       "    .dataframe tbody tr th:only-of-type {\n",
       "        vertical-align: middle;\n",
       "    }\n",
       "\n",
       "    .dataframe tbody tr th {\n",
       "        vertical-align: top;\n",
       "    }\n",
       "\n",
       "    .dataframe thead th {\n",
       "        text-align: right;\n",
       "    }\n",
       "</style>\n",
       "<table border=\"1\" class=\"dataframe\">\n",
       "  <thead>\n",
       "    <tr style=\"text-align: right;\">\n",
       "      <th></th>\n",
       "      <th>neg</th>\n",
       "      <th>neu</th>\n",
       "      <th>pos</th>\n",
       "      <th>compound</th>\n",
       "    </tr>\n",
       "  </thead>\n",
       "  <tbody>\n",
       "    <tr>\n",
       "      <th>0</th>\n",
       "      <td>0.000</td>\n",
       "      <td>0.523</td>\n",
       "      <td>0.477</td>\n",
       "      <td>0.8074</td>\n",
       "    </tr>\n",
       "    <tr>\n",
       "      <th>1</th>\n",
       "      <td>0.000</td>\n",
       "      <td>1.000</td>\n",
       "      <td>0.000</td>\n",
       "      <td>0.0000</td>\n",
       "    </tr>\n",
       "    <tr>\n",
       "      <th>2</th>\n",
       "      <td>0.079</td>\n",
       "      <td>0.921</td>\n",
       "      <td>0.000</td>\n",
       "      <td>-0.0516</td>\n",
       "    </tr>\n",
       "    <tr>\n",
       "      <th>3</th>\n",
       "      <td>0.000</td>\n",
       "      <td>0.000</td>\n",
       "      <td>1.000</td>\n",
       "      <td>0.6249</td>\n",
       "    </tr>\n",
       "    <tr>\n",
       "      <th>4</th>\n",
       "      <td>0.437</td>\n",
       "      <td>0.563</td>\n",
       "      <td>0.000</td>\n",
       "      <td>-0.4767</td>\n",
       "    </tr>\n",
       "    <tr>\n",
       "      <th>5</th>\n",
       "      <td>0.226</td>\n",
       "      <td>0.774</td>\n",
       "      <td>0.000</td>\n",
       "      <td>-0.1901</td>\n",
       "    </tr>\n",
       "    <tr>\n",
       "      <th>6</th>\n",
       "      <td>0.028</td>\n",
       "      <td>0.950</td>\n",
       "      <td>0.022</td>\n",
       "      <td>0.0772</td>\n",
       "    </tr>\n",
       "    <tr>\n",
       "      <th>7</th>\n",
       "      <td>0.000</td>\n",
       "      <td>0.196</td>\n",
       "      <td>0.804</td>\n",
       "      <td>0.6249</td>\n",
       "    </tr>\n",
       "    <tr>\n",
       "      <th>8</th>\n",
       "      <td>0.655</td>\n",
       "      <td>0.345</td>\n",
       "      <td>0.000</td>\n",
       "      <td>-0.7650</td>\n",
       "    </tr>\n",
       "    <tr>\n",
       "      <th>9</th>\n",
       "      <td>0.000</td>\n",
       "      <td>0.540</td>\n",
       "      <td>0.460</td>\n",
       "      <td>0.7703</td>\n",
       "    </tr>\n",
       "    <tr>\n",
       "      <th>10</th>\n",
       "      <td>0.158</td>\n",
       "      <td>0.690</td>\n",
       "      <td>0.153</td>\n",
       "      <td>-0.0258</td>\n",
       "    </tr>\n",
       "    <tr>\n",
       "      <th>11</th>\n",
       "      <td>0.222</td>\n",
       "      <td>0.684</td>\n",
       "      <td>0.094</td>\n",
       "      <td>-0.8411</td>\n",
       "    </tr>\n",
       "    <tr>\n",
       "      <th>12</th>\n",
       "      <td>0.000</td>\n",
       "      <td>1.000</td>\n",
       "      <td>0.000</td>\n",
       "      <td>0.0000</td>\n",
       "    </tr>\n",
       "    <tr>\n",
       "      <th>13</th>\n",
       "      <td>0.122</td>\n",
       "      <td>0.820</td>\n",
       "      <td>0.059</td>\n",
       "      <td>-0.4005</td>\n",
       "    </tr>\n",
       "    <tr>\n",
       "      <th>14</th>\n",
       "      <td>0.054</td>\n",
       "      <td>0.722</td>\n",
       "      <td>0.224</td>\n",
       "      <td>0.9201</td>\n",
       "    </tr>\n",
       "    <tr>\n",
       "      <th>15</th>\n",
       "      <td>0.000</td>\n",
       "      <td>0.685</td>\n",
       "      <td>0.315</td>\n",
       "      <td>0.3182</td>\n",
       "    </tr>\n",
       "    <tr>\n",
       "      <th>16</th>\n",
       "      <td>0.000</td>\n",
       "      <td>0.196</td>\n",
       "      <td>0.804</td>\n",
       "      <td>0.6249</td>\n",
       "    </tr>\n",
       "    <tr>\n",
       "      <th>17</th>\n",
       "      <td>0.000</td>\n",
       "      <td>1.000</td>\n",
       "      <td>0.000</td>\n",
       "      <td>0.0000</td>\n",
       "    </tr>\n",
       "    <tr>\n",
       "      <th>18</th>\n",
       "      <td>0.177</td>\n",
       "      <td>0.631</td>\n",
       "      <td>0.192</td>\n",
       "      <td>-0.1858</td>\n",
       "    </tr>\n",
       "    <tr>\n",
       "      <th>19</th>\n",
       "      <td>0.000</td>\n",
       "      <td>1.000</td>\n",
       "      <td>0.000</td>\n",
       "      <td>0.0000</td>\n",
       "    </tr>\n",
       "    <tr>\n",
       "      <th>20</th>\n",
       "      <td>0.506</td>\n",
       "      <td>0.494</td>\n",
       "      <td>0.000</td>\n",
       "      <td>-0.6249</td>\n",
       "    </tr>\n",
       "    <tr>\n",
       "      <th>21</th>\n",
       "      <td>0.000</td>\n",
       "      <td>0.609</td>\n",
       "      <td>0.391</td>\n",
       "      <td>0.5927</td>\n",
       "    </tr>\n",
       "    <tr>\n",
       "      <th>22</th>\n",
       "      <td>0.000</td>\n",
       "      <td>1.000</td>\n",
       "      <td>0.000</td>\n",
       "      <td>0.0000</td>\n",
       "    </tr>\n",
       "    <tr>\n",
       "      <th>23</th>\n",
       "      <td>0.000</td>\n",
       "      <td>1.000</td>\n",
       "      <td>0.000</td>\n",
       "      <td>0.0000</td>\n",
       "    </tr>\n",
       "    <tr>\n",
       "      <th>24</th>\n",
       "      <td>0.771</td>\n",
       "      <td>0.229</td>\n",
       "      <td>0.000</td>\n",
       "      <td>-0.8779</td>\n",
       "    </tr>\n",
       "    <tr>\n",
       "      <th>25</th>\n",
       "      <td>0.804</td>\n",
       "      <td>0.196</td>\n",
       "      <td>0.000</td>\n",
       "      <td>-0.6249</td>\n",
       "    </tr>\n",
       "    <tr>\n",
       "      <th>26</th>\n",
       "      <td>0.000</td>\n",
       "      <td>0.000</td>\n",
       "      <td>1.000</td>\n",
       "      <td>0.4404</td>\n",
       "    </tr>\n",
       "    <tr>\n",
       "      <th>27</th>\n",
       "      <td>0.000</td>\n",
       "      <td>0.288</td>\n",
       "      <td>0.712</td>\n",
       "      <td>0.8126</td>\n",
       "    </tr>\n",
       "    <tr>\n",
       "      <th>28</th>\n",
       "      <td>0.000</td>\n",
       "      <td>0.608</td>\n",
       "      <td>0.392</td>\n",
       "      <td>0.6997</td>\n",
       "    </tr>\n",
       "    <tr>\n",
       "      <th>29</th>\n",
       "      <td>0.192</td>\n",
       "      <td>0.748</td>\n",
       "      <td>0.061</td>\n",
       "      <td>-0.5864</td>\n",
       "    </tr>\n",
       "    <tr>\n",
       "      <th>30</th>\n",
       "      <td>0.000</td>\n",
       "      <td>0.323</td>\n",
       "      <td>0.677</td>\n",
       "      <td>0.6369</td>\n",
       "    </tr>\n",
       "    <tr>\n",
       "      <th>31</th>\n",
       "      <td>0.000</td>\n",
       "      <td>0.588</td>\n",
       "      <td>0.412</td>\n",
       "      <td>0.6369</td>\n",
       "    </tr>\n",
       "    <tr>\n",
       "      <th>32</th>\n",
       "      <td>0.000</td>\n",
       "      <td>0.444</td>\n",
       "      <td>0.556</td>\n",
       "      <td>0.3612</td>\n",
       "    </tr>\n",
       "    <tr>\n",
       "      <th>33</th>\n",
       "      <td>0.000</td>\n",
       "      <td>0.333</td>\n",
       "      <td>0.667</td>\n",
       "      <td>0.9518</td>\n",
       "    </tr>\n",
       "    <tr>\n",
       "      <th>34</th>\n",
       "      <td>0.543</td>\n",
       "      <td>0.457</td>\n",
       "      <td>0.000</td>\n",
       "      <td>-0.8591</td>\n",
       "    </tr>\n",
       "    <tr>\n",
       "      <th>35</th>\n",
       "      <td>0.000</td>\n",
       "      <td>1.000</td>\n",
       "      <td>0.000</td>\n",
       "      <td>0.0000</td>\n",
       "    </tr>\n",
       "    <tr>\n",
       "      <th>36</th>\n",
       "      <td>0.000</td>\n",
       "      <td>0.580</td>\n",
       "      <td>0.420</td>\n",
       "      <td>0.4404</td>\n",
       "    </tr>\n",
       "    <tr>\n",
       "      <th>37</th>\n",
       "      <td>0.310</td>\n",
       "      <td>0.500</td>\n",
       "      <td>0.190</td>\n",
       "      <td>-0.2960</td>\n",
       "    </tr>\n",
       "    <tr>\n",
       "      <th>38</th>\n",
       "      <td>0.000</td>\n",
       "      <td>1.000</td>\n",
       "      <td>0.000</td>\n",
       "      <td>0.0000</td>\n",
       "    </tr>\n",
       "    <tr>\n",
       "      <th>39</th>\n",
       "      <td>0.000</td>\n",
       "      <td>0.238</td>\n",
       "      <td>0.762</td>\n",
       "      <td>0.4939</td>\n",
       "    </tr>\n",
       "    <tr>\n",
       "      <th>40</th>\n",
       "      <td>0.000</td>\n",
       "      <td>0.753</td>\n",
       "      <td>0.247</td>\n",
       "      <td>0.5574</td>\n",
       "    </tr>\n",
       "    <tr>\n",
       "      <th>41</th>\n",
       "      <td>0.000</td>\n",
       "      <td>0.771</td>\n",
       "      <td>0.229</td>\n",
       "      <td>0.8402</td>\n",
       "    </tr>\n",
       "    <tr>\n",
       "      <th>42</th>\n",
       "      <td>0.345</td>\n",
       "      <td>0.655</td>\n",
       "      <td>0.000</td>\n",
       "      <td>-0.8566</td>\n",
       "    </tr>\n",
       "    <tr>\n",
       "      <th>43</th>\n",
       "      <td>0.000</td>\n",
       "      <td>0.435</td>\n",
       "      <td>0.565</td>\n",
       "      <td>0.8858</td>\n",
       "    </tr>\n",
       "    <tr>\n",
       "      <th>44</th>\n",
       "      <td>0.000</td>\n",
       "      <td>0.978</td>\n",
       "      <td>0.022</td>\n",
       "      <td>0.1154</td>\n",
       "    </tr>\n",
       "    <tr>\n",
       "      <th>45</th>\n",
       "      <td>0.000</td>\n",
       "      <td>0.732</td>\n",
       "      <td>0.268</td>\n",
       "      <td>0.9255</td>\n",
       "    </tr>\n",
       "    <tr>\n",
       "      <th>46</th>\n",
       "      <td>0.000</td>\n",
       "      <td>0.000</td>\n",
       "      <td>0.000</td>\n",
       "      <td>0.0000</td>\n",
       "    </tr>\n",
       "    <tr>\n",
       "      <th>47</th>\n",
       "      <td>0.000</td>\n",
       "      <td>0.408</td>\n",
       "      <td>0.592</td>\n",
       "      <td>0.4404</td>\n",
       "    </tr>\n",
       "    <tr>\n",
       "      <th>48</th>\n",
       "      <td>0.048</td>\n",
       "      <td>0.732</td>\n",
       "      <td>0.220</td>\n",
       "      <td>0.7777</td>\n",
       "    </tr>\n",
       "    <tr>\n",
       "      <th>49</th>\n",
       "      <td>0.000</td>\n",
       "      <td>0.707</td>\n",
       "      <td>0.293</td>\n",
       "      <td>0.9184</td>\n",
       "    </tr>\n",
       "  </tbody>\n",
       "</table>\n",
       "</div>"
      ],
      "text/plain": [
       "      neg    neu    pos  compound\n",
       "0   0.000  0.523  0.477    0.8074\n",
       "1   0.000  1.000  0.000    0.0000\n",
       "2   0.079  0.921  0.000   -0.0516\n",
       "3   0.000  0.000  1.000    0.6249\n",
       "4   0.437  0.563  0.000   -0.4767\n",
       "5   0.226  0.774  0.000   -0.1901\n",
       "6   0.028  0.950  0.022    0.0772\n",
       "7   0.000  0.196  0.804    0.6249\n",
       "8   0.655  0.345  0.000   -0.7650\n",
       "9   0.000  0.540  0.460    0.7703\n",
       "10  0.158  0.690  0.153   -0.0258\n",
       "11  0.222  0.684  0.094   -0.8411\n",
       "12  0.000  1.000  0.000    0.0000\n",
       "13  0.122  0.820  0.059   -0.4005\n",
       "14  0.054  0.722  0.224    0.9201\n",
       "15  0.000  0.685  0.315    0.3182\n",
       "16  0.000  0.196  0.804    0.6249\n",
       "17  0.000  1.000  0.000    0.0000\n",
       "18  0.177  0.631  0.192   -0.1858\n",
       "19  0.000  1.000  0.000    0.0000\n",
       "20  0.506  0.494  0.000   -0.6249\n",
       "21  0.000  0.609  0.391    0.5927\n",
       "22  0.000  1.000  0.000    0.0000\n",
       "23  0.000  1.000  0.000    0.0000\n",
       "24  0.771  0.229  0.000   -0.8779\n",
       "25  0.804  0.196  0.000   -0.6249\n",
       "26  0.000  0.000  1.000    0.4404\n",
       "27  0.000  0.288  0.712    0.8126\n",
       "28  0.000  0.608  0.392    0.6997\n",
       "29  0.192  0.748  0.061   -0.5864\n",
       "30  0.000  0.323  0.677    0.6369\n",
       "31  0.000  0.588  0.412    0.6369\n",
       "32  0.000  0.444  0.556    0.3612\n",
       "33  0.000  0.333  0.667    0.9518\n",
       "34  0.543  0.457  0.000   -0.8591\n",
       "35  0.000  1.000  0.000    0.0000\n",
       "36  0.000  0.580  0.420    0.4404\n",
       "37  0.310  0.500  0.190   -0.2960\n",
       "38  0.000  1.000  0.000    0.0000\n",
       "39  0.000  0.238  0.762    0.4939\n",
       "40  0.000  0.753  0.247    0.5574\n",
       "41  0.000  0.771  0.229    0.8402\n",
       "42  0.345  0.655  0.000   -0.8566\n",
       "43  0.000  0.435  0.565    0.8858\n",
       "44  0.000  0.978  0.022    0.1154\n",
       "45  0.000  0.732  0.268    0.9255\n",
       "46  0.000  0.000  0.000    0.0000\n",
       "47  0.000  0.408  0.592    0.4404\n",
       "48  0.048  0.732  0.220    0.7777\n",
       "49  0.000  0.707  0.293    0.9184"
      ]
     },
     "execution_count": 38,
     "metadata": {},
     "output_type": "execute_result"
    }
   ],
   "source": [
    "vader_results_df"
   ]
  },
  {
   "cell_type": "markdown",
   "id": "4a7bc065",
   "metadata": {},
   "source": [
    "now that I know what the results look like I am going ot put everything in a dataframe so that it it easier to follow for others"
   ]
  },
  {
   "cell_type": "code",
   "execution_count": null,
   "id": "a17309b5",
   "metadata": {},
   "outputs": [],
   "source": []
  },
  {
   "cell_type": "code",
   "execution_count": 33,
   "id": "772ba17c",
   "metadata": {},
   "outputs": [
    {
     "data": {
      "text/plain": [
       "\"vader_results_df = pd.DataFrame(columns=['negative','neutral','positive','compound'])\\nfor i, row in vader_df.iterrows():\\n    review = row['caption']\\n    scores = sia.polarity_scores(review)\\n    vader_results_df = vader_results_df.append(scores)\""
      ]
     },
     "execution_count": 33,
     "metadata": {},
     "output_type": "execute_result"
    }
   ],
   "source": [
    "# ignore awnser done above\n",
    "# code isn't workign so we are just converthing dictionary to dataframe. \n",
    "# I think it's cause I started the dataframe with teh discored shape\n",
    "# will debug or rewrite if dealing with dictionary to df is a problem\n",
    "\n",
    "'''vader_results_df = pd.DataFrame(columns=['negative','neutral','positive','compound'])\n",
    "for i, row in vader_df.iterrows():\n",
    "    review = row['caption']\n",
    "    scores = sia.polarity_scores(review)\n",
    "    vader_results_df = vader_results_df.append(scores)'''"
   ]
  },
  {
   "cell_type": "markdown",
   "id": "3108fa18",
   "metadata": {},
   "source": [
    "## function and function test"
   ]
  },
  {
   "cell_type": "code",
   "execution_count": null,
   "id": "e70703ee",
   "metadata": {},
   "outputs": [],
   "source": [
    "from nltk.sentiment import SentimentIntensityAnalyzer\n",
    "\n",
    "def vader_sentiment_analysis(df):\n",
    "    '''\n",
    "    Takes in a dataframe with 2 columns named:\n",
    "    camis, reviews_sw\n",
    "    \n",
    "    reviews_sw = block of text minus stop words \n",
    "    \n",
    "    returns a dataframe of five collums:\n",
    "    camis, neg, neu, pos, compound\n",
    "    '''\n",
    "    \n",
    "    sia = SentimentIntensityAnalyzer()\n",
    "    vader_results = {}\n",
    "    \n",
    "    for i, row in df.iterrows():\n",
    "        review = row['reviews_sw']\n",
    "        index_id = i\n",
    "        vader_results[index_id] = sia.polarity_scores(review)\n",
    "\n",
    "        # Transposes vader results so that data is the long way.\n",
    "        vader_results_df = pd.DataFrame(vader_results).T\n",
    "        \n",
    "    return vader_results_df\n",
    "    "
   ]
  },
  {
   "cell_type": "code",
   "execution_count": 44,
   "id": "29872622",
   "metadata": {},
   "outputs": [],
   "source": [
    "function_test_df = pd.read_csv('scraper_gmaps/data/newest_gm_reviews.csv')\n",
    "function_test_df = df[['caption', 'rating']]\n",
    "function_test_df.rename(columns={'caption': 'reviews_sw'}, inplace=True)\n",
    "function_test_df = function_test_df.head(100)"
   ]
  },
  {
   "cell_type": "code",
   "execution_count": 45,
   "id": "e04a467c",
   "metadata": {},
   "outputs": [],
   "source": [
    "output_function_test_df = vader_sentiment_analysis(function_test_df)"
   ]
  },
  {
   "cell_type": "code",
   "execution_count": 46,
   "id": "18d8349a",
   "metadata": {},
   "outputs": [
    {
     "data": {
      "text/html": [
       "<div>\n",
       "<style scoped>\n",
       "    .dataframe tbody tr th:only-of-type {\n",
       "        vertical-align: middle;\n",
       "    }\n",
       "\n",
       "    .dataframe tbody tr th {\n",
       "        vertical-align: top;\n",
       "    }\n",
       "\n",
       "    .dataframe thead th {\n",
       "        text-align: right;\n",
       "    }\n",
       "</style>\n",
       "<table border=\"1\" class=\"dataframe\">\n",
       "  <thead>\n",
       "    <tr style=\"text-align: right;\">\n",
       "      <th></th>\n",
       "      <th>neg</th>\n",
       "      <th>neu</th>\n",
       "      <th>pos</th>\n",
       "      <th>compound</th>\n",
       "    </tr>\n",
       "  </thead>\n",
       "  <tbody>\n",
       "    <tr>\n",
       "      <th>2</th>\n",
       "      <td>0.000</td>\n",
       "      <td>0.523</td>\n",
       "      <td>0.477</td>\n",
       "      <td>0.8074</td>\n",
       "    </tr>\n",
       "    <tr>\n",
       "      <th>4</th>\n",
       "      <td>0.000</td>\n",
       "      <td>1.000</td>\n",
       "      <td>0.000</td>\n",
       "      <td>0.0000</td>\n",
       "    </tr>\n",
       "    <tr>\n",
       "      <th>5</th>\n",
       "      <td>0.079</td>\n",
       "      <td>0.921</td>\n",
       "      <td>0.000</td>\n",
       "      <td>-0.0516</td>\n",
       "    </tr>\n",
       "    <tr>\n",
       "      <th>6</th>\n",
       "      <td>0.000</td>\n",
       "      <td>0.000</td>\n",
       "      <td>1.000</td>\n",
       "      <td>0.6249</td>\n",
       "    </tr>\n",
       "    <tr>\n",
       "      <th>7</th>\n",
       "      <td>0.437</td>\n",
       "      <td>0.563</td>\n",
       "      <td>0.000</td>\n",
       "      <td>-0.4767</td>\n",
       "    </tr>\n",
       "    <tr>\n",
       "      <th>...</th>\n",
       "      <td>...</td>\n",
       "      <td>...</td>\n",
       "      <td>...</td>\n",
       "      <td>...</td>\n",
       "    </tr>\n",
       "    <tr>\n",
       "      <th>174</th>\n",
       "      <td>0.000</td>\n",
       "      <td>0.566</td>\n",
       "      <td>0.434</td>\n",
       "      <td>0.7482</td>\n",
       "    </tr>\n",
       "    <tr>\n",
       "      <th>175</th>\n",
       "      <td>0.000</td>\n",
       "      <td>0.655</td>\n",
       "      <td>0.345</td>\n",
       "      <td>0.5789</td>\n",
       "    </tr>\n",
       "    <tr>\n",
       "      <th>177</th>\n",
       "      <td>0.136</td>\n",
       "      <td>0.864</td>\n",
       "      <td>0.000</td>\n",
       "      <td>-0.2960</td>\n",
       "    </tr>\n",
       "    <tr>\n",
       "      <th>178</th>\n",
       "      <td>0.000</td>\n",
       "      <td>0.815</td>\n",
       "      <td>0.185</td>\n",
       "      <td>0.7096</td>\n",
       "    </tr>\n",
       "    <tr>\n",
       "      <th>180</th>\n",
       "      <td>0.000</td>\n",
       "      <td>0.323</td>\n",
       "      <td>0.677</td>\n",
       "      <td>0.6369</td>\n",
       "    </tr>\n",
       "  </tbody>\n",
       "</table>\n",
       "<p>100 rows × 4 columns</p>\n",
       "</div>"
      ],
      "text/plain": [
       "       neg    neu    pos  compound\n",
       "2    0.000  0.523  0.477    0.8074\n",
       "4    0.000  1.000  0.000    0.0000\n",
       "5    0.079  0.921  0.000   -0.0516\n",
       "6    0.000  0.000  1.000    0.6249\n",
       "7    0.437  0.563  0.000   -0.4767\n",
       "..     ...    ...    ...       ...\n",
       "174  0.000  0.566  0.434    0.7482\n",
       "175  0.000  0.655  0.345    0.5789\n",
       "177  0.136  0.864  0.000   -0.2960\n",
       "178  0.000  0.815  0.185    0.7096\n",
       "180  0.000  0.323  0.677    0.6369\n",
       "\n",
       "[100 rows x 4 columns]"
      ]
     },
     "execution_count": 46,
     "metadata": {},
     "output_type": "execute_result"
    }
   ],
   "source": [
    "output_function_test_df"
   ]
  }
 ],
 "metadata": {
  "kernelspec": {
   "display_name": "Python 3 (ipykernel)",
   "language": "python",
   "name": "python3"
  },
  "language_info": {
   "codemirror_mode": {
    "name": "ipython",
    "version": 3
   },
   "file_extension": ".py",
   "mimetype": "text/x-python",
   "name": "python",
   "nbconvert_exporter": "python",
   "pygments_lexer": "ipython3",
   "version": "3.10.9"
  }
 },
 "nbformat": 4,
 "nbformat_minor": 5
}
