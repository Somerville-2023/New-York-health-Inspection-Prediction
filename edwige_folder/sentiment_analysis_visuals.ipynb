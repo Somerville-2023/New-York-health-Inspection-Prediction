{
 "cells": [
  {
   "cell_type": "code",
   "execution_count": 15,
   "id": "ea590591",
   "metadata": {},
   "outputs": [],
   "source": [
    "import pandas as pd\n",
    "import numpy as np\n",
    "import matplotlib.pyplot as plt\n",
    "import seaborn as sns\n"
   ]
  },
  {
   "cell_type": "code",
   "execution_count": 6,
   "id": "7c4fbcab",
   "metadata": {},
   "outputs": [],
   "source": [
    "df = pd.read_csv('ny_reviews_sentiment_ratings.csv')"
   ]
  },
  {
   "cell_type": "code",
   "execution_count": null,
   "id": "e64dfa4b",
   "metadata": {},
   "outputs": [],
   "source": []
  },
  {
   "cell_type": "code",
   "execution_count": null,
   "id": "06667841",
   "metadata": {},
   "outputs": [],
   "source": []
  },
  {
   "cell_type": "code",
   "execution_count": 7,
   "id": "34db9306",
   "metadata": {
    "scrolled": true
   },
   "outputs": [
    {
     "data": {
      "text/html": [
       "<div>\n",
       "<style scoped>\n",
       "    .dataframe tbody tr th:only-of-type {\n",
       "        vertical-align: middle;\n",
       "    }\n",
       "\n",
       "    .dataframe tbody tr th {\n",
       "        vertical-align: top;\n",
       "    }\n",
       "\n",
       "    .dataframe thead th {\n",
       "        text-align: right;\n",
       "    }\n",
       "</style>\n",
       "<table border=\"1\" class=\"dataframe\">\n",
       "  <thead>\n",
       "    <tr style=\"text-align: right;\">\n",
       "      <th></th>\n",
       "      <th>camis</th>\n",
       "      <th>dba</th>\n",
       "      <th>boro</th>\n",
       "      <th>phone</th>\n",
       "      <th>inspection_date</th>\n",
       "      <th>latitude</th>\n",
       "      <th>longitude</th>\n",
       "      <th>cuisine_description</th>\n",
       "      <th>action</th>\n",
       "      <th>score</th>\n",
       "      <th>...</th>\n",
       "      <th>avg_service</th>\n",
       "      <th>avg_atmosphere</th>\n",
       "      <th>avg_food</th>\n",
       "      <th>avg_price</th>\n",
       "      <th>reviews_sw</th>\n",
       "      <th>reviews</th>\n",
       "      <th>neg</th>\n",
       "      <th>neu</th>\n",
       "      <th>pos</th>\n",
       "      <th>compound</th>\n",
       "    </tr>\n",
       "  </thead>\n",
       "  <tbody>\n",
       "    <tr>\n",
       "      <th>0</th>\n",
       "      <td>40364439</td>\n",
       "      <td>SEVILLA RESTAURANT</td>\n",
       "      <td>Manhattan</td>\n",
       "      <td>2129293189</td>\n",
       "      <td>2021-08-04</td>\n",
       "      <td>40.734908</td>\n",
       "      <td>-74.002973</td>\n",
       "      <td>Latin American</td>\n",
       "      <td>Violations cited</td>\n",
       "      <td>27</td>\n",
       "      <td>...</td>\n",
       "      <td>5.000000</td>\n",
       "      <td>5.000000</td>\n",
       "      <td>5.0</td>\n",
       "      <td>60.612245</td>\n",
       "      <td>Horrible food slow service. Seafood paella tas...</td>\n",
       "      <td>horrible food slow service seafood paella tast...</td>\n",
       "      <td>0.084</td>\n",
       "      <td>0.673</td>\n",
       "      <td>0.244</td>\n",
       "      <td>0.9975</td>\n",
       "    </tr>\n",
       "    <tr>\n",
       "      <th>1</th>\n",
       "      <td>40364439</td>\n",
       "      <td>SEVILLA RESTAURANT</td>\n",
       "      <td>Manhattan</td>\n",
       "      <td>2129293189</td>\n",
       "      <td>2022-05-18</td>\n",
       "      <td>40.734908</td>\n",
       "      <td>-74.002973</td>\n",
       "      <td>Latin American</td>\n",
       "      <td>Violations cited</td>\n",
       "      <td>19</td>\n",
       "      <td>...</td>\n",
       "      <td>5.000000</td>\n",
       "      <td>5.000000</td>\n",
       "      <td>5.0</td>\n",
       "      <td>60.612245</td>\n",
       "      <td>Superb! I haven’t good paella since moving bac...</td>\n",
       "      <td>superb havent good paella since moving back ny...</td>\n",
       "      <td>0.041</td>\n",
       "      <td>0.630</td>\n",
       "      <td>0.330</td>\n",
       "      <td>0.9998</td>\n",
       "    </tr>\n",
       "    <tr>\n",
       "      <th>2</th>\n",
       "      <td>40364439</td>\n",
       "      <td>SEVILLA RESTAURANT</td>\n",
       "      <td>Manhattan</td>\n",
       "      <td>2129293189</td>\n",
       "      <td>2023-05-17</td>\n",
       "      <td>40.734908</td>\n",
       "      <td>-74.002973</td>\n",
       "      <td>Latin American</td>\n",
       "      <td>Violations cited</td>\n",
       "      <td>12</td>\n",
       "      <td>...</td>\n",
       "      <td>5.000000</td>\n",
       "      <td>5.000000</td>\n",
       "      <td>5.0</td>\n",
       "      <td>60.612245</td>\n",
       "      <td>Gem océano nyc. Spanish dishes old school span...</td>\n",
       "      <td>gem ocano nyc spanish dish old school spanish ...</td>\n",
       "      <td>0.055</td>\n",
       "      <td>0.581</td>\n",
       "      <td>0.365</td>\n",
       "      <td>1.0000</td>\n",
       "    </tr>\n",
       "    <tr>\n",
       "      <th>3</th>\n",
       "      <td>40365904</td>\n",
       "      <td>MEE SUM CAFE</td>\n",
       "      <td>Manhattan</td>\n",
       "      <td>2123495260</td>\n",
       "      <td>2021-10-13</td>\n",
       "      <td>40.714861</td>\n",
       "      <td>-73.998200</td>\n",
       "      <td>Coffee/Tea</td>\n",
       "      <td>Violations cited</td>\n",
       "      <td>67</td>\n",
       "      <td>...</td>\n",
       "      <td>4.333333</td>\n",
       "      <td>4.333333</td>\n",
       "      <td>4.5</td>\n",
       "      <td>17.692308</td>\n",
       "      <td>Very authentic place. To point I needed lots h...</td>\n",
       "      <td>authentic place point needed lot help managed ...</td>\n",
       "      <td>0.060</td>\n",
       "      <td>0.688</td>\n",
       "      <td>0.252</td>\n",
       "      <td>0.7717</td>\n",
       "    </tr>\n",
       "    <tr>\n",
       "      <th>4</th>\n",
       "      <td>40365904</td>\n",
       "      <td>MEE SUM CAFE</td>\n",
       "      <td>Manhattan</td>\n",
       "      <td>2123495260</td>\n",
       "      <td>2021-11-24</td>\n",
       "      <td>40.714861</td>\n",
       "      <td>-73.998200</td>\n",
       "      <td>Coffee/Tea</td>\n",
       "      <td>Violations cited</td>\n",
       "      <td>24</td>\n",
       "      <td>...</td>\n",
       "      <td>4.333333</td>\n",
       "      <td>4.333333</td>\n",
       "      <td>4.5</td>\n",
       "      <td>17.692308</td>\n",
       "      <td>Really great classic Chinese comfort food. Gre...</td>\n",
       "      <td>really great classic chinese comfort food grea...</td>\n",
       "      <td>0.000</td>\n",
       "      <td>0.537</td>\n",
       "      <td>0.463</td>\n",
       "      <td>0.9468</td>\n",
       "    </tr>\n",
       "  </tbody>\n",
       "</table>\n",
       "<p>5 rows × 25 columns</p>\n",
       "</div>"
      ],
      "text/plain": [
       "      camis                 dba       boro       phone inspection_date  \\\n",
       "0  40364439  SEVILLA RESTAURANT  Manhattan  2129293189      2021-08-04   \n",
       "1  40364439  SEVILLA RESTAURANT  Manhattan  2129293189      2022-05-18   \n",
       "2  40364439  SEVILLA RESTAURANT  Manhattan  2129293189      2023-05-17   \n",
       "3  40365904        MEE SUM CAFE  Manhattan  2123495260      2021-10-13   \n",
       "4  40365904        MEE SUM CAFE  Manhattan  2123495260      2021-11-24   \n",
       "\n",
       "    latitude  longitude cuisine_description            action  score  ...  \\\n",
       "0  40.734908 -74.002973      Latin American  Violations cited     27  ...   \n",
       "1  40.734908 -74.002973      Latin American  Violations cited     19  ...   \n",
       "2  40.734908 -74.002973      Latin American  Violations cited     12  ...   \n",
       "3  40.714861 -73.998200          Coffee/Tea  Violations cited     67  ...   \n",
       "4  40.714861 -73.998200          Coffee/Tea  Violations cited     24  ...   \n",
       "\n",
       "  avg_service avg_atmosphere avg_food  avg_price  \\\n",
       "0    5.000000       5.000000      5.0  60.612245   \n",
       "1    5.000000       5.000000      5.0  60.612245   \n",
       "2    5.000000       5.000000      5.0  60.612245   \n",
       "3    4.333333       4.333333      4.5  17.692308   \n",
       "4    4.333333       4.333333      4.5  17.692308   \n",
       "\n",
       "                                          reviews_sw  \\\n",
       "0  Horrible food slow service. Seafood paella tas...   \n",
       "1  Superb! I haven’t good paella since moving bac...   \n",
       "2  Gem océano nyc. Spanish dishes old school span...   \n",
       "3  Very authentic place. To point I needed lots h...   \n",
       "4  Really great classic Chinese comfort food. Gre...   \n",
       "\n",
       "                                             reviews    neg    neu    pos  \\\n",
       "0  horrible food slow service seafood paella tast...  0.084  0.673  0.244   \n",
       "1  superb havent good paella since moving back ny...  0.041  0.630  0.330   \n",
       "2  gem ocano nyc spanish dish old school spanish ...  0.055  0.581  0.365   \n",
       "3  authentic place point needed lot help managed ...  0.060  0.688  0.252   \n",
       "4  really great classic chinese comfort food grea...  0.000  0.537  0.463   \n",
       "\n",
       "  compound  \n",
       "0   0.9975  \n",
       "1   0.9998  \n",
       "2   1.0000  \n",
       "3   0.7717  \n",
       "4   0.9468  \n",
       "\n",
       "[5 rows x 25 columns]"
      ]
     },
     "execution_count": 7,
     "metadata": {},
     "output_type": "execute_result"
    }
   ],
   "source": [
    "df.head()"
   ]
  },
  {
   "cell_type": "code",
   "execution_count": 10,
   "id": "066807e1",
   "metadata": {},
   "outputs": [
    {
     "data": {
      "text/plain": [
       "-0.9992"
      ]
     },
     "execution_count": 10,
     "metadata": {},
     "output_type": "execute_result"
    }
   ],
   "source": [
    "df.compound.min()"
   ]
  },
  {
   "cell_type": "code",
   "execution_count": 11,
   "id": "296aa666",
   "metadata": {},
   "outputs": [
    {
     "data": {
      "text/plain": [
       "1.0"
      ]
     },
     "execution_count": 11,
     "metadata": {},
     "output_type": "execute_result"
    }
   ],
   "source": [
    "df.compound.max()"
   ]
  },
  {
   "cell_type": "code",
   "execution_count": 13,
   "id": "c70a8b57",
   "metadata": {},
   "outputs": [
    {
     "data": {
      "text/plain": [
       "compound\n",
       " 0.9999    263\n",
       " 0.9998    182\n",
       " 1.0000    174\n",
       " 0.9997    148\n",
       " 0.9996     96\n",
       "          ... \n",
       "-0.1531      1\n",
       " 0.8237      1\n",
       " 0.9081      1\n",
       " 0.8012      1\n",
       " 0.2500      1\n",
       "Name: count, Length: 656, dtype: int64"
      ]
     },
     "execution_count": 13,
     "metadata": {},
     "output_type": "execute_result"
    }
   ],
   "source": [
    "df.compound.value_counts()"
   ]
  },
  {
   "cell_type": "code",
   "execution_count": 18,
   "id": "20d885c5",
   "metadata": {},
   "outputs": [],
   "source": [
    "# Assuming 'compound' is the column containing compound scores and 'boro' is the column containing borough information\n",
    "avg_compound_by_boro = df.groupby('boro')['compound'].mean().reset_index()\n",
    "avg_compound_by_boro = avg_compound_by_boro.sort_values(by='compound', ascending=False)"
   ]
  },
  {
   "cell_type": "code",
   "execution_count": 31,
   "id": "29cb936a",
   "metadata": {},
   "outputs": [
    {
     "data": {
      "image/png": "[encoded data removed]",
      "text/plain": [
       "<Figure size 640x480 with 1 Axes>"
      ]
     },
     "metadata": {},
     "output_type": "display_data"
    }
   ],
   "source": [
    "# Create a bar chart or histogram\n",
    "# plt.figure(figsize=(10, 6))\n",
    "plt.bar(avg_compound_by_boro['boro'], avg_compound_by_boro['compound'])\n",
    "plt.xlabel('Borough')\n",
    "plt.ylabel('Average Sentiment Score')\n",
    "plt.title('Average Sentiment Score by Borough')\n",
    "plt.xticks(rotation=45)  # Rotate x-axis labels for better readability if needed\n",
    "plt.tight_layout()\n",
    "\n",
    "# Show the chart\n",
    "plt.savefig('Average Sentiment Score by Borough.png', transparent=True)\n",
    "plt.show()\n"
   ]
  },
  {
   "cell_type": "code",
   "execution_count": 29,
   "id": "cfb52015",
   "metadata": {},
   "outputs": [
    {
     "data": {
      "image/png": "[encoded data removed]",
      "text/plain": [
       "<Figure size 1000x600 with 1 Axes>"
      ]
     },
     "metadata": {},
     "output_type": "display_data"
    }
   ],
   "source": [
    "\n",
    "compound_scores = df['compound']\n",
    "\n",
    "# Create a histogram with specified bins\n",
    "plt.figure(figsize=(10, 6))\n",
    "plt.hist(compound_scores, bins=20, edgecolor='black')  # Adjust the number of bins as needed\n",
    "plt.xlabel('Aggregated Score Range')\n",
    "plt.ylabel('Frequency')\n",
    "plt.title('Distribution of Aggregated Sentiment Scores')\n",
    "plt.tight_layout()\n",
    "\n",
    "# Show the chart\n",
    "plt.show()"
   ]
  }
 ],
 "metadata": {
  "kernelspec": {
   "display_name": "Python 3 (ipykernel)",
   "language": "python",
   "name": "python3"
  },
  "language_info": {
   "codemirror_mode": {
    "name": "ipython",
    "version": 3
   },
   "file_extension": ".py",
   "mimetype": "text/x-python",
   "name": "python",
   "nbconvert_exporter": "python",
   "pygments_lexer": "ipython3",
   "version": "3.10.13"
  }
 },
 "nbformat": 4,
 "nbformat_minor": 5
}
