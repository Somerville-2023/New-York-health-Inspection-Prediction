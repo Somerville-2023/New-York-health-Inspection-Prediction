{
 "cells": [
  {
   "cell_type": "code",
   "execution_count": 1,
   "metadata": {},
   "outputs": [],
   "source": [
    "import pandas as pd\n",
    "\n",
    "# ny.to_csv('final_ny.csv')"
   ]
  },
  {
   "cell_type": "code",
   "execution_count": 2,
   "metadata": {},
   "outputs": [],
   "source": [
    "reviews = pd.read_csv('reviews.csv')"
   ]
  },
  {
   "cell_type": "code",
   "execution_count": 8,
   "metadata": {},
   "outputs": [],
   "source": [
    "ny = pd.read_csv('final_ny.csv', index_col=0)"
   ]
  },
  {
   "cell_type": "code",
   "execution_count": 9,
   "metadata": {},
   "outputs": [
    {
     "data": {
      "text/html": [
       "<div>\n",
       "<style scoped>\n",
       "    .dataframe tbody tr th:only-of-type {\n",
       "        vertical-align: middle;\n",
       "    }\n",
       "\n",
       "    .dataframe tbody tr th {\n",
       "        vertical-align: top;\n",
       "    }\n",
       "\n",
       "    .dataframe thead th {\n",
       "        text-align: right;\n",
       "    }\n",
       "</style>\n",
       "<table border=\"1\" class=\"dataframe\">\n",
       "  <thead>\n",
       "    <tr style=\"text-align: right;\">\n",
       "      <th></th>\n",
       "      <th>camis</th>\n",
       "      <th>publish_time</th>\n",
       "      <th>review_text</th>\n",
       "      <th>review_rating</th>\n",
       "    </tr>\n",
       "  </thead>\n",
       "  <tbody>\n",
       "    <tr>\n",
       "      <th>0</th>\n",
       "      <td>41375676</td>\n",
       "      <td>2023-11-01 02:44:04.226505</td>\n",
       "      <td>NaN</td>\n",
       "      <td>5</td>\n",
       "    </tr>\n",
       "    <tr>\n",
       "      <th>1</th>\n",
       "      <td>41375676</td>\n",
       "      <td>2023-11-01 02:44:04.227451</td>\n",
       "      <td>NaN</td>\n",
       "      <td>5</td>\n",
       "    </tr>\n",
       "  </tbody>\n",
       "</table>\n",
       "</div>"
      ],
      "text/plain": [
       "      camis                publish_time review_text  review_rating\n",
       "0  41375676  2023-11-01 02:44:04.226505         NaN              5\n",
       "1  41375676  2023-11-01 02:44:04.227451         NaN              5"
      ]
     },
     "execution_count": 9,
     "metadata": {},
     "output_type": "execute_result"
    }
   ],
   "source": [
    "reviews.head(2)"
   ]
  },
  {
   "cell_type": "code",
   "execution_count": 5,
   "metadata": {},
   "outputs": [
    {
     "data": {
      "text/html": [
       "<div>\n",
       "<style scoped>\n",
       "    .dataframe tbody tr th:only-of-type {\n",
       "        vertical-align: middle;\n",
       "    }\n",
       "\n",
       "    .dataframe tbody tr th {\n",
       "        vertical-align: top;\n",
       "    }\n",
       "\n",
       "    .dataframe thead th {\n",
       "        text-align: right;\n",
       "    }\n",
       "</style>\n",
       "<table border=\"1\" class=\"dataframe\">\n",
       "  <thead>\n",
       "    <tr style=\"text-align: right;\">\n",
       "      <th></th>\n",
       "      <th>camis</th>\n",
       "      <th>dba</th>\n",
       "      <th>boro</th>\n",
       "      <th>phone</th>\n",
       "      <th>inspection_date</th>\n",
       "      <th>latitude</th>\n",
       "      <th>longitude</th>\n",
       "      <th>cuisine_description</th>\n",
       "      <th>action</th>\n",
       "      <th>score</th>\n",
       "      <th>grade</th>\n",
       "      <th>full_address</th>\n",
       "      <th>violation_code</th>\n",
       "      <th>violation_description</th>\n",
       "    </tr>\n",
       "  </thead>\n",
       "  <tbody>\n",
       "    <tr>\n",
       "      <th>0</th>\n",
       "      <td>41168748</td>\n",
       "      <td>DUNKIN</td>\n",
       "      <td>Bronx</td>\n",
       "      <td>7188614171</td>\n",
       "      <td>2022-03-30T00:00:00.000</td>\n",
       "      <td>40.816753</td>\n",
       "      <td>-73.892364</td>\n",
       "      <td>Donuts</td>\n",
       "      <td>Violations cited</td>\n",
       "      <td>13</td>\n",
       "      <td>A</td>\n",
       "      <td>880 GARRISON AVENUE 10474</td>\n",
       "      <td>10J 04N 08A</td>\n",
       "      <td>Hand wash sign not posted Filth flies or food/...</td>\n",
       "    </tr>\n",
       "    <tr>\n",
       "      <th>1</th>\n",
       "      <td>41688142</td>\n",
       "      <td>TABLE 87</td>\n",
       "      <td>Brooklyn</td>\n",
       "      <td>9176186100</td>\n",
       "      <td>2017-01-25T00:00:00.000</td>\n",
       "      <td>40.683447</td>\n",
       "      <td>-73.975691</td>\n",
       "      <td>Pizza</td>\n",
       "      <td>No violations</td>\n",
       "      <td>0</td>\n",
       "      <td>A</td>\n",
       "      <td>620 ATLANTIC AVENUE 11217</td>\n",
       "      <td>No violation</td>\n",
       "      <td>No violation</td>\n",
       "    </tr>\n",
       "  </tbody>\n",
       "</table>\n",
       "</div>"
      ],
      "text/plain": [
       "      camis       dba      boro       phone          inspection_date  \\\n",
       "0  41168748    DUNKIN     Bronx  7188614171  2022-03-30T00:00:00.000   \n",
       "1  41688142  TABLE 87  Brooklyn  9176186100  2017-01-25T00:00:00.000   \n",
       "\n",
       "    latitude  longitude cuisine_description            action  score grade  \\\n",
       "0  40.816753 -73.892364              Donuts  Violations cited     13     A   \n",
       "1  40.683447 -73.975691               Pizza     No violations      0     A   \n",
       "\n",
       "                full_address violation_code  \\\n",
       "0  880 GARRISON AVENUE 10474    10J 04N 08A   \n",
       "1  620 ATLANTIC AVENUE 11217   No violation   \n",
       "\n",
       "                               violation_description  \n",
       "0  Hand wash sign not posted Filth flies or food/...  \n",
       "1                                       No violation  "
      ]
     },
     "execution_count": 5,
     "metadata": {},
     "output_type": "execute_result"
    }
   ],
   "source": [
    "ny.head(2)"
   ]
  },
  {
   "cell_type": "code",
   "execution_count": 16,
   "metadata": {},
   "outputs": [],
   "source": [
    "# Convert the 'publish_time' column to datetime, handling ISO8601 format\n",
    "reviews['publish_time'] = pd.to_datetime(reviews['publish_time'], format='mixed')"
   ]
  },
  {
   "cell_type": "code",
   "execution_count": 17,
   "metadata": {},
   "outputs": [
    {
     "name": "stdout",
     "output_type": "stream",
     "text": [
      "<class 'pandas.core.frame.DataFrame'>\n",
      "RangeIndex: 61337 entries, 0 to 61336\n",
      "Data columns (total 4 columns):\n",
      " #   Column         Non-Null Count  Dtype \n",
      "---  ------         --------------  ----- \n",
      " 0   camis          61337 non-null  int64 \n",
      " 1   publish_time   61337 non-null  object\n",
      " 2   review_text    54434 non-null  object\n",
      " 3   review_rating  61337 non-null  int64 \n",
      "dtypes: int64(2), object(2)\n",
      "memory usage: 1.9+ MB\n"
     ]
    }
   ],
   "source": [
    "reviews.info()"
   ]
  },
  {
   "cell_type": "code",
   "execution_count": 18,
   "metadata": {},
   "outputs": [
    {
     "data": {
      "text/html": [
       "<div>\n",
       "<style scoped>\n",
       "    .dataframe tbody tr th:only-of-type {\n",
       "        vertical-align: middle;\n",
       "    }\n",
       "\n",
       "    .dataframe tbody tr th {\n",
       "        vertical-align: top;\n",
       "    }\n",
       "\n",
       "    .dataframe thead th {\n",
       "        text-align: right;\n",
       "    }\n",
       "</style>\n",
       "<table border=\"1\" class=\"dataframe\">\n",
       "  <thead>\n",
       "    <tr style=\"text-align: right;\">\n",
       "      <th></th>\n",
       "      <th>camis</th>\n",
       "      <th>publish_time</th>\n",
       "      <th>review_text</th>\n",
       "      <th>review_rating</th>\n",
       "    </tr>\n",
       "  </thead>\n",
       "  <tbody>\n",
       "    <tr>\n",
       "      <th>0</th>\n",
       "      <td>41375676</td>\n",
       "      <td>2023-11-01 02:44:04.226505</td>\n",
       "      <td>NaN</td>\n",
       "      <td>5</td>\n",
       "    </tr>\n",
       "    <tr>\n",
       "      <th>1</th>\n",
       "      <td>41375676</td>\n",
       "      <td>2023-11-01 02:44:04.227451</td>\n",
       "      <td>NaN</td>\n",
       "      <td>5</td>\n",
       "    </tr>\n",
       "  </tbody>\n",
       "</table>\n",
       "</div>"
      ],
      "text/plain": [
       "      camis                publish_time review_text  review_rating\n",
       "0  41375676  2023-11-01 02:44:04.226505         NaN              5\n",
       "1  41375676  2023-11-01 02:44:04.227451         NaN              5"
      ]
     },
     "execution_count": 18,
     "metadata": {},
     "output_type": "execute_result"
    }
   ],
   "source": [
    "reviews.head(2)"
   ]
  },
  {
   "cell_type": "code",
   "execution_count": 6,
   "metadata": {},
   "outputs": [
    {
     "name": "stdout",
     "output_type": "stream",
     "text": [
      "<class 'pandas.core.frame.DataFrame'>\n",
      "Index: 60825 entries, 0 to 60824\n",
      "Data columns (total 14 columns):\n",
      " #   Column                 Non-Null Count  Dtype  \n",
      "---  ------                 --------------  -----  \n",
      " 0   camis                  60825 non-null  int64  \n",
      " 1   dba                    60825 non-null  object \n",
      " 2   boro                   60825 non-null  object \n",
      " 3   phone                  60825 non-null  int64  \n",
      " 4   inspection_date        60825 non-null  object \n",
      " 5   latitude               60825 non-null  float64\n",
      " 6   longitude              60825 non-null  float64\n",
      " 7   cuisine_description    60825 non-null  object \n",
      " 8   action                 60825 non-null  object \n",
      " 9   score                  60825 non-null  int64  \n",
      " 10  grade                  60825 non-null  object \n",
      " 11  full_address           60825 non-null  object \n",
      " 12  violation_code         60825 non-null  object \n",
      " 13  violation_description  60825 non-null  object \n",
      "dtypes: float64(2), int64(3), object(9)\n",
      "memory usage: 7.0+ MB\n"
     ]
    }
   ],
   "source": [
    "ny.info()"
   ]
  },
  {
   "cell_type": "code",
   "execution_count": 20,
   "metadata": {},
   "outputs": [
    {
     "data": {
      "text/html": [
       "<div>\n",
       "<style scoped>\n",
       "    .dataframe tbody tr th:only-of-type {\n",
       "        vertical-align: middle;\n",
       "    }\n",
       "\n",
       "    .dataframe tbody tr th {\n",
       "        vertical-align: top;\n",
       "    }\n",
       "\n",
       "    .dataframe thead th {\n",
       "        text-align: right;\n",
       "    }\n",
       "</style>\n",
       "<table border=\"1\" class=\"dataframe\">\n",
       "  <thead>\n",
       "    <tr style=\"text-align: right;\">\n",
       "      <th></th>\n",
       "      <th>camis</th>\n",
       "      <th>publish_time</th>\n",
       "      <th>review_text</th>\n",
       "      <th>review_rating</th>\n",
       "    </tr>\n",
       "  </thead>\n",
       "  <tbody>\n",
       "    <tr>\n",
       "      <th>0</th>\n",
       "      <td>41375676</td>\n",
       "      <td>2023-11-01 02:44:04.226505</td>\n",
       "      <td>NaN</td>\n",
       "      <td>5</td>\n",
       "    </tr>\n",
       "    <tr>\n",
       "      <th>1</th>\n",
       "      <td>41375676</td>\n",
       "      <td>2023-11-01 02:44:04.227451</td>\n",
       "      <td>NaN</td>\n",
       "      <td>5</td>\n",
       "    </tr>\n",
       "  </tbody>\n",
       "</table>\n",
       "</div>"
      ],
      "text/plain": [
       "      camis                publish_time review_text  review_rating\n",
       "0  41375676  2023-11-01 02:44:04.226505         NaN              5\n",
       "1  41375676  2023-11-01 02:44:04.227451         NaN              5"
      ]
     },
     "execution_count": 20,
     "metadata": {},
     "output_type": "execute_result"
    }
   ],
   "source": [
    "ny['inspection_date'] = pd.to_datetime(ny['inspection_date'])\n",
    "reviews.head(2)"
   ]
  },
  {
   "cell_type": "markdown",
   "metadata": {},
   "source": [
    "making a unique list of ny dataframe and removing the restaurants that have reviews scraped/aquired."
   ]
  },
  {
   "cell_type": "code",
   "execution_count": 12,
   "metadata": {},
   "outputs": [
    {
     "data": {
      "text/html": [
       "<div>\n",
       "<style scoped>\n",
       "    .dataframe tbody tr th:only-of-type {\n",
       "        vertical-align: middle;\n",
       "    }\n",
       "\n",
       "    .dataframe tbody tr th {\n",
       "        vertical-align: top;\n",
       "    }\n",
       "\n",
       "    .dataframe thead th {\n",
       "        text-align: right;\n",
       "    }\n",
       "</style>\n",
       "<table border=\"1\" class=\"dataframe\">\n",
       "  <thead>\n",
       "    <tr style=\"text-align: right;\">\n",
       "      <th></th>\n",
       "      <th>camis</th>\n",
       "      <th>dba</th>\n",
       "      <th>boro</th>\n",
       "      <th>phone</th>\n",
       "      <th>inspection_date</th>\n",
       "      <th>latitude</th>\n",
       "      <th>longitude</th>\n",
       "      <th>cuisine_description</th>\n",
       "      <th>action</th>\n",
       "      <th>score</th>\n",
       "      <th>grade</th>\n",
       "      <th>full_address</th>\n",
       "      <th>violation_code</th>\n",
       "      <th>violation_description</th>\n",
       "    </tr>\n",
       "  </thead>\n",
       "  <tbody>\n",
       "    <tr>\n",
       "      <th>0</th>\n",
       "      <td>41168748</td>\n",
       "      <td>DUNKIN</td>\n",
       "      <td>Bronx</td>\n",
       "      <td>7188614171</td>\n",
       "      <td>2022-03-30T00:00:00.000</td>\n",
       "      <td>40.816753</td>\n",
       "      <td>-73.892364</td>\n",
       "      <td>Donuts</td>\n",
       "      <td>Violations cited</td>\n",
       "      <td>13</td>\n",
       "      <td>A</td>\n",
       "      <td>880 GARRISON AVENUE 10474</td>\n",
       "      <td>10J 04N 08A</td>\n",
       "      <td>Hand wash sign not posted Filth flies or food/...</td>\n",
       "    </tr>\n",
       "    <tr>\n",
       "      <th>1</th>\n",
       "      <td>41688142</td>\n",
       "      <td>TABLE 87</td>\n",
       "      <td>Brooklyn</td>\n",
       "      <td>9176186100</td>\n",
       "      <td>2017-01-25T00:00:00.000</td>\n",
       "      <td>40.683447</td>\n",
       "      <td>-73.975691</td>\n",
       "      <td>Pizza</td>\n",
       "      <td>No violations</td>\n",
       "      <td>0</td>\n",
       "      <td>A</td>\n",
       "      <td>620 ATLANTIC AVENUE 11217</td>\n",
       "      <td>No violation</td>\n",
       "      <td>No violation</td>\n",
       "    </tr>\n",
       "  </tbody>\n",
       "</table>\n",
       "</div>"
      ],
      "text/plain": [
       "      camis       dba      boro       phone          inspection_date  \\\n",
       "0  41168748    DUNKIN     Bronx  7188614171  2022-03-30T00:00:00.000   \n",
       "1  41688142  TABLE 87  Brooklyn  9176186100  2017-01-25T00:00:00.000   \n",
       "\n",
       "    latitude  longitude cuisine_description            action  score grade  \\\n",
       "0  40.816753 -73.892364              Donuts  Violations cited     13     A   \n",
       "1  40.683447 -73.975691               Pizza     No violations      0     A   \n",
       "\n",
       "                full_address violation_code  \\\n",
       "0  880 GARRISON AVENUE 10474    10J 04N 08A   \n",
       "1  620 ATLANTIC AVENUE 11217   No violation   \n",
       "\n",
       "                               violation_description  \n",
       "0  Hand wash sign not posted Filth flies or food/...  \n",
       "1                                       No violation  "
      ]
     },
     "execution_count": 12,
     "metadata": {},
     "output_type": "execute_result"
    }
   ],
   "source": [
    "ny.head(2)"
   ]
  },
  {
   "cell_type": "code",
   "execution_count": 13,
   "metadata": {},
   "outputs": [
    {
     "data": {
      "text/plain": [
       "(25820, 25820)"
      ]
     },
     "execution_count": 13,
     "metadata": {},
     "output_type": "execute_result"
    }
   ],
   "source": [
    "# Creating a new DataFrame with the selected columns\n",
    "selected_columns = ['camis', 'dba', 'boro', 'phone', 'full_address']\n",
    "unique_ny = ny[selected_columns].drop_duplicates()\n",
    "len(unique_ny), unique_ny.camis.nunique()\n"
   ]
  },
  {
   "cell_type": "code",
   "execution_count": 15,
   "metadata": {},
   "outputs": [
    {
     "data": {
      "text/html": [
       "<div>\n",
       "<style scoped>\n",
       "    .dataframe tbody tr th:only-of-type {\n",
       "        vertical-align: middle;\n",
       "    }\n",
       "\n",
       "    .dataframe tbody tr th {\n",
       "        vertical-align: top;\n",
       "    }\n",
       "\n",
       "    .dataframe thead th {\n",
       "        text-align: right;\n",
       "    }\n",
       "</style>\n",
       "<table border=\"1\" class=\"dataframe\">\n",
       "  <thead>\n",
       "    <tr style=\"text-align: right;\">\n",
       "      <th></th>\n",
       "      <th>camis</th>\n",
       "      <th>dba</th>\n",
       "      <th>boro</th>\n",
       "      <th>phone</th>\n",
       "      <th>full_address</th>\n",
       "    </tr>\n",
       "  </thead>\n",
       "  <tbody>\n",
       "    <tr>\n",
       "      <th>0</th>\n",
       "      <td>41168748</td>\n",
       "      <td>DUNKIN</td>\n",
       "      <td>Bronx</td>\n",
       "      <td>7188614171</td>\n",
       "      <td>880 GARRISON AVENUE 10474</td>\n",
       "    </tr>\n",
       "    <tr>\n",
       "      <th>1</th>\n",
       "      <td>41688142</td>\n",
       "      <td>TABLE 87</td>\n",
       "      <td>Brooklyn</td>\n",
       "      <td>9176186100</td>\n",
       "      <td>620 ATLANTIC AVENUE 11217</td>\n",
       "    </tr>\n",
       "  </tbody>\n",
       "</table>\n",
       "</div>"
      ],
      "text/plain": [
       "      camis       dba      boro       phone               full_address\n",
       "0  41168748    DUNKIN     Bronx  7188614171  880 GARRISON AVENUE 10474\n",
       "1  41688142  TABLE 87  Brooklyn  9176186100  620 ATLANTIC AVENUE 11217"
      ]
     },
     "execution_count": 15,
     "metadata": {},
     "output_type": "execute_result"
    }
   ],
   "source": [
    "unique_ny.head(2)"
   ]
  },
  {
   "cell_type": "code",
   "execution_count": 16,
   "metadata": {},
   "outputs": [
    {
     "data": {
      "text/html": [
       "<div>\n",
       "<style scoped>\n",
       "    .dataframe tbody tr th:only-of-type {\n",
       "        vertical-align: middle;\n",
       "    }\n",
       "\n",
       "    .dataframe tbody tr th {\n",
       "        vertical-align: top;\n",
       "    }\n",
       "\n",
       "    .dataframe thead th {\n",
       "        text-align: right;\n",
       "    }\n",
       "</style>\n",
       "<table border=\"1\" class=\"dataframe\">\n",
       "  <thead>\n",
       "    <tr style=\"text-align: right;\">\n",
       "      <th></th>\n",
       "      <th>camis</th>\n",
       "      <th>publish_time</th>\n",
       "      <th>review_text</th>\n",
       "      <th>review_rating</th>\n",
       "    </tr>\n",
       "  </thead>\n",
       "  <tbody>\n",
       "    <tr>\n",
       "      <th>0</th>\n",
       "      <td>41375676</td>\n",
       "      <td>2023-11-01 02:44:04.226505</td>\n",
       "      <td>NaN</td>\n",
       "      <td>5</td>\n",
       "    </tr>\n",
       "    <tr>\n",
       "      <th>1</th>\n",
       "      <td>41375676</td>\n",
       "      <td>2023-11-01 02:44:04.227451</td>\n",
       "      <td>NaN</td>\n",
       "      <td>5</td>\n",
       "    </tr>\n",
       "  </tbody>\n",
       "</table>\n",
       "</div>"
      ],
      "text/plain": [
       "      camis                publish_time review_text  review_rating\n",
       "0  41375676  2023-11-01 02:44:04.226505         NaN              5\n",
       "1  41375676  2023-11-01 02:44:04.227451         NaN              5"
      ]
     },
     "execution_count": 16,
     "metadata": {},
     "output_type": "execute_result"
    }
   ],
   "source": [
    "reviews.head(2)"
   ]
  },
  {
   "cell_type": "code",
   "execution_count": 17,
   "metadata": {},
   "outputs": [
    {
     "data": {
      "text/plain": [
       "61337"
      ]
     },
     "execution_count": 17,
     "metadata": {},
     "output_type": "execute_result"
    }
   ],
   "source": [
    "len(reviews)"
   ]
  },
  {
   "cell_type": "code",
   "execution_count": 19,
   "metadata": {},
   "outputs": [],
   "source": [
    "# Get unique 'camis' values from the reviews DataFrame\n",
    "reviews_unique_camis = reviews['camis'].unique()\n",
    "\n",
    "# Filter out the rows in unique_ny where 'camis' is in the reviews_unique_camis\n",
    "unique_ny_cleaned = unique_ny[~unique_ny['camis'].isin(reviews_unique_camis)]\n"
   ]
  },
  {
   "cell_type": "code",
   "execution_count": 20,
   "metadata": {},
   "outputs": [
    {
     "data": {
      "text/plain": [
       "(19682, 60825)"
      ]
     },
     "execution_count": 20,
     "metadata": {},
     "output_type": "execute_result"
    }
   ],
   "source": [
    "len(unique_ny_cleaned), len(ny)"
   ]
  },
  {
   "cell_type": "code",
   "execution_count": 21,
   "metadata": {},
   "outputs": [
    {
     "data": {
      "text/html": [
       "<div>\n",
       "<style scoped>\n",
       "    .dataframe tbody tr th:only-of-type {\n",
       "        vertical-align: middle;\n",
       "    }\n",
       "\n",
       "    .dataframe tbody tr th {\n",
       "        vertical-align: top;\n",
       "    }\n",
       "\n",
       "    .dataframe thead th {\n",
       "        text-align: right;\n",
       "    }\n",
       "</style>\n",
       "<table border=\"1\" class=\"dataframe\">\n",
       "  <thead>\n",
       "    <tr style=\"text-align: right;\">\n",
       "      <th></th>\n",
       "      <th>camis</th>\n",
       "      <th>dba</th>\n",
       "      <th>boro</th>\n",
       "      <th>phone</th>\n",
       "      <th>full_address</th>\n",
       "    </tr>\n",
       "  </thead>\n",
       "  <tbody>\n",
       "    <tr>\n",
       "      <th>5</th>\n",
       "      <td>50130923</td>\n",
       "      <td>LORENZO'S PIZZERIA</td>\n",
       "      <td>Bronx</td>\n",
       "      <td>7186187053</td>\n",
       "      <td>1226 SOUTHERN BOULEVARD 10459</td>\n",
       "    </tr>\n",
       "    <tr>\n",
       "      <th>8</th>\n",
       "      <td>50052842</td>\n",
       "      <td>CUP OF BROOKLYN</td>\n",
       "      <td>Brooklyn</td>\n",
       "      <td>9178555647</td>\n",
       "      <td>1071B GATES AVE 0</td>\n",
       "    </tr>\n",
       "    <tr>\n",
       "      <th>11</th>\n",
       "      <td>50116983</td>\n",
       "      <td>EL BASURERO BAR REST.</td>\n",
       "      <td>Queens</td>\n",
       "      <td>7185457077</td>\n",
       "      <td>3217 STEINWAY ST 11103</td>\n",
       "    </tr>\n",
       "    <tr>\n",
       "      <th>24</th>\n",
       "      <td>50008239</td>\n",
       "      <td>NEW YORK YANKEES MVP CLUB</td>\n",
       "      <td>Bronx</td>\n",
       "      <td>6469778510</td>\n",
       "      <td>1 EAST  161 STREET 10451</td>\n",
       "    </tr>\n",
       "    <tr>\n",
       "      <th>30</th>\n",
       "      <td>41599169</td>\n",
       "      <td>ROMA PIZZA</td>\n",
       "      <td>Brooklyn</td>\n",
       "      <td>7187837334</td>\n",
       "      <td>85 7 AVENUE 11217</td>\n",
       "    </tr>\n",
       "  </tbody>\n",
       "</table>\n",
       "</div>"
      ],
      "text/plain": [
       "       camis                        dba      boro       phone  \\\n",
       "5   50130923         LORENZO'S PIZZERIA     Bronx  7186187053   \n",
       "8   50052842            CUP OF BROOKLYN  Brooklyn  9178555647   \n",
       "11  50116983      EL BASURERO BAR REST.    Queens  7185457077   \n",
       "24  50008239  NEW YORK YANKEES MVP CLUB     Bronx  6469778510   \n",
       "30  41599169                 ROMA PIZZA  Brooklyn  7187837334   \n",
       "\n",
       "                     full_address  \n",
       "5   1226 SOUTHERN BOULEVARD 10459  \n",
       "8               1071B GATES AVE 0  \n",
       "11         3217 STEINWAY ST 11103  \n",
       "24       1 EAST  161 STREET 10451  \n",
       "30              85 7 AVENUE 11217  "
      ]
     },
     "execution_count": 21,
     "metadata": {},
     "output_type": "execute_result"
    }
   ],
   "source": [
    "unique_ny_cleaned.head()"
   ]
  },
  {
   "cell_type": "code",
   "execution_count": 24,
   "metadata": {},
   "outputs": [
    {
     "data": {
      "text/plain": [
       "19682"
      ]
     },
     "execution_count": 24,
     "metadata": {},
     "output_type": "execute_result"
    }
   ],
   "source": [
    "unique_ny_cleaned.drop_duplicates(subset='camis')\n",
    "len(unique_ny_cleaned)"
   ]
  },
  {
   "cell_type": "code",
   "execution_count": null,
   "metadata": {},
   "outputs": [],
   "source": []
  },
  {
   "cell_type": "code",
   "execution_count": 23,
   "metadata": {},
   "outputs": [
    {
     "ename": "KeyError",
     "evalue": "\"['place_id'] not in index\"",
     "output_type": "error",
     "traceback": [
      "\u001b[0;31m---------------------------------------------------------------------------\u001b[0m",
      "\u001b[0;31mKeyError\u001b[0m                                  Traceback (most recent call last)",
      "\u001b[1;32m/Users/jongarcia/codeup-data-science/New-York-health-Inspection-Prediction/john-folder/prepare/reviews_inspections.ipynb Cell 21\u001b[0m line \u001b[0;36m3\n\u001b[1;32m      <a href='vscode-notebook-cell:/Users/jongarcia/codeup-data-science/New-York-health-Inspection-Prediction/john-folder/prepare/reviews_inspections.ipynb#X26sZmlsZQ%3D%3D?line=0'>1</a>\u001b[0m \u001b[39m# Creating a new DataFrame with the selected columns\u001b[39;00m\n\u001b[1;32m      <a href='vscode-notebook-cell:/Users/jongarcia/codeup-data-science/New-York-health-Inspection-Prediction/john-folder/prepare/reviews_inspections.ipynb#X26sZmlsZQ%3D%3D?line=1'>2</a>\u001b[0m selected_columns \u001b[39m=\u001b[39m [\u001b[39m'\u001b[39m\u001b[39mcamis\u001b[39m\u001b[39m'\u001b[39m, \u001b[39m'\u001b[39m\u001b[39mplace_id\u001b[39m\u001b[39m'\u001b[39m]\n\u001b[0;32m----> <a href='vscode-notebook-cell:/Users/jongarcia/codeup-data-science/New-York-health-Inspection-Prediction/john-folder/prepare/reviews_inspections.ipynb#X26sZmlsZQ%3D%3D?line=2'>3</a>\u001b[0m ny_for_scrape \u001b[39m=\u001b[39m unique_ny_cleaned[selected_columns]\u001b[39m.\u001b[39mdrop_duplicates(subset\u001b[39m=\u001b[39m\u001b[39m'\u001b[39m\u001b[39mcamis\u001b[39m\u001b[39m'\u001b[39m)\n\u001b[1;32m      <a href='vscode-notebook-cell:/Users/jongarcia/codeup-data-science/New-York-health-Inspection-Prediction/john-folder/prepare/reviews_inspections.ipynb#X26sZmlsZQ%3D%3D?line=3'>4</a>\u001b[0m \u001b[39mlen\u001b[39m(ny_for_scrape), ny_for_scrape\u001b[39m.\u001b[39mcamis\u001b[39m.\u001b[39mnunique()\n",
      "File \u001b[0;32m/usr/local/anaconda3/lib/python3.10/site-packages/pandas/core/frame.py:3767\u001b[0m, in \u001b[0;36mDataFrame.__getitem__\u001b[0;34m(self, key)\u001b[0m\n\u001b[1;32m   3765\u001b[0m     \u001b[39mif\u001b[39;00m is_iterator(key):\n\u001b[1;32m   3766\u001b[0m         key \u001b[39m=\u001b[39m \u001b[39mlist\u001b[39m(key)\n\u001b[0;32m-> 3767\u001b[0m     indexer \u001b[39m=\u001b[39m \u001b[39mself\u001b[39;49m\u001b[39m.\u001b[39;49mcolumns\u001b[39m.\u001b[39;49m_get_indexer_strict(key, \u001b[39m\"\u001b[39;49m\u001b[39mcolumns\u001b[39;49m\u001b[39m\"\u001b[39;49m)[\u001b[39m1\u001b[39m]\n\u001b[1;32m   3769\u001b[0m \u001b[39m# take() does not accept boolean indexers\u001b[39;00m\n\u001b[1;32m   3770\u001b[0m \u001b[39mif\u001b[39;00m \u001b[39mgetattr\u001b[39m(indexer, \u001b[39m\"\u001b[39m\u001b[39mdtype\u001b[39m\u001b[39m\"\u001b[39m, \u001b[39mNone\u001b[39;00m) \u001b[39m==\u001b[39m \u001b[39mbool\u001b[39m:\n",
      "File \u001b[0;32m/usr/local/anaconda3/lib/python3.10/site-packages/pandas/core/indexes/base.py:5877\u001b[0m, in \u001b[0;36mIndex._get_indexer_strict\u001b[0;34m(self, key, axis_name)\u001b[0m\n\u001b[1;32m   5874\u001b[0m \u001b[39melse\u001b[39;00m:\n\u001b[1;32m   5875\u001b[0m     keyarr, indexer, new_indexer \u001b[39m=\u001b[39m \u001b[39mself\u001b[39m\u001b[39m.\u001b[39m_reindex_non_unique(keyarr)\n\u001b[0;32m-> 5877\u001b[0m \u001b[39mself\u001b[39;49m\u001b[39m.\u001b[39;49m_raise_if_missing(keyarr, indexer, axis_name)\n\u001b[1;32m   5879\u001b[0m keyarr \u001b[39m=\u001b[39m \u001b[39mself\u001b[39m\u001b[39m.\u001b[39mtake(indexer)\n\u001b[1;32m   5880\u001b[0m \u001b[39mif\u001b[39;00m \u001b[39misinstance\u001b[39m(key, Index):\n\u001b[1;32m   5881\u001b[0m     \u001b[39m# GH 42790 - Preserve name from an Index\u001b[39;00m\n",
      "File \u001b[0;32m/usr/local/anaconda3/lib/python3.10/site-packages/pandas/core/indexes/base.py:5941\u001b[0m, in \u001b[0;36mIndex._raise_if_missing\u001b[0;34m(self, key, indexer, axis_name)\u001b[0m\n\u001b[1;32m   5938\u001b[0m     \u001b[39mraise\u001b[39;00m \u001b[39mKeyError\u001b[39;00m(\u001b[39mf\u001b[39m\u001b[39m\"\u001b[39m\u001b[39mNone of [\u001b[39m\u001b[39m{\u001b[39;00mkey\u001b[39m}\u001b[39;00m\u001b[39m] are in the [\u001b[39m\u001b[39m{\u001b[39;00maxis_name\u001b[39m}\u001b[39;00m\u001b[39m]\u001b[39m\u001b[39m\"\u001b[39m)\n\u001b[1;32m   5940\u001b[0m not_found \u001b[39m=\u001b[39m \u001b[39mlist\u001b[39m(ensure_index(key)[missing_mask\u001b[39m.\u001b[39mnonzero()[\u001b[39m0\u001b[39m]]\u001b[39m.\u001b[39munique())\n\u001b[0;32m-> 5941\u001b[0m \u001b[39mraise\u001b[39;00m \u001b[39mKeyError\u001b[39;00m(\u001b[39mf\u001b[39m\u001b[39m\"\u001b[39m\u001b[39m{\u001b[39;00mnot_found\u001b[39m}\u001b[39;00m\u001b[39m not in index\u001b[39m\u001b[39m\"\u001b[39m)\n",
      "\u001b[0;31mKeyError\u001b[0m: \"['place_id'] not in index\""
     ]
    }
   ],
   "source": [
    "# Creating a new DataFrame with the selected columns\n",
    "selected_columns = ['camis', 'place_id']\n",
    "ny_for_scrape = unique_ny_cleaned[selected_columns].drop_duplicates(subset='camis')\n",
    "len(ny_for_scrape), ny_for_scrape.camis.nunique()\n"
   ]
  }
 ],
 "metadata": {
  "kernelspec": {
   "display_name": "base",
   "language": "python",
   "name": "python3"
  },
  "language_info": {
   "codemirror_mode": {
    "name": "ipython",
    "version": 3
   },
   "file_extension": ".py",
   "mimetype": "text/x-python",
   "name": "python",
   "nbconvert_exporter": "python",
   "pygments_lexer": "ipython3",
   "version": "3.10.12"
  }
 },
 "nbformat": 4,
 "nbformat_minor": 2
}
