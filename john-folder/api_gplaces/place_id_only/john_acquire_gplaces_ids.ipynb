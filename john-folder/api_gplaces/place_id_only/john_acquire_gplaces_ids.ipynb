{
 "cells": [
  {
   "cell_type": "code",
   "execution_count": 1,
   "metadata": {},
   "outputs": [],
   "source": [
    "import pandas as pd\n",
    "import numpy as np\n",
    "import os\n",
    "import requests\n",
    "import env\n",
    "import john_acquire_placeid as a"
   ]
  },
  {
   "cell_type": "code",
   "execution_count": 2,
   "metadata": {},
   "outputs": [],
   "source": [
    "reviews = pd.read_csv('reviews.csv')"
   ]
  },
  {
   "cell_type": "code",
   "execution_count": 3,
   "metadata": {},
   "outputs": [],
   "source": [
    "ny = pd.read_csv('final_ny.csv', index_col=0)"
   ]
  },
  {
   "cell_type": "code",
   "execution_count": 4,
   "metadata": {},
   "outputs": [
    {
     "data": {
      "text/plain": [
       "(25820, 25820)"
      ]
     },
     "execution_count": 4,
     "metadata": {},
     "output_type": "execute_result"
    }
   ],
   "source": [
    "# Creating a new DataFrame with the selected columns\n",
    "selected_columns = ['camis', 'dba', 'boro', 'phone', 'full_address']\n",
    "unique_ny = ny[selected_columns].drop_duplicates()\n",
    "len(unique_ny), unique_ny.camis.nunique()\n"
   ]
  },
  {
   "cell_type": "code",
   "execution_count": 5,
   "metadata": {},
   "outputs": [
    {
     "data": {
      "text/plain": [
       "(19682, 60825)"
      ]
     },
     "execution_count": 5,
     "metadata": {},
     "output_type": "execute_result"
    }
   ],
   "source": [
    "# Get unique 'camis' values from the reviews DataFrame\n",
    "reviews_unique_camis = reviews['camis'].unique()\n",
    "\n",
    "# Filter out the rows in unique_ny where 'camis' is in the reviews_unique_camis\n",
    "unique_ny_cleaned = unique_ny[~unique_ny['camis'].isin(reviews_unique_camis)]\n",
    "\n",
    "len(unique_ny_cleaned), len(ny)"
   ]
  },
  {
   "cell_type": "code",
   "execution_count": 6,
   "metadata": {},
   "outputs": [
    {
     "name": "stderr",
     "output_type": "stream",
     "text": [
      "/var/folders/6c/7ht5b3716k32pz2lmh_pzp8m0000gp/T/ipykernel_64065/3150522173.py:6: SettingWithCopyWarning: \n",
      "A value is trying to be set on a copy of a slice from a DataFrame.\n",
      "Try using .loc[row_indexer,col_indexer] = value instead\n",
      "\n",
      "See the caveats in the documentation: https://pandas.pydata.org/pandas-docs/stable/user_guide/indexing.html#returning-a-view-versus-a-copy\n",
      "  unique_ny_cleaned['full_address'] = unique_ny_cleaned['full_address'].apply(remove_trailing_zero)\n"
     ]
    }
   ],
   "source": [
    "def remove_trailing_zero(address):\n",
    "    if address.endswith(' 0'):\n",
    "        return address[:-2]\n",
    "    return address\n",
    "\n",
    "unique_ny_cleaned['full_address'] = unique_ny_cleaned['full_address'].apply(remove_trailing_zero)\n"
   ]
  },
  {
   "cell_type": "code",
   "execution_count": 7,
   "metadata": {},
   "outputs": [
    {
     "data": {
      "text/html": [
       "<div>\n",
       "<style scoped>\n",
       "    .dataframe tbody tr th:only-of-type {\n",
       "        vertical-align: middle;\n",
       "    }\n",
       "\n",
       "    .dataframe tbody tr th {\n",
       "        vertical-align: top;\n",
       "    }\n",
       "\n",
       "    .dataframe thead th {\n",
       "        text-align: right;\n",
       "    }\n",
       "</style>\n",
       "<table border=\"1\" class=\"dataframe\">\n",
       "  <thead>\n",
       "    <tr style=\"text-align: right;\">\n",
       "      <th></th>\n",
       "      <th>camis</th>\n",
       "      <th>dba</th>\n",
       "      <th>boro</th>\n",
       "      <th>phone</th>\n",
       "      <th>full_address</th>\n",
       "    </tr>\n",
       "  </thead>\n",
       "  <tbody>\n",
       "    <tr>\n",
       "      <th>5</th>\n",
       "      <td>50130923</td>\n",
       "      <td>LORENZO'S PIZZERIA</td>\n",
       "      <td>Bronx</td>\n",
       "      <td>7186187053</td>\n",
       "      <td>1226 SOUTHERN BOULEVARD 10459</td>\n",
       "    </tr>\n",
       "    <tr>\n",
       "      <th>8</th>\n",
       "      <td>50052842</td>\n",
       "      <td>CUP OF BROOKLYN</td>\n",
       "      <td>Brooklyn</td>\n",
       "      <td>9178555647</td>\n",
       "      <td>1071B GATES AVE</td>\n",
       "    </tr>\n",
       "    <tr>\n",
       "      <th>11</th>\n",
       "      <td>50116983</td>\n",
       "      <td>EL BASURERO BAR REST.</td>\n",
       "      <td>Queens</td>\n",
       "      <td>7185457077</td>\n",
       "      <td>3217 STEINWAY ST 11103</td>\n",
       "    </tr>\n",
       "    <tr>\n",
       "      <th>24</th>\n",
       "      <td>50008239</td>\n",
       "      <td>NEW YORK YANKEES MVP CLUB</td>\n",
       "      <td>Bronx</td>\n",
       "      <td>6469778510</td>\n",
       "      <td>1 EAST  161 STREET 10451</td>\n",
       "    </tr>\n",
       "    <tr>\n",
       "      <th>30</th>\n",
       "      <td>41599169</td>\n",
       "      <td>ROMA PIZZA</td>\n",
       "      <td>Brooklyn</td>\n",
       "      <td>7187837334</td>\n",
       "      <td>85 7 AVENUE 11217</td>\n",
       "    </tr>\n",
       "    <tr>\n",
       "      <th>...</th>\n",
       "      <td>...</td>\n",
       "      <td>...</td>\n",
       "      <td>...</td>\n",
       "      <td>...</td>\n",
       "      <td>...</td>\n",
       "    </tr>\n",
       "    <tr>\n",
       "      <th>60789</th>\n",
       "      <td>50117756</td>\n",
       "      <td>Bar 47</td>\n",
       "      <td>Bronx</td>\n",
       "      <td>6497329290</td>\n",
       "      <td>47 BRUCKNER BOULEVARD 10454</td>\n",
       "    </tr>\n",
       "    <tr>\n",
       "      <th>60803</th>\n",
       "      <td>50136507</td>\n",
       "      <td>MILANO PIZZA &amp; FRIED CHICKEN</td>\n",
       "      <td>Bronx</td>\n",
       "      <td>9292469636</td>\n",
       "      <td>1544 BOONE AVENUE 10460</td>\n",
       "    </tr>\n",
       "    <tr>\n",
       "      <th>60808</th>\n",
       "      <td>50127789</td>\n",
       "      <td>LA RUBIA</td>\n",
       "      <td>Manhattan</td>\n",
       "      <td>3474291114</td>\n",
       "      <td>11 HOWARD STREET 10013</td>\n",
       "    </tr>\n",
       "    <tr>\n",
       "      <th>60810</th>\n",
       "      <td>50072982</td>\n",
       "      <td>LOS PERROS DE CHUCHO</td>\n",
       "      <td>Queens</td>\n",
       "      <td>3478643287</td>\n",
       "      <td>4013 35TH AVE 11101</td>\n",
       "    </tr>\n",
       "    <tr>\n",
       "      <th>60813</th>\n",
       "      <td>50045110</td>\n",
       "      <td>EMPLOYEE FEEDING</td>\n",
       "      <td>Manhattan</td>\n",
       "      <td>2124656273</td>\n",
       "      <td>4 PENN PLZ 10121</td>\n",
       "    </tr>\n",
       "  </tbody>\n",
       "</table>\n",
       "<p>19682 rows × 5 columns</p>\n",
       "</div>"
      ],
      "text/plain": [
       "          camis                           dba       boro       phone  \\\n",
       "5      50130923            LORENZO'S PIZZERIA      Bronx  7186187053   \n",
       "8      50052842               CUP OF BROOKLYN   Brooklyn  9178555647   \n",
       "11     50116983         EL BASURERO BAR REST.     Queens  7185457077   \n",
       "24     50008239     NEW YORK YANKEES MVP CLUB      Bronx  6469778510   \n",
       "30     41599169                    ROMA PIZZA   Brooklyn  7187837334   \n",
       "...         ...                           ...        ...         ...   \n",
       "60789  50117756                        Bar 47      Bronx  6497329290   \n",
       "60803  50136507  MILANO PIZZA & FRIED CHICKEN      Bronx  9292469636   \n",
       "60808  50127789                      LA RUBIA  Manhattan  3474291114   \n",
       "60810  50072982          LOS PERROS DE CHUCHO     Queens  3478643287   \n",
       "60813  50045110              EMPLOYEE FEEDING  Manhattan  2124656273   \n",
       "\n",
       "                        full_address  \n",
       "5      1226 SOUTHERN BOULEVARD 10459  \n",
       "8                    1071B GATES AVE  \n",
       "11            3217 STEINWAY ST 11103  \n",
       "24          1 EAST  161 STREET 10451  \n",
       "30                 85 7 AVENUE 11217  \n",
       "...                              ...  \n",
       "60789    47 BRUCKNER BOULEVARD 10454  \n",
       "60803        1544 BOONE AVENUE 10460  \n",
       "60808         11 HOWARD STREET 10013  \n",
       "60810            4013 35TH AVE 11101  \n",
       "60813               4 PENN PLZ 10121  \n",
       "\n",
       "[19682 rows x 5 columns]"
      ]
     },
     "execution_count": 7,
     "metadata": {},
     "output_type": "execute_result"
    }
   ],
   "source": [
    "unique_ny_cleaned"
   ]
  },
  {
   "cell_type": "code",
   "execution_count": 8,
   "metadata": {},
   "outputs": [],
   "source": [
    "g_places_api_key = env.g_places_api_key"
   ]
  },
  {
   "cell_type": "code",
   "execution_count": 9,
   "metadata": {},
   "outputs": [
    {
     "data": {
      "text/plain": [
       "19682"
      ]
     },
     "execution_count": 9,
     "metadata": {},
     "output_type": "execute_result"
    }
   ],
   "source": [
    "len(unique_ny_cleaned)"
   ]
  },
  {
   "cell_type": "code",
   "execution_count": 10,
   "metadata": {},
   "outputs": [
    {
     "name": "stdout",
     "output_type": "stream",
     "text": [
      "Resuming from row: 19651\n",
      "Final save for remaining data after row #19682\n"
     ]
    }
   ],
   "source": [
    "a.main(unique_ny_cleaned, g_places_api_key, save_interval=50)"
   ]
  },
  {
   "cell_type": "code",
   "execution_count": 11,
   "metadata": {},
   "outputs": [
    {
     "data": {
      "text/html": [
       "<div>\n",
       "<style scoped>\n",
       "    .dataframe tbody tr th:only-of-type {\n",
       "        vertical-align: middle;\n",
       "    }\n",
       "\n",
       "    .dataframe tbody tr th {\n",
       "        vertical-align: top;\n",
       "    }\n",
       "\n",
       "    .dataframe thead th {\n",
       "        text-align: right;\n",
       "    }\n",
       "</style>\n",
       "<table border=\"1\" class=\"dataframe\">\n",
       "  <thead>\n",
       "    <tr style=\"text-align: right;\">\n",
       "      <th></th>\n",
       "      <th>camis</th>\n",
       "      <th>place_id</th>\n",
       "    </tr>\n",
       "  </thead>\n",
       "  <tbody>\n",
       "    <tr>\n",
       "      <th>0</th>\n",
       "      <td>41168748</td>\n",
       "      <td>ChIJNzTkzav1wokRg3R8aGzuiWI</td>\n",
       "    </tr>\n",
       "    <tr>\n",
       "      <th>1</th>\n",
       "      <td>41688142</td>\n",
       "      <td>ChIJN0LWs0VawokRlblPt3vRdBU</td>\n",
       "    </tr>\n",
       "    <tr>\n",
       "      <th>2</th>\n",
       "      <td>50100336</td>\n",
       "      <td>ChIJv4RNXVdawokR2clhEV4tZ8A</td>\n",
       "    </tr>\n",
       "    <tr>\n",
       "      <th>3</th>\n",
       "      <td>50086686</td>\n",
       "      <td>ChIJecXcbl9ZwokRKrDkbAar1eQ</td>\n",
       "    </tr>\n",
       "    <tr>\n",
       "      <th>4</th>\n",
       "      <td>50081121</td>\n",
       "      <td>ChIJ93nHHvVdwokRWLG_CuQou6o</td>\n",
       "    </tr>\n",
       "    <tr>\n",
       "      <th>...</th>\n",
       "      <td>...</td>\n",
       "      <td>...</td>\n",
       "    </tr>\n",
       "    <tr>\n",
       "      <th>22272</th>\n",
       "      <td>50117756</td>\n",
       "      <td>ChIJdbIIBtr1wokR0GFANyNisTU</td>\n",
       "    </tr>\n",
       "    <tr>\n",
       "      <th>22273</th>\n",
       "      <td>50136507</td>\n",
       "      <td>ChIJU6c-qG31wokRsEHfwp6zJz8</td>\n",
       "    </tr>\n",
       "    <tr>\n",
       "      <th>22274</th>\n",
       "      <td>50127789</td>\n",
       "      <td>ChIJ7RvnmKhZwokR4wALDNqHTFs</td>\n",
       "    </tr>\n",
       "    <tr>\n",
       "      <th>22275</th>\n",
       "      <td>50072982</td>\n",
       "      <td>ChIJdxTnISVfwokRC_oFPb2_shs</td>\n",
       "    </tr>\n",
       "    <tr>\n",
       "      <th>22276</th>\n",
       "      <td>50045110</td>\n",
       "      <td>ChIJ6z7FQ65ZwokR5pNfZezRCWQ</td>\n",
       "    </tr>\n",
       "  </tbody>\n",
       "</table>\n",
       "<p>22277 rows × 2 columns</p>\n",
       "</div>"
      ],
      "text/plain": [
       "          camis                     place_id\n",
       "0      41168748  ChIJNzTkzav1wokRg3R8aGzuiWI\n",
       "1      41688142  ChIJN0LWs0VawokRlblPt3vRdBU\n",
       "2      50100336  ChIJv4RNXVdawokR2clhEV4tZ8A\n",
       "3      50086686  ChIJecXcbl9ZwokRKrDkbAar1eQ\n",
       "4      50081121  ChIJ93nHHvVdwokRWLG_CuQou6o\n",
       "...         ...                          ...\n",
       "22272  50117756  ChIJdbIIBtr1wokR0GFANyNisTU\n",
       "22273  50136507  ChIJU6c-qG31wokRsEHfwp6zJz8\n",
       "22274  50127789  ChIJ7RvnmKhZwokR4wALDNqHTFs\n",
       "22275  50072982  ChIJdxTnISVfwokRC_oFPb2_shs\n",
       "22276  50045110  ChIJ6z7FQ65ZwokR5pNfZezRCWQ\n",
       "\n",
       "[22277 rows x 2 columns]"
      ]
     },
     "execution_count": 11,
     "metadata": {},
     "output_type": "execute_result"
    }
   ],
   "source": [
    "div_places = pd.read_csv('places_progress.csv')\n",
    "div_places"
   ]
  },
  {
   "cell_type": "code",
   "execution_count": 12,
   "metadata": {},
   "outputs": [
    {
     "data": {
      "text/plain": [
       "17996"
      ]
     },
     "execution_count": 12,
     "metadata": {},
     "output_type": "execute_result"
    }
   ],
   "source": [
    "# Drop duplicate rows based on the 'camis' column\n",
    "div_places_unique = div_places.drop_duplicates(subset=['camis'])\n",
    "len(div_places_unique)"
   ]
  },
  {
   "cell_type": "code",
   "execution_count": 13,
   "metadata": {},
   "outputs": [
    {
     "data": {
      "text/plain": [
       "17996"
      ]
     },
     "execution_count": 13,
     "metadata": {},
     "output_type": "execute_result"
    }
   ],
   "source": [
    "div_places.camis.nunique()"
   ]
  },
  {
   "cell_type": "code",
   "execution_count": 14,
   "metadata": {},
   "outputs": [
    {
     "data": {
      "text/html": [
       "<div>\n",
       "<style scoped>\n",
       "    .dataframe tbody tr th:only-of-type {\n",
       "        vertical-align: middle;\n",
       "    }\n",
       "\n",
       "    .dataframe tbody tr th {\n",
       "        vertical-align: top;\n",
       "    }\n",
       "\n",
       "    .dataframe thead th {\n",
       "        text-align: right;\n",
       "    }\n",
       "</style>\n",
       "<table border=\"1\" class=\"dataframe\">\n",
       "  <thead>\n",
       "    <tr style=\"text-align: right;\">\n",
       "      <th></th>\n",
       "      <th>camis</th>\n",
       "      <th>place_id</th>\n",
       "    </tr>\n",
       "  </thead>\n",
       "  <tbody>\n",
       "    <tr>\n",
       "      <th>0</th>\n",
       "      <td>41168748</td>\n",
       "      <td>ChIJNzTkzav1wokRg3R8aGzuiWI</td>\n",
       "    </tr>\n",
       "    <tr>\n",
       "      <th>1</th>\n",
       "      <td>41688142</td>\n",
       "      <td>ChIJN0LWs0VawokRlblPt3vRdBU</td>\n",
       "    </tr>\n",
       "    <tr>\n",
       "      <th>2</th>\n",
       "      <td>50100336</td>\n",
       "      <td>ChIJv4RNXVdawokR2clhEV4tZ8A</td>\n",
       "    </tr>\n",
       "    <tr>\n",
       "      <th>3</th>\n",
       "      <td>50086686</td>\n",
       "      <td>ChIJecXcbl9ZwokRKrDkbAar1eQ</td>\n",
       "    </tr>\n",
       "    <tr>\n",
       "      <th>4</th>\n",
       "      <td>50081121</td>\n",
       "      <td>ChIJ93nHHvVdwokRWLG_CuQou6o</td>\n",
       "    </tr>\n",
       "  </tbody>\n",
       "</table>\n",
       "</div>"
      ],
      "text/plain": [
       "      camis                     place_id\n",
       "0  41168748  ChIJNzTkzav1wokRg3R8aGzuiWI\n",
       "1  41688142  ChIJN0LWs0VawokRlblPt3vRdBU\n",
       "2  50100336  ChIJv4RNXVdawokR2clhEV4tZ8A\n",
       "3  50086686  ChIJecXcbl9ZwokRKrDkbAar1eQ\n",
       "4  50081121  ChIJ93nHHvVdwokRWLG_CuQou6o"
      ]
     },
     "execution_count": 14,
     "metadata": {},
     "output_type": "execute_result"
    }
   ],
   "source": [
    "div_places_unique.head()"
   ]
  },
  {
   "cell_type": "code",
   "execution_count": 15,
   "metadata": {},
   "outputs": [
    {
     "name": "stderr",
     "output_type": "stream",
     "text": [
      "/var/folders/6c/7ht5b3716k32pz2lmh_pzp8m0000gp/T/ipykernel_64065/511094574.py:2: SettingWithCopyWarning: \n",
      "A value is trying to be set on a copy of a slice from a DataFrame.\n",
      "Try using .loc[row_indexer,col_indexer] = value instead\n",
      "\n",
      "See the caveats in the documentation: https://pandas.pydata.org/pandas-docs/stable/user_guide/indexing.html#returning-a-view-versus-a-copy\n",
      "  div_places_unique['place_id'] = \"https://www.google.com/maps/place/?q=place_id:\" + div_places_unique['place_id']\n"
     ]
    },
    {
     "data": {
      "text/html": [
       "<div>\n",
       "<style scoped>\n",
       "    .dataframe tbody tr th:only-of-type {\n",
       "        vertical-align: middle;\n",
       "    }\n",
       "\n",
       "    .dataframe tbody tr th {\n",
       "        vertical-align: top;\n",
       "    }\n",
       "\n",
       "    .dataframe thead th {\n",
       "        text-align: right;\n",
       "    }\n",
       "</style>\n",
       "<table border=\"1\" class=\"dataframe\">\n",
       "  <thead>\n",
       "    <tr style=\"text-align: right;\">\n",
       "      <th></th>\n",
       "      <th>camis</th>\n",
       "      <th>place_id</th>\n",
       "    </tr>\n",
       "  </thead>\n",
       "  <tbody>\n",
       "    <tr>\n",
       "      <th>0</th>\n",
       "      <td>41168748</td>\n",
       "      <td>https://www.google.com/maps/place/?q=place_id:...</td>\n",
       "    </tr>\n",
       "    <tr>\n",
       "      <th>1</th>\n",
       "      <td>41688142</td>\n",
       "      <td>https://www.google.com/maps/place/?q=place_id:...</td>\n",
       "    </tr>\n",
       "    <tr>\n",
       "      <th>2</th>\n",
       "      <td>50100336</td>\n",
       "      <td>https://www.google.com/maps/place/?q=place_id:...</td>\n",
       "    </tr>\n",
       "    <tr>\n",
       "      <th>3</th>\n",
       "      <td>50086686</td>\n",
       "      <td>https://www.google.com/maps/place/?q=place_id:...</td>\n",
       "    </tr>\n",
       "    <tr>\n",
       "      <th>4</th>\n",
       "      <td>50081121</td>\n",
       "      <td>https://www.google.com/maps/place/?q=place_id:...</td>\n",
       "    </tr>\n",
       "    <tr>\n",
       "      <th>...</th>\n",
       "      <td>...</td>\n",
       "      <td>...</td>\n",
       "    </tr>\n",
       "    <tr>\n",
       "      <th>22272</th>\n",
       "      <td>50117756</td>\n",
       "      <td>https://www.google.com/maps/place/?q=place_id:...</td>\n",
       "    </tr>\n",
       "    <tr>\n",
       "      <th>22273</th>\n",
       "      <td>50136507</td>\n",
       "      <td>https://www.google.com/maps/place/?q=place_id:...</td>\n",
       "    </tr>\n",
       "    <tr>\n",
       "      <th>22274</th>\n",
       "      <td>50127789</td>\n",
       "      <td>https://www.google.com/maps/place/?q=place_id:...</td>\n",
       "    </tr>\n",
       "    <tr>\n",
       "      <th>22275</th>\n",
       "      <td>50072982</td>\n",
       "      <td>https://www.google.com/maps/place/?q=place_id:...</td>\n",
       "    </tr>\n",
       "    <tr>\n",
       "      <th>22276</th>\n",
       "      <td>50045110</td>\n",
       "      <td>https://www.google.com/maps/place/?q=place_id:...</td>\n",
       "    </tr>\n",
       "  </tbody>\n",
       "</table>\n",
       "<p>17996 rows × 2 columns</p>\n",
       "</div>"
      ],
      "text/plain": [
       "          camis                                           place_id\n",
       "0      41168748  https://www.google.com/maps/place/?q=place_id:...\n",
       "1      41688142  https://www.google.com/maps/place/?q=place_id:...\n",
       "2      50100336  https://www.google.com/maps/place/?q=place_id:...\n",
       "3      50086686  https://www.google.com/maps/place/?q=place_id:...\n",
       "4      50081121  https://www.google.com/maps/place/?q=place_id:...\n",
       "...         ...                                                ...\n",
       "22272  50117756  https://www.google.com/maps/place/?q=place_id:...\n",
       "22273  50136507  https://www.google.com/maps/place/?q=place_id:...\n",
       "22274  50127789  https://www.google.com/maps/place/?q=place_id:...\n",
       "22275  50072982  https://www.google.com/maps/place/?q=place_id:...\n",
       "22276  50045110  https://www.google.com/maps/place/?q=place_id:...\n",
       "\n",
       "[17996 rows x 2 columns]"
      ]
     },
     "execution_count": 15,
     "metadata": {},
     "output_type": "execute_result"
    }
   ],
   "source": [
    "# Prepend the URL to the place_id column using +\n",
    "div_places_unique['place_id'] = \"https://www.google.com/maps/place/?q=place_id:\" + div_places_unique['place_id']\n",
    "div_places_unique"
   ]
  },
  {
   "cell_type": "code",
   "execution_count": 16,
   "metadata": {},
   "outputs": [
    {
     "data": {
      "text/html": [
       "<div>\n",
       "<style scoped>\n",
       "    .dataframe tbody tr th:only-of-type {\n",
       "        vertical-align: middle;\n",
       "    }\n",
       "\n",
       "    .dataframe tbody tr th {\n",
       "        vertical-align: top;\n",
       "    }\n",
       "\n",
       "    .dataframe thead th {\n",
       "        text-align: right;\n",
       "    }\n",
       "</style>\n",
       "<table border=\"1\" class=\"dataframe\">\n",
       "  <thead>\n",
       "    <tr style=\"text-align: right;\">\n",
       "      <th></th>\n",
       "      <th>id</th>\n",
       "      <th>url</th>\n",
       "    </tr>\n",
       "  </thead>\n",
       "  <tbody>\n",
       "    <tr>\n",
       "      <th>0</th>\n",
       "      <td>41168748</td>\n",
       "      <td>https://www.google.com/maps/place/?q=place_id:...</td>\n",
       "    </tr>\n",
       "    <tr>\n",
       "      <th>1</th>\n",
       "      <td>41688142</td>\n",
       "      <td>https://www.google.com/maps/place/?q=place_id:...</td>\n",
       "    </tr>\n",
       "    <tr>\n",
       "      <th>2</th>\n",
       "      <td>50100336</td>\n",
       "      <td>https://www.google.com/maps/place/?q=place_id:...</td>\n",
       "    </tr>\n",
       "    <tr>\n",
       "      <th>3</th>\n",
       "      <td>50086686</td>\n",
       "      <td>https://www.google.com/maps/place/?q=place_id:...</td>\n",
       "    </tr>\n",
       "    <tr>\n",
       "      <th>4</th>\n",
       "      <td>50081121</td>\n",
       "      <td>https://www.google.com/maps/place/?q=place_id:...</td>\n",
       "    </tr>\n",
       "  </tbody>\n",
       "</table>\n",
       "</div>"
      ],
      "text/plain": [
       "         id                                                url\n",
       "0  41168748  https://www.google.com/maps/place/?q=place_id:...\n",
       "1  41688142  https://www.google.com/maps/place/?q=place_id:...\n",
       "2  50100336  https://www.google.com/maps/place/?q=place_id:...\n",
       "3  50086686  https://www.google.com/maps/place/?q=place_id:...\n",
       "4  50081121  https://www.google.com/maps/place/?q=place_id:..."
      ]
     },
     "execution_count": 16,
     "metadata": {},
     "output_type": "execute_result"
    }
   ],
   "source": [
    "# Rename the columns\n",
    "div_places_unique = div_places_unique.rename(columns={'camis': 'id', 'place_id': 'url'})\n",
    "div_places_unique.head()"
   ]
  },
  {
   "cell_type": "code",
   "execution_count": 22,
   "metadata": {},
   "outputs": [],
   "source": [
    "# Create new dataframes\n",
    "edwige = div_places_unique.iloc[0:1000]    \n",
    "mark = div_places_unique.iloc[1000:2000]  \n",
    "nick = div_places_unique.iloc[2000:3000] \n",
    "john = div_places_unique.iloc[3000:4000] "
   ]
  },
  {
   "cell_type": "code",
   "execution_count": 23,
   "metadata": {},
   "outputs": [],
   "source": [
    "edwige_2 = div_places_unique.iloc[4000:5000]    \n",
    "marc_2 = div_places_unique.iloc[5000:6000]  \n",
    "nick_2 = div_places_unique.iloc[6000:7000] \n",
    "john_2 = div_places_unique.iloc[7000:8000]"
   ]
  },
  {
   "cell_type": "code",
   "execution_count": 20,
   "metadata": {},
   "outputs": [
    {
     "data": {
      "text/html": [
       "<div>\n",
       "<style scoped>\n",
       "    .dataframe tbody tr th:only-of-type {\n",
       "        vertical-align: middle;\n",
       "    }\n",
       "\n",
       "    .dataframe tbody tr th {\n",
       "        vertical-align: top;\n",
       "    }\n",
       "\n",
       "    .dataframe thead th {\n",
       "        text-align: right;\n",
       "    }\n",
       "</style>\n",
       "<table border=\"1\" class=\"dataframe\">\n",
       "  <thead>\n",
       "    <tr style=\"text-align: right;\">\n",
       "      <th></th>\n",
       "      <th>id</th>\n",
       "      <th>url</th>\n",
       "    </tr>\n",
       "  </thead>\n",
       "  <tbody>\n",
       "    <tr>\n",
       "      <th>3501</th>\n",
       "      <td>50138517</td>\n",
       "      <td>https://www.google.com/maps/place/?q=place_id:...</td>\n",
       "    </tr>\n",
       "    <tr>\n",
       "      <th>3502</th>\n",
       "      <td>50035344</td>\n",
       "      <td>https://www.google.com/maps/place/?q=place_id:...</td>\n",
       "    </tr>\n",
       "    <tr>\n",
       "      <th>3503</th>\n",
       "      <td>40838446</td>\n",
       "      <td>https://www.google.com/maps/place/?q=place_id:...</td>\n",
       "    </tr>\n",
       "    <tr>\n",
       "      <th>3504</th>\n",
       "      <td>50121894</td>\n",
       "      <td>https://www.google.com/maps/place/?q=place_id:...</td>\n",
       "    </tr>\n",
       "    <tr>\n",
       "      <th>3505</th>\n",
       "      <td>50069660</td>\n",
       "      <td>https://www.google.com/maps/place/?q=place_id:...</td>\n",
       "    </tr>\n",
       "  </tbody>\n",
       "</table>\n",
       "</div>"
      ],
      "text/plain": [
       "            id                                                url\n",
       "3501  50138517  https://www.google.com/maps/place/?q=place_id:...\n",
       "3502  50035344  https://www.google.com/maps/place/?q=place_id:...\n",
       "3503  40838446  https://www.google.com/maps/place/?q=place_id:...\n",
       "3504  50121894  https://www.google.com/maps/place/?q=place_id:...\n",
       "3505  50069660  https://www.google.com/maps/place/?q=place_id:..."
      ]
     },
     "execution_count": 20,
     "metadata": {},
     "output_type": "execute_result"
    }
   ],
   "source": [
    "john.head()"
   ]
  },
  {
   "cell_type": "code",
   "execution_count": 24,
   "metadata": {},
   "outputs": [],
   "source": [
    "\n",
    "# Now save them to CSV files with corresponding names\n",
    "edwige.to_csv('edwige.csv', index=False)\n",
    "mark.to_csv('mark.csv', index=False)\n",
    "nick.to_csv('nick.csv', index=False)\n",
    "john.to_csv('john.csv', index=False)"
   ]
  },
  {
   "cell_type": "code",
   "execution_count": 25,
   "metadata": {},
   "outputs": [],
   "source": [
    "\n",
    "# Now save them to CSV files with corresponding names\n",
    "edwige_2.to_csv('edwige_2.csv', index=False)\n",
    "marc_2.to_csv('mark_2.csv', index=False)\n",
    "nick_2.to_csv('nick_2.csv', index=False)\n",
    "john_2.to_csv('john_2.csv', index=False)"
   ]
  },
  {
   "cell_type": "code",
   "execution_count": null,
   "metadata": {},
   "outputs": [
    {
     "name": "stdout",
     "output_type": "stream",
     "text": [
      "Response: {'places': [{'name': 'places/ChIJNzTkzav1wokRg3R8aGzuiWI'}]}\n"
     ]
    }
   ],
   "source": [
    "import requests\n",
    "\n",
    "# Replace with your actual API key\n",
    "g_places_api_key = env.g_places_api_key\n",
    "\n",
    "# Define the URL and headers\n",
    "url = 'https://places.googleapis.com/v1/places:searchText'\n",
    "headers = {\n",
    "    'Content-Type': 'application/json',\n",
    "    'X-Goog-Api-Key': g_places_api_key,\n",
    "    'X-Goog-FieldMask': 'places.name'\n",
    "}\n",
    "\n",
    "\n",
    "# Define the query\n",
    "text_query = \"DUNKIN 880 GARRISON AVENUE Bronx 7188614171\"\n",
    "\n",
    "# Define the data for the POST request\n",
    "data = {'textQuery': text_query}\n",
    "\n",
    "# Make the POST request\n",
    "response = requests.post(url, headers=headers, json=data)\n",
    "\n",
    "# Check the response\n",
    "if response.status_code == 200:\n",
    "    print(\"Response:\", response.json())\n",
    "else:\n",
    "    print(f\"Failed to retrieve data: {response.status_code}\")\n",
    "\n"
   ]
  }
 ],
 "metadata": {
  "kernelspec": {
   "display_name": "base",
   "language": "python",
   "name": "python3"
  },
  "language_info": {
   "codemirror_mode": {
    "name": "ipython",
    "version": 3
   },
   "file_extension": ".py",
   "mimetype": "text/x-python",
   "name": "python",
   "nbconvert_exporter": "python",
   "pygments_lexer": "ipython3",
   "version": "3.10.12"
  }
 },
 "nbformat": 4,
 "nbformat_minor": 2
}
