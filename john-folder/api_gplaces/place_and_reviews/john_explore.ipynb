{
 "cells": [
  {
   "cell_type": "code",
   "execution_count": 1,
   "metadata": {},
   "outputs": [],
   "source": [
    "# Import necessary libraries and modules\n",
    "import pandas as pd\n",
    "import numpy as np\n",
    "import john_acquire as a  # Custom module for data acquisition\n",
    "%load_ext autoreload\n",
    "%autoreload 2\n",
    "\n",
    "# Set the option to display all columns in DataFrames\n",
    "pd.set_option('display.max_columns', None)\n"
   ]
  },
  {
   "cell_type": "markdown",
   "metadata": {},
   "source": [
    "### Dataset Overview"
   ]
  },
  {
   "cell_type": "markdown",
   "metadata": {},
   "source": [
    "| Column | Description | Data Type |\n",
    "| --- | --- | --- |\n",
    "| camis | Unique identifier for each record | int64 |\n",
    "| dba | Doing Business As (DBA) name | object |\n",
    "| boro | Borough where the establishment is located | object |\n",
    "| building | Building number | object |\n",
    "| street | Street name | object |\n",
    "| zipcode | Zip code | float64 |\n",
    "| phone | Phone number | object |\n",
    "| cuisine\\_description | Description of the cuisine type | object |\n",
    "| inspection\\_date | Date of inspection | object |\n",
    "| action | Action taken during inspection | object |\n",
    "| critical\\_flag | Indicator of critical violations | object |\n",
    "| score | Inspection score | float64 |\n",
    "| record\\_date | Date of record | object |\n",
    "| inspection\\_type | Type of inspection | object |\n",
    "| latitude | Latitude of the establishment | float64 |\n",
    "| longitude | Longitude of the establishment | float64 |\n",
    "| community\\_board | Community board district | float64 |\n",
    "| council\\_district | Council district | float64 |\n",
    "| census\\_tract | Census tract | float64 |\n",
    "| bin | Building identification number | float64 |\n",
    "| bbl | Borough block and lot number | float64 |\n",
    "| nta | Neighborhood Tabulation Area (NTA) | object |\n",
    "| violation\\_code | Code indicating violations | object |\n",
    "| violation\\_description | Description of the violations | object |\n",
    "| grade | Inspection grade | object |\n",
    "| grade\\_date | Date of inspection grade | object |"
   ]
  },
  {
   "cell_type": "code",
   "execution_count": 2,
   "metadata": {},
   "outputs": [],
   "source": [
    "# Load the acquired data from the CSV file\n",
    "inspection_df = pd.read_csv('nyc_health_inspections_2000_to_2023.csv', index_col=False)\n",
    "\n",
    "# Display the first few rows of the loaded DataFrame\n",
    "inspection_df.head().to_csv('inspections_df_head.csv')"
   ]
  },
  {
   "cell_type": "code",
   "execution_count": 1360,
   "metadata": {},
   "outputs": [
    {
     "data": {
      "text/html": [
       "<div>\n",
       "<style scoped>\n",
       "    .dataframe tbody tr th:only-of-type {\n",
       "        vertical-align: middle;\n",
       "    }\n",
       "\n",
       "    .dataframe tbody tr th {\n",
       "        vertical-align: top;\n",
       "    }\n",
       "\n",
       "    .dataframe thead th {\n",
       "        text-align: right;\n",
       "    }\n",
       "</style>\n",
       "<table border=\"1\" class=\"dataframe\">\n",
       "  <thead>\n",
       "    <tr style=\"text-align: right;\">\n",
       "      <th></th>\n",
       "      <th>Numeric_Zero_Count</th>\n",
       "      <th>String_Zero_Count</th>\n",
       "      <th>Null_Count</th>\n",
       "    </tr>\n",
       "  </thead>\n",
       "  <tbody>\n",
       "    <tr>\n",
       "      <th>camis</th>\n",
       "      <td>0</td>\n",
       "      <td>0</td>\n",
       "      <td>0</td>\n",
       "    </tr>\n",
       "    <tr>\n",
       "      <th>dba</th>\n",
       "      <td>0</td>\n",
       "      <td>0</td>\n",
       "      <td>0</td>\n",
       "    </tr>\n",
       "    <tr>\n",
       "      <th>boro</th>\n",
       "      <td>0</td>\n",
       "      <td>0</td>\n",
       "      <td>0</td>\n",
       "    </tr>\n",
       "    <tr>\n",
       "      <th>building</th>\n",
       "      <td>0</td>\n",
       "      <td>430</td>\n",
       "      <td>289</td>\n",
       "    </tr>\n",
       "    <tr>\n",
       "      <th>street</th>\n",
       "      <td>0</td>\n",
       "      <td>0</td>\n",
       "      <td>0</td>\n",
       "    </tr>\n",
       "    <tr>\n",
       "      <th>zipcode</th>\n",
       "      <td>0</td>\n",
       "      <td>0</td>\n",
       "      <td>2642</td>\n",
       "    </tr>\n",
       "    <tr>\n",
       "      <th>phone</th>\n",
       "      <td>0</td>\n",
       "      <td>0</td>\n",
       "      <td>6</td>\n",
       "    </tr>\n",
       "    <tr>\n",
       "      <th>cuisine_description</th>\n",
       "      <td>0</td>\n",
       "      <td>0</td>\n",
       "      <td>0</td>\n",
       "    </tr>\n",
       "    <tr>\n",
       "      <th>inspection_date</th>\n",
       "      <td>0</td>\n",
       "      <td>0</td>\n",
       "      <td>0</td>\n",
       "    </tr>\n",
       "    <tr>\n",
       "      <th>action</th>\n",
       "      <td>0</td>\n",
       "      <td>0</td>\n",
       "      <td>0</td>\n",
       "    </tr>\n",
       "    <tr>\n",
       "      <th>critical_flag</th>\n",
       "      <td>0</td>\n",
       "      <td>0</td>\n",
       "      <td>0</td>\n",
       "    </tr>\n",
       "    <tr>\n",
       "      <th>score</th>\n",
       "      <td>9813</td>\n",
       "      <td>0</td>\n",
       "      <td>7572</td>\n",
       "    </tr>\n",
       "    <tr>\n",
       "      <th>record_date</th>\n",
       "      <td>0</td>\n",
       "      <td>0</td>\n",
       "      <td>0</td>\n",
       "    </tr>\n",
       "    <tr>\n",
       "      <th>inspection_type</th>\n",
       "      <td>0</td>\n",
       "      <td>0</td>\n",
       "      <td>0</td>\n",
       "    </tr>\n",
       "    <tr>\n",
       "      <th>latitude</th>\n",
       "      <td>2642</td>\n",
       "      <td>0</td>\n",
       "      <td>246</td>\n",
       "    </tr>\n",
       "    <tr>\n",
       "      <th>longitude</th>\n",
       "      <td>2642</td>\n",
       "      <td>0</td>\n",
       "      <td>246</td>\n",
       "    </tr>\n",
       "    <tr>\n",
       "      <th>community_board</th>\n",
       "      <td>0</td>\n",
       "      <td>0</td>\n",
       "      <td>3153</td>\n",
       "    </tr>\n",
       "    <tr>\n",
       "      <th>council_district</th>\n",
       "      <td>0</td>\n",
       "      <td>0</td>\n",
       "      <td>3157</td>\n",
       "    </tr>\n",
       "    <tr>\n",
       "      <th>census_tract</th>\n",
       "      <td>0</td>\n",
       "      <td>0</td>\n",
       "      <td>3157</td>\n",
       "    </tr>\n",
       "    <tr>\n",
       "      <th>bin</th>\n",
       "      <td>0</td>\n",
       "      <td>0</td>\n",
       "      <td>4144</td>\n",
       "    </tr>\n",
       "    <tr>\n",
       "      <th>bbl</th>\n",
       "      <td>0</td>\n",
       "      <td>0</td>\n",
       "      <td>511</td>\n",
       "    </tr>\n",
       "    <tr>\n",
       "      <th>nta</th>\n",
       "      <td>0</td>\n",
       "      <td>0</td>\n",
       "      <td>3153</td>\n",
       "    </tr>\n",
       "    <tr>\n",
       "      <th>violation_code</th>\n",
       "      <td>0</td>\n",
       "      <td>0</td>\n",
       "      <td>1157</td>\n",
       "    </tr>\n",
       "    <tr>\n",
       "      <th>violation_description</th>\n",
       "      <td>0</td>\n",
       "      <td>0</td>\n",
       "      <td>1157</td>\n",
       "    </tr>\n",
       "    <tr>\n",
       "      <th>grade</th>\n",
       "      <td>0</td>\n",
       "      <td>0</td>\n",
       "      <td>104404</td>\n",
       "    </tr>\n",
       "    <tr>\n",
       "      <th>grade_date</th>\n",
       "      <td>0</td>\n",
       "      <td>0</td>\n",
       "      <td>113157</td>\n",
       "    </tr>\n",
       "  </tbody>\n",
       "</table>\n",
       "</div>"
      ],
      "text/plain": [
       "                       Numeric_Zero_Count  String_Zero_Count  Null_Count\n",
       "camis                                   0                  0           0\n",
       "dba                                     0                  0           0\n",
       "boro                                    0                  0           0\n",
       "building                                0                430         289\n",
       "street                                  0                  0           0\n",
       "zipcode                                 0                  0        2642\n",
       "phone                                   0                  0           6\n",
       "cuisine_description                     0                  0           0\n",
       "inspection_date                         0                  0           0\n",
       "action                                  0                  0           0\n",
       "critical_flag                           0                  0           0\n",
       "score                                9813                  0        7572\n",
       "record_date                             0                  0           0\n",
       "inspection_type                         0                  0           0\n",
       "latitude                             2642                  0         246\n",
       "longitude                            2642                  0         246\n",
       "community_board                         0                  0        3153\n",
       "council_district                        0                  0        3157\n",
       "census_tract                            0                  0        3157\n",
       "bin                                     0                  0        4144\n",
       "bbl                                     0                  0         511\n",
       "nta                                     0                  0        3153\n",
       "violation_code                          0                  0        1157\n",
       "violation_description                   0                  0        1157\n",
       "grade                                   0                  0      104404\n",
       "grade_date                              0                  0      113157"
      ]
     },
     "execution_count": 1360,
     "metadata": {},
     "output_type": "execute_result"
    }
   ],
   "source": [
    "pd.DataFrame({\n",
    "    'Numeric_Zero_Count': (inspection_df == 0).sum(),\n",
    "    'String_Zero_Count': (inspection_df == '0').sum(),\n",
    "    'Null_Count': inspection_df.isna().sum()\n",
    "})"
   ]
  },
  {
   "cell_type": "code",
   "execution_count": 1318,
   "metadata": {},
   "outputs": [
    {
     "name": "stdout",
     "output_type": "stream",
     "text": [
      "<class 'pandas.core.frame.DataFrame'>\n",
      "RangeIndex: 207365 entries, 0 to 207364\n",
      "Data columns (total 26 columns):\n",
      " #   Column                 Non-Null Count   Dtype  \n",
      "---  ------                 --------------   -----  \n",
      " 0   camis                  207365 non-null  int64  \n",
      " 1   dba                    207365 non-null  object \n",
      " 2   boro                   207365 non-null  object \n",
      " 3   building               207076 non-null  object \n",
      " 4   street                 207365 non-null  object \n",
      " 5   zipcode                204723 non-null  float64\n",
      " 6   phone                  207359 non-null  object \n",
      " 7   cuisine_description    207365 non-null  object \n",
      " 8   inspection_date        207365 non-null  object \n",
      " 9   action                 207365 non-null  object \n",
      " 10  critical_flag          207365 non-null  object \n",
      " 11  score                  199793 non-null  float64\n",
      " 12  record_date            207365 non-null  object \n",
      " 13  inspection_type        207365 non-null  object \n",
      " 14  latitude               207119 non-null  float64\n",
      " 15  longitude              207119 non-null  float64\n",
      " 16  community_board        204212 non-null  float64\n",
      " 17  council_district       204208 non-null  float64\n",
      " 18  census_tract           204208 non-null  float64\n",
      " 19  bin                    203221 non-null  float64\n",
      " 20  bbl                    206854 non-null  float64\n",
      " 21  nta                    204212 non-null  object \n",
      " 22  violation_code         206208 non-null  object \n",
      " 23  violation_description  206208 non-null  object \n",
      " 24  grade                  102961 non-null  object \n",
      " 25  grade_date             94208 non-null   object \n",
      "dtypes: float64(9), int64(1), object(16)\n",
      "memory usage: 41.1+ MB\n"
     ]
    }
   ],
   "source": [
    "# Display information about the dataset, including non null counts per column\n",
    "inspection_df.info()\n"
   ]
  },
  {
   "cell_type": "markdown",
   "metadata": {},
   "source": [
    "### Checking for Missing Values\n",
    "\n",
    "Summarizing Missing Values by Column"
   ]
  },
  {
   "cell_type": "code",
   "execution_count": 1319,
   "metadata": {},
   "outputs": [
    {
     "data": {
      "text/plain": [
       "building                    289\n",
       "zipcode                    2642\n",
       "phone                         6\n",
       "score                      7572\n",
       "latitude                    246\n",
       "longitude                   246\n",
       "community_board            3153\n",
       "council_district           3157\n",
       "census_tract               3157\n",
       "bin                        4144\n",
       "bbl                         511\n",
       "nta                        3153\n",
       "violation_code             1157\n",
       "violation_description      1157\n",
       "grade                    104404\n",
       "grade_date               113157\n",
       "dtype: int64"
      ]
     },
     "execution_count": 1319,
     "metadata": {},
     "output_type": "execute_result"
    }
   ],
   "source": [
    "# Calculate the count of missing values in each column\n",
    "null_counts_by_column = inspection_df.isnull().sum()\n",
    "\n",
    "# Filter and display columns with missing values\n",
    "null_counts_by_column[null_counts_by_column > 0]"
   ]
  },
  {
   "cell_type": "markdown",
   "metadata": {},
   "source": [
    "##### Inferring Missing Values\n",
    "\n",
    "Our next step is to strategize how to address these missing values by leveraging available data in other columns. The proposed hierarchy for inference is as follows:\n",
    "\n",
    "`lat&long < building < bin < bbl < nta, zipcode* < community board < council district < census tract`\n",
    "\n",
    "Given the relatively low count of missing values in the BBL column, it appears to be a promising candidate for inferring related data such as NTA (Neighborhood Tabulation Area), Community Board, Council District, and Census Tract."
   ]
  },
  {
   "cell_type": "markdown",
   "metadata": {},
   "source": [
    "Let's examine the first few unique values in the BBL column to understand its content"
   ]
  },
  {
   "cell_type": "code",
   "execution_count": 1320,
   "metadata": {},
   "outputs": [
    {
     "data": {
      "text/plain": [
       "[1.0,\n",
       " 2.0,\n",
       " 3.0,\n",
       " 4.0,\n",
       " 1000000000.0,\n",
       " 1000010010.0,\n",
       " 1000020002.0,\n",
       " 1000030001.0,\n",
       " 1000047501.0,\n",
       " 1000057501.0]"
      ]
     },
     "execution_count": 1320,
     "metadata": {},
     "output_type": "execute_result"
    }
   ],
   "source": [
    "# Let's take a look at the first few unique values in the BBL column\n",
    "sorted(inspection_df.bbl.unique())[:10]\n"
   ]
  },
  {
   "cell_type": "markdown",
   "metadata": {},
   "source": [
    "The initial examination of the BBL column shows the presence of non-standard values such as 1.0, 2.0, 3.0, 4.0, etc., which do not conform to the expected 10-digit format.\n",
    "\n",
    "Now, let's find out the count of these non-standard values:"
   ]
  },
  {
   "cell_type": "code",
   "execution_count": 1321,
   "metadata": {},
   "outputs": [
    {
     "data": {
      "text/plain": [
       "4144"
      ]
     },
     "execution_count": 1321,
     "metadata": {},
     "output_type": "execute_result"
    }
   ],
   "source": [
    "# Define non-standard BBL values\n",
    "bbl_values = [np.nan, 1.0, 2.0, 3.0, 4.0, 5.0]\n",
    "\n",
    "# Calculate the count of these non-standard values in the BBL column\n",
    "inspection_df['bbl'].isin(bbl_values).sum()"
   ]
  },
  {
   "cell_type": "markdown",
   "metadata": {},
   "source": [
    "The count of non-standard BBL values is found to be relatively consistent with the number of NaN values in the BIN column, indicating a pattern of missing values across these key columns.\n",
    "\n",
    "- census_tract               3157\n",
    "- bin                        4144\n",
    "- bbl                        4144\n",
    "- nta                        3153\n",
    "- community_board            3153\n",
    "- council_district           3157\n",
    "\n",
    "We are unable to rely on bbl make inference, and so we must abandon the hierarchy inference plan. To proceed, we drop rows with NaN values in the BIN column."
   ]
  },
  {
   "cell_type": "code",
   "execution_count": 1322,
   "metadata": {},
   "outputs": [],
   "source": [
    "# Dropping rows with null values in the 'bin' column\n",
    "inspection_df = inspection_df.dropna(subset=['bin'])\n"
   ]
  },
  {
   "cell_type": "markdown",
   "metadata": {},
   "source": [
    "##### Reevaluating Null Counts After BIN Column Cleanup"
   ]
  },
  {
   "cell_type": "code",
   "execution_count": 1323,
   "metadata": {},
   "outputs": [
    {
     "data": {
      "text/plain": [
       "zipcode                      30\n",
       "phone                         6\n",
       "score                      7440\n",
       "community_board              30\n",
       "council_district             34\n",
       "census_tract                 34\n",
       "nta                          30\n",
       "violation_code             1076\n",
       "violation_description      1076\n",
       "grade                    102689\n",
       "grade_date               111279\n",
       "dtype: int64"
      ]
     },
     "execution_count": 1323,
     "metadata": {},
     "output_type": "execute_result"
    }
   ],
   "source": [
    "# Calculate the count of missing values in each column\n",
    "null_counts_by_column = inspection_df.isnull().sum()\n",
    "\n",
    "# Filter and display columns with missing values\n",
    "null_counts_by_column[null_counts_by_column > 0]"
   ]
  },
  {
   "cell_type": "markdown",
   "metadata": {},
   "source": [
    "As expected, the remaining NaNs are mostly related or in common with the initial set. \n",
    "\n",
    "##### Handling Remaining Null Values\n",
    "\n",
    "For the small number of remaining NaNs (e.g., 30 in ZIP code), we can safely drop them due to their limited impact on the dataset. I chose to drop 'council_district' to see if this also got rid of the other NaNs."
   ]
  },
  {
   "cell_type": "code",
   "execution_count": 1324,
   "metadata": {},
   "outputs": [
    {
     "data": {
      "text/plain": [
       "phone                         6\n",
       "score                      7438\n",
       "violation_code             1076\n",
       "violation_description      1076\n",
       "grade                    102677\n",
       "grade_date               111265\n",
       "dtype: int64"
      ]
     },
     "execution_count": 1324,
     "metadata": {},
     "output_type": "execute_result"
    }
   ],
   "source": [
    "# Dropping rows with null values in the 'council_district' column\n",
    "inspection_df = inspection_df.dropna(subset=['council_district'])\n",
    "\n",
    "# Reassessing the null counts in the dataset\n",
    "null_counts_by_column = inspection_df.isnull().sum()\n",
    "null_counts_by_column[null_counts_by_column > 0]"
   ]
  },
  {
   "cell_type": "markdown",
   "metadata": {},
   "source": [
    "After dropping null values in the 'council\\_district' column, we are left with a few nulls in columns such as 'phone,' 'score,' 'violation\\_code,' 'violation\\_description,' 'grade,' and 'grade\\_date.'\n",
    "\n",
    "### Analyzing Phone\n",
    "\n",
    "Since only numerical values are left, we can fill these remaining nulls with a common placeholder, such as '0000000000,' to maintain data integrity:\n",
    "\n",
    "\n",
    "only numbers are left, we could simply fill na with 0000000000"
   ]
  },
  {
   "cell_type": "code",
   "execution_count": 1325,
   "metadata": {},
   "outputs": [
    {
     "data": {
      "text/plain": [
       "score                      7438\n",
       "violation_code             1076\n",
       "violation_description      1076\n",
       "grade                    102677\n",
       "grade_date               111265\n",
       "dtype: int64"
      ]
     },
     "execution_count": 1325,
     "metadata": {},
     "output_type": "execute_result"
    }
   ],
   "source": [
    "# Fill remaining nulls in numerical columns with '0000000000'\n",
    "inspection_df['phone'].fillna('0000000000', inplace=True)\n",
    "\n",
    "# Reassessing the null counts in the dataset\n",
    "null_counts_by_column = inspection_df.isnull().sum()\n",
    "null_counts_by_column[null_counts_by_column > 0]"
   ]
  },
  {
   "cell_type": "markdown",
   "metadata": {},
   "source": [
    "### Grades Column\n",
    "\n",
    "Drop the 'grade' and 'grade\\_date' columns. According to the documentation, not all inspections receive a grade. We can simply calculate the grade using the score. Additionally, the documentation mentions that the grade may not match the scores due to input errors."
   ]
  },
  {
   "cell_type": "code",
   "execution_count": 1326,
   "metadata": {},
   "outputs": [],
   "source": [
    "# Dropping the 'grade' and 'grade_date' columns\n",
    "inspection_df = inspection_df.drop(['grade', 'grade_date'], axis=1)"
   ]
  },
  {
   "cell_type": "code",
   "execution_count": 1327,
   "metadata": {},
   "outputs": [
    {
     "data": {
      "text/plain": [
       "score                    7438\n",
       "violation_code           1076\n",
       "violation_description    1076\n",
       "dtype: int64"
      ]
     },
     "execution_count": 1327,
     "metadata": {},
     "output_type": "execute_result"
    }
   ],
   "source": [
    "# Reassessing the null counts in the dataset\n",
    "null_counts_by_column = inspection_df.isnull().sum()\n",
    "null_counts_by_column[null_counts_by_column > 0]"
   ]
  },
  {
   "cell_type": "markdown",
   "metadata": {},
   "source": [
    "##### Identifying Relevant Inspection Types\n",
    "\n",
    "Before proceeding with the score nulls, let's identify and focus on inspection types related to food safety."
   ]
  },
  {
   "cell_type": "code",
   "execution_count": 1328,
   "metadata": {},
   "outputs": [],
   "source": [
    "# Assuming 'inspection_df' is your DataFrame\n",
    "unique_inspection_types = inspection_df['inspection_type'].unique()\n",
    "\n",
    "# Convert the numpy array to a list and then sort it\n",
    "sorted_inspection_types = sorted(unique_inspection_types.tolist())\n",
    "sorted_inspection_types\n",
    "\n",
    "# List of inspection types to be removed\n",
    "remove_types = [\"Calorie Posting\", \"Pre-permit\", \"Smoke-Free Air Act\", \"Trans Fat\"]\n",
    "\n",
    "# Filtering the DataFrame to focus on relevant inspection types\n",
    "inspection_df = inspection_df[~inspection_df['inspection_type'].str.startswith(tuple(remove_types))]\n",
    "\n",
    "# Checking the length of the DataFrame after filtering"
   ]
  },
  {
   "cell_type": "markdown",
   "metadata": {},
   "source": [
    " We will exclude types such as \"Calorie Posting,\" \"Pre-permit,\" \"Smoke-Free Air Act,\" and \"Trans Fat,\" as they do not directly pertain to food safety"
   ]
  },
  {
   "cell_type": "code",
   "execution_count": 1329,
   "metadata": {},
   "outputs": [
    {
     "data": {
      "text/plain": [
       "155970"
      ]
     },
     "execution_count": 1329,
     "metadata": {},
     "output_type": "execute_result"
    }
   ],
   "source": [
    "# List of inspection types to be removed\n",
    "remove_types = [\"Calorie Posting\", \"Pre-permit\", \"Smoke-Free Air Act\", \"Trans Fat\"]\n",
    "\n",
    "# Filter the DataFrame in a single step\n",
    "inspection_df = inspection_df[~inspection_df['inspection_type'].str.startswith(tuple(remove_types))]\n",
    "len(inspection_df)"
   ]
  },
  {
   "cell_type": "code",
   "execution_count": 1330,
   "metadata": {},
   "outputs": [
    {
     "data": {
      "text/plain": [
       "score                    6024\n",
       "violation_code            797\n",
       "violation_description     797\n",
       "dtype: int64"
      ]
     },
     "execution_count": 1330,
     "metadata": {},
     "output_type": "execute_result"
    }
   ],
   "source": [
    "null_counts_by_column = inspection_df.isnull().sum()\n",
    "null_counts_by_column[null_counts_by_column > 0]"
   ]
  },
  {
   "cell_type": "markdown",
   "metadata": {},
   "source": [
    "Some rows had overlapping null values when we dropped them, resulting in a minor reduction in overall null counts. However, we still need to investigate a few remaining violation codes."
   ]
  },
  {
   "cell_type": "markdown",
   "metadata": {},
   "source": [
    "Now, let's examine the history of a restaurant with a null value in the violation code to understand the reasons behind this occurrence."
   ]
  },
  {
   "cell_type": "code",
   "execution_count": 1331,
   "metadata": {},
   "outputs": [
    {
     "data": {
      "text/html": [
       "<div>\n",
       "<style scoped>\n",
       "    .dataframe tbody tr th:only-of-type {\n",
       "        vertical-align: middle;\n",
       "    }\n",
       "\n",
       "    .dataframe tbody tr th {\n",
       "        vertical-align: top;\n",
       "    }\n",
       "\n",
       "    .dataframe thead th {\n",
       "        text-align: right;\n",
       "    }\n",
       "</style>\n",
       "<table border=\"1\" class=\"dataframe\">\n",
       "  <thead>\n",
       "    <tr style=\"text-align: right;\">\n",
       "      <th></th>\n",
       "      <th>camis</th>\n",
       "      <th>dba</th>\n",
       "      <th>boro</th>\n",
       "      <th>building</th>\n",
       "      <th>street</th>\n",
       "      <th>zipcode</th>\n",
       "      <th>phone</th>\n",
       "      <th>cuisine_description</th>\n",
       "      <th>inspection_date</th>\n",
       "      <th>action</th>\n",
       "      <th>critical_flag</th>\n",
       "      <th>score</th>\n",
       "      <th>record_date</th>\n",
       "      <th>inspection_type</th>\n",
       "      <th>latitude</th>\n",
       "      <th>longitude</th>\n",
       "      <th>community_board</th>\n",
       "      <th>council_district</th>\n",
       "      <th>census_tract</th>\n",
       "      <th>bin</th>\n",
       "      <th>bbl</th>\n",
       "      <th>nta</th>\n",
       "      <th>violation_code</th>\n",
       "      <th>violation_description</th>\n",
       "    </tr>\n",
       "  </thead>\n",
       "  <tbody>\n",
       "    <tr>\n",
       "      <th>5179</th>\n",
       "      <td>30112340</td>\n",
       "      <td>WENDY'S</td>\n",
       "      <td>Brooklyn</td>\n",
       "      <td>469</td>\n",
       "      <td>FLATBUSH AVENUE</td>\n",
       "      <td>11225.0</td>\n",
       "      <td>7182875005</td>\n",
       "      <td>Hamburgers</td>\n",
       "      <td>2022-07-13T00:00:00.000</td>\n",
       "      <td>Violations were cited in the following area(s).</td>\n",
       "      <td>Critical</td>\n",
       "      <td>11.0</td>\n",
       "      <td>2023-12-01T06:00:08.000</td>\n",
       "      <td>Cycle Inspection / Initial Inspection</td>\n",
       "      <td>40.662652</td>\n",
       "      <td>-73.962081</td>\n",
       "      <td>309.0</td>\n",
       "      <td>40.0</td>\n",
       "      <td>32700.0</td>\n",
       "      <td>3029737.0</td>\n",
       "      <td>3.011970e+09</td>\n",
       "      <td>BK60</td>\n",
       "      <td>02G</td>\n",
       "      <td>Cold TCS food item held above 41 °F; smoked or...</td>\n",
       "    </tr>\n",
       "    <tr>\n",
       "      <th>2213</th>\n",
       "      <td>30112340</td>\n",
       "      <td>WENDY'S</td>\n",
       "      <td>Brooklyn</td>\n",
       "      <td>469</td>\n",
       "      <td>FLATBUSH AVENUE</td>\n",
       "      <td>11225.0</td>\n",
       "      <td>7182875005</td>\n",
       "      <td>Hamburgers</td>\n",
       "      <td>2022-07-13T00:00:00.000</td>\n",
       "      <td>Violations were cited in the following area(s).</td>\n",
       "      <td>Not Critical</td>\n",
       "      <td>NaN</td>\n",
       "      <td>2023-12-01T06:00:08.000</td>\n",
       "      <td>Administrative Miscellaneous / Initial Inspection</td>\n",
       "      <td>40.662652</td>\n",
       "      <td>-73.962081</td>\n",
       "      <td>309.0</td>\n",
       "      <td>40.0</td>\n",
       "      <td>32700.0</td>\n",
       "      <td>3029737.0</td>\n",
       "      <td>3.011970e+09</td>\n",
       "      <td>BK60</td>\n",
       "      <td>20-06</td>\n",
       "      <td>Current letter grade or Grade Pending card not...</td>\n",
       "    </tr>\n",
       "    <tr>\n",
       "      <th>3508</th>\n",
       "      <td>30112340</td>\n",
       "      <td>WENDY'S</td>\n",
       "      <td>Brooklyn</td>\n",
       "      <td>469</td>\n",
       "      <td>FLATBUSH AVENUE</td>\n",
       "      <td>11225.0</td>\n",
       "      <td>7182875005</td>\n",
       "      <td>Hamburgers</td>\n",
       "      <td>2022-07-13T00:00:00.000</td>\n",
       "      <td>Violations were cited in the following area(s).</td>\n",
       "      <td>Not Critical</td>\n",
       "      <td>11.0</td>\n",
       "      <td>2023-12-01T06:00:08.000</td>\n",
       "      <td>Cycle Inspection / Initial Inspection</td>\n",
       "      <td>40.662652</td>\n",
       "      <td>-73.962081</td>\n",
       "      <td>309.0</td>\n",
       "      <td>40.0</td>\n",
       "      <td>32700.0</td>\n",
       "      <td>3029737.0</td>\n",
       "      <td>3.011970e+09</td>\n",
       "      <td>BK60</td>\n",
       "      <td>10F</td>\n",
       "      <td>Non-food contact surface or equipment made of ...</td>\n",
       "    </tr>\n",
       "  </tbody>\n",
       "</table>\n",
       "</div>"
      ],
      "text/plain": [
       "         camis      dba      boro building           street  zipcode  \\\n",
       "5179  30112340  WENDY'S  Brooklyn      469  FLATBUSH AVENUE  11225.0   \n",
       "2213  30112340  WENDY'S  Brooklyn      469  FLATBUSH AVENUE  11225.0   \n",
       "3508  30112340  WENDY'S  Brooklyn      469  FLATBUSH AVENUE  11225.0   \n",
       "\n",
       "           phone cuisine_description          inspection_date  \\\n",
       "5179  7182875005          Hamburgers  2022-07-13T00:00:00.000   \n",
       "2213  7182875005          Hamburgers  2022-07-13T00:00:00.000   \n",
       "3508  7182875005          Hamburgers  2022-07-13T00:00:00.000   \n",
       "\n",
       "                                               action critical_flag  score  \\\n",
       "5179  Violations were cited in the following area(s).      Critical   11.0   \n",
       "2213  Violations were cited in the following area(s).  Not Critical    NaN   \n",
       "3508  Violations were cited in the following area(s).  Not Critical   11.0   \n",
       "\n",
       "                  record_date  \\\n",
       "5179  2023-12-01T06:00:08.000   \n",
       "2213  2023-12-01T06:00:08.000   \n",
       "3508  2023-12-01T06:00:08.000   \n",
       "\n",
       "                                        inspection_type   latitude  longitude  \\\n",
       "5179              Cycle Inspection / Initial Inspection  40.662652 -73.962081   \n",
       "2213  Administrative Miscellaneous / Initial Inspection  40.662652 -73.962081   \n",
       "3508              Cycle Inspection / Initial Inspection  40.662652 -73.962081   \n",
       "\n",
       "      community_board  council_district  census_tract        bin  \\\n",
       "5179            309.0              40.0       32700.0  3029737.0   \n",
       "2213            309.0              40.0       32700.0  3029737.0   \n",
       "3508            309.0              40.0       32700.0  3029737.0   \n",
       "\n",
       "               bbl   nta violation_code  \\\n",
       "5179  3.011970e+09  BK60            02G   \n",
       "2213  3.011970e+09  BK60          20-06   \n",
       "3508  3.011970e+09  BK60            10F   \n",
       "\n",
       "                                  violation_description  \n",
       "5179  Cold TCS food item held above 41 °F; smoked or...  \n",
       "2213  Current letter grade or Grade Pending card not...  \n",
       "3508  Non-food contact surface or equipment made of ...  "
      ]
     },
     "execution_count": 1331,
     "metadata": {},
     "output_type": "execute_result"
    }
   ],
   "source": [
    "# Step 1: Group by 'camis' and 'inspection_date' and check for nulls in 'violation_code'\n",
    "grouped = inspection_df.groupby(['camis', 'inspection_date'])\n",
    "groups_with_nulls = grouped.apply(lambda x: x['score'].isna().any())\n",
    "\n",
    "# Step 2: Filter the DataFrame to include only those groups\n",
    "filtered_df = inspection_df[inspection_df.set_index(['camis', 'inspection_date']).index.isin(groups_with_nulls[groups_with_nulls].index)].reset_index(drop=True)\n",
    "\n",
    "# Now, 'filtered_df' contains only the groups where there are null values in 'violation_code'\n",
    "filtered_df.sort_values(by='camis').head(3)\n"
   ]
  },
  {
   "cell_type": "markdown",
   "metadata": {},
   "source": [
    "using the date, we can see that in a single inspection, each violation is in a new row. from here we can see that a single inspection can have more thna one inspection type. Administrative Miscellaneous seem to be the ones that hold the NaN data. We should figure out how many Administrative types have nan\n",
    "\n",
    "Each violation is recorded in a separate row, implying that a single inspection can encompass multiple inspection types. Notably, 'Administrative Miscellaneous' inspections appear to have missing data in 'violation_code'. Let's determine how many 'Administrative Miscellaneous' inspections have NaN values.\""
   ]
  },
  {
   "cell_type": "code",
   "execution_count": 1332,
   "metadata": {},
   "outputs": [
    {
     "name": "stdout",
     "output_type": "stream",
     "text": [
      "inspection_type\n",
      "Administrative Miscellaneous / Compliance Inspection             99\n",
      "Administrative Miscellaneous / Initial Inspection              4899\n",
      "Administrative Miscellaneous / Re-inspection                    975\n",
      "Administrative Miscellaneous / Reopening Inspection              43\n",
      "Administrative Miscellaneous / Second Compliance Inspection       8\n",
      "Cycle Inspection / Compliance Inspection                          0\n",
      "Cycle Inspection / Initial Inspection                             0\n",
      "Cycle Inspection / Re-inspection                                  0\n",
      "Cycle Inspection / Reopening Inspection                           0\n",
      "Cycle Inspection / Second Compliance Inspection                   0\n",
      "Inter-Agency Task Force / Initial Inspection                      0\n",
      "Inter-Agency Task Force / Re-inspection                           0\n",
      "dtype: int64\n"
     ]
    }
   ],
   "source": [
    "# Group by 'inspection_type' and count null 'violation_code' entries\n",
    "null_score_count = inspection_df.groupby('inspection_type').apply(lambda x: x['score'].isnull().sum())\n",
    "\n",
    "# The result is a Series where the index is 'inspection_type' and the values are the counts of null 'violation_code'\n",
    "print(null_score_count)\n"
   ]
  },
  {
   "cell_type": "markdown",
   "metadata": {},
   "source": [
    "We can see that all the null values in the 'violation_code' column are associated with the inspection type \"Administrative.\" It's possible that this inspection type is used to record violations of a different category, especially since there's a mix of \"Administrative\" and \"Cycle\" inspections for a single visit. This observation suggests that we might be able to infer the score or consider dropping the \"Administrative\" inspection type altogether.\n",
    "\n",
    "To make an informed decision, let's examine the types of violations that we commonly see in \"Administrative\" inspections. This analysis will provide further insights into whether these inspections are relevant for our data analysis and whether they have a meaningful impact on the overall score.\n",
    "\n",
    "-   We filtered the dataset to include rows where the 'inspection\\_type' starts with \"Administrative.\"\n",
    "-   We counted and displayed the unique 'violation\\_description' values for these rows, shedding light on the types of violations associated with \"Administrative\" inspections"
   ]
  },
  {
   "cell_type": "code",
   "execution_count": 1333,
   "metadata": {},
   "outputs": [
    {
     "data": {
      "text/plain": [
       "violation_description\n",
       "“Choking first aid” poster not posted. “Alcohol and pregnancy” warning sign not posted. Resuscitation equipment: exhaled air resuscitation masks (adult & pediatric), latex gloves, sign not posted.                                                                                                                                                 763\n",
       "Food allergy information poster not conspicuously posted where food is being prepared or processed by food workers.                                                                                                                                                                                                                                  699\n",
       "Current letter grade or Grade Pending card not posted                                                                                                                                                                                                                                                                                                600\n",
       "“Choking first aid” poster not posted. “Alcohol and Pregnancy” warning sign not posted. Resuscitation equipment: exhaled air resuscitation masks (adult & pediatric), latex gloves, sign not posted.                                                                                                                                                 585\n",
       "Failure to post or conspicuously post healthy eating information                                                                                                                                                                                                                                                                                     438\n",
       "Current letter grade sign not posted.                                                                                                                                                                                                                                                                                                                426\n",
       "Providing single-use, non-compostable plastic straws to customers without customer request (including providing such straws at a self-serve station)                                                                                                                                                                                                 336\n",
       "Nuisance created or allowed to exist.  Facility not free from unsafe, hazardous, offensive or annoying conditions.                                                                                                                                                                                                                                   218\n",
       "Nuisance created or allowed to exist. Facility not free from unsafe, hazardous, offensive or annoying condition.                                                                                                                                                                                                                                     181\n",
       "Lighting fixture located over, by or within food storage, preparation, service or display facility, and facility where utensils and equipment are cleaned and stored, which may shatter due to extreme heat, temperature changes or accidental contact; not fitted with shatterproof bulb or shielded and encased, with end caps or other device.    160\n",
       "Failure to maintain a sufficient supply of single-use, non-compostable plastic straws.                                                                                                                                                                                                                                                               159\n",
       "MISBRANDED AND LABELING                                                                                                                                                                                                                                                                                                                              146\n",
       "Failure to display required signage about plastic straw availability.                                                                                                                                                                                                                                                                                133\n",
       "Bulb not shielded or shatterproof, in areas where there is extreme heat, temperature changes, or where accidental contact may occur.                                                                                                                                                                                                                 126\n",
       "Current letter grade or \"Grade Pending\" card not posted.                                                                                                                                                                                                                                                                                             104\n",
       "Food Protection Certificate not available for inspection                                                                                                                                                                                                                                                                                             101\n",
       "Failure to display required signage about plastic straw availability                                                                                                                                                                                                                                                                                  82\n",
       "Manufacture of frozen dessert not authorized on Food Service Establishment permit. Milk or milk product undated, improperly dated or expired.                                                                                                                                                                                                         49\n",
       "Equipment used for ROP not approved by the Department                                                                                                                                                                                                                                                                                                 45\n",
       "Permit not conspicuously displayed.                                                                                                                                                                                                                                                                                                                   44\n",
       "Sale or use of certain expanded polystyrene items restricted                                                                                                                                                                                                                                                                                          38\n",
       "Providing single-use plastic stirrers or single-use plastic splash sticks.                                                                                                                                                                                                                                                                            38\n",
       "ROP processing equipment not approved by DOHMH.                                                                                                                                                                                                                                                                                                       36\n",
       "Current letter grade or \"Grade Pending\" card not conspicuously posted or visible to passersby                                                                                                                                                                                                                                                         28\n",
       "Expanded Polystyrene (EPS) single service article not designated as a recyclable material.                                                                                                                                                                                                                                                            24\n",
       "Current valid permit, registration or other authorization to operate a Food Service Establishment (FSE) or Non-retail Food Processing Establishment (NRFP) not available.                                                                                                                                                                             20\n",
       "Providing compostable plastic straws to be used outside of the food establishment’s premises; failure to appropriately dispose of compostable plastic straws; failure to maintain required bins for disposal of compostable plastic straws.                                                                                                           15\n",
       "Letter grade or Grade Pending card not conspicuously posted and visible to passersby.                                                                                                                                                                                                                                                                 13\n",
       "Order or notice posted or required to be posted by the Department mutilated, obstructed or removed.                                                                                                                                                                                                                                                   11\n",
       "Failure to comply with an Order of the Board of Health, Commissioner, or Department.                                                                                                                                                                                                                                                                   8\n",
       "Failure to comply with an order of the Board of Health, Commissioner or Department.                                                                                                                                                                                                                                                                    8\n",
       "Document issued by the Board of Health, Commissioner or Department reproduced or altered. False, untrue or misleading statement or document made to, submitted or filed with the Department                                                                                                                                                            8\n",
       "Notice of the Department of Board of Health mutilated, obstructed, or removed.                                                                                                                                                                                                                                                                         5\n",
       "Document issued by the Board of Health, Commissioner or Department unlawfully reproduced or altered.                                                                                                                                                                                                                                                   5\n",
       "Letter grade or Grade Pending card removed, destroyed, modified, obscured, or otherwise tampered with                                                                                                                                                                                                                                                  3\n",
       "Food allergy information poster not posted in language understood by all food workers.                                                                                                                                                                                                                                                                 2\n",
       "Current valid permit, registration or other authorization to operate a Temporary Food Service Establishment (TFSE) not available.                                                                                                                                                                                                                      2\n",
       "Failure to post signage in organics collection area.                                                                                                                                                                                                                                                                                                   1\n",
       "Organics containers not provided                                                                                                                                                                                                                                                                                                                       1\n",
       "Document issued by the Board of Health, Commissioner or Department reproduced or altered.  False, untrue or misleading statement or document made to, submitted or filed with the Department                                                                                                                                                           1\n",
       "Food allergy poster does not contain text provided or approved by Department.                                                                                                                                                                                                                                                                          1\n",
       "Failure to provide a single-use, non-compostable plastic straw upon request.                                                                                                                                                                                                                                                                           1\n",
       "Toilet facility used by women does not have at least one covered garbage receptacle.                                                                                                                                                                                                                                                                   1\n",
       "Name: count, dtype: int64"
      ]
     },
     "execution_count": 1333,
     "metadata": {},
     "output_type": "execute_result"
    }
   ],
   "source": [
    "# Filter for rows where 'inspection_type' starts with \"Administrative\"\n",
    "administrative_rows = inspection_df[inspection_df['inspection_type'].str.startswith(\"Administrative\")]\n",
    "\n",
    "# Get a count of each unique 'violation_description' in these rows\n",
    "violation_description_counts = administrative_rows['violation_description'].value_counts()\n",
    "\n",
    "# Display the counts\n",
    "violation_description_counts"
   ]
  },
  {
   "cell_type": "markdown",
   "metadata": {},
   "source": [
    "The analysis revealed that \"Administrative\" inspections primarily include non-food safety violations, such as missing posters, signage, or documentation, rather than critical food safety issues. Common violations in \"Administrative\" inspections include:\n",
    "\n",
    "Missing \"Choking first aid\" and \"Alcohol and pregnancy\" posters.\n",
    "Failure to post or conspicuously post current letter grades or Grade Pending cards.\n",
    "Providing certain items without customer request, such as plastic straws.\n",
    "\n",
    "Given that \"Administrative\" inspections do not contribute to our food safety analysis and that they primarily involve non-critical violations, we made the decision to drop rows where the 'inspection_type' starts with \"Administrative.\" "
   ]
  },
  {
   "cell_type": "code",
   "execution_count": 1334,
   "metadata": {},
   "outputs": [
    {
     "data": {
      "text/plain": [
       "violation_code           438\n",
       "violation_description    438\n",
       "dtype: int64"
      ]
     },
     "execution_count": 1334,
     "metadata": {},
     "output_type": "execute_result"
    }
   ],
   "source": [
    "# Drop rows where 'inspection_type' starts with \"Administrative\"\n",
    "inspection_df = inspection_df[~inspection_df['inspection_type'].str.startswith(\"Administrative\")]\n",
    "null_counts_by_column = inspection_df.isnull().sum()\n",
    "null_counts_by_column[null_counts_by_column > 0]"
   ]
  },
  {
   "cell_type": "markdown",
   "metadata": {},
   "source": [
    "As a result, the null values in the score column were addressed, so we have no nans left for score.  We will continue to investigate the remaining null values in 'violation_code' and 'violation_description' to gain insights into why they exist, even though they are relatively few in number."
   ]
  },
  {
   "cell_type": "code",
   "execution_count": 1335,
   "metadata": {},
   "outputs": [
    {
     "data": {
      "text/plain": [
       "inspection_type\n",
       "Cycle Inspection / Compliance Inspection             2\n",
       "Cycle Inspection / Initial Inspection              256\n",
       "Cycle Inspection / Re-inspection                    40\n",
       "Cycle Inspection / Reopening Inspection             70\n",
       "Cycle Inspection / Second Compliance Inspection      0\n",
       "Inter-Agency Task Force / Initial Inspection        69\n",
       "Inter-Agency Task Force / Re-inspection              1\n",
       "dtype: int64"
      ]
     },
     "execution_count": 1335,
     "metadata": {},
     "output_type": "execute_result"
    }
   ],
   "source": [
    "# Group by 'inspection_type' and count null 'violation_code' entries\n",
    "null_violation_count = inspection_df.groupby('inspection_type').apply(lambda x: x['violation_code'].isnull().sum())\n",
    "null_violation_count"
   ]
  },
  {
   "cell_type": "markdown",
   "metadata": {},
   "source": [
    "As observed, the presence of null values in the 'violation_code' and 'violation_description' columns varies depending on the inspection type. While this insight doesn't directly explain why these nulls exist, it's a useful observation. To delve deeper into the reasons behind these nulls, we can examine the 'action' column."
   ]
  },
  {
   "cell_type": "code",
   "execution_count": 1336,
   "metadata": {},
   "outputs": [
    {
     "data": {
      "text/plain": [
       "action\n",
       "Establishment re-opened by DOHMH.                               70\n",
       "No violations were recorded at the time of this inspection.    364\n",
       "Violations were cited in the following area(s).                  4\n",
       "dtype: int64"
      ]
     },
     "execution_count": 1336,
     "metadata": {},
     "output_type": "execute_result"
    }
   ],
   "source": [
    "violation_code_null = inspection_df[inspection_df['violation_code'].isna()]\n",
    "# Group by 'inspection_type' and count null 'violation_code' entries\n",
    "null_violation_count = violation_code_null.groupby('action').apply(lambda x: x['violation_code'].isnull().sum())\n",
    "null_violation_count"
   ]
  },
  {
   "cell_type": "code",
   "execution_count": 1337,
   "metadata": {},
   "outputs": [
    {
     "data": {
      "text/plain": [
       "438"
      ]
     },
     "execution_count": 1337,
     "metadata": {},
     "output_type": "execute_result"
    }
   ],
   "source": [
    "null_violation_count.sum()"
   ]
  },
  {
   "cell_type": "markdown",
   "metadata": {},
   "source": [
    "Our analysis has revealed that a significant portion of the null values in the 'violation_code' and 'violation_description' columns are associated with cases where no violations were found during inspections.\n",
    "\n",
    "We plan to handle null values as follows:\n",
    "\n",
    "1.  For rows with \"No violations were recorded at the time of this inspection\" action, also replace NaN values with \"No violations were recorded.\"\n"
   ]
  },
  {
   "cell_type": "code",
   "execution_count": 1338,
   "metadata": {},
   "outputs": [],
   "source": [
    "# Identify rows where 'action' starts with the specified strings and 'violation_code' is null\n",
    "condition = inspection_df['violation_code'].isna() & inspection_df['action'].str.startswith(\"No violations were recorded at the time of this inspection.\")\n",
    "\n",
    "# Update 'violation_code' and 'violation_description' for these rows\n",
    "inspection_df.loc[condition, ['violation_code', 'violation_description']] = ['none', 'No violations were recorded']"
   ]
  },
  {
   "cell_type": "code",
   "execution_count": 1339,
   "metadata": {},
   "outputs": [
    {
     "data": {
      "text/plain": [
       "action\n",
       "Establishment re-opened by DOHMH.                  70\n",
       "Violations were cited in the following area(s).     4\n",
       "dtype: int64"
      ]
     },
     "execution_count": 1339,
     "metadata": {},
     "output_type": "execute_result"
    }
   ],
   "source": [
    "violation_code_null = inspection_df[inspection_df['violation_code'].isna()]\n",
    "# Group by 'inspection_type' and count null 'violation_code' entries\n",
    "null_violation_count = violation_code_null.groupby('action').apply(lambda x: x['violation_code'].isnull().sum())\n",
    "null_violation_count"
   ]
  },
  {
   "cell_type": "markdown",
   "metadata": {},
   "source": [
    "\n",
    "To gain further clarity and address the remaining nulls, we will focus on the few remaining rows. Let's begin by examining the rows related to reopening inspections to understand why some of them have null values in these columns."
   ]
  },
  {
   "cell_type": "code",
   "execution_count": 1340,
   "metadata": {},
   "outputs": [
    {
     "data": {
      "text/plain": [
       "1360"
      ]
     },
     "execution_count": 1340,
     "metadata": {},
     "output_type": "execute_result"
    }
   ],
   "source": [
    "# Filter rows where 'inspection_type' starts with \"Administrative\"\n",
    "action_reopened = inspection_df[inspection_df['action'].str.startswith(\"Establishment re-opened by DOHMH\")]\n",
    "len(action_reopened)"
   ]
  },
  {
   "cell_type": "code",
   "execution_count": 1341,
   "metadata": {},
   "outputs": [
    {
     "data": {
      "text/html": [
       "<div>\n",
       "<style scoped>\n",
       "    .dataframe tbody tr th:only-of-type {\n",
       "        vertical-align: middle;\n",
       "    }\n",
       "\n",
       "    .dataframe tbody tr th {\n",
       "        vertical-align: top;\n",
       "    }\n",
       "\n",
       "    .dataframe thead th {\n",
       "        text-align: right;\n",
       "    }\n",
       "</style>\n",
       "<table border=\"1\" class=\"dataframe\">\n",
       "  <thead>\n",
       "    <tr style=\"text-align: right;\">\n",
       "      <th></th>\n",
       "      <th>camis</th>\n",
       "      <th>dba</th>\n",
       "      <th>boro</th>\n",
       "      <th>building</th>\n",
       "      <th>street</th>\n",
       "      <th>zipcode</th>\n",
       "      <th>phone</th>\n",
       "      <th>cuisine_description</th>\n",
       "      <th>inspection_date</th>\n",
       "      <th>action</th>\n",
       "      <th>critical_flag</th>\n",
       "      <th>score</th>\n",
       "      <th>record_date</th>\n",
       "      <th>inspection_type</th>\n",
       "      <th>latitude</th>\n",
       "      <th>longitude</th>\n",
       "      <th>community_board</th>\n",
       "      <th>council_district</th>\n",
       "      <th>census_tract</th>\n",
       "      <th>bin</th>\n",
       "      <th>bbl</th>\n",
       "      <th>nta</th>\n",
       "      <th>violation_code</th>\n",
       "      <th>violation_description</th>\n",
       "    </tr>\n",
       "  </thead>\n",
       "  <tbody>\n",
       "    <tr>\n",
       "      <th>9</th>\n",
       "      <td>50078860</td>\n",
       "      <td>A FEI CHINESE RESTAURANT</td>\n",
       "      <td>Brooklyn</td>\n",
       "      <td>553</td>\n",
       "      <td>THROOP AVENUE</td>\n",
       "      <td>11216.0</td>\n",
       "      <td>7184535205</td>\n",
       "      <td>Chinese</td>\n",
       "      <td>2022-02-23T00:00:00.000</td>\n",
       "      <td>Establishment re-opened by DOHMH.</td>\n",
       "      <td>Not Applicable</td>\n",
       "      <td>0.0</td>\n",
       "      <td>2023-12-01T06:00:08.000</td>\n",
       "      <td>Cycle Inspection / Reopening Inspection</td>\n",
       "      <td>40.683160</td>\n",
       "      <td>-73.940966</td>\n",
       "      <td>303.0</td>\n",
       "      <td>36.0</td>\n",
       "      <td>27500.0</td>\n",
       "      <td>3052864.0</td>\n",
       "      <td>3.018410e+09</td>\n",
       "      <td>BK35</td>\n",
       "      <td>NaN</td>\n",
       "      <td>NaN</td>\n",
       "    </tr>\n",
       "    <tr>\n",
       "      <th>88</th>\n",
       "      <td>50032753</td>\n",
       "      <td>AGAVI ORGANIC JUICEBAR</td>\n",
       "      <td>Manhattan</td>\n",
       "      <td>72</td>\n",
       "      <td>EAST    7 STREET</td>\n",
       "      <td>10003.0</td>\n",
       "      <td>2123908042</td>\n",
       "      <td>Juice, Smoothies, Fruit Salads</td>\n",
       "      <td>2022-03-11T00:00:00.000</td>\n",
       "      <td>Establishment re-opened by DOHMH.</td>\n",
       "      <td>Not Applicable</td>\n",
       "      <td>0.0</td>\n",
       "      <td>2023-12-01T06:00:08.000</td>\n",
       "      <td>Cycle Inspection / Reopening Inspection</td>\n",
       "      <td>40.727390</td>\n",
       "      <td>-73.986766</td>\n",
       "      <td>103.0</td>\n",
       "      <td>2.0</td>\n",
       "      <td>3800.0</td>\n",
       "      <td>1006277.0</td>\n",
       "      <td>1.004480e+09</td>\n",
       "      <td>MN22</td>\n",
       "      <td>NaN</td>\n",
       "      <td>NaN</td>\n",
       "    </tr>\n",
       "    <tr>\n",
       "      <th>139</th>\n",
       "      <td>50005590</td>\n",
       "      <td>FAMOUS SICHUAN</td>\n",
       "      <td>Manhattan</td>\n",
       "      <td>10</td>\n",
       "      <td>PELL STREET</td>\n",
       "      <td>10013.0</td>\n",
       "      <td>2122333888</td>\n",
       "      <td>Chinese</td>\n",
       "      <td>2022-09-29T00:00:00.000</td>\n",
       "      <td>Establishment re-opened by DOHMH.</td>\n",
       "      <td>Not Applicable</td>\n",
       "      <td>0.0</td>\n",
       "      <td>2023-12-01T06:00:08.000</td>\n",
       "      <td>Cycle Inspection / Reopening Inspection</td>\n",
       "      <td>40.714729</td>\n",
       "      <td>-73.997598</td>\n",
       "      <td>103.0</td>\n",
       "      <td>1.0</td>\n",
       "      <td>2900.0</td>\n",
       "      <td>1001776.0</td>\n",
       "      <td>1.001630e+09</td>\n",
       "      <td>MN27</td>\n",
       "      <td>NaN</td>\n",
       "      <td>NaN</td>\n",
       "    </tr>\n",
       "    <tr>\n",
       "      <th>227</th>\n",
       "      <td>41549281</td>\n",
       "      <td>DUNKIN</td>\n",
       "      <td>Manhattan</td>\n",
       "      <td>316</td>\n",
       "      <td>WEST   34 STREET</td>\n",
       "      <td>10001.0</td>\n",
       "      <td>2127602600</td>\n",
       "      <td>Donuts</td>\n",
       "      <td>2022-07-29T00:00:00.000</td>\n",
       "      <td>Establishment re-opened by DOHMH.</td>\n",
       "      <td>Not Applicable</td>\n",
       "      <td>0.0</td>\n",
       "      <td>2023-12-01T06:00:08.000</td>\n",
       "      <td>Cycle Inspection / Reopening Inspection</td>\n",
       "      <td>40.752494</td>\n",
       "      <td>-73.994221</td>\n",
       "      <td>104.0</td>\n",
       "      <td>3.0</td>\n",
       "      <td>10300.0</td>\n",
       "      <td>1013552.0</td>\n",
       "      <td>1.007570e+09</td>\n",
       "      <td>MN13</td>\n",
       "      <td>NaN</td>\n",
       "      <td>NaN</td>\n",
       "    </tr>\n",
       "    <tr>\n",
       "      <th>249</th>\n",
       "      <td>41642570</td>\n",
       "      <td>JOHN'S DELI</td>\n",
       "      <td>Brooklyn</td>\n",
       "      <td>2438</td>\n",
       "      <td>STILLWELL AVENUE</td>\n",
       "      <td>11223.0</td>\n",
       "      <td>7187144377</td>\n",
       "      <td>American</td>\n",
       "      <td>2022-01-25T00:00:00.000</td>\n",
       "      <td>Establishment re-opened by DOHMH.</td>\n",
       "      <td>Not Applicable</td>\n",
       "      <td>0.0</td>\n",
       "      <td>2023-12-01T06:00:08.000</td>\n",
       "      <td>Cycle Inspection / Reopening Inspection</td>\n",
       "      <td>40.588029</td>\n",
       "      <td>-73.983622</td>\n",
       "      <td>313.0</td>\n",
       "      <td>47.0</td>\n",
       "      <td>30800.0</td>\n",
       "      <td>3187046.0</td>\n",
       "      <td>3.069050e+09</td>\n",
       "      <td>BK26</td>\n",
       "      <td>NaN</td>\n",
       "      <td>NaN</td>\n",
       "    </tr>\n",
       "  </tbody>\n",
       "</table>\n",
       "</div>"
      ],
      "text/plain": [
       "        camis                       dba       boro building            street  \\\n",
       "9    50078860  A FEI CHINESE RESTAURANT   Brooklyn      553     THROOP AVENUE   \n",
       "88   50032753    AGAVI ORGANIC JUICEBAR  Manhattan       72  EAST    7 STREET   \n",
       "139  50005590            FAMOUS SICHUAN  Manhattan       10       PELL STREET   \n",
       "227  41549281                    DUNKIN  Manhattan      316  WEST   34 STREET   \n",
       "249  41642570               JOHN'S DELI   Brooklyn     2438  STILLWELL AVENUE   \n",
       "\n",
       "     zipcode       phone             cuisine_description  \\\n",
       "9    11216.0  7184535205                         Chinese   \n",
       "88   10003.0  2123908042  Juice, Smoothies, Fruit Salads   \n",
       "139  10013.0  2122333888                         Chinese   \n",
       "227  10001.0  2127602600                          Donuts   \n",
       "249  11223.0  7187144377                        American   \n",
       "\n",
       "             inspection_date                             action  \\\n",
       "9    2022-02-23T00:00:00.000  Establishment re-opened by DOHMH.   \n",
       "88   2022-03-11T00:00:00.000  Establishment re-opened by DOHMH.   \n",
       "139  2022-09-29T00:00:00.000  Establishment re-opened by DOHMH.   \n",
       "227  2022-07-29T00:00:00.000  Establishment re-opened by DOHMH.   \n",
       "249  2022-01-25T00:00:00.000  Establishment re-opened by DOHMH.   \n",
       "\n",
       "      critical_flag  score              record_date  \\\n",
       "9    Not Applicable    0.0  2023-12-01T06:00:08.000   \n",
       "88   Not Applicable    0.0  2023-12-01T06:00:08.000   \n",
       "139  Not Applicable    0.0  2023-12-01T06:00:08.000   \n",
       "227  Not Applicable    0.0  2023-12-01T06:00:08.000   \n",
       "249  Not Applicable    0.0  2023-12-01T06:00:08.000   \n",
       "\n",
       "                             inspection_type   latitude  longitude  \\\n",
       "9    Cycle Inspection / Reopening Inspection  40.683160 -73.940966   \n",
       "88   Cycle Inspection / Reopening Inspection  40.727390 -73.986766   \n",
       "139  Cycle Inspection / Reopening Inspection  40.714729 -73.997598   \n",
       "227  Cycle Inspection / Reopening Inspection  40.752494 -73.994221   \n",
       "249  Cycle Inspection / Reopening Inspection  40.588029 -73.983622   \n",
       "\n",
       "     community_board  council_district  census_tract        bin           bbl  \\\n",
       "9              303.0              36.0       27500.0  3052864.0  3.018410e+09   \n",
       "88             103.0               2.0        3800.0  1006277.0  1.004480e+09   \n",
       "139            103.0               1.0        2900.0  1001776.0  1.001630e+09   \n",
       "227            104.0               3.0       10300.0  1013552.0  1.007570e+09   \n",
       "249            313.0              47.0       30800.0  3187046.0  3.069050e+09   \n",
       "\n",
       "      nta violation_code violation_description  \n",
       "9    BK35            NaN                   NaN  \n",
       "88   MN22            NaN                   NaN  \n",
       "139  MN27            NaN                   NaN  \n",
       "227  MN13            NaN                   NaN  \n",
       "249  BK26            NaN                   NaN  "
      ]
     },
     "execution_count": 1341,
     "metadata": {},
     "output_type": "execute_result"
    }
   ],
   "source": [
    "action_reopened.head(5)"
   ]
  },
  {
   "cell_type": "markdown",
   "metadata": {},
   "source": [
    "the reopening inspections with some having violation codes and descriptions while others have NaN values, we can reasonably assume that the ones with NaN values indicate no violations were found during those inspections. Therefore\n",
    "\n",
    "We plan to handle null values as follows:\n",
    "\n",
    "1.  For rows with \"Establishment re-opened by DOHMH\" action, replace NaN values with \"No violations were recorded.\"\n"
   ]
  },
  {
   "cell_type": "code",
   "execution_count": 1342,
   "metadata": {},
   "outputs": [],
   "source": [
    "# Identify rows where 'action' starts with the specified strings and 'violation_code' is null\n",
    "condition = inspection_df['violation_code'].isna() & inspection_df['action'].str.startswith(\"Establishment re-opened by DOHMH\")\n",
    "\n",
    "# Update 'violation_code' and 'violation_description' for these rows\n",
    "inspection_df.loc[condition, ['violation_code', 'violation_description']] = ['none', 'No violations were recorded']"
   ]
  },
  {
   "cell_type": "code",
   "execution_count": 1343,
   "metadata": {},
   "outputs": [
    {
     "data": {
      "text/plain": [
       "action\n",
       "Violations were cited in the following area(s).    4\n",
       "dtype: int64"
      ]
     },
     "execution_count": 1343,
     "metadata": {},
     "output_type": "execute_result"
    }
   ],
   "source": [
    "violation_code_null = inspection_df[inspection_df['violation_code'].isna()]\n",
    "# Group by 'inspection_type' and count null 'violation_code' entries\n",
    "null_violation_count = violation_code_null.groupby('action').apply(lambda x: x['violation_code'].isnull().sum())\n",
    "null_violation_count"
   ]
  },
  {
   "cell_type": "markdown",
   "metadata": {},
   "source": [
    "That leaves us with:\n",
    "- Violations were cited in the following area(s).\n"
   ]
  },
  {
   "cell_type": "code",
   "execution_count": 1344,
   "metadata": {},
   "outputs": [
    {
     "data": {
      "text/html": [
       "<div>\n",
       "<style scoped>\n",
       "    .dataframe tbody tr th:only-of-type {\n",
       "        vertical-align: middle;\n",
       "    }\n",
       "\n",
       "    .dataframe tbody tr th {\n",
       "        vertical-align: top;\n",
       "    }\n",
       "\n",
       "    .dataframe thead th {\n",
       "        text-align: right;\n",
       "    }\n",
       "</style>\n",
       "<table border=\"1\" class=\"dataframe\">\n",
       "  <thead>\n",
       "    <tr style=\"text-align: right;\">\n",
       "      <th></th>\n",
       "      <th>camis</th>\n",
       "      <th>dba</th>\n",
       "      <th>boro</th>\n",
       "      <th>building</th>\n",
       "      <th>street</th>\n",
       "      <th>zipcode</th>\n",
       "      <th>phone</th>\n",
       "      <th>cuisine_description</th>\n",
       "      <th>inspection_date</th>\n",
       "      <th>action</th>\n",
       "      <th>critical_flag</th>\n",
       "      <th>score</th>\n",
       "      <th>record_date</th>\n",
       "      <th>inspection_type</th>\n",
       "      <th>latitude</th>\n",
       "      <th>longitude</th>\n",
       "      <th>community_board</th>\n",
       "      <th>council_district</th>\n",
       "      <th>census_tract</th>\n",
       "      <th>bin</th>\n",
       "      <th>bbl</th>\n",
       "      <th>nta</th>\n",
       "      <th>violation_code</th>\n",
       "      <th>violation_description</th>\n",
       "    </tr>\n",
       "  </thead>\n",
       "  <tbody>\n",
       "    <tr>\n",
       "      <th>2</th>\n",
       "      <td>50064240</td>\n",
       "      <td>DAXI SICHUAN</td>\n",
       "      <td>Queens</td>\n",
       "      <td>136-20</td>\n",
       "      <td>ROOSEVELT AVENUE</td>\n",
       "      <td>11354.0</td>\n",
       "      <td>9175631983</td>\n",
       "      <td>Chinese</td>\n",
       "      <td>2022-09-21T00:00:00.000</td>\n",
       "      <td>Violations were cited in the following area(s).</td>\n",
       "      <td>Not Critical</td>\n",
       "      <td>13.0</td>\n",
       "      <td>2023-12-01T06:00:08.000</td>\n",
       "      <td>Cycle Inspection / Initial Inspection</td>\n",
       "      <td>40.759778</td>\n",
       "      <td>-73.829235</td>\n",
       "      <td>407.0</td>\n",
       "      <td>20.0</td>\n",
       "      <td>85300.0</td>\n",
       "      <td>4113546.0</td>\n",
       "      <td>4.050190e+09</td>\n",
       "      <td>QN22</td>\n",
       "      <td>09B</td>\n",
       "      <td>Thawing procedure improper.</td>\n",
       "    </tr>\n",
       "    <tr>\n",
       "      <th>4</th>\n",
       "      <td>50069583</td>\n",
       "      <td>PHO BEST</td>\n",
       "      <td>Queens</td>\n",
       "      <td>4235</td>\n",
       "      <td>MAIN ST</td>\n",
       "      <td>11355.0</td>\n",
       "      <td>9173618878</td>\n",
       "      <td>Southeast Asian</td>\n",
       "      <td>2022-05-09T00:00:00.000</td>\n",
       "      <td>Violations were cited in the following area(s).</td>\n",
       "      <td>Critical</td>\n",
       "      <td>30.0</td>\n",
       "      <td>2023-12-01T06:00:08.000</td>\n",
       "      <td>Cycle Inspection / Initial Inspection</td>\n",
       "      <td>40.754418</td>\n",
       "      <td>-73.827881</td>\n",
       "      <td>407.0</td>\n",
       "      <td>20.0</td>\n",
       "      <td>85300.0</td>\n",
       "      <td>4573539.0</td>\n",
       "      <td>4.051358e+09</td>\n",
       "      <td>QN22</td>\n",
       "      <td>02B</td>\n",
       "      <td>Hot food item not held at or above 140º F.</td>\n",
       "    </tr>\n",
       "    <tr>\n",
       "      <th>7</th>\n",
       "      <td>50089970</td>\n",
       "      <td>FOO ON RESTAURANT</td>\n",
       "      <td>Queens</td>\n",
       "      <td>18304</td>\n",
       "      <td>HILLSIDE AVE</td>\n",
       "      <td>11432.0</td>\n",
       "      <td>7182971287</td>\n",
       "      <td>Chinese</td>\n",
       "      <td>2022-04-08T00:00:00.000</td>\n",
       "      <td>Violations were cited in the following area(s).</td>\n",
       "      <td>Not Critical</td>\n",
       "      <td>19.0</td>\n",
       "      <td>2023-12-01T06:00:08.000</td>\n",
       "      <td>Cycle Inspection / Initial Inspection</td>\n",
       "      <td>40.713870</td>\n",
       "      <td>-73.778712</td>\n",
       "      <td>412.0</td>\n",
       "      <td>23.0</td>\n",
       "      <td>47000.0</td>\n",
       "      <td>4212729.0</td>\n",
       "      <td>4.099300e+09</td>\n",
       "      <td>QN61</td>\n",
       "      <td>10J</td>\n",
       "      <td>Hand wash sign not posted</td>\n",
       "    </tr>\n",
       "    <tr>\n",
       "      <th>8</th>\n",
       "      <td>40986189</td>\n",
       "      <td>LIEBMAN'S DELI</td>\n",
       "      <td>Bronx</td>\n",
       "      <td>552</td>\n",
       "      <td>WEST  235 STREET</td>\n",
       "      <td>10463.0</td>\n",
       "      <td>7185484534</td>\n",
       "      <td>Jewish/Kosher</td>\n",
       "      <td>2023-10-18T00:00:00.000</td>\n",
       "      <td>Violations were cited in the following area(s).</td>\n",
       "      <td>Critical</td>\n",
       "      <td>23.0</td>\n",
       "      <td>2023-12-01T06:00:08.000</td>\n",
       "      <td>Cycle Inspection / Initial Inspection</td>\n",
       "      <td>40.885579</td>\n",
       "      <td>-73.909622</td>\n",
       "      <td>208.0</td>\n",
       "      <td>11.0</td>\n",
       "      <td>29500.0</td>\n",
       "      <td>2084091.0</td>\n",
       "      <td>2.057860e+09</td>\n",
       "      <td>BX29</td>\n",
       "      <td>02B</td>\n",
       "      <td>Hot TCS food item not held at or above 140 °F.</td>\n",
       "    </tr>\n",
       "    <tr>\n",
       "      <th>11</th>\n",
       "      <td>41433469</td>\n",
       "      <td>THE CAPITAL GRILLE</td>\n",
       "      <td>Manhattan</td>\n",
       "      <td>120</td>\n",
       "      <td>BROADWAY</td>\n",
       "      <td>10271.0</td>\n",
       "      <td>2123741811</td>\n",
       "      <td>American</td>\n",
       "      <td>2019-10-21T00:00:00.000</td>\n",
       "      <td>Violations were cited in the following area(s).</td>\n",
       "      <td>Critical</td>\n",
       "      <td>11.0</td>\n",
       "      <td>2023-12-01T06:00:08.000</td>\n",
       "      <td>Cycle Inspection / Re-inspection</td>\n",
       "      <td>40.708539</td>\n",
       "      <td>-74.011041</td>\n",
       "      <td>101.0</td>\n",
       "      <td>1.0</td>\n",
       "      <td>700.0</td>\n",
       "      <td>1001026.0</td>\n",
       "      <td>1.000478e+09</td>\n",
       "      <td>MN25</td>\n",
       "      <td>02B</td>\n",
       "      <td>Hot food item not held at or above 140º F.</td>\n",
       "    </tr>\n",
       "  </tbody>\n",
       "</table>\n",
       "</div>"
      ],
      "text/plain": [
       "       camis                 dba       boro building            street  \\\n",
       "2   50064240        DAXI SICHUAN     Queens   136-20  ROOSEVELT AVENUE   \n",
       "4   50069583            PHO BEST     Queens     4235           MAIN ST   \n",
       "7   50089970   FOO ON RESTAURANT     Queens    18304      HILLSIDE AVE   \n",
       "8   40986189      LIEBMAN'S DELI      Bronx      552  WEST  235 STREET   \n",
       "11  41433469  THE CAPITAL GRILLE  Manhattan      120          BROADWAY   \n",
       "\n",
       "    zipcode       phone cuisine_description          inspection_date  \\\n",
       "2   11354.0  9175631983             Chinese  2022-09-21T00:00:00.000   \n",
       "4   11355.0  9173618878     Southeast Asian  2022-05-09T00:00:00.000   \n",
       "7   11432.0  7182971287             Chinese  2022-04-08T00:00:00.000   \n",
       "8   10463.0  7185484534       Jewish/Kosher  2023-10-18T00:00:00.000   \n",
       "11  10271.0  2123741811            American  2019-10-21T00:00:00.000   \n",
       "\n",
       "                                             action critical_flag  score  \\\n",
       "2   Violations were cited in the following area(s).  Not Critical   13.0   \n",
       "4   Violations were cited in the following area(s).      Critical   30.0   \n",
       "7   Violations were cited in the following area(s).  Not Critical   19.0   \n",
       "8   Violations were cited in the following area(s).      Critical   23.0   \n",
       "11  Violations were cited in the following area(s).      Critical   11.0   \n",
       "\n",
       "                record_date                        inspection_type   latitude  \\\n",
       "2   2023-12-01T06:00:08.000  Cycle Inspection / Initial Inspection  40.759778   \n",
       "4   2023-12-01T06:00:08.000  Cycle Inspection / Initial Inspection  40.754418   \n",
       "7   2023-12-01T06:00:08.000  Cycle Inspection / Initial Inspection  40.713870   \n",
       "8   2023-12-01T06:00:08.000  Cycle Inspection / Initial Inspection  40.885579   \n",
       "11  2023-12-01T06:00:08.000       Cycle Inspection / Re-inspection  40.708539   \n",
       "\n",
       "    longitude  community_board  council_district  census_tract        bin  \\\n",
       "2  -73.829235            407.0              20.0       85300.0  4113546.0   \n",
       "4  -73.827881            407.0              20.0       85300.0  4573539.0   \n",
       "7  -73.778712            412.0              23.0       47000.0  4212729.0   \n",
       "8  -73.909622            208.0              11.0       29500.0  2084091.0   \n",
       "11 -74.011041            101.0               1.0         700.0  1001026.0   \n",
       "\n",
       "             bbl   nta violation_code  \\\n",
       "2   4.050190e+09  QN22            09B   \n",
       "4   4.051358e+09  QN22            02B   \n",
       "7   4.099300e+09  QN61            10J   \n",
       "8   2.057860e+09  BX29            02B   \n",
       "11  1.000478e+09  MN25            02B   \n",
       "\n",
       "                             violation_description  \n",
       "2                      Thawing procedure improper.  \n",
       "4       Hot food item not held at or above 140º F.  \n",
       "7                        Hand wash sign not posted  \n",
       "8   Hot TCS food item not held at or above 140 °F.  \n",
       "11      Hot food item not held at or above 140º F.  "
      ]
     },
     "execution_count": 1344,
     "metadata": {},
     "output_type": "execute_result"
    }
   ],
   "source": [
    "# Drop rows where 'inspection_type' starts with \"Violations\"\n",
    "action_violationcited = inspection_df[inspection_df['action'].str.startswith(\"Violations were cited in the following area(s)\")]\n",
    "action_violationcited.head()"
   ]
  },
  {
   "cell_type": "markdown",
   "metadata": {},
   "source": [
    "We examine inspections with the action \"Violations were cited in the following area(s),\" which have a mix of nulls and codes. We assume that the nulls were in error.\n",
    "\n",
    "We plan to handle null values as follows:\n",
    "\n",
    "1.  Drop rows with the action \"Violations were cited in the following area(s)\"."
   ]
  },
  {
   "cell_type": "code",
   "execution_count": 1345,
   "metadata": {},
   "outputs": [],
   "source": [
    "inspection_df = inspection_df.drop(inspection_df[(inspection_df['violation_code'].isna()) & (inspection_df['action'].str.startswith(\"Violations were cited in the following area(s)\"))].index)"
   ]
  },
  {
   "cell_type": "markdown",
   "metadata": {},
   "source": [
    "There are no violation_code nulls left."
   ]
  },
  {
   "cell_type": "code",
   "execution_count": 1346,
   "metadata": {},
   "outputs": [
    {
     "data": {
      "text/plain": [
       "Series([], dtype: int64)"
      ]
     },
     "execution_count": 1346,
     "metadata": {},
     "output_type": "execute_result"
    }
   ],
   "source": [
    "null_counts_by_column = inspection_df.isnull().sum()\n",
    "null_counts_by_column[null_counts_by_column > 0]"
   ]
  },
  {
   "cell_type": "markdown",
   "metadata": {},
   "source": [
    "We have sucessfully addressed all the nulls in the dataframe. "
   ]
  },
  {
   "cell_type": "code",
   "execution_count": 1347,
   "metadata": {},
   "outputs": [
    {
     "data": {
      "text/html": [
       "<div>\n",
       "<style scoped>\n",
       "    .dataframe tbody tr th:only-of-type {\n",
       "        vertical-align: middle;\n",
       "    }\n",
       "\n",
       "    .dataframe tbody tr th {\n",
       "        vertical-align: top;\n",
       "    }\n",
       "\n",
       "    .dataframe thead th {\n",
       "        text-align: right;\n",
       "    }\n",
       "</style>\n",
       "<table border=\"1\" class=\"dataframe\">\n",
       "  <thead>\n",
       "    <tr style=\"text-align: right;\">\n",
       "      <th></th>\n",
       "      <th>Numeric_Zero_Count</th>\n",
       "      <th>String_Zero_Count</th>\n",
       "      <th>Null_Count</th>\n",
       "    </tr>\n",
       "  </thead>\n",
       "  <tbody>\n",
       "    <tr>\n",
       "      <th>camis</th>\n",
       "      <td>0</td>\n",
       "      <td>0</td>\n",
       "      <td>0</td>\n",
       "    </tr>\n",
       "    <tr>\n",
       "      <th>dba</th>\n",
       "      <td>0</td>\n",
       "      <td>0</td>\n",
       "      <td>0</td>\n",
       "    </tr>\n",
       "    <tr>\n",
       "      <th>boro</th>\n",
       "      <td>0</td>\n",
       "      <td>0</td>\n",
       "      <td>0</td>\n",
       "    </tr>\n",
       "    <tr>\n",
       "      <th>building</th>\n",
       "      <td>0</td>\n",
       "      <td>276</td>\n",
       "      <td>0</td>\n",
       "    </tr>\n",
       "    <tr>\n",
       "      <th>street</th>\n",
       "      <td>0</td>\n",
       "      <td>0</td>\n",
       "      <td>0</td>\n",
       "    </tr>\n",
       "    <tr>\n",
       "      <th>zipcode</th>\n",
       "      <td>0</td>\n",
       "      <td>0</td>\n",
       "      <td>0</td>\n",
       "    </tr>\n",
       "    <tr>\n",
       "      <th>phone</th>\n",
       "      <td>0</td>\n",
       "      <td>0</td>\n",
       "      <td>0</td>\n",
       "    </tr>\n",
       "    <tr>\n",
       "      <th>cuisine_description</th>\n",
       "      <td>0</td>\n",
       "      <td>0</td>\n",
       "      <td>0</td>\n",
       "    </tr>\n",
       "    <tr>\n",
       "      <th>inspection_date</th>\n",
       "      <td>0</td>\n",
       "      <td>0</td>\n",
       "      <td>0</td>\n",
       "    </tr>\n",
       "    <tr>\n",
       "      <th>action</th>\n",
       "      <td>0</td>\n",
       "      <td>0</td>\n",
       "      <td>0</td>\n",
       "    </tr>\n",
       "    <tr>\n",
       "      <th>critical_flag</th>\n",
       "      <td>0</td>\n",
       "      <td>0</td>\n",
       "      <td>0</td>\n",
       "    </tr>\n",
       "    <tr>\n",
       "      <th>score</th>\n",
       "      <td>7723</td>\n",
       "      <td>0</td>\n",
       "      <td>0</td>\n",
       "    </tr>\n",
       "    <tr>\n",
       "      <th>record_date</th>\n",
       "      <td>0</td>\n",
       "      <td>0</td>\n",
       "      <td>0</td>\n",
       "    </tr>\n",
       "    <tr>\n",
       "      <th>inspection_type</th>\n",
       "      <td>0</td>\n",
       "      <td>0</td>\n",
       "      <td>0</td>\n",
       "    </tr>\n",
       "    <tr>\n",
       "      <th>latitude</th>\n",
       "      <td>0</td>\n",
       "      <td>0</td>\n",
       "      <td>0</td>\n",
       "    </tr>\n",
       "    <tr>\n",
       "      <th>longitude</th>\n",
       "      <td>0</td>\n",
       "      <td>0</td>\n",
       "      <td>0</td>\n",
       "    </tr>\n",
       "    <tr>\n",
       "      <th>community_board</th>\n",
       "      <td>0</td>\n",
       "      <td>0</td>\n",
       "      <td>0</td>\n",
       "    </tr>\n",
       "    <tr>\n",
       "      <th>council_district</th>\n",
       "      <td>0</td>\n",
       "      <td>0</td>\n",
       "      <td>0</td>\n",
       "    </tr>\n",
       "    <tr>\n",
       "      <th>census_tract</th>\n",
       "      <td>0</td>\n",
       "      <td>0</td>\n",
       "      <td>0</td>\n",
       "    </tr>\n",
       "    <tr>\n",
       "      <th>bin</th>\n",
       "      <td>0</td>\n",
       "      <td>0</td>\n",
       "      <td>0</td>\n",
       "    </tr>\n",
       "    <tr>\n",
       "      <th>bbl</th>\n",
       "      <td>0</td>\n",
       "      <td>0</td>\n",
       "      <td>0</td>\n",
       "    </tr>\n",
       "    <tr>\n",
       "      <th>nta</th>\n",
       "      <td>0</td>\n",
       "      <td>0</td>\n",
       "      <td>0</td>\n",
       "    </tr>\n",
       "    <tr>\n",
       "      <th>violation_code</th>\n",
       "      <td>0</td>\n",
       "      <td>0</td>\n",
       "      <td>0</td>\n",
       "    </tr>\n",
       "    <tr>\n",
       "      <th>violation_description</th>\n",
       "      <td>0</td>\n",
       "      <td>0</td>\n",
       "      <td>0</td>\n",
       "    </tr>\n",
       "  </tbody>\n",
       "</table>\n",
       "</div>"
      ],
      "text/plain": [
       "                       Numeric_Zero_Count  String_Zero_Count  Null_Count\n",
       "camis                                   0                  0           0\n",
       "dba                                     0                  0           0\n",
       "boro                                    0                  0           0\n",
       "building                                0                276           0\n",
       "street                                  0                  0           0\n",
       "zipcode                                 0                  0           0\n",
       "phone                                   0                  0           0\n",
       "cuisine_description                     0                  0           0\n",
       "inspection_date                         0                  0           0\n",
       "action                                  0                  0           0\n",
       "critical_flag                           0                  0           0\n",
       "score                                7723                  0           0\n",
       "record_date                             0                  0           0\n",
       "inspection_type                         0                  0           0\n",
       "latitude                                0                  0           0\n",
       "longitude                               0                  0           0\n",
       "community_board                         0                  0           0\n",
       "council_district                        0                  0           0\n",
       "census_tract                            0                  0           0\n",
       "bin                                     0                  0           0\n",
       "bbl                                     0                  0           0\n",
       "nta                                     0                  0           0\n",
       "violation_code                          0                  0           0\n",
       "violation_description                   0                  0           0"
      ]
     },
     "execution_count": 1347,
     "metadata": {},
     "output_type": "execute_result"
    }
   ],
   "source": [
    "pd.DataFrame({\n",
    "    'Numeric_Zero_Count': (inspection_df == 0).sum(),\n",
    "    'String_Zero_Count': (inspection_df == '0').sum(),\n",
    "    'Null_Count': (inspection_df.isna().sum()).sum()\n",
    "})"
   ]
  },
  {
   "cell_type": "markdown",
   "metadata": {},
   "source": [
    "#### Dealing with 0s\n",
    "\n",
    "For the 'building' column, it appears to have some 0 values, but there's not much we can do about that, so we will leave it as is.\n",
    "\n",
    "Regarding the 'score' column, we can infer that a score of 0 indicates no violations."
   ]
  },
  {
   "cell_type": "markdown",
   "metadata": {},
   "source": [
    "### Dealing with Data Types"
   ]
  },
  {
   "cell_type": "code",
   "execution_count": 1348,
   "metadata": {},
   "outputs": [
    {
     "name": "stdout",
     "output_type": "stream",
     "text": [
      "<class 'pandas.core.frame.DataFrame'>\n",
      "Index: 149942 entries, 0 to 207364\n",
      "Data columns (total 24 columns):\n",
      " #   Column                 Non-Null Count   Dtype  \n",
      "---  ------                 --------------   -----  \n",
      " 0   camis                  149942 non-null  int64  \n",
      " 1   dba                    149942 non-null  object \n",
      " 2   boro                   149942 non-null  object \n",
      " 3   building               149942 non-null  object \n",
      " 4   street                 149942 non-null  object \n",
      " 5   zipcode                149942 non-null  float64\n",
      " 6   phone                  149942 non-null  object \n",
      " 7   cuisine_description    149942 non-null  object \n",
      " 8   inspection_date        149942 non-null  object \n",
      " 9   action                 149942 non-null  object \n",
      " 10  critical_flag          149942 non-null  object \n",
      " 11  score                  149942 non-null  float64\n",
      " 12  record_date            149942 non-null  object \n",
      " 13  inspection_type        149942 non-null  object \n",
      " 14  latitude               149942 non-null  float64\n",
      " 15  longitude              149942 non-null  float64\n",
      " 16  community_board        149942 non-null  float64\n",
      " 17  council_district       149942 non-null  float64\n",
      " 18  census_tract           149942 non-null  float64\n",
      " 19  bin                    149942 non-null  float64\n",
      " 20  bbl                    149942 non-null  float64\n",
      " 21  nta                    149942 non-null  object \n",
      " 22  violation_code         149942 non-null  object \n",
      " 23  violation_description  149942 non-null  object \n",
      "dtypes: float64(9), int64(1), object(14)\n",
      "memory usage: 28.6+ MB\n"
     ]
    }
   ],
   "source": [
    "inspection_df.info()"
   ]
  },
  {
   "cell_type": "markdown",
   "metadata": {},
   "source": [
    "### Building Column\n",
    "First, lets address the building column."
   ]
  },
  {
   "cell_type": "code",
   "execution_count": 1349,
   "metadata": {},
   "outputs": [
    {
     "data": {
      "text/plain": [
       "True"
      ]
     },
     "execution_count": 1349,
     "metadata": {},
     "output_type": "execute_result"
    }
   ],
   "source": [
    "inspection_df['building'].str.isalpha().any()"
   ]
  },
  {
   "cell_type": "markdown",
   "metadata": {},
   "source": [
    "Building has a mix of letter and numbers, it must remain an object type. \n",
    "\n",
    "### Score Column\n",
    "\n",
    "Prepare the 'score' column for numerical analysis, the following action has been taken."
   ]
  },
  {
   "cell_type": "code",
   "execution_count": 1350,
   "metadata": {},
   "outputs": [],
   "source": [
    "inspection_df['score'] = inspection_df['score'].astype(int)"
   ]
  },
  {
   "cell_type": "markdown",
   "metadata": {},
   "source": [
    "### Float data type columns\n",
    "\n",
    "The following columns should exclusively contain whole numbers. Currently, they are in float type. To ensure their integrity:\n",
    "\n",
    "1. I will initially verify if they already consist of whole numbers.\n",
    "2. Then, I will convert them to integers to confirm the absence of special characters.\n",
    "3. Finally, I will convert them back to strings, as these columns are categorical features."
   ]
  },
  {
   "cell_type": "code",
   "execution_count": 1351,
   "metadata": {},
   "outputs": [
    {
     "name": "stdout",
     "output_type": "stream",
     "text": [
      "zipcode Column: True\n",
      "score Column: True\n",
      "community_board Column: True\n",
      "council_district Column: True\n",
      "census_tract Column: True\n",
      "bin Column: True\n",
      "bbl Column: True\n"
     ]
    }
   ],
   "source": [
    "columns_to_check = ['zipcode', 'score', 'community_board', 'council_district', 'census_tract', 'bin', 'bbl']\n",
    "\n",
    "for column in columns_to_check:\n",
    "    is_integer = (inspection_df[column] % 1 == 0).all()\n",
    "    print(f\"{column} Column: {is_integer}\")"
   ]
  },
  {
   "cell_type": "code",
   "execution_count": 1352,
   "metadata": {},
   "outputs": [],
   "source": [
    "for column in columns_to_check:\n",
    "    inspection_df[column] = inspection_df[column].astype(int)\n",
    "    inspection_df[column] = inspection_df[column].astype(str)"
   ]
  },
  {
   "cell_type": "markdown",
   "metadata": {},
   "source": [
    "### Phone Column\n",
    "\n",
    "Lets work on the 'phone' column, we will perform the following steps:\n",
    "\n",
    "1. Remove all non-numerical characters from the 'phone' column.\n",
    "2. Replace missing or empty values with '1000000000' to avoid having all zeros.\n"
   ]
  },
  {
   "cell_type": "code",
   "execution_count": 1353,
   "metadata": {},
   "outputs": [],
   "source": [
    "# Use regex to extract digits from the \"phone\" column\n",
    "inspection_df['phone'] = inspection_df['phone'].str.replace(r'\\D', '', regex=True)"
   ]
  },
  {
   "cell_type": "code",
   "execution_count": 1354,
   "metadata": {},
   "outputs": [],
   "source": [
    "# Remove spaces and replace empty values with '1000000000' in the 'phone' column\n",
    "inspection_df['phone'] = inspection_df['phone'].str.strip().replace(['', '0000000000'], '1000000000')"
   ]
  },
  {
   "cell_type": "markdown",
   "metadata": {},
   "source": [
    "## Inspection Date Column\n",
    "\n",
    "To standardize the 'inspection_date' column, we will follow these steps:\n",
    "\n",
    "1. Begin by printing the 'inspection_date' from the first row of the DataFrame to verify the initial format, which is in the format 'YYYY-MM-DDThh:mm:ss.sss'.\n",
    "2. Next, convert the 'inspection_date' column to datetime format and format it to display only the date in 'YYYY-MM-DD' format.\n",
    "3. Finally, print the 'inspection_date' from the first row of the DataFrame again to confirm that it has been standardized to 'YYYY-MM-DD'.\n",
    "\n"
   ]
  },
  {
   "cell_type": "code",
   "execution_count": 1355,
   "metadata": {},
   "outputs": [
    {
     "data": {
      "text/plain": [
       "'2021-09-12T00:00:00.000'"
      ]
     },
     "execution_count": 1355,
     "metadata": {},
     "output_type": "execute_result"
    }
   ],
   "source": [
    "# Print the 'inspection_date' from the first row of the DataFrame\n",
    "inspection_df.loc[0, 'inspection_date']"
   ]
  },
  {
   "cell_type": "code",
   "execution_count": 1356,
   "metadata": {},
   "outputs": [],
   "source": [
    "# Convert the 'inspection_date' column to datetime and format it to display only the date (YYYY-MM-DD)\n",
    "inspection_df['inspection_date'] = pd.to_datetime(inspection_df['inspection_date']).dt.strftime('%Y-%m-%d')\n"
   ]
  },
  {
   "cell_type": "code",
   "execution_count": 1357,
   "metadata": {},
   "outputs": [
    {
     "data": {
      "text/plain": [
       "'2021-09-12'"
      ]
     },
     "execution_count": 1357,
     "metadata": {},
     "output_type": "execute_result"
    }
   ],
   "source": [
    "# Print the 'inspection_date' from the first row of the DataFrame\n",
    "inspection_df.loc[0, 'inspection_date']"
   ]
  },
  {
   "cell_type": "markdown",
   "metadata": {},
   "source": [
    "The DataFrame 'inspection_df' has been thoroughly checked and cleaned, resulting in the following characteristics:\n",
    "\n",
    "- No null values exist in any of the columns.\n",
    "- The data types of the columns are appropriate.\n",
    "\n",
    "The data is now ready for further analysis and exploration. If you have any additional tasks or questions related to this DataFrame or any other topic, please feel free to ask."
   ]
  },
  {
   "cell_type": "code",
   "execution_count": 1314,
   "metadata": {},
   "outputs": [
    {
     "name": "stdout",
     "output_type": "stream",
     "text": [
      "<class 'pandas.core.frame.DataFrame'>\n",
      "Index: 149942 entries, 0 to 207364\n",
      "Data columns (total 24 columns):\n",
      " #   Column                 Non-Null Count   Dtype  \n",
      "---  ------                 --------------   -----  \n",
      " 0   camis                  149942 non-null  int64  \n",
      " 1   dba                    149942 non-null  object \n",
      " 2   boro                   149942 non-null  object \n",
      " 3   building               149942 non-null  object \n",
      " 4   street                 149942 non-null  object \n",
      " 5   zipcode                149942 non-null  object \n",
      " 6   phone                  149942 non-null  object \n",
      " 7   cuisine_description    149942 non-null  object \n",
      " 8   inspection_date        149942 non-null  object \n",
      " 9   action                 149942 non-null  object \n",
      " 10  critical_flag          149942 non-null  object \n",
      " 11  score                  149942 non-null  object \n",
      " 12  record_date            149942 non-null  object \n",
      " 13  inspection_type        149942 non-null  object \n",
      " 14  latitude               149942 non-null  float64\n",
      " 15  longitude              149942 non-null  float64\n",
      " 16  community_board        149942 non-null  object \n",
      " 17  council_district       149942 non-null  object \n",
      " 18  census_tract           149942 non-null  object \n",
      " 19  bin                    149942 non-null  object \n",
      " 20  bbl                    149942 non-null  object \n",
      " 21  nta                    149942 non-null  object \n",
      " 22  violation_code         149942 non-null  object \n",
      " 23  violation_description  149942 non-null  object \n",
      "dtypes: float64(2), int64(1), object(21)\n",
      "memory usage: 32.6+ MB\n"
     ]
    }
   ],
   "source": [
    "inspection_df.info()"
   ]
  }
 ],
 "metadata": {
  "kernelspec": {
   "display_name": "base",
   "language": "python",
   "name": "python3"
  },
  "language_info": {
   "codemirror_mode": {
    "name": "ipython",
    "version": 3
   },
   "file_extension": ".py",
   "mimetype": "text/x-python",
   "name": "python",
   "nbconvert_exporter": "python",
   "pygments_lexer": "ipython3",
   "version": "3.10.6"
  }
 },
 "nbformat": 4,
 "nbformat_minor": 2
}
