{
 "cells": [
  {
   "cell_type": "code",
   "execution_count": 2,
   "metadata": {},
   "outputs": [],
   "source": [
    "import pandas as pd"
   ]
  },
  {
   "cell_type": "code",
   "execution_count": 3,
   "metadata": {},
   "outputs": [],
   "source": [
    "ny = pd.read_csv('ny_reviews.csv')"
   ]
  },
  {
   "cell_type": "code",
   "execution_count": 4,
   "metadata": {},
   "outputs": [
    {
     "data": {
      "text/plain": [
       "(59989, 16)"
      ]
     },
     "execution_count": 4,
     "metadata": {},
     "output_type": "execute_result"
    }
   ],
   "source": [
    "ny.shape"
   ]
  },
  {
   "cell_type": "code",
   "execution_count": 6,
   "metadata": {},
   "outputs": [
    {
     "data": {
      "text/plain": [
       "(4098, 16)"
      ]
     },
     "execution_count": 6,
     "metadata": {},
     "output_type": "execute_result"
    }
   ],
   "source": [
    "ny = ny[ny.concatenated_reviews.notna()]\n",
    "ny.shape"
   ]
  },
  {
   "cell_type": "code",
   "execution_count": 7,
   "metadata": {},
   "outputs": [],
   "source": [
    "ny = ny.drop(columns=['latitude', 'longitude', 'phone', 'action', 'full_address', 'violation_code', 'violation_description'])"
   ]
  },
  {
   "cell_type": "code",
   "execution_count": 8,
   "metadata": {},
   "outputs": [
    {
     "data": {
      "text/html": [
       "<div>\n",
       "<style scoped>\n",
       "    .dataframe tbody tr th:only-of-type {\n",
       "        vertical-align: middle;\n",
       "    }\n",
       "\n",
       "    .dataframe tbody tr th {\n",
       "        vertical-align: top;\n",
       "    }\n",
       "\n",
       "    .dataframe thead th {\n",
       "        text-align: right;\n",
       "    }\n",
       "</style>\n",
       "<table border=\"1\" class=\"dataframe\">\n",
       "  <thead>\n",
       "    <tr style=\"text-align: right;\">\n",
       "      <th></th>\n",
       "      <th>camis</th>\n",
       "      <th>dba</th>\n",
       "      <th>boro</th>\n",
       "      <th>inspection_date</th>\n",
       "      <th>cuisine_description</th>\n",
       "      <th>score</th>\n",
       "      <th>grade</th>\n",
       "      <th>last_inspection_date</th>\n",
       "      <th>concatenated_reviews</th>\n",
       "    </tr>\n",
       "  </thead>\n",
       "  <tbody>\n",
       "    <tr>\n",
       "      <th>155</th>\n",
       "      <td>40365904</td>\n",
       "      <td>MEE SUM CAFE</td>\n",
       "      <td>Manhattan</td>\n",
       "      <td>2021-10-13</td>\n",
       "      <td>Coffee/Tea</td>\n",
       "      <td>67</td>\n",
       "      <td>C</td>\n",
       "      <td>2020-10-13</td>\n",
       "      <td>Very authentic place. To the point that I ne...</td>\n",
       "    </tr>\n",
       "    <tr>\n",
       "      <th>156</th>\n",
       "      <td>40365904</td>\n",
       "      <td>MEE SUM CAFE</td>\n",
       "      <td>Manhattan</td>\n",
       "      <td>2021-11-24</td>\n",
       "      <td>Coffee/Tea</td>\n",
       "      <td>24</td>\n",
       "      <td>B</td>\n",
       "      <td>2021-10-13</td>\n",
       "      <td>Really great classic Chinese comfort food. Gre...</td>\n",
       "    </tr>\n",
       "    <tr>\n",
       "      <th>157</th>\n",
       "      <td>40365904</td>\n",
       "      <td>MEE SUM CAFE</td>\n",
       "      <td>Manhattan</td>\n",
       "      <td>2022-06-27</td>\n",
       "      <td>Coffee/Tea</td>\n",
       "      <td>50</td>\n",
       "      <td>C</td>\n",
       "      <td>2021-11-24</td>\n",
       "      <td>Great spot cheap eats Didn’t have time to take...</td>\n",
       "    </tr>\n",
       "    <tr>\n",
       "      <th>158</th>\n",
       "      <td>40365904</td>\n",
       "      <td>MEE SUM CAFE</td>\n",
       "      <td>Manhattan</td>\n",
       "      <td>2022-09-30</td>\n",
       "      <td>Coffee/Tea</td>\n",
       "      <td>59</td>\n",
       "      <td>C</td>\n",
       "      <td>2022-06-27</td>\n",
       "      <td>Great Place for some Home Cooking Friendly a...</td>\n",
       "    </tr>\n",
       "    <tr>\n",
       "      <th>159</th>\n",
       "      <td>40365904</td>\n",
       "      <td>MEE SUM CAFE</td>\n",
       "      <td>Manhattan</td>\n",
       "      <td>2023-04-14</td>\n",
       "      <td>Coffee/Tea</td>\n",
       "      <td>36</td>\n",
       "      <td>C</td>\n",
       "      <td>2022-09-30</td>\n",
       "      <td>Great dim sum cafe open early!!  Popular place...</td>\n",
       "    </tr>\n",
       "  </tbody>\n",
       "</table>\n",
       "</div>"
      ],
      "text/plain": [
       "        camis           dba       boro inspection_date cuisine_description  \\\n",
       "155  40365904  MEE SUM CAFE  Manhattan      2021-10-13          Coffee/Tea   \n",
       "156  40365904  MEE SUM CAFE  Manhattan      2021-11-24          Coffee/Tea   \n",
       "157  40365904  MEE SUM CAFE  Manhattan      2022-06-27          Coffee/Tea   \n",
       "158  40365904  MEE SUM CAFE  Manhattan      2022-09-30          Coffee/Tea   \n",
       "159  40365904  MEE SUM CAFE  Manhattan      2023-04-14          Coffee/Tea   \n",
       "\n",
       "     score grade last_inspection_date  \\\n",
       "155     67     C           2020-10-13   \n",
       "156     24     B           2021-10-13   \n",
       "157     50     C           2021-11-24   \n",
       "158     59     C           2022-06-27   \n",
       "159     36     C           2022-09-30   \n",
       "\n",
       "                                  concatenated_reviews  \n",
       "155    Very authentic place. To the point that I ne...  \n",
       "156  Really great classic Chinese comfort food. Gre...  \n",
       "157  Great spot cheap eats Didn’t have time to take...  \n",
       "158    Great Place for some Home Cooking Friendly a...  \n",
       "159  Great dim sum cafe open early!!  Popular place...  "
      ]
     },
     "execution_count": 8,
     "metadata": {},
     "output_type": "execute_result"
    }
   ],
   "source": [
    "ny.head()"
   ]
  },
  {
   "cell_type": "code",
   "execution_count": null,
   "metadata": {},
   "outputs": [],
   "source": []
  }
 ],
 "metadata": {
  "kernelspec": {
   "display_name": "base",
   "language": "python",
   "name": "python3"
  },
  "language_info": {
   "codemirror_mode": {
    "name": "ipython",
    "version": 3
   },
   "file_extension": ".py",
   "mimetype": "text/x-python",
   "name": "python",
   "nbconvert_exporter": "python",
   "pygments_lexer": "ipython3",
   "version": "3.10.12"
  }
 },
 "nbformat": 4,
 "nbformat_minor": 2
}
