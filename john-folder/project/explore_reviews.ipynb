{
 "cells": [
  {
   "cell_type": "code",
   "execution_count": 1,
   "metadata": {},
   "outputs": [],
   "source": [
    "import pandas as pd"
   ]
  },
  {
   "cell_type": "code",
   "execution_count": 2,
   "metadata": {},
   "outputs": [
    {
     "data": {
      "text/html": [
       "<div>\n",
       "<style scoped>\n",
       "    .dataframe tbody tr th:only-of-type {\n",
       "        vertical-align: middle;\n",
       "    }\n",
       "\n",
       "    .dataframe tbody tr th {\n",
       "        vertical-align: top;\n",
       "    }\n",
       "\n",
       "    .dataframe thead th {\n",
       "        text-align: right;\n",
       "    }\n",
       "</style>\n",
       "<table border=\"1\" class=\"dataframe\">\n",
       "  <thead>\n",
       "    <tr style=\"text-align: right;\">\n",
       "      <th></th>\n",
       "      <th>camis</th>\n",
       "      <th>dba</th>\n",
       "      <th>boro</th>\n",
       "      <th>phone</th>\n",
       "      <th>inspection_date</th>\n",
       "      <th>latitude</th>\n",
       "      <th>longitude</th>\n",
       "      <th>cuisine_description</th>\n",
       "      <th>action</th>\n",
       "      <th>score</th>\n",
       "      <th>grade</th>\n",
       "      <th>full_address</th>\n",
       "      <th>violation_code</th>\n",
       "      <th>violation_description</th>\n",
       "      <th>last_inspection_date</th>\n",
       "      <th>concatenated_reviews</th>\n",
       "    </tr>\n",
       "  </thead>\n",
       "  <tbody>\n",
       "    <tr>\n",
       "      <th>0</th>\n",
       "      <td>30075445</td>\n",
       "      <td>MORRIS PARK BAKE SHOP</td>\n",
       "      <td>Bronx</td>\n",
       "      <td>7188924968</td>\n",
       "      <td>2021-08-10</td>\n",
       "      <td>40.848231</td>\n",
       "      <td>-73.855972</td>\n",
       "      <td>Bakery Products/Desserts</td>\n",
       "      <td>Violations cited</td>\n",
       "      <td>5</td>\n",
       "      <td>A</td>\n",
       "      <td>1007 MORRIS PARK AVENUE 10462</td>\n",
       "      <td>06E</td>\n",
       "      <td>Sanitized equipment or utensil, including in-u...</td>\n",
       "      <td>2020-08-10</td>\n",
       "      <td>NaN</td>\n",
       "    </tr>\n",
       "    <tr>\n",
       "      <th>1</th>\n",
       "      <td>30075445</td>\n",
       "      <td>MORRIS PARK BAKE SHOP</td>\n",
       "      <td>Bronx</td>\n",
       "      <td>7188924968</td>\n",
       "      <td>2023-01-31</td>\n",
       "      <td>40.848231</td>\n",
       "      <td>-73.855972</td>\n",
       "      <td>Bakery Products/Desserts</td>\n",
       "      <td>Closed</td>\n",
       "      <td>21</td>\n",
       "      <td>B</td>\n",
       "      <td>1007 MORRIS PARK AVENUE 10462</td>\n",
       "      <td>06D 08C 10D 10F 04L 04N 06C 04H</td>\n",
       "      <td>Food contact surface not properly washed, rins...</td>\n",
       "      <td>2021-08-10</td>\n",
       "      <td>NaN</td>\n",
       "    </tr>\n",
       "    <tr>\n",
       "      <th>2</th>\n",
       "      <td>30075445</td>\n",
       "      <td>MORRIS PARK BAKE SHOP</td>\n",
       "      <td>Bronx</td>\n",
       "      <td>7188924968</td>\n",
       "      <td>2023-02-03</td>\n",
       "      <td>40.848231</td>\n",
       "      <td>-73.855972</td>\n",
       "      <td>Bakery Products/Desserts</td>\n",
       "      <td>Re-opened</td>\n",
       "      <td>13</td>\n",
       "      <td>A</td>\n",
       "      <td>1007 MORRIS PARK AVENUE 10462</td>\n",
       "      <td>02G 10F</td>\n",
       "      <td>Cold TCS food item held above 41 °F; smoked or...</td>\n",
       "      <td>2023-01-31</td>\n",
       "      <td>NaN</td>\n",
       "    </tr>\n",
       "    <tr>\n",
       "      <th>3</th>\n",
       "      <td>30075445</td>\n",
       "      <td>MORRIS PARK BAKE SHOP</td>\n",
       "      <td>Bronx</td>\n",
       "      <td>7188924968</td>\n",
       "      <td>2023-08-01</td>\n",
       "      <td>40.848231</td>\n",
       "      <td>-73.855972</td>\n",
       "      <td>Bakery Products/Desserts</td>\n",
       "      <td>Violations cited</td>\n",
       "      <td>38</td>\n",
       "      <td>C</td>\n",
       "      <td>1007 MORRIS PARK AVENUE 10462</td>\n",
       "      <td>04L 08A 05H</td>\n",
       "      <td>Evidence of mice or live mice in establishment...</td>\n",
       "      <td>2023-02-03</td>\n",
       "      <td>NaN</td>\n",
       "    </tr>\n",
       "    <tr>\n",
       "      <th>4</th>\n",
       "      <td>30075445</td>\n",
       "      <td>MORRIS PARK BAKE SHOP</td>\n",
       "      <td>Bronx</td>\n",
       "      <td>7188924968</td>\n",
       "      <td>2023-08-22</td>\n",
       "      <td>40.848231</td>\n",
       "      <td>-73.855972</td>\n",
       "      <td>Bakery Products/Desserts</td>\n",
       "      <td>Violations cited</td>\n",
       "      <td>12</td>\n",
       "      <td>A</td>\n",
       "      <td>1007 MORRIS PARK AVENUE 10462</td>\n",
       "      <td>08A 08C 04L</td>\n",
       "      <td>Establishment is not free of harborage or cond...</td>\n",
       "      <td>2023-08-01</td>\n",
       "      <td>NaN</td>\n",
       "    </tr>\n",
       "  </tbody>\n",
       "</table>\n",
       "</div>"
      ],
      "text/plain": [
       "      camis                    dba   boro       phone inspection_date  \\\n",
       "0  30075445  MORRIS PARK BAKE SHOP  Bronx  7188924968      2021-08-10   \n",
       "1  30075445  MORRIS PARK BAKE SHOP  Bronx  7188924968      2023-01-31   \n",
       "2  30075445  MORRIS PARK BAKE SHOP  Bronx  7188924968      2023-02-03   \n",
       "3  30075445  MORRIS PARK BAKE SHOP  Bronx  7188924968      2023-08-01   \n",
       "4  30075445  MORRIS PARK BAKE SHOP  Bronx  7188924968      2023-08-22   \n",
       "\n",
       "    latitude  longitude       cuisine_description            action  score  \\\n",
       "0  40.848231 -73.855972  Bakery Products/Desserts  Violations cited      5   \n",
       "1  40.848231 -73.855972  Bakery Products/Desserts            Closed     21   \n",
       "2  40.848231 -73.855972  Bakery Products/Desserts         Re-opened     13   \n",
       "3  40.848231 -73.855972  Bakery Products/Desserts  Violations cited     38   \n",
       "4  40.848231 -73.855972  Bakery Products/Desserts  Violations cited     12   \n",
       "\n",
       "  grade                   full_address                   violation_code  \\\n",
       "0     A  1007 MORRIS PARK AVENUE 10462                              06E   \n",
       "1     B  1007 MORRIS PARK AVENUE 10462  06D 08C 10D 10F 04L 04N 06C 04H   \n",
       "2     A  1007 MORRIS PARK AVENUE 10462                          02G 10F   \n",
       "3     C  1007 MORRIS PARK AVENUE 10462                      04L 08A 05H   \n",
       "4     A  1007 MORRIS PARK AVENUE 10462                      08A 08C 04L   \n",
       "\n",
       "                               violation_description last_inspection_date  \\\n",
       "0  Sanitized equipment or utensil, including in-u...           2020-08-10   \n",
       "1  Food contact surface not properly washed, rins...           2021-08-10   \n",
       "2  Cold TCS food item held above 41 °F; smoked or...           2023-01-31   \n",
       "3  Evidence of mice or live mice in establishment...           2023-02-03   \n",
       "4  Establishment is not free of harborage or cond...           2023-08-01   \n",
       "\n",
       "  concatenated_reviews  \n",
       "0                  NaN  \n",
       "1                  NaN  \n",
       "2                  NaN  \n",
       "3                  NaN  \n",
       "4                  NaN  "
      ]
     },
     "execution_count": 2,
     "metadata": {},
     "output_type": "execute_result"
    }
   ],
   "source": [
    "ny = pd.read_csv('ny_reviews.csv')\n",
    "ny.head()"
   ]
  },
  {
   "cell_type": "code",
   "execution_count": 3,
   "metadata": {},
   "outputs": [
    {
     "data": {
      "text/plain": [
       "(59989, 16)"
      ]
     },
     "execution_count": 3,
     "metadata": {},
     "output_type": "execute_result"
    }
   ],
   "source": [
    "ny.shape"
   ]
  },
  {
   "cell_type": "code",
   "execution_count": 4,
   "metadata": {},
   "outputs": [
    {
     "data": {
      "text/plain": [
       "(4098, 16)"
      ]
     },
     "execution_count": 4,
     "metadata": {},
     "output_type": "execute_result"
    }
   ],
   "source": [
    "ny = ny[ny.concatenated_reviews.notna()]\n",
    "ny.shape\n"
   ]
  },
  {
   "cell_type": "code",
   "execution_count": 7,
   "metadata": {},
   "outputs": [],
   "source": [
    "ny = ny.drop(columns=['latitude', 'longitude', 'phone', 'action', 'full_address', 'violation_code', 'violation_description'])"
   ]
  },
  {
   "cell_type": "code",
   "execution_count": null,
   "metadata": {},
   "outputs": [],
   "source": []
  },
  {
   "cell_type": "code",
   "execution_count": 8,
   "metadata": {},
   "outputs": [
    {
     "data": {
      "text/html": [
       "<div>\n",
       "<style scoped>\n",
       "    .dataframe tbody tr th:only-of-type {\n",
       "        vertical-align: middle;\n",
       "    }\n",
       "\n",
       "    .dataframe tbody tr th {\n",
       "        vertical-align: top;\n",
       "    }\n",
       "\n",
       "    .dataframe thead th {\n",
       "        text-align: right;\n",
       "    }\n",
       "</style>\n",
       "<table border=\"1\" class=\"dataframe\">\n",
       "  <thead>\n",
       "    <tr style=\"text-align: right;\">\n",
       "      <th></th>\n",
       "      <th>camis</th>\n",
       "      <th>dba</th>\n",
       "      <th>boro</th>\n",
       "      <th>inspection_date</th>\n",
       "      <th>cuisine_description</th>\n",
       "      <th>score</th>\n",
       "      <th>grade</th>\n",
       "      <th>last_inspection_date</th>\n",
       "      <th>concatenated_reviews</th>\n",
       "    </tr>\n",
       "  </thead>\n",
       "  <tbody>\n",
       "    <tr>\n",
       "      <th>155</th>\n",
       "      <td>40365904</td>\n",
       "      <td>MEE SUM CAFE</td>\n",
       "      <td>Manhattan</td>\n",
       "      <td>2021-10-13</td>\n",
       "      <td>Coffee/Tea</td>\n",
       "      <td>67</td>\n",
       "      <td>C</td>\n",
       "      <td>2020-10-13</td>\n",
       "      <td>Very authentic place. To the point that I ne...</td>\n",
       "    </tr>\n",
       "    <tr>\n",
       "      <th>156</th>\n",
       "      <td>40365904</td>\n",
       "      <td>MEE SUM CAFE</td>\n",
       "      <td>Manhattan</td>\n",
       "      <td>2021-11-24</td>\n",
       "      <td>Coffee/Tea</td>\n",
       "      <td>24</td>\n",
       "      <td>B</td>\n",
       "      <td>2021-10-13</td>\n",
       "      <td>Really great classic Chinese comfort food. Gre...</td>\n",
       "    </tr>\n",
       "    <tr>\n",
       "      <th>157</th>\n",
       "      <td>40365904</td>\n",
       "      <td>MEE SUM CAFE</td>\n",
       "      <td>Manhattan</td>\n",
       "      <td>2022-06-27</td>\n",
       "      <td>Coffee/Tea</td>\n",
       "      <td>50</td>\n",
       "      <td>C</td>\n",
       "      <td>2021-11-24</td>\n",
       "      <td>Great spot cheap eats Didn’t have time to take...</td>\n",
       "    </tr>\n",
       "    <tr>\n",
       "      <th>158</th>\n",
       "      <td>40365904</td>\n",
       "      <td>MEE SUM CAFE</td>\n",
       "      <td>Manhattan</td>\n",
       "      <td>2022-09-30</td>\n",
       "      <td>Coffee/Tea</td>\n",
       "      <td>59</td>\n",
       "      <td>C</td>\n",
       "      <td>2022-06-27</td>\n",
       "      <td>Great Place for some Home Cooking Friendly a...</td>\n",
       "    </tr>\n",
       "    <tr>\n",
       "      <th>159</th>\n",
       "      <td>40365904</td>\n",
       "      <td>MEE SUM CAFE</td>\n",
       "      <td>Manhattan</td>\n",
       "      <td>2023-04-14</td>\n",
       "      <td>Coffee/Tea</td>\n",
       "      <td>36</td>\n",
       "      <td>C</td>\n",
       "      <td>2022-09-30</td>\n",
       "      <td>Great dim sum cafe open early!!  Popular place...</td>\n",
       "    </tr>\n",
       "  </tbody>\n",
       "</table>\n",
       "</div>"
      ],
      "text/plain": [
       "        camis           dba       boro inspection_date cuisine_description  \\\n",
       "155  40365904  MEE SUM CAFE  Manhattan      2021-10-13          Coffee/Tea   \n",
       "156  40365904  MEE SUM CAFE  Manhattan      2021-11-24          Coffee/Tea   \n",
       "157  40365904  MEE SUM CAFE  Manhattan      2022-06-27          Coffee/Tea   \n",
       "158  40365904  MEE SUM CAFE  Manhattan      2022-09-30          Coffee/Tea   \n",
       "159  40365904  MEE SUM CAFE  Manhattan      2023-04-14          Coffee/Tea   \n",
       "\n",
       "     score grade last_inspection_date  \\\n",
       "155     67     C           2020-10-13   \n",
       "156     24     B           2021-10-13   \n",
       "157     50     C           2021-11-24   \n",
       "158     59     C           2022-06-27   \n",
       "159     36     C           2022-09-30   \n",
       "\n",
       "                                  concatenated_reviews  \n",
       "155    Very authentic place. To the point that I ne...  \n",
       "156  Really great classic Chinese comfort food. Gre...  \n",
       "157  Great spot cheap eats Didn’t have time to take...  \n",
       "158    Great Place for some Home Cooking Friendly a...  \n",
       "159  Great dim sum cafe open early!!  Popular place...  "
      ]
     },
     "execution_count": 8,
     "metadata": {},
     "output_type": "execute_result"
    }
   ],
   "source": [
    "ny.head()"
   ]
  },
  {
   "cell_type": "code",
   "execution_count": 10,
   "metadata": {},
   "outputs": [],
   "source": [
    "ny.to_csv('reviews_gpt.csv')"
   ]
  },
  {
   "cell_type": "code",
   "execution_count": 6,
   "metadata": {},
   "outputs": [
    {
     "name": "stdout",
     "output_type": "stream",
     "text": [
      "<class 'pandas.core.frame.DataFrame'>\n",
      "Index: 4098 entries, 155 to 59941\n",
      "Data columns (total 16 columns):\n",
      " #   Column                 Non-Null Count  Dtype  \n",
      "---  ------                 --------------  -----  \n",
      " 0   camis                  4098 non-null   int64  \n",
      " 1   dba                    4098 non-null   object \n",
      " 2   boro                   4098 non-null   object \n",
      " 3   phone                  4098 non-null   int64  \n",
      " 4   inspection_date        4098 non-null   object \n",
      " 5   latitude               4098 non-null   float64\n",
      " 6   longitude              4098 non-null   float64\n",
      " 7   cuisine_description    4098 non-null   object \n",
      " 8   action                 4098 non-null   object \n",
      " 9   score                  4098 non-null   int64  \n",
      " 10  grade                  4098 non-null   object \n",
      " 11  full_address           4098 non-null   object \n",
      " 12  violation_code         4098 non-null   object \n",
      " 13  violation_description  4098 non-null   object \n",
      " 14  last_inspection_date   4098 non-null   object \n",
      " 15  concatenated_reviews   4098 non-null   object \n",
      "dtypes: float64(2), int64(3), object(11)\n",
      "memory usage: 544.3+ KB\n"
     ]
    }
   ],
   "source": [
    "ny.info()"
   ]
  },
  {
   "cell_type": "code",
   "execution_count": 11,
   "metadata": {},
   "outputs": [],
   "source": [
    "# Regex pattern for finding emojis\n",
    "def extract_emojis(text):\n",
    "    emoji_pattern = regex.compile(\"[\"\n",
    "        u\"\\U0001F600-\\U0001F64F\"  # emoticons\n",
    "        u\"\\U0001F300-\\U0001F5FF\"  # symbols & pictographs\n",
    "        u\"\\U0001F680-\\U0001F6FF\"  # transport & map symbols\n",
    "        u\"\\U0001F700-\\U0001F77F\"  # alchemical symbols\n",
    "        u\"\\U0001F780-\\U0001F7FF\"  # Geometric Shapes Extended\n",
    "        u\"\\U0001F800-\\U0001F8FF\"  # Supplemental Arrows-C\n",
    "        u\"\\U0001F900-\\U0001F9FF\"  # Supplemental Symbols and Pictographs\n",
    "        u\"\\U0001FA00-\\U0001FA6F\"  # Chess Symbols\n",
    "        u\"\\U0001FA70-\\U0001FAFF\"  # Symbols and Pictographs Extended-A\n",
    "        u\"\\U00002702-\\U000027B0\"  # Dingbats\n",
    "        u\"\\U000024C2-\\U0001F251\" \n",
    "        \"]+\", flags=regex.UNICODE)\n",
    "    \n",
    "    return ' '.join(emoji_pattern.findall(text))\n"
   ]
  },
  {
   "cell_type": "code",
   "execution_count": 13,
   "metadata": {},
   "outputs": [],
   "source": [
    "import regex"
   ]
  },
  {
   "cell_type": "code",
   "execution_count": 14,
   "metadata": {},
   "outputs": [
    {
     "data": {
      "text/plain": [
       "😋     643\n",
       "👍     547\n",
       "👌     281\n",
       "❤️    280\n",
       "😊     187\n",
       "Name: count, dtype: int64"
      ]
     },
     "execution_count": 14,
     "metadata": {},
     "output_type": "execute_result"
    }
   ],
   "source": [
    "\n",
    "# Apply the function to create a new column with only emojis\n",
    "ny['emoji_reviews'] = ny['concatenated_reviews'].apply(extract_emojis)\n",
    "\n",
    "# Perform the split and stack to get all individual emojis\n",
    "all_emojis = ny['emoji_reviews'].str.split(expand=True).stack()\n",
    "\n",
    "# Frequency count of all emojis\n",
    "all_freq = pd.Series(all_emojis).value_counts().sort_values(ascending=False).astype(int)\n"
   ]
  },
  {
   "cell_type": "code",
   "execution_count": 16,
   "metadata": {},
   "outputs": [
    {
     "data": {
      "text/plain": [
       "😋     643\n",
       "👍     547\n",
       "👌     281\n",
       "❤️    280\n",
       "😊     187\n",
       "😍     171\n",
       "🤤     122\n",
       "🍕     106\n",
       "👏      91\n",
       "🔥      84\n",
       "👎      80\n",
       "😂      79\n",
       "♀️     77\n",
       "💯      74\n",
       "😁      68\n",
       "🥰      65\n",
       "️      62\n",
       "😉      62\n",
       "🤩      60\n",
       "😀      56\n",
       "Name: count, dtype: int64"
      ]
     },
     "execution_count": 16,
     "metadata": {},
     "output_type": "execute_result"
    }
   ],
   "source": [
    "all_freq.head(20)  # Display the top emojis by frequency\n",
    "\n"
   ]
  },
  {
   "cell_type": "code",
   "execution_count": 15,
   "metadata": {},
   "outputs": [
    {
     "data": {
      "text/plain": [
       "157    0      🇭🇰\n",
       "161    0       😒\n",
       "       1       👌\n",
       "186    0      ❤️\n",
       "187    0     👍👍👍\n",
       "            ... \n",
       "59811  15     👍🏻\n",
       "       16     👌🏼\n",
       "       17      😂\n",
       "59885  0       😂\n",
       "59941  0       🥐\n",
       "Length: 8647, dtype: object"
      ]
     },
     "execution_count": 15,
     "metadata": {},
     "output_type": "execute_result"
    }
   ],
   "source": [
    "all_emojis"
   ]
  },
  {
   "cell_type": "code",
   "execution_count": 17,
   "metadata": {},
   "outputs": [
    {
     "name": "stderr",
     "output_type": "stream",
     "text": [
      "/usr/local/anaconda3/lib/python3.10/site-packages/IPython/core/pylabtools.py:152: UserWarning: Glyph 128077 (\\N{THUMBS UP SIGN}) missing from current font.\n",
      "  fig.canvas.print_figure(bytes_io, **kw)\n",
      "/usr/local/anaconda3/lib/python3.10/site-packages/IPython/core/pylabtools.py:152: UserWarning: Glyph 128076 (\\N{OK HAND SIGN}) missing from current font.\n",
      "  fig.canvas.print_figure(bytes_io, **kw)\n"
     ]
    },
    {
     "data": {
      "image/png": "[encoded data removed]",
      "text/plain": [
       "<Figure size 1000x600 with 1 Axes>"
      ]
     },
     "metadata": {},
     "output_type": "display_data"
    }
   ],
   "source": [
    "import matplotlib.pyplot as plt\n",
    "\n",
    "# Get the top 5 emojis and their counts for plotting\n",
    "top_emojis = all_freq.head(5).index\n",
    "top_counts = all_freq.head(5).values\n",
    "\n",
    "# Create a bar chart\n",
    "plt.figure(figsize=(10, 6))\n",
    "plt.bar(top_emojis, top_counts, color='skyblue')\n",
    "\n",
    "# Add title and labels\n",
    "plt.title('Top 5 Emojis in Reviews', fontsize=15)\n",
    "plt.xlabel('Emoji', fontsize=12)\n",
    "plt.ylabel('Frequency', fontsize=12)\n",
    "\n",
    "# Show the plot\n",
    "plt.show()\n"
   ]
  },
  {
   "cell_type": "code",
   "execution_count": 18,
   "metadata": {},
   "outputs": [
    {
     "ename": "RuntimeError",
     "evalue": "In FT2Font: Could not set the fontsize (invalid pixel size; error code 0x17)",
     "output_type": "error",
     "traceback": [
      "\u001b[0;31m---------------------------------------------------------------------------\u001b[0m",
      "\u001b[0;31mRuntimeError\u001b[0m                              Traceback (most recent call last)",
      "File \u001b[0;32m/usr/local/anaconda3/lib/python3.10/site-packages/IPython/core/formatters.py:340\u001b[0m, in \u001b[0;36mBaseFormatter.__call__\u001b[0;34m(self, obj)\u001b[0m\n\u001b[1;32m    338\u001b[0m     \u001b[39mpass\u001b[39;00m\n\u001b[1;32m    339\u001b[0m \u001b[39melse\u001b[39;00m:\n\u001b[0;32m--> 340\u001b[0m     \u001b[39mreturn\u001b[39;00m printer(obj)\n\u001b[1;32m    341\u001b[0m \u001b[39m# Finally look for special method names\u001b[39;00m\n\u001b[1;32m    342\u001b[0m method \u001b[39m=\u001b[39m get_real_method(obj, \u001b[39mself\u001b[39m\u001b[39m.\u001b[39mprint_method)\n",
      "File \u001b[0;32m/usr/local/anaconda3/lib/python3.10/site-packages/IPython/core/pylabtools.py:152\u001b[0m, in \u001b[0;36mprint_figure\u001b[0;34m(fig, fmt, bbox_inches, base64, **kwargs)\u001b[0m\n\u001b[1;32m    149\u001b[0m     \u001b[39mfrom\u001b[39;00m \u001b[39mmatplotlib\u001b[39;00m\u001b[39m.\u001b[39;00m\u001b[39mbackend_bases\u001b[39;00m \u001b[39mimport\u001b[39;00m FigureCanvasBase\n\u001b[1;32m    150\u001b[0m     FigureCanvasBase(fig)\n\u001b[0;32m--> 152\u001b[0m fig\u001b[39m.\u001b[39;49mcanvas\u001b[39m.\u001b[39;49mprint_figure(bytes_io, \u001b[39m*\u001b[39;49m\u001b[39m*\u001b[39;49mkw)\n\u001b[1;32m    153\u001b[0m data \u001b[39m=\u001b[39m bytes_io\u001b[39m.\u001b[39mgetvalue()\n\u001b[1;32m    154\u001b[0m \u001b[39mif\u001b[39;00m fmt \u001b[39m==\u001b[39m \u001b[39m'\u001b[39m\u001b[39msvg\u001b[39m\u001b[39m'\u001b[39m:\n",
      "File \u001b[0;32m/usr/local/anaconda3/lib/python3.10/site-packages/matplotlib/backend_bases.py:2342\u001b[0m, in \u001b[0;36mFigureCanvasBase.print_figure\u001b[0;34m(self, filename, dpi, facecolor, edgecolor, orientation, format, bbox_inches, pad_inches, bbox_extra_artists, backend, **kwargs)\u001b[0m\n\u001b[1;32m   2336\u001b[0m     renderer \u001b[39m=\u001b[39m _get_renderer(\n\u001b[1;32m   2337\u001b[0m         \u001b[39mself\u001b[39m\u001b[39m.\u001b[39mfigure,\n\u001b[1;32m   2338\u001b[0m         functools\u001b[39m.\u001b[39mpartial(\n\u001b[1;32m   2339\u001b[0m             print_method, orientation\u001b[39m=\u001b[39morientation)\n\u001b[1;32m   2340\u001b[0m     )\n\u001b[1;32m   2341\u001b[0m     \u001b[39mwith\u001b[39;00m \u001b[39mgetattr\u001b[39m(renderer, \u001b[39m\"\u001b[39m\u001b[39m_draw_disabled\u001b[39m\u001b[39m\"\u001b[39m, nullcontext)():\n\u001b[0;32m-> 2342\u001b[0m         \u001b[39mself\u001b[39;49m\u001b[39m.\u001b[39;49mfigure\u001b[39m.\u001b[39;49mdraw(renderer)\n\u001b[1;32m   2344\u001b[0m \u001b[39mif\u001b[39;00m bbox_inches:\n\u001b[1;32m   2345\u001b[0m     \u001b[39mif\u001b[39;00m bbox_inches \u001b[39m==\u001b[39m \u001b[39m\"\u001b[39m\u001b[39mtight\u001b[39m\u001b[39m\"\u001b[39m:\n",
      "File \u001b[0;32m/usr/local/anaconda3/lib/python3.10/site-packages/matplotlib/artist.py:95\u001b[0m, in \u001b[0;36m_finalize_rasterization.<locals>.draw_wrapper\u001b[0;34m(artist, renderer, *args, **kwargs)\u001b[0m\n\u001b[1;32m     93\u001b[0m \u001b[39m@wraps\u001b[39m(draw)\n\u001b[1;32m     94\u001b[0m \u001b[39mdef\u001b[39;00m \u001b[39mdraw_wrapper\u001b[39m(artist, renderer, \u001b[39m*\u001b[39margs, \u001b[39m*\u001b[39m\u001b[39m*\u001b[39mkwargs):\n\u001b[0;32m---> 95\u001b[0m     result \u001b[39m=\u001b[39m draw(artist, renderer, \u001b[39m*\u001b[39;49margs, \u001b[39m*\u001b[39;49m\u001b[39m*\u001b[39;49mkwargs)\n\u001b[1;32m     96\u001b[0m     \u001b[39mif\u001b[39;00m renderer\u001b[39m.\u001b[39m_rasterizing:\n\u001b[1;32m     97\u001b[0m         renderer\u001b[39m.\u001b[39mstop_rasterizing()\n",
      "File \u001b[0;32m/usr/local/anaconda3/lib/python3.10/site-packages/matplotlib/artist.py:72\u001b[0m, in \u001b[0;36mallow_rasterization.<locals>.draw_wrapper\u001b[0;34m(artist, renderer)\u001b[0m\n\u001b[1;32m     69\u001b[0m     \u001b[39mif\u001b[39;00m artist\u001b[39m.\u001b[39mget_agg_filter() \u001b[39mis\u001b[39;00m \u001b[39mnot\u001b[39;00m \u001b[39mNone\u001b[39;00m:\n\u001b[1;32m     70\u001b[0m         renderer\u001b[39m.\u001b[39mstart_filter()\n\u001b[0;32m---> 72\u001b[0m     \u001b[39mreturn\u001b[39;00m draw(artist, renderer)\n\u001b[1;32m     73\u001b[0m \u001b[39mfinally\u001b[39;00m:\n\u001b[1;32m     74\u001b[0m     \u001b[39mif\u001b[39;00m artist\u001b[39m.\u001b[39mget_agg_filter() \u001b[39mis\u001b[39;00m \u001b[39mnot\u001b[39;00m \u001b[39mNone\u001b[39;00m:\n",
      "File \u001b[0;32m/usr/local/anaconda3/lib/python3.10/site-packages/matplotlib/figure.py:3175\u001b[0m, in \u001b[0;36mFigure.draw\u001b[0;34m(self, renderer)\u001b[0m\n\u001b[1;32m   3172\u001b[0m         \u001b[39m# ValueError can occur when resizing a window.\u001b[39;00m\n\u001b[1;32m   3174\u001b[0m \u001b[39mself\u001b[39m\u001b[39m.\u001b[39mpatch\u001b[39m.\u001b[39mdraw(renderer)\n\u001b[0;32m-> 3175\u001b[0m mimage\u001b[39m.\u001b[39;49m_draw_list_compositing_images(\n\u001b[1;32m   3176\u001b[0m     renderer, \u001b[39mself\u001b[39;49m, artists, \u001b[39mself\u001b[39;49m\u001b[39m.\u001b[39;49msuppressComposite)\n\u001b[1;32m   3178\u001b[0m \u001b[39mfor\u001b[39;00m sfig \u001b[39min\u001b[39;00m \u001b[39mself\u001b[39m\u001b[39m.\u001b[39msubfigs:\n\u001b[1;32m   3179\u001b[0m     sfig\u001b[39m.\u001b[39mdraw(renderer)\n",
      "File \u001b[0;32m/usr/local/anaconda3/lib/python3.10/site-packages/matplotlib/image.py:131\u001b[0m, in \u001b[0;36m_draw_list_compositing_images\u001b[0;34m(renderer, parent, artists, suppress_composite)\u001b[0m\n\u001b[1;32m    129\u001b[0m \u001b[39mif\u001b[39;00m not_composite \u001b[39mor\u001b[39;00m \u001b[39mnot\u001b[39;00m has_images:\n\u001b[1;32m    130\u001b[0m     \u001b[39mfor\u001b[39;00m a \u001b[39min\u001b[39;00m artists:\n\u001b[0;32m--> 131\u001b[0m         a\u001b[39m.\u001b[39;49mdraw(renderer)\n\u001b[1;32m    132\u001b[0m \u001b[39melse\u001b[39;00m:\n\u001b[1;32m    133\u001b[0m     \u001b[39m# Composite any adjacent images together\u001b[39;00m\n\u001b[1;32m    134\u001b[0m     image_group \u001b[39m=\u001b[39m []\n",
      "File \u001b[0;32m/usr/local/anaconda3/lib/python3.10/site-packages/matplotlib/artist.py:72\u001b[0m, in \u001b[0;36mallow_rasterization.<locals>.draw_wrapper\u001b[0;34m(artist, renderer)\u001b[0m\n\u001b[1;32m     69\u001b[0m     \u001b[39mif\u001b[39;00m artist\u001b[39m.\u001b[39mget_agg_filter() \u001b[39mis\u001b[39;00m \u001b[39mnot\u001b[39;00m \u001b[39mNone\u001b[39;00m:\n\u001b[1;32m     70\u001b[0m         renderer\u001b[39m.\u001b[39mstart_filter()\n\u001b[0;32m---> 72\u001b[0m     \u001b[39mreturn\u001b[39;00m draw(artist, renderer)\n\u001b[1;32m     73\u001b[0m \u001b[39mfinally\u001b[39;00m:\n\u001b[1;32m     74\u001b[0m     \u001b[39mif\u001b[39;00m artist\u001b[39m.\u001b[39mget_agg_filter() \u001b[39mis\u001b[39;00m \u001b[39mnot\u001b[39;00m \u001b[39mNone\u001b[39;00m:\n",
      "File \u001b[0;32m/usr/local/anaconda3/lib/python3.10/site-packages/matplotlib/axes/_base.py:3064\u001b[0m, in \u001b[0;36m_AxesBase.draw\u001b[0;34m(self, renderer)\u001b[0m\n\u001b[1;32m   3061\u001b[0m \u001b[39mif\u001b[39;00m artists_rasterized:\n\u001b[1;32m   3062\u001b[0m     _draw_rasterized(\u001b[39mself\u001b[39m\u001b[39m.\u001b[39mfigure, artists_rasterized, renderer)\n\u001b[0;32m-> 3064\u001b[0m mimage\u001b[39m.\u001b[39;49m_draw_list_compositing_images(\n\u001b[1;32m   3065\u001b[0m     renderer, \u001b[39mself\u001b[39;49m, artists, \u001b[39mself\u001b[39;49m\u001b[39m.\u001b[39;49mfigure\u001b[39m.\u001b[39;49msuppressComposite)\n\u001b[1;32m   3067\u001b[0m renderer\u001b[39m.\u001b[39mclose_group(\u001b[39m'\u001b[39m\u001b[39maxes\u001b[39m\u001b[39m'\u001b[39m)\n\u001b[1;32m   3068\u001b[0m \u001b[39mself\u001b[39m\u001b[39m.\u001b[39mstale \u001b[39m=\u001b[39m \u001b[39mFalse\u001b[39;00m\n",
      "File \u001b[0;32m/usr/local/anaconda3/lib/python3.10/site-packages/matplotlib/image.py:131\u001b[0m, in \u001b[0;36m_draw_list_compositing_images\u001b[0;34m(renderer, parent, artists, suppress_composite)\u001b[0m\n\u001b[1;32m    129\u001b[0m \u001b[39mif\u001b[39;00m not_composite \u001b[39mor\u001b[39;00m \u001b[39mnot\u001b[39;00m has_images:\n\u001b[1;32m    130\u001b[0m     \u001b[39mfor\u001b[39;00m a \u001b[39min\u001b[39;00m artists:\n\u001b[0;32m--> 131\u001b[0m         a\u001b[39m.\u001b[39;49mdraw(renderer)\n\u001b[1;32m    132\u001b[0m \u001b[39melse\u001b[39;00m:\n\u001b[1;32m    133\u001b[0m     \u001b[39m# Composite any adjacent images together\u001b[39;00m\n\u001b[1;32m    134\u001b[0m     image_group \u001b[39m=\u001b[39m []\n",
      "File \u001b[0;32m/usr/local/anaconda3/lib/python3.10/site-packages/matplotlib/artist.py:72\u001b[0m, in \u001b[0;36mallow_rasterization.<locals>.draw_wrapper\u001b[0;34m(artist, renderer)\u001b[0m\n\u001b[1;32m     69\u001b[0m     \u001b[39mif\u001b[39;00m artist\u001b[39m.\u001b[39mget_agg_filter() \u001b[39mis\u001b[39;00m \u001b[39mnot\u001b[39;00m \u001b[39mNone\u001b[39;00m:\n\u001b[1;32m     70\u001b[0m         renderer\u001b[39m.\u001b[39mstart_filter()\n\u001b[0;32m---> 72\u001b[0m     \u001b[39mreturn\u001b[39;00m draw(artist, renderer)\n\u001b[1;32m     73\u001b[0m \u001b[39mfinally\u001b[39;00m:\n\u001b[1;32m     74\u001b[0m     \u001b[39mif\u001b[39;00m artist\u001b[39m.\u001b[39mget_agg_filter() \u001b[39mis\u001b[39;00m \u001b[39mnot\u001b[39;00m \u001b[39mNone\u001b[39;00m:\n",
      "File \u001b[0;32m/usr/local/anaconda3/lib/python3.10/site-packages/matplotlib/axis.py:1377\u001b[0m, in \u001b[0;36mAxis.draw\u001b[0;34m(self, renderer, *args, **kwargs)\u001b[0m\n\u001b[1;32m   1374\u001b[0m renderer\u001b[39m.\u001b[39mopen_group(\u001b[39m__name__\u001b[39m, gid\u001b[39m=\u001b[39m\u001b[39mself\u001b[39m\u001b[39m.\u001b[39mget_gid())\n\u001b[1;32m   1376\u001b[0m ticks_to_draw \u001b[39m=\u001b[39m \u001b[39mself\u001b[39m\u001b[39m.\u001b[39m_update_ticks()\n\u001b[0;32m-> 1377\u001b[0m tlb1, tlb2 \u001b[39m=\u001b[39m \u001b[39mself\u001b[39;49m\u001b[39m.\u001b[39;49m_get_ticklabel_bboxes(ticks_to_draw, renderer)\n\u001b[1;32m   1379\u001b[0m \u001b[39mfor\u001b[39;00m tick \u001b[39min\u001b[39;00m ticks_to_draw:\n\u001b[1;32m   1380\u001b[0m     tick\u001b[39m.\u001b[39mdraw(renderer)\n",
      "File \u001b[0;32m/usr/local/anaconda3/lib/python3.10/site-packages/matplotlib/axis.py:1304\u001b[0m, in \u001b[0;36mAxis._get_ticklabel_bboxes\u001b[0;34m(self, ticks, renderer)\u001b[0m\n\u001b[1;32m   1302\u001b[0m \u001b[39mif\u001b[39;00m renderer \u001b[39mis\u001b[39;00m \u001b[39mNone\u001b[39;00m:\n\u001b[1;32m   1303\u001b[0m     renderer \u001b[39m=\u001b[39m \u001b[39mself\u001b[39m\u001b[39m.\u001b[39mfigure\u001b[39m.\u001b[39m_get_renderer()\n\u001b[0;32m-> 1304\u001b[0m \u001b[39mreturn\u001b[39;00m ([tick\u001b[39m.\u001b[39mlabel1\u001b[39m.\u001b[39mget_window_extent(renderer)\n\u001b[1;32m   1305\u001b[0m          \u001b[39mfor\u001b[39;00m tick \u001b[39min\u001b[39;00m ticks \u001b[39mif\u001b[39;00m tick\u001b[39m.\u001b[39mlabel1\u001b[39m.\u001b[39mget_visible()],\n\u001b[1;32m   1306\u001b[0m         [tick\u001b[39m.\u001b[39mlabel2\u001b[39m.\u001b[39mget_window_extent(renderer)\n\u001b[1;32m   1307\u001b[0m          \u001b[39mfor\u001b[39;00m tick \u001b[39min\u001b[39;00m ticks \u001b[39mif\u001b[39;00m tick\u001b[39m.\u001b[39mlabel2\u001b[39m.\u001b[39mget_visible()])\n",
      "File \u001b[0;32m/usr/local/anaconda3/lib/python3.10/site-packages/matplotlib/axis.py:1304\u001b[0m, in \u001b[0;36m<listcomp>\u001b[0;34m(.0)\u001b[0m\n\u001b[1;32m   1302\u001b[0m \u001b[39mif\u001b[39;00m renderer \u001b[39mis\u001b[39;00m \u001b[39mNone\u001b[39;00m:\n\u001b[1;32m   1303\u001b[0m     renderer \u001b[39m=\u001b[39m \u001b[39mself\u001b[39m\u001b[39m.\u001b[39mfigure\u001b[39m.\u001b[39m_get_renderer()\n\u001b[0;32m-> 1304\u001b[0m \u001b[39mreturn\u001b[39;00m ([tick\u001b[39m.\u001b[39;49mlabel1\u001b[39m.\u001b[39;49mget_window_extent(renderer)\n\u001b[1;32m   1305\u001b[0m          \u001b[39mfor\u001b[39;00m tick \u001b[39min\u001b[39;00m ticks \u001b[39mif\u001b[39;00m tick\u001b[39m.\u001b[39mlabel1\u001b[39m.\u001b[39mget_visible()],\n\u001b[1;32m   1306\u001b[0m         [tick\u001b[39m.\u001b[39mlabel2\u001b[39m.\u001b[39mget_window_extent(renderer)\n\u001b[1;32m   1307\u001b[0m          \u001b[39mfor\u001b[39;00m tick \u001b[39min\u001b[39;00m ticks \u001b[39mif\u001b[39;00m tick\u001b[39m.\u001b[39mlabel2\u001b[39m.\u001b[39mget_visible()])\n",
      "File \u001b[0;32m/usr/local/anaconda3/lib/python3.10/site-packages/matplotlib/text.py:959\u001b[0m, in \u001b[0;36mText.get_window_extent\u001b[0;34m(self, renderer, dpi)\u001b[0m\n\u001b[1;32m    954\u001b[0m     \u001b[39mraise\u001b[39;00m \u001b[39mRuntimeError\u001b[39;00m(\n\u001b[1;32m    955\u001b[0m         \u001b[39m\"\u001b[39m\u001b[39mCannot get window extent of text w/o renderer. You likely \u001b[39m\u001b[39m\"\u001b[39m\n\u001b[1;32m    956\u001b[0m         \u001b[39m\"\u001b[39m\u001b[39mwant to call \u001b[39m\u001b[39m'\u001b[39m\u001b[39mfigure.draw_without_rendering()\u001b[39m\u001b[39m'\u001b[39m\u001b[39m first.\u001b[39m\u001b[39m\"\u001b[39m)\n\u001b[1;32m    958\u001b[0m \u001b[39mwith\u001b[39;00m cbook\u001b[39m.\u001b[39m_setattr_cm(\u001b[39mself\u001b[39m\u001b[39m.\u001b[39mfigure, dpi\u001b[39m=\u001b[39mdpi):\n\u001b[0;32m--> 959\u001b[0m     bbox, info, descent \u001b[39m=\u001b[39m \u001b[39mself\u001b[39;49m\u001b[39m.\u001b[39;49m_get_layout(\u001b[39mself\u001b[39;49m\u001b[39m.\u001b[39;49m_renderer)\n\u001b[1;32m    960\u001b[0m     x, y \u001b[39m=\u001b[39m \u001b[39mself\u001b[39m\u001b[39m.\u001b[39mget_unitless_position()\n\u001b[1;32m    961\u001b[0m     x, y \u001b[39m=\u001b[39m \u001b[39mself\u001b[39m\u001b[39m.\u001b[39mget_transform()\u001b[39m.\u001b[39mtransform((x, y))\n",
      "File \u001b[0;32m/usr/local/anaconda3/lib/python3.10/site-packages/matplotlib/text.py:378\u001b[0m, in \u001b[0;36mText._get_layout\u001b[0;34m(self, renderer)\u001b[0m\n\u001b[1;32m    375\u001b[0m ys \u001b[39m=\u001b[39m []\n\u001b[1;32m    377\u001b[0m \u001b[39m# Full vertical extent of font, including ascenders and descenders:\u001b[39;00m\n\u001b[0;32m--> 378\u001b[0m _, lp_h, lp_d \u001b[39m=\u001b[39m _get_text_metrics_with_cache(\n\u001b[1;32m    379\u001b[0m     renderer, \u001b[39m\"\u001b[39;49m\u001b[39mlp\u001b[39;49m\u001b[39m\"\u001b[39;49m, \u001b[39mself\u001b[39;49m\u001b[39m.\u001b[39;49m_fontproperties,\n\u001b[1;32m    380\u001b[0m     ismath\u001b[39m=\u001b[39;49m\u001b[39m\"\u001b[39;49m\u001b[39mTeX\u001b[39;49m\u001b[39m\"\u001b[39;49m \u001b[39mif\u001b[39;49;00m \u001b[39mself\u001b[39;49m\u001b[39m.\u001b[39;49mget_usetex() \u001b[39melse\u001b[39;49;00m \u001b[39mFalse\u001b[39;49;00m, dpi\u001b[39m=\u001b[39;49m\u001b[39mself\u001b[39;49m\u001b[39m.\u001b[39;49mfigure\u001b[39m.\u001b[39;49mdpi)\n\u001b[1;32m    381\u001b[0m min_dy \u001b[39m=\u001b[39m (lp_h \u001b[39m-\u001b[39m lp_d) \u001b[39m*\u001b[39m \u001b[39mself\u001b[39m\u001b[39m.\u001b[39m_linespacing\n\u001b[1;32m    383\u001b[0m \u001b[39mfor\u001b[39;00m i, line \u001b[39min\u001b[39;00m \u001b[39menumerate\u001b[39m(lines):\n",
      "File \u001b[0;32m/usr/local/anaconda3/lib/python3.10/site-packages/matplotlib/text.py:97\u001b[0m, in \u001b[0;36m_get_text_metrics_with_cache\u001b[0;34m(renderer, text, fontprop, ismath, dpi)\u001b[0m\n\u001b[1;32m     94\u001b[0m \u001b[39m\u001b[39m\u001b[39m\"\"\"Call ``renderer.get_text_width_height_descent``, caching the results.\"\"\"\u001b[39;00m\n\u001b[1;32m     95\u001b[0m \u001b[39m# Cached based on a copy of fontprop so that later in-place mutations of\u001b[39;00m\n\u001b[1;32m     96\u001b[0m \u001b[39m# the passed-in argument do not mess up the cache.\u001b[39;00m\n\u001b[0;32m---> 97\u001b[0m \u001b[39mreturn\u001b[39;00m _get_text_metrics_with_cache_impl(\n\u001b[1;32m     98\u001b[0m     weakref\u001b[39m.\u001b[39;49mref(renderer), text, fontprop\u001b[39m.\u001b[39;49mcopy(), ismath, dpi)\n",
      "File \u001b[0;32m/usr/local/anaconda3/lib/python3.10/site-packages/matplotlib/text.py:105\u001b[0m, in \u001b[0;36m_get_text_metrics_with_cache_impl\u001b[0;34m(renderer_ref, text, fontprop, ismath, dpi)\u001b[0m\n\u001b[1;32m    101\u001b[0m \u001b[39m@functools\u001b[39m\u001b[39m.\u001b[39mlru_cache(\u001b[39m4096\u001b[39m)\n\u001b[1;32m    102\u001b[0m \u001b[39mdef\u001b[39;00m \u001b[39m_get_text_metrics_with_cache_impl\u001b[39m(\n\u001b[1;32m    103\u001b[0m         renderer_ref, text, fontprop, ismath, dpi):\n\u001b[1;32m    104\u001b[0m     \u001b[39m# dpi is unused, but participates in cache invalidation (via the renderer).\u001b[39;00m\n\u001b[0;32m--> 105\u001b[0m     \u001b[39mreturn\u001b[39;00m renderer_ref()\u001b[39m.\u001b[39;49mget_text_width_height_descent(text, fontprop, ismath)\n",
      "File \u001b[0;32m/usr/local/anaconda3/lib/python3.10/site-packages/matplotlib/backends/backend_agg.py:233\u001b[0m, in \u001b[0;36mRendererAgg.get_text_width_height_descent\u001b[0;34m(self, s, prop, ismath)\u001b[0m\n\u001b[1;32m    229\u001b[0m     ox, oy, width, height, descent, font_image \u001b[39m=\u001b[39m \\\n\u001b[1;32m    230\u001b[0m         \u001b[39mself\u001b[39m\u001b[39m.\u001b[39mmathtext_parser\u001b[39m.\u001b[39mparse(s, \u001b[39mself\u001b[39m\u001b[39m.\u001b[39mdpi, prop)\n\u001b[1;32m    231\u001b[0m     \u001b[39mreturn\u001b[39;00m width, height, descent\n\u001b[0;32m--> 233\u001b[0m font \u001b[39m=\u001b[39m \u001b[39mself\u001b[39;49m\u001b[39m.\u001b[39;49m_prepare_font(prop)\n\u001b[1;32m    234\u001b[0m font\u001b[39m.\u001b[39mset_text(s, \u001b[39m0.0\u001b[39m, flags\u001b[39m=\u001b[39mget_hinting_flag())\n\u001b[1;32m    235\u001b[0m w, h \u001b[39m=\u001b[39m font\u001b[39m.\u001b[39mget_width_height()  \u001b[39m# width and height of unrotated string\u001b[39;00m\n",
      "File \u001b[0;32m/usr/local/anaconda3/lib/python3.10/site-packages/matplotlib/backends/backend_agg.py:267\u001b[0m, in \u001b[0;36mRendererAgg._prepare_font\u001b[0;34m(self, font_prop)\u001b[0m\n\u001b[1;32m    263\u001b[0m \u001b[39mdef\u001b[39;00m \u001b[39m_prepare_font\u001b[39m(\u001b[39mself\u001b[39m, font_prop):\n\u001b[1;32m    264\u001b[0m \u001b[39m    \u001b[39m\u001b[39m\"\"\"\u001b[39;00m\n\u001b[1;32m    265\u001b[0m \u001b[39m    Get the `.FT2Font` for *font_prop*, clear its buffer, and set its size.\u001b[39;00m\n\u001b[1;32m    266\u001b[0m \u001b[39m    \"\"\"\u001b[39;00m\n\u001b[0;32m--> 267\u001b[0m     font \u001b[39m=\u001b[39m get_font(_fontManager\u001b[39m.\u001b[39;49m_find_fonts_by_props(font_prop))\n\u001b[1;32m    268\u001b[0m     font\u001b[39m.\u001b[39mclear()\n\u001b[1;32m    269\u001b[0m     size \u001b[39m=\u001b[39m font_prop\u001b[39m.\u001b[39mget_size_in_points()\n",
      "File \u001b[0;32m/usr/local/anaconda3/lib/python3.10/site-packages/matplotlib/_api/deprecation.py:297\u001b[0m, in \u001b[0;36mrename_parameter.<locals>.wrapper\u001b[0;34m(*args, **kwargs)\u001b[0m\n\u001b[1;32m    292\u001b[0m     warn_deprecated(\n\u001b[1;32m    293\u001b[0m         since, message\u001b[39m=\u001b[39m\u001b[39mf\u001b[39m\u001b[39m\"\u001b[39m\u001b[39mThe \u001b[39m\u001b[39m{\u001b[39;00mold\u001b[39m!r}\u001b[39;00m\u001b[39m parameter of \u001b[39m\u001b[39m{\u001b[39;00mfunc\u001b[39m.\u001b[39m\u001b[39m__name__\u001b[39m\u001b[39m}\u001b[39;00m\u001b[39m() \u001b[39m\u001b[39m\"\u001b[39m\n\u001b[1;32m    294\u001b[0m         \u001b[39mf\u001b[39m\u001b[39m\"\u001b[39m\u001b[39mhas been renamed \u001b[39m\u001b[39m{\u001b[39;00mnew\u001b[39m!r}\u001b[39;00m\u001b[39m since Matplotlib \u001b[39m\u001b[39m{\u001b[39;00msince\u001b[39m}\u001b[39;00m\u001b[39m; support \u001b[39m\u001b[39m\"\u001b[39m\n\u001b[1;32m    295\u001b[0m         \u001b[39mf\u001b[39m\u001b[39m\"\u001b[39m\u001b[39mfor the old name will be dropped %(removal)s.\u001b[39m\u001b[39m\"\u001b[39m)\n\u001b[1;32m    296\u001b[0m     kwargs[new] \u001b[39m=\u001b[39m kwargs\u001b[39m.\u001b[39mpop(old)\n\u001b[0;32m--> 297\u001b[0m \u001b[39mreturn\u001b[39;00m func(\u001b[39m*\u001b[39;49margs, \u001b[39m*\u001b[39;49m\u001b[39m*\u001b[39;49mkwargs)\n",
      "File \u001b[0;32m/usr/local/anaconda3/lib/python3.10/site-packages/matplotlib/font_manager.py:1523\u001b[0m, in \u001b[0;36mget_font\u001b[0;34m(font_filepaths, hinting_factor)\u001b[0m\n\u001b[1;32m   1520\u001b[0m \u001b[39mif\u001b[39;00m hinting_factor \u001b[39mis\u001b[39;00m \u001b[39mNone\u001b[39;00m:\n\u001b[1;32m   1521\u001b[0m     hinting_factor \u001b[39m=\u001b[39m mpl\u001b[39m.\u001b[39mrcParams[\u001b[39m'\u001b[39m\u001b[39mtext.hinting_factor\u001b[39m\u001b[39m'\u001b[39m]\n\u001b[0;32m-> 1523\u001b[0m \u001b[39mreturn\u001b[39;00m _get_font(\n\u001b[1;32m   1524\u001b[0m     \u001b[39m# must be a tuple to be cached\u001b[39;49;00m\n\u001b[1;32m   1525\u001b[0m     paths,\n\u001b[1;32m   1526\u001b[0m     hinting_factor,\n\u001b[1;32m   1527\u001b[0m     _kerning_factor\u001b[39m=\u001b[39;49mmpl\u001b[39m.\u001b[39;49mrcParams[\u001b[39m'\u001b[39;49m\u001b[39mtext.kerning_factor\u001b[39;49m\u001b[39m'\u001b[39;49m],\n\u001b[1;32m   1528\u001b[0m     \u001b[39m# also key on the thread ID to prevent segfaults with multi-threading\u001b[39;49;00m\n\u001b[1;32m   1529\u001b[0m     thread_id\u001b[39m=\u001b[39;49mthreading\u001b[39m.\u001b[39;49mget_ident()\n\u001b[1;32m   1530\u001b[0m )\n",
      "File \u001b[0;32m/usr/local/anaconda3/lib/python3.10/site-packages/matplotlib/font_manager.py:1464\u001b[0m, in \u001b[0;36m_get_font\u001b[0;34m(font_filepaths, hinting_factor, _kerning_factor, thread_id)\u001b[0m\n\u001b[1;32m   1461\u001b[0m \u001b[39m@lru_cache\u001b[39m(\u001b[39m64\u001b[39m)\n\u001b[1;32m   1462\u001b[0m \u001b[39mdef\u001b[39;00m \u001b[39m_get_font\u001b[39m(font_filepaths, hinting_factor, \u001b[39m*\u001b[39m, _kerning_factor, thread_id):\n\u001b[1;32m   1463\u001b[0m     first_fontpath, \u001b[39m*\u001b[39mrest \u001b[39m=\u001b[39m font_filepaths\n\u001b[0;32m-> 1464\u001b[0m     \u001b[39mreturn\u001b[39;00m ft2font\u001b[39m.\u001b[39;49mFT2Font(\n\u001b[1;32m   1465\u001b[0m         first_fontpath, hinting_factor,\n\u001b[1;32m   1466\u001b[0m         _fallback_list\u001b[39m=\u001b[39;49m[\n\u001b[1;32m   1467\u001b[0m             ft2font\u001b[39m.\u001b[39;49mFT2Font(\n\u001b[1;32m   1468\u001b[0m                 fpath, hinting_factor,\n\u001b[1;32m   1469\u001b[0m                 _kerning_factor\u001b[39m=\u001b[39;49m_kerning_factor\n\u001b[1;32m   1470\u001b[0m             )\n\u001b[1;32m   1471\u001b[0m             \u001b[39mfor\u001b[39;49;00m fpath \u001b[39min\u001b[39;49;00m rest\n\u001b[1;32m   1472\u001b[0m         ],\n\u001b[1;32m   1473\u001b[0m         _kerning_factor\u001b[39m=\u001b[39;49m_kerning_factor\n\u001b[1;32m   1474\u001b[0m     )\n",
      "\u001b[0;31mRuntimeError\u001b[0m: In FT2Font: Could not set the fontsize (invalid pixel size; error code 0x17)"
     ]
    },
    {
     "data": {
      "text/plain": [
       "<Figure size 1000x600 with 1 Axes>"
      ]
     },
     "metadata": {},
     "output_type": "display_data"
    }
   ],
   "source": [
    "import matplotlib.pyplot as plt\n",
    "from matplotlib.font_manager import FontProperties\n",
    "\n",
    "# Create a FontProperties object with Apple Color Emoji\n",
    "emoji_font = FontProperties(fname='/System/Library/Fonts/Apple Color Emoji.ttc')\n",
    "\n",
    "# When creating your plot, set the fontproperties for the x-tick labels\n",
    "plt.figure(figsize=(10, 6))\n",
    "plt.bar(top_emojis, top_counts, color='skyblue')\n",
    "plt.xticks(fontproperties=emoji_font, fontsize=12)  # Apply the emoji font to x-ticks\n",
    "\n",
    "# Add title and labels with default font\n",
    "plt.title('Top 5 Emojis in Reviews', fontsize=15)\n",
    "plt.xlabel('Emoji', fontsize=12)\n",
    "plt.ylabel('Frequency', fontsize=12)\n",
    "\n",
    "# Show the plot\n",
    "plt.show()\n"
   ]
  }
 ],
 "metadata": {
  "kernelspec": {
   "display_name": "base",
   "language": "python",
   "name": "python3"
  },
  "language_info": {
   "codemirror_mode": {
    "name": "ipython",
    "version": 3
   },
   "file_extension": ".py",
   "mimetype": "text/x-python",
   "name": "python",
   "nbconvert_exporter": "python",
   "pygments_lexer": "ipython3",
   "version": "3.10.12"
  }
 },
 "nbformat": 4,
 "nbformat_minor": 2
}
