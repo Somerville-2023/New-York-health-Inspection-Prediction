{
 "cells": [
  {
   "cell_type": "code",
   "execution_count": 1,
   "metadata": {},
   "outputs": [],
   "source": [
    "import pandas as pd"
   ]
  },
  {
   "cell_type": "code",
   "execution_count": 2,
   "metadata": {},
   "outputs": [
    {
     "data": {
      "text/html": [
       "<div>\n",
       "<style scoped>\n",
       "    .dataframe tbody tr th:only-of-type {\n",
       "        vertical-align: middle;\n",
       "    }\n",
       "\n",
       "    .dataframe tbody tr th {\n",
       "        vertical-align: top;\n",
       "    }\n",
       "\n",
       "    .dataframe thead th {\n",
       "        text-align: right;\n",
       "    }\n",
       "</style>\n",
       "<table border=\"1\" class=\"dataframe\">\n",
       "  <thead>\n",
       "    <tr style=\"text-align: right;\">\n",
       "      <th></th>\n",
       "      <th>camis</th>\n",
       "      <th>dba</th>\n",
       "      <th>boro</th>\n",
       "      <th>phone</th>\n",
       "      <th>inspection_date</th>\n",
       "      <th>latitude</th>\n",
       "      <th>longitude</th>\n",
       "      <th>cuisine_description</th>\n",
       "      <th>action</th>\n",
       "      <th>score</th>\n",
       "      <th>grade</th>\n",
       "      <th>full_address</th>\n",
       "      <th>violation_code</th>\n",
       "      <th>violation_description</th>\n",
       "      <th>last_inspection_date</th>\n",
       "      <th>concatenated_reviews</th>\n",
       "    </tr>\n",
       "  </thead>\n",
       "  <tbody>\n",
       "    <tr>\n",
       "      <th>0</th>\n",
       "      <td>30075445</td>\n",
       "      <td>MORRIS PARK BAKE SHOP</td>\n",
       "      <td>Bronx</td>\n",
       "      <td>7188924968</td>\n",
       "      <td>2021-08-10</td>\n",
       "      <td>40.848231</td>\n",
       "      <td>-73.855972</td>\n",
       "      <td>Bakery Products/Desserts</td>\n",
       "      <td>Violations cited</td>\n",
       "      <td>5</td>\n",
       "      <td>A</td>\n",
       "      <td>1007 MORRIS PARK AVENUE 10462</td>\n",
       "      <td>06E</td>\n",
       "      <td>Sanitized equipment or utensil, including in-u...</td>\n",
       "      <td>2020-08-10</td>\n",
       "      <td>NaN</td>\n",
       "    </tr>\n",
       "    <tr>\n",
       "      <th>1</th>\n",
       "      <td>30075445</td>\n",
       "      <td>MORRIS PARK BAKE SHOP</td>\n",
       "      <td>Bronx</td>\n",
       "      <td>7188924968</td>\n",
       "      <td>2023-01-31</td>\n",
       "      <td>40.848231</td>\n",
       "      <td>-73.855972</td>\n",
       "      <td>Bakery Products/Desserts</td>\n",
       "      <td>Closed</td>\n",
       "      <td>21</td>\n",
       "      <td>B</td>\n",
       "      <td>1007 MORRIS PARK AVENUE 10462</td>\n",
       "      <td>06D 08C 10D 10F 04L 04N 06C 04H</td>\n",
       "      <td>Food contact surface not properly washed, rins...</td>\n",
       "      <td>2021-08-10</td>\n",
       "      <td>NaN</td>\n",
       "    </tr>\n",
       "    <tr>\n",
       "      <th>2</th>\n",
       "      <td>30075445</td>\n",
       "      <td>MORRIS PARK BAKE SHOP</td>\n",
       "      <td>Bronx</td>\n",
       "      <td>7188924968</td>\n",
       "      <td>2023-02-03</td>\n",
       "      <td>40.848231</td>\n",
       "      <td>-73.855972</td>\n",
       "      <td>Bakery Products/Desserts</td>\n",
       "      <td>Re-opened</td>\n",
       "      <td>13</td>\n",
       "      <td>A</td>\n",
       "      <td>1007 MORRIS PARK AVENUE 10462</td>\n",
       "      <td>02G 10F</td>\n",
       "      <td>Cold TCS food item held above 41 °F; smoked or...</td>\n",
       "      <td>2023-01-31</td>\n",
       "      <td>NaN</td>\n",
       "    </tr>\n",
       "    <tr>\n",
       "      <th>3</th>\n",
       "      <td>30075445</td>\n",
       "      <td>MORRIS PARK BAKE SHOP</td>\n",
       "      <td>Bronx</td>\n",
       "      <td>7188924968</td>\n",
       "      <td>2023-08-01</td>\n",
       "      <td>40.848231</td>\n",
       "      <td>-73.855972</td>\n",
       "      <td>Bakery Products/Desserts</td>\n",
       "      <td>Violations cited</td>\n",
       "      <td>38</td>\n",
       "      <td>C</td>\n",
       "      <td>1007 MORRIS PARK AVENUE 10462</td>\n",
       "      <td>04L 08A 05H</td>\n",
       "      <td>Evidence of mice or live mice in establishment...</td>\n",
       "      <td>2023-02-03</td>\n",
       "      <td>NaN</td>\n",
       "    </tr>\n",
       "    <tr>\n",
       "      <th>4</th>\n",
       "      <td>30075445</td>\n",
       "      <td>MORRIS PARK BAKE SHOP</td>\n",
       "      <td>Bronx</td>\n",
       "      <td>7188924968</td>\n",
       "      <td>2023-08-22</td>\n",
       "      <td>40.848231</td>\n",
       "      <td>-73.855972</td>\n",
       "      <td>Bakery Products/Desserts</td>\n",
       "      <td>Violations cited</td>\n",
       "      <td>12</td>\n",
       "      <td>A</td>\n",
       "      <td>1007 MORRIS PARK AVENUE 10462</td>\n",
       "      <td>08A 08C 04L</td>\n",
       "      <td>Establishment is not free of harborage or cond...</td>\n",
       "      <td>2023-08-01</td>\n",
       "      <td>NaN</td>\n",
       "    </tr>\n",
       "  </tbody>\n",
       "</table>\n",
       "</div>"
      ],
      "text/plain": [
       "      camis                    dba   boro       phone inspection_date  \\\n",
       "0  30075445  MORRIS PARK BAKE SHOP  Bronx  7188924968      2021-08-10   \n",
       "1  30075445  MORRIS PARK BAKE SHOP  Bronx  7188924968      2023-01-31   \n",
       "2  30075445  MORRIS PARK BAKE SHOP  Bronx  7188924968      2023-02-03   \n",
       "3  30075445  MORRIS PARK BAKE SHOP  Bronx  7188924968      2023-08-01   \n",
       "4  30075445  MORRIS PARK BAKE SHOP  Bronx  7188924968      2023-08-22   \n",
       "\n",
       "    latitude  longitude       cuisine_description            action  score  \\\n",
       "0  40.848231 -73.855972  Bakery Products/Desserts  Violations cited      5   \n",
       "1  40.848231 -73.855972  Bakery Products/Desserts            Closed     21   \n",
       "2  40.848231 -73.855972  Bakery Products/Desserts         Re-opened     13   \n",
       "3  40.848231 -73.855972  Bakery Products/Desserts  Violations cited     38   \n",
       "4  40.848231 -73.855972  Bakery Products/Desserts  Violations cited     12   \n",
       "\n",
       "  grade                   full_address                   violation_code  \\\n",
       "0     A  1007 MORRIS PARK AVENUE 10462                              06E   \n",
       "1     B  1007 MORRIS PARK AVENUE 10462  06D 08C 10D 10F 04L 04N 06C 04H   \n",
       "2     A  1007 MORRIS PARK AVENUE 10462                          02G 10F   \n",
       "3     C  1007 MORRIS PARK AVENUE 10462                      04L 08A 05H   \n",
       "4     A  1007 MORRIS PARK AVENUE 10462                      08A 08C 04L   \n",
       "\n",
       "                               violation_description last_inspection_date  \\\n",
       "0  Sanitized equipment or utensil, including in-u...           2020-08-10   \n",
       "1  Food contact surface not properly washed, rins...           2021-08-10   \n",
       "2  Cold TCS food item held above 41 °F; smoked or...           2023-01-31   \n",
       "3  Evidence of mice or live mice in establishment...           2023-02-03   \n",
       "4  Establishment is not free of harborage or cond...           2023-08-01   \n",
       "\n",
       "  concatenated_reviews  \n",
       "0                  NaN  \n",
       "1                  NaN  \n",
       "2                  NaN  \n",
       "3                  NaN  \n",
       "4                  NaN  "
      ]
     },
     "execution_count": 2,
     "metadata": {},
     "output_type": "execute_result"
    }
   ],
   "source": [
    "ny = pd.read_csv('ny_reviews.csv')\n",
    "ny.head()"
   ]
  },
  {
   "cell_type": "code",
   "execution_count": 3,
   "metadata": {},
   "outputs": [
    {
     "data": {
      "text/plain": [
       "(59989, 16)"
      ]
     },
     "execution_count": 3,
     "metadata": {},
     "output_type": "execute_result"
    }
   ],
   "source": [
    "ny.shape"
   ]
  },
  {
   "cell_type": "code",
   "execution_count": 4,
   "metadata": {},
   "outputs": [
    {
     "data": {
      "text/plain": [
       "(4098, 16)"
      ]
     },
     "execution_count": 4,
     "metadata": {},
     "output_type": "execute_result"
    }
   ],
   "source": [
    "ny = ny[ny.concatenated_reviews.notna()]\n",
    "ny.shape\n"
   ]
  },
  {
   "cell_type": "code",
   "execution_count": 5,
   "metadata": {},
   "outputs": [],
   "source": [
    "ny = ny.drop(columns=['latitude', 'longitude', 'phone', 'action', 'full_address', 'violation_code', 'violation_description'])"
   ]
  },
  {
   "cell_type": "code",
   "execution_count": null,
   "metadata": {},
   "outputs": [],
   "source": []
  },
  {
   "cell_type": "code",
   "execution_count": 6,
   "metadata": {},
   "outputs": [
    {
     "data": {
      "text/html": [
       "<div>\n",
       "<style scoped>\n",
       "    .dataframe tbody tr th:only-of-type {\n",
       "        vertical-align: middle;\n",
       "    }\n",
       "\n",
       "    .dataframe tbody tr th {\n",
       "        vertical-align: top;\n",
       "    }\n",
       "\n",
       "    .dataframe thead th {\n",
       "        text-align: right;\n",
       "    }\n",
       "</style>\n",
       "<table border=\"1\" class=\"dataframe\">\n",
       "  <thead>\n",
       "    <tr style=\"text-align: right;\">\n",
       "      <th></th>\n",
       "      <th>camis</th>\n",
       "      <th>dba</th>\n",
       "      <th>boro</th>\n",
       "      <th>inspection_date</th>\n",
       "      <th>cuisine_description</th>\n",
       "      <th>score</th>\n",
       "      <th>grade</th>\n",
       "      <th>last_inspection_date</th>\n",
       "      <th>concatenated_reviews</th>\n",
       "    </tr>\n",
       "  </thead>\n",
       "  <tbody>\n",
       "    <tr>\n",
       "      <th>155</th>\n",
       "      <td>40365904</td>\n",
       "      <td>MEE SUM CAFE</td>\n",
       "      <td>Manhattan</td>\n",
       "      <td>2021-10-13</td>\n",
       "      <td>Coffee/Tea</td>\n",
       "      <td>67</td>\n",
       "      <td>C</td>\n",
       "      <td>2020-10-13</td>\n",
       "      <td>Very authentic place. To the point that I ne...</td>\n",
       "    </tr>\n",
       "    <tr>\n",
       "      <th>156</th>\n",
       "      <td>40365904</td>\n",
       "      <td>MEE SUM CAFE</td>\n",
       "      <td>Manhattan</td>\n",
       "      <td>2021-11-24</td>\n",
       "      <td>Coffee/Tea</td>\n",
       "      <td>24</td>\n",
       "      <td>B</td>\n",
       "      <td>2021-10-13</td>\n",
       "      <td>Really great classic Chinese comfort food. Gre...</td>\n",
       "    </tr>\n",
       "    <tr>\n",
       "      <th>157</th>\n",
       "      <td>40365904</td>\n",
       "      <td>MEE SUM CAFE</td>\n",
       "      <td>Manhattan</td>\n",
       "      <td>2022-06-27</td>\n",
       "      <td>Coffee/Tea</td>\n",
       "      <td>50</td>\n",
       "      <td>C</td>\n",
       "      <td>2021-11-24</td>\n",
       "      <td>Great spot cheap eats Didn’t have time to take...</td>\n",
       "    </tr>\n",
       "    <tr>\n",
       "      <th>158</th>\n",
       "      <td>40365904</td>\n",
       "      <td>MEE SUM CAFE</td>\n",
       "      <td>Manhattan</td>\n",
       "      <td>2022-09-30</td>\n",
       "      <td>Coffee/Tea</td>\n",
       "      <td>59</td>\n",
       "      <td>C</td>\n",
       "      <td>2022-06-27</td>\n",
       "      <td>Great Place for some Home Cooking Friendly a...</td>\n",
       "    </tr>\n",
       "    <tr>\n",
       "      <th>159</th>\n",
       "      <td>40365904</td>\n",
       "      <td>MEE SUM CAFE</td>\n",
       "      <td>Manhattan</td>\n",
       "      <td>2023-04-14</td>\n",
       "      <td>Coffee/Tea</td>\n",
       "      <td>36</td>\n",
       "      <td>C</td>\n",
       "      <td>2022-09-30</td>\n",
       "      <td>Great dim sum cafe open early!!  Popular place...</td>\n",
       "    </tr>\n",
       "  </tbody>\n",
       "</table>\n",
       "</div>"
      ],
      "text/plain": [
       "        camis           dba       boro inspection_date cuisine_description  \\\n",
       "155  40365904  MEE SUM CAFE  Manhattan      2021-10-13          Coffee/Tea   \n",
       "156  40365904  MEE SUM CAFE  Manhattan      2021-11-24          Coffee/Tea   \n",
       "157  40365904  MEE SUM CAFE  Manhattan      2022-06-27          Coffee/Tea   \n",
       "158  40365904  MEE SUM CAFE  Manhattan      2022-09-30          Coffee/Tea   \n",
       "159  40365904  MEE SUM CAFE  Manhattan      2023-04-14          Coffee/Tea   \n",
       "\n",
       "     score grade last_inspection_date  \\\n",
       "155     67     C           2020-10-13   \n",
       "156     24     B           2021-10-13   \n",
       "157     50     C           2021-11-24   \n",
       "158     59     C           2022-06-27   \n",
       "159     36     C           2022-09-30   \n",
       "\n",
       "                                  concatenated_reviews  \n",
       "155    Very authentic place. To the point that I ne...  \n",
       "156  Really great classic Chinese comfort food. Gre...  \n",
       "157  Great spot cheap eats Didn’t have time to take...  \n",
       "158    Great Place for some Home Cooking Friendly a...  \n",
       "159  Great dim sum cafe open early!!  Popular place...  "
      ]
     },
     "execution_count": 6,
     "metadata": {},
     "output_type": "execute_result"
    }
   ],
   "source": [
    "ny.head()"
   ]
  },
  {
   "cell_type": "code",
   "execution_count": 7,
   "metadata": {},
   "outputs": [],
   "source": [
    "ny.to_csv('reviews_gpt.csv')"
   ]
  },
  {
   "cell_type": "code",
   "execution_count": 8,
   "metadata": {},
   "outputs": [
    {
     "name": "stdout",
     "output_type": "stream",
     "text": [
      "<class 'pandas.core.frame.DataFrame'>\n",
      "Index: 4098 entries, 155 to 59941\n",
      "Data columns (total 9 columns):\n",
      " #   Column                Non-Null Count  Dtype \n",
      "---  ------                --------------  ----- \n",
      " 0   camis                 4098 non-null   int64 \n",
      " 1   dba                   4098 non-null   object\n",
      " 2   boro                  4098 non-null   object\n",
      " 3   inspection_date       4098 non-null   object\n",
      " 4   cuisine_description   4098 non-null   object\n",
      " 5   score                 4098 non-null   int64 \n",
      " 6   grade                 4098 non-null   object\n",
      " 7   last_inspection_date  4098 non-null   object\n",
      " 8   concatenated_reviews  4098 non-null   object\n",
      "dtypes: int64(2), object(7)\n",
      "memory usage: 320.2+ KB\n"
     ]
    }
   ],
   "source": [
    "ny.info()"
   ]
  },
  {
   "cell_type": "code",
   "execution_count": 9,
   "metadata": {},
   "outputs": [],
   "source": [
    "# Regex pattern for finding emojis\n",
    "def extract_emojis(text):\n",
    "    emoji_pattern = regex.compile(\"[\"\n",
    "        u\"\\U0001F600-\\U0001F64F\"  # emoticons\n",
    "        u\"\\U0001F300-\\U0001F5FF\"  # symbols & pictographs\n",
    "        u\"\\U0001F680-\\U0001F6FF\"  # transport & map symbols\n",
    "        u\"\\U0001F700-\\U0001F77F\"  # alchemical symbols\n",
    "        u\"\\U0001F780-\\U0001F7FF\"  # Geometric Shapes Extended\n",
    "        u\"\\U0001F800-\\U0001F8FF\"  # Supplemental Arrows-C\n",
    "        u\"\\U0001F900-\\U0001F9FF\"  # Supplemental Symbols and Pictographs\n",
    "        u\"\\U0001FA00-\\U0001FA6F\"  # Chess Symbols\n",
    "        u\"\\U0001FA70-\\U0001FAFF\"  # Symbols and Pictographs Extended-A\n",
    "        u\"\\U00002702-\\U000027B0\"  # Dingbats\n",
    "        u\"\\U000024C2-\\U0001F251\" \n",
    "        \"]+\", flags=regex.UNICODE)\n",
    "    \n",
    "    return ' '.join(emoji_pattern.findall(text))\n"
   ]
  },
  {
   "cell_type": "code",
   "execution_count": 10,
   "metadata": {},
   "outputs": [],
   "source": [
    "import regex"
   ]
  },
  {
   "cell_type": "code",
   "execution_count": 11,
   "metadata": {},
   "outputs": [],
   "source": [
    "\n",
    "# Apply the function to create a new column with only emojis\n",
    "ny['emoji_reviews'] = ny['concatenated_reviews'].apply(extract_emojis)\n",
    "\n",
    "# Perform the split and stack to get all individual emojis\n",
    "all_emojis = ny['emoji_reviews'].str.split(expand=True).stack()\n",
    "\n",
    "# Frequency count of all emojis\n",
    "all_freq = pd.Series(all_emojis).value_counts().sort_values(ascending=False).astype(int)\n"
   ]
  },
  {
   "cell_type": "code",
   "execution_count": 12,
   "metadata": {},
   "outputs": [
    {
     "data": {
      "text/plain": [
       "😋     643\n",
       "👍     547\n",
       "👌     281\n",
       "❤️    280\n",
       "😊     187\n",
       "😍     171\n",
       "🤤     122\n",
       "🍕     106\n",
       "👏      91\n",
       "🔥      84\n",
       "👎      80\n",
       "😂      79\n",
       "♀️     77\n",
       "💯      74\n",
       "😁      68\n",
       "🥰      65\n",
       "️      62\n",
       "😉      62\n",
       "🤩      60\n",
       "😀      56\n",
       "Name: count, dtype: int64"
      ]
     },
     "execution_count": 12,
     "metadata": {},
     "output_type": "execute_result"
    }
   ],
   "source": [
    "all_freq.head(20)  # Display the top emojis by frequency\n",
    "\n"
   ]
  },
  {
   "cell_type": "code",
   "execution_count": 13,
   "metadata": {},
   "outputs": [
    {
     "data": {
      "text/plain": [
       "157    0      🇭🇰\n",
       "161    0       😒\n",
       "       1       👌\n",
       "186    0      ❤️\n",
       "187    0     👍👍👍\n",
       "            ... \n",
       "59811  15     👍🏻\n",
       "       16     👌🏼\n",
       "       17      😂\n",
       "59885  0       😂\n",
       "59941  0       🥐\n",
       "Length: 8647, dtype: object"
      ]
     },
     "execution_count": 13,
     "metadata": {},
     "output_type": "execute_result"
    }
   ],
   "source": [
    "all_emojis"
   ]
  },
  {
   "cell_type": "code",
   "execution_count": 14,
   "metadata": {},
   "outputs": [
    {
     "name": "stderr",
     "output_type": "stream",
     "text": [
      "/usr/local/anaconda3/lib/python3.10/site-packages/IPython/core/pylabtools.py:152: UserWarning: Glyph 128077 (\\N{THUMBS UP SIGN}) missing from current font.\n",
      "  fig.canvas.print_figure(bytes_io, **kw)\n",
      "/usr/local/anaconda3/lib/python3.10/site-packages/IPython/core/pylabtools.py:152: UserWarning: Glyph 128076 (\\N{OK HAND SIGN}) missing from current font.\n",
      "  fig.canvas.print_figure(bytes_io, **kw)\n"
     ]
    },
    {
     "data": {
      "image/png": "[encoded data removed]",
      "text/plain": [
       "<Figure size 1000x600 with 1 Axes>"
      ]
     },
     "metadata": {},
     "output_type": "display_data"
    }
   ],
   "source": [
    "import matplotlib.pyplot as plt\n",
    "\n",
    "# Get the top 5 emojis and their counts for plotting\n",
    "top_emojis = all_freq.head(5).index\n",
    "top_counts = all_freq.head(5).values\n",
    "\n",
    "# Create a bar chart\n",
    "plt.figure(figsize=(10, 6))\n",
    "plt.bar(top_emojis, top_counts, color='skyblue')\n",
    "\n",
    "# Add title and labels\n",
    "plt.title('Top 5 Emojis in Reviews', fontsize=15)\n",
    "plt.xlabel('Emoji', fontsize=12)\n",
    "plt.ylabel('Frequency', fontsize=12)\n",
    "\n",
    "# Show the plot\n",
    "plt.show()\n"
   ]
  },
  {
   "cell_type": "code",
   "execution_count": 24,
   "metadata": {},
   "outputs": [
    {
     "data": {
      "image/png": "[encoded data removed]",
      "text/plain": [
       "<Figure size 1000x600 with 1 Axes>"
      ]
     },
     "metadata": {},
     "output_type": "display_data"
    }
   ],
   "source": [
    "from imojify import imojify\n",
    "from matplotlib import pyplot as plt \n",
    "from matplotlib.offsetbox import OffsetImage, AnnotationBbox\n",
    "\n",
    "# Define the function to place an emoji image at given coordinates\n",
    "def offset_image(coord, emoji, ax):\n",
    "    img = plt.imread(imojify.get_img_path(emoji))\n",
    "    im = OffsetImage(img, zoom=0.08)\n",
    "    im.image.axes = ax\n",
    "    ab = AnnotationBbox(im, (coord, 0), xycoords='data', frameon=False, pad=0, box_alignment=(0.0, 0.0))\n",
    "    ax.add_artist(ab)\n",
    "\n",
    "# Your existing code to plot the data\n",
    "plt.figure(figsize=(10, 6))\n",
    "plt.bar(top_emojis, top_counts)\n",
    "\n",
    "# Remove the current labels\n",
    "plt.xticks([])\n",
    "\n",
    "# Set the new emoji labels using the offset_image function\n",
    "for i, emoji in enumerate(top_emojis):\n",
    "    offset_image(i, emoji, plt.gca())\n",
    "\n",
    "# Adjust the axis and padding if necessary\n",
    "plt.ylim(0, max(top_counts) + 10)\n",
    "plt.tick_params(axis='x', which='major', pad=15)\n",
    "\n",
    "# Add title and labels with default font\n",
    "plt.title('Top 5 Emojis in Reviews', fontsize=15)\n",
    "plt.xlabel('Emoji', fontsize=12)\n",
    "plt.ylabel('Frequency', fontsize=12)\n",
    "\n",
    "# Show the plot\n",
    "plt.show()\n"
   ]
  },
  {
   "cell_type": "code",
   "execution_count": 17,
   "metadata": {},
   "outputs": [
    {
     "data": {
      "image/png": "[encoded data removed]",
      "text/plain": [
       "<Figure size 1200x800 with 1 Axes>"
      ]
     },
     "metadata": {},
     "output_type": "display_data"
    }
   ],
   "source": [
    "from imojify import imojify\n",
    "from matplotlib import pyplot as plt \n",
    "from matplotlib.offsetbox import OffsetImage, AnnotationBbox\n",
    "\n",
    "def offset_image(coords, emoji, ax):\n",
    "    img = plt.imread(imojify.get_img_path(emoji))\n",
    "    im = OffsetImage(img, zoom=0.04)\n",
    "    im.image.axes = ax\n",
    "    ab = AnnotationBbox(im, (coords[0], coords[1]), frameon=False, pad=0)\n",
    "    ax.add_artist(ab)\n",
    "\n",
    "emojis = top_emojis  # your top emojis list\n",
    "values = top_counts  # your top counts list\n",
    "\n",
    "fig, ax = plt.subplots(figsize=(12,8))\n",
    "ax.bar(range(len(emojis)), values, width=0.5, align=\"center\")\n",
    "ax.set_xticks(range(len(emojis)))\n",
    "ax.set_xticklabels([])\n",
    "ax.tick_params(axis='x', which='major', pad=26)\n",
    "ax.set_ylim((0, max(values) + 10))  # Adjusted to add some space above bars\n",
    "\n",
    "for i, e in enumerate(emojis):\n",
    "    offset_image([i, values[i] + 5], e, ax)  # Adjust the positioning as needed\n",
    "\n",
    "plt.show()\n"
   ]
  }
 ],
 "metadata": {
  "kernelspec": {
   "display_name": "base",
   "language": "python",
   "name": "python3"
  },
  "language_info": {
   "codemirror_mode": {
    "name": "ipython",
    "version": 3
   },
   "file_extension": ".py",
   "mimetype": "text/x-python",
   "name": "python",
   "nbconvert_exporter": "python",
   "pygments_lexer": "ipython3",
   "version": "3.10.12"
  }
 },
 "nbformat": 4,
 "nbformat_minor": 2
}
