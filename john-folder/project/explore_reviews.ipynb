{
 "cells": [
  {
   "cell_type": "code",
   "execution_count": 1,
   "metadata": {},
   "outputs": [],
   "source": [
    "import pandas as pd"
   ]
  },
  {
   "cell_type": "code",
   "execution_count": 6,
   "metadata": {},
   "outputs": [
    {
     "data": {
      "text/html": [
       "<div>\n",
       "<style scoped>\n",
       "    .dataframe tbody tr th:only-of-type {\n",
       "        vertical-align: middle;\n",
       "    }\n",
       "\n",
       "    .dataframe tbody tr th {\n",
       "        vertical-align: top;\n",
       "    }\n",
       "\n",
       "    .dataframe thead th {\n",
       "        text-align: right;\n",
       "    }\n",
       "</style>\n",
       "<table border=\"1\" class=\"dataframe\">\n",
       "  <thead>\n",
       "    <tr style=\"text-align: right;\">\n",
       "      <th></th>\n",
       "      <th>camis</th>\n",
       "      <th>dba</th>\n",
       "      <th>boro</th>\n",
       "      <th>phone</th>\n",
       "      <th>inspection_date</th>\n",
       "      <th>latitude</th>\n",
       "      <th>longitude</th>\n",
       "      <th>cuisine_description</th>\n",
       "      <th>action</th>\n",
       "      <th>score</th>\n",
       "      <th>grade</th>\n",
       "      <th>full_address</th>\n",
       "      <th>violation_code</th>\n",
       "      <th>violation_description</th>\n",
       "      <th>last_inspection_date</th>\n",
       "      <th>concatenated_reviews</th>\n",
       "    </tr>\n",
       "  </thead>\n",
       "  <tbody>\n",
       "    <tr>\n",
       "      <th>0</th>\n",
       "      <td>30075445</td>\n",
       "      <td>MORRIS PARK BAKE SHOP</td>\n",
       "      <td>Bronx</td>\n",
       "      <td>7188924968</td>\n",
       "      <td>2021-08-10</td>\n",
       "      <td>40.848231</td>\n",
       "      <td>-73.855972</td>\n",
       "      <td>Bakery Products/Desserts</td>\n",
       "      <td>Violations cited</td>\n",
       "      <td>5</td>\n",
       "      <td>A</td>\n",
       "      <td>1007 MORRIS PARK AVENUE 10462</td>\n",
       "      <td>06E</td>\n",
       "      <td>Sanitized equipment or utensil, including in-u...</td>\n",
       "      <td>2020-08-10</td>\n",
       "      <td>NaN</td>\n",
       "    </tr>\n",
       "    <tr>\n",
       "      <th>1</th>\n",
       "      <td>30075445</td>\n",
       "      <td>MORRIS PARK BAKE SHOP</td>\n",
       "      <td>Bronx</td>\n",
       "      <td>7188924968</td>\n",
       "      <td>2023-01-31</td>\n",
       "      <td>40.848231</td>\n",
       "      <td>-73.855972</td>\n",
       "      <td>Bakery Products/Desserts</td>\n",
       "      <td>Closed</td>\n",
       "      <td>21</td>\n",
       "      <td>B</td>\n",
       "      <td>1007 MORRIS PARK AVENUE 10462</td>\n",
       "      <td>06D 08C 10D 10F 04L 04N 06C 04H</td>\n",
       "      <td>Food contact surface not properly washed, rins...</td>\n",
       "      <td>2021-08-10</td>\n",
       "      <td>NaN</td>\n",
       "    </tr>\n",
       "    <tr>\n",
       "      <th>2</th>\n",
       "      <td>30075445</td>\n",
       "      <td>MORRIS PARK BAKE SHOP</td>\n",
       "      <td>Bronx</td>\n",
       "      <td>7188924968</td>\n",
       "      <td>2023-02-03</td>\n",
       "      <td>40.848231</td>\n",
       "      <td>-73.855972</td>\n",
       "      <td>Bakery Products/Desserts</td>\n",
       "      <td>Re-opened</td>\n",
       "      <td>13</td>\n",
       "      <td>A</td>\n",
       "      <td>1007 MORRIS PARK AVENUE 10462</td>\n",
       "      <td>02G 10F</td>\n",
       "      <td>Cold TCS food item held above 41 °F; smoked or...</td>\n",
       "      <td>2023-01-31</td>\n",
       "      <td>NaN</td>\n",
       "    </tr>\n",
       "    <tr>\n",
       "      <th>3</th>\n",
       "      <td>30075445</td>\n",
       "      <td>MORRIS PARK BAKE SHOP</td>\n",
       "      <td>Bronx</td>\n",
       "      <td>7188924968</td>\n",
       "      <td>2023-08-01</td>\n",
       "      <td>40.848231</td>\n",
       "      <td>-73.855972</td>\n",
       "      <td>Bakery Products/Desserts</td>\n",
       "      <td>Violations cited</td>\n",
       "      <td>38</td>\n",
       "      <td>C</td>\n",
       "      <td>1007 MORRIS PARK AVENUE 10462</td>\n",
       "      <td>04L 08A 05H</td>\n",
       "      <td>Evidence of mice or live mice in establishment...</td>\n",
       "      <td>2023-02-03</td>\n",
       "      <td>NaN</td>\n",
       "    </tr>\n",
       "    <tr>\n",
       "      <th>4</th>\n",
       "      <td>30075445</td>\n",
       "      <td>MORRIS PARK BAKE SHOP</td>\n",
       "      <td>Bronx</td>\n",
       "      <td>7188924968</td>\n",
       "      <td>2023-08-22</td>\n",
       "      <td>40.848231</td>\n",
       "      <td>-73.855972</td>\n",
       "      <td>Bakery Products/Desserts</td>\n",
       "      <td>Violations cited</td>\n",
       "      <td>12</td>\n",
       "      <td>A</td>\n",
       "      <td>1007 MORRIS PARK AVENUE 10462</td>\n",
       "      <td>08A 08C 04L</td>\n",
       "      <td>Establishment is not free of harborage or cond...</td>\n",
       "      <td>2023-08-01</td>\n",
       "      <td>NaN</td>\n",
       "    </tr>\n",
       "  </tbody>\n",
       "</table>\n",
       "</div>"
      ],
      "text/plain": [
       "      camis                    dba   boro       phone inspection_date  \\\n",
       "0  30075445  MORRIS PARK BAKE SHOP  Bronx  7188924968      2021-08-10   \n",
       "1  30075445  MORRIS PARK BAKE SHOP  Bronx  7188924968      2023-01-31   \n",
       "2  30075445  MORRIS PARK BAKE SHOP  Bronx  7188924968      2023-02-03   \n",
       "3  30075445  MORRIS PARK BAKE SHOP  Bronx  7188924968      2023-08-01   \n",
       "4  30075445  MORRIS PARK BAKE SHOP  Bronx  7188924968      2023-08-22   \n",
       "\n",
       "    latitude  longitude       cuisine_description            action  score  \\\n",
       "0  40.848231 -73.855972  Bakery Products/Desserts  Violations cited      5   \n",
       "1  40.848231 -73.855972  Bakery Products/Desserts            Closed     21   \n",
       "2  40.848231 -73.855972  Bakery Products/Desserts         Re-opened     13   \n",
       "3  40.848231 -73.855972  Bakery Products/Desserts  Violations cited     38   \n",
       "4  40.848231 -73.855972  Bakery Products/Desserts  Violations cited     12   \n",
       "\n",
       "  grade                   full_address                   violation_code  \\\n",
       "0     A  1007 MORRIS PARK AVENUE 10462                              06E   \n",
       "1     B  1007 MORRIS PARK AVENUE 10462  06D 08C 10D 10F 04L 04N 06C 04H   \n",
       "2     A  1007 MORRIS PARK AVENUE 10462                          02G 10F   \n",
       "3     C  1007 MORRIS PARK AVENUE 10462                      04L 08A 05H   \n",
       "4     A  1007 MORRIS PARK AVENUE 10462                      08A 08C 04L   \n",
       "\n",
       "                               violation_description last_inspection_date  \\\n",
       "0  Sanitized equipment or utensil, including in-u...           2020-08-10   \n",
       "1  Food contact surface not properly washed, rins...           2021-08-10   \n",
       "2  Cold TCS food item held above 41 °F; smoked or...           2023-01-31   \n",
       "3  Evidence of mice or live mice in establishment...           2023-02-03   \n",
       "4  Establishment is not free of harborage or cond...           2023-08-01   \n",
       "\n",
       "  concatenated_reviews  \n",
       "0                  NaN  \n",
       "1                  NaN  \n",
       "2                  NaN  \n",
       "3                  NaN  \n",
       "4                  NaN  "
      ]
     },
     "execution_count": 6,
     "metadata": {},
     "output_type": "execute_result"
    }
   ],
   "source": [
    "ny = pd.read_csv('ny_reviews.csv')\n",
    "ny.head()"
   ]
  },
  {
   "cell_type": "code",
   "execution_count": 7,
   "metadata": {},
   "outputs": [
    {
     "data": {
      "text/plain": [
       "(59989, 16)"
      ]
     },
     "execution_count": 7,
     "metadata": {},
     "output_type": "execute_result"
    }
   ],
   "source": [
    "ny.shape"
   ]
  },
  {
   "cell_type": "code",
   "execution_count": 9,
   "metadata": {},
   "outputs": [
    {
     "data": {
      "text/plain": [
       "(4098, 16)"
      ]
     },
     "execution_count": 9,
     "metadata": {},
     "output_type": "execute_result"
    }
   ],
   "source": [
    "ny = ny[ny.concatenated_reviews.notna()]\n",
    "ny.shape"
   ]
  },
  {
   "cell_type": "code",
   "execution_count": null,
   "metadata": {},
   "outputs": [],
   "source": []
  }
 ],
 "metadata": {
  "kernelspec": {
   "display_name": "base",
   "language": "python",
   "name": "python3"
  },
  "language_info": {
   "codemirror_mode": {
    "name": "ipython",
    "version": 3
   },
   "file_extension": ".py",
   "mimetype": "text/x-python",
   "name": "python",
   "nbconvert_exporter": "python",
   "pygments_lexer": "ipython3",
   "version": "3.10.12"
  }
 },
 "nbformat": 4,
 "nbformat_minor": 2
}
