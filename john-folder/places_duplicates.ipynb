{
 "cells": [
  {
   "cell_type": "code",
   "execution_count": 1,
   "metadata": {},
   "outputs": [],
   "source": [
    "import pandas as pd"
   ]
  },
  {
   "cell_type": "code",
   "execution_count": 2,
   "metadata": {},
   "outputs": [
    {
     "data": {
      "text/plain": [
       "(9421, 5)"
      ]
     },
     "execution_count": 2,
     "metadata": {},
     "output_type": "execute_result"
    }
   ],
   "source": [
    "places_df = pd.read_csv('places_progress_bad_OG.csv')\n",
    "places_df.shape"
   ]
  },
  {
   "cell_type": "code",
   "execution_count": 3,
   "metadata": {},
   "outputs": [
    {
     "data": {
      "text/plain": [
       "(7695, 5)"
      ]
     },
     "execution_count": 3,
     "metadata": {},
     "output_type": "execute_result"
    }
   ],
   "source": [
    "places_df = places_df.drop_duplicates()\n",
    "places_df.shape"
   ]
  },
  {
   "cell_type": "code",
   "execution_count": 22,
   "metadata": {},
   "outputs": [],
   "source": [
    "# duplicate_camis_values = places_df[places_df.duplicated(subset='camis', keep=False)]['camis']\n",
    "# filtered_df = places_df[places_df['camis'].isin(duplicate_camis_values)]\n"
   ]
  },
  {
   "cell_type": "code",
   "execution_count": 5,
   "metadata": {},
   "outputs": [
    {
     "data": {
      "text/plain": [
       "(7695, 5)"
      ]
     },
     "execution_count": 5,
     "metadata": {},
     "output_type": "execute_result"
    }
   ],
   "source": [
    "places_df.shape"
   ]
  },
  {
   "cell_type": "code",
   "execution_count": 23,
   "metadata": {},
   "outputs": [
    {
     "data": {
      "text/html": [
       "<div>\n",
       "<style scoped>\n",
       "    .dataframe tbody tr th:only-of-type {\n",
       "        vertical-align: middle;\n",
       "    }\n",
       "\n",
       "    .dataframe tbody tr th {\n",
       "        vertical-align: top;\n",
       "    }\n",
       "\n",
       "    .dataframe thead th {\n",
       "        text-align: right;\n",
       "    }\n",
       "</style>\n",
       "<table border=\"1\" class=\"dataframe\">\n",
       "  <thead>\n",
       "    <tr style=\"text-align: right;\">\n",
       "      <th></th>\n",
       "      <th>camis</th>\n",
       "      <th>place_id</th>\n",
       "      <th>display_name</th>\n",
       "      <th>formatted_address</th>\n",
       "      <th>note</th>\n",
       "    </tr>\n",
       "  </thead>\n",
       "  <tbody>\n",
       "    <tr>\n",
       "      <th>33</th>\n",
       "      <td>41447792</td>\n",
       "      <td>ChIJm5XlqK9ZwokRskEZP6W-24c</td>\n",
       "      <td>fresh&amp;co</td>\n",
       "      <td>363 7th Ave, New York, NY 10001, USA</td>\n",
       "      <td>NaN</td>\n",
       "    </tr>\n",
       "    <tr>\n",
       "      <th>34</th>\n",
       "      <td>41447792</td>\n",
       "      <td>ChIJCSs__TZZwokRcz9q4h0Wyu8</td>\n",
       "      <td>fresh&amp;co</td>\n",
       "      <td>499 7th Ave, New York, NY 10018, USA</td>\n",
       "      <td>NaN</td>\n",
       "    </tr>\n",
       "    <tr>\n",
       "      <th>36</th>\n",
       "      <td>50118379</td>\n",
       "      <td>ChIJn7fRO5z3wokRsqLXcCKoz9M</td>\n",
       "      <td>Golden Dragon</td>\n",
       "      <td>2060 Adam Clayton Powell Jr Blvd, New York, NY...</td>\n",
       "      <td>NaN</td>\n",
       "    </tr>\n",
       "    <tr>\n",
       "      <th>37</th>\n",
       "      <td>50118379</td>\n",
       "      <td>ChIJT6l5hHz2wokRWTEIvi-6L0A</td>\n",
       "      <td>New Golden Dragon</td>\n",
       "      <td>398 W 145th St, New York, NY 10031, USA</td>\n",
       "      <td>NaN</td>\n",
       "    </tr>\n",
       "    <tr>\n",
       "      <th>64</th>\n",
       "      <td>50112714</td>\n",
       "      <td>ChIJPwdLUJVewokRgWn1UcUx0jU</td>\n",
       "      <td>56-27 58th St</td>\n",
       "      <td>56-27 58th St, Queens, NY 11378, USA</td>\n",
       "      <td>Possible address only, no specific business match</td>\n",
       "    </tr>\n",
       "  </tbody>\n",
       "</table>\n",
       "</div>"
      ],
      "text/plain": [
       "       camis                     place_id       display_name  \\\n",
       "33  41447792  ChIJm5XlqK9ZwokRskEZP6W-24c           fresh&co   \n",
       "34  41447792  ChIJCSs__TZZwokRcz9q4h0Wyu8           fresh&co   \n",
       "36  50118379  ChIJn7fRO5z3wokRsqLXcCKoz9M      Golden Dragon   \n",
       "37  50118379  ChIJT6l5hHz2wokRWTEIvi-6L0A  New Golden Dragon   \n",
       "64  50112714  ChIJPwdLUJVewokRgWn1UcUx0jU      56-27 58th St   \n",
       "\n",
       "                                    formatted_address  \\\n",
       "33               363 7th Ave, New York, NY 10001, USA   \n",
       "34               499 7th Ave, New York, NY 10018, USA   \n",
       "36  2060 Adam Clayton Powell Jr Blvd, New York, NY...   \n",
       "37            398 W 145th St, New York, NY 10031, USA   \n",
       "64               56-27 58th St, Queens, NY 11378, USA   \n",
       "\n",
       "                                                 note  \n",
       "33                                                NaN  \n",
       "34                                                NaN  \n",
       "36                                                NaN  \n",
       "37                                                NaN  \n",
       "64  Possible address only, no specific business match  "
      ]
     },
     "execution_count": 23,
     "metadata": {},
     "output_type": "execute_result"
    }
   ],
   "source": [
    "filtered_df.head()"
   ]
  },
  {
   "cell_type": "code",
   "execution_count": 6,
   "metadata": {},
   "outputs": [
    {
     "data": {
      "text/html": [
       "<div>\n",
       "<style scoped>\n",
       "    .dataframe tbody tr th:only-of-type {\n",
       "        vertical-align: middle;\n",
       "    }\n",
       "\n",
       "    .dataframe tbody tr th {\n",
       "        vertical-align: top;\n",
       "    }\n",
       "\n",
       "    .dataframe thead th {\n",
       "        text-align: right;\n",
       "    }\n",
       "</style>\n",
       "<table border=\"1\" class=\"dataframe\">\n",
       "  <thead>\n",
       "    <tr style=\"text-align: right;\">\n",
       "      <th></th>\n",
       "      <th>camis</th>\n",
       "      <th>place_id</th>\n",
       "      <th>display_name</th>\n",
       "      <th>formatted_address</th>\n",
       "      <th>note</th>\n",
       "      <th>street</th>\n",
       "    </tr>\n",
       "  </thead>\n",
       "  <tbody>\n",
       "    <tr>\n",
       "      <th>0</th>\n",
       "      <td>41168748</td>\n",
       "      <td>ChIJNzTkzav1wokRg3R8aGzuiWI</td>\n",
       "      <td>Dunkin'</td>\n",
       "      <td>In Sunoco Gas Station, 880 Garrison Ave, Bronx...</td>\n",
       "      <td>NaN</td>\n",
       "      <td>In Sunoco Gas Station</td>\n",
       "    </tr>\n",
       "    <tr>\n",
       "      <th>1</th>\n",
       "      <td>41688142</td>\n",
       "      <td>ChIJN0LWs0VawokRlblPt3vRdBU</td>\n",
       "      <td>Table 87</td>\n",
       "      <td>87 Atlantic Ave, Brooklyn, NY 11201, USA</td>\n",
       "      <td>NaN</td>\n",
       "      <td>87 Atlantic Ave</td>\n",
       "    </tr>\n",
       "    <tr>\n",
       "      <th>2</th>\n",
       "      <td>50100336</td>\n",
       "      <td>ChIJv4RNXVdawokR2clhEV4tZ8A</td>\n",
       "      <td>Subway</td>\n",
       "      <td>8711 3rd Ave, Brooklyn, NY 11209, USA</td>\n",
       "      <td>NaN</td>\n",
       "      <td>8711 3rd Ave</td>\n",
       "    </tr>\n",
       "    <tr>\n",
       "      <th>3</th>\n",
       "      <td>50086686</td>\n",
       "      <td>ChIJecXcbl9ZwokRKrDkbAar1eQ</td>\n",
       "      <td>GERTIE</td>\n",
       "      <td>357 Grand St, Brooklyn, NY 11211, USA</td>\n",
       "      <td>NaN</td>\n",
       "      <td>357 Grand St</td>\n",
       "    </tr>\n",
       "    <tr>\n",
       "      <th>4</th>\n",
       "      <td>50081121</td>\n",
       "      <td>ChIJ93nHHvVdwokRWLG_CuQou6o</td>\n",
       "      <td>Dunkin'</td>\n",
       "      <td>2492 Linden Blvd, Brooklyn, NY 11208, USA</td>\n",
       "      <td>NaN</td>\n",
       "      <td>2492 Linden Blvd</td>\n",
       "    </tr>\n",
       "  </tbody>\n",
       "</table>\n",
       "</div>"
      ],
      "text/plain": [
       "      camis                     place_id display_name  \\\n",
       "0  41168748  ChIJNzTkzav1wokRg3R8aGzuiWI      Dunkin'   \n",
       "1  41688142  ChIJN0LWs0VawokRlblPt3vRdBU     Table 87   \n",
       "2  50100336  ChIJv4RNXVdawokR2clhEV4tZ8A       Subway   \n",
       "3  50086686  ChIJecXcbl9ZwokRKrDkbAar1eQ       GERTIE   \n",
       "4  50081121  ChIJ93nHHvVdwokRWLG_CuQou6o      Dunkin'   \n",
       "\n",
       "                                   formatted_address note  \\\n",
       "0  In Sunoco Gas Station, 880 Garrison Ave, Bronx...  NaN   \n",
       "1           87 Atlantic Ave, Brooklyn, NY 11201, USA  NaN   \n",
       "2              8711 3rd Ave, Brooklyn, NY 11209, USA  NaN   \n",
       "3              357 Grand St, Brooklyn, NY 11211, USA  NaN   \n",
       "4          2492 Linden Blvd, Brooklyn, NY 11208, USA  NaN   \n",
       "\n",
       "                  street  \n",
       "0  In Sunoco Gas Station  \n",
       "1        87 Atlantic Ave  \n",
       "2           8711 3rd Ave  \n",
       "3           357 Grand St  \n",
       "4       2492 Linden Blvd  "
      ]
     },
     "execution_count": 6,
     "metadata": {},
     "output_type": "execute_result"
    }
   ],
   "source": [
    "places_df.loc[:, 'street'] = places_df['formatted_address'].str.split(',').str[0]\n",
    "places_df.head()"
   ]
  },
  {
   "cell_type": "code",
   "execution_count": 7,
   "metadata": {},
   "outputs": [
    {
     "data": {
      "text/plain": [
       "(7695, 6)"
      ]
     },
     "execution_count": 7,
     "metadata": {},
     "output_type": "execute_result"
    }
   ],
   "source": [
    "places_df.shape"
   ]
  },
  {
   "cell_type": "code",
   "execution_count": 8,
   "metadata": {},
   "outputs": [],
   "source": [
    "ny_df = pd.read_csv('clean_ny.csv')"
   ]
  },
  {
   "cell_type": "code",
   "execution_count": 9,
   "metadata": {},
   "outputs": [
    {
     "data": {
      "text/plain": [
       "(25820, 25820)"
      ]
     },
     "execution_count": 9,
     "metadata": {},
     "output_type": "execute_result"
    }
   ],
   "source": [
    "# Creating a new DataFrame with the selected columns\n",
    "selected_columns = ['camis', 'dba', 'boro', 'phone', 'full_address']\n",
    "unique_ny_df = ny_df[selected_columns].drop_duplicates()\n",
    "len(unique_ny_df), unique_ny_df.camis.nunique()\n"
   ]
  },
  {
   "cell_type": "code",
   "execution_count": 10,
   "metadata": {},
   "outputs": [
    {
     "data": {
      "text/html": [
       "<div>\n",
       "<style scoped>\n",
       "    .dataframe tbody tr th:only-of-type {\n",
       "        vertical-align: middle;\n",
       "    }\n",
       "\n",
       "    .dataframe tbody tr th {\n",
       "        vertical-align: top;\n",
       "    }\n",
       "\n",
       "    .dataframe thead th {\n",
       "        text-align: right;\n",
       "    }\n",
       "</style>\n",
       "<table border=\"1\" class=\"dataframe\">\n",
       "  <thead>\n",
       "    <tr style=\"text-align: right;\">\n",
       "      <th></th>\n",
       "      <th>camis</th>\n",
       "      <th>dba</th>\n",
       "      <th>boro</th>\n",
       "      <th>phone</th>\n",
       "      <th>full_address</th>\n",
       "    </tr>\n",
       "  </thead>\n",
       "  <tbody>\n",
       "    <tr>\n",
       "      <th>0</th>\n",
       "      <td>41168748</td>\n",
       "      <td>DUNKIN</td>\n",
       "      <td>Bronx</td>\n",
       "      <td>7188614171</td>\n",
       "      <td>880 GARRISON AVENUE 10474</td>\n",
       "    </tr>\n",
       "    <tr>\n",
       "      <th>1</th>\n",
       "      <td>41688142</td>\n",
       "      <td>TABLE 87</td>\n",
       "      <td>Brooklyn</td>\n",
       "      <td>9176186100</td>\n",
       "      <td>620 ATLANTIC AVENUE 11217</td>\n",
       "    </tr>\n",
       "    <tr>\n",
       "      <th>2</th>\n",
       "      <td>50100336</td>\n",
       "      <td>SUBWAY</td>\n",
       "      <td>Brooklyn</td>\n",
       "      <td>7186808808</td>\n",
       "      <td>8711 3 AVENUE 11209</td>\n",
       "    </tr>\n",
       "    <tr>\n",
       "      <th>3</th>\n",
       "      <td>50086686</td>\n",
       "      <td>GERTIE</td>\n",
       "      <td>Brooklyn</td>\n",
       "      <td>7186360902</td>\n",
       "      <td>58 MARCY AVENUE 11211</td>\n",
       "    </tr>\n",
       "    <tr>\n",
       "      <th>4</th>\n",
       "      <td>50081121</td>\n",
       "      <td>DUNKIN</td>\n",
       "      <td>Brooklyn</td>\n",
       "      <td>7182729090</td>\n",
       "      <td>2492 LINDEN BOULEVARD 11208</td>\n",
       "    </tr>\n",
       "  </tbody>\n",
       "</table>\n",
       "</div>"
      ],
      "text/plain": [
       "      camis       dba      boro       phone                 full_address\n",
       "0  41168748    DUNKIN     Bronx  7188614171    880 GARRISON AVENUE 10474\n",
       "1  41688142  TABLE 87  Brooklyn  9176186100    620 ATLANTIC AVENUE 11217\n",
       "2  50100336    SUBWAY  Brooklyn  7186808808          8711 3 AVENUE 11209\n",
       "3  50086686    GERTIE  Brooklyn  7186360902        58 MARCY AVENUE 11211\n",
       "4  50081121    DUNKIN  Brooklyn  7182729090  2492 LINDEN BOULEVARD 11208"
      ]
     },
     "execution_count": 10,
     "metadata": {},
     "output_type": "execute_result"
    }
   ],
   "source": [
    "unique_ny_df.head()"
   ]
  },
  {
   "cell_type": "code",
   "execution_count": 11,
   "metadata": {},
   "outputs": [
    {
     "data": {
      "text/plain": [
       "6589"
      ]
     },
     "execution_count": 11,
     "metadata": {},
     "output_type": "execute_result"
    }
   ],
   "source": [
    "places_df.camis.nunique()"
   ]
  },
  {
   "cell_type": "code",
   "execution_count": 13,
   "metadata": {},
   "outputs": [],
   "source": [
    "# Create a separate copy to avoid SettingWithCopyWarning\n",
    "places_df = places_df.copy()\n",
    "\n",
    "for index, row in places_df.iterrows():\n",
    "    camis = row['camis']\n",
    "    street = row['street'].lower()\n",
    "    \n",
    "    # Find rows in unique_ny_df with the same camis\n",
    "    matching_rows = unique_ny_df[unique_ny_df['camis'] == camis]\n",
    "    \n",
    "    # Check if the street is part of any full_address in matching_rows\n",
    "    if not any(street in address.lower() for address in matching_rows['full_address']):\n",
    "        places_df.drop(index, inplace=True)\n"
   ]
  },
  {
   "cell_type": "code",
   "execution_count": 19,
   "metadata": {},
   "outputs": [
    {
     "data": {
      "text/plain": [
       "((2595, 6), 2578)"
      ]
     },
     "execution_count": 19,
     "metadata": {},
     "output_type": "execute_result"
    }
   ],
   "source": [
    "places_df.shape, places_df.camis.nunique()"
   ]
  },
  {
   "cell_type": "code",
   "execution_count": 15,
   "metadata": {},
   "outputs": [],
   "source": [
    "# Save the places_df DataFrame as a CSV file\n",
    "places_df.to_csv('places_correct_addy.csv', index=False)\n"
   ]
  },
  {
   "cell_type": "code",
   "execution_count": 22,
   "metadata": {},
   "outputs": [
    {
     "data": {
      "text/plain": [
       "(2578, 2578)"
      ]
     },
     "execution_count": 22,
     "metadata": {},
     "output_type": "execute_result"
    }
   ],
   "source": [
    "# Creating a new DataFrame with the selected columns\n",
    "selected_columns = ['camis', 'place_id']\n",
    "places_df_scrape = places_df[selected_columns].drop_duplicates(subset='camis')\n",
    "len(places_df_scrape), places_df_scrape.camis.nunique()\n"
   ]
  },
  {
   "cell_type": "code",
   "execution_count": 23,
   "metadata": {},
   "outputs": [],
   "source": [
    "# Save the places_df DataFrame as a CSV file\n",
    "places_df_scrape.to_csv('places_scrape_rdy.csv', index=False)\n"
   ]
  },
  {
   "cell_type": "code",
   "execution_count": 9,
   "metadata": {},
   "outputs": [
    {
     "data": {
      "text/html": [
       "<div>\n",
       "<style scoped>\n",
       "    .dataframe tbody tr th:only-of-type {\n",
       "        vertical-align: middle;\n",
       "    }\n",
       "\n",
       "    .dataframe tbody tr th {\n",
       "        vertical-align: top;\n",
       "    }\n",
       "\n",
       "    .dataframe thead th {\n",
       "        text-align: right;\n",
       "    }\n",
       "</style>\n",
       "<table border=\"1\" class=\"dataframe\">\n",
       "  <thead>\n",
       "    <tr style=\"text-align: right;\">\n",
       "      <th></th>\n",
       "      <th>camis</th>\n",
       "      <th>place_id</th>\n",
       "      <th>display_name</th>\n",
       "      <th>formatted_address</th>\n",
       "      <th>note</th>\n",
       "    </tr>\n",
       "  </thead>\n",
       "  <tbody>\n",
       "    <tr>\n",
       "      <th>0</th>\n",
       "      <td>40359705</td>\n",
       "      <td>ChIJQQaDPzVEwokRwJfPzNzyNnI</td>\n",
       "      <td>Nathan's Famous</td>\n",
       "      <td>1310 Surf Ave, Brooklyn, NY 11224, USA</td>\n",
       "      <td>NaN</td>\n",
       "    </tr>\n",
       "    <tr>\n",
       "      <th>1</th>\n",
       "      <td>40359705</td>\n",
       "      <td>ChIJv58wAS5FwokR071pDE2VMIo</td>\n",
       "      <td>Nathan's Famous</td>\n",
       "      <td>1205 Riegelmann Boardwalk, Brooklyn, NY 11224,...</td>\n",
       "      <td>NaN</td>\n",
       "    </tr>\n",
       "    <tr>\n",
       "      <th>2</th>\n",
       "      <td>40363834</td>\n",
       "      <td>ChIJEyE1BblOwokRcDFBxNSocqs</td>\n",
       "      <td>Carvel</td>\n",
       "      <td>2590 Hylan Blvd, Staten Island, NY 10306, USA</td>\n",
       "      <td>NaN</td>\n",
       "    </tr>\n",
       "    <tr>\n",
       "      <th>3</th>\n",
       "      <td>40363834</td>\n",
       "      <td>ChIJZ9JH4-JOwokR9F9Jfcfhw3Q</td>\n",
       "      <td>Carvel</td>\n",
       "      <td>1111 Hylan Blvd, Staten Island, NY 10305, USA</td>\n",
       "      <td>NaN</td>\n",
       "    </tr>\n",
       "    <tr>\n",
       "      <th>4</th>\n",
       "      <td>40364443</td>\n",
       "      <td>ChIJDTph0yBawokRlYyt-eYKDLQ</td>\n",
       "      <td>NYPD Manhattan Central Booking</td>\n",
       "      <td>Manhattan Criminal Courthouse, 100 Centre St, ...</td>\n",
       "      <td>NaN</td>\n",
       "    </tr>\n",
       "    <tr>\n",
       "      <th>...</th>\n",
       "      <td>...</td>\n",
       "      <td>...</td>\n",
       "      <td>...</td>\n",
       "      <td>...</td>\n",
       "      <td>...</td>\n",
       "    </tr>\n",
       "    <tr>\n",
       "      <th>1423</th>\n",
       "      <td>50139434</td>\n",
       "      <td>ChIJFz6iQOVhwokRLchiouZFatE</td>\n",
       "      <td>Hong Kong Eats大家好港式茶餐厅</td>\n",
       "      <td>44-12 Kissena Blvd, Queens, NY 11355, USA</td>\n",
       "      <td>NaN</td>\n",
       "    </tr>\n",
       "    <tr>\n",
       "      <th>1424</th>\n",
       "      <td>50139434</td>\n",
       "      <td>ChIJm2DLIFhhwokRRjOWuuTOzB4</td>\n",
       "      <td>Shanghai Eats</td>\n",
       "      <td>4410 Kissena Blvd, Queens, NY 11355, USA</td>\n",
       "      <td>NaN</td>\n",
       "    </tr>\n",
       "    <tr>\n",
       "      <th>1425</th>\n",
       "      <td>50139434</td>\n",
       "      <td>ChIJ1TY27BRgwokRS60f42PdnyU</td>\n",
       "      <td>Tasty House 18</td>\n",
       "      <td>4412 Kissena Blvd, Queens, NY 11355, USA</td>\n",
       "      <td>NaN</td>\n",
       "    </tr>\n",
       "    <tr>\n",
       "      <th>1426</th>\n",
       "      <td>50139652</td>\n",
       "      <td>ChIJW02aLKxNwokR9cbPUzyaouc</td>\n",
       "      <td>R a Deli</td>\n",
       "      <td>2180 Forest Ave, Staten Island, NY 10303, USA</td>\n",
       "      <td>NaN</td>\n",
       "    </tr>\n",
       "    <tr>\n",
       "      <th>1427</th>\n",
       "      <td>50139652</td>\n",
       "      <td>ChIJp1STMqxNwokR89r1EZ9plQs</td>\n",
       "      <td>DOMINICAN FOOD CORP.</td>\n",
       "      <td>2180 Forest Ave, Staten Island, NY 10303, USA</td>\n",
       "      <td>NaN</td>\n",
       "    </tr>\n",
       "  </tbody>\n",
       "</table>\n",
       "<p>1428 rows × 5 columns</p>\n",
       "</div>"
      ],
      "text/plain": [
       "         camis                     place_id                    display_name  \\\n",
       "0     40359705  ChIJQQaDPzVEwokRwJfPzNzyNnI                 Nathan's Famous   \n",
       "1     40359705  ChIJv58wAS5FwokR071pDE2VMIo                 Nathan's Famous   \n",
       "2     40363834  ChIJEyE1BblOwokRcDFBxNSocqs                          Carvel   \n",
       "3     40363834  ChIJZ9JH4-JOwokR9F9Jfcfhw3Q                          Carvel   \n",
       "4     40364443  ChIJDTph0yBawokRlYyt-eYKDLQ  NYPD Manhattan Central Booking   \n",
       "...        ...                          ...                             ...   \n",
       "1423  50139434  ChIJFz6iQOVhwokRLchiouZFatE          Hong Kong Eats大家好港式茶餐厅   \n",
       "1424  50139434  ChIJm2DLIFhhwokRRjOWuuTOzB4                   Shanghai Eats   \n",
       "1425  50139434  ChIJ1TY27BRgwokRS60f42PdnyU                  Tasty House 18   \n",
       "1426  50139652  ChIJW02aLKxNwokR9cbPUzyaouc                        R a Deli   \n",
       "1427  50139652  ChIJp1STMqxNwokR89r1EZ9plQs            DOMINICAN FOOD CORP.   \n",
       "\n",
       "                                      formatted_address note  \n",
       "0                1310 Surf Ave, Brooklyn, NY 11224, USA  NaN  \n",
       "1     1205 Riegelmann Boardwalk, Brooklyn, NY 11224,...  NaN  \n",
       "2         2590 Hylan Blvd, Staten Island, NY 10306, USA  NaN  \n",
       "3         1111 Hylan Blvd, Staten Island, NY 10305, USA  NaN  \n",
       "4     Manhattan Criminal Courthouse, 100 Centre St, ...  NaN  \n",
       "...                                                 ...  ...  \n",
       "1423          44-12 Kissena Blvd, Queens, NY 11355, USA  NaN  \n",
       "1424           4410 Kissena Blvd, Queens, NY 11355, USA  NaN  \n",
       "1425           4412 Kissena Blvd, Queens, NY 11355, USA  NaN  \n",
       "1426      2180 Forest Ave, Staten Island, NY 10303, USA  NaN  \n",
       "1427      2180 Forest Ave, Staten Island, NY 10303, USA  NaN  \n",
       "\n",
       "[1428 rows x 5 columns]"
      ]
     },
     "execution_count": 9,
     "metadata": {},
     "output_type": "execute_result"
    }
   ],
   "source": [
    "duplicate_camis = places_df[places_df.duplicated(subset='camis', keep=False)]\n",
    "sorted_duplicates = duplicate_camis.sort_values(by='camis').reset_index(drop=True)\n",
    "sorted_duplicates"
   ]
  },
  {
   "cell_type": "code",
   "execution_count": 12,
   "metadata": {},
   "outputs": [],
   "source": [
    "unique_camis = places_df.camis.unique()"
   ]
  },
  {
   "cell_type": "code",
   "execution_count": 13,
   "metadata": {},
   "outputs": [
    {
     "data": {
      "text/plain": [
       "numpy.ndarray"
      ]
     },
     "execution_count": 13,
     "metadata": {},
     "output_type": "execute_result"
    }
   ],
   "source": [
    "type(unique_camis)"
   ]
  },
  {
   "cell_type": "code",
   "execution_count": 3,
   "metadata": {},
   "outputs": [
    {
     "data": {
      "text/html": [
       "<div>\n",
       "<style scoped>\n",
       "    .dataframe tbody tr th:only-of-type {\n",
       "        vertical-align: middle;\n",
       "    }\n",
       "\n",
       "    .dataframe tbody tr th {\n",
       "        vertical-align: top;\n",
       "    }\n",
       "\n",
       "    .dataframe thead th {\n",
       "        text-align: right;\n",
       "    }\n",
       "</style>\n",
       "<table border=\"1\" class=\"dataframe\">\n",
       "  <thead>\n",
       "    <tr style=\"text-align: right;\">\n",
       "      <th></th>\n",
       "      <th>camis</th>\n",
       "      <th>place_id</th>\n",
       "      <th>display_name</th>\n",
       "      <th>formatted_address</th>\n",
       "      <th>note</th>\n",
       "    </tr>\n",
       "  </thead>\n",
       "  <tbody>\n",
       "    <tr>\n",
       "      <th>0</th>\n",
       "      <td>41168748</td>\n",
       "      <td>ChIJNzTkzav1wokRg3R8aGzuiWI</td>\n",
       "      <td>Dunkin'</td>\n",
       "      <td>In Sunoco Gas Station, 880 Garrison Ave, Bronx...</td>\n",
       "      <td>NaN</td>\n",
       "    </tr>\n",
       "    <tr>\n",
       "      <th>1</th>\n",
       "      <td>41688142</td>\n",
       "      <td>ChIJN0LWs0VawokRlblPt3vRdBU</td>\n",
       "      <td>Table 87</td>\n",
       "      <td>87 Atlantic Ave, Brooklyn, NY 11201, USA</td>\n",
       "      <td>NaN</td>\n",
       "    </tr>\n",
       "  </tbody>\n",
       "</table>\n",
       "</div>"
      ],
      "text/plain": [
       "      camis                     place_id display_name  \\\n",
       "0  41168748  ChIJNzTkzav1wokRg3R8aGzuiWI      Dunkin'   \n",
       "1  41688142  ChIJN0LWs0VawokRlblPt3vRdBU     Table 87   \n",
       "\n",
       "                                   formatted_address note  \n",
       "0  In Sunoco Gas Station, 880 Garrison Ave, Bronx...  NaN  \n",
       "1           87 Atlantic Ave, Brooklyn, NY 11201, USA  NaN  "
      ]
     },
     "execution_count": 3,
     "metadata": {},
     "output_type": "execute_result"
    }
   ],
   "source": [
    "places_df.head(2)"
   ]
  },
  {
   "cell_type": "code",
   "execution_count": 4,
   "metadata": {},
   "outputs": [
    {
     "name": "stdout",
     "output_type": "stream",
     "text": [
      "<class 'pandas.core.frame.DataFrame'>\n",
      "RangeIndex: 9421 entries, 0 to 9420\n",
      "Data columns (total 5 columns):\n",
      " #   Column             Non-Null Count  Dtype \n",
      "---  ------             --------------  ----- \n",
      " 0   camis              9421 non-null   int64 \n",
      " 1   place_id           9421 non-null   object\n",
      " 2   display_name       9421 non-null   object\n",
      " 3   formatted_address  9421 non-null   object\n",
      " 4   note               498 non-null    object\n",
      "dtypes: int64(1), object(4)\n",
      "memory usage: 368.1+ KB\n"
     ]
    }
   ],
   "source": [
    "places_df.info()"
   ]
  },
  {
   "cell_type": "code",
   "execution_count": 5,
   "metadata": {},
   "outputs": [
    {
     "data": {
      "text/plain": [
       "6589"
      ]
     },
     "execution_count": 5,
     "metadata": {},
     "output_type": "execute_result"
    }
   ],
   "source": [
    "places_df.camis.nunique()"
   ]
  },
  {
   "cell_type": "code",
   "execution_count": 6,
   "metadata": {},
   "outputs": [
    {
     "data": {
      "text/plain": [
       "9421"
      ]
     },
     "execution_count": 6,
     "metadata": {},
     "output_type": "execute_result"
    }
   ],
   "source": [
    "len(places_df)"
   ]
  },
  {
   "cell_type": "code",
   "execution_count": 8,
   "metadata": {},
   "outputs": [
    {
     "data": {
      "text/plain": [
       "2832"
      ]
     },
     "execution_count": 8,
     "metadata": {},
     "output_type": "execute_result"
    }
   ],
   "source": [
    "len(places_df) - places_df.camis.nunique()"
   ]
  },
  {
   "cell_type": "code",
   "execution_count": 17,
   "metadata": {},
   "outputs": [
    {
     "data": {
      "text/plain": [
       "8923"
      ]
     },
     "execution_count": 17,
     "metadata": {},
     "output_type": "execute_result"
    }
   ],
   "source": [
    "len(places_df[places_df.note.isna()])"
   ]
  },
  {
   "cell_type": "code",
   "execution_count": 26,
   "metadata": {},
   "outputs": [],
   "source": [
    "places_df = places_df.drop_duplicates()"
   ]
  },
  {
   "cell_type": "code",
   "execution_count": 28,
   "metadata": {},
   "outputs": [
    {
     "data": {
      "text/plain": [
       "(7695, 5)"
      ]
     },
     "execution_count": 28,
     "metadata": {},
     "output_type": "execute_result"
    }
   ],
   "source": [
    "places_df.shape"
   ]
  },
  {
   "cell_type": "code",
   "execution_count": 18,
   "metadata": {},
   "outputs": [
    {
     "data": {
      "text/plain": [
       "(8923, 5)"
      ]
     },
     "execution_count": 18,
     "metadata": {},
     "output_type": "execute_result"
    }
   ],
   "source": [
    "places_df = places_df[places_df.note.isna()]\n",
    "places_df.shape"
   ]
  },
  {
   "cell_type": "code",
   "execution_count": null,
   "metadata": {},
   "outputs": [],
   "source": []
  }
 ],
 "metadata": {
  "kernelspec": {
   "display_name": "base",
   "language": "python",
   "name": "python3"
  },
  "language_info": {
   "codemirror_mode": {
    "name": "ipython",
    "version": 3
   },
   "file_extension": ".py",
   "mimetype": "text/x-python",
   "name": "python",
   "nbconvert_exporter": "python",
   "pygments_lexer": "ipython3",
   "version": "3.10.12"
  }
 },
 "nbformat": 4,
 "nbformat_minor": 2
}
