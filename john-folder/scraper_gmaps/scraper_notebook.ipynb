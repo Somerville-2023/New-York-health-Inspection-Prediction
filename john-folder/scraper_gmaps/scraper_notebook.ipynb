{
 "cells": [
  {
   "cell_type": "code",
   "execution_count": 16,
   "metadata": {},
   "outputs": [
    {
     "name": "stdout",
     "output_type": "stream",
     "text": [
      "Scraper initialized successfully.\n",
      "IP masking successful: Your IP address is being masked by Tor.\n",
      "Processing URL: https://www.google.com/maps/place/?q=place_id:ChIJ79lG6ylawokRHzGFI0I0V8k\n",
      "Attempting to sort reviews...\n",
      "Errors while readying to scrape: -1\n",
      "Error encountered when sorting reviews for URL: https://www.google.com/maps/place/?q=place_id:ChIJ79lG6ylawokRHzGFI0I0V8k\n",
      "The current page count is 1\n",
      "Processing URL: https://www.google.com/maps/place/?q=place_id:ChIJw0ul69tcwokRUXZtYK2viEw\n",
      "Attempting to sort reviews...\n",
      "Errors while readying to scrape: 0\n",
      "Starting to scrape reviews for https://www.google.com/maps/place/?q=place_id:ChIJw0ul69tcwokRUXZtYK2viEw...\n",
      "\u001b[36m[Scraping from review 0]\u001b[0m\n",
      "^C\n"
     ]
    }
   ],
   "source": [
    "!python scraper.py --N 200 --i places_scrape_rdy.csv --debug"
   ]
  },
  {
   "cell_type": "markdown",
   "metadata": {},
   "source": [
    "## Ignore from here down (I use it for testing the script)"
   ]
  },
  {
   "cell_type": "code",
   "execution_count": 7,
   "metadata": {},
   "outputs": [],
   "source": [
    "import requests\n",
    "from googlemaps import GoogleMapsScraper\n",
    "from selenium.webdriver.common.by import By\n",
    "\n",
    "# Function to get IP address without using Tor\n",
    "def get_ip_without_tor():\n",
    "    response = requests.get('http://httpbin.org/ip')\n",
    "    ip_without_tor = response.json()['origin']\n",
    "    print(\"IP without Tor:\", ip_without_tor)\n",
    "    return ip_without_tor\n",
    "\n",
    "# Function to get IP address using Tor with the initialized WebDriver\n",
    "def get_ip_with_tor(scraper):\n",
    "    scraper.driver.get('http://httpbin.org/ip')\n",
    "    response_text = scraper.driver.find_element(By.TAG_NAME, 'pre').text\n",
    "    ip_with_tor = eval(response_text)['origin']\n",
    "    print(\"IP with Tor:\", ip_with_tor)\n",
    "    return ip_with_tor\n",
    "\n",
    "def test_tor_connection():\n",
    "    print(\"Testing Tor connection...\")\n",
    "\n",
    "    # Initialize GoogleMapsScraper\n",
    "    scraper = GoogleMapsScraper()\n",
    "\n",
    "    # Get IP without Tor\n",
    "    ip_without_tor = get_ip_without_tor()\n",
    "\n",
    "    # Get IP with Tor\n",
    "    ip_with_tor = get_ip_with_tor(scraper)\n",
    "\n",
    "    # Check if the IP addresses are different\n",
    "    if ip_without_tor != ip_with_tor:\n",
    "        print(\"IP masking successful: Your IP address is being masked by Tor.\")\n",
    "    else:\n",
    "        print(\"IP masking unsuccessful: Your IP address is not being masked by Tor.\")\n",
    "\n",
    "    # Close and quit the WebDriver\n",
    "    # scraper.driver.quit()\n",
    "\n",
    "    print(\"Test completed.\")\n",
    "\n"
   ]
  },
  {
   "cell_type": "code",
   "execution_count": 3,
   "metadata": {},
   "outputs": [
    {
     "data": {
      "text/plain": [
       "0"
      ]
     },
     "execution_count": 3,
     "metadata": {},
     "output_type": "execute_result"
    }
   ],
   "source": [
    "import os \n",
    "os.system('afplay /System/Library/Sounds/Ping.aiff')"
   ]
  },
  {
   "cell_type": "code",
   "execution_count": 8,
   "metadata": {},
   "outputs": [
    {
     "name": "stdout",
     "output_type": "stream",
     "text": [
      "Testing Tor connection...\n",
      "IP without Tor: 75.81.146.166\n",
      "IP with Tor: 188.68.41.191\n",
      "IP masking successful: Your IP address is being masked by Tor.\n",
      "Test completed.\n"
     ]
    }
   ],
   "source": [
    "test_tor_connection()"
   ]
  },
  {
   "cell_type": "code",
   "execution_count": 2,
   "metadata": {},
   "outputs": [],
   "source": [
    "from stem import Signal\n",
    "from stem.control import Controller"
   ]
  }
 ],
 "metadata": {
  "kernelspec": {
   "display_name": "scraping",
   "language": "python",
   "name": "python3"
  },
  "language_info": {
   "codemirror_mode": {
    "name": "ipython",
    "version": 3
   },
   "file_extension": ".py",
   "mimetype": "text/x-python",
   "name": "python",
   "nbconvert_exporter": "python",
   "pygments_lexer": "ipython3",
   "version": "3.12.0"
  }
 },
 "nbformat": 4,
 "nbformat_minor": 2
}
