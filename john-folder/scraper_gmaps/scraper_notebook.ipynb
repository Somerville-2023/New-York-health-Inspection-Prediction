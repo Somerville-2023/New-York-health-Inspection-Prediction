{
 "cells": [
  {
   "cell_type": "code",
   "execution_count": 11,
   "metadata": {},
   "outputs": [],
   "source": [
    "import env\n",
    "from stem import Signal\n",
    "from stem.control import Controller\n",
    "\n",
    "def change_tor_identity():\n",
    "    with Controller.from_port(port=9051) as controller:\n",
    "        controller.authenticate(password=env.torp)  # You might need to provide a password here if you've set one.\n",
    "        controller.signal(Signal.NEWNYM)\n",
    "        \n",
    "        "
   ]
  },
  {
   "cell_type": "code",
   "execution_count": 2,
   "metadata": {},
   "outputs": [
    {
     "name": "stdout",
     "output_type": "stream",
     "text": [
      "Starting get_driver\n",
      "Initializing ChromeDriver...\n",
      "ChromeDriver successfully initialized.\n",
      "Testing Tor connection...\n",
      "IP masking successful: Your IP address is being masked by Tor.\n",
      "Real IP: 150.220.144.130\n",
      "Tor IP: 192.42.116.220\n",
      "Requesting new Tor IP...\n",
      "New Tor connection processed\n",
      "Testing Tor connection...\n",
      "IP masking successful: Your IP address is being masked by Tor.\n",
      "Real IP: 150.220.144.130\n",
      "Tor IP: 192.42.116.220\n"
     ]
    }
   ],
   "source": [
    "!python tor_test_connection.py"
   ]
  },
  {
   "cell_type": "code",
   "execution_count": 5,
   "metadata": {},
   "outputs": [
    {
     "name": "stdout",
     "output_type": "stream",
     "text": [
      "Scraper initialized successfully.\n",
      "IP without Tor: 150.220.144.130\n",
      "IP with Tor: 193.35.18.95\n",
      "IP masking successful: Your IP address is being masked by Tor.\n",
      "Real IP: 150.220.144.130\n",
      "Tor IP: 193.35.18.95\n",
      "Processing URL: https://www.google.com/maps/place/?q=place_id:ChIJ0bB3wbNbwokR1kMvXxcJM6I\n",
      "Attempting to sort reviews...\n",
      "Total number of reviews found: 176\n",
      "Sorting button clicked successfully.\n",
      "Errors while readying to scrape: 0\n",
      "Starting to scrape reviews for https://www.google.com/maps/place/?q=place_id:ChIJ0bB3wbNbwokR1kMvXxcJM6I...\n",
      "\u001b[36m[Scraping from review 0]\u001b[0m\n",
      "Scrolled done\n",
      "Number of reviews fetched: 176\n",
      "\u001b[36m[Scraping from review 176]\u001b[0m\n",
      "Scrolled done\n",
      "Number of reviews fetched: 0\n",
      "No more reviews to fetch. Breaking out of the loop.\n",
      "The current page count is 1\n",
      "Processing URL: https://www.google.com/maps/place/?q=place_id:ChIJUa70bp-LwokRSFW_WUHDW3o\n",
      "Attempting to sort reviews...\n",
      "Total number of reviews found: 181\n"
     ]
    }
   ],
   "source": [
    "!python scraper.py --N 200 --i john_4.csv # --debug"
   ]
  },
  {
   "cell_type": "code",
   "execution_count": null,
   "metadata": {},
   "outputs": [],
   "source": []
  }
 ],
 "metadata": {
  "kernelspec": {
   "display_name": "scraping",
   "language": "python",
   "name": "python3"
  },
  "language_info": {
   "codemirror_mode": {
    "name": "ipython",
    "version": 3
   },
   "file_extension": ".py",
   "mimetype": "text/x-python",
   "name": "python",
   "nbconvert_exporter": "python",
   "pygments_lexer": "ipython3",
   "version": "3.10.12"
  }
 },
 "nbformat": 4,
 "nbformat_minor": 2
}
