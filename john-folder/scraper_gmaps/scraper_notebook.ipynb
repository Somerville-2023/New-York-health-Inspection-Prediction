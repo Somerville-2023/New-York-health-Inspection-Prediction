{
 "cells": [
  {
   "cell_type": "code",
   "execution_count": 16,
   "metadata": {},
   "outputs": [
    {
     "name": "stdout",
     "output_type": "stream",
     "text": [
      "Scraper initialized successfully.\n",
      "IP masking successful: Your IP address is being masked by Tor.\n",
      "Processing URL: https://www.google.com/maps/place/?q=place_id:ChIJ79lG6ylawokRHzGFI0I0V8k\n",
      "Attempting to sort reviews...\n",
      "Errors while readying to scrape: -1\n",
      "Error encountered when sorting reviews for URL: https://www.google.com/maps/place/?q=place_id:ChIJ79lG6ylawokRHzGFI0I0V8k\n",
      "The current page count is 1\n",
      "Processing URL: https://www.google.com/maps/place/?q=place_id:ChIJw0ul69tcwokRUXZtYK2viEw\n",
      "Attempting to sort reviews...\n",
      "Errors while readying to scrape: 0\n",
      "Starting to scrape reviews for https://www.google.com/maps/place/?q=place_id:ChIJw0ul69tcwokRUXZtYK2viEw...\n",
      "\u001b[36m[Scraping from review 0]\u001b[0m\n",
      "^C\n"
     ]
    }
   ],
   "source": [
    "!python scraper.py --N 200 --i places_scrape_rdy.csv --debug"
   ]
  }
 ],
 "metadata": {
  "kernelspec": {
   "display_name": "scraping",
   "language": "python",
   "name": "python3"
  },
  "language_info": {
   "codemirror_mode": {
    "name": "ipython",
    "version": 3
   },
   "file_extension": ".py",
   "mimetype": "text/x-python",
   "name": "python",
   "nbconvert_exporter": "python",
   "pygments_lexer": "ipython3",
   "version": "3.12.0"
  }
 },
 "nbformat": 4,
 "nbformat_minor": 2
}
