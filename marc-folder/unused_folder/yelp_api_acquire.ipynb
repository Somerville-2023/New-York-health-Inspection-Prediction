{
 "cells": [
  {
   "cell_type": "markdown",
   "id": "0299bf6b-cbec-4af8-b8d3-7580dcd73617",
   "metadata": {},
   "source": [
    "# YELP Fusion API"
   ]
  },
  {
   "cell_type": "markdown",
   "id": "b156a717-ef49-426e-a743-a913186d4b66",
   "metadata": {},
   "source": [
    "* [Fusion Authentication page](https://docs.developer.yelp.com/docs/fusion-authentication)  \n",
    "* [Yelp API docs](https://docs.developer.yelp.com/docs/getting-started)\n"
   ]
  },
  {
   "cell_type": "markdown",
   "id": "d02b5e09-2837-4fc1-9614-43d0fd6ae7a2",
   "metadata": {},
   "source": [
    "##### I have went to the hyperlink above to research the process to retrieve API Key\n",
    "\n",
    "1. Access site\n",
    "2. Sign Up for Yelp wbsite (Sign in if you have an existing account)\n",
    "3. Click 'Create App'\n",
    "4. Fill Required Information and select submit\n",
    "5. Record and save you API key in a .py file"
   ]
  },
  {
   "cell_type": "markdown",
   "id": "44bcdef7-6f44-4a53-97a7-a6f1757e1125",
   "metadata": {},
   "source": [
    "## **API Usage**\n",
    "\n",
    "## Daily API limit: *500*   **(Reviews: 3 per buisness)**"
   ]
  },
  {
   "cell_type": "code",
   "execution_count": 1,
   "id": "7a1a486f-c44b-40db-ad6c-baf8d7083d42",
   "metadata": {},
   "outputs": [],
   "source": [
    "## I may have to web scrape for a list of business ids to return reviews"
   ]
  },
  {
   "cell_type": "markdown",
   "id": "2e1425ed-3a14-4623-91c9-df214b870b84",
   "metadata": {},
   "source": [
    "### Maybe do some realtime data pipeline to store data into a database?  "
   ]
  },
  {
   "cell_type": "code",
   "execution_count": 28,
   "id": "29643a59-f6d9-4477-9ae9-f75efd1ab17b",
   "metadata": {},
   "outputs": [],
   "source": [
    "import requests\n",
    "from env import YELP_ID, YELP_API_KEY, yelp_locale_url\n",
    "\n",
    "headers = {\n",
    "    \"accept\": \"application/json\",\n",
    "    \"Authorization\": F\"Bearer {YELP_API_KEY}\"\n",
    "}\n",
    "\n",
    "response = requests.get(yelp_locale_url, headers=headers)"
   ]
  },
  {
   "cell_type": "code",
   "execution_count": 29,
   "id": "df58b795-c736-43d9-ba67-a281d53f4d26",
   "metadata": {},
   "outputs": [
    {
     "data": {
      "text/plain": [
       "<Response [200]>"
      ]
     },
     "execution_count": 29,
     "metadata": {},
     "output_type": "execute_result"
    }
   ],
   "source": [
    "response"
   ]
  },
  {
   "cell_type": "markdown",
   "id": "c95339e7-cae1-4d1f-b685-61d11049e722",
   "metadata": {},
   "source": [
    "## Checked API credentials and endpoint connection and retrieval of data; now will look for alternate pagination method per the yelp fuision api parameters"
   ]
  },
  {
   "cell_type": "code",
   "execution_count": null,
   "id": "020493f6-6ccb-4a35-913b-3ee521034ee2",
   "metadata": {},
   "outputs": [],
   "source": [
    "r = response.json()"
   ]
  },
  {
   "cell_type": "code",
   "execution_count": 33,
   "id": "21bd4a94-4f52-4b11-ab40-e57c8064ccc4",
   "metadata": {},
   "outputs": [
    {
     "data": {
      "text/plain": [
       "{'id': 'WG639VkTjmK5dzydd1BBJA',\n",
       " 'alias': 'rubirosa-new-york-2',\n",
       " 'name': 'Rubirosa',\n",
       " 'image_url': 'https://s3-media3.fl.yelpcdn.com/bphoto/l0Phrnhhj78RFiDhLIOUyQ/o.jpg',\n",
       " 'is_closed': False,\n",
       " 'url': 'https://www.yelp.com/biz/rubirosa-new-york-2?adjust_creative=_cn4uqd0Qxmkxg3N98CKKQ&utm_campaign=yelp_api_v3&utm_medium=api_v3_business_search&utm_source=_cn4uqd0Qxmkxg3N98CKKQ',\n",
       " 'review_count': 3192,\n",
       " 'categories': [{'alias': 'italian', 'title': 'Italian'},\n",
       "  {'alias': 'pizza', 'title': 'Pizza'}],\n",
       " 'rating': 4.5,\n",
       " 'coordinates': {'latitude': 40.722766, 'longitude': -73.996233},\n",
       " 'transactions': ['pickup'],\n",
       " 'price': '$$',\n",
       " 'location': {'address1': '235 Mulberry St',\n",
       "  'address2': '',\n",
       "  'address3': '',\n",
       "  'city': 'New York',\n",
       "  'zip_code': '10012',\n",
       "  'country': 'US',\n",
       "  'state': 'NY',\n",
       "  'display_address': ['235 Mulberry St', 'New York, NY 10012']},\n",
       " 'phone': '+12129650500',\n",
       " 'display_phone': '(212) 965-0500',\n",
       " 'distance': 1922.0346803084792}"
      ]
     },
     "execution_count": 33,
     "metadata": {},
     "output_type": "execute_result"
    }
   ],
   "source": [
    "r['businesses'][1]"
   ]
  },
  {
   "cell_type": "code",
   "execution_count": 4,
   "id": "4ea6bcde-8d9d-47a9-8d21-cab98b40fc26",
   "metadata": {},
   "outputs": [],
   "source": [
    "# # Make the GET request\n",
    "# response = requests.get(url, headers=headers)\n",
    "\n",
    "# # Check the response status\n",
    "# if response.status_code == 200:\n",
    "#     data = response.json()\n",
    "#     # You can now work with the data from the response\n",
    "#     # For example, you can access the reviews with data['reviews']\n",
    "# else:\n",
    "#     print(f\"Request failed with status code {response.status_code}\")"
   ]
  },
  {
   "cell_type": "markdown",
   "id": "978ad203-24c3-4784-8255-4a4a658aa314",
   "metadata": {},
   "source": [
    "  "
   ]
  },
  {
   "cell_type": "markdown",
   "id": "a6ce0ba8-fb4d-4e0d-b9ad-bad31517ff4d",
   "metadata": {},
   "source": [
    "  "
   ]
  },
  {
   "cell_type": "markdown",
   "id": "3f689841-b558-41c7-9930-37f007796f56",
   "metadata": {},
   "source": [
    "  "
   ]
  },
  {
   "cell_type": "markdown",
   "id": "738f5ece-e77c-481f-8171-8a32d23f9c94",
   "metadata": {},
   "source": [
    "  "
   ]
  },
  {
   "cell_type": "markdown",
   "id": "906b6caa-4989-4aa3-9c37-e3bbb7264bca",
   "metadata": {},
   "source": [
    "  "
   ]
  },
  {
   "cell_type": "markdown",
   "id": "c60e63d3-236d-47e6-a9fd-13fa808d8af5",
   "metadata": {},
   "source": [
    "  "
   ]
  },
  {
   "cell_type": "markdown",
   "id": "7b1cde8e-ca13-4f4b-aaf3-0f1a5ae3d2eb",
   "metadata": {},
   "source": [
    "  "
   ]
  },
  {
   "cell_type": "markdown",
   "id": "8c124092-0e2c-4eaa-a1fd-749b29b41002",
   "metadata": {},
   "source": [
    "  "
   ]
  },
  {
   "cell_type": "markdown",
   "id": "6496ad09-a66f-4501-a42c-b0ae4d83d2da",
   "metadata": {},
   "source": [
    "  "
   ]
  },
  {
   "cell_type": "markdown",
   "id": "4e2adbcc-bfbd-416e-8b23-d916e2932972",
   "metadata": {},
   "source": [
    "## Referencing the Fusion Yelp API below is the best method to paginate the data to first retrieve the business_ids in order for us to search and retrieve reviews for those specified businesses."
   ]
  },
  {
   "cell_type": "code",
   "execution_count": 35,
   "id": "58095d18-77cd-4e84-b029-b23f3e229162",
   "metadata": {},
   "outputs": [
    {
     "name": "stdout",
     "output_type": "stream",
     "text": [
      "Failed to retrieve data. Status code: 503\n"
     ]
    }
   ],
   "source": [
    "# required imports to implement paginatiom\n",
    "import requests\n",
    "import pandas as pd\n",
    "import time\n",
    "# env.py imports\n",
    "from env import YELP_ID, YELP_API_KEY, yelp_locale_url\n",
    "\n",
    "# API credentials and endpoint\n",
    "api_key = YELP_API_KEY\n",
    "api_endpoint = 'https://api.yelp.com/v3/businesses/search'\n",
    "\n",
    "# Pagination parameters per the API businesses reference page\n",
    "limit = 50  # Number of results per page\n",
    "offset = 0  # Start with the first page\n",
    "\n",
    "all_businesses = []  # List to store all business data\n",
    "\n",
    "# Create the request URL with the 'limit' and 'offset' parameters\n",
    "url = f'{api_endpoint}?location=New+York&limit={limit}&offset={offset}'\n",
    "\n",
    "# While loop to make calls and retrieve data in a managable way by chunks\n",
    "while True:\n",
    "    headers = {\n",
    "        'Authorization': f'Bearer {YELP_API_KEY}'\n",
    "    }\n",
    "\n",
    "    response = requests.get(url, headers=headers)\n",
    "\n",
    "    # reponse code check\n",
    "    if response.status_code != 200:\n",
    "        print(f\"Failed to retrieve data. Status code: {response.status_code}\")\n",
    "        break\n",
    "\n",
    "    businesses = response.json().get('businesses', [])\n",
    "\n",
    "    if not businesses:\n",
    "        # No more results to fetch\n",
    "        break\n",
    "\n",
    "    # add data to all_businesses list\n",
    "    all_businesses.extend(businesses)\n",
    "    offset += limit  # Move to the next page\n",
    "\n",
    "    # Sleep for 60 seconds to respect QPS rate limiting\n",
    "    time.sleep(60)\n",
    "\n",
    "# Now 'all_businesses' contains all the retrieved business data\n",
    "\n",
    "# Convert the data into a DataFrame\n",
    "df = pd.DataFrame(all_businesses)"
   ]
  },
  {
   "cell_type": "markdown",
   "id": "f4d2c59b-2d0d-49be-932a-b369c666a3e0",
   "metadata": {},
   "source": [
    "  "
   ]
  },
  {
   "cell_type": "markdown",
   "id": "1db0daf6-aef6-4384-97b8-2893ea3ede45",
   "metadata": {},
   "source": [
    "  "
   ]
  },
  {
   "cell_type": "markdown",
   "id": "369b30a1-99f8-459a-9ea7-4d5d84190b5c",
   "metadata": {},
   "source": [
    "  "
   ]
  },
  {
   "cell_type": "markdown",
   "id": "aebdd25e-4c44-40ff-8720-85a1bf06f226",
   "metadata": {},
   "source": [
    "  "
   ]
  },
  {
   "cell_type": "markdown",
   "id": "9f3f5858-ca45-45aa-9afc-27f70e1adab6",
   "metadata": {},
   "source": [
    "  "
   ]
  },
  {
   "cell_type": "markdown",
   "id": "ebf6a37f-8595-4061-b3ff-d1980755bd9f",
   "metadata": {},
   "source": [
    "  "
   ]
  },
  {
   "cell_type": "markdown",
   "id": "e548bbe0-18b0-48cc-8ad4-a0883baf4299",
   "metadata": {},
   "source": [
    "## Looking at the yelp business dataframe and ensure good data is being used to cross reference"
   ]
  },
  {
   "cell_type": "code",
   "execution_count": 36,
   "id": "9e9ae496-9c7d-4d21-b975-277c27c12ebb",
   "metadata": {},
   "outputs": [
    {
     "name": "stdout",
     "output_type": "stream",
     "text": [
      "<class 'pandas.core.frame.DataFrame'>\n",
      "RangeIndex: 29200 entries, 0 to 29199\n",
      "Data columns (total 16 columns):\n",
      " #   Column         Non-Null Count  Dtype  \n",
      "---  ------         --------------  -----  \n",
      " 0   id             29200 non-null  object \n",
      " 1   alias          29200 non-null  object \n",
      " 2   name           29200 non-null  object \n",
      " 3   image_url      29200 non-null  object \n",
      " 4   is_closed      29200 non-null  bool   \n",
      " 5   url            29200 non-null  object \n",
      " 6   review_count   29200 non-null  int64  \n",
      " 7   categories     29200 non-null  object \n",
      " 8   rating         29200 non-null  float64\n",
      " 9   coordinates    29200 non-null  object \n",
      " 10  transactions   29200 non-null  object \n",
      " 11  price          28873 non-null  object \n",
      " 12  location       29200 non-null  object \n",
      " 13  phone          29200 non-null  object \n",
      " 14  display_phone  29200 non-null  object \n",
      " 15  distance       29200 non-null  float64\n",
      "dtypes: bool(1), float64(2), int64(1), object(12)\n",
      "memory usage: 3.4+ MB\n"
     ]
    }
   ],
   "source": [
    "df.info()"
   ]
  },
  {
   "cell_type": "markdown",
   "id": "4971d1c9-1305-45f6-bd24-37d62d7e8ee1",
   "metadata": {},
   "source": [
    "  "
   ]
  },
  {
   "cell_type": "markdown",
   "id": "cfd1dd99-5c98-4739-883f-25bc729dea8e",
   "metadata": {},
   "source": [
    "  "
   ]
  },
  {
   "cell_type": "markdown",
   "id": "2e1a138a-8a20-4faa-973b-a56240a13cfb",
   "metadata": {},
   "source": [
    "  "
   ]
  },
  {
   "cell_type": "markdown",
   "id": "735e7d79-435b-4336-a002-744ad54f386e",
   "metadata": {},
   "source": [
    "## After checking it, decided to cache the data into a csv file for easier retrieval; may visit if time permits to pipeline into a database with live data being used as it is updated."
   ]
  },
  {
   "cell_type": "code",
   "execution_count": null,
   "id": "e7befb5d-ffdd-4e1e-b5da-cda250dfa04c",
   "metadata": {
    "scrolled": true
   },
   "outputs": [],
   "source": [
    "df.to_csv('yelp_businesses.csv', index=False)"
   ]
  },
  {
   "cell_type": "code",
   "execution_count": null,
   "id": "c07e3a09-b199-47fa-9c37-f90b858f294f",
   "metadata": {
    "scrolled": true
   },
   "outputs": [],
   "source": [
    "df.head(3)"
   ]
  },
  {
   "cell_type": "markdown",
   "id": "dad90385-c41a-45df-bc39-cfc58ecabbb5",
   "metadata": {},
   "source": [
    "  "
   ]
  },
  {
   "cell_type": "markdown",
   "id": "5916a95a-d70f-4b1e-a262-11f60c067d2a",
   "metadata": {},
   "source": [
    "  "
   ]
  },
  {
   "cell_type": "markdown",
   "id": "7fe77dc0-e049-4485-a454-6664160443ea",
   "metadata": {},
   "source": [
    "  "
   ]
  },
  {
   "cell_type": "markdown",
   "id": "d1e76e2c-6b36-4320-9edb-77f8189655d4",
   "metadata": {},
   "source": [
    "  "
   ]
  },
  {
   "cell_type": "markdown",
   "id": "3ee71d83-0a56-4b61-95aa-0493ab6c3330",
   "metadata": {},
   "source": [
    "  "
   ]
  },
  {
   "cell_type": "markdown",
   "id": "52e10792-9f0a-4af8-8f70-ff4ba1e13959",
   "metadata": {},
   "source": [
    "  "
   ]
  },
  {
   "cell_type": "markdown",
   "id": "6fcb6b73-a86a-4680-bbb1-8cd1dc99aea5",
   "metadata": {},
   "source": [
    " ## I loaded the ny data that nick prepped to strategize what can be done here to match the dataframe here to have some usable business_id's to retrieve the reviews for respective businesses. This may involve a library outside of our knowledge scope. \n",
    "\n",
    "### - I'm thinking spacy or fuzzwuzzy that uses accuracy ratio based on a matching algorithm. but I think i'm just going to use the python NLTK library"
   ]
  },
  {
   "cell_type": "markdown",
   "id": "715af7ee-e36c-4b13-876b-4bff6c70fc8f",
   "metadata": {},
   "source": [
    "## utilizing pretrained NLP models did not work so i just used pandas and my PC CPU cores to optimized and use parallelization to speed up matching process"
   ]
  },
  {
   "cell_type": "markdown",
   "id": "b70dd0cd-88d7-4c60-a1de-ddb1d97ab713",
   "metadata": {},
   "source": [
    "  "
   ]
  },
  {
   "cell_type": "markdown",
   "id": "1fd678d1-7f58-41fb-8798-446ff0daa1f9",
   "metadata": {},
   "source": [
    "  ### I decided to look at the ny data again and decided to see how many unique business and camis there are."
   ]
  },
  {
   "cell_type": "code",
   "execution_count": 219,
   "id": "a5baafaf-faf3-4971-bfa0-bc0adb94100d",
   "metadata": {},
   "outputs": [],
   "source": [
    "ny_df = pd.read_csv('ny.csv')"
   ]
  },
  {
   "cell_type": "code",
   "execution_count": 220,
   "id": "a34cba12-04d2-4402-902b-959617afdc11",
   "metadata": {},
   "outputs": [
    {
     "data": {
      "text/html": [
       "<div>\n",
       "<style scoped>\n",
       "    .dataframe tbody tr th:only-of-type {\n",
       "        vertical-align: middle;\n",
       "    }\n",
       "\n",
       "    .dataframe tbody tr th {\n",
       "        vertical-align: top;\n",
       "    }\n",
       "\n",
       "    .dataframe thead th {\n",
       "        text-align: right;\n",
       "    }\n",
       "</style>\n",
       "<table border=\"1\" class=\"dataframe\">\n",
       "  <thead>\n",
       "    <tr style=\"text-align: right;\">\n",
       "      <th></th>\n",
       "      <th>camis</th>\n",
       "      <th>dba</th>\n",
       "      <th>boro</th>\n",
       "      <th>building</th>\n",
       "      <th>street</th>\n",
       "      <th>zipcode</th>\n",
       "      <th>phone</th>\n",
       "      <th>inspection_date</th>\n",
       "      <th>critical_flag</th>\n",
       "      <th>record_date</th>\n",
       "      <th>...</th>\n",
       "      <th>bbl</th>\n",
       "      <th>nta</th>\n",
       "      <th>cuisine_description</th>\n",
       "      <th>action</th>\n",
       "      <th>violation_code</th>\n",
       "      <th>violation_description</th>\n",
       "      <th>score</th>\n",
       "      <th>grade</th>\n",
       "      <th>grade_date</th>\n",
       "      <th>inspection_type</th>\n",
       "    </tr>\n",
       "  </thead>\n",
       "  <tbody>\n",
       "    <tr>\n",
       "      <th>0</th>\n",
       "      <td>50106756</td>\n",
       "      <td>UNGARO COAL FIRED PIZZA CAFE</td>\n",
       "      <td>Staten Island</td>\n",
       "      <td>1298</td>\n",
       "      <td>FOREST AVENUE</td>\n",
       "      <td>10302.0</td>\n",
       "      <td>6464690930</td>\n",
       "      <td>1900-01-01T00:00:00.000</td>\n",
       "      <td>Not Applicable</td>\n",
       "      <td>2023-10-26T06:00:14.000</td>\n",
       "      <td>...</td>\n",
       "      <td>5.003870e+09</td>\n",
       "      <td>SI07</td>\n",
       "      <td>NaN</td>\n",
       "      <td>NaN</td>\n",
       "      <td>NaN</td>\n",
       "      <td>NaN</td>\n",
       "      <td>NaN</td>\n",
       "      <td>NaN</td>\n",
       "      <td>NaN</td>\n",
       "      <td>NaN</td>\n",
       "    </tr>\n",
       "    <tr>\n",
       "      <th>1</th>\n",
       "      <td>50105716</td>\n",
       "      <td>STELLA'S</td>\n",
       "      <td>Brooklyn</td>\n",
       "      <td>559</td>\n",
       "      <td>5 AVENUE</td>\n",
       "      <td>11215.0</td>\n",
       "      <td>4155703174</td>\n",
       "      <td>1900-01-01T00:00:00.000</td>\n",
       "      <td>Not Applicable</td>\n",
       "      <td>2023-10-26T06:00:14.000</td>\n",
       "      <td>...</td>\n",
       "      <td>3.010480e+09</td>\n",
       "      <td>BK37</td>\n",
       "      <td>NaN</td>\n",
       "      <td>NaN</td>\n",
       "      <td>NaN</td>\n",
       "      <td>NaN</td>\n",
       "      <td>NaN</td>\n",
       "      <td>NaN</td>\n",
       "      <td>NaN</td>\n",
       "      <td>NaN</td>\n",
       "    </tr>\n",
       "    <tr>\n",
       "      <th>2</th>\n",
       "      <td>41168748</td>\n",
       "      <td>DUNKIN</td>\n",
       "      <td>Bronx</td>\n",
       "      <td>880</td>\n",
       "      <td>GARRISON AVENUE</td>\n",
       "      <td>10474.0</td>\n",
       "      <td>7188614171</td>\n",
       "      <td>2022-03-30T00:00:00.000</td>\n",
       "      <td>Not Critical</td>\n",
       "      <td>2023-10-26T06:00:11.000</td>\n",
       "      <td>...</td>\n",
       "      <td>2.027390e+09</td>\n",
       "      <td>BX27</td>\n",
       "      <td>Donuts</td>\n",
       "      <td>Violations were cited in the following area(s).</td>\n",
       "      <td>10J</td>\n",
       "      <td>Hand wash sign not posted</td>\n",
       "      <td>13.0</td>\n",
       "      <td>A</td>\n",
       "      <td>2022-03-30T00:00:00.000</td>\n",
       "      <td>Cycle Inspection / Initial Inspection</td>\n",
       "    </tr>\n",
       "  </tbody>\n",
       "</table>\n",
       "<p>3 rows × 26 columns</p>\n",
       "</div>"
      ],
      "text/plain": [
       "      camis                           dba           boro building  \\\n",
       "0  50106756  UNGARO COAL FIRED PIZZA CAFE  Staten Island     1298   \n",
       "1  50105716                      STELLA'S       Brooklyn      559   \n",
       "2  41168748                        DUNKIN          Bronx      880   \n",
       "\n",
       "            street  zipcode       phone          inspection_date  \\\n",
       "0    FOREST AVENUE  10302.0  6464690930  1900-01-01T00:00:00.000   \n",
       "1         5 AVENUE  11215.0  4155703174  1900-01-01T00:00:00.000   \n",
       "2  GARRISON AVENUE  10474.0  7188614171  2022-03-30T00:00:00.000   \n",
       "\n",
       "    critical_flag              record_date  ...           bbl   nta  \\\n",
       "0  Not Applicable  2023-10-26T06:00:14.000  ...  5.003870e+09  SI07   \n",
       "1  Not Applicable  2023-10-26T06:00:14.000  ...  3.010480e+09  BK37   \n",
       "2    Not Critical  2023-10-26T06:00:11.000  ...  2.027390e+09  BX27   \n",
       "\n",
       "   cuisine_description                                           action  \\\n",
       "0                  NaN                                              NaN   \n",
       "1                  NaN                                              NaN   \n",
       "2               Donuts  Violations were cited in the following area(s).   \n",
       "\n",
       "   violation_code      violation_description  score grade  \\\n",
       "0             NaN                        NaN    NaN   NaN   \n",
       "1             NaN                        NaN    NaN   NaN   \n",
       "2             10J  Hand wash sign not posted   13.0     A   \n",
       "\n",
       "                grade_date                        inspection_type  \n",
       "0                      NaN                                    NaN  \n",
       "1                      NaN                                    NaN  \n",
       "2  2022-03-30T00:00:00.000  Cycle Inspection / Initial Inspection  \n",
       "\n",
       "[3 rows x 26 columns]"
      ]
     },
     "execution_count": 220,
     "metadata": {},
     "output_type": "execute_result"
    }
   ],
   "source": [
    "ny_df.head(3)"
   ]
  },
  {
   "cell_type": "code",
   "execution_count": 228,
   "id": "d4cde7a1-7f80-4eb9-92ae-77f1b7dd5dbb",
   "metadata": {},
   "outputs": [
    {
     "data": {
      "text/plain": [
       "0         40.626371\n",
       "1         40.665416\n",
       "2         40.816753\n",
       "3         40.691730\n",
       "4         40.632489\n",
       "            ...    \n",
       "207924    40.701806\n",
       "207925    40.861919\n",
       "207926    40.727022\n",
       "207927    40.704018\n",
       "207928     0.000000\n",
       "Name: latitude, Length: 207929, dtype: float64"
      ]
     },
     "execution_count": 228,
     "metadata": {},
     "output_type": "execute_result"
    }
   ],
   "source": [
    "ny_df.latitude"
   ]
  },
  {
   "cell_type": "code",
   "execution_count": 227,
   "id": "14026dad-592e-4840-9db0-0450d0160736",
   "metadata": {},
   "outputs": [
    {
     "data": {
      "text/plain": [
       "0        -74.133111\n",
       "1        -73.989417\n",
       "2        -73.892364\n",
       "3        -73.864648\n",
       "4        -74.010704\n",
       "            ...    \n",
       "207924   -73.808704\n",
       "207925   -73.843318\n",
       "207926   -74.007378\n",
       "207927   -74.012638\n",
       "207928     0.000000\n",
       "Name: longitude, Length: 207929, dtype: float64"
      ]
     },
     "execution_count": 227,
     "metadata": {},
     "output_type": "execute_result"
    }
   ],
   "source": [
    "ny_df.longitude"
   ]
  },
  {
   "cell_type": "code",
   "execution_count": 212,
   "id": "a0f7e956-e521-4b14-977d-7a1eea813cd3",
   "metadata": {
    "scrolled": true
   },
   "outputs": [
    {
     "name": "stdout",
     "output_type": "stream",
     "text": [
      "<class 'pandas.core.frame.DataFrame'>\n",
      "RangeIndex: 207929 entries, 0 to 207928\n",
      "Data columns (total 26 columns):\n",
      " #   Column                 Non-Null Count   Dtype  \n",
      "---  ------                 --------------   -----  \n",
      " 0   camis                  207929 non-null  int64  \n",
      " 1   dba                    207421 non-null  object \n",
      " 2   boro                   207929 non-null  object \n",
      " 3   building               207578 non-null  object \n",
      " 4   street                 207923 non-null  object \n",
      " 5   zipcode                205249 non-null  float64\n",
      " 6   phone                  207922 non-null  object \n",
      " 7   inspection_date        207929 non-null  object \n",
      " 8   critical_flag          207929 non-null  object \n",
      " 9   record_date            207929 non-null  object \n",
      " 10  latitude               207672 non-null  float64\n",
      " 11  longitude              207672 non-null  float64\n",
      " 12  community_board        204682 non-null  float64\n",
      " 13  council_district       204678 non-null  float64\n",
      " 14  census_tract           204678 non-null  float64\n",
      " 15  bin                    203692 non-null  float64\n",
      " 16  bbl                    207356 non-null  float64\n",
      " 17  nta                    204682 non-null  object \n",
      " 18  cuisine_description    205624 non-null  object \n",
      " 19  action                 205624 non-null  object \n",
      " 20  violation_code         204477 non-null  object \n",
      " 21  violation_description  204477 non-null  object \n",
      " 22  score                  198223 non-null  float64\n",
      " 23  grade                  102176 non-null  object \n",
      " 24  grade_date             93423 non-null   object \n",
      " 25  inspection_type        205624 non-null  object \n",
      "dtypes: float64(9), int64(1), object(16)\n",
      "memory usage: 41.2+ MB\n"
     ]
    }
   ],
   "source": [
    "ny_df.info()"
   ]
  },
  {
   "cell_type": "code",
   "execution_count": 213,
   "id": "14355e04-bc7b-4468-b72d-1314b3a3ea0b",
   "metadata": {},
   "outputs": [],
   "source": [
    "unique_business_names = ny_df[['camis', 'dba']].drop_duplicates()"
   ]
  },
  {
   "cell_type": "code",
   "execution_count": 221,
   "id": "b107b2e3-709a-4c60-baa6-5a33aafede1c",
   "metadata": {},
   "outputs": [],
   "source": [
    "unique_business_names = unique_business_names.dropna(subset=['dba'])"
   ]
  },
  {
   "cell_type": "code",
   "execution_count": 225,
   "id": "620f8dbc-b906-4c02-92ef-e6b85c80909f",
   "metadata": {},
   "outputs": [],
   "source": [
    "unique_business_names.to_csv('ny_dbas.csv', index=False)"
   ]
  },
  {
   "cell_type": "code",
   "execution_count": 226,
   "id": "63e64088-9270-4315-9331-7da0392182ed",
   "metadata": {
    "scrolled": true
   },
   "outputs": [
    {
     "data": {
      "text/plain": [
       "0         UNGARO COAL FIRED PIZZA CAFE\n",
       "1                             STELLA'S\n",
       "2                               DUNKIN\n",
       "3                        EXTACY LOUNGE\n",
       "4                         RUNNING KIDS\n",
       "                      ...             \n",
       "207591         KENNEDY CHICKEN & PIZZA\n",
       "207635            LOS PERROS DE CHUCHO\n",
       "207708                EMPLOYEE FEEDING\n",
       "207830                    TAPAS ON LEX\n",
       "207894                         MONARCH\n",
       "Name: dba, Length: 27727, dtype: object"
      ]
     },
     "execution_count": 226,
     "metadata": {},
     "output_type": "execute_result"
    }
   ],
   "source": [
    "unique_business_names.dba"
   ]
  },
  {
   "cell_type": "code",
   "execution_count": 88,
   "id": "42013e77-4ee5-4d60-bb6b-85e48d9ffdad",
   "metadata": {},
   "outputs": [],
   "source": [
    "unique_business_names_list = unique_business_names.values.tolist()"
   ]
  },
  {
   "cell_type": "code",
   "execution_count": 150,
   "id": "e398fb4c-3295-47b6-99e8-df0be6723eb5",
   "metadata": {
    "scrolled": true
   },
   "outputs": [
    {
     "data": {
      "text/plain": [
       "[[50106756, 'UNGARO COAL FIRED PIZZA CAFE'],\n",
       " [50105716, \"STELLA'S\"],\n",
       " [41168748, 'DUNKIN']]"
      ]
     },
     "execution_count": 150,
     "metadata": {},
     "output_type": "execute_result"
    }
   ],
   "source": [
    "unique_business_names_list[0:3]"
   ]
  },
  {
   "cell_type": "code",
   "execution_count": 92,
   "id": "64e839a2-220e-43b4-a634-b3efa32b6bb8",
   "metadata": {},
   "outputs": [
    {
     "data": {
      "text/plain": [
       "camis    28232\n",
       "dba      22114\n",
       "dtype: int64"
      ]
     },
     "execution_count": 92,
     "metadata": {},
     "output_type": "execute_result"
    }
   ],
   "source": [
    "unique_business_names_count = ny_df[['camis', 'dba']].drop_duplicates().nunique()\n",
    "unique_business_names_count"
   ]
  },
  {
   "cell_type": "markdown",
   "id": "23ecc14b-855f-439e-b49b-887625db10a8",
   "metadata": {},
   "source": [
    "#### I found that there are more unique ids versus dbas, which i suppose maynbe just cross referencing by dba would be a better attempt in getting matching dba and yelp ids in order to get reviews  "
   ]
  },
  {
   "cell_type": "markdown",
   "id": "f6434001-34be-4f94-a21c-82cf257549d4",
   "metadata": {},
   "source": [
    "  "
   ]
  },
  {
   "cell_type": "markdown",
   "id": "8160f87f-863f-44be-b816-480e669df2b5",
   "metadata": {},
   "source": [
    "  "
   ]
  },
  {
   "cell_type": "markdown",
   "id": "3e1c84f2-e89d-4d7c-956a-ea39849396bf",
   "metadata": {},
   "source": [
    "  "
   ]
  },
  {
   "cell_type": "markdown",
   "id": "8b25b4b5-8508-4aba-bfa1-fa3aa51c9c58",
   "metadata": {},
   "source": [
    "  "
   ]
  },
  {
   "cell_type": "markdown",
   "id": "3969e9be-825f-40b7-8caa-7a3892c39009",
   "metadata": {},
   "source": [
    "  "
   ]
  },
  {
   "cell_type": "markdown",
   "id": "7c45a7f2-5431-4e85-80e1-61b8bc5ce952",
   "metadata": {},
   "source": [
    "  "
   ]
  },
  {
   "cell_type": "markdown",
   "id": "299f7a44-119f-4770-b7ae-d3882e01b60f",
   "metadata": {},
   "source": [
    "## Matching ny businesses with yelp ids for review retrieval using NLTK/Regex (no success)"
   ]
  },
  {
   "cell_type": "code",
   "execution_count": null,
   "id": "ee33f75d-22e0-4be7-a955-ec5fc64686fc",
   "metadata": {},
   "outputs": [],
   "source": [
    "# # decided to go with NLTK/Regex versus the pretrained models \n",
    "# import pandas as pd\n",
    "# import nltk\n",
    "# from nltk.tokenize import word_tokenize\n",
    "# from nltk.metrics import jaccard_distance\n",
    "# from nltk.corpus import stopwords\n",
    "# import re\n",
    "# import unicodedata\n",
    "# import tensorflow as tf\n",
    "\n",
    "\n",
    "# # Load NLTK stopwords\n",
    "# # nltk.download('stopwords')\n",
    "# # nltk.download('punkt')\n",
    "\n",
    "# # load dataframes\n",
    "# yelp_df = pd.read_csv('yelp_businesses.csv')\n",
    "# ny_df = pd.read_csv('ny.csv')\n",
    "\n",
    "# # Preprocess the 'name' and 'dba' columns\n",
    "# def basic_clean(text_data):\n",
    "#     text_data = text_data.lower()\n",
    "#     text_data = unicodedata.normalize('NFKD', text_data).encode('ascii', 'ignore').decode('utf-8', 'ignore')\n",
    "#     text_data = re.sub(r'[^a-z0-9\\s]', '', text_data)\n",
    "#     return text_data\n",
    "\n",
    "# # Preprocess the 'name' and 'dba' columns (lowercased the string values and used strip for the white spaces\n",
    "# yelp_df['name'] = yelp_df['name'].str.lower().str.strip()\n",
    "# ny_df['dba'] = ny_df['dba'].str.lower().str.strip()\n",
    "\n",
    "# # setup an empty dictionary to store matched IDs with 'dba' as keys and Yelp IDs as values\n",
    "# matched_ids = {}\n",
    "\n",
    "# # defined a set of stopwords\n",
    "# stop_words = set(stopwords.words('english'))\n",
    "\n",
    "# # for loop to iterate through businesses in the Yelp dataframe\n",
    "# for index, yelp_row in yelp_df.iterrows():\n",
    "#     yelp_name = yelp_row['name']\n",
    "#     yelp_tokens = set(word_tokenize(yelp_name))\n",
    "    \n",
    "#     best_match_score = float('inf')  # Initialize with a high value\n",
    "#     best_match_id = None\n",
    "\n",
    "#     # second for loop to iterate through businesses in the NY Open Data dataframe\n",
    "#     for ny_index, ny_row in ny_df.iterrows():\n",
    "#         ny_dba = ny_row['dba']\n",
    "        \n",
    "#         try:\n",
    "#             ny_tokens = set(word_tokenize(ny_dba))\n",
    "#         except TypeError:\n",
    "#             continue  # Skip entries that cannot be tokenized\n",
    "        \n",
    "#         # Calculate Jaccard similarity and remove stopwords\n",
    "#         jaccard_sim = 1 - jaccard_distance(yelp_tokens - stop_words, ny_tokens - stop_words)\n",
    "\n",
    "#         # Update the best match if the similarity score is higher\n",
    "#         if jaccard_sim < best_match_score:\n",
    "#             best_match_score = jaccard_sim\n",
    "#             best_match_id = yelp_row['id']\n",
    "\n",
    "#     # Check if the best match meets your similarity threshold\n",
    "#     if best_match_score <= 0.8:  # You can adjust the threshold based on your data\n",
    "#         matched_ids[yelp_name] = best_match_id"
   ]
  },
  {
   "cell_type": "code",
   "execution_count": 1,
   "id": "87546cb2-63eb-40e8-9893-bc0bd101fcb7",
   "metadata": {},
   "outputs": [
    {
     "data": {
      "text/plain": [
       "'C:\\\\tools\\\\Anaconda3\\\\python.exe'"
      ]
     },
     "execution_count": 1,
     "metadata": {},
     "output_type": "execute_result"
    }
   ],
   "source": [
    "import sys\n",
    "sys.executable"
   ]
  },
  {
   "cell_type": "code",
   "execution_count": 2,
   "id": "451f81c6-101a-47ff-aa24-b8adb2e5e1e8",
   "metadata": {},
   "outputs": [
    {
     "name": "stdout",
     "output_type": "stream",
     "text": [
      "\u001b[1m\n",
      "============================== Info about spaCy ==============================\u001b[0m\n",
      "\n",
      "spaCy version    3.7.2                         \n",
      "Location         C:\\Users\\Marc Aradillas\\AppData\\Local\\Programs\\Python\\Python311\\Lib\\site-packages\\spacy\n",
      "Platform         Windows-10-10.0.23570-SP0     \n",
      "Python version   3.11.4                        \n",
      "Pipelines        en_core_web_sm (3.7.0)        \n",
      "\n"
     ]
    }
   ],
   "source": [
    "!python -m spacy info"
   ]
  },
  {
   "cell_type": "code",
   "execution_count": 3,
   "id": "6284ccd9-22de-42e4-a16f-433b6e97d172",
   "metadata": {},
   "outputs": [
    {
     "name": "stdout",
     "output_type": "stream",
     "text": [
      "\n",
      "| Loading compatibility table...\n",
      "\u001b[2K\u001b[38;5;2m[+] Loaded compatibility table\u001b[0m\n",
      "\u001b[1m\n",
      "================= Installed pipeline packages (spaCy v3.7.2) =================\u001b[0m\n",
      "\u001b[38;5;4m[i] spaCy installation: C:\\Users\\Marc\n",
      "Aradillas\\AppData\\Local\\Programs\\Python\\Python311\\Lib\\site-packages\\spacy\u001b[0m\n",
      "\n",
      "NAME             SPACY            VERSION                              \n",
      "en_core_web_sm   >=3.7.0,<3.8.0   \u001b[38;5;2m3.7.0\u001b[0m   \u001b[38;5;2m[+]\u001b[0m\n",
      "\n"
     ]
    }
   ],
   "source": [
    "!python -m spacy validate\n"
   ]
  },
  {
   "cell_type": "code",
   "execution_count": 4,
   "id": "6e765812-f827-47a5-aeca-faa3af7eb898",
   "metadata": {},
   "outputs": [
    {
     "name": "stdout",
     "output_type": "stream",
     "text": [
      "Python 3.11.4\n"
     ]
    }
   ],
   "source": [
    "!python --version\n"
   ]
  },
  {
   "cell_type": "code",
   "execution_count": 7,
   "id": "a43ded6b-fb17-4b6a-879f-48e4a2be9146",
   "metadata": {},
   "outputs": [
    {
     "name": "stdout",
     "output_type": "stream",
     "text": [
      "Collecting en-core-web-sm==3.7.0\n",
      "  Downloading https://github.com/explosion/spacy-models/releases/download/en_core_web_sm-3.7.0/en_core_web_sm-3.7.0-py3-none-any.whl (12.8 MB)\n",
      "     ---------------------------------------- 0.0/12.8 MB ? eta -:--:--\n",
      "      --------------------------------------- 0.3/12.8 MB 5.7 MB/s eta 0:00:03\n",
      "     -- ------------------------------------- 0.8/12.8 MB 8.1 MB/s eta 0:00:02\n",
      "     --- ------------------------------------ 1.3/12.8 MB 9.0 MB/s eta 0:00:02\n",
      "     ----- ---------------------------------- 1.9/12.8 MB 9.9 MB/s eta 0:00:02\n",
      "     ------- -------------------------------- 2.5/12.8 MB 10.8 MB/s eta 0:00:01\n",
      "     ---------- ----------------------------- 3.3/12.8 MB 11.6 MB/s eta 0:00:01\n",
      "     ------------ --------------------------- 4.2/12.8 MB 12.6 MB/s eta 0:00:01\n",
      "     ---------------- ----------------------- 5.2/12.8 MB 13.8 MB/s eta 0:00:01\n",
      "     ------------------- -------------------- 6.4/12.8 MB 15.1 MB/s eta 0:00:01\n",
      "     ----------------------- ---------------- 7.6/12.8 MB 16.1 MB/s eta 0:00:01\n",
      "     --------------------------- ------------ 8.8/12.8 MB 17.1 MB/s eta 0:00:01\n",
      "     ------------------------------- ------- 10.4/12.8 MB 19.2 MB/s eta 0:00:01\n",
      "     ------------------------------------ -- 12.1/12.8 MB 24.2 MB/s eta 0:00:01\n",
      "     --------------------------------------  12.8/12.8 MB 26.2 MB/s eta 0:00:01\n",
      "     --------------------------------------  12.8/12.8 MB 26.2 MB/s eta 0:00:01\n",
      "     --------------------------------------  12.8/12.8 MB 26.2 MB/s eta 0:00:01\n",
      "     --------------------------------------- 12.8/12.8 MB 19.9 MB/s eta 0:00:00\n",
      "Requirement already satisfied: spacy<3.8.0,>=3.7.0 in c:\\users\\marc aradillas\\appdata\\local\\programs\\python\\python311\\lib\\site-packages (from en-core-web-sm==3.7.0) (3.7.2)\n",
      "Requirement already satisfied: spacy-legacy<3.1.0,>=3.0.11 in c:\\users\\marc aradillas\\appdata\\local\\programs\\python\\python311\\lib\\site-packages (from spacy<3.8.0,>=3.7.0->en-core-web-sm==3.7.0) (3.0.12)\n",
      "Requirement already satisfied: spacy-loggers<2.0.0,>=1.0.0 in c:\\users\\marc aradillas\\appdata\\local\\programs\\python\\python311\\lib\\site-packages (from spacy<3.8.0,>=3.7.0->en-core-web-sm==3.7.0) (1.0.4)\n",
      "Requirement already satisfied: murmurhash<1.1.0,>=0.28.0 in c:\\users\\marc aradillas\\appdata\\local\\programs\\python\\python311\\lib\\site-packages (from spacy<3.8.0,>=3.7.0->en-core-web-sm==3.7.0) (1.0.9)\n",
      "Requirement already satisfied: cymem<2.1.0,>=2.0.2 in c:\\users\\marc aradillas\\appdata\\local\\programs\\python\\python311\\lib\\site-packages (from spacy<3.8.0,>=3.7.0->en-core-web-sm==3.7.0) (2.0.7)\n",
      "Requirement already satisfied: preshed<3.1.0,>=3.0.2 in c:\\users\\marc aradillas\\appdata\\local\\programs\\python\\python311\\lib\\site-packages (from spacy<3.8.0,>=3.7.0->en-core-web-sm==3.7.0) (3.0.8)\n",
      "Requirement already satisfied: thinc<8.3.0,>=8.1.8 in c:\\users\\marc aradillas\\appdata\\local\\programs\\python\\python311\\lib\\site-packages (from spacy<3.8.0,>=3.7.0->en-core-web-sm==3.7.0) (8.1.9)\n",
      "Requirement already satisfied: wasabi<1.2.0,>=0.9.1 in c:\\users\\marc aradillas\\appdata\\local\\programs\\python\\python311\\lib\\site-packages (from spacy<3.8.0,>=3.7.0->en-core-web-sm==3.7.0) (1.1.1)\n",
      "Requirement already satisfied: srsly<3.0.0,>=2.4.3 in c:\\users\\marc aradillas\\appdata\\local\\programs\\python\\python311\\lib\\site-packages (from spacy<3.8.0,>=3.7.0->en-core-web-sm==3.7.0) (2.4.6)\n",
      "Requirement already satisfied: catalogue<2.1.0,>=2.0.6 in c:\\users\\marc aradillas\\appdata\\local\\programs\\python\\python311\\lib\\site-packages (from spacy<3.8.0,>=3.7.0->en-core-web-sm==3.7.0) (2.0.8)\n",
      "Requirement already satisfied: weasel<0.4.0,>=0.1.0 in c:\\users\\marc aradillas\\appdata\\local\\programs\\python\\python311\\lib\\site-packages (from spacy<3.8.0,>=3.7.0->en-core-web-sm==3.7.0) (0.3.3)\n",
      "Requirement already satisfied: typer<0.10.0,>=0.3.0 in c:\\users\\marc aradillas\\appdata\\local\\programs\\python\\python311\\lib\\site-packages (from spacy<3.8.0,>=3.7.0->en-core-web-sm==3.7.0) (0.7.0)\n",
      "Requirement already satisfied: smart-open<7.0.0,>=5.2.1 in c:\\users\\marc aradillas\\appdata\\local\\programs\\python\\python311\\lib\\site-packages (from spacy<3.8.0,>=3.7.0->en-core-web-sm==3.7.0) (6.3.0)\n",
      "Requirement already satisfied: tqdm<5.0.0,>=4.38.0 in c:\\users\\marc aradillas\\appdata\\local\\programs\\python\\python311\\lib\\site-packages (from spacy<3.8.0,>=3.7.0->en-core-web-sm==3.7.0) (4.65.0)\n",
      "Requirement already satisfied: requests<3.0.0,>=2.13.0 in c:\\users\\marc aradillas\\appdata\\local\\programs\\python\\python311\\lib\\site-packages (from spacy<3.8.0,>=3.7.0->en-core-web-sm==3.7.0) (2.28.2)\n",
      "Requirement already satisfied: pydantic!=1.8,!=1.8.1,<3.0.0,>=1.7.4 in c:\\users\\marc aradillas\\appdata\\local\\programs\\python\\python311\\lib\\site-packages (from spacy<3.8.0,>=3.7.0->en-core-web-sm==3.7.0) (1.10.6)\n",
      "Requirement already satisfied: jinja2 in c:\\users\\marc aradillas\\appdata\\local\\programs\\python\\python311\\lib\\site-packages (from spacy<3.8.0,>=3.7.0->en-core-web-sm==3.7.0) (3.1.2)\n",
      "Requirement already satisfied: setuptools in c:\\users\\marc aradillas\\appdata\\local\\programs\\python\\python311\\lib\\site-packages (from spacy<3.8.0,>=3.7.0->en-core-web-sm==3.7.0) (65.5.0)\n",
      "Requirement already satisfied: packaging>=20.0 in c:\\users\\marc aradillas\\appdata\\local\\programs\\python\\python311\\lib\\site-packages (from spacy<3.8.0,>=3.7.0->en-core-web-sm==3.7.0) (23.0)\n",
      "Requirement already satisfied: langcodes<4.0.0,>=3.2.0 in c:\\users\\marc aradillas\\appdata\\local\\programs\\python\\python311\\lib\\site-packages (from spacy<3.8.0,>=3.7.0->en-core-web-sm==3.7.0) (3.3.0)\n",
      "Requirement already satisfied: numpy>=1.19.0 in c:\\users\\marc aradillas\\appdata\\local\\programs\\python\\python311\\lib\\site-packages (from spacy<3.8.0,>=3.7.0->en-core-web-sm==3.7.0) (1.24.2)\n",
      "Requirement already satisfied: typing-extensions>=4.2.0 in c:\\users\\marc aradillas\\appdata\\local\\programs\\python\\python311\\lib\\site-packages (from pydantic!=1.8,!=1.8.1,<3.0.0,>=1.7.4->spacy<3.8.0,>=3.7.0->en-core-web-sm==3.7.0) (4.5.0)\n",
      "Requirement already satisfied: charset-normalizer<4,>=2 in c:\\users\\marc aradillas\\appdata\\local\\programs\\python\\python311\\lib\\site-packages (from requests<3.0.0,>=2.13.0->spacy<3.8.0,>=3.7.0->en-core-web-sm==3.7.0) (3.1.0)\n",
      "Requirement already satisfied: idna<4,>=2.5 in c:\\users\\marc aradillas\\appdata\\local\\programs\\python\\python311\\lib\\site-packages (from requests<3.0.0,>=2.13.0->spacy<3.8.0,>=3.7.0->en-core-web-sm==3.7.0) (3.4)\n",
      "Requirement already satisfied: urllib3<1.27,>=1.21.1 in c:\\users\\marc aradillas\\appdata\\local\\programs\\python\\python311\\lib\\site-packages (from requests<3.0.0,>=2.13.0->spacy<3.8.0,>=3.7.0->en-core-web-sm==3.7.0) (1.26.15)\n",
      "Requirement already satisfied: certifi>=2017.4.17 in c:\\users\\marc aradillas\\appdata\\local\\programs\\python\\python311\\lib\\site-packages (from requests<3.0.0,>=2.13.0->spacy<3.8.0,>=3.7.0->en-core-web-sm==3.7.0) (2022.12.7)\n",
      "Requirement already satisfied: blis<0.8.0,>=0.7.8 in c:\\users\\marc aradillas\\appdata\\local\\programs\\python\\python311\\lib\\site-packages (from thinc<8.3.0,>=8.1.8->spacy<3.8.0,>=3.7.0->en-core-web-sm==3.7.0) (0.7.9)\n",
      "Requirement already satisfied: confection<1.0.0,>=0.0.1 in c:\\users\\marc aradillas\\appdata\\local\\programs\\python\\python311\\lib\\site-packages (from thinc<8.3.0,>=8.1.8->spacy<3.8.0,>=3.7.0->en-core-web-sm==3.7.0) (0.0.4)\n",
      "Requirement already satisfied: colorama in c:\\users\\marc aradillas\\appdata\\local\\programs\\python\\python311\\lib\\site-packages (from tqdm<5.0.0,>=4.38.0->spacy<3.8.0,>=3.7.0->en-core-web-sm==3.7.0) (0.4.6)\n",
      "Requirement already satisfied: click<9.0.0,>=7.1.1 in c:\\users\\marc aradillas\\appdata\\local\\programs\\python\\python311\\lib\\site-packages (from typer<0.10.0,>=0.3.0->spacy<3.8.0,>=3.7.0->en-core-web-sm==3.7.0) (8.1.3)\n",
      "Requirement already satisfied: cloudpathlib<0.17.0,>=0.7.0 in c:\\users\\marc aradillas\\appdata\\local\\programs\\python\\python311\\lib\\site-packages (from weasel<0.4.0,>=0.1.0->spacy<3.8.0,>=3.7.0->en-core-web-sm==3.7.0) (0.16.0)\n",
      "Requirement already satisfied: MarkupSafe>=2.0 in c:\\users\\marc aradillas\\appdata\\local\\programs\\python\\python311\\lib\\site-packages (from jinja2->spacy<3.8.0,>=3.7.0->en-core-web-sm==3.7.0) (2.1.2)\n",
      "Installing collected packages: en-core-web-sm\n",
      "Successfully installed en-core-web-sm-3.7.0\n",
      "\u001b[38;5;2m[+] Download and installation successful\u001b[0m\n",
      "You can now load the package via spacy.load('en_core_web_sm')\n"
     ]
    }
   ],
   "source": [
    "!python -m spacy download en_core_web_sm"
   ]
  },
  {
   "cell_type": "code",
   "execution_count": 6,
   "id": "61ebd6f3-f0b4-4a39-854a-1b92109d1ff7",
   "metadata": {},
   "outputs": [
    {
     "name": "stdout",
     "output_type": "stream",
     "text": [
      "\u001b[38;5;2m✔ Download and installation successful\u001b[0m\n",
      "You can now load the package via spacy.load('en_core_web_sm')\n"
     ]
    }
   ],
   "source": [
    "import spacy\n",
    "spacy.cli.download(\"en_core_web_sm\")"
   ]
  },
  {
   "cell_type": "markdown",
   "id": "aa4db5ca-a150-4d29-8184-096e24651193",
   "metadata": {},
   "source": [
    "## finally got spacy to be recognized!"
   ]
  },
  {
   "cell_type": "code",
   "execution_count": 1,
   "id": "c12bc34b-8a40-4ac5-a709-d176fd9763fc",
   "metadata": {},
   "outputs": [],
   "source": [
    "import spacy\n",
    "nlp = spacy.load(\"en_core_web_sm\")"
   ]
  },
  {
   "cell_type": "markdown",
   "id": "4b1481e2-9ba8-4fff-88e9-be0edcd7e7fc",
   "metadata": {},
   "source": [
    "## NLTK Took too long, I am now going to use spaCy\n",
    "## Spacy took a very long time (No Success)"
   ]
  },
  {
   "cell_type": "code",
   "execution_count": null,
   "id": "55d8668e-33bf-4bff-9f69-8408bffe5117",
   "metadata": {},
   "outputs": [],
   "source": [
    "# import pandas as pd\n",
    "# import nltk\n",
    "# from nltk.metrics import jaccard_distance\n",
    "# import spacy\n",
    "# import re\n",
    "\n",
    "# # Load the spaCy model\n",
    "# import spacy\n",
    "\n",
    "# # Load the spaCy model by its name\n",
    "# nlp = spacy.load('en_core_web_sm')\n",
    "\n",
    "# # Load dataframes\n",
    "# yelp_df = pd.read_csv('yelp_businesses.csv')\n",
    "# ny_df = pd.read_csv('ny.csv')\n",
    "\n",
    "# # Preprocess the 'name' and 'dba' columns\n",
    "# def basic_clean(text_data):\n",
    "#     text_data = text_data.lower()\n",
    "#     text_data = re.sub(r'[^a-z0-9\\s]', '', text_data)\n",
    "#     return text_data\n",
    "\n",
    "# # # Preprocess the 'name' and 'dba' columns (lowercased the string values and used strip for the white spaces)\n",
    "# yelp_df['name'] = yelp_df['name'].str.lower().str.strip()\n",
    "# ny_df['dba'] = ny_df['dba'].str.lower().str.strip()\n",
    "\n",
    "# # Set up an empty dictionary to store matched IDs with 'dba' as keys and Yelp IDs as values\n",
    "# matched_ids = {}\n",
    "\n",
    "# # For text preprocessing and similarity calculation\n",
    "# for index, yelp_row in yelp_df.iterrows():\n",
    "#     yelp_name = yelp_row['name']\n",
    "#     yelp_doc = nlp(basic_clean(yelp_name))\n",
    "\n",
    "#     best_match_score = float('inf')  # Initialize with a high value\n",
    "#     best_match_id = None\n",
    "\n",
    "#     ny_df = ny_df[ny_df['dba'].notnull() & ny_df['dba'].apply(lambda x: isinstance(x, str))]\n",
    "\n",
    "\n",
    "#     # Second loop to iterate through businesses in the NY Open Data dataframe\n",
    "#     for ny_index, ny_row in ny_df.iterrows():\n",
    "#         ny_dba = ny_row['dba']\n",
    "#         ny_doc = nlp(basic_clean(ny_dba))\n",
    "\n",
    "#         # Calculate Jaccard similarity (Jaccard similarity is not part of spaCy, so we still use NLTK for that)\n",
    "#         jaccard_sim = 1 - jaccard_distance(set([token.text for token in yelp_doc]),\n",
    "#                                            set([token.text for token in ny_doc]))\n",
    "\n",
    "#         # Update the best match if the similarity score is higher\n",
    "#         if jaccard_sim < best_match_score:\n",
    "#             best_match_score = jaccard_sim\n",
    "#             best_match_id = yelp_row['id']\n",
    "\n",
    "#     # Check if the best match meets your similarity threshold\n",
    "#     if best_match_score <= 0.8:  # You can adjust the threshold based on your data\n",
    "#         matched_ids[yelp_name] = best_match_id"
   ]
  },
  {
   "cell_type": "markdown",
   "id": "dafd553f-212e-4769-a3e4-11d9ace269cb",
   "metadata": {},
   "source": [
    "  "
   ]
  },
  {
   "cell_type": "markdown",
   "id": "8f46477a-1ffc-4b4e-ab90-5c9419d10eb5",
   "metadata": {},
   "source": [
    "  "
   ]
  },
  {
   "cell_type": "markdown",
   "id": "6b600369-4767-41da-8678-a365accae870",
   "metadata": {},
   "source": [
    "  "
   ]
  },
  {
   "cell_type": "markdown",
   "id": "d65b8de6-3178-4a9e-877d-5129d52d13a3",
   "metadata": {},
   "source": [
    "  "
   ]
  },
  {
   "cell_type": "markdown",
   "id": "5fc10920-680c-43b4-9e10-22daeb7813d0",
   "metadata": {},
   "source": [
    "  "
   ]
  },
  {
   "cell_type": "markdown",
   "id": "3103f635-fb3f-4e04-b0e3-47e059e5e54b",
   "metadata": {},
   "source": [
    "## I am now going to use my PC's 12 cores do divy up the work and also implement fuzzywuzzy which is a python library with string matching\n",
    "### *** FuzzyWuzzy ultimately unecessary. ***"
   ]
  },
  {
   "cell_type": "code",
   "execution_count": 2,
   "id": "b75f3ba1-d03c-46d6-8e91-5b4dd9725e75",
   "metadata": {},
   "outputs": [
    {
     "name": "stdout",
     "output_type": "stream",
     "text": [
      "Defaulting to user installation because normal site-packages is not writeable\n",
      "Collecting fuzzywuzzy\n",
      "  Downloading fuzzywuzzy-0.18.0-py2.py3-none-any.whl (18 kB)\n",
      "Installing collected packages: fuzzywuzzy\n",
      "Successfully installed fuzzywuzzy-0.18.0\n",
      "Note: you may need to restart the kernel to use updated packages.\n"
     ]
    },
    {
     "name": "stderr",
     "output_type": "stream",
     "text": [
      "WARNING: There was an error checking the latest version of pip.\n"
     ]
    }
   ],
   "source": [
    "pip install fuzzywuzzy"
   ]
  },
  {
   "cell_type": "code",
   "execution_count": 3,
   "id": "2bb5b000-f317-4c23-998e-e958edbe30e1",
   "metadata": {},
   "outputs": [
    {
     "name": "stderr",
     "output_type": "stream",
     "text": [
      "C:\\Users\\Marc Aradillas\\AppData\\Local\\Programs\\Python\\Python311\\python.exe: No module named fuzzywuzzy\n"
     ]
    }
   ],
   "source": [
    "!python -m fuzzywuzzy validate"
   ]
  },
  {
   "cell_type": "code",
   "execution_count": null,
   "id": "748fd8ee-5039-40ee-9c70-268f30924b43",
   "metadata": {},
   "outputs": [],
   "source": [
    "# C:\\Users\\Marc Aradillas\\AppData\\Roaming\\Python\\Python310\\site-packages\\fuzzywuzzy\\fuzz.py:11: UserWarning: Using slow pure-python SequenceMatcher. Install python-Levenshtein to remove this warning\n",
    "#   warnings.warn('Using slow pure-python SequenceMatcher. Install python-Levenshtein to remove this warning')\n",
    "pip install python-Levenshtein"
   ]
  },
  {
   "cell_type": "markdown",
   "id": "1358c773-f065-4da8-bf15-f56d9dfbf36e",
   "metadata": {},
   "source": [
    "  "
   ]
  },
  {
   "cell_type": "markdown",
   "id": "67e5e2e6-e742-43e7-abcf-bfc66d3800d3",
   "metadata": {},
   "source": [
    "  "
   ]
  },
  {
   "cell_type": "markdown",
   "id": "80012a30-708f-462b-9e73-338a1e2c262f",
   "metadata": {},
   "source": [
    "  "
   ]
  },
  {
   "cell_type": "markdown",
   "id": "909e371d-83a7-4abe-b310-fdad7b329382",
   "metadata": {},
   "source": [
    "  "
   ]
  },
  {
   "cell_type": "markdown",
   "id": "6c483e04-c496-4604-92d3-f908a2774c1b",
   "metadata": {},
   "source": [
    "### decided to read what i could cache and investigate my yelp data"
   ]
  },
  {
   "cell_type": "code",
   "execution_count": 154,
   "id": "1d52aeaa-55e3-459c-9539-7d8bcf2ca282",
   "metadata": {},
   "outputs": [],
   "source": [
    "import pandas as pd\n",
    "yelp_df = pd.read_csv('yelp_businesses.csv')"
   ]
  },
  {
   "cell_type": "code",
   "execution_count": 155,
   "id": "9e164acf-3a68-4ee7-b7c1-dc5833313efe",
   "metadata": {},
   "outputs": [
    {
     "data": {
      "text/html": [
       "<div>\n",
       "<style scoped>\n",
       "    .dataframe tbody tr th:only-of-type {\n",
       "        vertical-align: middle;\n",
       "    }\n",
       "\n",
       "    .dataframe tbody tr th {\n",
       "        vertical-align: top;\n",
       "    }\n",
       "\n",
       "    .dataframe thead th {\n",
       "        text-align: right;\n",
       "    }\n",
       "</style>\n",
       "<table border=\"1\" class=\"dataframe\">\n",
       "  <thead>\n",
       "    <tr style=\"text-align: right;\">\n",
       "      <th></th>\n",
       "      <th>id</th>\n",
       "      <th>alias</th>\n",
       "      <th>name</th>\n",
       "      <th>image_url</th>\n",
       "      <th>is_closed</th>\n",
       "      <th>url</th>\n",
       "      <th>review_count</th>\n",
       "      <th>categories</th>\n",
       "      <th>rating</th>\n",
       "      <th>coordinates</th>\n",
       "      <th>transactions</th>\n",
       "      <th>price</th>\n",
       "      <th>location</th>\n",
       "      <th>phone</th>\n",
       "      <th>display_phone</th>\n",
       "      <th>distance</th>\n",
       "    </tr>\n",
       "  </thead>\n",
       "  <tbody>\n",
       "    <tr>\n",
       "      <th>0</th>\n",
       "      <td>veq1Bl1DW3UWMekZJUsG1Q</td>\n",
       "      <td>gramercy-tavern-new-york</td>\n",
       "      <td>Gramercy Tavern</td>\n",
       "      <td>https://s3-media2.fl.yelpcdn.com/bphoto/f14WAm...</td>\n",
       "      <td>False</td>\n",
       "      <td>https://www.yelp.com/biz/gramercy-tavern-new-y...</td>\n",
       "      <td>3403</td>\n",
       "      <td>[{'alias': 'newamerican', 'title': 'American (...</td>\n",
       "      <td>4.5</td>\n",
       "      <td>{'latitude': 40.73844, 'longitude': -73.98825}</td>\n",
       "      <td>['delivery']</td>\n",
       "      <td>$$$$</td>\n",
       "      <td>{'address1': '42 E 20th St', 'address2': '', '...</td>\n",
       "      <td>1.212477e+10</td>\n",
       "      <td>(212) 477-0777</td>\n",
       "      <td>3695.639928</td>\n",
       "    </tr>\n",
       "  </tbody>\n",
       "</table>\n",
       "</div>"
      ],
      "text/plain": [
       "                       id                     alias             name  \\\n",
       "0  veq1Bl1DW3UWMekZJUsG1Q  gramercy-tavern-new-york  Gramercy Tavern   \n",
       "\n",
       "                                           image_url  is_closed  \\\n",
       "0  https://s3-media2.fl.yelpcdn.com/bphoto/f14WAm...      False   \n",
       "\n",
       "                                                 url  review_count  \\\n",
       "0  https://www.yelp.com/biz/gramercy-tavern-new-y...          3403   \n",
       "\n",
       "                                          categories  rating  \\\n",
       "0  [{'alias': 'newamerican', 'title': 'American (...     4.5   \n",
       "\n",
       "                                      coordinates  transactions price  \\\n",
       "0  {'latitude': 40.73844, 'longitude': -73.98825}  ['delivery']  $$$$   \n",
       "\n",
       "                                            location         phone  \\\n",
       "0  {'address1': '42 E 20th St', 'address2': '', '...  1.212477e+10   \n",
       "\n",
       "    display_phone     distance  \n",
       "0  (212) 477-0777  3695.639928  "
      ]
     },
     "execution_count": 155,
     "metadata": {},
     "output_type": "execute_result"
    }
   ],
   "source": [
    "yelp_df.head(1)"
   ]
  },
  {
   "cell_type": "markdown",
   "id": "5ef70e2a-0e2f-4a76-b570-a650d1ce8e17",
   "metadata": {},
   "source": [
    "  "
   ]
  },
  {
   "cell_type": "markdown",
   "id": "6bac7028-8f1c-4ef5-8f8e-8c9af7383438",
   "metadata": {},
   "source": [
    "  "
   ]
  },
  {
   "cell_type": "markdown",
   "id": "40878487-064d-44f3-92ad-842fa6a19f71",
   "metadata": {},
   "source": [
    "  "
   ]
  },
  {
   "cell_type": "markdown",
   "id": "27440fa5-be30-4043-a446-a72be0bdae6c",
   "metadata": {},
   "source": [
    "  "
   ]
  },
  {
   "cell_type": "markdown",
   "id": "2785ea08-2ae6-4bdc-b929-606715bb6529",
   "metadata": {},
   "source": [
    "  "
   ]
  },
  {
   "cell_type": "markdown",
   "id": "a847de3b-257c-4850-ab07-7b0e2924fade",
   "metadata": {},
   "source": [
    "  "
   ]
  },
  {
   "cell_type": "markdown",
   "id": "16a8bfc8-3197-4ed0-b7df-fd6a3d0b3292",
   "metadata": {},
   "source": [
    "  ## finding unique id and name form yelp data"
   ]
  },
  {
   "cell_type": "code",
   "execution_count": 199,
   "id": "bcd7671c-812a-4fbd-a4e1-063b590c56ac",
   "metadata": {},
   "outputs": [],
   "source": [
    "# Preprocess the 'name' and 'dba' columns\n",
    "yelp_df['name'] = yelp_df['name'].str.lower().str.strip()"
   ]
  },
  {
   "cell_type": "code",
   "execution_count": 200,
   "id": "8d776efb-2def-4925-9b25-f2110440edd1",
   "metadata": {},
   "outputs": [
    {
     "name": "stdout",
     "output_type": "stream",
     "text": [
      "<class 'pandas.core.frame.DataFrame'>\n",
      "RangeIndex: 29200 entries, 0 to 29199\n",
      "Data columns (total 16 columns):\n",
      " #   Column         Non-Null Count  Dtype  \n",
      "---  ------         --------------  -----  \n",
      " 0   id             29200 non-null  object \n",
      " 1   alias          29200 non-null  object \n",
      " 2   name           29200 non-null  object \n",
      " 3   image_url      29200 non-null  object \n",
      " 4   is_closed      29200 non-null  bool   \n",
      " 5   url            29200 non-null  object \n",
      " 6   review_count   29200 non-null  int64  \n",
      " 7   categories     29200 non-null  object \n",
      " 8   rating         29200 non-null  float64\n",
      " 9   coordinates    29200 non-null  object \n",
      " 10  transactions   29200 non-null  object \n",
      " 11  price          28873 non-null  object \n",
      " 12  location       29200 non-null  object \n",
      " 13  phone          28266 non-null  float64\n",
      " 14  display_phone  28266 non-null  object \n",
      " 15  distance       29200 non-null  float64\n",
      "dtypes: bool(1), float64(3), int64(1), object(11)\n",
      "memory usage: 3.4+ MB\n"
     ]
    }
   ],
   "source": [
    "yelp_df.info()"
   ]
  },
  {
   "cell_type": "code",
   "execution_count": 204,
   "id": "f7abd8fe-f9d0-4cb2-b868-35cb7adbbec2",
   "metadata": {},
   "outputs": [
    {
     "data": {
      "text/html": [
       "<div>\n",
       "<style scoped>\n",
       "    .dataframe tbody tr th:only-of-type {\n",
       "        vertical-align: middle;\n",
       "    }\n",
       "\n",
       "    .dataframe tbody tr th {\n",
       "        vertical-align: top;\n",
       "    }\n",
       "\n",
       "    .dataframe thead th {\n",
       "        text-align: right;\n",
       "    }\n",
       "</style>\n",
       "<table border=\"1\" class=\"dataframe\">\n",
       "  <thead>\n",
       "    <tr style=\"text-align: right;\">\n",
       "      <th></th>\n",
       "      <th>id</th>\n",
       "      <th>alias</th>\n",
       "      <th>name</th>\n",
       "      <th>image_url</th>\n",
       "      <th>is_closed</th>\n",
       "      <th>url</th>\n",
       "      <th>review_count</th>\n",
       "      <th>categories</th>\n",
       "      <th>rating</th>\n",
       "      <th>coordinates</th>\n",
       "      <th>transactions</th>\n",
       "      <th>price</th>\n",
       "      <th>location</th>\n",
       "      <th>phone</th>\n",
       "      <th>display_phone</th>\n",
       "      <th>distance</th>\n",
       "    </tr>\n",
       "  </thead>\n",
       "  <tbody>\n",
       "    <tr>\n",
       "      <th>0</th>\n",
       "      <td>veq1Bl1DW3UWMekZJUsG1Q</td>\n",
       "      <td>gramercy-tavern-new-york</td>\n",
       "      <td>gramercy tavern</td>\n",
       "      <td>https://s3-media2.fl.yelpcdn.com/bphoto/f14WAm...</td>\n",
       "      <td>False</td>\n",
       "      <td>https://www.yelp.com/biz/gramercy-tavern-new-y...</td>\n",
       "      <td>3403</td>\n",
       "      <td>[{'alias': 'newamerican', 'title': 'American (...</td>\n",
       "      <td>4.5</td>\n",
       "      <td>{'latitude': 40.73844, 'longitude': -73.98825}</td>\n",
       "      <td>['delivery']</td>\n",
       "      <td>$$$$</td>\n",
       "      <td>{'address1': '42 E 20th St', 'address2': '', '...</td>\n",
       "      <td>1.212477e+10</td>\n",
       "      <td>(212) 477-0777</td>\n",
       "      <td>3695.639928</td>\n",
       "    </tr>\n",
       "    <tr>\n",
       "      <th>1</th>\n",
       "      <td>ysqgdbSrezXgVwER2kQWKA</td>\n",
       "      <td>julianas-brooklyn-3</td>\n",
       "      <td>gramercy tavern</td>\n",
       "      <td>https://s3-media2.fl.yelpcdn.com/bphoto/od36nF...</td>\n",
       "      <td>False</td>\n",
       "      <td>https://www.yelp.com/biz/julianas-brooklyn-3?a...</td>\n",
       "      <td>2700</td>\n",
       "      <td>[{'alias': 'pizza', 'title': 'Pizza'}]</td>\n",
       "      <td>4.5</td>\n",
       "      <td>{'latitude': 40.70274718768062, 'longitude': -...</td>\n",
       "      <td>['delivery']</td>\n",
       "      <td>$$</td>\n",
       "      <td>{'address1': '19 Old Fulton St', 'address2': '...</td>\n",
       "      <td>1.718597e+10</td>\n",
       "      <td>(718) 596-6700</td>\n",
       "      <td>318.876261</td>\n",
       "    </tr>\n",
       "    <tr>\n",
       "      <th>2</th>\n",
       "      <td>nRO136GRieGtxz18uD61DA</td>\n",
       "      <td>eleven-madison-park-new-york</td>\n",
       "      <td>gramercy tavern</td>\n",
       "      <td>https://s3-media1.fl.yelpcdn.com/bphoto/s_H7gm...</td>\n",
       "      <td>False</td>\n",
       "      <td>https://www.yelp.com/biz/eleven-madison-park-n...</td>\n",
       "      <td>2451</td>\n",
       "      <td>[{'alias': 'newamerican', 'title': 'American (...</td>\n",
       "      <td>4.5</td>\n",
       "      <td>{'latitude': 40.7416907417333, 'longitude': -7...</td>\n",
       "      <td>[]</td>\n",
       "      <td>$$$$</td>\n",
       "      <td>{'address1': '11 Madison Ave', 'address2': '',...</td>\n",
       "      <td>1.212889e+10</td>\n",
       "      <td>(212) 889-0905</td>\n",
       "      <td>4062.929570</td>\n",
       "    </tr>\n",
       "    <tr>\n",
       "      <th>3</th>\n",
       "      <td>h37t9rA06Sr4EetJjKrfzw</td>\n",
       "      <td>don-angie-new-york</td>\n",
       "      <td>gramercy tavern</td>\n",
       "      <td>https://s3-media2.fl.yelpcdn.com/bphoto/onJX6_...</td>\n",
       "      <td>False</td>\n",
       "      <td>https://www.yelp.com/biz/don-angie-new-york?ad...</td>\n",
       "      <td>785</td>\n",
       "      <td>[{'alias': 'italian', 'title': 'Italian'}, {'a...</td>\n",
       "      <td>4.5</td>\n",
       "      <td>{'latitude': 40.73778, 'longitude': -74.00197}</td>\n",
       "      <td>['delivery']</td>\n",
       "      <td>$$$</td>\n",
       "      <td>{'address1': '103 Greenwich Ave', 'address2': ...</td>\n",
       "      <td>1.212890e+10</td>\n",
       "      <td>(212) 889-8884</td>\n",
       "      <td>3646.541688</td>\n",
       "    </tr>\n",
       "    <tr>\n",
       "      <th>4</th>\n",
       "      <td>O1fUmxt3kbV-rnyjBtzAfw</td>\n",
       "      <td>thep-thai-restaurant-new-york-5</td>\n",
       "      <td>gramercy tavern</td>\n",
       "      <td>https://s3-media3.fl.yelpcdn.com/bphoto/WymEpZ...</td>\n",
       "      <td>False</td>\n",
       "      <td>https://www.yelp.com/biz/thep-thai-restaurant-...</td>\n",
       "      <td>2790</td>\n",
       "      <td>[{'alias': 'thai', 'title': 'Thai'}, {'alias':...</td>\n",
       "      <td>4.5</td>\n",
       "      <td>{'latitude': 40.77078, 'longitude': -73.95727}</td>\n",
       "      <td>['pickup', 'delivery']</td>\n",
       "      <td>$$</td>\n",
       "      <td>{'address1': '1439 2nd Ave', 'address2': '', '...</td>\n",
       "      <td>1.212900e+10</td>\n",
       "      <td>(212) 899-9995</td>\n",
       "      <td>7893.531804</td>\n",
       "    </tr>\n",
       "    <tr>\n",
       "      <th>...</th>\n",
       "      <td>...</td>\n",
       "      <td>...</td>\n",
       "      <td>...</td>\n",
       "      <td>...</td>\n",
       "      <td>...</td>\n",
       "      <td>...</td>\n",
       "      <td>...</td>\n",
       "      <td>...</td>\n",
       "      <td>...</td>\n",
       "      <td>...</td>\n",
       "      <td>...</td>\n",
       "      <td>...</td>\n",
       "      <td>...</td>\n",
       "      <td>...</td>\n",
       "      <td>...</td>\n",
       "      <td>...</td>\n",
       "    </tr>\n",
       "    <tr>\n",
       "      <th>17343</th>\n",
       "      <td>0IFDnYf3bhqxJR6hVrG7Gw</td>\n",
       "      <td>top-thai-vintage-new-york-3</td>\n",
       "      <td>gramercy tavern</td>\n",
       "      <td>https://s3-media3.fl.yelpcdn.com/bphoto/-ZoEVV...</td>\n",
       "      <td>False</td>\n",
       "      <td>https://www.yelp.com/biz/top-thai-vintage-new-...</td>\n",
       "      <td>1126</td>\n",
       "      <td>[{'alias': 'thai', 'title': 'Thai'}, {'alias':...</td>\n",
       "      <td>4.5</td>\n",
       "      <td>{'latitude': 40.729907419973344, 'longitude': ...</td>\n",
       "      <td>['delivery', 'restaurant_reservation', 'pickup']</td>\n",
       "      <td>$$$</td>\n",
       "      <td>{'address1': '55 Carmine St', 'address2': None...</td>\n",
       "      <td>1.646609e+10</td>\n",
       "      <td>(646) 609-2272</td>\n",
       "      <td>2835.775712</td>\n",
       "    </tr>\n",
       "    <tr>\n",
       "      <th>17496</th>\n",
       "      <td>pZWhRtCJvTuwWoavaiCQrA</td>\n",
       "      <td>c-as-in-charlie-new-york</td>\n",
       "      <td>gramercy tavern</td>\n",
       "      <td>https://s3-media1.fl.yelpcdn.com/bphoto/s_IHLE...</td>\n",
       "      <td>False</td>\n",
       "      <td>https://www.yelp.com/biz/c-as-in-charlie-new-y...</td>\n",
       "      <td>191</td>\n",
       "      <td>[{'alias': 'korean', 'title': 'Korean'}, {'ali...</td>\n",
       "      <td>4.5</td>\n",
       "      <td>{'latitude': 40.72545, 'longitude': -73.99269}</td>\n",
       "      <td>[]</td>\n",
       "      <td>NaN</td>\n",
       "      <td>{'address1': '5 Bleecker St', 'address2': None...</td>\n",
       "      <td>NaN</td>\n",
       "      <td>NaN</td>\n",
       "      <td>2223.191015</td>\n",
       "    </tr>\n",
       "    <tr>\n",
       "      <th>17498</th>\n",
       "      <td>lWOkeS-wV4no8qqA9OwwEg</td>\n",
       "      <td>doughnut-plant-new-york-6</td>\n",
       "      <td>gramercy tavern</td>\n",
       "      <td>https://s3-media1.fl.yelpcdn.com/bphoto/hLWKXs...</td>\n",
       "      <td>False</td>\n",
       "      <td>https://www.yelp.com/biz/doughnut-plant-new-yo...</td>\n",
       "      <td>3444</td>\n",
       "      <td>[{'alias': 'donuts', 'title': 'Donuts'}, {'ali...</td>\n",
       "      <td>4.5</td>\n",
       "      <td>{'latitude': 40.716337, 'longitude': -73.988577}</td>\n",
       "      <td>['pickup', 'delivery']</td>\n",
       "      <td>$$</td>\n",
       "      <td>{'address1': '379 Grand St', 'address2': '', '...</td>\n",
       "      <td>1.212505e+10</td>\n",
       "      <td>(212) 505-3700</td>\n",
       "      <td>1295.265121</td>\n",
       "    </tr>\n",
       "    <tr>\n",
       "      <th>17547</th>\n",
       "      <td>Ys9iYSjuFDpZj7B1X07v5g</td>\n",
       "      <td>liberty-bagels-midtown-new-york-3</td>\n",
       "      <td>gramercy tavern</td>\n",
       "      <td>https://s3-media1.fl.yelpcdn.com/bphoto/o7Lmy_...</td>\n",
       "      <td>False</td>\n",
       "      <td>https://www.yelp.com/biz/liberty-bagels-midtow...</td>\n",
       "      <td>1444</td>\n",
       "      <td>[{'alias': 'breakfast_brunch', 'title': 'Break...</td>\n",
       "      <td>4.5</td>\n",
       "      <td>{'latitude': 40.75255, 'longitude': -73.99249}</td>\n",
       "      <td>['delivery', 'pickup']</td>\n",
       "      <td>$</td>\n",
       "      <td>{'address1': '260 W 35th St', 'address2': '', ...</td>\n",
       "      <td>1.212279e+10</td>\n",
       "      <td>(212) 279-1124</td>\n",
       "      <td>5222.450101</td>\n",
       "    </tr>\n",
       "    <tr>\n",
       "      <th>17747</th>\n",
       "      <td>yecdlU3oJb1c7rwbjtxchQ</td>\n",
       "      <td>marufuku-ramen-new-york-new-york</td>\n",
       "      <td>gramercy tavern</td>\n",
       "      <td>https://s3-media4.fl.yelpcdn.com/bphoto/Iu9mjI...</td>\n",
       "      <td>False</td>\n",
       "      <td>https://www.yelp.com/biz/marufuku-ramen-new-yo...</td>\n",
       "      <td>229</td>\n",
       "      <td>[{'alias': 'ramen', 'title': 'Ramen'}]</td>\n",
       "      <td>4.5</td>\n",
       "      <td>{'latitude': 40.72697, 'longitude': -73.98863}</td>\n",
       "      <td>['pickup', 'delivery']</td>\n",
       "      <td>$$</td>\n",
       "      <td>{'address1': '92 2nd Ave', 'address2': '', 'ad...</td>\n",
       "      <td>1.917676e+10</td>\n",
       "      <td>(917) 675-6765</td>\n",
       "      <td>2425.598689</td>\n",
       "    </tr>\n",
       "  </tbody>\n",
       "</table>\n",
       "<p>222 rows × 16 columns</p>\n",
       "</div>"
      ],
      "text/plain": [
       "                           id                              alias  \\\n",
       "0      veq1Bl1DW3UWMekZJUsG1Q           gramercy-tavern-new-york   \n",
       "1      ysqgdbSrezXgVwER2kQWKA                julianas-brooklyn-3   \n",
       "2      nRO136GRieGtxz18uD61DA       eleven-madison-park-new-york   \n",
       "3      h37t9rA06Sr4EetJjKrfzw                 don-angie-new-york   \n",
       "4      O1fUmxt3kbV-rnyjBtzAfw    thep-thai-restaurant-new-york-5   \n",
       "...                       ...                                ...   \n",
       "17343  0IFDnYf3bhqxJR6hVrG7Gw        top-thai-vintage-new-york-3   \n",
       "17496  pZWhRtCJvTuwWoavaiCQrA           c-as-in-charlie-new-york   \n",
       "17498  lWOkeS-wV4no8qqA9OwwEg          doughnut-plant-new-york-6   \n",
       "17547  Ys9iYSjuFDpZj7B1X07v5g  liberty-bagels-midtown-new-york-3   \n",
       "17747  yecdlU3oJb1c7rwbjtxchQ   marufuku-ramen-new-york-new-york   \n",
       "\n",
       "                  name                                          image_url  \\\n",
       "0      gramercy tavern  https://s3-media2.fl.yelpcdn.com/bphoto/f14WAm...   \n",
       "1      gramercy tavern  https://s3-media2.fl.yelpcdn.com/bphoto/od36nF...   \n",
       "2      gramercy tavern  https://s3-media1.fl.yelpcdn.com/bphoto/s_H7gm...   \n",
       "3      gramercy tavern  https://s3-media2.fl.yelpcdn.com/bphoto/onJX6_...   \n",
       "4      gramercy tavern  https://s3-media3.fl.yelpcdn.com/bphoto/WymEpZ...   \n",
       "...                ...                                                ...   \n",
       "17343  gramercy tavern  https://s3-media3.fl.yelpcdn.com/bphoto/-ZoEVV...   \n",
       "17496  gramercy tavern  https://s3-media1.fl.yelpcdn.com/bphoto/s_IHLE...   \n",
       "17498  gramercy tavern  https://s3-media1.fl.yelpcdn.com/bphoto/hLWKXs...   \n",
       "17547  gramercy tavern  https://s3-media1.fl.yelpcdn.com/bphoto/o7Lmy_...   \n",
       "17747  gramercy tavern  https://s3-media4.fl.yelpcdn.com/bphoto/Iu9mjI...   \n",
       "\n",
       "       is_closed                                                url  \\\n",
       "0          False  https://www.yelp.com/biz/gramercy-tavern-new-y...   \n",
       "1          False  https://www.yelp.com/biz/julianas-brooklyn-3?a...   \n",
       "2          False  https://www.yelp.com/biz/eleven-madison-park-n...   \n",
       "3          False  https://www.yelp.com/biz/don-angie-new-york?ad...   \n",
       "4          False  https://www.yelp.com/biz/thep-thai-restaurant-...   \n",
       "...          ...                                                ...   \n",
       "17343      False  https://www.yelp.com/biz/top-thai-vintage-new-...   \n",
       "17496      False  https://www.yelp.com/biz/c-as-in-charlie-new-y...   \n",
       "17498      False  https://www.yelp.com/biz/doughnut-plant-new-yo...   \n",
       "17547      False  https://www.yelp.com/biz/liberty-bagels-midtow...   \n",
       "17747      False  https://www.yelp.com/biz/marufuku-ramen-new-yo...   \n",
       "\n",
       "       review_count                                         categories  \\\n",
       "0              3403  [{'alias': 'newamerican', 'title': 'American (...   \n",
       "1              2700             [{'alias': 'pizza', 'title': 'Pizza'}]   \n",
       "2              2451  [{'alias': 'newamerican', 'title': 'American (...   \n",
       "3               785  [{'alias': 'italian', 'title': 'Italian'}, {'a...   \n",
       "4              2790  [{'alias': 'thai', 'title': 'Thai'}, {'alias':...   \n",
       "...             ...                                                ...   \n",
       "17343          1126  [{'alias': 'thai', 'title': 'Thai'}, {'alias':...   \n",
       "17496           191  [{'alias': 'korean', 'title': 'Korean'}, {'ali...   \n",
       "17498          3444  [{'alias': 'donuts', 'title': 'Donuts'}, {'ali...   \n",
       "17547          1444  [{'alias': 'breakfast_brunch', 'title': 'Break...   \n",
       "17747           229             [{'alias': 'ramen', 'title': 'Ramen'}]   \n",
       "\n",
       "       rating                                        coordinates  \\\n",
       "0         4.5     {'latitude': 40.73844, 'longitude': -73.98825}   \n",
       "1         4.5  {'latitude': 40.70274718768062, 'longitude': -...   \n",
       "2         4.5  {'latitude': 40.7416907417333, 'longitude': -7...   \n",
       "3         4.5     {'latitude': 40.73778, 'longitude': -74.00197}   \n",
       "4         4.5     {'latitude': 40.77078, 'longitude': -73.95727}   \n",
       "...       ...                                                ...   \n",
       "17343     4.5  {'latitude': 40.729907419973344, 'longitude': ...   \n",
       "17496     4.5     {'latitude': 40.72545, 'longitude': -73.99269}   \n",
       "17498     4.5   {'latitude': 40.716337, 'longitude': -73.988577}   \n",
       "17547     4.5     {'latitude': 40.75255, 'longitude': -73.99249}   \n",
       "17747     4.5     {'latitude': 40.72697, 'longitude': -73.98863}   \n",
       "\n",
       "                                           transactions price  \\\n",
       "0                                          ['delivery']  $$$$   \n",
       "1                                          ['delivery']    $$   \n",
       "2                                                    []  $$$$   \n",
       "3                                          ['delivery']   $$$   \n",
       "4                                ['pickup', 'delivery']    $$   \n",
       "...                                                 ...   ...   \n",
       "17343  ['delivery', 'restaurant_reservation', 'pickup']   $$$   \n",
       "17496                                                []   NaN   \n",
       "17498                            ['pickup', 'delivery']    $$   \n",
       "17547                            ['delivery', 'pickup']     $   \n",
       "17747                            ['pickup', 'delivery']    $$   \n",
       "\n",
       "                                                location         phone  \\\n",
       "0      {'address1': '42 E 20th St', 'address2': '', '...  1.212477e+10   \n",
       "1      {'address1': '19 Old Fulton St', 'address2': '...  1.718597e+10   \n",
       "2      {'address1': '11 Madison Ave', 'address2': '',...  1.212889e+10   \n",
       "3      {'address1': '103 Greenwich Ave', 'address2': ...  1.212890e+10   \n",
       "4      {'address1': '1439 2nd Ave', 'address2': '', '...  1.212900e+10   \n",
       "...                                                  ...           ...   \n",
       "17343  {'address1': '55 Carmine St', 'address2': None...  1.646609e+10   \n",
       "17496  {'address1': '5 Bleecker St', 'address2': None...           NaN   \n",
       "17498  {'address1': '379 Grand St', 'address2': '', '...  1.212505e+10   \n",
       "17547  {'address1': '260 W 35th St', 'address2': '', ...  1.212279e+10   \n",
       "17747  {'address1': '92 2nd Ave', 'address2': '', 'ad...  1.917676e+10   \n",
       "\n",
       "        display_phone     distance  \n",
       "0      (212) 477-0777  3695.639928  \n",
       "1      (718) 596-6700   318.876261  \n",
       "2      (212) 889-0905  4062.929570  \n",
       "3      (212) 889-8884  3646.541688  \n",
       "4      (212) 899-9995  7893.531804  \n",
       "...               ...          ...  \n",
       "17343  (646) 609-2272  2835.775712  \n",
       "17496             NaN  2223.191015  \n",
       "17498  (212) 505-3700  1295.265121  \n",
       "17547  (212) 279-1124  5222.450101  \n",
       "17747  (917) 675-6765  2425.598689  \n",
       "\n",
       "[222 rows x 16 columns]"
      ]
     },
     "execution_count": 204,
     "metadata": {},
     "output_type": "execute_result"
    }
   ],
   "source": [
    "unique_businesses = yelp_df.drop_duplicates(subset='id')\n",
    "unique_businesses"
   ]
  },
  {
   "cell_type": "code",
   "execution_count": 167,
   "id": "ec8824b5-2e54-44d7-bdf7-62a8587a16ef",
   "metadata": {},
   "outputs": [],
   "source": [
    "unique_business_id = yelp_df[['id', 'name']].drop_duplicates()"
   ]
  },
  {
   "cell_type": "code",
   "execution_count": 170,
   "id": "b647d0a9-852c-4891-a031-48ccbc9bd1e7",
   "metadata": {},
   "outputs": [],
   "source": [
    "unique_business_id_list = unique_business_id.values.tolist()"
   ]
  },
  {
   "cell_type": "code",
   "execution_count": 171,
   "id": "b36115b4-bb27-4b06-97d1-68f0c083a297",
   "metadata": {
    "scrolled": true
   },
   "outputs": [
    {
     "data": {
      "text/plain": [
       "[['veq1Bl1DW3UWMekZJUsG1Q', 'gramercy tavern'],\n",
       " ['ysqgdbSrezXgVwER2kQWKA', \"juliana's\"],\n",
       " ['nRO136GRieGtxz18uD61DA', 'eleven madison park']]"
      ]
     },
     "execution_count": 171,
     "metadata": {},
     "output_type": "execute_result"
    }
   ],
   "source": [
    "unique_business_id_list[0:3]"
   ]
  },
  {
   "cell_type": "code",
   "execution_count": 172,
   "id": "e1e44f02-96b8-4ae3-9780-44dd079ed3a4",
   "metadata": {},
   "outputs": [
    {
     "data": {
      "text/plain": [
       "id      222\n",
       "name    218\n",
       "dtype: int64"
      ]
     },
     "execution_count": 172,
     "metadata": {},
     "output_type": "execute_result"
    }
   ],
   "source": [
    "unique_business_id_count = yelp_df[['id', 'name']].drop_duplicates().nunique()\n",
    "unique_business_id_count"
   ]
  },
  {
   "cell_type": "markdown",
   "id": "7de35666-f134-412a-ad1d-02b4c40bcca7",
   "metadata": {},
   "source": [
    "### found only 218 unique business names, which means i retrieved manyy duplicates, which means i have to do anotehr API call only this time hopefully not return duplicate business names so i can have more ids to hopefully match the New York Open Data dba column"
   ]
  },
  {
   "cell_type": "markdown",
   "id": "d5b52f07-70da-479c-9b3d-1536ad50fb7d",
   "metadata": {},
   "source": [
    "  "
   ]
  },
  {
   "cell_type": "markdown",
   "id": "b8e01e1e-1b4b-43f7-a273-3d06233df12c",
   "metadata": {},
   "source": [
    "  "
   ]
  },
  {
   "cell_type": "markdown",
   "id": "59bfe360-56f4-4528-8ef4-58c310c275d8",
   "metadata": {},
   "source": [
    "  "
   ]
  },
  {
   "cell_type": "markdown",
   "id": "67553161-2ff5-4698-9add-3cbafaca8db4",
   "metadata": {},
   "source": [
    "  "
   ]
  },
  {
   "cell_type": "markdown",
   "id": "35f7153d-cef9-48ff-ac21-fd72b069f2c1",
   "metadata": {},
   "source": [
    "  "
   ]
  },
  {
   "cell_type": "markdown",
   "id": "6ddd518c-489e-49e4-b250-983c248b0f71",
   "metadata": {},
   "source": [
    "  "
   ]
  },
  {
   "cell_type": "markdown",
   "id": "c556ba26-88c6-47c3-947c-4fc487a78b49",
   "metadata": {},
   "source": [
    "  "
   ]
  },
  {
   "cell_type": "markdown",
   "id": "7179d19b-bb03-4195-a9b4-c961f22b6048",
   "metadata": {},
   "source": [
    "  "
   ]
  },
  {
   "cell_type": "markdown",
   "id": "a3b51b57-51b2-4018-ba02-097c17c0422c",
   "metadata": {},
   "source": [
    "  "
   ]
  },
  {
   "cell_type": "markdown",
   "id": "431122bf-880a-417c-96fb-1af8a79d58b9",
   "metadata": {},
   "source": [
    "  "
   ]
  },
  {
   "cell_type": "markdown",
   "id": "0eb17a7e-6a0c-40f4-8b69-94e387e856bf",
   "metadata": {},
   "source": [
    "  "
   ]
  },
  {
   "cell_type": "markdown",
   "id": "da44d6d9-bdcf-400c-956f-f4321af8de1d",
   "metadata": {},
   "source": [
    "  ## I'm going to just create unique instances and generate a list just using parallelization"
   ]
  },
  {
   "cell_type": "code",
   "execution_count": 94,
   "id": "cf819793-936b-42ca-94b2-a8411e4667ae",
   "metadata": {
    "scrolled": true
   },
   "outputs": [],
   "source": [
    "import pandas as pd\n",
    "import concurrent.futures\n",
    "\n",
    "# Load dataframes\n",
    "yelp_df = pd.read_csv('yelp_businesses.csv')\n",
    "ny_df = pd.read_csv('ny.csv')\n",
    "\n",
    "# Preprocess the 'name' and 'dba' columns\n",
    "yelp_df['name'] = yelp_df['name'].str.lower().str.strip()\n",
    "ny_df['dba'] = ny_df['dba'].str.lower().str.strip()\n",
    "\n",
    "# Step 1: Create a set of unique business DBAs from the NY DataFrame\n",
    "unique_ny_dbas = set(ny_df['dba'])\n",
    "\n",
    "# Step 2: Initialize a dictionary to store matching Yelp IDs\n",
    "matching_yelp_ids = {}\n",
    "\n",
    "# Create a function to find the first matching ID for parallel processing\n",
    "def find_matching_id(yelp_name, yelp_id, ny_df):\n",
    "    matching_id = None\n",
    "    for ny_row in ny_df['dba']:\n",
    "        if yelp_name == ny_row:\n",
    "            matching_id = yelp_id\n",
    "            break  # Stop searching after the first match\n",
    "    return yelp_name, matching_id\n",
    "\n",
    "# Use ThreadPoolExecutor for parallel processing with 12 cores\n",
    "with concurrent.futures.ThreadPoolExecutor(max_workers=12) as executor:\n",
    "    # Submit tasks for each yelp name\n",
    "    future_to_name = {executor.submit(find_matching_id, yelp_name, yelp_id, ny_df): (yelp_name, yelp_id) for yelp_name, yelp_id in zip(yelp_df['name'], yelp_df['id'])}\n",
    "    \n",
    "    # Retrieve results as they complete\n",
    "    for future in concurrent.futures.as_completed(future_to_name):\n",
    "        yelp_name, matching_id = future.result()\n",
    "        if matching_id:\n",
    "            matching_yelp_ids[yelp_name] = matching_id\n",
    "\n",
    "# Now, matching_yelp_ids contains Yelp IDs that match unique business DBAs from the NY DataFrame\n"
   ]
  },
  {
   "cell_type": "code",
   "execution_count": 111,
   "id": "e2e9dc60-c4e3-430c-8d2a-e9329d840e50",
   "metadata": {},
   "outputs": [],
   "source": [
    "#'matching_yelp_ids' is a dictionary with business names as keys and lists of matching Yelp IDs as values\n",
    "data = {'business_name': list(matching_yelp_ids.keys()), 'yelp_ids': [''.join(map(str, ids)) for ids in matching_yelp_ids.values()]}\n",
    "\n",
    "# Create a DataFrame from the data\n",
    "matched_df = pd.DataFrame(data)\n",
    "\n",
    "# Save the DataFrame to a CSV file\n",
    "matched_df.to_csv('matched_businesses.csv', index=False)"
   ]
  },
  {
   "cell_type": "code",
   "execution_count": 187,
   "id": "247c99d9-f4f2-4043-99d0-f50e7d9d0f46",
   "metadata": {},
   "outputs": [
    {
     "data": {
      "text/html": [
       "<div>\n",
       "<style scoped>\n",
       "    .dataframe tbody tr th:only-of-type {\n",
       "        vertical-align: middle;\n",
       "    }\n",
       "\n",
       "    .dataframe tbody tr th {\n",
       "        vertical-align: top;\n",
       "    }\n",
       "\n",
       "    .dataframe thead th {\n",
       "        text-align: right;\n",
       "    }\n",
       "</style>\n",
       "<table border=\"1\" class=\"dataframe\">\n",
       "  <thead>\n",
       "    <tr style=\"text-align: right;\">\n",
       "      <th></th>\n",
       "      <th>business_name</th>\n",
       "      <th>yelp_ids</th>\n",
       "    </tr>\n",
       "  </thead>\n",
       "  <tbody>\n",
       "    <tr>\n",
       "      <th>0</th>\n",
       "      <td>valerie</td>\n",
       "      <td>zRXMvxUX_rOliKZPpkWi_g</td>\n",
       "    </tr>\n",
       "    <tr>\n",
       "      <th>1</th>\n",
       "      <td>crown shy</td>\n",
       "      <td>_0WFGjXuenlBixOlbSlGeQ</td>\n",
       "    </tr>\n",
       "  </tbody>\n",
       "</table>\n",
       "</div>"
      ],
      "text/plain": [
       "  business_name                yelp_ids\n",
       "0       valerie  zRXMvxUX_rOliKZPpkWi_g\n",
       "1     crown shy  _0WFGjXuenlBixOlbSlGeQ"
      ]
     },
     "execution_count": 187,
     "metadata": {},
     "output_type": "execute_result"
    }
   ],
   "source": [
    "matched_df.head(2)"
   ]
  },
  {
   "cell_type": "code",
   "execution_count": 175,
   "id": "072fd569-ab5c-41cb-bd8f-b91fbb324219",
   "metadata": {
    "scrolled": true
   },
   "outputs": [
    {
     "data": {
      "text/plain": [
       "['valerie',\n",
       " 'crown shy',\n",
       " 'ocean prime',\n",
       " 'mokyo',\n",
       " 'tomi jazz',\n",
       " 'soothr',\n",
       " 'chili',\n",
       " 'hanoi house',\n",
       " 'otis',\n",
       " 'dutch freds',\n",
       " \"jacob's pickles\",\n",
       " 'ci siamo',\n",
       " 'her name is han',\n",
       " 'maison pickle',\n",
       " 'manhatta',\n",
       " 'double chicken please',\n",
       " 'per se',\n",
       " 'wayla',\n",
       " \"junior's restaurant\",\n",
       " 'duane park',\n",
       " 'gotham restaurant',\n",
       " 'daniel',\n",
       " 'buddakan',\n",
       " 'thai villa',\n",
       " 'eleven madison park',\n",
       " 'thai diner',\n",
       " 'momofuku ko',\n",
       " 'benemon',\n",
       " 'jua',\n",
       " 'tara rose',\n",
       " 'very fresh noodles',\n",
       " 'jungsik',\n",
       " 'da gennaro',\n",
       " 'la contenta',\n",
       " 'up thai',\n",
       " 'le bernardin',\n",
       " 'atera',\n",
       " 'club a steakhouse',\n",
       " 'miss ada',\n",
       " 'bea',\n",
       " 'fish cheeks',\n",
       " 'cafe mogador',\n",
       " '5ive spice',\n",
       " 'ippudo ny',\n",
       " 'gelso & grand',\n",
       " 'nai',\n",
       " \"l'artusi\",\n",
       " \"jack's wife freda\",\n",
       " 'marc forgione',\n",
       " \"katz's delicatessen\",\n",
       " 'piccola cucina osteria',\n",
       " 'the modern',\n",
       " 'wayan',\n",
       " 'don angie',\n",
       " 'secchu yokota',\n",
       " 'lilia',\n",
       " 'jean-georges',\n",
       " 'joju',\n",
       " 'le coucou',\n",
       " 'los tacos no.1',\n",
       " 'nerai',\n",
       " 'mission ceviche',\n",
       " 'city vineyard',\n",
       " 'bua thai ramen & robata grill',\n",
       " 'minetta tavern',\n",
       " 'shuka',\n",
       " 'misi',\n",
       " 'locanda verde',\n",
       " 'barn joo 35',\n",
       " 'shukette',\n",
       " 'atoboy',\n",
       " 'sons of essex',\n",
       " \"haswell green's\",\n",
       " 'bengal tiger indian food',\n",
       " 'the thirsty koala',\n",
       " 'cote korean steakhouse',\n",
       " 'traif',\n",
       " 'win son',\n",
       " 'tuome',\n",
       " 'scarpetta',\n",
       " 'vida verde',\n",
       " 'pye boat noodle',\n",
       " 'keens steakhouse',\n",
       " 'raku',\n",
       " 'trapizzino',\n",
       " 'barn joo',\n",
       " 'kimika',\n",
       " 'sushi by m',\n",
       " 'golden diner',\n",
       " 'buena vista restaurant & bar',\n",
       " \"tony's di napoli\",\n",
       " 'noreetuh',\n",
       " 'francie',\n",
       " 'bar verde',\n",
       " 'abc kitchen',\n",
       " \"ye's apothecary\",\n",
       " 'the musket room',\n",
       " 'calle dao chelsea',\n",
       " 'havana central',\n",
       " 'zest ramen',\n",
       " 'osteria brooklyn',\n",
       " 'da andrea',\n",
       " 'obao',\n",
       " 'gran morsi',\n",
       " 'gramercy tavern',\n",
       " 'the smith',\n",
       " 'sushi nakazawa',\n",
       " 'antidote',\n",
       " 'dolly varden',\n",
       " 'sweet moment',\n",
       " 'khe-yo',\n",
       " 'parker & quinn',\n",
       " 'jajaja mexicana',\n",
       " 'forsythia',\n",
       " 'gabriel kreuther',\n",
       " \"l'industrie pizzeria\",\n",
       " 'barano',\n",
       " 'taiyaki nyc',\n",
       " 'izakaya juraku',\n",
       " 'yoon haeundae galbi',\n",
       " 'aoi kitchen',\n",
       " 'xixa',\n",
       " 'upland',\n",
       " 'la lanterna di vittorio',\n",
       " 'doughnut plant',\n",
       " 'c as in charlie',\n",
       " 'sunday in brooklyn',\n",
       " 'the halal guys']"
      ]
     },
     "execution_count": 175,
     "metadata": {},
     "output_type": "execute_result"
    }
   ],
   "source": [
    "matched_df.business_name.to_list()"
   ]
  },
  {
   "cell_type": "code",
   "execution_count": 183,
   "id": "9241c951-db62-4300-8461-78118b6b44ae",
   "metadata": {},
   "outputs": [
    {
     "data": {
      "text/plain": [
       "128"
      ]
     },
     "execution_count": 183,
     "metadata": {},
     "output_type": "execute_result"
    }
   ],
   "source": [
    "matched_df.business_name.value_counts().sum()"
   ]
  },
  {
   "cell_type": "markdown",
   "id": "a64213dd-8b4f-4cd4-ae0b-c67cfbf37471",
   "metadata": {},
   "source": [
    "  ## ***ONLY HAD 128 THAT MATCHED WITH NY DATA***"
   ]
  },
  {
   "cell_type": "markdown",
   "id": "32292983-5a94-4f6a-a268-f16feeca9249",
   "metadata": {},
   "source": [
    "## so I had alot of duplicates in my yelp data, i need to add a break and store only unique ids when callin the api, hopefully this way I can return 29200 of hopefully unique business ids so I can match more businesses from the ny dataset by names"
   ]
  },
  {
   "cell_type": "markdown",
   "id": "a8459fa6-32f4-4616-9f34-c10d2bf9ebb0",
   "metadata": {},
   "source": [
    "  "
   ]
  },
  {
   "cell_type": "markdown",
   "id": "03a769ee-01ab-4ec2-93b1-c7551e712196",
   "metadata": {},
   "source": [
    "  "
   ]
  },
  {
   "cell_type": "markdown",
   "id": "c37af728-ba49-4cd6-8aa4-f0cf66cf1990",
   "metadata": {},
   "source": [
    "  "
   ]
  },
  {
   "cell_type": "markdown",
   "id": "3f705e32-11ea-494e-81de-cd5082dd3c1c",
   "metadata": {},
   "source": [
    "## attempting to use the parallelization technique and use all 12 of my cpu cores here."
   ]
  },
  {
   "cell_type": "code",
   "execution_count": null,
   "id": "ff843038-fd3a-4631-a249-f0c105ba3746",
   "metadata": {},
   "outputs": [],
   "source": [
    "# required imports to implement pagination and parallelization\n",
    "import requests\n",
    "import pandas as pd\n",
    "import time\n",
    "import concurrent.futures\n",
    "from concurrent.futures import ThreadPoolExecutor\n",
    "from env import YELP_ID, YELP_API_KEY, yelp_locale_url\n",
    "\n",
    "# API credentials and endpoint\n",
    "api_key = YELP_API_KEY\n",
    "api_endpoint = 'https://api.yelp.com/v3/businesses/search'\n",
    "\n",
    "# Pagination parameters per the API businesses reference page\n",
    "limit = 50  # Number of results per page\n",
    "offset = 0  # Start with the first page\n",
    "\n",
    "unique_business_ids = set()  # Set to store unique business IDs\n",
    "all_businesses = []  # List to store all business data\n",
    "\n",
    "# Define a function to fetch data for a specific page\n",
    "def fetch_page(offset):\n",
    "    url = f'{api_endpoint}?location=New+York&limit={limit}&offset={offset}'\n",
    "    headers = {\n",
    "        'Authorization': f'Bearer {YELP_API_KEY}'\n",
    "    }\n",
    "\n",
    "    response = requests.get(url, headers=headers)\n",
    "\n",
    "    if response.status_code == 200:\n",
    "        return response.json().get('businesses', [])\n",
    "    else:\n",
    "        return []\n",
    "\n",
    "# Concurrently fetch pages of results\n",
    "with ThreadPoolExecutor(max_workers=12) as executor:  # Adjust max_workers as needed\n",
    "    while True:\n",
    "        future_to_offset = {executor.submit(fetch_page, offset): offset}\n",
    "        offset += limit\n",
    "\n",
    "        # Wait for the tasks to complete\n",
    "        for future in concurrent.futures.as_completed(future_to_offset):\n",
    "            businesses = future.result()\n",
    "\n",
    "            if not businesses:\n",
    "                # No more results to fetch\n",
    "                break\n",
    "\n",
    "            for business in businesses:\n",
    "                business_id = business.get('id')\n",
    "                if business_id not in unique_business_ids:\n",
    "                    unique_business_ids.add(business_id)\n",
    "                    all_businesses.append(business)\n",
    "\n",
    "        # Sleep for 60 seconds to respect QPS rate limiting\n",
    "        time.sleep(60)\n",
    "\n",
    "# Now 'all_businesses' contains unique business data\n",
    "\n",
    "# Convert the data into a DataFrame\n",
    "df = pd.DataFrame(all_businesses)"
   ]
  },
  {
   "cell_type": "code",
   "execution_count": null,
   "id": "728f3450-f9a6-4cf3-aadd-ab768850f0fe",
   "metadata": {},
   "outputs": [],
   "source": [
    "df.info()"
   ]
  },
  {
   "cell_type": "code",
   "execution_count": null,
   "id": "723bd6a3-9a96-4c96-9984-99f9a46ead1d",
   "metadata": {},
   "outputs": [],
   "source": [
    "df.to_csv('yelp_businesses.csv', index=False)"
   ]
  },
  {
   "cell_type": "markdown",
   "id": "4cc0f264-b2af-4dac-bd89-d290b74aa2d8",
   "metadata": {},
   "source": [
    "  "
   ]
  },
  {
   "cell_type": "markdown",
   "id": "d5b3a529-4000-4555-b459-3a94daab0c43",
   "metadata": {},
   "source": [
    "  "
   ]
  },
  {
   "cell_type": "markdown",
   "id": "c7b16d43-f497-4199-a411-09886a9630e3",
   "metadata": {},
   "source": [
    "## The Next step here is to make another API call once my limit is reset and attempt to retrieve all reviews and append them to the dataframe"
   ]
  },
  {
   "cell_type": "code",
   "execution_count": null,
   "id": "6a0ff5d0-3c6e-4832-a829-c36fdf47c78c",
   "metadata": {},
   "outputs": [],
   "source": []
  }
 ],
 "metadata": {
  "kernelspec": {
   "display_name": "Python 3 (ipykernel)",
   "language": "python",
   "name": "python3"
  },
  "language_info": {
   "codemirror_mode": {
    "name": "ipython",
    "version": 3
   },
   "file_extension": ".py",
   "mimetype": "text/x-python",
   "name": "python",
   "nbconvert_exporter": "python",
   "pygments_lexer": "ipython3",
   "version": "3.10.9"
  }
 },
 "nbformat": 4,
 "nbformat_minor": 5
}
