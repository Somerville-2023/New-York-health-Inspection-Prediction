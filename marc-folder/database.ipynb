{
 "cells": [
  {
   "cell_type": "markdown",
   "id": "c0d4b978-4dbc-44c6-9757-390aaac5bec7",
   "metadata": {},
   "source": [
    "# A DATABASE FOR PROJECT"
   ]
  },
  {
   "cell_type": "code",
   "execution_count": null,
   "id": "1b599ef6-4973-4a77-bb92-f178c3f53bf9",
   "metadata": {},
   "outputs": [],
   "source": [
    "#Installed lib to connect to db"
   ]
  },
  {
   "cell_type": "code",
   "execution_count": 5,
   "id": "9761631c-3e1f-449b-bc82-427374ee32f8",
   "metadata": {},
   "outputs": [
    {
     "name": "stdout",
     "output_type": "stream",
     "text": [
      "Defaulting to user installation because normal site-packages is not writeable\n",
      "Requirement already satisfied: mysql-connector-python in c:\\tools\\anaconda3\\lib\\site-packages (8.0.31)\n",
      "Requirement already satisfied: protobuf<=3.20.1,>=3.11.0 in c:\\users\\marc aradillas\\appdata\\roaming\\python\\python310\\site-packages (from mysql-connector-python) (3.20.1)\n",
      "Note: you may need to restart the kernel to use updated packages.\n"
     ]
    },
    {
     "name": "stderr",
     "output_type": "stream",
     "text": [
      "WARNING: There was an error checking the latest version of pip.\n"
     ]
    }
   ],
   "source": [
    "pip install mysql-connector-python"
   ]
  },
  {
   "cell_type": "markdown",
   "id": "4cb895af-351e-40b8-a6c2-ebd35768b2cb",
   "metadata": {},
   "source": [
    "  "
   ]
  },
  {
   "cell_type": "markdown",
   "id": "26c21d98-c798-4d6d-aa3a-5c6692ede105",
   "metadata": {},
   "source": [
    "  "
   ]
  },
  {
   "cell_type": "markdown",
   "id": "3d2d335b-c349-4876-a98c-f580a71a82b4",
   "metadata": {},
   "source": [
    "  "
   ]
  },
  {
   "cell_type": "markdown",
   "id": "491e6556-564f-4bb9-ad25-a7abb4f342bd",
   "metadata": {},
   "source": [
    "  "
   ]
  },
  {
   "cell_type": "code",
   "execution_count": 7,
   "id": "d0d274ef-26e7-4844-86a1-90ea33f9e32a",
   "metadata": {},
   "outputs": [],
   "source": [
    "# Import Required Libraries:\n",
    "# First, import the necessary libraries, including the MySQL database connector (mysql-connector-python), \n",
    "# and any other libraries you'll need."
   ]
  },
  {
   "cell_type": "code",
   "execution_count": 1,
   "id": "1d06c81a-6376-40ca-8b45-19087a58c01d",
   "metadata": {},
   "outputs": [],
   "source": [
    "import mysql.connector\n",
    "import requests\n",
    "import pandas as pd\n",
    "import time\n",
    "from concurrent.futures import ThreadPoolExecutor\n",
    "from env import YELP_ID, YELP_API_KEY, yelp_locale_url\n",
    "from config import user_name, pwd, host, db, port"
   ]
  },
  {
   "cell_type": "code",
   "execution_count": null,
   "id": "e87c0c1f-9c26-432f-9033-e13af6acbf0d",
   "metadata": {},
   "outputs": [],
   "source": [
    "# Set Up Database Connection:\n",
    "# Establish a connection to your MySQL RDS instance using the connection details you obtained from AWS."
   ]
  },
  {
   "cell_type": "code",
   "execution_count": 2,
   "id": "6f1eabbc-55cc-4d1b-be83-cbe4558b54d0",
   "metadata": {},
   "outputs": [
    {
     "ename": "DatabaseError",
     "evalue": "2003 (HY000): Can't connect to MySQL server on 'marc-db.cm6akguotkaw.us-east-2.rds.amazonaws.com:3306' (10060)",
     "output_type": "error",
     "traceback": [
      "\u001b[1;31m---------------------------------------------------------------------------\u001b[0m",
      "\u001b[1;31mMySQLInterfaceError\u001b[0m                       Traceback (most recent call last)",
      "File \u001b[1;32mC:\\tools\\Anaconda3\\lib\\site-packages\\mysql\\connector\\connection_cext.py:268\u001b[0m, in \u001b[0;36mCMySQLConnection._open_connection\u001b[1;34m(self)\u001b[0m\n\u001b[0;32m    267\u001b[0m \u001b[38;5;28;01mtry\u001b[39;00m:\n\u001b[1;32m--> 268\u001b[0m     \u001b[38;5;28mself\u001b[39m\u001b[38;5;241m.\u001b[39m_cmysql\u001b[38;5;241m.\u001b[39mconnect(\u001b[38;5;241m*\u001b[39m\u001b[38;5;241m*\u001b[39mcnx_kwargs)\n\u001b[0;32m    269\u001b[0m     \u001b[38;5;28mself\u001b[39m\u001b[38;5;241m.\u001b[39m_cmysql\u001b[38;5;241m.\u001b[39mconverter_str_fallback \u001b[38;5;241m=\u001b[39m \u001b[38;5;28mself\u001b[39m\u001b[38;5;241m.\u001b[39m_converter_str_fallback\n",
      "\u001b[1;31mMySQLInterfaceError\u001b[0m: Can't connect to MySQL server on 'marc-db.cm6akguotkaw.us-east-2.rds.amazonaws.com:3306' (10060)",
      "\nThe above exception was the direct cause of the following exception:\n",
      "\u001b[1;31mDatabaseError\u001b[0m                             Traceback (most recent call last)",
      "Cell \u001b[1;32mIn[2], line 12\u001b[0m\n\u001b[0;32m      2\u001b[0m db_config \u001b[38;5;241m=\u001b[39m {\n\u001b[0;32m      3\u001b[0m     \u001b[38;5;124m'\u001b[39m\u001b[38;5;124muser\u001b[39m\u001b[38;5;124m'\u001b[39m: user_name,\n\u001b[0;32m      4\u001b[0m     \u001b[38;5;124m'\u001b[39m\u001b[38;5;124mpassword\u001b[39m\u001b[38;5;124m'\u001b[39m: pwd,\n\u001b[1;32m   (...)\u001b[0m\n\u001b[0;32m      7\u001b[0m     \u001b[38;5;124m'\u001b[39m\u001b[38;5;124mport\u001b[39m\u001b[38;5;124m'\u001b[39m: port\n\u001b[0;32m      8\u001b[0m }\n\u001b[0;32m     11\u001b[0m \u001b[38;5;66;03m# Create a database connection\u001b[39;00m\n\u001b[1;32m---> 12\u001b[0m connection \u001b[38;5;241m=\u001b[39m mysql\u001b[38;5;241m.\u001b[39mconnector\u001b[38;5;241m.\u001b[39mconnect(\u001b[38;5;241m*\u001b[39m\u001b[38;5;241m*\u001b[39mdb_config)\n\u001b[0;32m     14\u001b[0m \u001b[38;5;66;03m# Create a cursor to execute SQL queries\u001b[39;00m\n\u001b[0;32m     15\u001b[0m cursor \u001b[38;5;241m=\u001b[39m connection\u001b[38;5;241m.\u001b[39mcursor()\n",
      "File \u001b[1;32mC:\\tools\\Anaconda3\\lib\\site-packages\\mysql\\connector\\pooling.py:286\u001b[0m, in \u001b[0;36mconnect\u001b[1;34m(*args, **kwargs)\u001b[0m\n\u001b[0;32m    283\u001b[0m         \u001b[38;5;28;01mraise\u001b[39;00m \u001b[38;5;167;01mImportError\u001b[39;00m(ERROR_NO_CEXT)\n\u001b[0;32m    285\u001b[0m \u001b[38;5;28;01mif\u001b[39;00m CMySQLConnection \u001b[38;5;129;01mand\u001b[39;00m \u001b[38;5;129;01mnot\u001b[39;00m use_pure:\n\u001b[1;32m--> 286\u001b[0m     \u001b[38;5;28;01mreturn\u001b[39;00m CMySQLConnection(\u001b[38;5;241m*\u001b[39margs, \u001b[38;5;241m*\u001b[39m\u001b[38;5;241m*\u001b[39mkwargs)\n\u001b[0;32m    287\u001b[0m \u001b[38;5;28;01mreturn\u001b[39;00m MySQLConnection(\u001b[38;5;241m*\u001b[39margs, \u001b[38;5;241m*\u001b[39m\u001b[38;5;241m*\u001b[39mkwargs)\n",
      "File \u001b[1;32mC:\\tools\\Anaconda3\\lib\\site-packages\\mysql\\connector\\connection_cext.py:101\u001b[0m, in \u001b[0;36mCMySQLConnection.__init__\u001b[1;34m(self, **kwargs)\u001b[0m\n\u001b[0;32m     98\u001b[0m \u001b[38;5;28msuper\u001b[39m()\u001b[38;5;241m.\u001b[39m\u001b[38;5;21m__init__\u001b[39m()\n\u001b[0;32m    100\u001b[0m \u001b[38;5;28;01mif\u001b[39;00m kwargs:\n\u001b[1;32m--> 101\u001b[0m     \u001b[38;5;28mself\u001b[39m\u001b[38;5;241m.\u001b[39mconnect(\u001b[38;5;241m*\u001b[39m\u001b[38;5;241m*\u001b[39mkwargs)\n",
      "File \u001b[1;32mC:\\tools\\Anaconda3\\lib\\site-packages\\mysql\\connector\\abstracts.py:1108\u001b[0m, in \u001b[0;36mMySQLConnectionAbstract.connect\u001b[1;34m(self, **kwargs)\u001b[0m\n\u001b[0;32m   1105\u001b[0m     \u001b[38;5;28mself\u001b[39m\u001b[38;5;241m.\u001b[39mconfig(\u001b[38;5;241m*\u001b[39m\u001b[38;5;241m*\u001b[39mkwargs)\n\u001b[0;32m   1107\u001b[0m \u001b[38;5;28mself\u001b[39m\u001b[38;5;241m.\u001b[39mdisconnect()\n\u001b[1;32m-> 1108\u001b[0m \u001b[38;5;28;43mself\u001b[39;49m\u001b[38;5;241;43m.\u001b[39;49m\u001b[43m_open_connection\u001b[49m\u001b[43m(\u001b[49m\u001b[43m)\u001b[49m\n\u001b[0;32m   1109\u001b[0m \u001b[38;5;66;03m# Server does not allow to run any other statement different from ALTER\u001b[39;00m\n\u001b[0;32m   1110\u001b[0m \u001b[38;5;66;03m# when user's password has been expired.\u001b[39;00m\n\u001b[0;32m   1111\u001b[0m \u001b[38;5;28;01mif\u001b[39;00m \u001b[38;5;129;01mnot\u001b[39;00m \u001b[38;5;28mself\u001b[39m\u001b[38;5;241m.\u001b[39m_client_flags \u001b[38;5;241m&\u001b[39m ClientFlag\u001b[38;5;241m.\u001b[39mCAN_HANDLE_EXPIRED_PASSWORDS:\n",
      "File \u001b[1;32mC:\\tools\\Anaconda3\\lib\\site-packages\\mysql\\connector\\connection_cext.py:273\u001b[0m, in \u001b[0;36mCMySQLConnection._open_connection\u001b[1;34m(self)\u001b[0m\n\u001b[0;32m    271\u001b[0m         \u001b[38;5;28mself\u001b[39m\u001b[38;5;241m.\u001b[39mconverter\u001b[38;5;241m.\u001b[39mstr_fallback \u001b[38;5;241m=\u001b[39m \u001b[38;5;28mself\u001b[39m\u001b[38;5;241m.\u001b[39m_converter_str_fallback\n\u001b[0;32m    272\u001b[0m \u001b[38;5;28;01mexcept\u001b[39;00m MySQLInterfaceError \u001b[38;5;28;01mas\u001b[39;00m err:\n\u001b[1;32m--> 273\u001b[0m     \u001b[38;5;28;01mraise\u001b[39;00m get_mysql_exception(\n\u001b[0;32m    274\u001b[0m         msg\u001b[38;5;241m=\u001b[39merr\u001b[38;5;241m.\u001b[39mmsg, errno\u001b[38;5;241m=\u001b[39merr\u001b[38;5;241m.\u001b[39merrno, sqlstate\u001b[38;5;241m=\u001b[39merr\u001b[38;5;241m.\u001b[39msqlstate\n\u001b[0;32m    275\u001b[0m     ) \u001b[38;5;28;01mfrom\u001b[39;00m \u001b[38;5;21;01merr\u001b[39;00m\n\u001b[0;32m    277\u001b[0m \u001b[38;5;28mself\u001b[39m\u001b[38;5;241m.\u001b[39m_do_handshake()\n",
      "\u001b[1;31mDatabaseError\u001b[0m: 2003 (HY000): Can't connect to MySQL server on 'marc-db.cm6akguotkaw.us-east-2.rds.amazonaws.com:3306' (10060)"
     ]
    }
   ],
   "source": [
    "# Replace with your RDS connection details\n",
    "db_config = {\n",
    "    'user': user_name,\n",
    "    'password': pwd,\n",
    "    'host': host,\n",
    "    'database': db,\n",
    "    'port': port\n",
    "}\n",
    "\n",
    "\n",
    "# Create a database connection\n",
    "connection = mysql.connector.connect(**db_config)\n",
    "\n",
    "# Create a cursor to execute SQL queries\n",
    "cursor = connection.cursor()"
   ]
  },
  {
   "cell_type": "code",
   "execution_count": null,
   "id": "0e09a6e4-1b66-432b-8938-94c38b6e3951",
   "metadata": {},
   "outputs": [],
   "source": [
    "# Define a Function to Fetch Data:\n",
    "# Define the function to fetch data from the Yelp API, similar to your existing code. \n",
    "# Make sure you adjust this function to insert the data into the MySQL database."
   ]
  },
  {
   "cell_type": "code",
   "execution_count": null,
   "id": "d7df6912-83aa-4812-ab04-b532a34cb703",
   "metadata": {},
   "outputs": [],
   "source": [
    "def fetch_page(offset):\n",
    "    url = f'{api_endpoint}?location=New+York&limit={limit}&offset={offset}'\n",
    "    headers = {\n",
    "        'Authorization': f'Bearer {YELP_API_KEY}'\n",
    "    }\n",
    "\n",
    "    response = requests.get(url, headers=headers)\n",
    "\n",
    "    if response.status_code == 200:\n",
    "        return response.json().get('businesses', [])\n",
    "    else:\n",
    "        return []"
   ]
  },
  {
   "cell_type": "code",
   "execution_count": 9,
   "id": "b380a4c1-372e-4aef-a347-47e22efc3094",
   "metadata": {},
   "outputs": [],
   "source": [
    "# Concurrent Data Retrieval and Database Insertion:\n",
    "# Modify your code to fetch data from Yelp API and insert it into the MySQL database concurrently. \n",
    "# This code is similar to your existing code but includes the database insertion step."
   ]
  },
  {
   "cell_type": "code",
   "execution_count": null,
   "id": "7eb51f4f-474d-4ce4-a34f-d8ff713efb2c",
   "metadata": {},
   "outputs": [],
   "source": [
    "with ThreadPoolExecutor(max_workers=4) as executor:\n",
    "    while True:\n",
    "        future_to_offset = {executor.submit(fetch_page, offset): offset}\n",
    "        offset += limit\n",
    "\n",
    "        for future in concurrent.futures.as_completed(future_to_offset):\n",
    "            businesses = future.result()\n",
    "\n",
    "            if not businesses:\n",
    "                break\n",
    "\n",
    "            for business in businesses:\n",
    "                # Extract data from 'business' and insert into MySQL\n",
    "                # Example: insert_query = \"INSERT INTO your_table (column1, column2) VALUES (%s, %s)\"\n",
    "                # Execute the query with the appropriate data\n",
    "\n",
    "        time.sleep(60)\n"
   ]
  },
  {
   "cell_type": "code",
   "execution_count": null,
   "id": "18dfadd2-33ca-4aab-80d2-27a81515da36",
   "metadata": {},
   "outputs": [],
   "source": [
    "# Commit and Close Database Connection:\n",
    "# After all data is inserted, commit the changes and close the database connection."
   ]
  },
  {
   "cell_type": "code",
   "execution_count": null,
   "id": "bdf66f2d-3158-46a7-9c29-ead69aabd1e0",
   "metadata": {},
   "outputs": [],
   "source": [
    "connection.commit()\n",
    "cursor.close()\n",
    "connection.close()"
   ]
  }
 ],
 "metadata": {
  "kernelspec": {
   "display_name": "Python 3 (ipykernel)",
   "language": "python",
   "name": "python3"
  },
  "language_info": {
   "codemirror_mode": {
    "name": "ipython",
    "version": 3
   },
   "file_extension": ".py",
   "mimetype": "text/x-python",
   "name": "python",
   "nbconvert_exporter": "python",
   "pygments_lexer": "ipython3",
   "version": "3.10.13"
  }
 },
 "nbformat": 4,
 "nbformat_minor": 5
}
