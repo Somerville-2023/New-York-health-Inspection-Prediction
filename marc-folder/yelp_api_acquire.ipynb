{
 "cells": [
  {
   "cell_type": "markdown",
   "id": "0299bf6b-cbec-4af8-b8d3-7580dcd73617",
   "metadata": {},
   "source": [
    "# YELP Fusion API"
   ]
  },
  {
   "cell_type": "markdown",
   "id": "b156a717-ef49-426e-a743-a913186d4b66",
   "metadata": {},
   "source": [
    "* [Fusion Authentication page](https://docs.developer.yelp.com/docs/fusion-authentication)  \n",
    "* [Yelp API docs](https://docs.developer.yelp.com/docs/getting-started)\n"
   ]
  },
  {
   "cell_type": "markdown",
   "id": "d02b5e09-2837-4fc1-9614-43d0fd6ae7a2",
   "metadata": {},
   "source": [
    "##### I have went to the hyperlink above to research the process to retrieve API Key\n",
    "\n",
    "1. Access site\n",
    "2. Sign Up for Yelp wbsite (Sign in if you have an existing account)\n",
    "3. Click 'Create App'\n",
    "4. Fill Required Information and select submit\n",
    "5. Record and save you API key in a .py file"
   ]
  },
  {
   "cell_type": "markdown",
   "id": "44bcdef7-6f44-4a53-97a7-a6f1757e1125",
   "metadata": {},
   "source": [
    "## **API Usage**\n",
    "\n",
    "## Daily API limit: *500*   **(Reviews: 3 per buisness)**"
   ]
  },
  {
   "cell_type": "code",
   "execution_count": 1,
   "id": "7a1a486f-c44b-40db-ad6c-baf8d7083d42",
   "metadata": {},
   "outputs": [],
   "source": [
    "## I may have to web scrape for a list of business ids to return reviews"
   ]
  },
  {
   "cell_type": "markdown",
   "id": "2e1425ed-3a14-4623-91c9-df214b870b84",
   "metadata": {},
   "source": [
    "### Maybe do some realtime data pipeline to store data into a database?  "
   ]
  },
  {
   "cell_type": "code",
   "execution_count": 28,
   "id": "29643a59-f6d9-4477-9ae9-f75efd1ab17b",
   "metadata": {},
   "outputs": [],
   "source": [
    "import requests\n",
    "from env import YELP_ID, YELP_API_KEY, yelp_locale_url\n",
    "\n",
    "headers = {\n",
    "    \"accept\": \"application/json\",\n",
    "    \"Authorization\": F\"Bearer {YELP_API_KEY}\"\n",
    "}\n",
    "\n",
    "response = requests.get(yelp_locale_url, headers=headers)"
   ]
  },
  {
   "cell_type": "code",
   "execution_count": 29,
   "id": "df58b795-c736-43d9-ba67-a281d53f4d26",
   "metadata": {},
   "outputs": [
    {
     "data": {
      "text/plain": [
       "<Response [200]>"
      ]
     },
     "execution_count": 29,
     "metadata": {},
     "output_type": "execute_result"
    }
   ],
   "source": [
    "response"
   ]
  },
  {
   "cell_type": "markdown",
   "id": "c95339e7-cae1-4d1f-b685-61d11049e722",
   "metadata": {},
   "source": [
    "## Checked API credentials and endpoint connection and retrieval of data; now will look for alternate pagination method per the yelp fuision api parameters"
   ]
  },
  {
   "cell_type": "code",
   "execution_count": null,
   "id": "020493f6-6ccb-4a35-913b-3ee521034ee2",
   "metadata": {},
   "outputs": [],
   "source": [
    "r = response.json()"
   ]
  },
  {
   "cell_type": "code",
   "execution_count": 33,
   "id": "21bd4a94-4f52-4b11-ab40-e57c8064ccc4",
   "metadata": {},
   "outputs": [
    {
     "data": {
      "text/plain": [
       "{'id': 'WG639VkTjmK5dzydd1BBJA',\n",
       " 'alias': 'rubirosa-new-york-2',\n",
       " 'name': 'Rubirosa',\n",
       " 'image_url': 'https://s3-media3.fl.yelpcdn.com/bphoto/l0Phrnhhj78RFiDhLIOUyQ/o.jpg',\n",
       " 'is_closed': False,\n",
       " 'url': 'https://www.yelp.com/biz/rubirosa-new-york-2?adjust_creative=_cn4uqd0Qxmkxg3N98CKKQ&utm_campaign=yelp_api_v3&utm_medium=api_v3_business_search&utm_source=_cn4uqd0Qxmkxg3N98CKKQ',\n",
       " 'review_count': 3192,\n",
       " 'categories': [{'alias': 'italian', 'title': 'Italian'},\n",
       "  {'alias': 'pizza', 'title': 'Pizza'}],\n",
       " 'rating': 4.5,\n",
       " 'coordinates': {'latitude': 40.722766, 'longitude': -73.996233},\n",
       " 'transactions': ['pickup'],\n",
       " 'price': '$$',\n",
       " 'location': {'address1': '235 Mulberry St',\n",
       "  'address2': '',\n",
       "  'address3': '',\n",
       "  'city': 'New York',\n",
       "  'zip_code': '10012',\n",
       "  'country': 'US',\n",
       "  'state': 'NY',\n",
       "  'display_address': ['235 Mulberry St', 'New York, NY 10012']},\n",
       " 'phone': '+12129650500',\n",
       " 'display_phone': '(212) 965-0500',\n",
       " 'distance': 1922.0346803084792}"
      ]
     },
     "execution_count": 33,
     "metadata": {},
     "output_type": "execute_result"
    }
   ],
   "source": [
    "r['businesses'][1]"
   ]
  },
  {
   "cell_type": "code",
   "execution_count": 4,
   "id": "4ea6bcde-8d9d-47a9-8d21-cab98b40fc26",
   "metadata": {},
   "outputs": [],
   "source": [
    "# # Make the GET request\n",
    "# response = requests.get(url, headers=headers)\n",
    "\n",
    "# # Check the response status\n",
    "# if response.status_code == 200:\n",
    "#     data = response.json()\n",
    "#     # You can now work with the data from the response\n",
    "#     # For example, you can access the reviews with data['reviews']\n",
    "# else:\n",
    "#     print(f\"Request failed with status code {response.status_code}\")"
   ]
  },
  {
   "cell_type": "markdown",
   "id": "978ad203-24c3-4784-8255-4a4a658aa314",
   "metadata": {},
   "source": [
    "  "
   ]
  },
  {
   "cell_type": "markdown",
   "id": "a6ce0ba8-fb4d-4e0d-b9ad-bad31517ff4d",
   "metadata": {},
   "source": [
    "  "
   ]
  },
  {
   "cell_type": "markdown",
   "id": "3f689841-b558-41c7-9930-37f007796f56",
   "metadata": {},
   "source": [
    "  "
   ]
  },
  {
   "cell_type": "markdown",
   "id": "738f5ece-e77c-481f-8171-8a32d23f9c94",
   "metadata": {},
   "source": [
    "  "
   ]
  },
  {
   "cell_type": "markdown",
   "id": "906b6caa-4989-4aa3-9c37-e3bbb7264bca",
   "metadata": {},
   "source": [
    "  "
   ]
  },
  {
   "cell_type": "markdown",
   "id": "c60e63d3-236d-47e6-a9fd-13fa808d8af5",
   "metadata": {},
   "source": [
    "  "
   ]
  },
  {
   "cell_type": "markdown",
   "id": "7b1cde8e-ca13-4f4b-aaf3-0f1a5ae3d2eb",
   "metadata": {},
   "source": [
    "  "
   ]
  },
  {
   "cell_type": "markdown",
   "id": "8c124092-0e2c-4eaa-a1fd-749b29b41002",
   "metadata": {},
   "source": [
    "  "
   ]
  },
  {
   "cell_type": "markdown",
   "id": "6496ad09-a66f-4501-a42c-b0ae4d83d2da",
   "metadata": {},
   "source": [
    "  "
   ]
  },
  {
   "cell_type": "markdown",
   "id": "4e2adbcc-bfbd-416e-8b23-d916e2932972",
   "metadata": {},
   "source": [
    "## Referencing the Fusion Yelp API below is the best method to paginate the data to first retrieve the business_ids in order for us to search and retrieve reviews for those specified businesses."
   ]
  },
  {
   "cell_type": "code",
   "execution_count": 35,
   "id": "58095d18-77cd-4e84-b029-b23f3e229162",
   "metadata": {},
   "outputs": [
    {
     "name": "stdout",
     "output_type": "stream",
     "text": [
      "Failed to retrieve data. Status code: 503\n"
     ]
    }
   ],
   "source": [
    "# required imports to implement paginatiom\n",
    "import requests\n",
    "import pandas as pd\n",
    "import time\n",
    "# env.py imports\n",
    "from env import YELP_ID, YELP_API_KEY, yelp_locale_url\n",
    "\n",
    "# API credentials and endpoint\n",
    "api_key = YELP_API_KEY\n",
    "api_endpoint = 'https://api.yelp.com/v3/businesses/search'\n",
    "\n",
    "# Pagination parameters per the API businesses reference page\n",
    "limit = 50  # Number of results per page\n",
    "offset = 0  # Start with the first page\n",
    "\n",
    "all_businesses = []  # List to store all business data\n",
    "\n",
    "# Create the request URL with the 'limit' and 'offset' parameters\n",
    "url = f'{api_endpoint}?location=New+York&limit={limit}&offset={offset}'\n",
    "\n",
    "# While loop to make calls and retrieve data in a managable way by chunks\n",
    "while True:\n",
    "    headers = {\n",
    "        'Authorization': f'Bearer {YELP_API_KEY}'\n",
    "    }\n",
    "\n",
    "    response = requests.get(url, headers=headers)\n",
    "\n",
    "    # reponse code check\n",
    "    if response.status_code != 200:\n",
    "        print(f\"Failed to retrieve data. Status code: {response.status_code}\")\n",
    "        break\n",
    "\n",
    "    businesses = response.json().get('businesses', [])\n",
    "\n",
    "    if not businesses:\n",
    "        # No more results to fetch\n",
    "        break\n",
    "\n",
    "    # add data to all_businesses list\n",
    "    all_businesses.extend(businesses)\n",
    "    offset += limit  # Move to the next page\n",
    "\n",
    "    # Sleep for 60 seconds to respect QPS rate limiting\n",
    "    time.sleep(60)\n",
    "\n",
    "# Now 'all_businesses' contains all the retrieved business data\n",
    "\n",
    "# Convert the data into a DataFrame\n",
    "df = pd.DataFrame(all_businesses)"
   ]
  },
  {
   "cell_type": "markdown",
   "id": "f4d2c59b-2d0d-49be-932a-b369c666a3e0",
   "metadata": {},
   "source": [
    "  "
   ]
  },
  {
   "cell_type": "markdown",
   "id": "1db0daf6-aef6-4384-97b8-2893ea3ede45",
   "metadata": {},
   "source": [
    "  "
   ]
  },
  {
   "cell_type": "markdown",
   "id": "369b30a1-99f8-459a-9ea7-4d5d84190b5c",
   "metadata": {},
   "source": [
    "  "
   ]
  },
  {
   "cell_type": "markdown",
   "id": "aebdd25e-4c44-40ff-8720-85a1bf06f226",
   "metadata": {},
   "source": [
    "  "
   ]
  },
  {
   "cell_type": "markdown",
   "id": "9f3f5858-ca45-45aa-9afc-27f70e1adab6",
   "metadata": {},
   "source": [
    "  "
   ]
  },
  {
   "cell_type": "markdown",
   "id": "ebf6a37f-8595-4061-b3ff-d1980755bd9f",
   "metadata": {},
   "source": [
    "  "
   ]
  },
  {
   "cell_type": "markdown",
   "id": "e548bbe0-18b0-48cc-8ad4-a0883baf4299",
   "metadata": {},
   "source": [
    "## Looking at the yelp business dataframe and ensure good data is being used to cross reference"
   ]
  },
  {
   "cell_type": "code",
   "execution_count": 36,
   "id": "9e9ae496-9c7d-4d21-b975-277c27c12ebb",
   "metadata": {},
   "outputs": [
    {
     "name": "stdout",
     "output_type": "stream",
     "text": [
      "<class 'pandas.core.frame.DataFrame'>\n",
      "RangeIndex: 29200 entries, 0 to 29199\n",
      "Data columns (total 16 columns):\n",
      " #   Column         Non-Null Count  Dtype  \n",
      "---  ------         --------------  -----  \n",
      " 0   id             29200 non-null  object \n",
      " 1   alias          29200 non-null  object \n",
      " 2   name           29200 non-null  object \n",
      " 3   image_url      29200 non-null  object \n",
      " 4   is_closed      29200 non-null  bool   \n",
      " 5   url            29200 non-null  object \n",
      " 6   review_count   29200 non-null  int64  \n",
      " 7   categories     29200 non-null  object \n",
      " 8   rating         29200 non-null  float64\n",
      " 9   coordinates    29200 non-null  object \n",
      " 10  transactions   29200 non-null  object \n",
      " 11  price          28873 non-null  object \n",
      " 12  location       29200 non-null  object \n",
      " 13  phone          29200 non-null  object \n",
      " 14  display_phone  29200 non-null  object \n",
      " 15  distance       29200 non-null  float64\n",
      "dtypes: bool(1), float64(2), int64(1), object(12)\n",
      "memory usage: 3.4+ MB\n"
     ]
    }
   ],
   "source": [
    "df.info()"
   ]
  },
  {
   "cell_type": "markdown",
   "id": "735e7d79-435b-4336-a002-744ad54f386e",
   "metadata": {},
   "source": [
    "## After checking it, decided to cache the data into a csv file for easier retrieval; may visit if time permits to pipeline into a database with live data being used as it is updated."
   ]
  },
  {
   "cell_type": "code",
   "execution_count": 41,
   "id": "e7befb5d-ffdd-4e1e-b5da-cda250dfa04c",
   "metadata": {},
   "outputs": [],
   "source": [
    "df.to_csv('yelp_businesseso.csv', index=False)"
   ]
  },
  {
   "cell_type": "code",
   "execution_count": 42,
   "id": "c07e3a09-b199-47fa-9c37-f90b858f294f",
   "metadata": {
    "scrolled": true
   },
   "outputs": [
    {
     "data": {
      "text/html": [
       "<div>\n",
       "<style scoped>\n",
       "    .dataframe tbody tr th:only-of-type {\n",
       "        vertical-align: middle;\n",
       "    }\n",
       "\n",
       "    .dataframe tbody tr th {\n",
       "        vertical-align: top;\n",
       "    }\n",
       "\n",
       "    .dataframe thead th {\n",
       "        text-align: right;\n",
       "    }\n",
       "</style>\n",
       "<table border=\"1\" class=\"dataframe\">\n",
       "  <thead>\n",
       "    <tr style=\"text-align: right;\">\n",
       "      <th></th>\n",
       "      <th>id</th>\n",
       "      <th>alias</th>\n",
       "      <th>name</th>\n",
       "      <th>image_url</th>\n",
       "      <th>is_closed</th>\n",
       "      <th>url</th>\n",
       "      <th>review_count</th>\n",
       "      <th>categories</th>\n",
       "      <th>rating</th>\n",
       "      <th>coordinates</th>\n",
       "      <th>transactions</th>\n",
       "      <th>price</th>\n",
       "      <th>location</th>\n",
       "      <th>phone</th>\n",
       "      <th>display_phone</th>\n",
       "      <th>distance</th>\n",
       "    </tr>\n",
       "  </thead>\n",
       "  <tbody>\n",
       "    <tr>\n",
       "      <th>0</th>\n",
       "      <td>veq1Bl1DW3UWMekZJUsG1Q</td>\n",
       "      <td>gramercy-tavern-new-york</td>\n",
       "      <td>Gramercy Tavern</td>\n",
       "      <td>https://s3-media2.fl.yelpcdn.com/bphoto/f14WAm...</td>\n",
       "      <td>False</td>\n",
       "      <td>https://www.yelp.com/biz/gramercy-tavern-new-y...</td>\n",
       "      <td>3403</td>\n",
       "      <td>[{'alias': 'newamerican', 'title': 'American (...</td>\n",
       "      <td>4.5</td>\n",
       "      <td>{'latitude': 40.73844, 'longitude': -73.98825}</td>\n",
       "      <td>[delivery]</td>\n",
       "      <td>$$$$</td>\n",
       "      <td>{'address1': '42 E 20th St', 'address2': '', '...</td>\n",
       "      <td>+12124770777</td>\n",
       "      <td>(212) 477-0777</td>\n",
       "      <td>3695.639928</td>\n",
       "    </tr>\n",
       "    <tr>\n",
       "      <th>1</th>\n",
       "      <td>ysqgdbSrezXgVwER2kQWKA</td>\n",
       "      <td>julianas-brooklyn-3</td>\n",
       "      <td>Juliana's</td>\n",
       "      <td>https://s3-media2.fl.yelpcdn.com/bphoto/od36nF...</td>\n",
       "      <td>False</td>\n",
       "      <td>https://www.yelp.com/biz/julianas-brooklyn-3?a...</td>\n",
       "      <td>2700</td>\n",
       "      <td>[{'alias': 'pizza', 'title': 'Pizza'}]</td>\n",
       "      <td>4.5</td>\n",
       "      <td>{'latitude': 40.70274718768062, 'longitude': -...</td>\n",
       "      <td>[delivery]</td>\n",
       "      <td>$$</td>\n",
       "      <td>{'address1': '19 Old Fulton St', 'address2': '...</td>\n",
       "      <td>+17185966700</td>\n",
       "      <td>(718) 596-6700</td>\n",
       "      <td>318.876261</td>\n",
       "    </tr>\n",
       "    <tr>\n",
       "      <th>2</th>\n",
       "      <td>nRO136GRieGtxz18uD61DA</td>\n",
       "      <td>eleven-madison-park-new-york</td>\n",
       "      <td>Eleven Madison Park</td>\n",
       "      <td>https://s3-media1.fl.yelpcdn.com/bphoto/s_H7gm...</td>\n",
       "      <td>False</td>\n",
       "      <td>https://www.yelp.com/biz/eleven-madison-park-n...</td>\n",
       "      <td>2451</td>\n",
       "      <td>[{'alias': 'newamerican', 'title': 'American (...</td>\n",
       "      <td>4.5</td>\n",
       "      <td>{'latitude': 40.7416907417333, 'longitude': -7...</td>\n",
       "      <td>[]</td>\n",
       "      <td>$$$$</td>\n",
       "      <td>{'address1': '11 Madison Ave', 'address2': '',...</td>\n",
       "      <td>+12128890905</td>\n",
       "      <td>(212) 889-0905</td>\n",
       "      <td>4062.929570</td>\n",
       "    </tr>\n",
       "    <tr>\n",
       "      <th>3</th>\n",
       "      <td>h37t9rA06Sr4EetJjKrfzw</td>\n",
       "      <td>don-angie-new-york</td>\n",
       "      <td>Don Angie</td>\n",
       "      <td>https://s3-media2.fl.yelpcdn.com/bphoto/onJX6_...</td>\n",
       "      <td>False</td>\n",
       "      <td>https://www.yelp.com/biz/don-angie-new-york?ad...</td>\n",
       "      <td>785</td>\n",
       "      <td>[{'alias': 'italian', 'title': 'Italian'}, {'a...</td>\n",
       "      <td>4.5</td>\n",
       "      <td>{'latitude': 40.73778, 'longitude': -74.00197}</td>\n",
       "      <td>[delivery]</td>\n",
       "      <td>$$$</td>\n",
       "      <td>{'address1': '103 Greenwich Ave', 'address2': ...</td>\n",
       "      <td>+12128898884</td>\n",
       "      <td>(212) 889-8884</td>\n",
       "      <td>3646.541688</td>\n",
       "    </tr>\n",
       "    <tr>\n",
       "      <th>4</th>\n",
       "      <td>O1fUmxt3kbV-rnyjBtzAfw</td>\n",
       "      <td>thep-thai-restaurant-new-york-5</td>\n",
       "      <td>THEP Thai Restaurant</td>\n",
       "      <td>https://s3-media3.fl.yelpcdn.com/bphoto/WymEpZ...</td>\n",
       "      <td>False</td>\n",
       "      <td>https://www.yelp.com/biz/thep-thai-restaurant-...</td>\n",
       "      <td>2790</td>\n",
       "      <td>[{'alias': 'thai', 'title': 'Thai'}, {'alias':...</td>\n",
       "      <td>4.5</td>\n",
       "      <td>{'latitude': 40.77078, 'longitude': -73.95727}</td>\n",
       "      <td>[pickup, delivery]</td>\n",
       "      <td>$$</td>\n",
       "      <td>{'address1': '1439 2nd Ave', 'address2': '', '...</td>\n",
       "      <td>+12128999995</td>\n",
       "      <td>(212) 899-9995</td>\n",
       "      <td>7893.531804</td>\n",
       "    </tr>\n",
       "  </tbody>\n",
       "</table>\n",
       "</div>"
      ],
      "text/plain": [
       "                       id                            alias  \\\n",
       "0  veq1Bl1DW3UWMekZJUsG1Q         gramercy-tavern-new-york   \n",
       "1  ysqgdbSrezXgVwER2kQWKA              julianas-brooklyn-3   \n",
       "2  nRO136GRieGtxz18uD61DA     eleven-madison-park-new-york   \n",
       "3  h37t9rA06Sr4EetJjKrfzw               don-angie-new-york   \n",
       "4  O1fUmxt3kbV-rnyjBtzAfw  thep-thai-restaurant-new-york-5   \n",
       "\n",
       "                   name                                          image_url  \\\n",
       "0       Gramercy Tavern  https://s3-media2.fl.yelpcdn.com/bphoto/f14WAm...   \n",
       "1             Juliana's  https://s3-media2.fl.yelpcdn.com/bphoto/od36nF...   \n",
       "2   Eleven Madison Park  https://s3-media1.fl.yelpcdn.com/bphoto/s_H7gm...   \n",
       "3             Don Angie  https://s3-media2.fl.yelpcdn.com/bphoto/onJX6_...   \n",
       "4  THEP Thai Restaurant  https://s3-media3.fl.yelpcdn.com/bphoto/WymEpZ...   \n",
       "\n",
       "   is_closed                                                url  review_count  \\\n",
       "0      False  https://www.yelp.com/biz/gramercy-tavern-new-y...          3403   \n",
       "1      False  https://www.yelp.com/biz/julianas-brooklyn-3?a...          2700   \n",
       "2      False  https://www.yelp.com/biz/eleven-madison-park-n...          2451   \n",
       "3      False  https://www.yelp.com/biz/don-angie-new-york?ad...           785   \n",
       "4      False  https://www.yelp.com/biz/thep-thai-restaurant-...          2790   \n",
       "\n",
       "                                          categories  rating  \\\n",
       "0  [{'alias': 'newamerican', 'title': 'American (...     4.5   \n",
       "1             [{'alias': 'pizza', 'title': 'Pizza'}]     4.5   \n",
       "2  [{'alias': 'newamerican', 'title': 'American (...     4.5   \n",
       "3  [{'alias': 'italian', 'title': 'Italian'}, {'a...     4.5   \n",
       "4  [{'alias': 'thai', 'title': 'Thai'}, {'alias':...     4.5   \n",
       "\n",
       "                                         coordinates        transactions  \\\n",
       "0     {'latitude': 40.73844, 'longitude': -73.98825}          [delivery]   \n",
       "1  {'latitude': 40.70274718768062, 'longitude': -...          [delivery]   \n",
       "2  {'latitude': 40.7416907417333, 'longitude': -7...                  []   \n",
       "3     {'latitude': 40.73778, 'longitude': -74.00197}          [delivery]   \n",
       "4     {'latitude': 40.77078, 'longitude': -73.95727}  [pickup, delivery]   \n",
       "\n",
       "  price                                           location         phone  \\\n",
       "0  $$$$  {'address1': '42 E 20th St', 'address2': '', '...  +12124770777   \n",
       "1    $$  {'address1': '19 Old Fulton St', 'address2': '...  +17185966700   \n",
       "2  $$$$  {'address1': '11 Madison Ave', 'address2': '',...  +12128890905   \n",
       "3   $$$  {'address1': '103 Greenwich Ave', 'address2': ...  +12128898884   \n",
       "4    $$  {'address1': '1439 2nd Ave', 'address2': '', '...  +12128999995   \n",
       "\n",
       "    display_phone     distance  \n",
       "0  (212) 477-0777  3695.639928  \n",
       "1  (718) 596-6700   318.876261  \n",
       "2  (212) 889-0905  4062.929570  \n",
       "3  (212) 889-8884  3646.541688  \n",
       "4  (212) 899-9995  7893.531804  "
      ]
     },
     "execution_count": 42,
     "metadata": {},
     "output_type": "execute_result"
    }
   ],
   "source": [
    "df.head()"
   ]
  },
  {
   "cell_type": "markdown",
   "id": "dad90385-c41a-45df-bc39-cfc58ecabbb5",
   "metadata": {},
   "source": [
    "  "
   ]
  },
  {
   "cell_type": "markdown",
   "id": "5916a95a-d70f-4b1e-a262-11f60c067d2a",
   "metadata": {},
   "source": [
    "  "
   ]
  },
  {
   "cell_type": "markdown",
   "id": "7fe77dc0-e049-4485-a454-6664160443ea",
   "metadata": {},
   "source": [
    "  "
   ]
  },
  {
   "cell_type": "markdown",
   "id": "d1e76e2c-6b36-4320-9edb-77f8189655d4",
   "metadata": {},
   "source": [
    "  "
   ]
  },
  {
   "cell_type": "markdown",
   "id": "3ee71d83-0a56-4b61-95aa-0493ab6c3330",
   "metadata": {},
   "source": [
    "  "
   ]
  },
  {
   "cell_type": "markdown",
   "id": "52e10792-9f0a-4af8-8f70-ff4ba1e13959",
   "metadata": {},
   "source": [
    "  "
   ]
  },
  {
   "cell_type": "markdown",
   "id": "6fcb6b73-a86a-4680-bbb1-8cd1dc99aea5",
   "metadata": {},
   "source": [
    " ## I loaded the ny data that nick prepped to strategize what can be done here to match the dataframe here to have some usable business_id's to retrieve the reviews for respective businesses. This may involve a library outside of our knowledge scope. \n",
    "\n",
    "### - I'm thinking spacy or fuzzwuzzy that uses accuracy ratio based on a matching algorithm. but I think i'm just going to use the python NLTK library"
   ]
  },
  {
   "cell_type": "code",
   "execution_count": 50,
   "id": "a5baafaf-faf3-4971-bfa0-bc0adb94100d",
   "metadata": {},
   "outputs": [],
   "source": [
    "ny_df = pd.read_csv('ny.csv')"
   ]
  },
  {
   "cell_type": "code",
   "execution_count": 49,
   "id": "a0f7e956-e521-4b14-977d-7a1eea813cd3",
   "metadata": {
    "scrolled": true
   },
   "outputs": [
    {
     "name": "stdout",
     "output_type": "stream",
     "text": [
      "<class 'pandas.core.frame.DataFrame'>\n",
      "RangeIndex: 207929 entries, 0 to 207928\n",
      "Data columns (total 26 columns):\n",
      " #   Column                 Non-Null Count   Dtype  \n",
      "---  ------                 --------------   -----  \n",
      " 0   camis                  207929 non-null  int64  \n",
      " 1   dba                    207421 non-null  object \n",
      " 2   boro                   207929 non-null  object \n",
      " 3   building               207578 non-null  object \n",
      " 4   street                 207923 non-null  object \n",
      " 5   zipcode                205249 non-null  float64\n",
      " 6   phone                  207922 non-null  object \n",
      " 7   inspection_date        207929 non-null  object \n",
      " 8   critical_flag          207929 non-null  object \n",
      " 9   record_date            207929 non-null  object \n",
      " 10  latitude               207672 non-null  float64\n",
      " 11  longitude              207672 non-null  float64\n",
      " 12  community_board        204682 non-null  float64\n",
      " 13  council_district       204678 non-null  float64\n",
      " 14  census_tract           204678 non-null  float64\n",
      " 15  bin                    203692 non-null  float64\n",
      " 16  bbl                    207356 non-null  float64\n",
      " 17  nta                    204682 non-null  object \n",
      " 18  cuisine_description    205624 non-null  object \n",
      " 19  action                 205624 non-null  object \n",
      " 20  violation_code         204477 non-null  object \n",
      " 21  violation_description  204477 non-null  object \n",
      " 22  score                  198223 non-null  float64\n",
      " 23  grade                  102176 non-null  object \n",
      " 24  grade_date             93423 non-null   object \n",
      " 25  inspection_type        205624 non-null  object \n",
      "dtypes: float64(9), int64(1), object(16)\n",
      "memory usage: 41.2+ MB\n"
     ]
    }
   ],
   "source": [
    "ny_df.info()"
   ]
  },
  {
   "cell_type": "code",
   "execution_count": 46,
   "id": "a34cba12-04d2-4402-902b-959617afdc11",
   "metadata": {},
   "outputs": [
    {
     "data": {
      "text/html": [
       "<div>\n",
       "<style scoped>\n",
       "    .dataframe tbody tr th:only-of-type {\n",
       "        vertical-align: middle;\n",
       "    }\n",
       "\n",
       "    .dataframe tbody tr th {\n",
       "        vertical-align: top;\n",
       "    }\n",
       "\n",
       "    .dataframe thead th {\n",
       "        text-align: right;\n",
       "    }\n",
       "</style>\n",
       "<table border=\"1\" class=\"dataframe\">\n",
       "  <thead>\n",
       "    <tr style=\"text-align: right;\">\n",
       "      <th></th>\n",
       "      <th>camis</th>\n",
       "      <th>dba</th>\n",
       "      <th>boro</th>\n",
       "      <th>building</th>\n",
       "      <th>street</th>\n",
       "      <th>zipcode</th>\n",
       "      <th>phone</th>\n",
       "      <th>inspection_date</th>\n",
       "      <th>critical_flag</th>\n",
       "      <th>record_date</th>\n",
       "      <th>...</th>\n",
       "      <th>bbl</th>\n",
       "      <th>nta</th>\n",
       "      <th>cuisine_description</th>\n",
       "      <th>action</th>\n",
       "      <th>violation_code</th>\n",
       "      <th>violation_description</th>\n",
       "      <th>score</th>\n",
       "      <th>grade</th>\n",
       "      <th>grade_date</th>\n",
       "      <th>inspection_type</th>\n",
       "    </tr>\n",
       "  </thead>\n",
       "  <tbody>\n",
       "    <tr>\n",
       "      <th>0</th>\n",
       "      <td>50106756</td>\n",
       "      <td>UNGARO COAL FIRED PIZZA CAFE</td>\n",
       "      <td>Staten Island</td>\n",
       "      <td>1298</td>\n",
       "      <td>FOREST AVENUE</td>\n",
       "      <td>10302.0</td>\n",
       "      <td>6464690930</td>\n",
       "      <td>1900-01-01T00:00:00.000</td>\n",
       "      <td>Not Applicable</td>\n",
       "      <td>2023-10-26T06:00:14.000</td>\n",
       "      <td>...</td>\n",
       "      <td>5.003870e+09</td>\n",
       "      <td>SI07</td>\n",
       "      <td>NaN</td>\n",
       "      <td>NaN</td>\n",
       "      <td>NaN</td>\n",
       "      <td>NaN</td>\n",
       "      <td>NaN</td>\n",
       "      <td>NaN</td>\n",
       "      <td>NaN</td>\n",
       "      <td>NaN</td>\n",
       "    </tr>\n",
       "    <tr>\n",
       "      <th>1</th>\n",
       "      <td>50105716</td>\n",
       "      <td>STELLA'S</td>\n",
       "      <td>Brooklyn</td>\n",
       "      <td>559</td>\n",
       "      <td>5 AVENUE</td>\n",
       "      <td>11215.0</td>\n",
       "      <td>4155703174</td>\n",
       "      <td>1900-01-01T00:00:00.000</td>\n",
       "      <td>Not Applicable</td>\n",
       "      <td>2023-10-26T06:00:14.000</td>\n",
       "      <td>...</td>\n",
       "      <td>3.010480e+09</td>\n",
       "      <td>BK37</td>\n",
       "      <td>NaN</td>\n",
       "      <td>NaN</td>\n",
       "      <td>NaN</td>\n",
       "      <td>NaN</td>\n",
       "      <td>NaN</td>\n",
       "      <td>NaN</td>\n",
       "      <td>NaN</td>\n",
       "      <td>NaN</td>\n",
       "    </tr>\n",
       "    <tr>\n",
       "      <th>2</th>\n",
       "      <td>41168748</td>\n",
       "      <td>DUNKIN</td>\n",
       "      <td>Bronx</td>\n",
       "      <td>880</td>\n",
       "      <td>GARRISON AVENUE</td>\n",
       "      <td>10474.0</td>\n",
       "      <td>7188614171</td>\n",
       "      <td>2022-03-30T00:00:00.000</td>\n",
       "      <td>Not Critical</td>\n",
       "      <td>2023-10-26T06:00:11.000</td>\n",
       "      <td>...</td>\n",
       "      <td>2.027390e+09</td>\n",
       "      <td>BX27</td>\n",
       "      <td>Donuts</td>\n",
       "      <td>Violations were cited in the following area(s).</td>\n",
       "      <td>10J</td>\n",
       "      <td>Hand wash sign not posted</td>\n",
       "      <td>13.0</td>\n",
       "      <td>A</td>\n",
       "      <td>2022-03-30T00:00:00.000</td>\n",
       "      <td>Cycle Inspection / Initial Inspection</td>\n",
       "    </tr>\n",
       "    <tr>\n",
       "      <th>3</th>\n",
       "      <td>50131566</td>\n",
       "      <td>EXTACY LOUNGE</td>\n",
       "      <td>Queens</td>\n",
       "      <td>7701</td>\n",
       "      <td>JAMAICA AVE</td>\n",
       "      <td>11421.0</td>\n",
       "      <td>3478752367</td>\n",
       "      <td>1900-01-01T00:00:00.000</td>\n",
       "      <td>Not Applicable</td>\n",
       "      <td>2023-10-26T06:00:14.000</td>\n",
       "      <td>...</td>\n",
       "      <td>4.088410e+09</td>\n",
       "      <td>QN53</td>\n",
       "      <td>NaN</td>\n",
       "      <td>NaN</td>\n",
       "      <td>NaN</td>\n",
       "      <td>NaN</td>\n",
       "      <td>NaN</td>\n",
       "      <td>NaN</td>\n",
       "      <td>NaN</td>\n",
       "      <td>NaN</td>\n",
       "    </tr>\n",
       "    <tr>\n",
       "      <th>4</th>\n",
       "      <td>50128764</td>\n",
       "      <td>RUNNING KIDS</td>\n",
       "      <td>Brooklyn</td>\n",
       "      <td>856</td>\n",
       "      <td>64 STREET</td>\n",
       "      <td>11220.0</td>\n",
       "      <td>7188338856</td>\n",
       "      <td>1900-01-01T00:00:00.000</td>\n",
       "      <td>Not Applicable</td>\n",
       "      <td>2023-10-26T06:00:14.000</td>\n",
       "      <td>...</td>\n",
       "      <td>3.057420e+09</td>\n",
       "      <td>BK34</td>\n",
       "      <td>NaN</td>\n",
       "      <td>NaN</td>\n",
       "      <td>NaN</td>\n",
       "      <td>NaN</td>\n",
       "      <td>NaN</td>\n",
       "      <td>NaN</td>\n",
       "      <td>NaN</td>\n",
       "      <td>NaN</td>\n",
       "    </tr>\n",
       "  </tbody>\n",
       "</table>\n",
       "<p>5 rows × 26 columns</p>\n",
       "</div>"
      ],
      "text/plain": [
       "      camis                           dba           boro building  \\\n",
       "0  50106756  UNGARO COAL FIRED PIZZA CAFE  Staten Island     1298   \n",
       "1  50105716                      STELLA'S       Brooklyn      559   \n",
       "2  41168748                        DUNKIN          Bronx      880   \n",
       "3  50131566                 EXTACY LOUNGE         Queens     7701   \n",
       "4  50128764                  RUNNING KIDS       Brooklyn      856   \n",
       "\n",
       "            street  zipcode       phone          inspection_date  \\\n",
       "0    FOREST AVENUE  10302.0  6464690930  1900-01-01T00:00:00.000   \n",
       "1         5 AVENUE  11215.0  4155703174  1900-01-01T00:00:00.000   \n",
       "2  GARRISON AVENUE  10474.0  7188614171  2022-03-30T00:00:00.000   \n",
       "3      JAMAICA AVE  11421.0  3478752367  1900-01-01T00:00:00.000   \n",
       "4        64 STREET  11220.0  7188338856  1900-01-01T00:00:00.000   \n",
       "\n",
       "    critical_flag              record_date  ...           bbl   nta  \\\n",
       "0  Not Applicable  2023-10-26T06:00:14.000  ...  5.003870e+09  SI07   \n",
       "1  Not Applicable  2023-10-26T06:00:14.000  ...  3.010480e+09  BK37   \n",
       "2    Not Critical  2023-10-26T06:00:11.000  ...  2.027390e+09  BX27   \n",
       "3  Not Applicable  2023-10-26T06:00:14.000  ...  4.088410e+09  QN53   \n",
       "4  Not Applicable  2023-10-26T06:00:14.000  ...  3.057420e+09  BK34   \n",
       "\n",
       "   cuisine_description                                           action  \\\n",
       "0                  NaN                                              NaN   \n",
       "1                  NaN                                              NaN   \n",
       "2               Donuts  Violations were cited in the following area(s).   \n",
       "3                  NaN                                              NaN   \n",
       "4                  NaN                                              NaN   \n",
       "\n",
       "   violation_code      violation_description  score grade  \\\n",
       "0             NaN                        NaN    NaN   NaN   \n",
       "1             NaN                        NaN    NaN   NaN   \n",
       "2             10J  Hand wash sign not posted   13.0     A   \n",
       "3             NaN                        NaN    NaN   NaN   \n",
       "4             NaN                        NaN    NaN   NaN   \n",
       "\n",
       "                grade_date                        inspection_type  \n",
       "0                      NaN                                    NaN  \n",
       "1                      NaN                                    NaN  \n",
       "2  2022-03-30T00:00:00.000  Cycle Inspection / Initial Inspection  \n",
       "3                      NaN                                    NaN  \n",
       "4                      NaN                                    NaN  \n",
       "\n",
       "[5 rows x 26 columns]"
      ]
     },
     "execution_count": 46,
     "metadata": {},
     "output_type": "execute_result"
    }
   ],
   "source": [
    "ny_df.head()"
   ]
  },
  {
   "cell_type": "markdown",
   "id": "23ecc14b-855f-439e-b49b-887625db10a8",
   "metadata": {},
   "source": [
    "  "
   ]
  },
  {
   "cell_type": "markdown",
   "id": "f6434001-34be-4f94-a21c-82cf257549d4",
   "metadata": {},
   "source": [
    "  "
   ]
  },
  {
   "cell_type": "markdown",
   "id": "8160f87f-863f-44be-b816-480e669df2b5",
   "metadata": {},
   "source": [
    "  "
   ]
  },
  {
   "cell_type": "markdown",
   "id": "3e1c84f2-e89d-4d7c-956a-ea39849396bf",
   "metadata": {},
   "source": [
    "  "
   ]
  },
  {
   "cell_type": "markdown",
   "id": "8b25b4b5-8508-4aba-bfa1-fa3aa51c9c58",
   "metadata": {},
   "source": [
    "  "
   ]
  },
  {
   "cell_type": "markdown",
   "id": "3969e9be-825f-40b7-8caa-7a3892c39009",
   "metadata": {},
   "source": [
    "  "
   ]
  },
  {
   "cell_type": "markdown",
   "id": "7c45a7f2-5431-4e85-80e1-61b8bc5ce952",
   "metadata": {},
   "source": [
    "  "
   ]
  },
  {
   "cell_type": "markdown",
   "id": "299f7a44-119f-4770-b7ae-d3882e01b60f",
   "metadata": {},
   "source": [
    "## Matching ny businesses with yelp ids for review retrieval using NLTK/Regex"
   ]
  },
  {
   "cell_type": "code",
   "execution_count": null,
   "id": "ee33f75d-22e0-4be7-a955-ec5fc64686fc",
   "metadata": {},
   "outputs": [
    {
     "name": "stderr",
     "output_type": "stream",
     "text": [
      "[nltk_data] Downloading package stopwords to C:\\Users\\Marc\n",
      "[nltk_data]     Aradillas\\AppData\\Roaming\\nltk_data...\n",
      "[nltk_data]   Package stopwords is already up-to-date!\n",
      "[nltk_data] Downloading package punkt to C:\\Users\\Marc\n",
      "[nltk_data]     Aradillas\\AppData\\Roaming\\nltk_data...\n",
      "[nltk_data]   Package punkt is already up-to-date!\n"
     ]
    }
   ],
   "source": [
    "# decided to go with NLTK versus the pretrained models \n",
    "import nltk\n",
    "from nltk.tokenize import word_tokenize\n",
    "from nltk.metrics import jaccard_distance\n",
    "from nltk.corpus import stopwords\n",
    "\n",
    "# Load NLTK stopwords\n",
    "# nltk.download('stopwords')\n",
    "# nltk.download('punkt')\n",
    "\n",
    "# load dataframes\n",
    "yelp_df = pd.read_csv('yelp_businesses.csv')\n",
    "ny_df = pd.read_csv('ny.csv')\n",
    "\n",
    "# Preprocess the 'name' and 'dba' columns (lowercased the string values and used strip for the white spaces\n",
    "yelp_df['name'] = yelp_df['name'].str.lower().str.strip()\n",
    "ny_df['dba'] = ny_df['dba'].str.lower().str.strip()\n",
    "\n",
    "# setup an empty dictionary to store matched IDs with 'dba' as keys and Yelp IDs as values\n",
    "matched_ids = {}\n",
    "\n",
    "# defined a set of stopwords\n",
    "stop_words = set(stopwords.words('english'))\n",
    "\n",
    "# for loop to iterate through businesses in the Yelp dataframe\n",
    "for index, yelp_row in yelp_df.iterrows():\n",
    "    yelp_name = yelp_row['name']\n",
    "    yelp_tokens = set(word_tokenize(yelp_name))\n",
    "    \n",
    "    best_match_score = float('inf')  # Initialize with a high value\n",
    "    best_match_id = None\n",
    "\n",
    "    # second for loop to iterate through businesses in the NY Open Data dataframe\n",
    "    for ny_index, ny_row in ny_df.iterrows():\n",
    "        ny_dba = ny_row['dba']\n",
    "        \n",
    "        try:\n",
    "            ny_tokens = set(word_tokenize(ny_dba))\n",
    "        except TypeError:\n",
    "            continue  # Skip entries that cannot be tokenized\n",
    "        \n",
    "        # Calculate Jaccard similarity and remove stopwords\n",
    "        jaccard_sim = 1 - jaccard_distance(yelp_tokens - stop_words, ny_tokens - stop_words)\n",
    "\n",
    "        # Update the best match if the similarity score is higher\n",
    "        if jaccard_sim < best_match_score:\n",
    "            best_match_score = jaccard_sim\n",
    "            best_match_id = yelp_row['id']\n",
    "\n",
    "    # Check if the best match meets your similarity threshold\n",
    "    if best_match_score <= 0.2:  # You can adjust the threshold based on your data\n",
    "        matched_ids[yelp_name] = best_match_id"
   ]
  }
 ],
 "metadata": {
  "kernelspec": {
   "display_name": "Python 3 (ipykernel)",
   "language": "python",
   "name": "python3"
  },
  "language_info": {
   "codemirror_mode": {
    "name": "ipython",
    "version": 3
   },
   "file_extension": ".py",
   "mimetype": "text/x-python",
   "name": "python",
   "nbconvert_exporter": "python",
   "pygments_lexer": "ipython3",
   "version": "3.10.12"
  }
 },
 "nbformat": 4,
 "nbformat_minor": 5
}
