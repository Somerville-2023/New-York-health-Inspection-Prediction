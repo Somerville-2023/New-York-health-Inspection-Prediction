{
 "cells": [
  {
   "cell_type": "markdown",
   "id": "0299bf6b-cbec-4af8-b8d3-7580dcd73617",
   "metadata": {},
   "source": [
    "# YELP Fusion API"
   ]
  },
  {
   "cell_type": "markdown",
   "id": "b156a717-ef49-426e-a743-a913186d4b66",
   "metadata": {},
   "source": [
    "* [Fusion Authentication page](https://docs.developer.yelp.com/docs/fusion-authentication)  \n",
    "* [Yelp API docs](https://docs.developer.yelp.com/docs/getting-started)\n"
   ]
  },
  {
   "cell_type": "markdown",
   "id": "d02b5e09-2837-4fc1-9614-43d0fd6ae7a2",
   "metadata": {},
   "source": [
    "##### I have went to the hyperlink above to research the process to retrieve API Key\n",
    "\n",
    "1. Access site\n",
    "2. Sign Up for Yelp wbsite (Sign in if you have an existing account)\n",
    "3. Click 'Create App'\n",
    "4. Fill Required Information and select submit\n",
    "5. Record and save you API key in a .py file"
   ]
  },
  {
   "cell_type": "markdown",
   "id": "44bcdef7-6f44-4a53-97a7-a6f1757e1125",
   "metadata": {},
   "source": [
    "## **API Usage**\n",
    "\n",
    "## Daily API limit: *500*   **(Reviews: 3 per buisness)**"
   ]
  },
  {
   "cell_type": "markdown",
   "id": "2e1425ed-3a14-4623-91c9-df214b870b84",
   "metadata": {},
   "source": [
    "### Maybe do some realtime data pipeline to store data into a database?  "
   ]
  },
  {
   "cell_type": "code",
   "execution_count": 2,
   "id": "29643a59-f6d9-4477-9ae9-f75efd1ab17b",
   "metadata": {},
   "outputs": [],
   "source": [
    "import requests\n",
    "from env \n",
    "\n",
    "api_key = 'YOUR_API_KEY'\n",
    "business_id = 'YOUR_BUSINESS_ID'\n",
    "\n",
    "url = f'https://api.yelp.com/v3/business/{business_id}/reviews'\n",
    "\n",
    "response = requests.get(url,\n",
    "                        headers = headers)"
   ]
  }
 ],
 "metadata": {
  "kernelspec": {
   "display_name": "Python 3 (ipykernel)",
   "language": "python",
   "name": "python3"
  },
  "language_info": {
   "codemirror_mode": {
    "name": "ipython",
    "version": 3
   },
   "file_extension": ".py",
   "mimetype": "text/x-python",
   "name": "python",
   "nbconvert_exporter": "python",
   "pygments_lexer": "ipython3",
   "version": "3.10.9"
  }
 },
 "nbformat": 4,
 "nbformat_minor": 5
}
