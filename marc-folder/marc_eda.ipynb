{
 "cells": [
  {
   "cell_type": "markdown",
   "id": "134a2c9c-0687-45bb-878d-a3eda01fc448",
   "metadata": {},
   "source": [
    "# Marc EDA Notebook"
   ]
  },
  {
   "cell_type": "markdown",
   "id": "42938b21-184e-4118-bdb6-6eeefaf7271e",
   "metadata": {},
   "source": [
    "  "
   ]
  },
  {
   "cell_type": "markdown",
   "id": "66ded5f0-af5f-4b4d-a15a-10cd6f058940",
   "metadata": {},
   "source": [
    "* I am going to take the cleaned up information that Nick and I ended up with and explore on it."
   ]
  },
  {
   "cell_type": "markdown",
   "id": "6484259b-b16c-4fb1-b99c-36903b7a9b20",
   "metadata": {},
   "source": [
    "  "
   ]
  },
  {
   "cell_type": "markdown",
   "id": "cb1f9302-649a-47ea-a7a5-556dec6ee0ff",
   "metadata": {},
   "source": [
    "  "
   ]
  },
  {
   "cell_type": "markdown",
   "id": "97019144-0d59-498b-b30b-a59160433acc",
   "metadata": {},
   "source": [
    "  "
   ]
  },
  {
   "cell_type": "markdown",
   "id": "824f8a64-f3b5-4075-9cb3-2204f796b21e",
   "metadata": {},
   "source": [
    "  "
   ]
  },
  {
   "cell_type": "code",
   "execution_count": null,
   "id": "99a7e271-8db1-4203-8e50-9dece831d6a5",
   "metadata": {},
   "outputs": [],
   "source": [
    "# import libs\n",
    "import acquire as a\n",
    "import prepare as p\n",
    "import pandas as pd\n",
    "import env\n",
    "# I may come up with model and explore .py modules"
   ]
  },
  {
   "cell_type": "markdown",
   "id": "668c2596-01b6-4b5f-a368-b319e3e0778d",
   "metadata": {},
   "source": [
    "  "
   ]
  },
  {
   "cell_type": "markdown",
   "id": "bc6421dd-dadd-4dca-bab0-2302c599487e",
   "metadata": {},
   "source": [
    "# Data Acquisition"
   ]
  },
  {
   "cell_type": "markdown",
   "id": "305193c8-7b3c-4f34-8776-ff869ab7c3a1",
   "metadata": {},
   "source": [
    "### We acquired from the Open Data new york using the Socrata API and saw our observations/features"
   ]
  },
  {
   "cell_type": "markdown",
   "id": "9e13f63d-2eaa-4398-b438-2c6c0e8823c8",
   "metadata": {},
   "source": [
    "  "
   ]
  },
  {
   "cell_type": "code",
   "execution_count": null,
   "id": "69b67cd0-a024-41cb-81e0-7aca5bf41990",
   "metadata": {},
   "outputs": [],
   "source": [
    "ny_df = a.acquire_ny()\n",
    "ny_df.info()"
   ]
  },
  {
   "cell_type": "markdown",
   "id": "53fe7058-3a2a-4a47-9578-2be33304558c",
   "metadata": {},
   "source": [
    "  "
   ]
  },
  {
   "cell_type": "markdown",
   "id": "fff9f26c-33e4-4a80-82dd-c47933b456e9",
   "metadata": {},
   "source": [
    "  "
   ]
  },
  {
   "cell_type": "markdown",
   "id": "d147e0c3-e118-45cf-bde9-2eeff546d6cd",
   "metadata": {},
   "source": [
    "  "
   ]
  },
  {
   "cell_type": "code",
   "execution_count": null,
   "id": "9569e3bd-4565-4112-bc52-e67d9feacb7d",
   "metadata": {},
   "outputs": [],
   "source": [
    "ny_df.describe()"
   ]
  },
  {
   "cell_type": "markdown",
   "id": "d3e07d1e-3ece-4823-b3e6-769ecb725564",
   "metadata": {},
   "source": [
    "  "
   ]
  },
  {
   "cell_type": "markdown",
   "id": "96cb1716-4053-438d-bb28-0d3b23567894",
   "metadata": {},
   "source": [
    "  "
   ]
  },
  {
   "cell_type": "markdown",
   "id": "6d5fc0de-462b-40f8-8175-22b03223cb4b",
   "metadata": {},
   "source": [
    "  "
   ]
  },
  {
   "cell_type": "code",
   "execution_count": null,
   "id": "07b8ec19-6e9c-41dd-80d4-b5656e6b5c44",
   "metadata": {},
   "outputs": [],
   "source": [
    "ny_df.head()"
   ]
  },
  {
   "cell_type": "markdown",
   "id": "bf001ac5-36fa-4ef0-8b51-bf9722ea9fcf",
   "metadata": {},
   "source": [
    "- We cleaned up the data by handling all null values, Most nulls were dropped, grades were just adjusted according to score.\n",
    "- Nick is currently wanting to accomplish the following:\n",
    "    - ***\"I want to consolidate the data down to one row per inspection. Currently there are multiple rows per violation per inspection. I would like to merge each row per inspection down to one row.\"***\n",
    "    - ***\"Having some difficulties combining rows. I have managed to have some progress using group by along with some aggregate functions. Need to check if combined data is accurate.\"***"
   ]
  },
  {
   "cell_type": "markdown",
   "id": "c23636a6-3422-4f69-b757-c5173c3bb7d6",
   "metadata": {},
   "source": [
    "  "
   ]
  },
  {
   "cell_type": "markdown",
   "id": "e2be522d-2d94-4e0d-8d61-556ffa91dea4",
   "metadata": {},
   "source": [
    "  "
   ]
  },
  {
   "cell_type": "markdown",
   "id": "289eac20-fd24-40bd-a8b9-006c6593cd12",
   "metadata": {},
   "source": [
    "  "
   ]
  },
  {
   "cell_type": "markdown",
   "id": "08389eae-040e-4a6a-857c-ad59f0683c83",
   "metadata": {},
   "source": [
    "  "
   ]
  },
  {
   "cell_type": "markdown",
   "id": "b2d2b518-1a71-4b2e-8d55-a2318b042600",
   "metadata": {},
   "source": [
    "  "
   ]
  },
  {
   "cell_type": "markdown",
   "id": "cb101bda-73d7-4bb3-b196-8e3dcaefe730",
   "metadata": {},
   "source": [
    "  "
   ]
  },
  {
   "cell_type": "markdown",
   "id": "25a77634-068f-4946-872f-14fc18afcfa3",
   "metadata": {},
   "source": [
    "# Data Preparation"
   ]
  },
  {
   "cell_type": "markdown",
   "id": "9a3a18ed-dc53-4301-bba5-8cb544909522",
   "metadata": {},
   "source": [
    "- Changes:\n",
    "    - Function uses an additional line of code that resets index after clean actions."
   ]
  },
  {
   "cell_type": "code",
   "execution_count": null,
   "id": "3da4ca86-e860-4e39-b109-0640b9a5a733",
   "metadata": {},
   "outputs": [],
   "source": [
    "ny = p.clean_ny(ny_df)"
   ]
  },
  {
   "cell_type": "code",
   "execution_count": null,
   "id": "46709e3a-ba89-432a-a885-dd00f126f57e",
   "metadata": {},
   "outputs": [],
   "source": [
    "ny.info()"
   ]
  },
  {
   "cell_type": "markdown",
   "id": "94af5da0-8590-44d1-8817-47084cc92f8c",
   "metadata": {},
   "source": [
    "  "
   ]
  },
  {
   "cell_type": "markdown",
   "id": "9c13fe65-0c6e-44ab-a501-234e2b220571",
   "metadata": {},
   "source": [
    "  "
   ]
  },
  {
   "cell_type": "markdown",
   "id": "ed71fd0d-b2c6-40a9-ab7d-c17fc500698a",
   "metadata": {},
   "source": [
    "  "
   ]
  },
  {
   "cell_type": "code",
   "execution_count": null,
   "id": "981e0256-13b0-4981-a3b2-ea93218f1710",
   "metadata": {},
   "outputs": [],
   "source": [
    "ny.describe()"
   ]
  },
  {
   "cell_type": "markdown",
   "id": "f2eaa4ea-a669-440c-a75d-42300cf08278",
   "metadata": {},
   "source": [
    "  "
   ]
  },
  {
   "cell_type": "markdown",
   "id": "9ce0ff6a-c25c-42f0-a096-7d2871801658",
   "metadata": {},
   "source": [
    "  "
   ]
  },
  {
   "cell_type": "markdown",
   "id": "c664cd2a-0cac-49d0-8397-5a28b8be73ca",
   "metadata": {},
   "source": [
    "### No nulls"
   ]
  },
  {
   "cell_type": "code",
   "execution_count": null,
   "id": "c04384b4-3a5d-4b35-b6ee-92e7615a7f94",
   "metadata": {},
   "outputs": [],
   "source": [
    "ny.isna().sum()"
   ]
  },
  {
   "cell_type": "markdown",
   "id": "c012ff1b-da7f-4ca6-a71d-49278be0f08a",
   "metadata": {},
   "source": [
    "  "
   ]
  },
  {
   "cell_type": "markdown",
   "id": "4499e65e-f0b6-4286-8ffa-37f6024fc206",
   "metadata": {},
   "source": [
    "  "
   ]
  },
  {
   "cell_type": "markdown",
   "id": "d3800109-e7b5-44cb-ba9b-2e8bb24307d3",
   "metadata": {},
   "source": [
    "  "
   ]
  },
  {
   "cell_type": "markdown",
   "id": "fb0174fa-a358-421f-8144-72dabbb1a184",
   "metadata": {},
   "source": [
    "  "
   ]
  },
  {
   "cell_type": "code",
   "execution_count": null,
   "id": "37d65e8a-bce6-46ce-93a7-289ffccb135b",
   "metadata": {},
   "outputs": [],
   "source": [
    "ny.nunique()"
   ]
  },
  {
   "cell_type": "markdown",
   "id": "aa90f201-6371-43da-9058-42a81783807b",
   "metadata": {},
   "source": [
    "  "
   ]
  },
  {
   "cell_type": "markdown",
   "id": "6e0852a6-83bf-4249-a013-b98f2ae8d973",
   "metadata": {},
   "source": [
    "  "
   ]
  },
  {
   "cell_type": "markdown",
   "id": "3513a2c0-eac1-4304-a499-be8c8026229d",
   "metadata": {},
   "source": [
    "  "
   ]
  },
  {
   "cell_type": "markdown",
   "id": "cd5ed9e1-b6ae-4eb2-a709-4492a258ad78",
   "metadata": {},
   "source": [
    "### concatenating the address features together to have a full address column"
   ]
  },
  {
   "cell_type": "code",
   "execution_count": null,
   "id": "e101cecd-d350-4b19-949e-9e721a95950e",
   "metadata": {},
   "outputs": [],
   "source": [
    "full_addy = ny.building + ' ' + ny.street + ' ' + ny.zipcode.astype(str)\n",
    "ny['full_address'] = full_addy"
   ]
  },
  {
   "cell_type": "code",
   "execution_count": null,
   "id": "b6364aaf-3061-4cd2-8892-262ea2fcd07d",
   "metadata": {},
   "outputs": [],
   "source": [
    "ny['full_address'][0:5]"
   ]
  },
  {
   "cell_type": "markdown",
   "id": "cf2260c2-2a45-42f6-b4d6-78c43e61b054",
   "metadata": {},
   "source": [
    "  "
   ]
  },
  {
   "cell_type": "markdown",
   "id": "415d9035-ef1d-467a-803c-47ab019939cb",
   "metadata": {},
   "source": [
    "- dropped the old address features"
   ]
  },
  {
   "cell_type": "code",
   "execution_count": null,
   "id": "df8f9bf9-d161-48db-a387-a11ca191c57b",
   "metadata": {},
   "outputs": [],
   "source": [
    "ny = ny.drop(columns=['building', 'street', 'zipcode'])"
   ]
  },
  {
   "cell_type": "code",
   "execution_count": null,
   "id": "0ad1eafe-aa65-4c83-a78f-724abe18d302",
   "metadata": {},
   "outputs": [],
   "source": [
    "ny.columns"
   ]
  },
  {
   "cell_type": "markdown",
   "id": "fda0add8-bc76-45b3-b5c3-f1addb503965",
   "metadata": {},
   "source": [
    "  "
   ]
  },
  {
   "cell_type": "markdown",
   "id": "6eb3f9dc-535b-4d2d-ae28-8d5e97244c07",
   "metadata": {},
   "source": [
    "  "
   ]
  },
  {
   "cell_type": "markdown",
   "id": "b803580d-542a-4884-919d-60a91cc6174c",
   "metadata": {},
   "source": [
    "  "
   ]
  },
  {
   "cell_type": "markdown",
   "id": "33f5075c-5d8f-44e5-9d5a-92901741c1a8",
   "metadata": {},
   "source": [
    "### Now I am looking at the inspections dates for cleaning"
   ]
  },
  {
   "cell_type": "code",
   "execution_count": null,
   "id": "041ccfb8-31d9-48e0-b49d-c6a57b692bc9",
   "metadata": {
    "scrolled": true
   },
   "outputs": [],
   "source": [
    "ny.inspection_date.nunique()"
   ]
  },
  {
   "cell_type": "markdown",
   "id": "84d8882a-3054-417d-a33b-8ecd3b29ad2c",
   "metadata": {},
   "source": [
    "  "
   ]
  },
  {
   "cell_type": "markdown",
   "id": "307deaf4-881e-4a0a-9833-a05191695f63",
   "metadata": {},
   "source": [
    "  "
   ]
  },
  {
   "cell_type": "markdown",
   "id": "b4831f36-f36b-4ffb-83ee-26c209c79310",
   "metadata": {},
   "source": [
    "## Grouped by camis and inspection_date and then aggregated violation_code and violation description to lists for respective camis/inspection date observation"
   ]
  },
  {
   "cell_type": "code",
   "execution_count": null,
   "id": "c48dea41-17a9-4b53-b522-7f2f8725becf",
   "metadata": {},
   "outputs": [],
   "source": [
    "agg_violations = ny.groupby(['camis','inspection_date']).agg({'violation_code': lambda x: x.tolist(),'violation_description':lambda x: x.tolist()})\n",
    "agg_violations[0:2]"
   ]
  },
  {
   "cell_type": "markdown",
   "id": "d13c81cf-b5e2-45fa-8583-c2ef4ab27c36",
   "metadata": {},
   "source": [
    "  "
   ]
  },
  {
   "cell_type": "markdown",
   "id": "7d6117af-8bac-4a4a-9307-0c76e213047f",
   "metadata": {},
   "source": [
    "  "
   ]
  },
  {
   "cell_type": "markdown",
   "id": "46dc9a53-ce42-40aa-a008-4957a768b55f",
   "metadata": {},
   "source": [
    "## Looks good"
   ]
  },
  {
   "cell_type": "code",
   "execution_count": null,
   "id": "b9a325de-b1bc-443a-ae51-b90533821379",
   "metadata": {},
   "outputs": [],
   "source": [
    "# location a specific aggregated violation with specific camis and date\n",
    "agg_violations.loc[(30075445, '2021-08-10T00:00:00.000')]"
   ]
  },
  {
   "cell_type": "markdown",
   "id": "40cf8c67-28be-4631-b9cd-e8ec1f3a8587",
   "metadata": {},
   "source": [
    "  "
   ]
  },
  {
   "cell_type": "markdown",
   "id": "f3321935-d762-4551-a196-eda1c2083116",
   "metadata": {},
   "source": [
    "  "
   ]
  },
  {
   "cell_type": "markdown",
   "id": "eabb9186-d79c-4569-b980-c4de8375bcfe",
   "metadata": {},
   "source": [
    "  "
   ]
  },
  {
   "cell_type": "markdown",
   "id": "bbb3406a-1653-4bae-99cd-a01fa86d6078",
   "metadata": {},
   "source": [
    "## added the codes and descritpion into a list and them appended then to the location for each group (camis/date combination)"
   ]
  },
  {
   "cell_type": "code",
   "execution_count": null,
   "id": "93bf74d5-abf5-49a3-a85c-ee77660e2a24",
   "metadata": {},
   "outputs": [],
   "source": [
    "agg_data_code = []\n",
    "agg_data_description = []\n",
    "\n",
    "for cam, date in zip(ny.camis, ny.inspection_date):\n",
    "    agg_data_code.append(agg_violations.loc[(cam, date)][0])\n",
    "    agg_data_description.append(agg_violations.loc[(cam, date)][1])\n",
    "    \n",
    "ny.violation_code = agg_data_code\n",
    "ny.violation_description = agg_data_description"
   ]
  },
  {
   "cell_type": "markdown",
   "id": "a368625a-30e9-44e9-be65-8859a6c0f088",
   "metadata": {},
   "source": [
    "  "
   ]
  },
  {
   "cell_type": "markdown",
   "id": "10ebc683-4af3-4b25-b9b5-3fd37d8544ce",
   "metadata": {},
   "source": [
    "  "
   ]
  },
  {
   "cell_type": "markdown",
   "id": "bd9b903c-5671-43bc-b5dc-3e88c2a9fef4",
   "metadata": {},
   "source": [
    "  "
   ]
  },
  {
   "cell_type": "markdown",
   "id": "8be308fc-4d04-4531-8f14-8e0e16dda382",
   "metadata": {},
   "source": [
    "## Look at first 3 to see changes "
   ]
  },
  {
   "cell_type": "code",
   "execution_count": null,
   "id": "952ed88b-482c-4208-a2c3-a5af9ed0d0aa",
   "metadata": {},
   "outputs": [],
   "source": [
    "ny.head(3)"
   ]
  },
  {
   "cell_type": "markdown",
   "id": "4f40ff7c-80c8-423e-80f5-38ec7896578c",
   "metadata": {},
   "source": [
    "  "
   ]
  },
  {
   "cell_type": "markdown",
   "id": "50ebf4ab-abf9-47bd-b4c6-09677d234986",
   "metadata": {},
   "source": [
    "  "
   ]
  },
  {
   "cell_type": "markdown",
   "id": "f03c7787-29a6-45e7-a2bd-5884d729902d",
   "metadata": {},
   "source": [
    "## sorting by inspection dates to see if multiple dates are listed for a specific business: this look like it worked we can see the lists in the violation code/description columns"
   ]
  },
  {
   "cell_type": "code",
   "execution_count": null,
   "id": "cc998bfa-79e8-43d7-8be6-38af6787bc22",
   "metadata": {},
   "outputs": [],
   "source": [
    "ny[ny.dba == '$1 PIZZA'].sort_values('inspection_date').head(3)"
   ]
  },
  {
   "cell_type": "code",
   "execution_count": null,
   "id": "95df389f-ddff-41f1-80ed-cef8fae421e6",
   "metadata": {},
   "outputs": [],
   "source": [
    "agg_violations.index[0]"
   ]
  },
  {
   "cell_type": "code",
   "execution_count": null,
   "id": "2c77e4d9-f1d9-4a1f-bf1c-78ee5be91105",
   "metadata": {},
   "outputs": [],
   "source": [
    "len(agg_data_code)"
   ]
  },
  {
   "cell_type": "code",
   "execution_count": null,
   "id": "1b0e6605-6ca5-48a8-aa44-abc0b308963a",
   "metadata": {},
   "outputs": [],
   "source": [
    "ny.groupby('dba').camis.nunique()"
   ]
  },
  {
   "cell_type": "code",
   "execution_count": null,
   "id": "8794883b-e6bb-4b60-9999-6364bb463863",
   "metadata": {},
   "outputs": [],
   "source": [
    "ny.head(3)"
   ]
  },
  {
   "cell_type": "code",
   "execution_count": null,
   "id": "1cdb8c9f-63ad-4bdc-8fa5-c52fde4bb51e",
   "metadata": {},
   "outputs": [],
   "source": [
    "ny.shape"
   ]
  },
  {
   "cell_type": "markdown",
   "id": "cf561033-dab9-4b9c-aa01-1f1e3db657eb",
   "metadata": {},
   "source": [
    "## We need to ensure datatypes are correct"
   ]
  },
  {
   "cell_type": "code",
   "execution_count": null,
   "id": "b5ba456e-28a6-4d32-8671-94b9486bf3f5",
   "metadata": {},
   "outputs": [],
   "source": [
    "ny.info()"
   ]
  },
  {
   "cell_type": "markdown",
   "id": "02687e4a-50ac-4f91-bc52-0c7093b0388a",
   "metadata": {},
   "source": [
    "## There were 89 NaN values for phone, so i will input a string for these and list them as 'no phone'"
   ]
  },
  {
   "cell_type": "code",
   "execution_count": null,
   "id": "af87b681-ff88-4105-bb2f-e67e8473c132",
   "metadata": {
    "scrolled": true
   },
   "outputs": [],
   "source": [
    "ny[ny['phone'].isna()].shape"
   ]
  },
  {
   "cell_type": "code",
   "execution_count": null,
   "id": "7f81bae4-c362-4f09-b892-97763e73f472",
   "metadata": {},
   "outputs": [],
   "source": [
    "# Replace NaN values in the 'phone' column with No Phone place holder\n",
    "ny['phone'].fillna(-1, inplace=True)  # Use -1 as a numeric placeholder for missing phone numbers\n",
    "\n",
    "# Check to verify that NaN values have been replaced\n",
    "print(ny['phone'])"
   ]
  },
  {
   "cell_type": "code",
   "execution_count": null,
   "id": "0f15c1dc-c29b-4662-84bd-a5b73f362253",
   "metadata": {},
   "outputs": [],
   "source": [
    "# Convert a numeric column to numeric type (float)\n",
    "ny['phone'] = pd.to_numeric(ny['phone'], errors='coerce')\n",
    "\n",
    "# Convert it to an integer\n",
    "ny['phone'] = ny['phone'].astype(int)\n",
    "\n",
    "# Check the data type of the column after conversion\n",
    "print(ny['phone'].dtype)"
   ]
  },
  {
   "cell_type": "code",
   "execution_count": null,
   "id": "173cfd40-b649-425e-8b1a-049d91cf152c",
   "metadata": {},
   "outputs": [],
   "source": [
    "# Convert inspection_date to datetime\n",
    "ny['inspection_date'] = pd.to_datetime(ny['inspection_date'])\n",
    "\n",
    "# Convert critical_flag to categorical\n",
    "ny['critical_flag'] = pd.Categorical(ny['critical_flag'])\n",
    "\n",
    "# Convert record_date to datetime\n",
    "ny['record_date'] = pd.to_datetime(ny['record_date'])\n",
    "\n",
    "# Convert score to numeric (float)\n",
    "ny['score'] = pd.to_numeric(ny['score'], errors='coerce')  # 'coerce' to handle non-numeric values\n",
    "\n",
    "# Convert grade to categorical\n",
    "ny['grade'] = pd.Categorical(ny['grade'])\n",
    "\n",
    "# Convert other object columns to appropriate data types as needed\n",
    "# For example, if 'phone' should be treated as a string, no further conversion is necessary\n",
    "\n",
    "# Check data types of the DataFrame after conversion\n",
    "print(ny.dtypes)"
   ]
  },
  {
   "cell_type": "code",
   "execution_count": null,
   "id": "8fc45613-f165-471e-8419-d8af4449d57b",
   "metadata": {},
   "outputs": [],
   "source": [
    "ny.info()"
   ]
  },
  {
   "cell_type": "markdown",
   "id": "7e5e57b5-2c7b-453d-a50d-538793ec7dd4",
   "metadata": {},
   "source": [
    "  "
   ]
  },
  {
   "cell_type": "markdown",
   "id": "27d9b892-9aef-472e-8315-4cb2069f899c",
   "metadata": {},
   "source": [
    "  "
   ]
  },
  {
   "cell_type": "markdown",
   "id": "1cf6fd11-7ea7-4522-95d3-981f0fd0bfe1",
   "metadata": {},
   "source": [
    "  "
   ]
  },
  {
   "cell_type": "markdown",
   "id": "e747f324-1a39-4d0a-b066-771d6855af91",
   "metadata": {},
   "source": [
    "  "
   ]
  },
  {
   "cell_type": "markdown",
   "id": "67ef53e0-62df-40f0-aed1-ae3fc12d499b",
   "metadata": {},
   "source": [
    "  "
   ]
  },
  {
   "cell_type": "markdown",
   "id": "d8763ce8-f967-4527-9ba8-f026933fc9cd",
   "metadata": {},
   "source": [
    "## Flattened the DF in case Nick wants to use it.\n",
    "\n",
    "## - This has almost 5 Million observations to explore"
   ]
  },
  {
   "cell_type": "code",
   "execution_count": null,
   "id": "efc5b927-b98d-4dcb-8679-7e0eefb6ddd7",
   "metadata": {},
   "outputs": [],
   "source": [
    "# copy of the original DataFrame\n",
    "flattened_ny = ny.copy()\n",
    "\n",
    "# Explode the lists in 'violation_code' and 'violation_description' columns\n",
    "flattened_ny = flattened_ny.explode('violation_code').explode('violation_description')\n",
    "\n",
    "# Reset the index to ensure unique row identifiers\n",
    "flattened_ny = flattened_ny.reset_index(drop=True)"
   ]
  },
  {
   "cell_type": "code",
   "execution_count": null,
   "id": "c36ce120-62e8-4917-83d7-e6b8aba31788",
   "metadata": {},
   "outputs": [],
   "source": [
    "flattened_ny.info()"
   ]
  },
  {
   "cell_type": "markdown",
   "id": "32b15f88-9d65-4ab7-b2c8-3200eacf8236",
   "metadata": {},
   "source": [
    "  "
   ]
  },
  {
   "cell_type": "code",
   "execution_count": null,
   "id": "acc14c14-430b-49fb-8c38-cfdf20604e75",
   "metadata": {
    "scrolled": true
   },
   "outputs": [],
   "source": [
    "print(flattened_ny.shape)\n",
    "print('\\n\\n\\n')\n",
    "flattened_ny.head()"
   ]
  },
  {
   "cell_type": "markdown",
   "id": "629988a7-5f78-40dc-90d4-1f796aafd434",
   "metadata": {},
   "source": [
    "  "
   ]
  },
  {
   "cell_type": "markdown",
   "id": "972f7bd4-54e6-4a98-a41c-c34b9d9b6ca4",
   "metadata": {},
   "source": [
    "  "
   ]
  },
  {
   "cell_type": "markdown",
   "id": "e05368cd-a871-44ed-8d6b-d8a912ac3247",
   "metadata": {},
   "source": [
    "<!-- ## John Requested Matching Criteria   -->"
   ]
  },
  {
   "cell_type": "markdown",
   "id": "9b5d83b9-eb34-4a41-a0f3-7caee7640bdf",
   "metadata": {},
   "source": [
    "  "
   ]
  },
  {
   "cell_type": "markdown",
   "id": "9a7a42c9-3c9e-444f-b0fb-b222f92b636a",
   "metadata": {},
   "source": [
    "  "
   ]
  },
  {
   "cell_type": "markdown",
   "id": "1e8c1f56-44d2-4f1c-a7ad-f1b714065e13",
   "metadata": {},
   "source": [
    "  "
   ]
  },
  {
   "cell_type": "markdown",
   "id": "403e5a06-00fd-4477-a397-9796d9f68a98",
   "metadata": {},
   "source": [
    "  "
   ]
  },
  {
   "cell_type": "markdown",
   "id": "a2f4f20a-3c43-4346-b41e-09d37f08c1ac",
   "metadata": {},
   "source": [
    "# Exploratory Data Analysis - Statistical Analysis"
   ]
  },
  {
   "cell_type": "code",
   "execution_count": null,
   "id": "eb8f0c66-1fc3-4226-9169-b8ccb5a8e74a",
   "metadata": {},
   "outputs": [],
   "source": [
    "## Here I am using the cleaned dataframe"
   ]
  },
  {
   "cell_type": "code",
   "execution_count": null,
   "id": "f6d15017-b650-4d40-bbee-82cb676de51c",
   "metadata": {},
   "outputs": [],
   "source": [
    "ny.info()"
   ]
  },
  {
   "cell_type": "code",
   "execution_count": null,
   "id": "439fbaa4-dde5-4701-a2a8-c355f2508bec",
   "metadata": {},
   "outputs": [],
   "source": [
    "ny.head()"
   ]
  },
  {
   "cell_type": "markdown",
   "id": "b9851374-0a8f-4fe2-9872-828a0f2aa244",
   "metadata": {},
   "source": [
    "  "
   ]
  },
  {
   "cell_type": "markdown",
   "id": "f836e580-442a-4432-9789-cc59815a8fca",
   "metadata": {},
   "source": [
    "  "
   ]
  },
  {
   "cell_type": "markdown",
   "id": "10580056-37a1-4de7-94fa-067a15b54ff0",
   "metadata": {},
   "source": [
    "  "
   ]
  },
  {
   "cell_type": "markdown",
   "id": "bcb0ca9e-40d6-42f5-b83f-099b980a16b7",
   "metadata": {},
   "source": [
    "  "
   ]
  },
  {
   "cell_type": "markdown",
   "id": "bd0e2709-e645-4025-bfbe-48471b8b3775",
   "metadata": {},
   "source": [
    "  "
   ]
  },
  {
   "cell_type": "markdown",
   "id": "e6372665-b61b-4edd-b8d5-bc329a7460d5",
   "metadata": {},
   "source": [
    "## Installed Plotly for interactive visuals"
   ]
  },
  {
   "cell_type": "code",
   "execution_count": null,
   "id": "177372db-b76e-4567-8213-bceaa2a2faee",
   "metadata": {},
   "outputs": [],
   "source": [
    "pip install plotly"
   ]
  },
  {
   "cell_type": "code",
   "execution_count": null,
   "id": "066ea868-de79-4e76-abdb-7bb56d5a051a",
   "metadata": {},
   "outputs": [],
   "source": [
    "# visual imports\n",
    "import seaborn as sns\n",
    "import matplotlib.pyplot as plt\n",
    "import plotly"
   ]
  },
  {
   "cell_type": "markdown",
   "id": "265f8e6d-9a0c-4008-9023-b3714e5678c2",
   "metadata": {},
   "source": [
    "  "
   ]
  },
  {
   "cell_type": "markdown",
   "id": "464e81b1-c845-46a9-9ac6-af0c7d874e0d",
   "metadata": {},
   "source": [
    "  "
   ]
  },
  {
   "cell_type": "markdown",
   "id": "86f8fb75-0ba1-417c-b20d-24e65012cd5c",
   "metadata": {},
   "source": [
    "  "
   ]
  },
  {
   "cell_type": "markdown",
   "id": "78b7c3ac-b099-41a2-a04e-11fccb45cbce",
   "metadata": {},
   "source": [
    "## Doing some seaborn exploration"
   ]
  },
  {
   "cell_type": "markdown",
   "id": "5d5be316-31c1-4e1a-b778-305e82dab345",
   "metadata": {},
   "source": [
    "  * note that I am using the flattened_ny dataframe due to data not being able to be visualized with list values for violation code/description column"
   ]
  },
  {
   "cell_type": "markdown",
   "id": "f337c2bb-1129-49c8-9efe-9c265f6592a5",
   "metadata": {},
   "source": [
    "  "
   ]
  },
  {
   "cell_type": "markdown",
   "id": "ce12e116-aabd-4d89-8d36-9694fea949fd",
   "metadata": {},
   "source": [
    "  "
   ]
  },
  {
   "cell_type": "code",
   "execution_count": null,
   "id": "802e807f-86bf-4b8e-833c-62579d562813",
   "metadata": {
    "scrolled": true
   },
   "outputs": [],
   "source": [
    "# # should drop lat and long; don't need to see them\n",
    "# flattened_ny = flattened_ny.drop(columns=(['latitude', 'longitude']))\n",
    "\n",
    "# # Separate columns into numeric and categorical types\n",
    "# numeric_columns = flattened_ny.select_dtypes(include=['int64', 'float64']).columns\n",
    "# categorical_columns = flattened_ny.select_dtypes(include=['object']).columns\n",
    "\n",
    "# # Visualize numeric features (e.g., histograms)\n",
    "# for column in numeric_columns:\n",
    "#     plt.figure()\n",
    "#     sns.histplot(flattened_ny[column])\n",
    "#     plt.title(f'Distribution of {column}')\n",
    "#     plt.show()\n",
    "\n",
    "# # Visualize categorical features (e.g., bar plots)\n",
    "# for column in categorical_columns:\n",
    "#     plt.figure(figsize=(10, 5))\n",
    "#     sns.countplot(data=flattened_ny, x=column)\n",
    "#     plt.title(f'Distribution of {column}')\n",
    "#     plt.xticks(rotation=45)  # Rotate x-axis labels for readability\n",
    "#     plt.show()\n"
   ]
  },
  {
   "cell_type": "markdown",
   "id": "3dd10d71-8e74-4118-a26b-a1b29b06b01d",
   "metadata": {},
   "source": [
    "## I found that distributions were good for some features but for dba, violation code, violations descriptions, cuisine_description, inspection_type, and full_address was either too difficult to read the x labels or the visuals looks like so many bars and seemed very short. "
   ]
  },
  {
   "cell_type": "code",
   "execution_count": null,
   "id": "d2d3c612-cce8-46c1-9ae8-0ba35815ead1",
   "metadata": {},
   "outputs": [],
   "source": [
    "# Should drop 'latitude' and 'longitude'\n",
    "# flattened_ny = flattened_ny.drop(columns=['latitude', 'longitude'])\n",
    "\n",
    "# Define the list of categorical columns\n",
    "categorical_columns = ['score', 'boro', 'cuisine_description', 'action', 'violation_code', 'inspection_type']\n",
    "\n",
    "# Visualize categorical features (e.g., bar plots)\n",
    "for column in categorical_columns:\n",
    "    plt.figure(figsize=(24, 18))\n",
    "    sns.countplot(data=flattened_ny, x=column)\n",
    "    plt.title(f'Distribution of {column}')\n",
    "    plt.xticks(rotation=90)  # Rotate x-axis labels for readability\n",
    "    plt.show()# Rotate x-axis labels for readability        "
   ]
  },
  {
   "cell_type": "code",
   "execution_count": null,
   "id": "25843ea9-dd43-458c-8940-8d91f1e96bd6",
   "metadata": {},
   "outputs": [],
   "source": [
    "# Define the list of categorical columns\n",
    "categorical_columns = ['score', 'boro', 'cuisine_description', 'action', 'violation_code', 'violation_description', 'inspection_type']\n",
    "\n",
    "# Visualize categorical features with horizontal bar plots\n",
    "for column in categorical_columns:\n",
    "    plt.figure(figsize=(24, 18))\n",
    "    \n",
    "    if column == 'violation_description':\n",
    "        # Split the violation_description text and select the first word\n",
    "        flattened_ny['violation_first_word'] = flattened_ny['violation_description'].str.split().str[0]\n",
    "        ax = sns.barplot(x=flattened_ny['violation_first_word'].value_counts(), y=flattened_ny['violation_first_word'].value_counts().index)\n",
    "        plt.title(f'Distribution of {column} (First Word)')\n",
    "        \n",
    "        # Customize the tick positions and labels for the y-axis\n",
    "        tick_positions = range(len(flattened_ny['violation_first_word'].unique()))\n",
    "        tick_labels = flattened_ny['violation_first_word'].unique()\n",
    "        ax.set_yticks(tick_positions)\n",
    "        ax.set_yticklabels(tick_labels)\n",
    "    else:\n",
    "        ax = sns.barplot(x=flattened_ny[column].value_counts(), y=flattened_ny[column].value_counts().index)\n",
    "        plt.title(f'Distribution of {column}')\n",
    "    \n",
    "    plt.tight_layout()  # Automatically adjusts subplot parameters for better spacing\n",
    "    plt.show()\n"
   ]
  },
  {
   "cell_type": "markdown",
   "id": "838eb16e-da00-4f76-b7cd-1a30d011027a",
   "metadata": {},
   "source": [
    "  "
   ]
  },
  {
   "cell_type": "markdown",
   "id": "728a198d-da10-433f-b775-7e64ac7e00df",
   "metadata": {},
   "source": [
    "  "
   ]
  },
  {
   "cell_type": "markdown",
   "id": "8f0e494d-bc75-42e4-a89f-33ce3984b90c",
   "metadata": {},
   "source": [
    "  "
   ]
  },
  {
   "cell_type": "markdown",
   "id": "d416ef74-8612-4ee6-8670-008b71cc0c41",
   "metadata": {},
   "source": [
    "  "
   ]
  },
  {
   "cell_type": "markdown",
   "id": "eca9c414-296c-4bcd-a7e4-65f829c5fc70",
   "metadata": {},
   "source": [
    "## Now i will do a pair plot and look at the results for numerical features"
   ]
  },
  {
   "cell_type": "code",
   "execution_count": null,
   "id": "cfc527c2-bde4-4e4c-b309-9590a57c4bbb",
   "metadata": {},
   "outputs": [],
   "source": [
    "flattened_ny.info()"
   ]
  },
  {
   "cell_type": "code",
   "execution_count": null,
   "id": "f81c4989-0499-434f-bd7b-e41d8b817278",
   "metadata": {},
   "outputs": [],
   "source": [
    "sns.pairplot(flattened_ny)\n",
    "plt.show()"
   ]
  },
  {
   "cell_type": "markdown",
   "id": "949f39e8-1bc7-4b92-b70c-1375d20a3e8d",
   "metadata": {},
   "source": [
    "  "
   ]
  },
  {
   "cell_type": "markdown",
   "id": "ffca6fdf-fee2-4f08-ada0-a3d8077166cf",
   "metadata": {},
   "source": [
    "  "
   ]
  },
  {
   "cell_type": "markdown",
   "id": "35bbacb3-097f-4faf-bef7-6317959b9bc6",
   "metadata": {},
   "source": [
    "  "
   ]
  },
  {
   "cell_type": "markdown",
   "id": "5f5ec4af-1128-4bd9-8ac6-3c6e7f73b27b",
   "metadata": {},
   "source": [
    "  "
   ]
  },
  {
   "cell_type": "markdown",
   "id": "aec5a16a-5c16-4539-9eaa-604554b01c62",
   "metadata": {},
   "source": [
    "  "
   ]
  },
  {
   "cell_type": "markdown",
   "id": "8104cfc1-fe3a-4f11-bb46-9ef52b39f79f",
   "metadata": {},
   "source": [
    "  "
   ]
  },
  {
   "cell_type": "markdown",
   "id": "6145f41f-cdc3-44ad-b719-bdefb1342d9a",
   "metadata": {},
   "source": [
    "  "
   ]
  },
  {
   "cell_type": "markdown",
   "id": "5ab1624b-1918-42ba-afdb-9de55955c91f",
   "metadata": {},
   "source": [
    "  "
   ]
  },
  {
   "cell_type": "markdown",
   "id": "5c6f84c4-64a9-4ff2-bd00-58c0080337a4",
   "metadata": {},
   "source": [
    "  "
   ]
  },
  {
   "cell_type": "code",
   "execution_count": null,
   "id": "c1029d96-0c0d-409a-82c5-a61eb6d50e80",
   "metadata": {},
   "outputs": [],
   "source": [
    "sns.histplot(data=flattened_ny, x='score', bins=20)\n",
    "plt.show()"
   ]
  },
  {
   "cell_type": "markdown",
   "id": "251f65f5-03f8-40ce-9c42-722026638908",
   "metadata": {},
   "source": [
    "  "
   ]
  },
  {
   "cell_type": "markdown",
   "id": "877aeff2-7f79-4d54-ad08-bcebdf9ac685",
   "metadata": {},
   "source": [
    "  "
   ]
  },
  {
   "cell_type": "markdown",
   "id": "54295f55-8ab2-412e-a45b-b636e86dd1c9",
   "metadata": {},
   "source": [
    "  "
   ]
  },
  {
   "cell_type": "markdown",
   "id": "19566553-51c7-4918-a915-67e3713cfb9c",
   "metadata": {},
   "source": [
    "  "
   ]
  },
  {
   "cell_type": "code",
   "execution_count": null,
   "id": "b3b2ae08-08bf-4c31-983c-3583b254210b",
   "metadata": {},
   "outputs": [],
   "source": [
    "sns.barplot(data=flattened_ny, x ='score', y = 'grade')\n",
    "plt.show()"
   ]
  },
  {
   "cell_type": "markdown",
   "id": "1bfdc71b-8034-43f3-92e1-33eb606a9bc2",
   "metadata": {},
   "source": [
    "  "
   ]
  },
  {
   "cell_type": "markdown",
   "id": "b147d8ff-29bd-449e-93ac-7ee93364b9b0",
   "metadata": {},
   "source": [
    "  "
   ]
  },
  {
   "cell_type": "markdown",
   "id": "3e1ea63c-ec11-4a82-b4d1-664c8b9551c4",
   "metadata": {},
   "source": [
    "  "
   ]
  },
  {
   "cell_type": "markdown",
   "id": "d0c9050b-1e2e-4d32-8a13-5d36ec74d008",
   "metadata": {},
   "source": [
    "  "
   ]
  },
  {
   "cell_type": "code",
   "execution_count": null,
   "id": "d77eafbc-c0a8-4efc-9042-0858e151884a",
   "metadata": {},
   "outputs": [],
   "source": [
    "# business counts\n",
    "dba_count = flattened_ny['dba'].value_counts()\n",
    "dba_count"
   ]
  },
  {
   "cell_type": "code",
   "execution_count": null,
   "id": "89328bd5-5b6f-4155-8336-dd66be35620e",
   "metadata": {},
   "outputs": [],
   "source": [
    "top_n = 20  # Adjust the number of top values to display\n",
    "plt.figure(figsize=(24, 18))\n",
    "sns.countplot(data=flattened_ny, x='dba', order=flattened_ny['dba'].value_counts().iloc[:top_n].index)\n",
    "plt.xticks(rotation=45)\n",
    "plt.title(f'Top {top_n} dba Values')"
   ]
  },
  {
   "cell_type": "code",
   "execution_count": null,
   "id": "fcd13bc1-6084-444e-9582-27802b2d3910",
   "metadata": {},
   "outputs": [],
   "source": [
    "ny.describe()"
   ]
  },
  {
   "cell_type": "markdown",
   "id": "1b2156c8-aafa-41f0-a02e-e3c48a1182e2",
   "metadata": {},
   "source": [
    "  "
   ]
  },
  {
   "cell_type": "markdown",
   "id": "a78d389a-050e-406b-99a2-5100badb4c9d",
   "metadata": {},
   "source": [
    "  "
   ]
  },
  {
   "cell_type": "markdown",
   "id": "4a98f41e-57b4-4102-a237-d1f5c4e65687",
   "metadata": {},
   "source": [
    "  "
   ]
  },
  {
   "cell_type": "markdown",
   "id": "01962420-081e-474e-a5c7-223eee1339ce",
   "metadata": {},
   "source": [
    "  "
   ]
  },
  {
   "cell_type": "markdown",
   "id": "071591be-9469-4e7e-a4f9-0b91bcbd7d07",
   "metadata": {},
   "source": [
    "# Data Modeling"
   ]
  },
  {
   "cell_type": "code",
   "execution_count": null,
   "id": "155da3e4-3531-441f-9153-113126c084b3",
   "metadata": {},
   "outputs": [],
   "source": []
  },
  {
   "cell_type": "code",
   "execution_count": null,
   "id": "ecb38db7-d7a7-4fe4-b336-572befbcd049",
   "metadata": {},
   "outputs": [],
   "source": []
  },
  {
   "cell_type": "code",
   "execution_count": null,
   "id": "93c5103f-6cbb-4ff4-9e46-739e4717afc2",
   "metadata": {},
   "outputs": [],
   "source": []
  }
 ],
 "metadata": {
  "kernelspec": {
   "display_name": "Python 3 (ipykernel)",
   "language": "python",
   "name": "python3"
  },
  "language_info": {
   "codemirror_mode": {
    "name": "ipython",
    "version": 3
   },
   "file_extension": ".py",
   "mimetype": "text/x-python",
   "name": "python",
   "nbconvert_exporter": "python",
   "pygments_lexer": "ipython3",
   "version": "3.10.9"
  }
 },
 "nbformat": 4,
 "nbformat_minor": 5
}
