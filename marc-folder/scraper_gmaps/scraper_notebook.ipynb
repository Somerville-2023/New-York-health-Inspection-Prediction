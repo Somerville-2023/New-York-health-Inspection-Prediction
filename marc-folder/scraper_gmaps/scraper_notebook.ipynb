{
 "cells": [
  {
   "cell_type": "code",
   "execution_count": 1,
   "metadata": {},
   "outputs": [],
   "source": [
    "# pip install bs4"
   ]
  },
  {
   "cell_type": "code",
   "execution_count": 2,
   "metadata": {},
   "outputs": [],
   "source": [
    "# pip install googlemaps"
   ]
  },
  {
   "cell_type": "markdown",
   "metadata": {},
   "source": [
    "  "
   ]
  },
  {
   "cell_type": "code",
   "execution_count": 6,
   "metadata": {},
   "outputs": [
    {
     "ename": "NameError",
     "evalue": "name 'self' is not defined",
     "output_type": "error",
     "traceback": [
      "\u001b[0;31m---------------------------------------------------------------------------\u001b[0m",
      "\u001b[0;31mNameError\u001b[0m                                 Traceback (most recent call last)",
      "Cell \u001b[0;32mIn[6], line 1\u001b[0m\n\u001b[0;32m----> 1\u001b[0m \u001b[38;5;28;43mself\u001b[39;49m\u001b[38;5;241m.\u001b[39mdriver\u001b[38;5;241m.\u001b[39mget(\u001b[38;5;124m'\u001b[39m\u001b[38;5;124mhttp://httpbin.org/ip\u001b[39m\u001b[38;5;124m'\u001b[39m)\n\u001b[1;32m      2\u001b[0m response_text \u001b[38;5;241m=\u001b[39m \u001b[38;5;28mself\u001b[39m\u001b[38;5;241m.\u001b[39mdriver\u001b[38;5;241m.\u001b[39mfind_element(By\u001b[38;5;241m.\u001b[39mTAG_NAME, \u001b[38;5;124m'\u001b[39m\u001b[38;5;124mpre\u001b[39m\u001b[38;5;124m'\u001b[39m)\u001b[38;5;241m.\u001b[39mtext\n\u001b[1;32m      3\u001b[0m ip_with_tor \u001b[38;5;241m=\u001b[39m \u001b[38;5;28meval\u001b[39m(response_text)[\u001b[38;5;124m'\u001b[39m\u001b[38;5;124morigin\u001b[39m\u001b[38;5;124m'\u001b[39m]\n",
      "\u001b[0;31mNameError\u001b[0m: name 'self' is not defined"
     ]
    }
   ],
   "source": [
    "self.driver.get('http://httpbin.org/ip')\n",
    "response_text = self.driver.find_element(By.TAG_NAME, 'pre').text\n",
    "ip_with_tor = eval(response_text)['origin']\n",
    "print(\"IP with Tor:\", ip_with_tor)"
   ]
  },
  {
   "cell_type": "code",
   "execution_count": 3,
   "metadata": {},
   "outputs": [
    {
     "name": "stdout",
     "output_type": "stream",
     "text": [
      "Scraper initialized successfully.\n",
      "IP without Tor: 150.220.144.130\n",
      "Traceback (most recent call last):\n",
      "  File \"/Users/marc_aradillas/codeup-data-science/New-York-health-Inspection-Prediction/marc-folder/scraper_gmaps/scraper.py\", line 75, in <module>\n",
      "    if not scraper.test_tor_connection():\n",
      "           ^^^^^^^^^^^^^^^^^^^^^^^^^^^^^\n",
      "  File \"/Users/marc_aradillas/codeup-data-science/New-York-health-Inspection-Prediction/marc-folder/scraper_gmaps/googlemaps.py\", line 117, in test_tor_connection\n",
      "    ip_with_tor = self.__get_ip_with_tor()\n",
      "                  ^^^^^^^^^^^^^^^^^^^^^^^^\n",
      "  File \"/Users/marc_aradillas/codeup-data-science/New-York-health-Inspection-Prediction/marc-folder/scraper_gmaps/googlemaps.py\", line 105, in __get_ip_with_tor\n",
      "    response_text = self.driver.find_element(By.TAG_NAME, 'pre').text\n",
      "                    ^^^^^^^^^^^^^^^^^^^^^^^^^^^^^^^^^^^^^^^^^^^^\n",
      "  File \"/opt/homebrew/anaconda3/envs/j_scraper/lib/python3.12/site-packages/selenium/webdriver/remote/webdriver.py\", line 741, in find_element\n",
      "    return self.execute(Command.FIND_ELEMENT, {\"using\": by, \"value\": value})[\"value\"]\n",
      "           ^^^^^^^^^^^^^^^^^^^^^^^^^^^^^^^^^^^^^^^^^^^^^^^^^^^^^^^^^^^^^^^^^\n",
      "  File \"/opt/homebrew/anaconda3/envs/j_scraper/lib/python3.12/site-packages/selenium/webdriver/remote/webdriver.py\", line 347, in execute\n",
      "    self.error_handler.check_response(response)\n",
      "  File \"/opt/homebrew/anaconda3/envs/j_scraper/lib/python3.12/site-packages/selenium/webdriver/remote/errorhandler.py\", line 229, in check_response\n",
      "    raise exception_class(message, screen, stacktrace)\n",
      "selenium.common.exceptions.NoSuchElementException: Message: no such element: Unable to locate element: {\"method\":\"tag name\",\"selector\":\"pre\"}\n",
      "  (Session info: chrome=120.0.6099.5); For documentation on this error, please visit: https://www.selenium.dev/documentation/webdriver/troubleshooting/errors#no-such-element-exception\n",
      "Stacktrace:\n",
      "0   chromedriver                        0x00000001006a7e8c chromedriver + 4161164\n",
      "1   chromedriver                        0x00000001006a0014 chromedriver + 4128788\n",
      "2   chromedriver                        0x00000001002f7bc0 chromedriver + 293824\n",
      "3   chromedriver                        0x000000010033e040 chromedriver + 581696\n",
      "4   chromedriver                        0x000000010037dab0 chromedriver + 842416\n",
      "5   chromedriver                        0x00000001003316bc chromedriver + 530108\n",
      "6   chromedriver                        0x0000000100332930 chromedriver + 534832\n",
      "7   chromedriver                        0x000000010066d7b8 chromedriver + 3921848\n",
      "8   chromedriver                        0x0000000100671d8c chromedriver + 3939724\n",
      "9   chromedriver                        0x00000001006559e8 chromedriver + 3824104\n",
      "10  chromedriver                        0x00000001006728ec chromedriver + 3942636\n",
      "11  chromedriver                        0x00000001006480a4 chromedriver + 3768484\n",
      "12  chromedriver                        0x000000010068f330 chromedriver + 4059952\n",
      "13  chromedriver                        0x000000010068f4a8 chromedriver + 4060328\n",
      "14  chromedriver                        0x000000010069fc94 chromedriver + 4127892\n",
      "15  libsystem_pthread.dylib             0x000000018faeb034 _pthread_start + 136\n",
      "16  libsystem_pthread.dylib             0x000000018fae5e3c thread_start + 8\n",
      "\n"
     ]
    }
   ],
   "source": [
    "!python scraper.py --N 200 --i mark.csv --debug"
   ]
  },
  {
   "cell_type": "markdown",
   "metadata": {},
   "source": [
    "## Ignore from here down (I use it for testing the script)"
   ]
  },
  {
   "cell_type": "code",
   "execution_count": 4,
   "metadata": {
    "jupyter": {
     "source_hidden": true
    }
   },
   "outputs": [
    {
     "ename": "ModuleNotFoundError",
     "evalue": "No module named 'selenium'",
     "output_type": "error",
     "traceback": [
      "\u001b[0;31m---------------------------------------------------------------------------\u001b[0m",
      "\u001b[0;31mModuleNotFoundError\u001b[0m                       Traceback (most recent call last)",
      "Cell \u001b[0;32mIn[4], line 2\u001b[0m\n\u001b[1;32m      1\u001b[0m \u001b[38;5;28;01mimport\u001b[39;00m \u001b[38;5;21;01mrequests\u001b[39;00m\n\u001b[0;32m----> 2\u001b[0m \u001b[38;5;28;01mfrom\u001b[39;00m \u001b[38;5;21;01mgooglemaps\u001b[39;00m \u001b[38;5;28;01mimport\u001b[39;00m GoogleMapsScraper\n\u001b[1;32m      3\u001b[0m \u001b[38;5;28;01mfrom\u001b[39;00m \u001b[38;5;21;01mselenium\u001b[39;00m\u001b[38;5;21;01m.\u001b[39;00m\u001b[38;5;21;01mwebdriver\u001b[39;00m\u001b[38;5;21;01m.\u001b[39;00m\u001b[38;5;21;01mcommon\u001b[39;00m\u001b[38;5;21;01m.\u001b[39;00m\u001b[38;5;21;01mby\u001b[39;00m \u001b[38;5;28;01mimport\u001b[39;00m By\n\u001b[1;32m      5\u001b[0m \u001b[38;5;66;03m# Function to get IP address without using Tor\u001b[39;00m\n",
      "File \u001b[0;32m~/codeup-data-science/New-York-health-Inspection-Prediction/marc-folder/scraper_gmaps/googlemaps.py:2\u001b[0m\n\u001b[1;32m      1\u001b[0m \u001b[38;5;28;01mimport\u001b[39;00m \u001b[38;5;21;01mpandas\u001b[39;00m \u001b[38;5;28;01mas\u001b[39;00m \u001b[38;5;21;01mpd\u001b[39;00m\n\u001b[0;32m----> 2\u001b[0m \u001b[38;5;28;01mfrom\u001b[39;00m \u001b[38;5;21;01mselenium\u001b[39;00m\u001b[38;5;21;01m.\u001b[39;00m\u001b[38;5;21;01mwebdriver\u001b[39;00m\u001b[38;5;21;01m.\u001b[39;00m\u001b[38;5;21;01mcommon\u001b[39;00m\u001b[38;5;21;01m.\u001b[39;00m\u001b[38;5;21;01mkeys\u001b[39;00m \u001b[38;5;28;01mimport\u001b[39;00m Keys\n\u001b[1;32m      3\u001b[0m \u001b[38;5;28;01mfrom\u001b[39;00m \u001b[38;5;21;01mselenium\u001b[39;00m\u001b[38;5;21;01m.\u001b[39;00m\u001b[38;5;21;01mwebdriver\u001b[39;00m\u001b[38;5;21;01m.\u001b[39;00m\u001b[38;5;21;01mcommon\u001b[39;00m\u001b[38;5;21;01m.\u001b[39;00m\u001b[38;5;21;01maction_chains\u001b[39;00m \u001b[38;5;28;01mimport\u001b[39;00m ActionChains\n\u001b[1;32m      4\u001b[0m \u001b[38;5;28;01mfrom\u001b[39;00m \u001b[38;5;21;01mselenium\u001b[39;00m\u001b[38;5;21;01m.\u001b[39;00m\u001b[38;5;21;01mwebdriver\u001b[39;00m\u001b[38;5;21;01m.\u001b[39;00m\u001b[38;5;21;01msupport\u001b[39;00m\u001b[38;5;21;01m.\u001b[39;00m\u001b[38;5;21;01mui\u001b[39;00m \u001b[38;5;28;01mimport\u001b[39;00m WebDriverWait\n",
      "\u001b[0;31mModuleNotFoundError\u001b[0m: No module named 'selenium'"
     ]
    }
   ],
   "source": [
    "import requests\n",
    "from googlemaps import GoogleMapsScraper\n",
    "from selenium.webdriver.common.by import By\n",
    "\n",
    "# Function to get IP address without using Tor\n",
    "def get_ip_without_tor():\n",
    "    response = requests.get('http://httpbin.org/ip')\n",
    "    ip_without_tor = response.json()['origin']\n",
    "    print(\"IP without Tor:\", ip_without_tor)\n",
    "    return ip_without_tor\n",
    "\n",
    "# Function to get IP address using Tor with the initialized WebDriver\n",
    "def get_ip_with_tor(scraper):\n",
    "    scraper.driver.get('http://httpbin.org/ip')\n",
    "    response_text = scraper.driver.find_element(By.TAG_NAME, 'pre').text\n",
    "    ip_with_tor = eval(response_text)['origin']\n",
    "    print(\"IP with Tor:\", ip_with_tor)\n",
    "    return ip_with_tor\n",
    "\n",
    "def test_tor_connection():\n",
    "    print(\"Testing Tor connection...\")\n",
    "\n",
    "    # Initialize GoogleMapsScraper\n",
    "    scraper = GoogleMapsScraper()\n",
    "\n",
    "    # Get IP without Tor\n",
    "    ip_without_tor = get_ip_without_tor()\n",
    "\n",
    "    # Get IP with Tor\n",
    "    ip_with_tor = get_ip_with_tor(scraper)\n",
    "\n",
    "    # Check if the IP addresses are different\n",
    "    if ip_without_tor != ip_with_tor:\n",
    "        print(\"IP masking successful: Your IP address is being masked by Tor.\")\n",
    "    else:\n",
    "        print(\"IP masking unsuccessful: Your IP address is not being masked by Tor.\")\n",
    "\n",
    "    # Close and quit the WebDriver\n",
    "    # scraper.driver.quit()\n",
    "\n",
    "    print(\"Test completed.\")\n",
    "\n"
   ]
  },
  {
   "cell_type": "code",
   "execution_count": null,
   "metadata": {
    "jupyter": {
     "source_hidden": true
    },
    "scrolled": true
   },
   "outputs": [],
   "source": [
    "import os \n",
    "os.system('afplay /System/Library/Sounds/Ping.aiff')"
   ]
  },
  {
   "cell_type": "code",
   "execution_count": null,
   "metadata": {
    "jupyter": {
     "source_hidden": true
    },
    "scrolled": true
   },
   "outputs": [],
   "source": [
    "test_tor_connection()"
   ]
  },
  {
   "cell_type": "code",
   "execution_count": null,
   "metadata": {
    "jupyter": {
     "source_hidden": true
    }
   },
   "outputs": [],
   "source": [
    "from stem import Signal\n",
    "from stem.control import Controller"
   ]
  }
 ],
 "metadata": {
  "kernelspec": {
   "display_name": "Python 3 (ipykernel)",
   "language": "python",
   "name": "python3"
  },
  "language_info": {
   "codemirror_mode": {
    "name": "ipython",
    "version": 3
   },
   "file_extension": ".py",
   "mimetype": "text/x-python",
   "name": "python",
   "nbconvert_exporter": "python",
   "pygments_lexer": "ipython3",
   "version": "3.10.9"
  }
 },
 "nbformat": 4,
 "nbformat_minor": 4
}
