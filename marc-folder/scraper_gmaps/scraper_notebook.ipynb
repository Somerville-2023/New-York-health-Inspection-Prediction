{
 "cells": [
  {
   "cell_type": "code",
   "execution_count": 1,
   "metadata": {},
   "outputs": [],
   "source": [
    "# pip install bs4"
   ]
  },
  {
   "cell_type": "code",
   "execution_count": 2,
   "metadata": {},
   "outputs": [],
   "source": [
    "# pip install googlemaps"
   ]
  },
  {
   "cell_type": "markdown",
   "metadata": {},
   "source": [
    "  "
   ]
  },
  {
   "cell_type": "code",
   "execution_count": 4,
   "metadata": {},
   "outputs": [
    {
     "name": "stdout",
     "output_type": "stream",
     "text": [
      "Scraper initialized successfully.\n",
      "IP masking successful: Your IP address is being masked by Tor.\n",
      "Processing URL: https://www.google.com/maps/place/?q=place_id:ChIJ_WGAABL2wokRNthCl_PuyFc\n",
      "Attempting to sort reviews...\n",
      "Errors while readying to scrape: 0\n",
      "Starting to scrape reviews for https://www.google.com/maps/place/?q=place_id:ChIJ_WGAABL2wokRNthCl_PuyFc...\n",
      "\u001b[36m[Scraping from review 0]\u001b[0m\n",
      "Number of reviews fetched: 90\n",
      "\u001b[36m[Scraping from review 90]\u001b[0m\n",
      "Number of reviews fetched: 80\n",
      "\u001b[36m[Scraping from review 170]\u001b[0m\n",
      "Number of reviews fetched: 80\n",
      "The current page count is 1\n",
      "Processing URL: https://www.google.com/maps/place/?q=place_id:ChIJq7KFj79bwokRbKshg3MaTLY\n",
      "Attempting to sort reviews...\n",
      "^C\n",
      "Traceback (most recent call last):\n",
      "  File \"/Users/jongarcia/codeup-data-science/New-York-health-Inspection-Prediction/marc-folder/scraper_gmaps/scraper.py\", line 101, in <module>\n",
      "    error = scraper.sort_by(url, ind[args.sort_by])\n",
      "  File \"/Users/jongarcia/codeup-data-science/New-York-health-Inspection-Prediction/marc-folder/scraper_gmaps/googlemaps.py\", line 152, in sort_by\n",
      "    self.driver.get(url)\n",
      "  File \"/usr/local/anaconda3/lib/python3.10/site-packages/selenium/webdriver/remote/webdriver.py\", line 353, in get\n",
      "    self.execute(Command.GET, {\"url\": url})\n",
      "  File \"/usr/local/anaconda3/lib/python3.10/site-packages/selenium/webdriver/remote/webdriver.py\", line 342, in execute\n",
      "    response = self.command_executor.execute(driver_command, params)\n",
      "  File \"/usr/local/anaconda3/lib/python3.10/site-packages/selenium/webdriver/remote/remote_connection.py\", line 297, in execute\n",
      "    return self._request(command_info[0], url, body=data)\n",
      "  File \"/usr/local/anaconda3/lib/python3.10/site-packages/selenium/webdriver/remote/remote_connection.py\", line 318, in _request\n",
      "    response = self._conn.request(method, url, body=body, headers=headers)\n",
      "  File \"/usr/local/anaconda3/lib/python3.10/site-packages/urllib3/request.py\", line 81, in request\n",
      "    return self.request_encode_body(\n",
      "  File \"/usr/local/anaconda3/lib/python3.10/site-packages/urllib3/request.py\", line 173, in request_encode_body\n",
      "    return self.urlopen(method, url, **extra_kw)\n",
      "  File \"/usr/local/anaconda3/lib/python3.10/site-packages/urllib3/poolmanager.py\", line 376, in urlopen\n",
      "    response = conn.urlopen(method, u.request_uri, **kw)\n",
      "  File \"/usr/local/anaconda3/lib/python3.10/site-packages/urllib3/connectionpool.py\", line 715, in urlopen\n",
      "    httplib_response = self._make_request(\n",
      "  File \"/usr/local/anaconda3/lib/python3.10/site-packages/urllib3/connectionpool.py\", line 467, in _make_request\n",
      "    six.raise_from(e, None)\n",
      "  File \"<string>\", line 3, in raise_from\n",
      "  File \"/usr/local/anaconda3/lib/python3.10/site-packages/urllib3/connectionpool.py\", line 462, in _make_request\n",
      "    httplib_response = conn.getresponse()\n",
      "  File \"/usr/local/anaconda3/lib/python3.10/http/client.py\", line 1375, in getresponse\n",
      "    response.begin()\n",
      "  File \"/usr/local/anaconda3/lib/python3.10/http/client.py\", line 318, in begin\n",
      "    version, status, reason = self._read_status()\n",
      "  File \"/usr/local/anaconda3/lib/python3.10/http/client.py\", line 279, in _read_status\n",
      "    line = str(self.fp.readline(_MAXLINE + 1), \"iso-8859-1\")\n",
      "  File \"/usr/local/anaconda3/lib/python3.10/socket.py\", line 705, in readinto\n",
      "    return self._sock.recv_into(b)\n",
      "KeyboardInterrupt\n"
     ]
    }
   ],
   "source": [
    "!python scraper.py --N 200 --i mark.csv --debug"
   ]
  },
  {
   "cell_type": "markdown",
   "metadata": {},
   "source": [
    "## Ignore from here down (I use it for testing the script)"
   ]
  },
  {
   "cell_type": "code",
   "execution_count": 7,
   "metadata": {},
   "outputs": [],
   "source": [
    "import requests\n",
    "from googlemaps import GoogleMapsScraper\n",
    "from selenium.webdriver.common.by import By\n",
    "\n",
    "# Function to get IP address without using Tor\n",
    "def get_ip_without_tor():\n",
    "    response = requests.get('http://httpbin.org/ip')\n",
    "    ip_without_tor = response.json()['origin']\n",
    "    print(\"IP without Tor:\", ip_without_tor)\n",
    "    return ip_without_tor\n",
    "\n",
    "# Function to get IP address using Tor with the initialized WebDriver\n",
    "def get_ip_with_tor(scraper):\n",
    "    scraper.driver.get('http://httpbin.org/ip')\n",
    "    response_text = scraper.driver.find_element(By.TAG_NAME, 'pre').text\n",
    "    ip_with_tor = eval(response_text)['origin']\n",
    "    print(\"IP with Tor:\", ip_with_tor)\n",
    "    return ip_with_tor\n",
    "\n",
    "def test_tor_connection():\n",
    "    print(\"Testing Tor connection...\")\n",
    "\n",
    "    # Initialize GoogleMapsScraper\n",
    "    scraper = GoogleMapsScraper()\n",
    "\n",
    "    # Get IP without Tor\n",
    "    ip_without_tor = get_ip_without_tor()\n",
    "\n",
    "    # Get IP with Tor\n",
    "    ip_with_tor = get_ip_with_tor(scraper)\n",
    "\n",
    "    # Check if the IP addresses are different\n",
    "    if ip_without_tor != ip_with_tor:\n",
    "        print(\"IP masking successful: Your IP address is being masked by Tor.\")\n",
    "    else:\n",
    "        print(\"IP masking unsuccessful: Your IP address is not being masked by Tor.\")\n",
    "\n",
    "    # Close and quit the WebDriver\n",
    "    # scraper.driver.quit()\n",
    "\n",
    "    print(\"Test completed.\")\n",
    "\n"
   ]
  },
  {
   "cell_type": "code",
   "execution_count": 3,
   "metadata": {},
   "outputs": [
    {
     "data": {
      "text/plain": [
       "0"
      ]
     },
     "execution_count": 3,
     "metadata": {},
     "output_type": "execute_result"
    }
   ],
   "source": [
    "import os \n",
    "os.system('afplay /System/Library/Sounds/Ping.aiff')"
   ]
  },
  {
   "cell_type": "code",
   "execution_count": 8,
   "metadata": {},
   "outputs": [
    {
     "name": "stdout",
     "output_type": "stream",
     "text": [
      "Testing Tor connection...\n",
      "IP without Tor: 75.81.146.166\n",
      "IP with Tor: 188.68.41.191\n",
      "IP masking successful: Your IP address is being masked by Tor.\n",
      "Test completed.\n"
     ]
    }
   ],
   "source": [
    "test_tor_connection()"
   ]
  },
  {
   "cell_type": "code",
   "execution_count": 2,
   "metadata": {},
   "outputs": [],
   "source": [
    "from stem import Signal\n",
    "from stem.control import Controller"
   ]
  }
 ],
 "metadata": {
  "kernelspec": {
   "display_name": "Python 3 (ipykernel)",
   "language": "python",
   "name": "python3"
  },
  "language_info": {
   "codemirror_mode": {
    "name": "ipython",
    "version": 3
   },
   "file_extension": ".py",
   "mimetype": "text/x-python",
   "name": "python",
   "nbconvert_exporter": "python",
   "pygments_lexer": "ipython3",
   "version": "3.10.12"
  }
 },
 "nbformat": 4,
 "nbformat_minor": 4
}
