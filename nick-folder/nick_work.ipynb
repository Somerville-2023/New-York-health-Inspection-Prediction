{
 "cells": [
  {
   "cell_type": "markdown",
   "id": "cee5f588-73d7-42ea-9bed-2a7cd7bbb924",
   "metadata": {},
   "source": [
    "# NY Food review project"
   ]
  },
  {
   "cell_type": "markdown",
   "id": "c8609587-569e-4ed2-aee1-749042b9856c",
   "metadata": {},
   "source": [
    "This notebook contains testing and scratch work"
   ]
  },
  {
   "cell_type": "markdown",
   "id": "e7198278-49f4-46b7-af9a-1c11653a353a",
   "metadata": {},
   "source": [
    "### Imports"
   ]
  },
  {
   "cell_type": "code",
   "execution_count": 131,
   "id": "c623d9ef-1aea-4c5a-8fc5-5a07080a29b8",
   "metadata": {},
   "outputs": [
    {
     "name": "stdout",
     "output_type": "stream",
     "text": [
      "The autoreload extension is already loaded. To reload it, use:\n",
      "  %reload_ext autoreload\n"
     ]
    }
   ],
   "source": [
    "%load_ext autoreload\n",
    "%autoreload 2\n",
    "\n",
    "# Import ds libraries\n",
    "import pandas as pd\n",
    "import numpy as np\n",
    "import re\n",
    "\n",
    "# Import acquire functions\n",
    "import nick_acquire as a"
   ]
  },
  {
   "cell_type": "markdown",
   "id": "0a54819b-e577-4c89-9fc2-e214ce2e7625",
   "metadata": {},
   "source": [
    "### Data dictionary"
   ]
  },
  {
   "cell_type": "markdown",
   "id": "33097f0a-7a68-47cd-9089-9cdbbdf6d39d",
   "metadata": {
    "tags": []
   },
   "source": [
    "|          feature          |                            description                           |\n",
    "| ------------------------- | ---------------------------------------------------------------- |\n",
    "| camis                     | Unique identifier for the restaurant                             |\n",
    "| dba                       | Name of the business                                             |\n",
    "| boro                      | Borough in which restaurant is located                           |\n",
    "| building                  | Building number for restaurant                                   |\n",
    "| street                    | Street name for establishment                                    |\n",
    "| zipcode                   | Zip code for the establishment                                   |\n",
    "| phone                     | Phone number for the establishment                               |\n",
    "| inspection_date           | Date of the inspection of the restaurant                         |\n",
    "| critical_flag             | Indicator of critical violation                                  |\n",
    "| record_date               | The date when the extract was run to produce this data set       |\n",
    "| latitude                  | Latitude                                                         |\n",
    "| longitude                 | Longitude                                                        |\n",
    "| community_board           | ?                                                                |\n",
    "| council_district          | ?                                                                |\n",
    "| census_tract              | This is a geographic region defined for the purpose of taking a census|\n",
    "| bin                       | This stands for Building Identification Number.                  |\n",
    "| bbl                       | Borough, Block, and Lot. It's a unique real state id             |\n",
    "| nta                       | Neighborhood Tabulation Area                                     |\n",
    "| cuisine_description       | Describes type of cuisine at the restaurant                      |\n",
    "| action                    | The actions that is associated with each restaurant inspection   |\n",
    "| violation_code            | Violation code associated with establishment inspection          |\n",
    "| violation_description     | Violation description associated with establishment inspection   |\n",
    "| score                     | Total score for a particular inspection                          |\n",
    "| grade                     | Grade associated with inspection                                 |\n",
    "| grade_date                | Date when the current grade was issued                           |\n",
    "| inspection_type           | Combination of the inspection program and the type of inspection |"
   ]
  },
  {
   "cell_type": "markdown",
   "id": "d04ae401-8c02-46f6-81f8-88a3742101c9",
   "metadata": {},
   "source": [
    "This field represents the actions that is associated with each restaurant inspection. ;\n",
    "• Violations were cited in the following area(s). \n",
    "• No violations were recorded at the time of this inspection. • Establishment re-opened by DOHMH \n",
    "• Establishment re-closed by DOHMH \n",
    "• Establishment Closed by DOHMH.  Violations were cited in the following area(s) and those requiring immediate action were addressed. \n",
    "• \"Missing\" = not yet inspected;"
   ]
  },
  {
   "cell_type": "markdown",
   "id": "e2807714-9e65-4602-b4bd-401edec988d1",
   "metadata": {},
   "source": [
    "Grade associated with the inspection; \n",
    "• N = Not Yet Graded\n",
    "• A = Grade A\n",
    "• B = Grade B\n",
    "• C = Grade C\n",
    "• Z = Grade Pending\n",
    "• P = Grade Pending issued on re-opening following an initial inspection that resulted in a closure"
   ]
  },
  {
   "cell_type": "code",
   "execution_count": 134,
   "id": "f87465c4-a5f7-49fd-bc46-efdf736b4d20",
   "metadata": {},
   "outputs": [
    {
     "data": {
      "text/html": [
       "<div>\n",
       "<style scoped>\n",
       "    .dataframe tbody tr th:only-of-type {\n",
       "        vertical-align: middle;\n",
       "    }\n",
       "\n",
       "    .dataframe tbody tr th {\n",
       "        vertical-align: top;\n",
       "    }\n",
       "\n",
       "    .dataframe thead th {\n",
       "        text-align: right;\n",
       "    }\n",
       "</style>\n",
       "<table border=\"1\" class=\"dataframe\">\n",
       "  <thead>\n",
       "    <tr style=\"text-align: right;\">\n",
       "      <th></th>\n",
       "      <th>camis</th>\n",
       "      <th>dba</th>\n",
       "      <th>boro</th>\n",
       "      <th>building</th>\n",
       "      <th>street</th>\n",
       "      <th>zipcode</th>\n",
       "      <th>phone</th>\n",
       "      <th>inspection_date</th>\n",
       "      <th>critical_flag</th>\n",
       "      <th>record_date</th>\n",
       "      <th>...</th>\n",
       "      <th>bbl</th>\n",
       "      <th>nta</th>\n",
       "      <th>cuisine_description</th>\n",
       "      <th>action</th>\n",
       "      <th>violation_code</th>\n",
       "      <th>violation_description</th>\n",
       "      <th>score</th>\n",
       "      <th>grade</th>\n",
       "      <th>grade_date</th>\n",
       "      <th>inspection_type</th>\n",
       "    </tr>\n",
       "  </thead>\n",
       "  <tbody>\n",
       "    <tr>\n",
       "      <th>0</th>\n",
       "      <td>50106756</td>\n",
       "      <td>UNGARO COAL FIRED PIZZA CAFE</td>\n",
       "      <td>Staten Island</td>\n",
       "      <td>1298</td>\n",
       "      <td>FOREST AVENUE</td>\n",
       "      <td>10302.0</td>\n",
       "      <td>6464690930</td>\n",
       "      <td>1900-01-01T00:00:00.000</td>\n",
       "      <td>Not Applicable</td>\n",
       "      <td>2023-10-26T06:00:14.000</td>\n",
       "      <td>...</td>\n",
       "      <td>5.003870e+09</td>\n",
       "      <td>SI07</td>\n",
       "      <td>NaN</td>\n",
       "      <td>NaN</td>\n",
       "      <td>NaN</td>\n",
       "      <td>NaN</td>\n",
       "      <td>NaN</td>\n",
       "      <td>NaN</td>\n",
       "      <td>NaN</td>\n",
       "      <td>NaN</td>\n",
       "    </tr>\n",
       "    <tr>\n",
       "      <th>1</th>\n",
       "      <td>50105716</td>\n",
       "      <td>STELLA'S</td>\n",
       "      <td>Brooklyn</td>\n",
       "      <td>559</td>\n",
       "      <td>5 AVENUE</td>\n",
       "      <td>11215.0</td>\n",
       "      <td>4155703174</td>\n",
       "      <td>1900-01-01T00:00:00.000</td>\n",
       "      <td>Not Applicable</td>\n",
       "      <td>2023-10-26T06:00:14.000</td>\n",
       "      <td>...</td>\n",
       "      <td>3.010480e+09</td>\n",
       "      <td>BK37</td>\n",
       "      <td>NaN</td>\n",
       "      <td>NaN</td>\n",
       "      <td>NaN</td>\n",
       "      <td>NaN</td>\n",
       "      <td>NaN</td>\n",
       "      <td>NaN</td>\n",
       "      <td>NaN</td>\n",
       "      <td>NaN</td>\n",
       "    </tr>\n",
       "    <tr>\n",
       "      <th>2</th>\n",
       "      <td>41168748</td>\n",
       "      <td>DUNKIN</td>\n",
       "      <td>Bronx</td>\n",
       "      <td>880</td>\n",
       "      <td>GARRISON AVENUE</td>\n",
       "      <td>10474.0</td>\n",
       "      <td>7188614171</td>\n",
       "      <td>2022-03-30T00:00:00.000</td>\n",
       "      <td>Not Critical</td>\n",
       "      <td>2023-10-26T06:00:11.000</td>\n",
       "      <td>...</td>\n",
       "      <td>2.027390e+09</td>\n",
       "      <td>BX27</td>\n",
       "      <td>Donuts</td>\n",
       "      <td>Violations were cited in the following area(s).</td>\n",
       "      <td>10J</td>\n",
       "      <td>Hand wash sign not posted</td>\n",
       "      <td>13.0</td>\n",
       "      <td>A</td>\n",
       "      <td>2022-03-30T00:00:00.000</td>\n",
       "      <td>Cycle Inspection / Initial Inspection</td>\n",
       "    </tr>\n",
       "  </tbody>\n",
       "</table>\n",
       "<p>3 rows × 26 columns</p>\n",
       "</div>"
      ],
      "text/plain": [
       "      camis                           dba           boro building  \\\n",
       "0  50106756  UNGARO COAL FIRED PIZZA CAFE  Staten Island     1298   \n",
       "1  50105716                      STELLA'S       Brooklyn      559   \n",
       "2  41168748                        DUNKIN          Bronx      880   \n",
       "\n",
       "            street  zipcode       phone          inspection_date  \\\n",
       "0    FOREST AVENUE  10302.0  6464690930  1900-01-01T00:00:00.000   \n",
       "1         5 AVENUE  11215.0  4155703174  1900-01-01T00:00:00.000   \n",
       "2  GARRISON AVENUE  10474.0  7188614171  2022-03-30T00:00:00.000   \n",
       "\n",
       "    critical_flag              record_date  ...           bbl   nta  \\\n",
       "0  Not Applicable  2023-10-26T06:00:14.000  ...  5.003870e+09  SI07   \n",
       "1  Not Applicable  2023-10-26T06:00:14.000  ...  3.010480e+09  BK37   \n",
       "2    Not Critical  2023-10-26T06:00:11.000  ...  2.027390e+09  BX27   \n",
       "\n",
       "   cuisine_description                                           action  \\\n",
       "0                  NaN                                              NaN   \n",
       "1                  NaN                                              NaN   \n",
       "2               Donuts  Violations were cited in the following area(s).   \n",
       "\n",
       "   violation_code      violation_description  score grade  \\\n",
       "0             NaN                        NaN    NaN   NaN   \n",
       "1             NaN                        NaN    NaN   NaN   \n",
       "2             10J  Hand wash sign not posted   13.0     A   \n",
       "\n",
       "                grade_date                        inspection_type  \n",
       "0                      NaN                                    NaN  \n",
       "1                      NaN                                    NaN  \n",
       "2  2022-03-30T00:00:00.000  Cycle Inspection / Initial Inspection  \n",
       "\n",
       "[3 rows x 26 columns]"
      ]
     },
     "execution_count": 134,
     "metadata": {},
     "output_type": "execute_result"
    }
   ],
   "source": [
    "ny = a.acquire_ny()\n",
    "ny.head(3)"
   ]
  },
  {
   "cell_type": "code",
   "execution_count": 135,
   "id": "a9e8ca28-94bf-4f4c-a5a5-f009ce559efb",
   "metadata": {},
   "outputs": [
    {
     "data": {
      "text/plain": [
       "28232"
      ]
     },
     "execution_count": 135,
     "metadata": {},
     "output_type": "execute_result"
    }
   ],
   "source": [
    "ny.camis.nunique()"
   ]
  },
  {
   "cell_type": "code",
   "execution_count": 181,
   "id": "e9068dea-3298-471d-b0d0-1fbd29ef72a3",
   "metadata": {},
   "outputs": [
    {
     "data": {
      "text/plain": [
       "22114"
      ]
     },
     "execution_count": 181,
     "metadata": {},
     "output_type": "execute_result"
    }
   ],
   "source": [
    "ny.dba.nunique()"
   ]
  },
  {
   "cell_type": "code",
   "execution_count": 177,
   "id": "ce2de584-c904-4459-a047-a2c57e4c9e37",
   "metadata": {},
   "outputs": [
    {
     "data": {
      "text/plain": [
       "camis                         0\n",
       "dba                         508\n",
       "boro                          0\n",
       "building                    351\n",
       "street                        6\n",
       "zipcode                       0\n",
       "phone                         7\n",
       "inspection_date               0\n",
       "critical_flag                 0\n",
       "record_date                   0\n",
       "latitude                    257\n",
       "longitude                   257\n",
       "community_board            3247\n",
       "council_district           3251\n",
       "census_tract               3251\n",
       "bin                        4237\n",
       "bbl                         573\n",
       "nta                        3247\n",
       "cuisine_description        2305\n",
       "action                     2305\n",
       "violation_code             3452\n",
       "violation_description      3452\n",
       "score                      9706\n",
       "grade                    105753\n",
       "grade_date               114506\n",
       "inspection_type            2305\n",
       "dtype: int64"
      ]
     },
     "execution_count": 177,
     "metadata": {},
     "output_type": "execute_result"
    }
   ],
   "source": [
    "ny.isna().sum()"
   ]
  },
  {
   "cell_type": "code",
   "execution_count": 136,
   "id": "bb93ca71-fb25-4265-b64f-03a0edddc2bc",
   "metadata": {},
   "outputs": [],
   "source": [
    "ny_info = pd.DataFrame(ny.isna().sum())\n",
    "ny_info['dtype'] = ny.dtypes\n",
    "ny_info = ny_info.rename(columns={0:'nulls'})"
   ]
  },
  {
   "cell_type": "code",
   "execution_count": 137,
   "id": "29d95e0c-58c7-4bac-943d-d2bce8db0f72",
   "metadata": {},
   "outputs": [
    {
     "data": {
      "text/html": [
       "<div>\n",
       "<style scoped>\n",
       "    .dataframe tbody tr th:only-of-type {\n",
       "        vertical-align: middle;\n",
       "    }\n",
       "\n",
       "    .dataframe tbody tr th {\n",
       "        vertical-align: top;\n",
       "    }\n",
       "\n",
       "    .dataframe thead th {\n",
       "        text-align: right;\n",
       "    }\n",
       "</style>\n",
       "<table border=\"1\" class=\"dataframe\">\n",
       "  <thead>\n",
       "    <tr style=\"text-align: right;\">\n",
       "      <th></th>\n",
       "      <th>camis</th>\n",
       "      <th>dba</th>\n",
       "      <th>boro</th>\n",
       "      <th>building</th>\n",
       "      <th>street</th>\n",
       "      <th>zipcode</th>\n",
       "      <th>phone</th>\n",
       "      <th>inspection_date</th>\n",
       "      <th>critical_flag</th>\n",
       "      <th>record_date</th>\n",
       "      <th>...</th>\n",
       "      <th>bbl</th>\n",
       "      <th>nta</th>\n",
       "      <th>cuisine_description</th>\n",
       "      <th>action</th>\n",
       "      <th>violation_code</th>\n",
       "      <th>violation_description</th>\n",
       "      <th>score</th>\n",
       "      <th>grade</th>\n",
       "      <th>grade_date</th>\n",
       "      <th>inspection_type</th>\n",
       "    </tr>\n",
       "  </thead>\n",
       "  <tbody>\n",
       "    <tr>\n",
       "      <th>nulls</th>\n",
       "      <td>0</td>\n",
       "      <td>508</td>\n",
       "      <td>0</td>\n",
       "      <td>351</td>\n",
       "      <td>6</td>\n",
       "      <td>2680</td>\n",
       "      <td>7</td>\n",
       "      <td>0</td>\n",
       "      <td>0</td>\n",
       "      <td>0</td>\n",
       "      <td>...</td>\n",
       "      <td>573</td>\n",
       "      <td>3247</td>\n",
       "      <td>2305</td>\n",
       "      <td>2305</td>\n",
       "      <td>3452</td>\n",
       "      <td>3452</td>\n",
       "      <td>9706</td>\n",
       "      <td>105753</td>\n",
       "      <td>114506</td>\n",
       "      <td>2305</td>\n",
       "    </tr>\n",
       "    <tr>\n",
       "      <th>dtype</th>\n",
       "      <td>int64</td>\n",
       "      <td>object</td>\n",
       "      <td>object</td>\n",
       "      <td>object</td>\n",
       "      <td>object</td>\n",
       "      <td>float64</td>\n",
       "      <td>object</td>\n",
       "      <td>object</td>\n",
       "      <td>object</td>\n",
       "      <td>object</td>\n",
       "      <td>...</td>\n",
       "      <td>float64</td>\n",
       "      <td>object</td>\n",
       "      <td>object</td>\n",
       "      <td>object</td>\n",
       "      <td>object</td>\n",
       "      <td>object</td>\n",
       "      <td>float64</td>\n",
       "      <td>object</td>\n",
       "      <td>object</td>\n",
       "      <td>object</td>\n",
       "    </tr>\n",
       "  </tbody>\n",
       "</table>\n",
       "<p>2 rows × 26 columns</p>\n",
       "</div>"
      ],
      "text/plain": [
       "       camis     dba    boro building  street  zipcode   phone  \\\n",
       "nulls      0     508       0      351       6     2680       7   \n",
       "dtype  int64  object  object   object  object  float64  object   \n",
       "\n",
       "      inspection_date critical_flag record_date  ...      bbl     nta  \\\n",
       "nulls               0             0           0  ...      573    3247   \n",
       "dtype          object        object      object  ...  float64  object   \n",
       "\n",
       "      cuisine_description  action violation_code violation_description  \\\n",
       "nulls                2305    2305           3452                  3452   \n",
       "dtype              object  object         object                object   \n",
       "\n",
       "         score   grade grade_date inspection_type  \n",
       "nulls     9706  105753     114506            2305  \n",
       "dtype  float64  object     object          object  \n",
       "\n",
       "[2 rows x 26 columns]"
      ]
     },
     "execution_count": 137,
     "metadata": {},
     "output_type": "execute_result"
    }
   ],
   "source": [
    "ny_info.T"
   ]
  },
  {
   "cell_type": "code",
   "execution_count": 138,
   "id": "ae54c8e5-25b5-43a5-81a7-d45de13831a5",
   "metadata": {},
   "outputs": [
    {
     "data": {
      "text/plain": [
       "207929"
      ]
     },
     "execution_count": 138,
     "metadata": {},
     "output_type": "execute_result"
    }
   ],
   "source": [
    "len(ny)"
   ]
  },
  {
   "cell_type": "code",
   "execution_count": 147,
   "id": "f4230579-3d7f-42f3-b890-909b55fb692f",
   "metadata": {},
   "outputs": [],
   "source": [
    "# Clean phone numbers by removing non-digit characters and dropping nulls\n",
    "ny.phone = ny.phone.str.replace(' ','')\n",
    "ny.phone = ny.phone.str.replace('_','')\n",
    "ny.phone = ny.phone.dropna()"
   ]
  },
  {
   "cell_type": "code",
   "execution_count": 148,
   "id": "88a054e1-3705-4333-a17a-f00cff09e162",
   "metadata": {},
   "outputs": [],
   "source": [
    "# Clean zipcodes by filling nulls with 0 and then converting to integers\n",
    "ny.zipcode = ny.zipcode.fillna(0)\n",
    "ny.zipcode = ny.zipcode.astype(int)"
   ]
  },
  {
   "cell_type": "code",
   "execution_count": 165,
   "id": "4d816414-0344-4985-ba9b-d0cf8a5f386a",
   "metadata": {},
   "outputs": [
    {
     "data": {
      "text/plain": [
       "12.0    16197\n",
       "13.0    14803\n",
       "10.0     8024\n",
       "11.0     7012\n",
       "9.0      6614\n",
       "7.0      5062\n",
       "8.0      2633\n",
       "0.0      2540\n",
       "5.0      2413\n",
       "2.0      2229\n",
       "4.0      1633\n",
       "6.0       948\n",
       "3.0       787\n",
       "43.0        6\n",
       "19.0        3\n",
       "16.0        2\n",
       "Name: score, dtype: int64"
      ]
     },
     "execution_count": 165,
     "metadata": {},
     "output_type": "execute_result"
    }
   ],
   "source": [
    "ny.score[ny.grade == 'A'].value_counts()"
   ]
  },
  {
   "cell_type": "code",
   "execution_count": 178,
   "id": "ac766c4c-cb45-4a81-a7c3-3c257295d3ad",
   "metadata": {},
   "outputs": [
    {
     "data": {
      "text/plain": [
       "27.0    1172\n",
       "23.0    1051\n",
       "21.0    1049\n",
       "26.0    1003\n",
       "25.0     909\n",
       "19.0     808\n",
       "18.0     806\n",
       "16.0     792\n",
       "24.0     786\n",
       "22.0     721\n",
       "20.0     638\n",
       "14.0     599\n",
       "17.0     466\n",
       "15.0     264\n",
       "9.0       11\n",
       "0.0        8\n",
       "30.0       7\n",
       "33.0       6\n",
       "42.0       5\n",
       "12.0       3\n",
       "7.0        2\n",
       "5.0        2\n",
       "Name: score, dtype: int64"
      ]
     },
     "execution_count": 178,
     "metadata": {},
     "output_type": "execute_result"
    }
   ],
   "source": [
    "ny.score[ny.grade == 'B'].value_counts()"
   ]
  },
  {
   "cell_type": "code",
   "execution_count": 180,
   "id": "09ef1682-bdff-4e98-bf29-940323932fe6",
   "metadata": {},
   "outputs": [
    {
     "data": {
      "text/plain": [
       "28.0    403\n",
       "30.0    392\n",
       "33.0    354\n",
       "31.0    339\n",
       "35.0    307\n",
       "       ... \n",
       "20.0      3\n",
       "16.0      3\n",
       "14.0      3\n",
       "12.0      3\n",
       "6.0       2\n",
       "Name: score, Length: 78, dtype: int64"
      ]
     },
     "execution_count": 180,
     "metadata": {},
     "output_type": "execute_result"
    }
   ],
   "source": [
    "ny.score[ny.grade == 'C'].value_counts()"
   ]
  },
  {
   "cell_type": "code",
   "execution_count": 176,
   "id": "cf8e30ce-2f0b-46fe-ad52-1f79faffd700",
   "metadata": {},
   "outputs": [
    {
     "data": {
      "text/plain": [
       "1900-01-01T00:00:00.000    2305\n",
       "2023-04-24T00:00:00.000      38\n",
       "2023-03-22T00:00:00.000      36\n",
       "2023-04-26T00:00:00.000      36\n",
       "2023-02-02T00:00:00.000      35\n",
       "                           ... \n",
       "2023-01-21T00:00:00.000       1\n",
       "2021-10-19T00:00:00.000       1\n",
       "2018-03-02T00:00:00.000       1\n",
       "2018-04-20T00:00:00.000       1\n",
       "2021-01-12T00:00:00.000       1\n",
       "Name: inspection_date, Length: 998, dtype: int64"
      ]
     },
     "execution_count": 176,
     "metadata": {},
     "output_type": "execute_result"
    }
   ],
   "source": [
    "ny[ny.score.isna()].inspection_date.value_counts()"
   ]
  },
  {
   "cell_type": "code",
   "execution_count": 161,
   "id": "189bedad-5aa7-40ff-8910-a526a2331412",
   "metadata": {},
   "outputs": [
    {
     "name": "stdout",
     "output_type": "stream",
     "text": [
      " nan   nan   nan \n",
      " A   9.754463656108086   43.0 \n",
      " P   8.745644599303136   27.0 \n",
      " Z   28.856806959793087   92.0 \n",
      " N   28.547915476870358   168.0 \n",
      " B   21.400072020165645   42.0 \n",
      " C   40.95534897896982   102.0 \n"
     ]
    }
   ],
   "source": [
    "for uniq in ny.grade.unique():\n",
    "    mini = ny.score[(ny.grade == uniq) & (ny.grade.notna())].mean()\n",
    "    maxi = ny.score[ny.grade == uniq].max()\n",
    "    print(f' {uniq}   {mini}   {maxi} ')"
   ]
  },
  {
   "cell_type": "code",
   "execution_count": 152,
   "id": "42f49525-e0e1-45aa-ac37-beabf43f6975",
   "metadata": {},
   "outputs": [
    {
     "data": {
      "text/plain": [
       "A    70908\n",
       "B    11108\n",
       "N     8770\n",
       "C     6563\n",
       "Z     4253\n",
       "P      574\n",
       "Name: grade, dtype: int64"
      ]
     },
     "execution_count": 152,
     "metadata": {},
     "output_type": "execute_result"
    }
   ],
   "source": [
    "ny.grade.value_counts()"
   ]
  },
  {
   "cell_type": "code",
   "execution_count": 151,
   "id": "3e460cd3-d7bb-4fe8-8244-80f67b5e9306",
   "metadata": {},
   "outputs": [
    {
     "data": {
      "text/html": [
       "<div>\n",
       "<style scoped>\n",
       "    .dataframe tbody tr th:only-of-type {\n",
       "        vertical-align: middle;\n",
       "    }\n",
       "\n",
       "    .dataframe tbody tr th {\n",
       "        vertical-align: top;\n",
       "    }\n",
       "\n",
       "    .dataframe thead th {\n",
       "        text-align: right;\n",
       "    }\n",
       "</style>\n",
       "<table border=\"1\" class=\"dataframe\">\n",
       "  <thead>\n",
       "    <tr style=\"text-align: right;\">\n",
       "      <th></th>\n",
       "      <th>score</th>\n",
       "      <th>grade</th>\n",
       "    </tr>\n",
       "  </thead>\n",
       "  <tbody>\n",
       "    <tr>\n",
       "      <th>0</th>\n",
       "      <td>NaN</td>\n",
       "      <td>NaN</td>\n",
       "    </tr>\n",
       "    <tr>\n",
       "      <th>1</th>\n",
       "      <td>NaN</td>\n",
       "      <td>NaN</td>\n",
       "    </tr>\n",
       "    <tr>\n",
       "      <th>2</th>\n",
       "      <td>13.0</td>\n",
       "      <td>A</td>\n",
       "    </tr>\n",
       "    <tr>\n",
       "      <th>3</th>\n",
       "      <td>NaN</td>\n",
       "      <td>NaN</td>\n",
       "    </tr>\n",
       "    <tr>\n",
       "      <th>4</th>\n",
       "      <td>NaN</td>\n",
       "      <td>NaN</td>\n",
       "    </tr>\n",
       "    <tr>\n",
       "      <th>...</th>\n",
       "      <td>...</td>\n",
       "      <td>...</td>\n",
       "    </tr>\n",
       "    <tr>\n",
       "      <th>207924</th>\n",
       "      <td>7.0</td>\n",
       "      <td>A</td>\n",
       "    </tr>\n",
       "    <tr>\n",
       "      <th>207925</th>\n",
       "      <td>26.0</td>\n",
       "      <td>Z</td>\n",
       "    </tr>\n",
       "    <tr>\n",
       "      <th>207926</th>\n",
       "      <td>0.0</td>\n",
       "      <td>A</td>\n",
       "    </tr>\n",
       "    <tr>\n",
       "      <th>207927</th>\n",
       "      <td>48.0</td>\n",
       "      <td>C</td>\n",
       "    </tr>\n",
       "    <tr>\n",
       "      <th>207928</th>\n",
       "      <td>5.0</td>\n",
       "      <td>A</td>\n",
       "    </tr>\n",
       "  </tbody>\n",
       "</table>\n",
       "<p>207929 rows × 2 columns</p>\n",
       "</div>"
      ],
      "text/plain": [
       "        score grade\n",
       "0         NaN   NaN\n",
       "1         NaN   NaN\n",
       "2        13.0     A\n",
       "3         NaN   NaN\n",
       "4         NaN   NaN\n",
       "...       ...   ...\n",
       "207924    7.0     A\n",
       "207925   26.0     Z\n",
       "207926    0.0     A\n",
       "207927   48.0     C\n",
       "207928    5.0     A\n",
       "\n",
       "[207929 rows x 2 columns]"
      ]
     },
     "execution_count": 151,
     "metadata": {},
     "output_type": "execute_result"
    }
   ],
   "source": [
    "ny[['score', 'grade']]"
   ]
  },
  {
   "cell_type": "code",
   "execution_count": null,
   "id": "b3ea68c9-8175-4f5f-a6ba-9be24b5f487b",
   "metadata": {},
   "outputs": [],
   "source": []
  }
 ],
 "metadata": {
  "kernelspec": {
   "display_name": "Python 3 (ipykernel)",
   "language": "python",
   "name": "python3"
  },
  "language_info": {
   "codemirror_mode": {
    "name": "ipython",
    "version": 3
   },
   "file_extension": ".py",
   "mimetype": "text/x-python",
   "name": "python",
   "nbconvert_exporter": "python",
   "pygments_lexer": "ipython3",
   "version": "3.10.9"
  }
 },
 "nbformat": 4,
 "nbformat_minor": 5
}
