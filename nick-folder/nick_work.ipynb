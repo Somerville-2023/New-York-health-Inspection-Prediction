{
 "cells": [
  {
   "cell_type": "markdown",
   "id": "cee5f588-73d7-42ea-9bed-2a7cd7bbb924",
   "metadata": {},
   "source": [
    "# NY Food review project"
   ]
  },
  {
   "cell_type": "markdown",
   "id": "c8609587-569e-4ed2-aee1-749042b9856c",
   "metadata": {},
   "source": [
    "This notebook contains testing and scratch work"
   ]
  },
  {
   "cell_type": "markdown",
   "id": "a6411f80-72d9-407d-b9be-fbc36ce615f3",
   "metadata": {},
   "source": [
    " "
   ]
  },
  {
   "cell_type": "markdown",
   "id": "4e755bcb-e18a-4c73-ac89-5f10efdd50ac",
   "metadata": {},
   "source": [
    " "
   ]
  },
  {
   "cell_type": "markdown",
   "id": "d55d1c2d-9587-466b-920f-6a6243da01d5",
   "metadata": {},
   "source": [
    " "
   ]
  },
  {
   "cell_type": "markdown",
   "id": "e7198278-49f4-46b7-af9a-1c11653a353a",
   "metadata": {},
   "source": [
    "### Imports"
   ]
  },
  {
   "cell_type": "code",
   "execution_count": 86,
   "id": "c623d9ef-1aea-4c5a-8fc5-5a07080a29b8",
   "metadata": {},
   "outputs": [
    {
     "name": "stdout",
     "output_type": "stream",
     "text": [
      "The autoreload extension is already loaded. To reload it, use:\n",
      "  %reload_ext autoreload\n"
     ]
    }
   ],
   "source": [
    "%load_ext autoreload\n",
    "%autoreload 2\n",
    "\n",
    "# Import ds libraries\n",
    "import pandas as pd\n",
    "import numpy as np\n",
    "import re\n",
    "\n",
    "# Import acquire functions\n",
    "import nick_acquire as a\n",
    "import nick_prepare as prep"
   ]
  },
  {
   "cell_type": "code",
   "execution_count": 3,
   "id": "117dd746-2154-4d77-9226-7ce713bfe9fb",
   "metadata": {},
   "outputs": [],
   "source": [
    "pd.set_option('display.max_columns', None)"
   ]
  },
  {
   "cell_type": "markdown",
   "id": "0a54819b-e577-4c89-9fc2-e214ce2e7625",
   "metadata": {},
   "source": [
    "### Data dictionary"
   ]
  },
  {
   "cell_type": "markdown",
   "id": "33097f0a-7a68-47cd-9089-9cdbbdf6d39d",
   "metadata": {
    "tags": []
   },
   "source": [
    "|          feature          |                            description                           |\n",
    "| ------------------------- | ---------------------------------------------------------------- |\n",
    "| camis                     | Unique identifier for the restaurant                             |\n",
    "| dba                       | Name of the business                                             |\n",
    "| boro                      | Borough in which restaurant is located                           |\n",
    "| building                  | Building number for restaurant                                   |\n",
    "| street                    | Street name for establishment                                    |\n",
    "| zipcode                   | Zip code for the establishment                                   |\n",
    "| phone                     | Phone number for the establishment                               |\n",
    "| inspection_date           | Date of the inspection of the restaurant                         |\n",
    "| critical_flag             | Indicator of critical violation                                  |\n",
    "| record_date               | The date when the extract was run to produce this data set       |\n",
    "| latitude                  | Latitude                                                         |\n",
    "| longitude                 | Longitude                                                        |\n",
    "| community_board           | Local government body in the five boroughs of New York City      |\n",
    "| council_district          | District of a New York City Council member                       |\n",
    "| census_tract              | This is a geographic region  for the purpose of a census         |\n",
    "| bin                       | This stands for Building Identification Number.                  |\n",
    "| bbl                       | Borough, Block, and Lot. It's a unique real state id             |\n",
    "| nta                       | Neighborhood Tabulation Area                                     |\n",
    "| cuisine_description       | Describes type of cuisine at the restaurant                      |\n",
    "| action                    | The actions that is associated with each restaurant inspection   |\n",
    "| violation_code            | Violation code associated with establishment inspection          |\n",
    "| violation_description     | Violation description associated with establishment inspection   |\n",
    "| score                     | Total score for a particular inspection                          |\n",
    "| grade                     | Grade associated with inspection                                 |\n",
    "| grade_date                | Date when the current grade was issued                           |\n",
    "| inspection_type           | Combination of the inspection program and the type of inspection |"
   ]
  },
  {
   "cell_type": "markdown",
   "id": "cd3076ce-0dbd-47d2-94a7-8dc27d9028de",
   "metadata": {},
   "source": [
    "This field represents the actions that is associated with each restaurant inspection. ; \n",
    "\n",
    "* Violations were cited in the following area(s). \n",
    "* No violations were recorded at the time of this inspection. \n",
    "* Establishment re-opened by DOHMH \n",
    "* Establishment re-closed by DOHMH \n",
    "* Establishment Closed by DOHMH.  Violations were cited in the following area(s) and those requiring immediate action were addressed. \n",
    "* \"Missing\" = not yet inspected;"
   ]
  },
  {
   "cell_type": "code",
   "execution_count": 4,
   "id": "f87465c4-a5f7-49fd-bc46-efdf736b4d20",
   "metadata": {},
   "outputs": [
    {
     "data": {
      "text/html": [
       "<div>\n",
       "<style scoped>\n",
       "    .dataframe tbody tr th:only-of-type {\n",
       "        vertical-align: middle;\n",
       "    }\n",
       "\n",
       "    .dataframe tbody tr th {\n",
       "        vertical-align: top;\n",
       "    }\n",
       "\n",
       "    .dataframe thead th {\n",
       "        text-align: right;\n",
       "    }\n",
       "</style>\n",
       "<table border=\"1\" class=\"dataframe\">\n",
       "  <thead>\n",
       "    <tr style=\"text-align: right;\">\n",
       "      <th></th>\n",
       "      <th>camis</th>\n",
       "      <th>dba</th>\n",
       "      <th>boro</th>\n",
       "      <th>building</th>\n",
       "      <th>street</th>\n",
       "      <th>zipcode</th>\n",
       "      <th>phone</th>\n",
       "      <th>inspection_date</th>\n",
       "      <th>critical_flag</th>\n",
       "      <th>record_date</th>\n",
       "      <th>latitude</th>\n",
       "      <th>longitude</th>\n",
       "      <th>community_board</th>\n",
       "      <th>council_district</th>\n",
       "      <th>census_tract</th>\n",
       "      <th>bin</th>\n",
       "      <th>bbl</th>\n",
       "      <th>nta</th>\n",
       "      <th>cuisine_description</th>\n",
       "      <th>action</th>\n",
       "      <th>violation_code</th>\n",
       "      <th>violation_description</th>\n",
       "      <th>score</th>\n",
       "      <th>grade</th>\n",
       "      <th>grade_date</th>\n",
       "      <th>inspection_type</th>\n",
       "    </tr>\n",
       "  </thead>\n",
       "  <tbody>\n",
       "    <tr>\n",
       "      <th>0</th>\n",
       "      <td>50106756</td>\n",
       "      <td>UNGARO COAL FIRED PIZZA CAFE</td>\n",
       "      <td>Staten Island</td>\n",
       "      <td>1298</td>\n",
       "      <td>FOREST AVENUE</td>\n",
       "      <td>10302.0</td>\n",
       "      <td>6464690930</td>\n",
       "      <td>1900-01-01T00:00:00.000</td>\n",
       "      <td>Not Applicable</td>\n",
       "      <td>2023-10-26T06:00:14.000</td>\n",
       "      <td>40.626371</td>\n",
       "      <td>-74.133111</td>\n",
       "      <td>501.0</td>\n",
       "      <td>50.0</td>\n",
       "      <td>20100.0</td>\n",
       "      <td>5170408.0</td>\n",
       "      <td>5.003870e+09</td>\n",
       "      <td>SI07</td>\n",
       "      <td>NaN</td>\n",
       "      <td>NaN</td>\n",
       "      <td>NaN</td>\n",
       "      <td>NaN</td>\n",
       "      <td>NaN</td>\n",
       "      <td>NaN</td>\n",
       "      <td>NaN</td>\n",
       "      <td>NaN</td>\n",
       "    </tr>\n",
       "    <tr>\n",
       "      <th>1</th>\n",
       "      <td>50105716</td>\n",
       "      <td>STELLA'S</td>\n",
       "      <td>Brooklyn</td>\n",
       "      <td>559</td>\n",
       "      <td>5 AVENUE</td>\n",
       "      <td>11215.0</td>\n",
       "      <td>4155703174</td>\n",
       "      <td>1900-01-01T00:00:00.000</td>\n",
       "      <td>Not Applicable</td>\n",
       "      <td>2023-10-26T06:00:14.000</td>\n",
       "      <td>40.665416</td>\n",
       "      <td>-73.989417</td>\n",
       "      <td>307.0</td>\n",
       "      <td>39.0</td>\n",
       "      <td>14100.0</td>\n",
       "      <td>3337750.0</td>\n",
       "      <td>3.010480e+09</td>\n",
       "      <td>BK37</td>\n",
       "      <td>NaN</td>\n",
       "      <td>NaN</td>\n",
       "      <td>NaN</td>\n",
       "      <td>NaN</td>\n",
       "      <td>NaN</td>\n",
       "      <td>NaN</td>\n",
       "      <td>NaN</td>\n",
       "      <td>NaN</td>\n",
       "    </tr>\n",
       "    <tr>\n",
       "      <th>2</th>\n",
       "      <td>41168748</td>\n",
       "      <td>DUNKIN</td>\n",
       "      <td>Bronx</td>\n",
       "      <td>880</td>\n",
       "      <td>GARRISON AVENUE</td>\n",
       "      <td>10474.0</td>\n",
       "      <td>7188614171</td>\n",
       "      <td>2022-03-30T00:00:00.000</td>\n",
       "      <td>Not Critical</td>\n",
       "      <td>2023-10-26T06:00:11.000</td>\n",
       "      <td>40.816753</td>\n",
       "      <td>-73.892364</td>\n",
       "      <td>202.0</td>\n",
       "      <td>17.0</td>\n",
       "      <td>9300.0</td>\n",
       "      <td>2098685.0</td>\n",
       "      <td>2.027390e+09</td>\n",
       "      <td>BX27</td>\n",
       "      <td>Donuts</td>\n",
       "      <td>Violations were cited in the following area(s).</td>\n",
       "      <td>10J</td>\n",
       "      <td>Hand wash sign not posted</td>\n",
       "      <td>13.0</td>\n",
       "      <td>A</td>\n",
       "      <td>2022-03-30T00:00:00.000</td>\n",
       "      <td>Cycle Inspection / Initial Inspection</td>\n",
       "    </tr>\n",
       "  </tbody>\n",
       "</table>\n",
       "</div>"
      ],
      "text/plain": [
       "      camis                           dba           boro building  \\\n",
       "0  50106756  UNGARO COAL FIRED PIZZA CAFE  Staten Island     1298   \n",
       "1  50105716                      STELLA'S       Brooklyn      559   \n",
       "2  41168748                        DUNKIN          Bronx      880   \n",
       "\n",
       "            street  zipcode       phone          inspection_date  \\\n",
       "0    FOREST AVENUE  10302.0  6464690930  1900-01-01T00:00:00.000   \n",
       "1         5 AVENUE  11215.0  4155703174  1900-01-01T00:00:00.000   \n",
       "2  GARRISON AVENUE  10474.0  7188614171  2022-03-30T00:00:00.000   \n",
       "\n",
       "    critical_flag              record_date   latitude  longitude  \\\n",
       "0  Not Applicable  2023-10-26T06:00:14.000  40.626371 -74.133111   \n",
       "1  Not Applicable  2023-10-26T06:00:14.000  40.665416 -73.989417   \n",
       "2    Not Critical  2023-10-26T06:00:11.000  40.816753 -73.892364   \n",
       "\n",
       "   community_board  council_district  census_tract        bin           bbl  \\\n",
       "0            501.0              50.0       20100.0  5170408.0  5.003870e+09   \n",
       "1            307.0              39.0       14100.0  3337750.0  3.010480e+09   \n",
       "2            202.0              17.0        9300.0  2098685.0  2.027390e+09   \n",
       "\n",
       "    nta cuisine_description                                           action  \\\n",
       "0  SI07                 NaN                                              NaN   \n",
       "1  BK37                 NaN                                              NaN   \n",
       "2  BX27              Donuts  Violations were cited in the following area(s).   \n",
       "\n",
       "  violation_code      violation_description  score grade  \\\n",
       "0            NaN                        NaN    NaN   NaN   \n",
       "1            NaN                        NaN    NaN   NaN   \n",
       "2            10J  Hand wash sign not posted   13.0     A   \n",
       "\n",
       "                grade_date                        inspection_type  \n",
       "0                      NaN                                    NaN  \n",
       "1                      NaN                                    NaN  \n",
       "2  2022-03-30T00:00:00.000  Cycle Inspection / Initial Inspection  "
      ]
     },
     "execution_count": 4,
     "metadata": {},
     "output_type": "execute_result"
    }
   ],
   "source": [
    "ny = a.acquire_ny()\n",
    "ny.head(3)"
   ]
  },
  {
   "cell_type": "markdown",
   "id": "a0d20594-8f46-4f67-b582-79620b3be798",
   "metadata": {},
   "source": [
    " "
   ]
  },
  {
   "cell_type": "markdown",
   "id": "74072e7d-0059-42c1-b992-b7783f0871d1",
   "metadata": {},
   "source": [
    " "
   ]
  },
  {
   "cell_type": "markdown",
   "id": "d35b3e6c-739c-4434-8d10-10f3aa41cbac",
   "metadata": {},
   "source": [
    " "
   ]
  },
  {
   "cell_type": "markdown",
   "id": "d916f421-a506-4433-b463-e54a56c50361",
   "metadata": {},
   "source": [
    " "
   ]
  },
  {
   "cell_type": "markdown",
   "id": "1ca442b7-12cc-41a4-b966-fe13e2b040e5",
   "metadata": {},
   "source": [
    " "
   ]
  },
  {
   "cell_type": "markdown",
   "id": "2f120be7-7b21-4cfd-a27f-94a42a306230",
   "metadata": {},
   "source": [
    " "
   ]
  },
  {
   "cell_type": "markdown",
   "id": "8cbe405a-fa07-4a95-8ff5-32b33a39b151",
   "metadata": {},
   "source": [
    " ## Unique counts of columns within dataframe"
   ]
  },
  {
   "cell_type": "code",
   "execution_count": 4,
   "id": "8ece829f-3896-4c64-84a0-1f9ea6e4e56d",
   "metadata": {},
   "outputs": [
    {
     "data": {
      "text/plain": [
       "camis                    28232\n",
       "dba                      22114\n",
       "boro                         6\n",
       "building                  7479\n",
       "street                    2403\n",
       "zipcode                    226\n",
       "phone                    25633\n",
       "inspection_date           1678\n",
       "critical_flag                3\n",
       "record_date                  3\n",
       "latitude                 23115\n",
       "longitude                23115\n",
       "community_board             69\n",
       "council_district            51\n",
       "census_tract              1183\n",
       "bin                      20020\n",
       "bbl                      19709\n",
       "nta                        193\n",
       "cuisine_description         89\n",
       "action                       5\n",
       "violation_code             143\n",
       "violation_description      221\n",
       "score                      130\n",
       "grade                        6\n",
       "grade_date                1455\n",
       "inspection_type             31\n",
       "dtype: int64"
      ]
     },
     "execution_count": 4,
     "metadata": {},
     "output_type": "execute_result"
    }
   ],
   "source": [
    "ny.nunique()"
   ]
  },
  {
   "cell_type": "code",
   "execution_count": 5,
   "id": "a9e8ca28-94bf-4f4c-a5a5-f009ce559efb",
   "metadata": {},
   "outputs": [
    {
     "data": {
      "text/plain": [
       "28232"
      ]
     },
     "execution_count": 5,
     "metadata": {},
     "output_type": "execute_result"
    }
   ],
   "source": [
    "ny.camis.nunique()"
   ]
  },
  {
   "cell_type": "code",
   "execution_count": 6,
   "id": "e9068dea-3298-471d-b0d0-1fbd29ef72a3",
   "metadata": {},
   "outputs": [
    {
     "data": {
      "text/plain": [
       "22114"
      ]
     },
     "execution_count": 6,
     "metadata": {},
     "output_type": "execute_result"
    }
   ],
   "source": [
    "ny.dba.nunique()"
   ]
  },
  {
   "cell_type": "code",
   "execution_count": 7,
   "id": "ce2de584-c904-4459-a047-a2c57e4c9e37",
   "metadata": {},
   "outputs": [
    {
     "data": {
      "text/plain": [
       "camis                         0\n",
       "dba                         508\n",
       "boro                          0\n",
       "building                    351\n",
       "street                        6\n",
       "zipcode                    2680\n",
       "phone                         7\n",
       "inspection_date               0\n",
       "critical_flag                 0\n",
       "record_date                   0\n",
       "latitude                    257\n",
       "longitude                   257\n",
       "community_board            3247\n",
       "council_district           3251\n",
       "census_tract               3251\n",
       "bin                        4237\n",
       "bbl                         573\n",
       "nta                        3247\n",
       "cuisine_description        2305\n",
       "action                     2305\n",
       "violation_code             3452\n",
       "violation_description      3452\n",
       "score                      9706\n",
       "grade                    105753\n",
       "grade_date               114506\n",
       "inspection_type            2305\n",
       "dtype: int64"
      ]
     },
     "execution_count": 7,
     "metadata": {},
     "output_type": "execute_result"
    }
   ],
   "source": [
    "ny.isna().sum()"
   ]
  },
  {
   "cell_type": "code",
   "execution_count": 8,
   "id": "bb93ca71-fb25-4265-b64f-03a0edddc2bc",
   "metadata": {},
   "outputs": [],
   "source": [
    "ny_info = pd.DataFrame(ny.isna().sum())\n",
    "ny_info['dtype'] = ny.dtypes\n",
    "ny_info = ny_info.rename(columns={0:'nulls'})"
   ]
  },
  {
   "cell_type": "code",
   "execution_count": 9,
   "id": "29d95e0c-58c7-4bac-943d-d2bce8db0f72",
   "metadata": {},
   "outputs": [
    {
     "data": {
      "text/html": [
       "<div>\n",
       "<style scoped>\n",
       "    .dataframe tbody tr th:only-of-type {\n",
       "        vertical-align: middle;\n",
       "    }\n",
       "\n",
       "    .dataframe tbody tr th {\n",
       "        vertical-align: top;\n",
       "    }\n",
       "\n",
       "    .dataframe thead th {\n",
       "        text-align: right;\n",
       "    }\n",
       "</style>\n",
       "<table border=\"1\" class=\"dataframe\">\n",
       "  <thead>\n",
       "    <tr style=\"text-align: right;\">\n",
       "      <th></th>\n",
       "      <th>camis</th>\n",
       "      <th>dba</th>\n",
       "      <th>boro</th>\n",
       "      <th>building</th>\n",
       "      <th>street</th>\n",
       "      <th>zipcode</th>\n",
       "      <th>phone</th>\n",
       "      <th>inspection_date</th>\n",
       "      <th>critical_flag</th>\n",
       "      <th>record_date</th>\n",
       "      <th>latitude</th>\n",
       "      <th>longitude</th>\n",
       "      <th>community_board</th>\n",
       "      <th>council_district</th>\n",
       "      <th>census_tract</th>\n",
       "      <th>bin</th>\n",
       "      <th>bbl</th>\n",
       "      <th>nta</th>\n",
       "      <th>cuisine_description</th>\n",
       "      <th>action</th>\n",
       "      <th>violation_code</th>\n",
       "      <th>violation_description</th>\n",
       "      <th>score</th>\n",
       "      <th>grade</th>\n",
       "      <th>grade_date</th>\n",
       "      <th>inspection_type</th>\n",
       "    </tr>\n",
       "  </thead>\n",
       "  <tbody>\n",
       "    <tr>\n",
       "      <th>nulls</th>\n",
       "      <td>0</td>\n",
       "      <td>508</td>\n",
       "      <td>0</td>\n",
       "      <td>351</td>\n",
       "      <td>6</td>\n",
       "      <td>2680</td>\n",
       "      <td>7</td>\n",
       "      <td>0</td>\n",
       "      <td>0</td>\n",
       "      <td>0</td>\n",
       "      <td>257</td>\n",
       "      <td>257</td>\n",
       "      <td>3247</td>\n",
       "      <td>3251</td>\n",
       "      <td>3251</td>\n",
       "      <td>4237</td>\n",
       "      <td>573</td>\n",
       "      <td>3247</td>\n",
       "      <td>2305</td>\n",
       "      <td>2305</td>\n",
       "      <td>3452</td>\n",
       "      <td>3452</td>\n",
       "      <td>9706</td>\n",
       "      <td>105753</td>\n",
       "      <td>114506</td>\n",
       "      <td>2305</td>\n",
       "    </tr>\n",
       "    <tr>\n",
       "      <th>dtype</th>\n",
       "      <td>int64</td>\n",
       "      <td>object</td>\n",
       "      <td>object</td>\n",
       "      <td>object</td>\n",
       "      <td>object</td>\n",
       "      <td>float64</td>\n",
       "      <td>object</td>\n",
       "      <td>object</td>\n",
       "      <td>object</td>\n",
       "      <td>object</td>\n",
       "      <td>float64</td>\n",
       "      <td>float64</td>\n",
       "      <td>float64</td>\n",
       "      <td>float64</td>\n",
       "      <td>float64</td>\n",
       "      <td>float64</td>\n",
       "      <td>float64</td>\n",
       "      <td>object</td>\n",
       "      <td>object</td>\n",
       "      <td>object</td>\n",
       "      <td>object</td>\n",
       "      <td>object</td>\n",
       "      <td>float64</td>\n",
       "      <td>object</td>\n",
       "      <td>object</td>\n",
       "      <td>object</td>\n",
       "    </tr>\n",
       "  </tbody>\n",
       "</table>\n",
       "</div>"
      ],
      "text/plain": [
       "       camis     dba    boro building  street  zipcode   phone  \\\n",
       "nulls      0     508       0      351       6     2680       7   \n",
       "dtype  int64  object  object   object  object  float64  object   \n",
       "\n",
       "      inspection_date critical_flag record_date latitude longitude  \\\n",
       "nulls               0             0           0      257       257   \n",
       "dtype          object        object      object  float64   float64   \n",
       "\n",
       "      community_board council_district census_tract      bin      bbl     nta  \\\n",
       "nulls            3247             3251         3251     4237      573    3247   \n",
       "dtype         float64          float64      float64  float64  float64  object   \n",
       "\n",
       "      cuisine_description  action violation_code violation_description  \\\n",
       "nulls                2305    2305           3452                  3452   \n",
       "dtype              object  object         object                object   \n",
       "\n",
       "         score   grade grade_date inspection_type  \n",
       "nulls     9706  105753     114506            2305  \n",
       "dtype  float64  object     object          object  "
      ]
     },
     "execution_count": 9,
     "metadata": {},
     "output_type": "execute_result"
    }
   ],
   "source": [
    "ny_info.T"
   ]
  },
  {
   "cell_type": "code",
   "execution_count": 10,
   "id": "ae54c8e5-25b5-43a5-81a7-d45de13831a5",
   "metadata": {},
   "outputs": [
    {
     "data": {
      "text/plain": [
       "207929"
      ]
     },
     "execution_count": 10,
     "metadata": {},
     "output_type": "execute_result"
    }
   ],
   "source": [
    "len(ny)"
   ]
  },
  {
   "cell_type": "markdown",
   "id": "b2bd71f5-ae3c-400c-a2cf-76f11435a3ad",
   "metadata": {},
   "source": [
    " "
   ]
  },
  {
   "cell_type": "markdown",
   "id": "9acfccdf-2e98-4e3b-a8a5-879aef83e1f8",
   "metadata": {},
   "source": [
    " "
   ]
  },
  {
   "cell_type": "markdown",
   "id": "5c81b222-141c-4b34-bf6b-00ecf1e79894",
   "metadata": {},
   "source": [
    " "
   ]
  },
  {
   "cell_type": "markdown",
   "id": "ad5f8533-fd63-498c-9bc6-ba440079647a",
   "metadata": {},
   "source": [
    " "
   ]
  },
  {
   "cell_type": "markdown",
   "id": "e45fc61f-ed43-475e-80eb-bb76512b2744",
   "metadata": {},
   "source": [
    " "
   ]
  },
  {
   "cell_type": "markdown",
   "id": "58ede8ae-463f-450d-af34-c534c014a9d0",
   "metadata": {},
   "source": [
    " "
   ]
  },
  {
   "cell_type": "code",
   "execution_count": 36,
   "id": "26d940b0-3057-40ac-86fd-ea2173e38a80",
   "metadata": {},
   "outputs": [],
   "source": [
    "ny = a.acquire_ny()"
   ]
  },
  {
   "cell_type": "markdown",
   "id": "7cbc5401-7ab1-4bb7-92a9-502399a3c48a",
   "metadata": {},
   "source": [
    "### Drop useless columns"
   ]
  },
  {
   "cell_type": "code",
   "execution_count": 81,
   "id": "3ae321c4-f712-47fe-97a8-1c32bd279bef",
   "metadata": {},
   "outputs": [],
   "source": [
    "def remove_columns(ny , trash_columns = ['bin', 'bbl', 'nta', 'census_tract', 'council_district', 'community_board', 'grade_date']):\n",
    "    ny = ny.drop(columns=trash_columns)\n",
    "    return ny"
   ]
  },
  {
   "cell_type": "code",
   "execution_count": 37,
   "id": "8c19ee35-33f8-4963-a12e-2941dee2f07b",
   "metadata": {},
   "outputs": [],
   "source": [
    "trash_columns = ['bin', 'bbl', 'nta', 'census_tract', 'council_district', 'community_board', 'grade_date']\n",
    "ny = ny.drop(columns=trash_columns)"
   ]
  },
  {
   "cell_type": "markdown",
   "id": "e70e8dc7-bd78-419e-ba7c-deafb01ff6ed",
   "metadata": {},
   "source": [
    "### Clean phone numbers"
   ]
  },
  {
   "cell_type": "code",
   "execution_count": 6,
   "id": "f4230579-3d7f-42f3-b890-909b55fb692f",
   "metadata": {},
   "outputs": [],
   "source": [
    "def clean_phones(ny):    \n",
    "    # Clean phone numbers by removing non-digit characters and dropping nulls\n",
    "    ny.phone = ny.phone.str.replace(' ','')\n",
    "    ny.phone = ny.phone.str.replace('_','')\n",
    "    ny = ny[ny.phone.notna()]\n",
    "    return ny"
   ]
  },
  {
   "cell_type": "code",
   "execution_count": 38,
   "id": "602f7375-c809-498d-a6d1-e63a16e554de",
   "metadata": {},
   "outputs": [],
   "source": [
    "ny = clean_phones(ny)"
   ]
  },
  {
   "cell_type": "markdown",
   "id": "a3702605-8a98-40f9-805c-f118f093f3f2",
   "metadata": {},
   "source": [
    "### Clean zipcodes"
   ]
  },
  {
   "cell_type": "code",
   "execution_count": 7,
   "id": "88a054e1-3705-4333-a17a-f00cff09e162",
   "metadata": {},
   "outputs": [],
   "source": [
    "def clean_zipcodes(ny):\n",
    "    # Clean zipcodes by filling nulls with 0 and then converting to integers\n",
    "    ny.zipcode = ny.zipcode.fillna(0)\n",
    "    ny.zipcode = ny.zipcode.astype(int)\n",
    "    ny = ny[ny.zipcode.notna()]  # Drop nulls\n",
    "    return ny"
   ]
  },
  {
   "cell_type": "code",
   "execution_count": 39,
   "id": "1d788d89-56a1-415c-95bb-4641a287d57a",
   "metadata": {},
   "outputs": [],
   "source": [
    "ny = clean_zipcodes(ny)"
   ]
  },
  {
   "cell_type": "markdown",
   "id": "b42c1e7d-9261-4271-8e9c-bf1a614889f5",
   "metadata": {},
   "source": [
    "### Clean streets"
   ]
  },
  {
   "cell_type": "code",
   "execution_count": 8,
   "id": "5a569346-f375-4ec0-93c2-7cace37c4efc",
   "metadata": {},
   "outputs": [],
   "source": [
    "def clean_streets(ny):\n",
    "    # Remove nulls from street\n",
    "    ny = ny[ny.street.notna()]\n",
    "    return ny"
   ]
  },
  {
   "cell_type": "code",
   "execution_count": 40,
   "id": "0f93b89a-8390-4c5d-8673-57ae9e66ee86",
   "metadata": {},
   "outputs": [],
   "source": [
    "ny = clean_streets(ny)"
   ]
  },
  {
   "cell_type": "markdown",
   "id": "bd01df5a-cea1-4d66-afea-218f0a8b538e",
   "metadata": {},
   "source": [
    "### Clean scores"
   ]
  },
  {
   "cell_type": "code",
   "execution_count": 17,
   "id": "1243499f-f8b1-4f85-9583-ada5f2f51e16",
   "metadata": {},
   "outputs": [],
   "source": [
    "def clean_scores(data):\n",
    "    ny = data.copy()\n",
    "    ny = ny[ny.inspection_date != '1900-01-01T00:00:00.000']  # Remove all values with no inspections done\n",
    "    \n",
    "    # Create a new list of scores that replaces null scores for no violation for 0s\n",
    "    new_scores = []  # Empty list\n",
    "    for score,rep in zip(ny.score, ny.action.str.contains('No violation')):  # Loop through 2 iterable values\n",
    "        if rep == True:  # If no violation, append score 0\n",
    "            new_scores.append(0)\n",
    "        else:  # Else keep score the same\n",
    "            new_scores.append(score)\n",
    "    ny.score = new_scores\n",
    "    \n",
    "    ny = ny[ny.score.notna()]\n",
    "    return ny"
   ]
  },
  {
   "cell_type": "code",
   "execution_count": 41,
   "id": "92b4dd9e-b02a-4c60-9b8d-5ef08ba51e93",
   "metadata": {},
   "outputs": [],
   "source": [
    "ny = clean_scores(ny)"
   ]
  },
  {
   "cell_type": "markdown",
   "id": "6c80024f-f1fe-4b27-aad4-f01441f43ba9",
   "metadata": {},
   "source": [
    "### Clean actions"
   ]
  },
  {
   "cell_type": "code",
   "execution_count": 56,
   "id": "aef53eca-0dfc-425d-b6dc-43c6f4f88d58",
   "metadata": {},
   "outputs": [],
   "source": [
    "def clean_actions(ny):\n",
    "    # Remove nulls from action\n",
    "    ny = ny[ny.action.notna()]\n",
    "    # Rename actions to something more concise\n",
    "    ny.action = np.where(ny.action == 'Violations were cited in the following area(s).', 'Violations cited', ny.action)\n",
    "    ny.action = np.where(ny.action == 'Establishment Closed by DOHMH. Violations were cited in the following area(s) and those requiring immediate action were addressed.', 'Closed', ny.action)\n",
    "    ny.action = np.where(ny.action == 'Establishment re-opened by DOHMH.', 'Re-opened', ny.action)\n",
    "    ny.action = np.where(ny.action == 'No violations were recorded at the time of this inspection.', 'No violations', ny.action)\n",
    "    return ny"
   ]
  },
  {
   "cell_type": "code",
   "execution_count": 59,
   "id": "f56ab5b1-1590-48f9-b072-29e5e42094f8",
   "metadata": {},
   "outputs": [],
   "source": [
    "ny = clean_actions(ny)"
   ]
  },
  {
   "cell_type": "markdown",
   "id": "850e8949-b198-4b83-a2b8-65761f9ddff1",
   "metadata": {},
   "source": [
    "### Clean grades"
   ]
  },
  {
   "cell_type": "code",
   "execution_count": 47,
   "id": "f3fd282c-b099-412d-bf16-5f5eedd55c36",
   "metadata": {},
   "outputs": [],
   "source": [
    "def clean_grades(data):\n",
    "    ny = data.copy()  # Create copy of df\n",
    "    # Create empty list to hold new values for restaurant\n",
    "    new_grades = []\n",
    "    # Use scores to determine grades\n",
    "    for grade, score in zip(ny.grade, ny.score):\n",
    "        if score <= 13:\n",
    "            new_grades.append('A')\n",
    "        elif score <= 27:\n",
    "            new_grades.append('B')\n",
    "        elif score > 27:\n",
    "            new_grades.append('C')\n",
    "    ny.grade = new_grades\n",
    "    return ny"
   ]
  },
  {
   "cell_type": "code",
   "execution_count": 48,
   "id": "43952694-8408-42ed-bd09-254ade0cfb9c",
   "metadata": {},
   "outputs": [],
   "source": [
    "ny = clean_grades(ny)"
   ]
  },
  {
   "cell_type": "markdown",
   "id": "c27af7a6-aee4-4bd6-b68a-50049809951b",
   "metadata": {},
   "source": [
    "### Clean violation code"
   ]
  },
  {
   "cell_type": "code",
   "execution_count": 73,
   "id": "fe49a6f7-c042-4eda-89d2-f56e8229781b",
   "metadata": {},
   "outputs": [],
   "source": [
    "def clean_violations(data):\n",
    "    ny = data.copy()\n",
    "    # Create empty lists\n",
    "    new_codes = []\n",
    "    new_description = []\n",
    "    # Loop through actions and violations and if there is no violations in action, append no violations to code and description\n",
    "    for action, code, description in zip(ny.action, ny.violation_code, ny.violation_description):\n",
    "        if action == 'No violations':\n",
    "            new_codes.append('No violation')\n",
    "            new_description.append('No violation')\n",
    "        else:\n",
    "            new_codes.append(code)\n",
    "            new_description.append(description)\n",
    "            \n",
    "    # Replace df values with new ones\n",
    "    ny.violation_code = new_codes\n",
    "    ny.violation_description = new_description\n",
    "\n",
    "    return ny  # Return data"
   ]
  },
  {
   "cell_type": "code",
   "execution_count": 74,
   "id": "15cdf862-0408-4698-8c68-92949ec51749",
   "metadata": {},
   "outputs": [],
   "source": [
    "ny = clean_violations(ny)"
   ]
  },
  {
   "cell_type": "markdown",
   "id": "9face850-2474-487a-a772-80dbc81f97c7",
   "metadata": {
    "tags": []
   },
   "source": [
    "### Everything else"
   ]
  },
  {
   "cell_type": "code",
   "execution_count": 77,
   "id": "abe849f4-f624-425a-94a1-329f49f585dd",
   "metadata": {},
   "outputs": [],
   "source": [
    "ny = ny.dropna()"
   ]
  },
  {
   "cell_type": "code",
   "execution_count": 78,
   "id": "96d06b02-b50e-4f6d-b2f6-8c2899878430",
   "metadata": {},
   "outputs": [
    {
     "data": {
      "text/plain": [
       "camis                    0\n",
       "dba                      0\n",
       "boro                     0\n",
       "building                 0\n",
       "street                   0\n",
       "zipcode                  0\n",
       "phone                    0\n",
       "inspection_date          0\n",
       "critical_flag            0\n",
       "record_date              0\n",
       "latitude                 0\n",
       "longitude                0\n",
       "cuisine_description      0\n",
       "action                   0\n",
       "violation_code           0\n",
       "violation_description    0\n",
       "score                    0\n",
       "grade                    0\n",
       "inspection_type          0\n",
       "dtype: int64"
      ]
     },
     "execution_count": 78,
     "metadata": {},
     "output_type": "execute_result"
    }
   ],
   "source": [
    "ny.isna().sum()"
   ]
  },
  {
   "cell_type": "code",
   "execution_count": 79,
   "id": "456ae3be-1b4b-4f41-8f5e-dca76e5fc484",
   "metadata": {},
   "outputs": [
    {
     "data": {
      "text/plain": [
       "198289"
      ]
     },
     "execution_count": 79,
     "metadata": {},
     "output_type": "execute_result"
    }
   ],
   "source": [
    "len(ny)"
   ]
  },
  {
   "cell_type": "code",
   "execution_count": 82,
   "id": "650c480d-020a-4d74-a06b-39216c0412d9",
   "metadata": {},
   "outputs": [],
   "source": [
    "def clean_ny(ny):\n",
    "    \n",
    "    \"\"\"This function just takes in all other cleaning functions for ny data and cleans each element of it\"\"\"\n",
    "    \n",
    "    ny = remove_columns(ny)  # Removes useless columns from ny health inspection data\n",
    "    \n",
    "    ny = clean_phones(ny)  # Clean phone numbers\n",
    "    \n",
    "    ny = clean_zipcodes(ny)  # Cleans zip codes\n",
    "    \n",
    "    ny = clean_streets(ny)  # Cleans streets\n",
    "    \n",
    "    ny = clean_scores(ny)  # Cleans scores\n",
    "    \n",
    "    ny = clean_actions(ny)  # Cleans actions\n",
    "    \n",
    "    ny = clean_grades(ny)  # Cleans grades\n",
    "    \n",
    "    ny = clean_violations(ny)  # Cleans violation codes and descriptions\n",
    "    \n",
    "    ny = ny.dropna()  # Drops all remaining null values\n",
    "    \n",
    "    return ny  # Return clean dataframe"
   ]
  },
  {
   "cell_type": "code",
   "execution_count": 83,
   "id": "ba763fd6-aabc-4062-aedb-40855b9131d8",
   "metadata": {},
   "outputs": [],
   "source": [
    "ny = a.acquire_ny()\n",
    "ny = clean_ny(ny)"
   ]
  },
  {
   "cell_type": "code",
   "execution_count": 85,
   "id": "89b9544c-f666-47c4-a915-80c29fa91d5e",
   "metadata": {},
   "outputs": [
    {
     "data": {
      "text/plain": [
       "198289"
      ]
     },
     "execution_count": 85,
     "metadata": {},
     "output_type": "execute_result"
    }
   ],
   "source": [
    "len(ny)"
   ]
  },
  {
   "cell_type": "code",
   "execution_count": 84,
   "id": "9588b402-79fb-4b1b-ae55-71afc4643df8",
   "metadata": {},
   "outputs": [
    {
     "data": {
      "text/plain": [
       "camis                    0\n",
       "dba                      0\n",
       "boro                     0\n",
       "building                 0\n",
       "street                   0\n",
       "zipcode                  0\n",
       "phone                    0\n",
       "inspection_date          0\n",
       "critical_flag            0\n",
       "record_date              0\n",
       "latitude                 0\n",
       "longitude                0\n",
       "cuisine_description      0\n",
       "action                   0\n",
       "violation_code           0\n",
       "violation_description    0\n",
       "score                    0\n",
       "grade                    0\n",
       "inspection_type          0\n",
       "dtype: int64"
      ]
     },
     "execution_count": 84,
     "metadata": {},
     "output_type": "execute_result"
    }
   ],
   "source": [
    "ny.isna().sum()"
   ]
  },
  {
   "cell_type": "code",
   "execution_count": 87,
   "id": "070d2421-97a4-40c9-9d3c-766d7515b386",
   "metadata": {},
   "outputs": [],
   "source": [
    "ny = a.acquire_ny()\n",
    "ny = prep.clean_ny(ny)"
   ]
  },
  {
   "cell_type": "code",
   "execution_count": 88,
   "id": "e7c40caf-9bf5-43ba-a694-452d2d7cb7b2",
   "metadata": {},
   "outputs": [
    {
     "data": {
      "text/plain": [
       "camis                    0\n",
       "dba                      0\n",
       "boro                     0\n",
       "building                 0\n",
       "street                   0\n",
       "zipcode                  0\n",
       "phone                    0\n",
       "inspection_date          0\n",
       "critical_flag            0\n",
       "record_date              0\n",
       "latitude                 0\n",
       "longitude                0\n",
       "cuisine_description      0\n",
       "action                   0\n",
       "violation_code           0\n",
       "violation_description    0\n",
       "score                    0\n",
       "grade                    0\n",
       "inspection_type          0\n",
       "dtype: int64"
      ]
     },
     "execution_count": 88,
     "metadata": {},
     "output_type": "execute_result"
    }
   ],
   "source": [
    "ny.isna().sum()"
   ]
  },
  {
   "cell_type": "code",
   "execution_count": null,
   "id": "224c2de0-dbbb-459f-adc0-36a6b68de49c",
   "metadata": {},
   "outputs": [],
   "source": []
  }
 ],
 "metadata": {
  "kernelspec": {
   "display_name": "Python 3 (ipykernel)",
   "language": "python",
   "name": "python3"
  },
  "language_info": {
   "codemirror_mode": {
    "name": "ipython",
    "version": 3
   },
   "file_extension": ".py",
   "mimetype": "text/x-python",
   "name": "python",
   "nbconvert_exporter": "python",
   "pygments_lexer": "ipython3",
   "version": "3.10.9"
  }
 },
 "nbformat": 4,
 "nbformat_minor": 5
}
