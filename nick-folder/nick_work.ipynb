{
 "cells": [
  {
   "cell_type": "markdown",
   "id": "cee5f588-73d7-42ea-9bed-2a7cd7bbb924",
   "metadata": {},
   "source": [
    "# NY Food review project"
   ]
  },
  {
   "cell_type": "markdown",
   "id": "c8609587-569e-4ed2-aee1-749042b9856c",
   "metadata": {},
   "source": [
    "This notebook contains testing and scratch work"
   ]
  },
  {
   "cell_type": "markdown",
   "id": "a6411f80-72d9-407d-b9be-fbc36ce615f3",
   "metadata": {},
   "source": [
    " "
   ]
  },
  {
   "cell_type": "markdown",
   "id": "4e755bcb-e18a-4c73-ac89-5f10efdd50ac",
   "metadata": {},
   "source": [
    " "
   ]
  },
  {
   "cell_type": "markdown",
   "id": "d55d1c2d-9587-466b-920f-6a6243da01d5",
   "metadata": {},
   "source": [
    " "
   ]
  },
  {
   "cell_type": "markdown",
   "id": "e7198278-49f4-46b7-af9a-1c11653a353a",
   "metadata": {},
   "source": [
    "### Imports"
   ]
  },
  {
   "cell_type": "code",
   "execution_count": 1,
   "id": "c623d9ef-1aea-4c5a-8fc5-5a07080a29b8",
   "metadata": {},
   "outputs": [
    {
     "ename": "ModuleNotFoundError",
     "evalue": "No module named 'nltk'",
     "output_type": "error",
     "traceback": [
      "\u001b[0;31m---------------------------------------------------------------------------\u001b[0m",
      "\u001b[0;31mModuleNotFoundError\u001b[0m                       Traceback (most recent call last)",
      "Cell \u001b[0;32mIn[1], line 11\u001b[0m\n\u001b[1;32m      9\u001b[0m \u001b[38;5;66;03m# Import acquire functions\u001b[39;00m\n\u001b[1;32m     10\u001b[0m \u001b[38;5;28;01mimport\u001b[39;00m \u001b[38;5;21;01mnick_acquire\u001b[39;00m \u001b[38;5;28;01mas\u001b[39;00m \u001b[38;5;21;01ma\u001b[39;00m\n\u001b[0;32m---> 11\u001b[0m \u001b[38;5;28;01mimport\u001b[39;00m \u001b[38;5;21;01mnick_prepare\u001b[39;00m \u001b[38;5;28;01mas\u001b[39;00m \u001b[38;5;21;01mprep\u001b[39;00m\n",
      "File \u001b[0;32m~/CodeUp/New-York-health-Inspection-Prediction/nick-folder/nick_prepare.py:9\u001b[0m\n\u001b[1;32m      6\u001b[0m \u001b[38;5;28;01mimport\u001b[39;00m \u001b[38;5;21;01mnick_acquire\u001b[39;00m \u001b[38;5;28;01mas\u001b[39;00m \u001b[38;5;21;01ma\u001b[39;00m\n\u001b[1;32m      8\u001b[0m \u001b[38;5;66;03m# NLP imports\u001b[39;00m\n\u001b[0;32m----> 9\u001b[0m \u001b[38;5;28;01mimport\u001b[39;00m \u001b[38;5;21;01mnltk\u001b[39;00m\n\u001b[1;32m     10\u001b[0m \u001b[38;5;28;01mfrom\u001b[39;00m \u001b[38;5;21;01mnltk\u001b[39;00m\u001b[38;5;21;01m.\u001b[39;00m\u001b[38;5;21;01mtokenize\u001b[39;00m\u001b[38;5;21;01m.\u001b[39;00m\u001b[38;5;21;01mtoktok\u001b[39;00m \u001b[38;5;28;01mimport\u001b[39;00m ToktokTokenizer\n\u001b[1;32m     11\u001b[0m \u001b[38;5;28;01mfrom\u001b[39;00m \u001b[38;5;21;01mnltk\u001b[39;00m\u001b[38;5;21;01m.\u001b[39;00m\u001b[38;5;21;01mcorpus\u001b[39;00m \u001b[38;5;28;01mimport\u001b[39;00m stopwords\n",
      "\u001b[0;31mModuleNotFoundError\u001b[0m: No module named 'nltk'"
     ]
    }
   ],
   "source": [
    "%load_ext autoreload\n",
    "%autoreload 2\n",
    "\n",
    "# Import ds libraries\n",
    "import pandas as pd\n",
    "import numpy as np\n",
    "import re\n",
    "\n",
    "# Import acquire functions\n",
    "import nick_acquire as a\n",
    "import nick_prepare as prep"
   ]
  },
  {
   "cell_type": "code",
   "execution_count": null,
   "id": "117dd746-2154-4d77-9226-7ce713bfe9fb",
   "metadata": {},
   "outputs": [],
   "source": [
    "pd.set_option('display.max_columns', None)"
   ]
  },
  {
   "cell_type": "markdown",
   "id": "0a54819b-e577-4c89-9fc2-e214ce2e7625",
   "metadata": {},
   "source": [
    "### Data dictionary"
   ]
  },
  {
   "cell_type": "markdown",
   "id": "33097f0a-7a68-47cd-9089-9cdbbdf6d39d",
   "metadata": {
    "tags": []
   },
   "source": [
    "|          feature          |                            description                           |\n",
    "| ------------------------- | ---------------------------------------------------------------- |\n",
    "| camis                     | Unique identifier for the restaurant                             |\n",
    "| dba                       | Name of the business                                             |\n",
    "| boro                      | Borough in which restaurant is located                           |\n",
    "| building                  | Building number for restaurant                                   |\n",
    "| street                    | Street name for establishment                                    |\n",
    "| zipcode                   | Zip code for the establishment                                   |\n",
    "| phone                     | Phone number for the establishment                               |\n",
    "| inspection_date           | Date of the inspection of the restaurant                         |\n",
    "| critical_flag             | Indicator of critical violation                                  |\n",
    "| record_date               | The date when the extract was run to produce this data set       |\n",
    "| latitude                  | Latitude                                                         |\n",
    "| longitude                 | Longitude                                                        |\n",
    "| community_board           | Local government body in the five boroughs of New York City      |\n",
    "| council_district          | District of a New York City Council member                       |\n",
    "| census_tract              | This is a geographic region  for the purpose of a census         |\n",
    "| bin                       | This stands for Building Identification Number.                  |\n",
    "| bbl                       | Borough, Block, and Lot. It's a unique real state id             |\n",
    "| nta                       | Neighborhood Tabulation Area                                     |\n",
    "| cuisine_description       | Describes type of cuisine at the restaurant                      |\n",
    "| action                    | The actions that is associated with each restaurant inspection   |\n",
    "| violation_code            | Violation code associated with establishment inspection          |\n",
    "| violation_description     | Violation description associated with establishment inspection   |\n",
    "| score                     | Total score for a particular inspection                          |\n",
    "| grade                     | Grade associated with inspection                                 |\n",
    "| grade_date                | Date when the current grade was issued                           |\n",
    "| inspection_type           | Combination of the inspection program and the type of inspection |\n",
    "| full_address              | The full adress of the restaurant. building + street + zipcode   |"
   ]
  },
  {
   "cell_type": "markdown",
   "id": "cd3076ce-0dbd-47d2-94a7-8dc27d9028de",
   "metadata": {},
   "source": [
    "This field represents the actions that is associated with each restaurant inspection. ; \n",
    "\n",
    "* Violations were cited in the following area(s). \n",
    "* No violations were recorded at the time of this inspection. \n",
    "* Establishment re-opened by DOHMH \n",
    "* Establishment re-closed by DOHMH \n",
    "* Establishment Closed by DOHMH.  Violations were cited in the following area(s) and those requiring immediate action were addressed. \n",
    "* \"Missing\" = not yet inspected;"
   ]
  },
  {
   "cell_type": "code",
   "execution_count": null,
   "id": "f87465c4-a5f7-49fd-bc46-efdf736b4d20",
   "metadata": {},
   "outputs": [],
   "source": [
    "ny = a.acquire_ny()\n",
    "ny.head(3)"
   ]
  },
  {
   "cell_type": "markdown",
   "id": "a0d20594-8f46-4f67-b582-79620b3be798",
   "metadata": {},
   "source": [
    " "
   ]
  },
  {
   "cell_type": "markdown",
   "id": "74072e7d-0059-42c1-b992-b7783f0871d1",
   "metadata": {},
   "source": [
    " "
   ]
  },
  {
   "cell_type": "markdown",
   "id": "d35b3e6c-739c-4434-8d10-10f3aa41cbac",
   "metadata": {},
   "source": [
    " "
   ]
  },
  {
   "cell_type": "markdown",
   "id": "d916f421-a506-4433-b463-e54a56c50361",
   "metadata": {},
   "source": [
    " "
   ]
  },
  {
   "cell_type": "markdown",
   "id": "1ca442b7-12cc-41a4-b966-fe13e2b040e5",
   "metadata": {},
   "source": [
    " "
   ]
  },
  {
   "cell_type": "markdown",
   "id": "2f120be7-7b21-4cfd-a27f-94a42a306230",
   "metadata": {},
   "source": [
    " "
   ]
  },
  {
   "cell_type": "markdown",
   "id": "8cbe405a-fa07-4a95-8ff5-32b33a39b151",
   "metadata": {},
   "source": [
    " ## Unique counts of columns within dataframe"
   ]
  },
  {
   "cell_type": "code",
   "execution_count": null,
   "id": "8ece829f-3896-4c64-84a0-1f9ea6e4e56d",
   "metadata": {},
   "outputs": [],
   "source": [
    "ny.nunique()"
   ]
  },
  {
   "cell_type": "code",
   "execution_count": null,
   "id": "a9e8ca28-94bf-4f4c-a5a5-f009ce559efb",
   "metadata": {},
   "outputs": [],
   "source": [
    "ny.camis.nunique()"
   ]
  },
  {
   "cell_type": "code",
   "execution_count": null,
   "id": "e9068dea-3298-471d-b0d0-1fbd29ef72a3",
   "metadata": {},
   "outputs": [],
   "source": [
    "ny.dba.nunique()"
   ]
  },
  {
   "cell_type": "code",
   "execution_count": null,
   "id": "ce2de584-c904-4459-a047-a2c57e4c9e37",
   "metadata": {},
   "outputs": [],
   "source": [
    "ny.isna().sum()"
   ]
  },
  {
   "cell_type": "code",
   "execution_count": null,
   "id": "bb93ca71-fb25-4265-b64f-03a0edddc2bc",
   "metadata": {},
   "outputs": [],
   "source": [
    "ny_info = pd.DataFrame(ny.isna().sum())\n",
    "ny_info['dtype'] = ny.dtypes\n",
    "ny_info = ny_info.rename(columns={0:'nulls'})"
   ]
  },
  {
   "cell_type": "code",
   "execution_count": null,
   "id": "29d95e0c-58c7-4bac-943d-d2bce8db0f72",
   "metadata": {},
   "outputs": [],
   "source": [
    "ny_info.T"
   ]
  },
  {
   "cell_type": "code",
   "execution_count": null,
   "id": "ae54c8e5-25b5-43a5-81a7-d45de13831a5",
   "metadata": {},
   "outputs": [],
   "source": [
    "len(ny)"
   ]
  },
  {
   "cell_type": "markdown",
   "id": "b2bd71f5-ae3c-400c-a2cf-76f11435a3ad",
   "metadata": {},
   "source": [
    " "
   ]
  },
  {
   "cell_type": "markdown",
   "id": "9acfccdf-2e98-4e3b-a8a5-879aef83e1f8",
   "metadata": {},
   "source": [
    " "
   ]
  },
  {
   "cell_type": "markdown",
   "id": "5c81b222-141c-4b34-bf6b-00ecf1e79894",
   "metadata": {},
   "source": [
    " "
   ]
  },
  {
   "cell_type": "markdown",
   "id": "ad5f8533-fd63-498c-9bc6-ba440079647a",
   "metadata": {},
   "source": [
    " "
   ]
  },
  {
   "cell_type": "markdown",
   "id": "e45fc61f-ed43-475e-80eb-bb76512b2744",
   "metadata": {},
   "source": [
    " "
   ]
  },
  {
   "cell_type": "markdown",
   "id": "58ede8ae-463f-450d-af34-c534c014a9d0",
   "metadata": {},
   "source": [
    " "
   ]
  },
  {
   "cell_type": "code",
   "execution_count": null,
   "id": "26d940b0-3057-40ac-86fd-ea2173e38a80",
   "metadata": {},
   "outputs": [],
   "source": [
    "ny = a.acquire_ny()"
   ]
  },
  {
   "cell_type": "markdown",
   "id": "7cbc5401-7ab1-4bb7-92a9-502399a3c48a",
   "metadata": {},
   "source": [
    "### Drop useless columns"
   ]
  },
  {
   "cell_type": "code",
   "execution_count": null,
   "id": "3ae321c4-f712-47fe-97a8-1c32bd279bef",
   "metadata": {},
   "outputs": [],
   "source": [
    "def remove_columns(ny , trash_columns = ['bin', 'bbl', 'nta', 'census_tract', 'council_district', 'community_board', 'grade_date']):\n",
    "    ny = ny.drop(columns=trash_columns)\n",
    "    return ny"
   ]
  },
  {
   "cell_type": "code",
   "execution_count": null,
   "id": "8c19ee35-33f8-4963-a12e-2941dee2f07b",
   "metadata": {},
   "outputs": [],
   "source": [
    "trash_columns = ['bin', 'bbl', 'nta', 'census_tract', 'council_district', 'community_board', 'grade_date']\n",
    "ny = ny.drop(columns=trash_columns)"
   ]
  },
  {
   "cell_type": "markdown",
   "id": "e70e8dc7-bd78-419e-ba7c-deafb01ff6ed",
   "metadata": {},
   "source": [
    "### Clean phone numbers"
   ]
  },
  {
   "cell_type": "code",
   "execution_count": null,
   "id": "f4230579-3d7f-42f3-b890-909b55fb692f",
   "metadata": {},
   "outputs": [],
   "source": [
    "def clean_phones(ny):    \n",
    "    # Clean phone numbers by removing non-digit characters and dropping nulls\n",
    "    ny.phone = ny.phone.str.replace(' ','')\n",
    "    ny.phone = ny.phone.str.replace('_','')\n",
    "    ny = ny[ny.phone.notna()]\n",
    "    return ny"
   ]
  },
  {
   "cell_type": "code",
   "execution_count": null,
   "id": "602f7375-c809-498d-a6d1-e63a16e554de",
   "metadata": {},
   "outputs": [],
   "source": [
    "ny = clean_phones(ny)"
   ]
  },
  {
   "cell_type": "markdown",
   "id": "a3702605-8a98-40f9-805c-f118f093f3f2",
   "metadata": {},
   "source": [
    "### Clean zipcodes"
   ]
  },
  {
   "cell_type": "code",
   "execution_count": null,
   "id": "88a054e1-3705-4333-a17a-f00cff09e162",
   "metadata": {},
   "outputs": [],
   "source": [
    "def clean_zipcodes(ny):\n",
    "    # Clean zipcodes by filling nulls with 0 and then converting to integers\n",
    "    ny.zipcode = ny.zipcode.fillna(0)\n",
    "    ny.zipcode = ny.zipcode.astype(int)\n",
    "    ny = ny[ny.zipcode.notna()]  # Drop nulls\n",
    "    return ny"
   ]
  },
  {
   "cell_type": "code",
   "execution_count": null,
   "id": "1d788d89-56a1-415c-95bb-4641a287d57a",
   "metadata": {},
   "outputs": [],
   "source": [
    "ny = clean_zipcodes(ny)"
   ]
  },
  {
   "cell_type": "markdown",
   "id": "b42c1e7d-9261-4271-8e9c-bf1a614889f5",
   "metadata": {},
   "source": [
    "### Clean streets"
   ]
  },
  {
   "cell_type": "code",
   "execution_count": null,
   "id": "5a569346-f375-4ec0-93c2-7cace37c4efc",
   "metadata": {},
   "outputs": [],
   "source": [
    "def clean_streets(ny):\n",
    "    # Remove nulls from street\n",
    "    ny = ny[ny.street.notna()]\n",
    "    return ny"
   ]
  },
  {
   "cell_type": "code",
   "execution_count": null,
   "id": "0f93b89a-8390-4c5d-8673-57ae9e66ee86",
   "metadata": {},
   "outputs": [],
   "source": [
    "ny = clean_streets(ny)"
   ]
  },
  {
   "cell_type": "markdown",
   "id": "bd01df5a-cea1-4d66-afea-218f0a8b538e",
   "metadata": {},
   "source": [
    "### Clean scores"
   ]
  },
  {
   "cell_type": "code",
   "execution_count": null,
   "id": "1243499f-f8b1-4f85-9583-ada5f2f51e16",
   "metadata": {},
   "outputs": [],
   "source": [
    "def clean_scores(data):\n",
    "    ny = data.copy()\n",
    "    ny = ny[ny.inspection_date != '1900-01-01T00:00:00.000']  # Remove all values with no inspections done\n",
    "    \n",
    "    # Create a new list of scores that replaces null scores for no violation for 0s\n",
    "    new_scores = []  # Empty list\n",
    "    for score,rep in zip(ny.score, ny.action.str.contains('No violation')):  # Loop through 2 iterable values\n",
    "        if rep == True:  # If no violation, append score 0\n",
    "            new_scores.append(0)\n",
    "        else:  # Else keep score the same\n",
    "            new_scores.append(score)\n",
    "    ny.score = new_scores\n",
    "    \n",
    "    ny = ny[ny.score.notna()]\n",
    "    return ny"
   ]
  },
  {
   "cell_type": "code",
   "execution_count": null,
   "id": "92b4dd9e-b02a-4c60-9b8d-5ef08ba51e93",
   "metadata": {},
   "outputs": [],
   "source": [
    "ny = clean_scores(ny)"
   ]
  },
  {
   "cell_type": "markdown",
   "id": "6c80024f-f1fe-4b27-aad4-f01441f43ba9",
   "metadata": {},
   "source": [
    "### Clean actions"
   ]
  },
  {
   "cell_type": "code",
   "execution_count": null,
   "id": "aef53eca-0dfc-425d-b6dc-43c6f4f88d58",
   "metadata": {},
   "outputs": [],
   "source": [
    "def clean_actions(ny):\n",
    "    # Remove nulls from action\n",
    "    ny = ny[ny.action.notna()]\n",
    "    # Rename actions to something more concise\n",
    "    ny.action = np.where(ny.action == 'Violations were cited in the following area(s).', 'Violations cited', ny.action)\n",
    "    ny.action = np.where(ny.action == 'Establishment Closed by DOHMH. Violations were cited in the following area(s) and those requiring immediate action were addressed.', 'Closed', ny.action)\n",
    "    ny.action = np.where(ny.action == 'Establishment re-opened by DOHMH.', 'Re-opened', ny.action)\n",
    "    ny.action = np.where(ny.action == 'No violations were recorded at the time of this inspection.', 'No violations', ny.action)\n",
    "    return ny"
   ]
  },
  {
   "cell_type": "code",
   "execution_count": null,
   "id": "f56ab5b1-1590-48f9-b072-29e5e42094f8",
   "metadata": {},
   "outputs": [],
   "source": [
    "ny = clean_actions(ny)"
   ]
  },
  {
   "cell_type": "markdown",
   "id": "850e8949-b198-4b83-a2b8-65761f9ddff1",
   "metadata": {},
   "source": [
    "### Clean grades"
   ]
  },
  {
   "cell_type": "code",
   "execution_count": null,
   "id": "f3fd282c-b099-412d-bf16-5f5eedd55c36",
   "metadata": {},
   "outputs": [],
   "source": [
    "def clean_grades(data):\n",
    "    ny = data.copy()  # Create copy of df\n",
    "    # Create empty list to hold new values for restaurant\n",
    "    new_grades = []\n",
    "    # Use scores to determine grades\n",
    "    for grade, score in zip(ny.grade, ny.score):\n",
    "        if score <= 13:\n",
    "            new_grades.append('A')\n",
    "        elif score <= 27:\n",
    "            new_grades.append('B')\n",
    "        elif score > 27:\n",
    "            new_grades.append('C')\n",
    "    ny.grade = new_grades\n",
    "    return ny"
   ]
  },
  {
   "cell_type": "code",
   "execution_count": null,
   "id": "43952694-8408-42ed-bd09-254ade0cfb9c",
   "metadata": {},
   "outputs": [],
   "source": [
    "ny = clean_grades(ny)"
   ]
  },
  {
   "cell_type": "markdown",
   "id": "c27af7a6-aee4-4bd6-b68a-50049809951b",
   "metadata": {},
   "source": [
    "### Clean violation code"
   ]
  },
  {
   "cell_type": "code",
   "execution_count": null,
   "id": "fe49a6f7-c042-4eda-89d2-f56e8229781b",
   "metadata": {},
   "outputs": [],
   "source": [
    "def clean_violations(data):\n",
    "    ny = data.copy()\n",
    "    # Create empty lists\n",
    "    new_codes = []\n",
    "    new_description = []\n",
    "    # Loop through actions and violations and if there is no violations in action, append no violations to code and description\n",
    "    for action, code, description in zip(ny.action, ny.violation_code, ny.violation_description):\n",
    "        if action == 'No violations':\n",
    "            new_codes.append('No violation')\n",
    "            new_description.append('No violation')\n",
    "        else:\n",
    "            new_codes.append(code)\n",
    "            new_description.append(description)\n",
    "            \n",
    "    # Replace df values with new ones\n",
    "    ny.violation_code = new_codes\n",
    "    ny.violation_description = new_description\n",
    "\n",
    "    return ny  # Return data"
   ]
  },
  {
   "cell_type": "code",
   "execution_count": null,
   "id": "15cdf862-0408-4698-8c68-92949ec51749",
   "metadata": {},
   "outputs": [],
   "source": [
    "ny = clean_violations(ny)"
   ]
  },
  {
   "cell_type": "markdown",
   "id": "9face850-2474-487a-a772-80dbc81f97c7",
   "metadata": {
    "tags": []
   },
   "source": [
    "### Everything else"
   ]
  },
  {
   "cell_type": "code",
   "execution_count": null,
   "id": "abe849f4-f624-425a-94a1-329f49f585dd",
   "metadata": {},
   "outputs": [],
   "source": [
    "ny = ny.dropna()"
   ]
  },
  {
   "cell_type": "code",
   "execution_count": null,
   "id": "96d06b02-b50e-4f6d-b2f6-8c2899878430",
   "metadata": {},
   "outputs": [],
   "source": [
    "ny.isna().sum()"
   ]
  },
  {
   "cell_type": "code",
   "execution_count": null,
   "id": "456ae3be-1b4b-4f41-8f5e-dca76e5fc484",
   "metadata": {},
   "outputs": [],
   "source": [
    "len(ny)"
   ]
  },
  {
   "cell_type": "code",
   "execution_count": null,
   "id": "650c480d-020a-4d74-a06b-39216c0412d9",
   "metadata": {},
   "outputs": [],
   "source": [
    "def clean_ny(ny):\n",
    "    \n",
    "    \"\"\"This function just takes in all other cleaning functions for ny data and cleans each element of it\"\"\"\n",
    "    \n",
    "    ny = remove_columns(ny)  # Removes useless columns from ny health inspection data\n",
    "    \n",
    "    ny = clean_phones(ny)  # Clean phone numbers\n",
    "    \n",
    "    ny = clean_zipcodes(ny)  # Cleans zip codes\n",
    "    \n",
    "    ny = clean_streets(ny)  # Cleans streets\n",
    "    \n",
    "    ny = clean_scores(ny)  # Cleans scores\n",
    "    \n",
    "    ny = clean_actions(ny)  # Cleans actions\n",
    "    \n",
    "    ny = clean_grades(ny)  # Cleans grades\n",
    "    \n",
    "    ny = clean_violations(ny)  # Cleans violation codes and descriptions\n",
    "    \n",
    "    ny = ny.dropna()  # Drops all remaining null values\n",
    "    \n",
    "    return ny  # Return clean dataframe"
   ]
  },
  {
   "cell_type": "code",
   "execution_count": null,
   "id": "ba763fd6-aabc-4062-aedb-40855b9131d8",
   "metadata": {},
   "outputs": [],
   "source": [
    "ny = a.acquire_ny()\n",
    "ny = clean_ny(ny)"
   ]
  },
  {
   "cell_type": "code",
   "execution_count": null,
   "id": "89b9544c-f666-47c4-a915-80c29fa91d5e",
   "metadata": {},
   "outputs": [],
   "source": [
    "len(ny)"
   ]
  },
  {
   "cell_type": "code",
   "execution_count": null,
   "id": "9588b402-79fb-4b1b-ae55-71afc4643df8",
   "metadata": {},
   "outputs": [],
   "source": [
    "ny.isna().sum()"
   ]
  },
  {
   "cell_type": "code",
   "execution_count": null,
   "id": "070d2421-97a4-40c9-9d3c-766d7515b386",
   "metadata": {},
   "outputs": [],
   "source": [
    "ny = a.acquire_ny()\n",
    "ny = prep.clean_ny(ny)"
   ]
  },
  {
   "cell_type": "code",
   "execution_count": null,
   "id": "e7c40caf-9bf5-43ba-a694-452d2d7cb7b2",
   "metadata": {},
   "outputs": [],
   "source": [
    "ny.isna().sum()"
   ]
  },
  {
   "cell_type": "code",
   "execution_count": null,
   "id": "46cf80c2-6e79-420c-9f34-c2e8483312d3",
   "metadata": {},
   "outputs": [],
   "source": [
    "ny.nunique()"
   ]
  },
  {
   "cell_type": "markdown",
   "id": "81f7673f-24d8-41cf-bfc0-726a3c25dcc5",
   "metadata": {
    "tags": []
   },
   "source": [
    "### Combine addresses"
   ]
  },
  {
   "cell_type": "code",
   "execution_count": null,
   "id": "77bfb85d-1b84-46e3-a5da-7a5e14af6089",
   "metadata": {},
   "outputs": [],
   "source": [
    "def combine_address(ny):\n",
    "    \"\"\"This function combines the addresses of the restaurants into one single feature.\"\"\"\n",
    "    full_addy = ny.building + ' ' + ny.street + ' ' + ny.zipcode.astype(str)  # Concat the address together\n",
    "    ny['full_address'] = full_addy  # Create new feature\n",
    "    ny = ny.drop(columns=['building', 'street', 'zipcode'])  # Drop old features\n",
    "    return ny  # Return df"
   ]
  },
  {
   "cell_type": "code",
   "execution_count": null,
   "id": "6752dffb-b7b6-49df-9e24-6592faebc19f",
   "metadata": {},
   "outputs": [],
   "source": [
    "ny = combine_address(ny)"
   ]
  },
  {
   "cell_type": "code",
   "execution_count": null,
   "id": "cfedd76b-6aca-438a-9e4a-bcc3feb7ea88",
   "metadata": {},
   "outputs": [],
   "source": [
    "ny.head(3)"
   ]
  },
  {
   "cell_type": "markdown",
   "id": "c79d7f87-d1b4-4f33-ab6f-80632383a028",
   "metadata": {},
   "source": [
    "### Aggregate violations"
   ]
  },
  {
   "cell_type": "code",
   "execution_count": null,
   "id": "d8e56cd0-5442-433b-ae15-5d54174e27a2",
   "metadata": {},
   "outputs": [],
   "source": [
    "def aggregate_violations(ny):\n",
    "    \"\"\"This function will aggregate all rows for each inspection for each restaurant into on row by combining the violations.\"\"\"\n",
    "    # Create aggregated df indexed by camis and inspection_date\n",
    "    agg_violations = ny.groupby(['camis','inspection_date']).agg({'violation_code': lambda x: x.tolist(),\n",
    "                                                                  'violation_description':lambda x: x.tolist()})\n",
    "    # Create separate df without code & description\n",
    "    ny2 = ny.drop(columns=['violation_code', 'violation_description']).copy()\n",
    "    ny2 = ny2.drop_duplicates()  # Drop duplicates\n",
    "    \n",
    "    # Create empty lists\n",
    "    agg_data_code = []\n",
    "    agg_data_description = []\n",
    "    \n",
    "    # Loop through df without duplicates and create lists of aggregated violations\n",
    "    for cam, date in zip(ny2.camis, ny2.inspection_date):\n",
    "        agg_data_code.append(agg_violations.loc[(cam, date)][0])\n",
    "        agg_data_description.append(agg_violations.loc[(cam, date)][1])\n",
    "        \n",
    "    # Insert new, aggregated violations into df\n",
    "    ny2['violation_code'] = agg_data_code\n",
    "    ny2['violation_description'] = agg_data_description\n",
    "    \n",
    "    return ny2"
   ]
  },
  {
   "cell_type": "code",
   "execution_count": null,
   "id": "0461f7c6-2b9e-40ad-980b-c7249312696b",
   "metadata": {},
   "outputs": [],
   "source": [
    "ny_test = aggregate_violations(ny)"
   ]
  },
  {
   "cell_type": "code",
   "execution_count": null,
   "id": "2f08690a-9d7a-4109-9022-cbdfa3c4bac7",
   "metadata": {},
   "outputs": [],
   "source": [
    "ny_test.head(3)"
   ]
  },
  {
   "cell_type": "code",
   "execution_count": null,
   "id": "c3d8c114-9098-4213-b156-4fbf6f2f1d01",
   "metadata": {},
   "outputs": [],
   "source": [
    "ny3 = a.acquire_ny()"
   ]
  },
  {
   "cell_type": "markdown",
   "id": "8627e13a-db40-4c33-b8ba-4891bf842e4e",
   "metadata": {},
   "source": [
    "Check if rows were properly aggregated"
   ]
  },
  {
   "cell_type": "code",
   "execution_count": null,
   "id": "d1619775-7ce1-422a-beec-476fb0927168",
   "metadata": {},
   "outputs": [],
   "source": [
    "def check_data(n, ny, ny2):\n",
    "    c, d = ny2.iloc[n][0], ny2.iloc[n][4]\n",
    "    print(ny2.iloc[n][0], ny2.iloc[n][4], ny2.iloc[n][-1])\n",
    "    print(ny2.iloc[n][-2])\n",
    "    return ny[(ny.camis == c) & (ny.inspection_date == d)]"
   ]
  },
  {
   "cell_type": "code",
   "execution_count": null,
   "id": "8dcbc9e9-9cf2-4a60-9a4f-66500eb74b8e",
   "metadata": {},
   "outputs": [],
   "source": [
    "check_data(14, ny3, ny_test)"
   ]
  },
  {
   "cell_type": "code",
   "execution_count": null,
   "id": "ec360ba3-dc9f-4225-a397-303ba3298c39",
   "metadata": {},
   "outputs": [],
   "source": [
    "def clean_phones(ny):\n",
    "    ny = ny[ny.phone.notna()]\n",
    "\n",
    "    new_phone = []\n",
    "\n",
    "    for phone in ny.phone:\n",
    "        new_phone.append(re.sub(r'\\D', '', phone))\n",
    "    ny.phone = new_phone\n",
    "\n",
    "    newer_phones = [phone if len(phone) > 1 else '0' for phone in ny.phone]\n",
    "\n",
    "    ny.phone = newer_phones\n",
    "\n",
    "    ny['phone'] = pd.to_numeric(ny['phone'], errors='coerce')\n",
    "    # Convert it to an integer\n",
    "    ny['phone'] = ny['phone'].astype(int)\n",
    "    return ny"
   ]
  },
  {
   "cell_type": "code",
   "execution_count": null,
   "id": "15f1b899-4812-4b1f-9fd8-20db2c9a7c8b",
   "metadata": {},
   "outputs": [],
   "source": [
    "import re"
   ]
  },
  {
   "cell_type": "code",
   "execution_count": null,
   "id": "8b634db7-68d9-4bd9-bc2a-ce3aa5e72731",
   "metadata": {},
   "outputs": [],
   "source": [
    "ny = a.acquire_ny()\n",
    "ny = prep.clean_ny(ny)\n",
    "\n",
    "ny = aggregate_violations(ny)"
   ]
  },
  {
   "cell_type": "code",
   "execution_count": null,
   "id": "bf88d19d-44ea-4aab-b9c3-745509d0fa55",
   "metadata": {},
   "outputs": [],
   "source": [
    "check_data(14, ny, ny2)"
   ]
  },
  {
   "cell_type": "code",
   "execution_count": null,
   "id": "f8f8d228-69d9-44b0-b151-d9c2929bac47",
   "metadata": {},
   "outputs": [],
   "source": [
    "def clean_code(ny):\n",
    "    \n",
    "    clean_codes = []\n",
    "    clean_description = []\n",
    "    \n",
    "    for row1, row2 in zip(ny.violation_code, ny.violation_description):\n",
    "        \n",
    "        code_list1 = row1\n",
    "        code_list2 = row2\n",
    "        \n",
    "        if len(code_list1) > 1 and 'No violation' in code_list1:\n",
    "            code_list1.remove('No violation')\n",
    "            clean_codes.append(code_list1)\n",
    "        else:\n",
    "            clean_codes.append(code_list1)\n",
    "            \n",
    "        if len(code_list2) > 1 and 'No violation' in code_list2:\n",
    "            code_list2.remove('No violation')\n",
    "            clean_description.append(code_list2)\n",
    "        else:\n",
    "            clean_description.append(code_list2)\n",
    "            \n",
    "    ny.violation_code = clean_codes\n",
    "    ny.violation_description = clean_description\n",
    "    \n",
    "    return ny"
   ]
  },
  {
   "cell_type": "code",
   "execution_count": null,
   "id": "ea2262ce-207f-4ee0-bfa5-49a0c4a223b8",
   "metadata": {},
   "outputs": [],
   "source": [
    "ny = clean_code(ny2)"
   ]
  },
  {
   "cell_type": "code",
   "execution_count": null,
   "id": "c78cb4b1-eebc-48db-a2c0-d11c7db246d9",
   "metadata": {},
   "outputs": [],
   "source": [
    "check_data(14, ny, ny2)"
   ]
  },
  {
   "cell_type": "code",
   "execution_count": null,
   "id": "a222b46b-cf63-4d42-8642-98cc9ff00475",
   "metadata": {},
   "outputs": [],
   "source": [
    "def join_lists(ny):    \n",
    "    joined_code = []\n",
    "    joined_description = []\n",
    "\n",
    "    for row in ny.violation_code:\n",
    "        joined_code.append(' '.join(row))\n",
    "\n",
    "    for row in ny.violation_description:\n",
    "        joined_description.append(' '.join(row))\n",
    "    \n",
    "    ny.violation_code = joined_code\n",
    "    ny.violation_description = joined_description\n",
    "    \n",
    "    return ny"
   ]
  },
  {
   "cell_type": "code",
   "execution_count": null,
   "id": "bdaf3cc0-f1cf-43b3-8005-a2fb855e1bf7",
   "metadata": {},
   "outputs": [],
   "source": [
    "ny = join_lists(ny)"
   ]
  },
  {
   "cell_type": "code",
   "execution_count": null,
   "id": "d548727e-2738-4d50-8dcf-8d3fa3f18804",
   "metadata": {},
   "outputs": [],
   "source": [
    "ny"
   ]
  },
  {
   "cell_type": "code",
   "execution_count": null,
   "id": "b357ee50-b746-490f-9f04-f0b8024378ad",
   "metadata": {},
   "outputs": [],
   "source": [
    "ny = prep.final_ny()\n",
    "ny.head()"
   ]
  },
  {
   "cell_type": "code",
   "execution_count": null,
   "id": "a20ad344-b43c-4c53-be91-9e760f2fe95a",
   "metadata": {},
   "outputs": [],
   "source": [
    "ny"
   ]
  },
  {
   "cell_type": "code",
   "execution_count": null,
   "id": "ee05f2ec-15b5-4346-9a63-1fd4def131cc",
   "metadata": {},
   "outputs": [],
   "source": [
    "ny.to_csv('clean_ny.csv', index=False)"
   ]
  },
  {
   "cell_type": "markdown",
   "id": "f05006cd-67e2-46fb-be4c-5782ba251e5b",
   "metadata": {},
   "source": [
    "# Explore"
   ]
  },
  {
   "cell_type": "markdown",
   "id": "218dcfc9-4a3c-4f77-9a26-5badc1c37e23",
   "metadata": {},
   "source": [
    "For this explore phase "
   ]
  },
  {
   "cell_type": "code",
   "execution_count": null,
   "id": "0eab77a5-375e-4bc8-b57b-f525f950d61e",
   "metadata": {},
   "outputs": [],
   "source": [
    "ny = pd.read_csv('clean_ny.csv')"
   ]
  },
  {
   "cell_type": "code",
   "execution_count": null,
   "id": "e7706ef1-1732-4c85-ba86-99aa8b093ef9",
   "metadata": {},
   "outputs": [],
   "source": [
    "ny['date'] = pd.to_datetime(ny.inspection_date)"
   ]
  },
  {
   "cell_type": "code",
   "execution_count": null,
   "id": "c95009df-24e6-4b44-bdff-8cf242d090ce",
   "metadata": {},
   "outputs": [],
   "source": [
    "ny.date = [x.year for x in ny.date]"
   ]
  },
  {
   "cell_type": "code",
   "execution_count": null,
   "id": "3e17100f-0108-4fef-abf5-3f5fe23ea9d6",
   "metadata": {},
   "outputs": [],
   "source": [
    "ny.camis"
   ]
  },
  {
   "cell_type": "code",
   "execution_count": null,
   "id": "685e43da-61a3-4c88-8557-bbf28b564fb9",
   "metadata": {},
   "outputs": [],
   "source": [
    "ny[ny.camis == 50050190]"
   ]
  },
  {
   "cell_type": "code",
   "execution_count": null,
   "id": "f08851f1-2dd7-4820-8a0b-8a72db4f315e",
   "metadata": {},
   "outputs": [],
   "source": [
    "ny.date.value_counts()"
   ]
  },
  {
   "cell_type": "code",
   "execution_count": null,
   "id": "0fd79898-3f81-4f5d-a41f-7c3a016556ae",
   "metadata": {},
   "outputs": [],
   "source": [
    "ny2 = prep.cleanse(ny, 'violation_description')"
   ]
  },
  {
   "cell_type": "code",
   "execution_count": null,
   "id": "d48e42c4-7837-4c85-9172-74f78b7cc5a7",
   "metadata": {},
   "outputs": [],
   "source": [
    "\n",
    "def word_counts(dataframe, col, data):\n",
    "    df = dataframe.copy()\n",
    "    uniques = df[col].unique()\n",
    "    col_names = ['all'] + list(df[col].unique())\n",
    "\n",
    "    word_count = []\n",
    "\n",
    "    all_words = df[data]\n",
    "    all_words = pd.Series(' '.join(all_words).split()).value_counts()\n",
    "    word_count.append(all_words)\n",
    "\n",
    "    for name in uniques:\n",
    "        words = df[data][df[col] == name]\n",
    "        words = pd.Series(' '.join(words).split()).value_counts()\n",
    "        word_count.append(words)\n",
    "\n",
    "    total_counts = pd.concat(word_count, axis=1) \\\n",
    "        .set_axis(col_names, axis=1).fillna(0) \\\n",
    "        .apply(lambda s: s.astype(int))\n",
    "\n",
    "    return total_counts"
   ]
  },
  {
   "cell_type": "code",
   "execution_count": null,
   "id": "51259e24-15af-477b-9143-ad4788d8e6f1",
   "metadata": {},
   "outputs": [],
   "source": [
    "counts = word_counts(ny2, 'grade', 'clean')\n",
    "counts"
   ]
  },
  {
   "cell_type": "code",
   "execution_count": null,
   "id": "abd2661b-8c78-42cb-971e-2ee32c0c1f47",
   "metadata": {},
   "outputs": [],
   "source": [
    "counts = word_counts(ny2, 'grade', 'violation_code')\n",
    "counts"
   ]
  },
  {
   "cell_type": "code",
   "execution_count": null,
   "id": "351384a4-226a-47c3-9267-d1ce27d10398",
   "metadata": {},
   "outputs": [],
   "source": [
    "health_codes = \\\n",
    "'''02A NYCHC 81.09(c)(1)  Public Health Hazard Poultry, poultry stuffing not heated to 165°F for 15 seconds $400 $600\n",
    "02A NYCHC 81.09(c)(2)    Public Health Hazard Pork/food containing pork not heated to 150°F for 15 seconds $400 $600\n",
    "02A NYCHC 81.09(c)(3)    Public Health Hazard Rare roast beef/steak not heated to minimum time/temperature $400 $600\n",
    "02A NYCHC 81.09(c)(4)   Public Health Hazard Ground meat not heated to 158°F $400 $600\n",
    "02A NYCHC 81.09(c)(5)   Public Health Hazard Stuffed meats, fish, ratites and tenderized meats not heated to 165°F for 15 seconds $400 $600\n",
    "02A NYCHC 81.09(c)(6)   Public Health Hazard Shell eggs/food containing shell eggs not heated 145°F for 15 seconds $400 $600\n",
    "02A NYCHC 81.09(c)     Public Health Hazard Other potentially hazardous hot food not heated to 140°F for 15 seconds $400 $600\n",
    "02B NYCHC 81.09(a)    Public Health Hazard Hot potentially hazardous food not held at 140°F or above $250 $300 $350 $400 $600\n",
    "02C NYCHC 81.09(d)     Previously heated and cooled potentially hazardous hot food not reheated to 165°F for 15 seconds within 2 hours $200 $200 $250 $300\n",
    "02D NYCHC 81.09(d)(2)  Commercially processed potentially hazardous food not heated to 140°F within 2 hours $200 $200 $250 $300\n",
    "02E NYCHC 81.09(f)(5)  Whole frozen poultry or poultry breast, other than a single portion, cooked frozen or partially thawed $200 $200\n",
    "02F NYCHC 81.11       Meat, fish, or shellfish served raw or partially cooked $300\n",
    "02G NYCHC 81.09(a)     Public Health Hazard Cold potentially hazardous food not held at 41°F or below $250 $300 $350 $400 $600\n",
    "02G NYCHC 81.09(a)(3) Public Health Hazard Processed or smoked fish not held at or below 38°F $250 $300 $350 $400 $600\n",
    "02G NYCHC 81.09(a)(2) Public Health Hazard Eggs not held at ambient temperature of 45°F or below $250 $300 $350 $400 $600\n",
    "02G NYCHC 81.12(d)(2) Public Health Hazard Reduced oxygen packaged raw foods not held at proper temperatures $250 $300 $350 $400 $600\n",
    "02G NYCHC 81.12(d)(4) Public Health Hazard Reduced oxygen packaged cold foods not held at proper temperatures $250 $300 $350 $400 $600 \n",
    "02G NYCHC 81.12(d)(4) Public Health Hazard Reduced oxygen packaged foods not held at proper temperatures $250 $300 $350 $400 $600\n",
    "02H NYCHC 81.09(e)     Public Health Hazard Potentially hazardous food not cooled by approved method $250 $300 $350 $400 $600\n",
    "02I NYCHC 81.09(e)(2)  Potentially hazardous food not cooled to 41°F when prepared from ambient temperature ingredients within 4 hours $200 $200 $250 $300\n",
    "02J NYCHC 81.12(d)(4) Public Health Hazard Reduced oxygen packaged foods not properly cooled $250 $300 $350 $400 $600\n",
    "03A NYCHC 81.04        Public Health Hazard Food not from an approved source $400 $600\n",
    "03A NYCHC 81.12(c)    Public Health Hazard Reduced oxygen packaged foods not from an approved source $400 $600\n",
    "03A NYCHC 81.12(e)   Public Health Hazard Reduced oxygen packaging fish not frozen before processing $400 $600\n",
    "03A NYCHC 81.04(b)     Public Health Hazard Meat not from an approved source $400 $600\n",
    "03B NYCHC 81.04(c)    Public Health Hazard Shellfish not from an approved source $400 $600\n",
    "03B NYCHC 81.04(c)    Public Health Hazard Shellfish improperly tagged or labeled $400 $600\n",
    "03B NYCHC 81.04(c)    Public Health Hazard Shellfish required tags not retained at least 90 days $400 $600\n",
    "03B NYCHC 81.04(c)    Public Health Hazard Wholesale shellfish records not on premises $400 $600\n",
    "03C NYCHC 81.07(c)    Public Health Hazard Eggs cracked, dirty or unpasteurized[; source of eggs not identified on container] $250 $300 $350 $400 $600\n",
    "03D NYCHC 81.07(b)    Public Health Hazard Food packages damaged; cans of food swollen, leaking and/or rusted $250 $300 $350 $400 $600\n",
    "03E NYCHC 81.20(a)    Public Health Hazard Potable water not provided; inadequate $400 $600\n",
    "03E NYCHC 141.13    Public Health Hazard Bottled water not from an approved source $250 $250\n",
    "03E NYCHC 81.20(a)  Public Health Hazard Cross-connection observed between potable and non- potable water $400 $600\n",
    "03E NYCHC 81.20(c)   Public Health Hazard Carbon dioxide gas lines unacceptable, improper materials used $400 $600 \n",
    "03F NYCHC 81.07(k)   Public Health Hazard Unpasteurized milk and milk products $400 $600\n",
    "03G NYCHC 81.07(a)(4)  Fruits and vegetables not washed prior to serving $200 $200 $250 $300\n",
    "04A NYCHC 81.15(a)     Food Protection Certificate not held by supervisor or manager of food operations $600\n",
    "04B NYCHC 81.13(a) Public Health Hazard Food worker with illness, communicable disease and/or injury preparing food $400 $600\n",
    "04C NYCHC 81.07(j) Public Health Hazard Bare hand contact with ready-to-eat foods $250 $300 $350 $400 $600\n",
    "04D NYCHC 81.13(d)     Public Health Hazard Food worker failed to wash hands after contamination $400 $600\n",
    "04E NYCHC 81.23(d)(3)   Public Health Hazard Pesticides not properly used; food, equipment, utensils, etc., not protected from pesticide contamination $250 $300 $350 $400 $600\n",
    "04F NYCHC 81.20(b)    Public Health Hazard Sewage and liquid waste not properly disposed of $400 $600\n",
    "04G NYCHC 81.07(l)    Public Health Hazard Unprotected potentially hazardous food re-served $400 $600\n",
    "04H NYCHC 81.07(a)(2)   Public Health Hazard Food not protected from cross-contamination $250 $300 $350 $400 $600\n",
    "04H NYCHC 81.07(a)     Public Health Hazard Food in contact with toxic material $250 $300 $350 $400 $600\n",
    "04H NYCHC 81.07(a)     Public Health Hazard Food not protected from adulteration or contamination $250 $300 $350 $400 $600\n",
    "04H NYCHC 81.06(b)(3)   Public Health Hazard Food not discarded in accordance with HACCP plan $250 $300 $350 $400 $600\n",
    "04I NYCHC 81.07(l)    Food other than in sealed packages re-served $200 $200 $250 $300\n",
    "04J NYCHC 81.09(g)    Thermometer not provided, calibrated properly, accessible for use and/or inadequate $300\n",
    "04J NYCHC 81.12(g)(1)  Thermocouple not provided $300\n",
    "04K NYCHC 81.23(a)      Evidence of rats $200 $200 $250 $300 $350\n",
    "04L NYCHC 81.23(a)  Evidence of mice $200 $200 $250 $300 $350\n",
    "04M NYCHC 81.23(a)  Evidence of roaches $200 $200 $250 $300 $350\n",
    "04N NYCHC 81.23(a)  Filth flies $200 $200 $250 $300 $350\n",
    "04O NYCHC 81.25     Live animal other than fish in tank or service animal $200 $200 $250 $300 $350 \n",
    "05A NYCHC 81.20(b)    Public Health Hazard Sewage disposal system improper or unapproved $400 $600\n",
    "05B NYCHC 81.19(c)   Public Health Hazard Harmful noxious gas or vapor detected; CO levels at or exceeding 9 ppm $400 $600\n",
    "05C NYCHC 81.17(d)     Food contact surface improperly constructed, located and/or made of unacceptable materials $200 $200 $250 $300 $350\n",
    "05C NYCHC 81.07(a)(1)  Culinary sink or alternative method not provided for washing food $200 $200 $250 $300 $350\n",
    "05D NYCHC 81.21(a)     Hand washing facilities not provided or not located where required $300 $350\n",
    "05D NYCHC 81.21(a)(1)  Hand washing facilities not provided within 25 feet of food preparation area or ware washing area $300 $350\n",
    "05D NYCHC 81.21(a)     Hand wash facility not provided with running water, or properly equipped $300 $350\n",
    "05D NYCHC 81.21(b)  Hand wash facility inadequate $300 $350\n",
    "05E NYCHC 81.22(a)  Toilet facilities not provided for employees $300 $350\n",
    "05E NYCHC 81.22(b)  Toilet facilities not provided for patrons $300 $350\n",
    "05E NYCHC 81.22(d)  Shared patron/employee toilet accessed through kitchen, food prep or storage area $300 $350\n",
    "05F NYCHC 81.18      Hot or cold holding equipment not provided or inadequate $300 $350\n",
    "05G NYCHC 89.27(c)  Enclosed service area not provided, equipped in mobile food vending commissary $300 $350\n",
    "05H NYCHC 81.29       Manual or mechanical tableware, utensil and/or ware washing facilities not provided $300 $350\n",
    "05I NYCHC 81.12(d)(5)  Refrigeration unit not equipped with an electronic system $300 $350\n",
    "06A NYCHC 81.13        Food worker does not maintain personal cleanliness $300 $350\n",
    "06A NYCHC 81.13(e)    Fingernails not clean, trimmed, or with nail polish $200 $200 $250 $300\n",
    "06A NYCHC 81.13(c)    Clean outer garment not worn $200 $200 $250 $300\n",
    "06A NYCHC 81.13(b)    Effective hair restraint not worn $200 $200 $250 $300\n",
    "06B NYCHC 81.13(h)    Eating in food preparation or service areas $200 $200 $250 $300\n",
    "06B NYCHC 81.13(g)    Smoking tobacco, using e-cigarettes or other substance in establishment $200 $200 $250 $300\n",
    "06C NYCHC 81.07(a)    Food not protected from contamination $200 $200 $250 $300 \n",
    "06C NYCHC 81.07(q)    Unnecessary traffic through food prep area $200 $200 $250 $300\n",
    "06C NYCHC 81.07(d)    Food not properly protected when stored $200 $200 $250 $300\n",
    "06C NYCHC 81.07(e)    Food not properly protected when displayed $200 $200 $250 $300\n",
    "06C NYCHC 81.07(f)    Condiments for self service not properly dispensed $200 $200 $250 $300\n",
    "06C NYCHC 81.07(i)    Supplies and equipment placed under overhead sewage pipe $200 $200 $250 $300\n",
    "06C NYCHC 81.31     Cooking by FSE on street, sidewalk, except as authorized by Articles 88, 89 $350\n",
    "06D NYCHC 81.27(b)  Food contact surface not sanitized; and/or not clean to sight and/or touch $200 $200 $250 $300\n",
    "06D NYCHC 81.27(b)  Equipment with food contact surfaces not clean and sanitized $200 $200 $250 $300\n",
    "06E NYCHC 81.07(h)  In-use food dispensing utensil not properly stored $200 $200 $250 $300\n",
    "06E NYCHC 81.07(g)  Ice not properly dispensed $200 $200 $250 $300\n",
    "06E NYCHC 81.07(h)  Food dispensing utensil not provided $200 $200 $250 $300\n",
    "06F NYCHC 81.27(c)     Wiping cloth improperly stored and/or sanitized $200 $200 $200\n",
    "06G NYCHC 81.06(b)and(c)   Public Health Hazard Approved HACCP plan not maintained on premises or not approved $400 $600\n",
    "06H NYCHC 81.06(b)(4)  Records and logs not maintained on site $350\n",
    "06I NYCHC 81.12(d)(6)  Food not labeled in accordance with the approved HACCP plan $300 $350\n",
    "07A NYCHC 3.15(a)     Obstruction of Department personnel $1,000\n",
    "08A NYCHC 81.23(a)  Conditions conducive to pests $200 $200\n",
    "08A NYCHC 81.23(b)  Prevention and control measures not used for pest management $200 $200\n",
    "08A NYCHC 81.23(b)(3)  Door openings into the establishment from the outside not properly equipped $200 $200\n",
    "08A NYCHC 81.23(b)(4)  Pest monitors incorrectly used $200 $200\n",
    "08A NYCHC 81.23(b)(2)  Contract with pest exterminator or record of pest extermination activities not kept on premises $200 $200\n",
    "08B NYCHC 81.24(a)  Garbage not properly removed or stored $200 $200 $200 $200\n",
    "08B NYCHC 81.24(c)  Garbage receptacles and covers not cleaned after emptying and prior to reuse $200 $200 $200 $200\n",
    "08C NYCHC81.23(d)     Pesticides not properly labeled, not authorized for use, or improperly used $200 $200 $200 $200 $200 \n",
    "08C NYCHC 81.23(d)(4)  Open bait station observed $200 $200 $200 $200 $200\n",
    "08C NYCHC 81.17(g)  Toxic materials not properly stored $200 $200 $200 $200 $200\n",
    "09A NYCHC 81.07(b)  Canned food observed dented and not segregated from other consumable foods $200 $200 $200 $200\n",
    "09B NYCHC 81.09(f)  Thawing procedures improper $200 $200 $200 $200\n",
    "09C NYCHC 81.17(d)(1)  Food contact surface improperly constructed and maintained; not easily cleanable $200 $200 $200 $200\n",
    "10A NYCHC 81.22(c)  Toilet facility not properly maintained $200 $200 $200 $200\n",
    "10A NYCHC 81.22(c)  Toilet facility not properly supplied $200 $200 $200 $200\n",
    "10A SSC 14-1.142(a) Toilet room not completely enclosed with self-closing door $200 $200 $200 $200\n",
    "10B NYCHC 81.20(a)  Potable water not protected from backflow, back siphonage or cross-connection $200 $200 $200 $200 $200\n",
    "10B NYCHC 81.20(b)  Improper disposal of sewage or liquid waste $200 $200 $200 $200 $200\n",
    "10B NYCHC 81.20(b)   Condensation pipes not properly installed or maintained $200 $200 $200 $200 $200\n",
    "10C NYCHC 81.19(a)   Lighting insufficient; inadequate $200 $200 $200 $200\n",
    "10D NYCHC 81.19(c)   Ventilation (mechanical or natural) not provided or inadequate $200 $200 $200 $200\n",
    "10E NYCHC 81.18(a)(3)   Thermometers not provided in cold storage and/or refrigerator $200 $200 $200 $200\n",
    "10E NYCHC 81.18(b)(1)   Thermometers not provided in hot storage or holding units $200 $200 $200 $200\n",
    "10F NYCHC 81.17(e)(1)   Flooring improperly constructed and/or maintained $200 $200 $200 $200\n",
    "10F NYCHC 81.17(e)(2)   Non-food contact surfaces (wall, ceiling, floors) improperly constructed/maintained $200 $200 $200 $200\n",
    "10F NYCHC 81.17(e)(3)   Non-food contact surface (fixtures, decorative material, fans, etc.) not properly maintained or equipment not properly maintained $200 $200 $200 $200\n",
    "10G NYCHC 81.17(a)(2)   Food being processed, prepared, packed, or stored in a private home or apartment. $200 $200 $200 $200\n",
    "10H NYCHC 81.29(a)[(1)]   Hot water manual ware washing inadequate $200 $200 $200 $200\n",
    "10H NYCHC 81.29(a)    Manual chemical sanitizing procedure inadequate $200 $200 $200 $200\n",
    "10H NYCHC 81.29(b)(1)   High temperature mechanical ware washing inadequate $200 $200 $200 $200 \n",
    "10H NYCHC 81.29(b)(2)   Mechanical chemical sanitizing procedure inadequate $200 $200 $200 $200\n",
    "10H NYCHC 81.29(a)    Test kit not accurate or used for manual dishwashing $200 $200 $200 $200\n",
    "10H NYCHC 81.29(b)(2)  Test kit not accurate or used for mechanical dishwashing $200 $200 $200 $200\n",
    "10I NYCHC 81.07(o)  Single service items improperly stored or reused $200 $200 $200 $200\n",
    "10I NYCHC 81.07(o)  Drinking straws improperly dispensed $200 $200 $200 $200\n",
    "10J NYCHC 81.21(c)  Wash hands sign not posted $200\n",
    "99B Misc filler      Miscellaneous $200 $200 $200 $200 $200 '''"
   ]
  },
  {
   "cell_type": "code",
   "execution_count": null,
   "id": "70917cb0-baf5-4601-bc41-86964a81f3d4",
   "metadata": {},
   "outputs": [],
   "source": [
    "hc = health_codes.split('\\n')\n",
    "new_codes = []\n",
    "for c in hc:\n",
    "    #print(c)\n",
    "    new_codes.append(re.findall(r'^(\\w+)\\s+\\S+\\s+\\S+\\s([^\\$]+)', c)[0])"
   ]
  },
  {
   "cell_type": "code",
   "execution_count": null,
   "id": "6bfdb94b-e59f-4d41-b278-cc3330afe5a4",
   "metadata": {},
   "outputs": [],
   "source": [
    "code = [code[0] for code in new_codes]\n",
    "description = [code[1].strip() for code in new_codes]\n",
    "\n",
    "health_codes = pd.DataFrame({'Code':code,\n",
    "              'Description':description})"
   ]
  },
  {
   "cell_type": "code",
   "execution_count": null,
   "id": "3d896dd4-13e9-4b8e-a77d-d0a35bfc2f39",
   "metadata": {},
   "outputs": [],
   "source": [
    "health_codes.to_csv('health_codes.csv', index=False)"
   ]
  },
  {
   "cell_type": "code",
   "execution_count": null,
   "id": "5c867dac-37a3-4918-80cd-2c71954e367f",
   "metadata": {},
   "outputs": [],
   "source": [
    "c = pd.read_csv('health_codes.csv')"
   ]
  },
  {
   "cell_type": "code",
   "execution_count": null,
   "id": "ef098b53-c6af-4bb6-899d-e8a4192169fa",
   "metadata": {},
   "outputs": [],
   "source": [
    "c.head()"
   ]
  },
  {
   "cell_type": "code",
   "execution_count": null,
   "id": "002f43e3-d00d-4407-a6d2-49aa4262e939",
   "metadata": {},
   "outputs": [],
   "source": []
  },
  {
   "cell_type": "code",
   "execution_count": null,
   "id": "69d7a84c-5243-4573-a12b-4ada771954db",
   "metadata": {},
   "outputs": [],
   "source": [
    "Code, Description = 'Code', 'Description'\n",
    "print(f'|{Code : <10}|{Description : <110}|')"
   ]
  },
  {
   "cell_type": "code",
   "execution_count": null,
   "id": "f09e12cc-e83a-4eeb-9d33-69235a213e22",
   "metadata": {},
   "outputs": [],
   "source": [
    "Code, Description = 'Code', 'Description'\n",
    "print(f'|{Code : ^6}|  {Description : ^130}|')\n",
    "print('| -----| ---------------------------------------------------------------------------------------------------------------------------------- |')\n",
    "for row1, row2 in zip(c.Code, c.Description):\n",
    "    print(f'|{row1: ^6}|  {row2 : <130}|')"
   ]
  },
  {
   "cell_type": "markdown",
   "id": "4acef895-9f00-4743-ab22-48bb292e2a5b",
   "metadata": {},
   "source": [
    "| Code |                                                             Description                                                            |\n",
    "| -----| ---------------------------------------------------------------------------------------------------------------------------------- |\n",
    "| 02A  |  Public Health Hazard Poultry, poultry stuffing not heated to 165°F for 15 seconds                                                 |\n",
    "| 02A  |  Public Health Hazard Pork/food containing pork not heated to 150°F for 15 seconds                                                 |\n",
    "| 02A  |  Public Health Hazard Rare roast beef/steak not heated to minimum time/temperature                                                 |\n",
    "| 02A  |  Public Health Hazard Ground meat not heated to 158°F                                                                              |\n",
    "| 02A  |  Public Health Hazard Stuffed meats, fish, ratites and tenderized meats not heated to 165°F for 15 seconds                         |\n",
    "| 02A  |  Public Health Hazard Shell eggs/food containing shell eggs not heated 145°F for 15 seconds                                        |\n",
    "| 02A  |  Public Health Hazard Other potentially hazardous hot food not heated to 140°F for 15 seconds                                      |\n",
    "| 02B  |  Public Health Hazard Hot potentially hazardous food not held at 140°F or above                                                    |\n",
    "| 02C  |  Previously heated and cooled potentially hazardous hot food not reheated to 165°F for 15 seconds within 2 hours                   |\n",
    "| 02D  |  Commercially processed potentially hazardous food not heated to 140°F within 2 hours                                              |\n",
    "| 02E  |  Whole frozen poultry or poultry breast, other than a single portion, cooked frozen or partially thawed                            |\n",
    "| 02F  |  Meat, fish, or shellfish served raw or partially cooked                                                                           |\n",
    "| 02G  |  Public Health Hazard Cold potentially hazardous food not held at 41°F or below                                                    |\n",
    "| 02G  |  Public Health Hazard Processed or smoked fish not held at or below 38°F                                                           |\n",
    "| 02G  |  Public Health Hazard Eggs not held at ambient temperature of 45°F or below                                                        |\n",
    "| 02G  |  Public Health Hazard Reduced oxygen packaged raw foods not held at proper temperatures                                            |\n",
    "| 02G  |  Public Health Hazard Reduced oxygen packaged cold foods not held at proper temperatures                                           |\n",
    "| 02G  |  Public Health Hazard Reduced oxygen packaged foods not held at proper temperatures                                                |\n",
    "| 02H  |  Public Health Hazard Potentially hazardous food not cooled by approved method                                                     |\n",
    "| 02I  |  Potentially hazardous food not cooled to 41°F when prepared from ambient temperature ingredients within 4 hours                   |\n",
    "| 02J  |  Public Health Hazard Reduced oxygen packaged foods not properly cooled                                                            |\n",
    "| 03A  |  Public Health Hazard Food not from an approved source                                                                             |\n",
    "| 03A  |  Public Health Hazard Reduced oxygen packaged foods not from an approved source                                                    |\n",
    "| 03A  |  Public Health Hazard Reduced oxygen packaging fish not frozen before processing                                                   |\n",
    "| 03A  |  Public Health Hazard Meat not from an approved source                                                                             |\n",
    "| 03B  |  Public Health Hazard Shellfish not from an approved source                                                                        |\n",
    "| 03B  |  Public Health Hazard Shellfish improperly tagged or labeled                                                                       |\n",
    "| 03B  |  Public Health Hazard Shellfish required tags not retained at least 90 days                                                        |\n",
    "| 03B  |  Public Health Hazard Wholesale shellfish records not on premises                                                                  |\n",
    "| 03C  |  Public Health Hazard Eggs cracked, dirty or unpasteurized[; source of eggs not identified on container]                           |\n",
    "| 03D  |  Public Health Hazard Food packages damaged; cans of food swollen, leaking and/or rusted                                           |\n",
    "| 03E  |  Public Health Hazard Potable water not provided; inadequate                                                                       |\n",
    "| 03E  |  Public Health Hazard Bottled water not from an approved source                                                                    |\n",
    "| 03E  |  Public Health Hazard Cross-connection observed between potable and non- potable water                                             |\n",
    "| 03E  |  Public Health Hazard Carbon dioxide gas lines unacceptable, improper materials used                                               |\n",
    "| 03F  |  Public Health Hazard Unpasteurized milk and milk products                                                                         |\n",
    "| 03G  |  Fruits and vegetables not washed prior to serving                                                                                 |\n",
    "| 04A  |  Food Protection Certificate not held by supervisor or manager of food operations                                                  |\n",
    "| 04B  |  Public Health Hazard Food worker with illness, communicable disease and/or injury preparing food                                  |\n",
    "| 04C  |  Public Health Hazard Bare hand contact with ready-to-eat foods                                                                    |\n",
    "| 04D  |  Public Health Hazard Food worker failed to wash hands after contamination                                                         |\n",
    "| 04E  |  Public Health Hazard Pesticides not properly used; food, equipment, utensils, etc., not protected from pesticide contamination    |\n",
    "| 04F  |  Public Health Hazard Sewage and liquid waste not properly disposed of                                                             |\n",
    "| 04G  |  Public Health Hazard Unprotected potentially hazardous food re-served                                                             |\n",
    "| 04H  |  Public Health Hazard Food not protected from cross-contamination                                                                  |\n",
    "| 04H  |  Public Health Hazard Food in contact with toxic material                                                                          |\n",
    "| 04H  |  Public Health Hazard Food not protected from adulteration or contamination                                                        |\n",
    "| 04H  |  Public Health Hazard Food not discarded in accordance with HACCP plan                                                             |\n",
    "| 04I  |  Food other than in sealed packages re-served                                                                                      |\n",
    "| 04J  |  Thermometer not provided, calibrated properly, accessible for use and/or inadequate                                               |\n",
    "| 04J  |  Thermocouple not provided                                                                                                         |\n",
    "| 04K  |  Evidence of rats                                                                                                                  |\n",
    "| 04L  |  Evidence of mice                                                                                                                  |\n",
    "| 04M  |  Evidence of roaches                                                                                                               |\n",
    "| 04N  |  Filth flies                                                                                                                       |\n",
    "| 04O  |  Live animal other than fish in tank or service animal                                                                             |\n",
    "| 05A  |  Public Health Hazard Sewage disposal system improper or unapproved                                                                |\n",
    "| 05B  |  Public Health Hazard Harmful noxious gas or vapor detected; CO levels at or exceeding 9 ppm                                       |\n",
    "| 05C  |  Food contact surface improperly constructed, located and/or made of unacceptable materials                                        |\n",
    "| 05C  |  Culinary sink or alternative method not provided for washing food                                                                 |\n",
    "| 05D  |  Hand washing facilities not provided or not located where required                                                                |\n",
    "| 05D  |  Hand washing facilities not provided within 25 feet of food preparation area or ware washing area                                 |\n",
    "| 05D  |  Hand wash facility not provided with running water, or properly equipped                                                          |\n",
    "| 05D  |  Hand wash facility inadequate                                                                                                     |\n",
    "| 05E  |  Toilet facilities not provided for employees                                                                                      |\n",
    "| 05E  |  Toilet facilities not provided for patrons                                                                                        |\n",
    "| 05E  |  Shared patron/employee toilet accessed through kitchen, food prep or storage area                                                 |\n",
    "| 05F  |  Hot or cold holding equipment not provided or inadequate                                                                          |\n",
    "| 05G  |  Enclosed service area not provided, equipped in mobile food vending commissary                                                    |\n",
    "| 05H  |  Manual or mechanical tableware, utensil and/or ware washing facilities not provided                                               |\n",
    "| 05I  |  Refrigeration unit not equipped with an electronic system                                                                         |\n",
    "| 06A  |  Food worker does not maintain personal cleanliness                                                                                |\n",
    "| 06A  |  Fingernails not clean, trimmed, or with nail polish                                                                               |\n",
    "| 06A  |  Clean outer garment not worn                                                                                                      |\n",
    "| 06A  |  Effective hair restraint not worn                                                                                                 |\n",
    "| 06B  |  Eating in food preparation or service areas                                                                                       |\n",
    "| 06B  |  Smoking tobacco, using e-cigarettes or other substance in establishment                                                           |\n",
    "| 06C  |  Food not protected from contamination                                                                                             |\n",
    "| 06C  |  Unnecessary traffic through food prep area                                                                                        |\n",
    "| 06C  |  Food not properly protected when stored                                                                                           |\n",
    "| 06C  |  Food not properly protected when displayed                                                                                        |\n",
    "| 06C  |  Condiments for self service not properly dispensed                                                                                |\n",
    "| 06C  |  Supplies and equipment placed under overhead sewage pipe                                                                          |\n",
    "| 06C  |  Cooking by FSE on street, sidewalk, except as authorized by Articles 88, 89                                                       |\n",
    "| 06D  |  Food contact surface not sanitized; and/or not clean to sight and/or touch                                                        |\n",
    "| 06D  |  Equipment with food contact surfaces not clean and sanitized                                                                      |\n",
    "| 06E  |  In-use food dispensing utensil not properly stored                                                                                |\n",
    "| 06E  |  Ice not properly dispensed                                                                                                        |\n",
    "| 06E  |  Food dispensing utensil not provided                                                                                              |\n",
    "| 06F  |  Wiping cloth improperly stored and/or sanitized                                                                                   |\n",
    "| 06G  |  Public Health Hazard Approved HACCP plan not maintained on premises or not approved                                               |\n",
    "| 06H  |  Records and logs not maintained on site                                                                                           |\n",
    "| 06I  |  Food not labeled in accordance with the approved HACCP plan                                                                       |\n",
    "| 07A  |  Obstruction of Department personnel                                                                                               |\n",
    "| 08A  |  Conditions conducive to pests                                                                                                     |\n",
    "| 08A  |  Prevention and control measures not used for pest management                                                                      |\n",
    "| 08A  |  Door openings into the establishment from the outside not properly equipped                                                       |\n",
    "| 08A  |  Pest monitors incorrectly used                                                                                                    |\n",
    "| 08A  |  Contract with pest exterminator or record of pest extermination activities not kept on premises                                   |\n",
    "| 08B  |  Garbage not properly removed or stored                                                                                            |\n",
    "| 08B  |  Garbage receptacles and covers not cleaned after emptying and prior to reuse                                                      |\n",
    "| 08C  |  not properly labeled, not authorized for use, or improperly used                                                                  |\n",
    "| 08C  |  Open bait station observed                                                                                                        |\n",
    "| 08C  |  Toxic materials not properly stored                                                                                               |\n",
    "| 09A  |  Canned food observed dented and not segregated from other consumable foods                                                        |\n",
    "| 09B  |  Thawing procedures improper                                                                                                       |\n",
    "| 09C  |  Food contact surface improperly constructed and maintained; not easily cleanable                                                  |\n",
    "| 10A  |  Toilet facility not properly maintained                                                                                           |\n",
    "| 10A  |  Toilet facility not properly supplied                                                                                             |\n",
    "| 10A  |  Toilet room not completely enclosed with self-closing door                                                                        |\n",
    "| 10B  |  Potable water not protected from backflow, back siphonage or cross-connection                                                     |\n",
    "| 10B  |  Improper disposal of sewage or liquid waste                                                                                       |\n",
    "| 10B  |  Condensation pipes not properly installed or maintained                                                                           |\n",
    "| 10C  |  Lighting insufficient; inadequate                                                                                                 |\n",
    "| 10D  |  Ventilation (mechanical or natural) not provided or inadequate                                                                    |\n",
    "| 10E  |  Thermometers not provided in cold storage and/or refrigerator                                                                     |\n",
    "| 10E  |  Thermometers not provided in hot storage or holding units                                                                         |\n",
    "| 10F  |  Flooring improperly constructed and/or maintained                                                                                 |\n",
    "| 10F  |  Non-food contact surfaces (wall, ceiling, floors) improperly constructed/maintained                                               |\n",
    "| 10F  |  Non-food contact surface (fixtures, decorative material, fans, etc.) not properly maintained or equipment not properly maintained |\n",
    "| 10G  |  Food being processed, prepared, packed, or stored in a private home or apartment.                                                 |\n",
    "| 10H  |  Hot water manual ware washing inadequate                                                                                          |\n",
    "| 10H  |  Manual chemical sanitizing procedure inadequate                                                                                   |\n",
    "| 10H  |  High temperature mechanical ware washing inadequate                                                                               |\n",
    "| 10H  |  Mechanical chemical sanitizing procedure inadequate                                                                               |\n",
    "| 10H  |  Test kit not accurate or used for manual dishwashing                                                                              |\n",
    "| 10H  |  Test kit not accurate or used for mechanical dishwashing                                                                          |\n",
    "| 10I  |  Single service items improperly stored or reused                                                                                  |\n",
    "| 10I  |  Drinking straws improperly dispensed                                                                                              |\n",
    "| 10J  |  Wash hands sign not posted                                                                                                        |\n",
    "| 99B  |  Miscellaneous                                                                                                                     |"
   ]
  },
  {
   "cell_type": "code",
   "execution_count": null,
   "id": "2dfc35a0-0483-4961-99a6-8d6c6be99216",
   "metadata": {},
   "outputs": [],
   "source": []
  }
 ],
 "metadata": {
  "kernelspec": {
   "display_name": "Python 3 (ipykernel)",
   "language": "python",
   "name": "python3"
  },
  "language_info": {
   "codemirror_mode": {
    "name": "ipython",
    "version": 3
   },
   "file_extension": ".py",
   "mimetype": "text/x-python",
   "name": "python",
   "nbconvert_exporter": "python",
   "pygments_lexer": "ipython3",
   "version": "3.10.13"
  }
 },
 "nbformat": 4,
 "nbformat_minor": 5
}
