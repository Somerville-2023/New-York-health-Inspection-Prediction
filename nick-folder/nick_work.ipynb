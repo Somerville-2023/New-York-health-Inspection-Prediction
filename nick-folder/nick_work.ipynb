{
 "cells": [
  {
   "cell_type": "markdown",
   "id": "cee5f588-73d7-42ea-9bed-2a7cd7bbb924",
   "metadata": {},
   "source": [
    "# NY Food review project"
   ]
  },
  {
   "cell_type": "markdown",
   "id": "c8609587-569e-4ed2-aee1-749042b9856c",
   "metadata": {},
   "source": [
    "This notebook contains testing and scratch work"
   ]
  },
  {
   "cell_type": "markdown",
   "id": "e7198278-49f4-46b7-af9a-1c11653a353a",
   "metadata": {},
   "source": [
    "### Imports"
   ]
  },
  {
   "cell_type": "code",
   "execution_count": 76,
   "id": "c623d9ef-1aea-4c5a-8fc5-5a07080a29b8",
   "metadata": {},
   "outputs": [
    {
     "name": "stdout",
     "output_type": "stream",
     "text": [
      "The autoreload extension is already loaded. To reload it, use:\n",
      "  %reload_ext autoreload\n"
     ]
    }
   ],
   "source": [
    "%load_ext autoreload\n",
    "%autoreload 2\n",
    "\n",
    "# Import ds libraries\n",
    "import pandas as pd\n",
    "import numpy as np\n",
    "\n",
    "# Import acquire functions\n",
    "import nick_acquire as a"
   ]
  },
  {
   "cell_type": "markdown",
   "id": "0a54819b-e577-4c89-9fc2-e214ce2e7625",
   "metadata": {},
   "source": [
    "### Data dictionary"
   ]
  },
  {
   "cell_type": "markdown",
   "id": "33097f0a-7a68-47cd-9089-9cdbbdf6d39d",
   "metadata": {
    "tags": []
   },
   "source": [
    "|          feature          |                            description                           |\n",
    "| ------------------------- | ---------------------------------------------------------------- |\n",
    "| camis                     | Unique identifier for the restaurant                             |\n",
    "| dba                       | Name of the business                                             |\n",
    "| boro                      | Borough in which restaurant is located                           |\n",
    "| building                  | Building number for restaurant                                   |\n",
    "| street                    | Street name for establishment                                    |\n",
    "| zipcode                   | Zip code for the establishment                                   |\n",
    "| phone                     | Phone number for the establishment                               |\n",
    "| inspection_date           | Date of the inspection of the restaurant                         |\n",
    "| critical_flag             | Indicator of critical violation                                  |\n",
    "| record_date               | The date when the extract was run to produce this data set       |\n",
    "| latitude                  | Latitude                                                         |\n",
    "| longitude                 | Longitude                                                        |\n",
    "| community_board           | ?                                                                |\n",
    "| council_district          | ?                                                                |\n",
    "| census_tract              | ?                                                                |\n",
    "| bin                       | ?                                                                |\n",
    "| bbl                       | ?                                                                |\n",
    "| nta                       | ?                                                                |\n",
    "| cuisine_description       | Describes type of cuisine at the restaurant                      |\n",
    "| action                    | The actions that is associated with each restaurant inspection   |\n",
    "| violation_code            | Violation code associated with establishment inspection          |\n",
    "| violation_description     | Violation description associated with establishment inspection   |\n",
    "| score                     | Total score for a particular inspection                          |\n",
    "| grade                     | Grade associated with inspection                                 |\n",
    "| grade_date                | Date when the current grade was issued                           |\n",
    "| inspection_type           | Combination of the inspection program and the type of inspection |"
   ]
  },
  {
   "cell_type": "markdown",
   "id": "d04ae401-8c02-46f6-81f8-88a3742101c9",
   "metadata": {},
   "source": [
    "This field represents the actions that is associated with each restaurant inspection. ;\n",
    "• Violations were cited in the following area(s). \n",
    "• No violations were recorded at the time of this inspection. • Establishment re-opened by DOHMH \n",
    "• Establishment re-closed by DOHMH \n",
    "• Establishment Closed by DOHMH.  Violations were cited in the following area(s) and those requiring immediate action were addressed. \n",
    "• \"Missing\" = not yet inspected;"
   ]
  },
  {
   "cell_type": "markdown",
   "id": "e2807714-9e65-4602-b4bd-401edec988d1",
   "metadata": {},
   "source": [
    "Grade associated with the inspection; \n",
    "• N = Not Yet Graded\n",
    "• A = Grade A\n",
    "• B = Grade B\n",
    "• C = Grade C\n",
    "• Z = Grade Pending\n",
    "• P = Grade Pending issued on re-opening following an initial inspection that resulted in a closure"
   ]
  },
  {
   "cell_type": "code",
   "execution_count": 77,
   "id": "f87465c4-a5f7-49fd-bc46-efdf736b4d20",
   "metadata": {},
   "outputs": [],
   "source": [
    "ny = a.acquire_ny()"
   ]
  },
  {
   "cell_type": "code",
   "execution_count": 78,
   "id": "707ef40d-0eb9-4036-a5a1-fa35f1bf57ed",
   "metadata": {},
   "outputs": [
    {
     "data": {
      "text/html": [
       "<div>\n",
       "<style scoped>\n",
       "    .dataframe tbody tr th:only-of-type {\n",
       "        vertical-align: middle;\n",
       "    }\n",
       "\n",
       "    .dataframe tbody tr th {\n",
       "        vertical-align: top;\n",
       "    }\n",
       "\n",
       "    .dataframe thead th {\n",
       "        text-align: right;\n",
       "    }\n",
       "</style>\n",
       "<table border=\"1\" class=\"dataframe\">\n",
       "  <thead>\n",
       "    <tr style=\"text-align: right;\">\n",
       "      <th></th>\n",
       "      <th>camis</th>\n",
       "      <th>dba</th>\n",
       "      <th>boro</th>\n",
       "      <th>building</th>\n",
       "      <th>street</th>\n",
       "      <th>zipcode</th>\n",
       "      <th>phone</th>\n",
       "      <th>inspection_date</th>\n",
       "      <th>critical_flag</th>\n",
       "      <th>record_date</th>\n",
       "      <th>...</th>\n",
       "      <th>bbl</th>\n",
       "      <th>nta</th>\n",
       "      <th>cuisine_description</th>\n",
       "      <th>action</th>\n",
       "      <th>violation_code</th>\n",
       "      <th>violation_description</th>\n",
       "      <th>score</th>\n",
       "      <th>grade</th>\n",
       "      <th>grade_date</th>\n",
       "      <th>inspection_type</th>\n",
       "    </tr>\n",
       "  </thead>\n",
       "  <tbody>\n",
       "    <tr>\n",
       "      <th>0</th>\n",
       "      <td>50106756</td>\n",
       "      <td>UNGARO COAL FIRED PIZZA CAFE</td>\n",
       "      <td>Staten Island</td>\n",
       "      <td>1298</td>\n",
       "      <td>FOREST AVENUE</td>\n",
       "      <td>10302.0</td>\n",
       "      <td>6464690930</td>\n",
       "      <td>1900-01-01T00:00:00.000</td>\n",
       "      <td>Not Applicable</td>\n",
       "      <td>2023-10-26T06:00:14.000</td>\n",
       "      <td>...</td>\n",
       "      <td>5.003870e+09</td>\n",
       "      <td>SI07</td>\n",
       "      <td>NaN</td>\n",
       "      <td>NaN</td>\n",
       "      <td>NaN</td>\n",
       "      <td>NaN</td>\n",
       "      <td>NaN</td>\n",
       "      <td>NaN</td>\n",
       "      <td>NaN</td>\n",
       "      <td>NaN</td>\n",
       "    </tr>\n",
       "    <tr>\n",
       "      <th>1</th>\n",
       "      <td>50105716</td>\n",
       "      <td>STELLA'S</td>\n",
       "      <td>Brooklyn</td>\n",
       "      <td>559</td>\n",
       "      <td>5 AVENUE</td>\n",
       "      <td>11215.0</td>\n",
       "      <td>4155703174</td>\n",
       "      <td>1900-01-01T00:00:00.000</td>\n",
       "      <td>Not Applicable</td>\n",
       "      <td>2023-10-26T06:00:14.000</td>\n",
       "      <td>...</td>\n",
       "      <td>3.010480e+09</td>\n",
       "      <td>BK37</td>\n",
       "      <td>NaN</td>\n",
       "      <td>NaN</td>\n",
       "      <td>NaN</td>\n",
       "      <td>NaN</td>\n",
       "      <td>NaN</td>\n",
       "      <td>NaN</td>\n",
       "      <td>NaN</td>\n",
       "      <td>NaN</td>\n",
       "    </tr>\n",
       "    <tr>\n",
       "      <th>2</th>\n",
       "      <td>41168748</td>\n",
       "      <td>DUNKIN</td>\n",
       "      <td>Bronx</td>\n",
       "      <td>880</td>\n",
       "      <td>GARRISON AVENUE</td>\n",
       "      <td>10474.0</td>\n",
       "      <td>7188614171</td>\n",
       "      <td>2022-03-30T00:00:00.000</td>\n",
       "      <td>Not Critical</td>\n",
       "      <td>2023-10-26T06:00:11.000</td>\n",
       "      <td>...</td>\n",
       "      <td>2.027390e+09</td>\n",
       "      <td>BX27</td>\n",
       "      <td>Donuts</td>\n",
       "      <td>Violations were cited in the following area(s).</td>\n",
       "      <td>10J</td>\n",
       "      <td>Hand wash sign not posted</td>\n",
       "      <td>13.0</td>\n",
       "      <td>A</td>\n",
       "      <td>2022-03-30T00:00:00.000</td>\n",
       "      <td>Cycle Inspection / Initial Inspection</td>\n",
       "    </tr>\n",
       "    <tr>\n",
       "      <th>3</th>\n",
       "      <td>50131566</td>\n",
       "      <td>EXTACY LOUNGE</td>\n",
       "      <td>Queens</td>\n",
       "      <td>7701</td>\n",
       "      <td>JAMAICA AVE</td>\n",
       "      <td>11421.0</td>\n",
       "      <td>3478752367</td>\n",
       "      <td>1900-01-01T00:00:00.000</td>\n",
       "      <td>Not Applicable</td>\n",
       "      <td>2023-10-26T06:00:14.000</td>\n",
       "      <td>...</td>\n",
       "      <td>4.088410e+09</td>\n",
       "      <td>QN53</td>\n",
       "      <td>NaN</td>\n",
       "      <td>NaN</td>\n",
       "      <td>NaN</td>\n",
       "      <td>NaN</td>\n",
       "      <td>NaN</td>\n",
       "      <td>NaN</td>\n",
       "      <td>NaN</td>\n",
       "      <td>NaN</td>\n",
       "    </tr>\n",
       "    <tr>\n",
       "      <th>4</th>\n",
       "      <td>50128764</td>\n",
       "      <td>RUNNING KIDS</td>\n",
       "      <td>Brooklyn</td>\n",
       "      <td>856</td>\n",
       "      <td>64 STREET</td>\n",
       "      <td>11220.0</td>\n",
       "      <td>7188338856</td>\n",
       "      <td>1900-01-01T00:00:00.000</td>\n",
       "      <td>Not Applicable</td>\n",
       "      <td>2023-10-26T06:00:14.000</td>\n",
       "      <td>...</td>\n",
       "      <td>3.057420e+09</td>\n",
       "      <td>BK34</td>\n",
       "      <td>NaN</td>\n",
       "      <td>NaN</td>\n",
       "      <td>NaN</td>\n",
       "      <td>NaN</td>\n",
       "      <td>NaN</td>\n",
       "      <td>NaN</td>\n",
       "      <td>NaN</td>\n",
       "      <td>NaN</td>\n",
       "    </tr>\n",
       "  </tbody>\n",
       "</table>\n",
       "<p>5 rows × 26 columns</p>\n",
       "</div>"
      ],
      "text/plain": [
       "      camis                           dba           boro building  \\\n",
       "0  50106756  UNGARO COAL FIRED PIZZA CAFE  Staten Island     1298   \n",
       "1  50105716                      STELLA'S       Brooklyn      559   \n",
       "2  41168748                        DUNKIN          Bronx      880   \n",
       "3  50131566                 EXTACY LOUNGE         Queens     7701   \n",
       "4  50128764                  RUNNING KIDS       Brooklyn      856   \n",
       "\n",
       "            street  zipcode       phone          inspection_date  \\\n",
       "0    FOREST AVENUE  10302.0  6464690930  1900-01-01T00:00:00.000   \n",
       "1         5 AVENUE  11215.0  4155703174  1900-01-01T00:00:00.000   \n",
       "2  GARRISON AVENUE  10474.0  7188614171  2022-03-30T00:00:00.000   \n",
       "3      JAMAICA AVE  11421.0  3478752367  1900-01-01T00:00:00.000   \n",
       "4        64 STREET  11220.0  7188338856  1900-01-01T00:00:00.000   \n",
       "\n",
       "    critical_flag              record_date  ...           bbl   nta  \\\n",
       "0  Not Applicable  2023-10-26T06:00:14.000  ...  5.003870e+09  SI07   \n",
       "1  Not Applicable  2023-10-26T06:00:14.000  ...  3.010480e+09  BK37   \n",
       "2    Not Critical  2023-10-26T06:00:11.000  ...  2.027390e+09  BX27   \n",
       "3  Not Applicable  2023-10-26T06:00:14.000  ...  4.088410e+09  QN53   \n",
       "4  Not Applicable  2023-10-26T06:00:14.000  ...  3.057420e+09  BK34   \n",
       "\n",
       "   cuisine_description                                           action  \\\n",
       "0                  NaN                                              NaN   \n",
       "1                  NaN                                              NaN   \n",
       "2               Donuts  Violations were cited in the following area(s).   \n",
       "3                  NaN                                              NaN   \n",
       "4                  NaN                                              NaN   \n",
       "\n",
       "   violation_code      violation_description  score grade  \\\n",
       "0             NaN                        NaN    NaN   NaN   \n",
       "1             NaN                        NaN    NaN   NaN   \n",
       "2             10J  Hand wash sign not posted   13.0     A   \n",
       "3             NaN                        NaN    NaN   NaN   \n",
       "4             NaN                        NaN    NaN   NaN   \n",
       "\n",
       "                grade_date                        inspection_type  \n",
       "0                      NaN                                    NaN  \n",
       "1                      NaN                                    NaN  \n",
       "2  2022-03-30T00:00:00.000  Cycle Inspection / Initial Inspection  \n",
       "3                      NaN                                    NaN  \n",
       "4                      NaN                                    NaN  \n",
       "\n",
       "[5 rows x 26 columns]"
      ]
     },
     "execution_count": 78,
     "metadata": {},
     "output_type": "execute_result"
    }
   ],
   "source": [
    "ny.head()"
   ]
  },
  {
   "cell_type": "code",
   "execution_count": 80,
   "id": "a9e8ca28-94bf-4f4c-a5a5-f009ce559efb",
   "metadata": {},
   "outputs": [
    {
     "data": {
      "text/plain": [
       "28232"
      ]
     },
     "execution_count": 80,
     "metadata": {},
     "output_type": "execute_result"
    }
   ],
   "source": [
    "ny.camis.nunique()"
   ]
  },
  {
   "cell_type": "code",
   "execution_count": 87,
   "id": "bb93ca71-fb25-4265-b64f-03a0edddc2bc",
   "metadata": {},
   "outputs": [
    {
     "data": {
      "text/plain": [
       "camis                         0\n",
       "dba                         508\n",
       "boro                          0\n",
       "building                    351\n",
       "street                        6\n",
       "zipcode                    2680\n",
       "phone                         7\n",
       "inspection_date               0\n",
       "critical_flag                 0\n",
       "record_date                   0\n",
       "latitude                    257\n",
       "longitude                   257\n",
       "community_board            3247\n",
       "council_district           3251\n",
       "census_tract               3251\n",
       "bin                        4237\n",
       "bbl                         573\n",
       "nta                        3247\n",
       "cuisine_description        2305\n",
       "action                     2305\n",
       "violation_code             3452\n",
       "violation_description      3452\n",
       "score                      9706\n",
       "grade                    105753\n",
       "grade_date               114506\n",
       "inspection_type            2305\n",
       "dtype: int64"
      ]
     },
     "execution_count": 87,
     "metadata": {},
     "output_type": "execute_result"
    }
   ],
   "source": [
    "ny.isna().sum()"
   ]
  },
  {
   "cell_type": "code",
   "execution_count": 85,
   "id": "bd6c5aed-24dd-401e-8d40-af06844cf984",
   "metadata": {},
   "outputs": [
    {
     "data": {
      "text/plain": [
       "0             1298 FOREST AVENUE\n",
       "1                   559 5 AVENUE\n",
       "2            880 GARRISON AVENUE\n",
       "3               7701 JAMAICA AVE\n",
       "4                  856 64 STREET\n",
       "                   ...          \n",
       "207924      14605 JAMAICA AVENUE\n",
       "207925     2456 EASTCHESTER ROAD\n",
       "207926         333 HUDSON STREET\n",
       "207927            8 STONE STREET\n",
       "207928    126 ST & ROOSEVELT AVE\n",
       "Length: 207929, dtype: object"
      ]
     },
     "execution_count": 85,
     "metadata": {},
     "output_type": "execute_result"
    }
   ],
   "source": [
    "ny.building + ' '  + ny.street"
   ]
  },
  {
   "cell_type": "code",
   "execution_count": null,
   "id": "3e460cd3-d7bb-4fe8-8244-80f67b5e9306",
   "metadata": {},
   "outputs": [],
   "source": []
  }
 ],
 "metadata": {
  "kernelspec": {
   "display_name": "Python 3 (ipykernel)",
   "language": "python",
   "name": "python3"
  },
  "language_info": {
   "codemirror_mode": {
    "name": "ipython",
    "version": 3
   },
   "file_extension": ".py",
   "mimetype": "text/x-python",
   "name": "python",
   "nbconvert_exporter": "python",
   "pygments_lexer": "ipython3",
   "version": "3.10.9"
  }
 },
 "nbformat": 4,
 "nbformat_minor": 5
}
