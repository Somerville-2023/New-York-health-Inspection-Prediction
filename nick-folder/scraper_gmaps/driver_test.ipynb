{
 "cells": [
  {
   "cell_type": "code",
   "execution_count": 6,
   "metadata": {},
   "outputs": [],
   "source": [
    "from selenium import webdriver\n",
    "from selenium.webdriver.chrome.service import Service\n",
    "\n",
    "# Specify the path to the Chrome Beta binary\n",
    "chrome_binary_path = \"/Applications/Google Chrome Beta.app/Contents/MacOS/Google Chrome Beta\"\n",
    "\n",
    "# Specify the path to the ChromeDriver executable for Chrome Beta\n",
    "driver_path = \"/Users/jongarcia/codeup-data-science/googlemaps-scraper/chromedriver-mac-x64 BETA/chromedriver\"\n",
    "\n",
    "# Create a ChromeOptions object\n",
    "options = webdriver.ChromeOptions()\n",
    "\n",
    "# Set the binary location to Chrome Beta\n",
    "options.binary_location = chrome_binary_path\n",
    "\n",
    "# Create a Service object with the ChromeDriver path\n",
    "service = Service(driver_path)\n",
    "\n",
    "# Create a ChromeDriver with the specified options and executable path\n",
    "driver = webdriver.Chrome(service=service, options=options)\n"
   ]
  },
  {
   "cell_type": "code",
   "execution_count": 6,
   "metadata": {},
   "outputs": [],
   "source": [
    "from selenium import webdriver\n",
    "from selenium.webdriver.chrome.service import Service\n",
    "from selenium.webdriver.chrome.options import Options\n",
    "import logging\n",
    "\n",
    "# Specify the path to the Chrome Beta binary\n",
    "chrome_binary_path = \"/Applications/Google Chrome Beta.app/Contents/MacOS/Google Chrome Beta\"\n",
    "\n",
    "# Specify the path to the ChromeDriver executable for Chrome Beta\n",
    "driver_path = \"/Users/jongarcia/codeup-data-science/googlemaps-scraper/chromedriver-mac-x64 BETA/chromedriver\"\n",
    "\n",
    "# Create a ChromeOptions object\n",
    "options = Options()\n",
    "\n",
    "# Set the binary location to Chrome Beta\n",
    "options.binary_location = chrome_binary_path\n",
    "\n",
    "debug = True  # Set this to True or False based on your requirement\n",
    "\n",
    "if not debug:\n",
    "    options.add_argument(\"--headless\")\n",
    "else:\n",
    "    options.add_argument(\"--window-size=1920,1080\")\n",
    "\n",
    "options.add_argument(\"--disable-notifications\")\n",
    "options.add_argument(\"--accept-lang=en-GB\")\n",
    "\n",
    "# Configure the WebDriver to use the Tor SOCKS proxy\n",
    "options.add_argument(\"--proxy-server=socks5://127.0.0.1:9050\")\n",
    "\n",
    "# Create a Service object with the ChromeDriver path\n",
    "service = Service(driver_path)\n",
    "\n",
    "# Create a ChromeDriver with the specified options and executable path\n",
    "driver = webdriver.Chrome(service=service, options=options)\n",
    "\n",
    "logging.debug(\"ChromeDriver successfully initialized.\")\n",
    "\n",
    "driver.get('https://www.google.com/maps/place/?q=place_id:ChIJ7bngQXZZwokRQtaUAwUwyJA')\n"
   ]
  },
  {
   "cell_type": "code",
   "execution_count": null,
   "metadata": {},
   "outputs": [],
   "source": []
  }
 ],
 "metadata": {
  "kernelspec": {
   "display_name": "google_maps_scrape",
   "language": "python",
   "name": "python3"
  },
  "language_info": {
   "codemirror_mode": {
    "name": "ipython",
    "version": 3
   },
   "file_extension": ".py",
   "mimetype": "text/x-python",
   "name": "python",
   "nbconvert_exporter": "python",
   "pygments_lexer": "ipython3",
   "version": "3.10.12"
  }
 },
 "nbformat": 4,
 "nbformat_minor": 2
}
