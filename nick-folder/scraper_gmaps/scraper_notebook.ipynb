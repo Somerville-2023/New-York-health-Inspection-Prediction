{
 "cells": [
  {
   "cell_type": "markdown",
   "metadata": {},
   "source": [
    "### Run the cell below, when its running correctly you should see:\n",
    "\n",
    "```\n",
    "Scraper initialized successfully.\n",
    "IP masking successful: Your IP address is being masked by Tor.\n",
    "Processing URL: https://www.google.com/maps/place/?q=place_id:ChIJrf_kaVBZwokRTu8j3dKal_0\n",
    "Attempting to sort reviews...\n",
    "Errors while readying to scrape: 0\n",
    "Starting to scrape reviews for https://www.google.com/maps/place/?q=place_id:ChIJrf_kaVBZwokRTu8j3dKal_0...\n",
    "[Scraping from review 0]\n",
    "Number of reviews fetched: 9\n",
    "[Scraping from review 9]\n",
    "```"
   ]
  },
  {
   "cell_type": "code",
   "execution_count": 1,
   "metadata": {},
   "outputs": [
    {
     "ename": "SocketError",
     "evalue": "[Errno 61] Connection refused",
     "output_type": "error",
     "traceback": [
      "\u001b[0;31m---------------------------------------------------------------------------\u001b[0m",
      "\u001b[0;31mConnectionRefusedError\u001b[0m                    Traceback (most recent call last)",
      "File \u001b[0;32m/opt/homebrew/anaconda3/envs/j_scraper/lib/python3.12/site-packages/stem/socket.py:535\u001b[0m, in \u001b[0;36mControlPort._make_socket\u001b[0;34m(self)\u001b[0m\n\u001b[1;32m    534\u001b[0m control_socket \u001b[39m=\u001b[39m socket\u001b[39m.\u001b[39msocket(socket\u001b[39m.\u001b[39mAF_INET, socket\u001b[39m.\u001b[39mSOCK_STREAM)\n\u001b[0;32m--> 535\u001b[0m control_socket\u001b[39m.\u001b[39;49mconnect((\u001b[39mself\u001b[39;49m\u001b[39m.\u001b[39;49maddress, \u001b[39mself\u001b[39;49m\u001b[39m.\u001b[39;49mport))\n\u001b[1;32m    536\u001b[0m \u001b[39mreturn\u001b[39;00m control_socket\n",
      "\u001b[0;31mConnectionRefusedError\u001b[0m: [Errno 61] Connection refused",
      "\nDuring handling of the above exception, another exception occurred:\n",
      "\u001b[0;31mSocketError\u001b[0m                               Traceback (most recent call last)",
      "\u001b[1;32m/Users/nickolaspedrimiranda/CodeUp/New-York-health-Inspection-Prediction/nick-folder/scraper_gmaps/scraper_notebook.ipynb Cell 2\u001b[0m line \u001b[0;36m1\n\u001b[1;32m     <a href='vscode-notebook-cell:/Users/nickolaspedrimiranda/CodeUp/New-York-health-Inspection-Prediction/nick-folder/scraper_gmaps/scraper_notebook.ipynb#W4sZmlsZQ%3D%3D?line=9'>10</a>\u001b[0m         controller\u001b[39m.\u001b[39msignal(Signal\u001b[39m.\u001b[39mNEWNYM)\n\u001b[1;32m     <a href='vscode-notebook-cell:/Users/nickolaspedrimiranda/CodeUp/New-York-health-Inspection-Prediction/nick-folder/scraper_gmaps/scraper_notebook.ipynb#W4sZmlsZQ%3D%3D?line=10'>11</a>\u001b[0m         \u001b[39mprint\u001b[39m(\u001b[39m\"\u001b[39m\u001b[39mRequested a new Tor identity\u001b[39m\u001b[39m\"\u001b[39m)\n\u001b[0;32m---> <a href='vscode-notebook-cell:/Users/nickolaspedrimiranda/CodeUp/New-York-health-Inspection-Prediction/nick-folder/scraper_gmaps/scraper_notebook.ipynb#W4sZmlsZQ%3D%3D?line=11'>12</a>\u001b[0m request_new_tor_identity()\n",
      "\u001b[1;32m/Users/nickolaspedrimiranda/CodeUp/New-York-health-Inspection-Prediction/nick-folder/scraper_gmaps/scraper_notebook.ipynb Cell 2\u001b[0m line \u001b[0;36m8\n\u001b[1;32m      <a href='vscode-notebook-cell:/Users/nickolaspedrimiranda/CodeUp/New-York-health-Inspection-Prediction/nick-folder/scraper_gmaps/scraper_notebook.ipynb#W4sZmlsZQ%3D%3D?line=6'>7</a>\u001b[0m \u001b[39mdef\u001b[39;00m \u001b[39mrequest_new_tor_identity\u001b[39m():\n\u001b[0;32m----> <a href='vscode-notebook-cell:/Users/nickolaspedrimiranda/CodeUp/New-York-health-Inspection-Prediction/nick-folder/scraper_gmaps/scraper_notebook.ipynb#W4sZmlsZQ%3D%3D?line=7'>8</a>\u001b[0m     \u001b[39mwith\u001b[39;00m Controller\u001b[39m.\u001b[39;49mfrom_port(port\u001b[39m=\u001b[39;49m\u001b[39m9051\u001b[39;49m) \u001b[39mas\u001b[39;00m controller:\n\u001b[1;32m      <a href='vscode-notebook-cell:/Users/nickolaspedrimiranda/CodeUp/New-York-health-Inspection-Prediction/nick-folder/scraper_gmaps/scraper_notebook.ipynb#W4sZmlsZQ%3D%3D?line=8'>9</a>\u001b[0m         controller\u001b[39m.\u001b[39mauthenticate(password\u001b[39m=\u001b[39mPASSWORD)\n\u001b[1;32m     <a href='vscode-notebook-cell:/Users/nickolaspedrimiranda/CodeUp/New-York-health-Inspection-Prediction/nick-folder/scraper_gmaps/scraper_notebook.ipynb#W4sZmlsZQ%3D%3D?line=9'>10</a>\u001b[0m         controller\u001b[39m.\u001b[39msignal(Signal\u001b[39m.\u001b[39mNEWNYM)\n",
      "File \u001b[0;32m/opt/homebrew/anaconda3/envs/j_scraper/lib/python3.12/site-packages/stem/control.py:1033\u001b[0m, in \u001b[0;36mController.from_port\u001b[0;34m(address, port)\u001b[0m\n\u001b[1;32m   1031\u001b[0m   control_port \u001b[39m=\u001b[39m stem\u001b[39m.\u001b[39mconnection\u001b[39m.\u001b[39m_connection_for_default_port(address)\n\u001b[1;32m   1032\u001b[0m \u001b[39melse\u001b[39;00m:\n\u001b[0;32m-> 1033\u001b[0m   control_port \u001b[39m=\u001b[39m stem\u001b[39m.\u001b[39;49msocket\u001b[39m.\u001b[39;49mControlPort(address, port)\n\u001b[1;32m   1035\u001b[0m \u001b[39mreturn\u001b[39;00m Controller(control_port)\n",
      "File \u001b[0;32m/opt/homebrew/anaconda3/envs/j_scraper/lib/python3.12/site-packages/stem/socket.py:503\u001b[0m, in \u001b[0;36mControlPort.__init__\u001b[0;34m(self, address, port, connect)\u001b[0m\n\u001b[1;32m    500\u001b[0m \u001b[39mself\u001b[39m\u001b[39m.\u001b[39mport \u001b[39m=\u001b[39m port\n\u001b[1;32m    502\u001b[0m \u001b[39mif\u001b[39;00m connect:\n\u001b[0;32m--> 503\u001b[0m   \u001b[39mself\u001b[39;49m\u001b[39m.\u001b[39;49mconnect()\n",
      "File \u001b[0;32m/opt/homebrew/anaconda3/envs/j_scraper/lib/python3.12/site-packages/stem/socket.py:172\u001b[0m, in \u001b[0;36mBaseSocket.connect\u001b[0;34m(self)\u001b[0m\n\u001b[1;32m    169\u001b[0m   \u001b[39mself\u001b[39m\u001b[39m.\u001b[39mclose()\n\u001b[1;32m    171\u001b[0m \u001b[39mwith\u001b[39;00m \u001b[39mself\u001b[39m\u001b[39m.\u001b[39m_recv_lock:\n\u001b[0;32m--> 172\u001b[0m   \u001b[39mself\u001b[39m\u001b[39m.\u001b[39m_socket \u001b[39m=\u001b[39m \u001b[39mself\u001b[39;49m\u001b[39m.\u001b[39;49m_make_socket()\n\u001b[1;32m    173\u001b[0m   \u001b[39mself\u001b[39m\u001b[39m.\u001b[39m_socket_file \u001b[39m=\u001b[39m \u001b[39mself\u001b[39m\u001b[39m.\u001b[39m_socket\u001b[39m.\u001b[39mmakefile(mode \u001b[39m=\u001b[39m \u001b[39m'\u001b[39m\u001b[39mrwb\u001b[39m\u001b[39m'\u001b[39m)\n\u001b[1;32m    174\u001b[0m   \u001b[39mself\u001b[39m\u001b[39m.\u001b[39m_is_alive \u001b[39m=\u001b[39m \u001b[39mTrue\u001b[39;00m\n",
      "File \u001b[0;32m/opt/homebrew/anaconda3/envs/j_scraper/lib/python3.12/site-packages/stem/socket.py:538\u001b[0m, in \u001b[0;36mControlPort._make_socket\u001b[0;34m(self)\u001b[0m\n\u001b[1;32m    536\u001b[0m   \u001b[39mreturn\u001b[39;00m control_socket\n\u001b[1;32m    537\u001b[0m \u001b[39mexcept\u001b[39;00m socket\u001b[39m.\u001b[39merror \u001b[39mas\u001b[39;00m exc:\n\u001b[0;32m--> 538\u001b[0m   \u001b[39mraise\u001b[39;00m stem\u001b[39m.\u001b[39mSocketError(exc)\n",
      "\u001b[0;31mSocketError\u001b[0m: [Errno 61] Connection refused"
     ]
    }
   ],
   "source": [
    "# Replace 'my_password' with your control port password\n",
    "import env\n",
    "from stem import Signal\n",
    "from stem.control import Controller\n",
    "\n",
    "PASSWORD = env.torp\n",
    "def request_new_tor_identity():\n",
    "    with Controller.from_port(port=9051) as controller:\n",
    "        controller.authenticate(password=PASSWORD)\n",
    "        controller.signal(Signal.NEWNYM)\n",
    "        print(\"Requested a new Tor identity\")\n",
    "request_new_tor_identity()"
   ]
  },
  {
   "cell_type": "code",
   "execution_count": 6,
   "metadata": {},
   "outputs": [
    {
     "ename": "SocketError",
     "evalue": "[Errno 61] Connection refused",
     "output_type": "error",
     "traceback": [
      "\u001b[0;31m---------------------------------------------------------------------------\u001b[0m",
      "\u001b[0;31mConnectionRefusedError\u001b[0m                    Traceback (most recent call last)",
      "File \u001b[0;32m/opt/homebrew/anaconda3/envs/j_scraper/lib/python3.12/site-packages/stem/socket.py:535\u001b[0m, in \u001b[0;36mControlPort._make_socket\u001b[0;34m(self)\u001b[0m\n\u001b[1;32m    534\u001b[0m control_socket \u001b[39m=\u001b[39m socket\u001b[39m.\u001b[39msocket(socket\u001b[39m.\u001b[39mAF_INET, socket\u001b[39m.\u001b[39mSOCK_STREAM)\n\u001b[0;32m--> 535\u001b[0m control_socket\u001b[39m.\u001b[39;49mconnect((\u001b[39mself\u001b[39;49m\u001b[39m.\u001b[39;49maddress, \u001b[39mself\u001b[39;49m\u001b[39m.\u001b[39;49mport))\n\u001b[1;32m    536\u001b[0m \u001b[39mreturn\u001b[39;00m control_socket\n",
      "\u001b[0;31mConnectionRefusedError\u001b[0m: [Errno 61] Connection refused",
      "\nDuring handling of the above exception, another exception occurred:\n",
      "\u001b[0;31mSocketError\u001b[0m                               Traceback (most recent call last)",
      "\u001b[1;32m/Users/nickolaspedrimiranda/CodeUp/New-York-health-Inspection-Prediction/nick-folder/scraper_gmaps/scraper_notebook.ipynb Cell 3\u001b[0m line \u001b[0;36m1\n\u001b[0;32m----> <a href='vscode-notebook-cell:/Users/nickolaspedrimiranda/CodeUp/New-York-health-Inspection-Prediction/nick-folder/scraper_gmaps/scraper_notebook.ipynb#W5sZmlsZQ%3D%3D?line=0'>1</a>\u001b[0m \u001b[39mwith\u001b[39;00m Controller\u001b[39m.\u001b[39;49mfrom_port(port\u001b[39m=\u001b[39;49m\u001b[39m9051\u001b[39;49m) \u001b[39mas\u001b[39;00m controller:\n\u001b[1;32m      <a href='vscode-notebook-cell:/Users/nickolaspedrimiranda/CodeUp/New-York-health-Inspection-Prediction/nick-folder/scraper_gmaps/scraper_notebook.ipynb#W5sZmlsZQ%3D%3D?line=1'>2</a>\u001b[0m     controller\u001b[39m.\u001b[39mauthenticate(password\u001b[39m=\u001b[39menv\u001b[39m.\u001b[39mtorp)  \u001b[39m# Authenticate with the password\u001b[39;00m\n\u001b[1;32m      <a href='vscode-notebook-cell:/Users/nickolaspedrimiranda/CodeUp/New-York-health-Inspection-Prediction/nick-folder/scraper_gmaps/scraper_notebook.ipynb#W5sZmlsZQ%3D%3D?line=2'>3</a>\u001b[0m     \u001b[39mprint\u001b[39m(\u001b[39m\"\u001b[39m\u001b[39msuccessfully authenticate\u001b[39m\u001b[39m\"\u001b[39m)\n",
      "File \u001b[0;32m/opt/homebrew/anaconda3/envs/j_scraper/lib/python3.12/site-packages/stem/control.py:1033\u001b[0m, in \u001b[0;36mController.from_port\u001b[0;34m(address, port)\u001b[0m\n\u001b[1;32m   1031\u001b[0m   control_port \u001b[39m=\u001b[39m stem\u001b[39m.\u001b[39mconnection\u001b[39m.\u001b[39m_connection_for_default_port(address)\n\u001b[1;32m   1032\u001b[0m \u001b[39melse\u001b[39;00m:\n\u001b[0;32m-> 1033\u001b[0m   control_port \u001b[39m=\u001b[39m stem\u001b[39m.\u001b[39;49msocket\u001b[39m.\u001b[39;49mControlPort(address, port)\n\u001b[1;32m   1035\u001b[0m \u001b[39mreturn\u001b[39;00m Controller(control_port)\n",
      "File \u001b[0;32m/opt/homebrew/anaconda3/envs/j_scraper/lib/python3.12/site-packages/stem/socket.py:503\u001b[0m, in \u001b[0;36mControlPort.__init__\u001b[0;34m(self, address, port, connect)\u001b[0m\n\u001b[1;32m    500\u001b[0m \u001b[39mself\u001b[39m\u001b[39m.\u001b[39mport \u001b[39m=\u001b[39m port\n\u001b[1;32m    502\u001b[0m \u001b[39mif\u001b[39;00m connect:\n\u001b[0;32m--> 503\u001b[0m   \u001b[39mself\u001b[39;49m\u001b[39m.\u001b[39;49mconnect()\n",
      "File \u001b[0;32m/opt/homebrew/anaconda3/envs/j_scraper/lib/python3.12/site-packages/stem/socket.py:172\u001b[0m, in \u001b[0;36mBaseSocket.connect\u001b[0;34m(self)\u001b[0m\n\u001b[1;32m    169\u001b[0m   \u001b[39mself\u001b[39m\u001b[39m.\u001b[39mclose()\n\u001b[1;32m    171\u001b[0m \u001b[39mwith\u001b[39;00m \u001b[39mself\u001b[39m\u001b[39m.\u001b[39m_recv_lock:\n\u001b[0;32m--> 172\u001b[0m   \u001b[39mself\u001b[39m\u001b[39m.\u001b[39m_socket \u001b[39m=\u001b[39m \u001b[39mself\u001b[39;49m\u001b[39m.\u001b[39;49m_make_socket()\n\u001b[1;32m    173\u001b[0m   \u001b[39mself\u001b[39m\u001b[39m.\u001b[39m_socket_file \u001b[39m=\u001b[39m \u001b[39mself\u001b[39m\u001b[39m.\u001b[39m_socket\u001b[39m.\u001b[39mmakefile(mode \u001b[39m=\u001b[39m \u001b[39m'\u001b[39m\u001b[39mrwb\u001b[39m\u001b[39m'\u001b[39m)\n\u001b[1;32m    174\u001b[0m   \u001b[39mself\u001b[39m\u001b[39m.\u001b[39m_is_alive \u001b[39m=\u001b[39m \u001b[39mTrue\u001b[39;00m\n",
      "File \u001b[0;32m/opt/homebrew/anaconda3/envs/j_scraper/lib/python3.12/site-packages/stem/socket.py:538\u001b[0m, in \u001b[0;36mControlPort._make_socket\u001b[0;34m(self)\u001b[0m\n\u001b[1;32m    536\u001b[0m   \u001b[39mreturn\u001b[39;00m control_socket\n\u001b[1;32m    537\u001b[0m \u001b[39mexcept\u001b[39;00m socket\u001b[39m.\u001b[39merror \u001b[39mas\u001b[39;00m exc:\n\u001b[0;32m--> 538\u001b[0m   \u001b[39mraise\u001b[39;00m stem\u001b[39m.\u001b[39mSocketError(exc)\n",
      "\u001b[0;31mSocketError\u001b[0m: [Errno 61] Connection refused"
     ]
    }
   ],
   "source": [
    "\n",
    "with Controller.from_port(port=9051) as controller:\n",
    "    controller.authenticate(password=env.torp)  # Authenticate with the password\n",
    "    print(\"successfully authenticate\")\n",
    "    controller.signal(Signal.NEWNYM)  # Send the signal to get a new Tor identity\n"
   ]
  },
  {
   "cell_type": "code",
   "execution_count": null,
   "metadata": {},
   "outputs": [],
   "source": [
    "\n",
    "                # Check if the IP has been successfully changed\n",
    "                new_ip = self.__get_ip_with_tor()\n",
    "                if new_ip != self.last_masked_ip:\n",
    "                    print(\"Tor IP successfully renewed.\")\n",
    "                    print(f\"New IP: {new_ip}\")\n",
    "                    print(f\"Previous IP: {self.last_masked_ip}\")\n",
    "                    self.last_masked_ip = new_ip\n",
    "                    success = True\n",
    "                else:\n",
    "                    print(\"Warning: Tor IP did not change after renewal attempt.\")\n",
    "\n",
    "            except SocketClosed as e:\n",
    "                print(f\"SocketClosed error occurred: {e}\")\n",
    "            except Exception as e:\n",
    "                print(f\"An unexpected error occurred: {e}\")\n",
    "\n",
    "            if not success:\n",
    "                wait_time = min(10 * (2 ** attempt), 10 * 60)  # Exponential backoff capped at 10 minutes\n",
    "                print(f\"Retrying IP renewal in {wait_time} seconds, attempt {attempt} of {max_attempts}\")\n",
    "                time.sleep(wait_time)\n",
    "                attempt += 1\n",
    "\n",
    "        if not success:\n",
    "            raise Exception(\"Failed to renew Tor IP after maximum attempts.\")"
   ]
  },
  {
   "cell_type": "code",
   "execution_count": 2,
   "metadata": {
    "tags": []
   },
   "outputs": [
    {
     "name": "stdout",
     "output_type": "stream",
     "text": [
      "Scraper initialized successfully.\n",
      "IP without Tor: 150.220.144.130\n",
      "IP with Tor: 89.58.41.156\n",
      "IP masking successful: Your IP address is being masked by Tor.\n",
      "Real IP: 150.220.144.130\n",
      "Tor IP: 89.58.41.156\n",
      "Processing URL: https://www.google.com/maps/place/?q=place_id:ChIJrf_kaVBZwokRTu8j3dKal_0\n",
      "Attempting to sort reviews...\n",
      "Total number of reviews found: 9\n",
      "Sorting button clicked successfully.\n",
      "Errors while readying to scrape: 0\n",
      "Starting to scrape reviews for https://www.google.com/maps/place/?q=place_id:ChIJrf_kaVBZwokRTu8j3dKal_0...\n",
      "\u001b[36m[Scraping from review 0]\u001b[0m\n",
      "Scroll 1/25 completed. Content height: 804\n",
      "Scroll 2/25 completed. Content height: 804\n",
      "Scrolled done\n",
      "Number of reviews fetched: 0\n",
      "No more reviews to fetch. Breaking out of the loop.\n",
      "The current page count is 1\n",
      "Processing URL: https://www.google.com/maps/place/?q=place_id:ChIJ4cgpnXj0wokRIIKmBNitLlI\n",
      "Attempting to sort reviews...\n",
      "^C\n",
      "Traceback (most recent call last):\n",
      "  File \"/Users/nickolaspedrimiranda/CodeUp/New-York-health-Inspection-Prediction/nick-folder/scraper_gmaps/scraper.py\", line 102, in <module>\n",
      "    error = scraper.sort_by(url, ind[args.sort_by])\n",
      "            ^^^^^^^^^^^^^^^^^^^^^^^^^^^^^^^^^^^^^^^\n",
      "  File \"/Users/nickolaspedrimiranda/CodeUp/New-York-health-Inspection-Prediction/nick-folder/scraper_gmaps/googlemaps.py\", line 157, in sort_by\n",
      "    self.driver.get(url)\n",
      "  File \"/opt/homebrew/anaconda3/envs/j_scraper/lib/python3.12/site-packages/selenium/webdriver/remote/webdriver.py\", line 355, in get\n",
      "    self.execute(Command.GET, {\"url\": url})\n",
      "  File \"/opt/homebrew/anaconda3/envs/j_scraper/lib/python3.12/site-packages/selenium/webdriver/remote/webdriver.py\", line 344, in execute\n",
      "    response = self.command_executor.execute(driver_command, params)\n",
      "               ^^^^^^^^^^^^^^^^^^^^^^^^^^^^^^^^^^^^^^^^^^^^^^^^^^^^^\n",
      "  File \"/opt/homebrew/anaconda3/envs/j_scraper/lib/python3.12/site-packages/selenium/webdriver/remote/remote_connection.py\", line 300, in execute\n",
      "    return self._request(command_info[0], url, body=data)\n",
      "           ^^^^^^^^^^^^^^^^^^^^^^^^^^^^^^^^^^^^^^^^^^^^^^\n",
      "  File \"/opt/homebrew/anaconda3/envs/j_scraper/lib/python3.12/site-packages/selenium/webdriver/remote/remote_connection.py\", line 321, in _request\n",
      "    response = self._conn.request(method, url, body=body, headers=headers)\n",
      "               ^^^^^^^^^^^^^^^^^^^^^^^^^^^^^^^^^^^^^^^^^^^^^^^^^^^^^^^^^^^\n",
      "  File \"/opt/homebrew/anaconda3/envs/j_scraper/lib/python3.12/site-packages/urllib3/_request_methods.py\", line 118, in request\n",
      "    return self.request_encode_body(\n",
      "           ^^^^^^^^^^^^^^^^^^^^^^^^^\n",
      "  File \"/opt/homebrew/anaconda3/envs/j_scraper/lib/python3.12/site-packages/urllib3/_request_methods.py\", line 217, in request_encode_body\n",
      "    return self.urlopen(method, url, **extra_kw)\n",
      "           ^^^^^^^^^^^^^^^^^^^^^^^^^^^^^^^^^^^^^\n",
      "  File \"/opt/homebrew/anaconda3/envs/j_scraper/lib/python3.12/site-packages/urllib3/poolmanager.py\", line 443, in urlopen\n",
      "    response = conn.urlopen(method, u.request_uri, **kw)\n",
      "               ^^^^^^^^^^^^^^^^^^^^^^^^^^^^^^^^^^^^^^^^^\n",
      "  File \"/opt/homebrew/anaconda3/envs/j_scraper/lib/python3.12/site-packages/urllib3/connectionpool.py\", line 791, in urlopen\n",
      "    response = self._make_request(\n",
      "               ^^^^^^^^^^^^^^^^^^^\n",
      "  File \"/opt/homebrew/anaconda3/envs/j_scraper/lib/python3.12/site-packages/urllib3/connectionpool.py\", line 537, in _make_request\n",
      "    response = conn.getresponse()\n",
      "               ^^^^^^^^^^^^^^^^^^\n",
      "  File \"/opt/homebrew/anaconda3/envs/j_scraper/lib/python3.12/site-packages/urllib3/connection.py\", line 461, in getresponse\n",
      "    httplib_response = super().getresponse()\n",
      "                       ^^^^^^^^^^^^^^^^^^^^^\n",
      "  File \"/opt/homebrew/anaconda3/envs/j_scraper/lib/python3.12/http/client.py\", line 1411, in getresponse\n",
      "    response.begin()\n",
      "  File \"/opt/homebrew/anaconda3/envs/j_scraper/lib/python3.12/http/client.py\", line 324, in begin\n",
      "    version, status, reason = self._read_status()\n",
      "                              ^^^^^^^^^^^^^^^^^^^\n",
      "  File \"/opt/homebrew/anaconda3/envs/j_scraper/lib/python3.12/http/client.py\", line 285, in _read_status\n",
      "    line = str(self.fp.readline(_MAXLINE + 1), \"iso-8859-1\")\n",
      "               ^^^^^^^^^^^^^^^^^^^^^^^^^^^^^^\n",
      "  File \"/opt/homebrew/anaconda3/envs/j_scraper/lib/python3.12/socket.py\", line 707, in readinto\n",
      "    return self._sock.recv_into(b)\n",
      "           ^^^^^^^^^^^^^^^^^^^^^^^\n",
      "KeyboardInterrupt\n"
     ]
    }
   ],
   "source": [
    "!python scraper.py --N 200 --i nick.csv --debug"
   ]
  },
  {
   "cell_type": "code",
   "execution_count": null,
   "metadata": {},
   "outputs": [],
   "source": []
  },
  {
   "cell_type": "code",
   "execution_count": null,
   "metadata": {},
   "outputs": [],
   "source": []
  }
 ],
 "metadata": {
  "kernelspec": {
   "display_name": "Python 3 (ipykernel)",
   "language": "python",
   "name": "python3"
  },
  "language_info": {
   "codemirror_mode": {
    "name": "ipython",
    "version": 3
   },
   "file_extension": ".py",
   "mimetype": "text/x-python",
   "name": "python",
   "nbconvert_exporter": "python",
   "pygments_lexer": "ipython3",
   "version": "3.10.13"
  }
 },
 "nbformat": 4,
 "nbformat_minor": 4
}
