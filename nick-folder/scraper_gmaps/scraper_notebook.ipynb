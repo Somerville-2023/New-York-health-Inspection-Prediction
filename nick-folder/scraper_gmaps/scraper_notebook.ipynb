{
 "cells": [
  {
   "cell_type": "markdown",
   "metadata": {},
   "source": [
    "### Run the cell below, when its running correctly you should see:\n",
    "\n",
    "```\n",
    "Scraper initialized successfully.\n",
    "IP masking successful: Your IP address is being masked by Tor.\n",
    "Processing URL: https://www.google.com/maps/place/?q=place_id:ChIJrf_kaVBZwokRTu8j3dKal_0\n",
    "Attempting to sort reviews...\n",
    "Errors while readying to scrape: 0\n",
    "Starting to scrape reviews for https://www.google.com/maps/place/?q=place_id:ChIJrf_kaVBZwokRTu8j3dKal_0...\n",
    "[Scraping from review 0]\n",
    "Number of reviews fetched: 9\n",
    "[Scraping from review 9]\n",
    "```"
   ]
  },
  {
   "cell_type": "code",
   "execution_count": null,
   "metadata": {},
   "outputs": [],
   "source": [
    "!python scraper.py --N 200 --i nick.csv --debug"
   ]
  },
  {
   "cell_type": "code",
   "execution_count": null,
   "metadata": {},
   "outputs": [],
   "source": []
  },
  {
   "cell_type": "code",
   "execution_count": null,
   "metadata": {},
   "outputs": [],
   "source": []
  }
 ],
 "metadata": {
  "kernelspec": {
   "display_name": "scraping",
   "language": "python",
   "name": "python3"
  },
  "language_info": {
   "codemirror_mode": {
    "name": "ipython",
    "version": 3
   },
   "file_extension": ".py",
   "mimetype": "text/x-python",
   "name": "python",
   "nbconvert_exporter": "python",
   "pygments_lexer": "ipython3",
   "version": "3.10.12"
  }
 },
 "nbformat": 4,
 "nbformat_minor": 2
}
