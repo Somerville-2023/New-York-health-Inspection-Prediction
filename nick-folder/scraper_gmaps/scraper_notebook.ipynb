{
 "cells": [
  {
   "cell_type": "code",
   "execution_count": 2,
   "metadata": {},
   "outputs": [
    {
     "name": "stdout",
     "output_type": "stream",
     "text": [
      "Scraper initialized successfully.\n",
      "IP masking successful: Your IP address is being masked by Tor.\n",
      "Processing URL: https://www.google.com/maps/place/?q=place_id:ChIJ79lG6ylawokRHzGFI0I0V8k\n",
      "Attempting to sort reviews...\n",
      "Errors while readying to scrape: -1\n",
      "Error encountered when sorting reviews for URL: https://www.google.com/maps/place/?q=place_id:ChIJ79lG6ylawokRHzGFI0I0V8k\n",
      "The current page count is 1\n",
      "Processing URL: https://www.google.com/maps/place/?q=place_id:ChIJw0ul69tcwokRUXZtYK2viEw\n",
      "Attempting to sort reviews...\n",
      "Errors while readying to scrape: -1\n",
      "Error encountered when sorting reviews for URL: https://www.google.com/maps/place/?q=place_id:ChIJw0ul69tcwokRUXZtYK2viEw\n",
      "The current page count is 2\n",
      "Processing URL: https://www.google.com/maps/place/?q=place_id:ChIJN8ko6jxawokRh4mOVeF82dg\n",
      "Attempting to sort reviews...\n"
     ]
    }
   ],
   "source": [
    "!python scraper.py --N 200 --i places_scrape_rdy.csv --debug"
   ]
  },
  {
   "cell_type": "markdown",
   "metadata": {},
   "source": [
    "## Ignore from here down (I use it for testing the script)"
   ]
  },
  {
   "cell_type": "code",
   "execution_count": 2,
   "metadata": {},
   "outputs": [
    {
     "ename": "ModuleNotFoundError",
     "evalue": "No module named 'env'",
     "output_type": "error",
     "traceback": [
      "\u001b[0;31m---------------------------------------------------------------------------\u001b[0m",
      "\u001b[0;31mModuleNotFoundError\u001b[0m                       Traceback (most recent call last)",
      "\u001b[1;32m/Users/nickolaspedrimiranda/CodeUp/New-York-health-Inspection-Prediction/nick-folder/scraper_gmaps/scraper_notebook.ipynb Cell 3\u001b[0m line \u001b[0;36m2\n\u001b[1;32m      <a href='vscode-notebook-cell:/Users/nickolaspedrimiranda/CodeUp/New-York-health-Inspection-Prediction/nick-folder/scraper_gmaps/scraper_notebook.ipynb#W2sZmlsZQ%3D%3D?line=0'>1</a>\u001b[0m \u001b[39mimport\u001b[39;00m \u001b[39mrequests\u001b[39;00m\n\u001b[0;32m----> <a href='vscode-notebook-cell:/Users/nickolaspedrimiranda/CodeUp/New-York-health-Inspection-Prediction/nick-folder/scraper_gmaps/scraper_notebook.ipynb#W2sZmlsZQ%3D%3D?line=1'>2</a>\u001b[0m \u001b[39mfrom\u001b[39;00m \u001b[39mgooglemaps\u001b[39;00m \u001b[39mimport\u001b[39;00m GoogleMapsScraper\n\u001b[1;32m      <a href='vscode-notebook-cell:/Users/nickolaspedrimiranda/CodeUp/New-York-health-Inspection-Prediction/nick-folder/scraper_gmaps/scraper_notebook.ipynb#W2sZmlsZQ%3D%3D?line=2'>3</a>\u001b[0m \u001b[39mfrom\u001b[39;00m \u001b[39mselenium\u001b[39;00m\u001b[39m.\u001b[39;00m\u001b[39mwebdriver\u001b[39;00m\u001b[39m.\u001b[39;00m\u001b[39mcommon\u001b[39;00m\u001b[39m.\u001b[39;00m\u001b[39mby\u001b[39;00m \u001b[39mimport\u001b[39;00m By\n\u001b[1;32m      <a href='vscode-notebook-cell:/Users/nickolaspedrimiranda/CodeUp/New-York-health-Inspection-Prediction/nick-folder/scraper_gmaps/scraper_notebook.ipynb#W2sZmlsZQ%3D%3D?line=4'>5</a>\u001b[0m \u001b[39m# Function to get IP address without using Tor\u001b[39;00m\n",
      "File \u001b[0;32m~/CodeUp/New-York-health-Inspection-Prediction/nick-folder/scraper_gmaps/googlemaps.py:26\u001b[0m\n\u001b[1;32m     23\u001b[0m \u001b[39mimport\u001b[39;00m \u001b[39mnumpy\u001b[39;00m \u001b[39mas\u001b[39;00m \u001b[39mnp\u001b[39;00m\n\u001b[1;32m     24\u001b[0m \u001b[39mimport\u001b[39;00m \u001b[39mitertools\u001b[39;00m\n\u001b[0;32m---> 26\u001b[0m \u001b[39mimport\u001b[39;00m \u001b[39menv\u001b[39;00m\n\u001b[1;32m     28\u001b[0m GM_WEBPAGE \u001b[39m=\u001b[39m \u001b[39m'\u001b[39m\u001b[39mhttps://www.google.com/maps/\u001b[39m\u001b[39m'\u001b[39m\n\u001b[1;32m     29\u001b[0m MAX_WAIT \u001b[39m=\u001b[39m \u001b[39m10\u001b[39m\n",
      "\u001b[0;31mModuleNotFoundError\u001b[0m: No module named 'env'"
     ]
    }
   ],
   "source": [
    "import requests\n",
    "from googlemaps import GoogleMapsScraper\n",
    "from selenium.webdriver.common.by import By\n",
    "\n",
    "# Function to get IP address without using Tor\n",
    "def get_ip_without_tor():\n",
    "    response = requests.get('http://httpbin.org/ip')\n",
    "    ip_without_tor = response.json()['origin']\n",
    "    print(\"IP without Tor:\", ip_without_tor)\n",
    "    return ip_without_tor\n",
    "\n",
    "# Function to get IP address using Tor with the initialized WebDriver\n",
    "def get_ip_with_tor(scraper):\n",
    "    scraper.driver.get('http://httpbin.org/ip')\n",
    "    response_text = scraper.driver.find_element(By.TAG_NAME, 'pre').text\n",
    "    ip_with_tor = eval(response_text)['origin']\n",
    "    print(\"IP with Tor:\", ip_with_tor)\n",
    "    return ip_with_tor\n",
    "\n",
    "def test_tor_connection():\n",
    "    print(\"Testing Tor connection...\")\n",
    "\n",
    "    # Initialize GoogleMapsScraper\n",
    "    scraper = GoogleMapsScraper()\n",
    "\n",
    "    # Get IP without Tor\n",
    "    ip_without_tor = get_ip_without_tor()\n",
    "\n",
    "    # Get IP with Tor\n",
    "    ip_with_tor = get_ip_with_tor(scraper)\n",
    "\n",
    "    # Check if the IP addresses are different\n",
    "    if ip_without_tor != ip_with_tor:\n",
    "        print(\"IP masking successful: Your IP address is being masked by Tor.\")\n",
    "    else:\n",
    "        print(\"IP masking unsuccessful: Your IP address is not being masked by Tor.\")\n",
    "\n",
    "    # Close and quit the WebDriver\n",
    "    # scraper.driver.quit()\n",
    "\n",
    "    print(\"Test completed.\")\n",
    "\n"
   ]
  },
  {
   "cell_type": "code",
   "execution_count": null,
   "metadata": {},
   "outputs": [
    {
     "data": {
      "text/plain": [
       "0"
      ]
     },
     "execution_count": 3,
     "metadata": {},
     "output_type": "execute_result"
    }
   ],
   "source": [
    "import os \n",
    "os.system('afplay /System/Library/Sounds/Ping.aiff')"
   ]
  },
  {
   "cell_type": "code",
   "execution_count": null,
   "metadata": {},
   "outputs": [
    {
     "name": "stdout",
     "output_type": "stream",
     "text": [
      "Testing Tor connection...\n",
      "IP without Tor: 75.81.146.166\n",
      "IP with Tor: 188.68.41.191\n",
      "IP masking successful: Your IP address is being masked by Tor.\n",
      "Test completed.\n"
     ]
    }
   ],
   "source": [
    "test_tor_connection()"
   ]
  },
  {
   "cell_type": "code",
   "execution_count": null,
   "metadata": {},
   "outputs": [],
   "source": [
    "from stem import Signal\n",
    "from stem.control import Controller"
   ]
  }
 ],
 "metadata": {
  "kernelspec": {
   "display_name": "scraping",
   "language": "python",
   "name": "python3"
  },
  "language_info": {
   "codemirror_mode": {
    "name": "ipython",
    "version": 3
   },
   "file_extension": ".py",
   "mimetype": "text/x-python",
   "name": "python",
   "nbconvert_exporter": "python",
   "pygments_lexer": "ipython3",
   "version": "3.12.0"
  }
 },
 "nbformat": 4,
 "nbformat_minor": 2
}
