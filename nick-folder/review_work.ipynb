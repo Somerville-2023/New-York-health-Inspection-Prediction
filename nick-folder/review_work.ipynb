{
 "cells": [
  {
   "cell_type": "markdown",
   "id": "161aa5bb-8421-43ee-8df4-3c0a2be63c29",
   "metadata": {},
   "source": [
    "# Review data preparation"
   ]
  },
  {
   "cell_type": "code",
   "execution_count": 85,
   "id": "c3609e61-6a6a-4123-8eef-6a5741f5006e",
   "metadata": {},
   "outputs": [
    {
     "name": "stdout",
     "output_type": "stream",
     "text": [
      "The autoreload extension is already loaded. To reload it, use:\n",
      "  %reload_ext autoreload\n"
     ]
    }
   ],
   "source": [
    "%load_ext autoreload\n",
    "%autoreload 2\n",
    "\n",
    "# Import ds libraries\n",
    "import pandas as pd\n",
    "import numpy as np\n",
    "import re\n",
    "\n",
    "from datetime import datetime, timedelta\n",
    "\n",
    "# Import acquire functions\n",
    "import nick_acquire as a\n",
    "import nick_prepare as prep"
   ]
  },
  {
   "cell_type": "code",
   "execution_count": 188,
   "id": "016606a4-b675-477b-a074-1a5a63ca0448",
   "metadata": {},
   "outputs": [],
   "source": [
    "api_reviews = pd.read_csv('reviews_progress.csv')\n",
    "scrape_reviews = pd.read_csv('scrapted_reviews.csv')"
   ]
  },
  {
   "cell_type": "code",
   "execution_count": 200,
   "id": "3ab6e992-56f2-4717-bfdc-c5862c06c347",
   "metadata": {},
   "outputs": [
    {
     "data": {
      "text/html": [
       "<div>\n",
       "<style scoped>\n",
       "    .dataframe tbody tr th:only-of-type {\n",
       "        vertical-align: middle;\n",
       "    }\n",
       "\n",
       "    .dataframe tbody tr th {\n",
       "        vertical-align: top;\n",
       "    }\n",
       "\n",
       "    .dataframe thead th {\n",
       "        text-align: right;\n",
       "    }\n",
       "</style>\n",
       "<table border=\"1\" class=\"dataframe\">\n",
       "  <thead>\n",
       "    <tr style=\"text-align: right;\">\n",
       "      <th></th>\n",
       "      <th>camis</th>\n",
       "      <th>place_id</th>\n",
       "      <th>review_id</th>\n",
       "      <th>review_relative_time</th>\n",
       "      <th>review_rating</th>\n",
       "      <th>review_text</th>\n",
       "      <th>review_language</th>\n",
       "      <th>author_display_name</th>\n",
       "      <th>contributor_id</th>\n",
       "      <th>author_photo_uri</th>\n",
       "      <th>publish_time</th>\n",
       "    </tr>\n",
       "  </thead>\n",
       "  <tbody>\n",
       "    <tr>\n",
       "      <th>0</th>\n",
       "      <td>41168748</td>\n",
       "      <td>ChIJNzTkzav1wokRg3R8aGzuiWI</td>\n",
       "      <td>ChdDSUhNMG9nS0VJQ0FnSURHd09qaWxBRRAB</td>\n",
       "      <td>a year ago</td>\n",
       "      <td>5</td>\n",
       "      <td>These Guys are really professional. Well behav...</td>\n",
       "      <td>en</td>\n",
       "      <td>Md Omar Faruk</td>\n",
       "      <td>113263009121414123208</td>\n",
       "      <td>https://lh3.googleusercontent.com/a-/ALV-UjWGD...</td>\n",
       "      <td>2021-11-14T20:50:12Z</td>\n",
       "    </tr>\n",
       "    <tr>\n",
       "      <th>1</th>\n",
       "      <td>41168748</td>\n",
       "      <td>ChIJNzTkzav1wokRg3R8aGzuiWI</td>\n",
       "      <td>ChdDSUhNMG9nS0VJQ0FnSUMyMzlTUXpnRRAB</td>\n",
       "      <td>a year ago</td>\n",
       "      <td>1</td>\n",
       "      <td>I haven't had Dunkin Donuts in years. Being th...</td>\n",
       "      <td>en</td>\n",
       "      <td>Hipolito Rivera</td>\n",
       "      <td>102916427998123407326</td>\n",
       "      <td>https://lh3.googleusercontent.com/a-/ALV-UjUN8...</td>\n",
       "      <td>2022-05-02T09:47:34Z</td>\n",
       "    </tr>\n",
       "    <tr>\n",
       "      <th>2</th>\n",
       "      <td>41168748</td>\n",
       "      <td>ChIJNzTkzav1wokRg3R8aGzuiWI</td>\n",
       "      <td>ChdDSUhNMG9nS0VJQ0FnSURrN2VDU3RRRRAB</td>\n",
       "      <td>2 years ago</td>\n",
       "      <td>5</td>\n",
       "      <td>This Dunkin is nice, but it's located inside a...</td>\n",
       "      <td>en</td>\n",
       "      <td>DeeAnn Phillips</td>\n",
       "      <td>104489576491114386805</td>\n",
       "      <td>https://lh3.googleusercontent.com/a/ACg8ocL6Fa...</td>\n",
       "      <td>2021-05-22T23:23:44Z</td>\n",
       "    </tr>\n",
       "  </tbody>\n",
       "</table>\n",
       "</div>"
      ],
      "text/plain": [
       "      camis                     place_id  \\\n",
       "0  41168748  ChIJNzTkzav1wokRg3R8aGzuiWI   \n",
       "1  41168748  ChIJNzTkzav1wokRg3R8aGzuiWI   \n",
       "2  41168748  ChIJNzTkzav1wokRg3R8aGzuiWI   \n",
       "\n",
       "                              review_id review_relative_time  review_rating  \\\n",
       "0  ChdDSUhNMG9nS0VJQ0FnSURHd09qaWxBRRAB           a year ago              5   \n",
       "1  ChdDSUhNMG9nS0VJQ0FnSUMyMzlTUXpnRRAB           a year ago              1   \n",
       "2  ChdDSUhNMG9nS0VJQ0FnSURrN2VDU3RRRRAB          2 years ago              5   \n",
       "\n",
       "                                         review_text review_language  \\\n",
       "0  These Guys are really professional. Well behav...              en   \n",
       "1  I haven't had Dunkin Donuts in years. Being th...              en   \n",
       "2  This Dunkin is nice, but it's located inside a...              en   \n",
       "\n",
       "  author_display_name         contributor_id  \\\n",
       "0       Md Omar Faruk  113263009121414123208   \n",
       "1     Hipolito Rivera  102916427998123407326   \n",
       "2     DeeAnn Phillips  104489576491114386805   \n",
       "\n",
       "                                    author_photo_uri          publish_time  \n",
       "0  https://lh3.googleusercontent.com/a-/ALV-UjWGD...  2021-11-14T20:50:12Z  \n",
       "1  https://lh3.googleusercontent.com/a-/ALV-UjUN8...  2022-05-02T09:47:34Z  \n",
       "2  https://lh3.googleusercontent.com/a/ACg8ocL6Fa...  2021-05-22T23:23:44Z  "
      ]
     },
     "execution_count": 200,
     "metadata": {},
     "output_type": "execute_result"
    }
   ],
   "source": [
    "api_reviews.head(3)"
   ]
  },
  {
   "cell_type": "code",
   "execution_count": null,
   "id": "ebf6b60f-d41a-4c48-aec7-2abce79d31a0",
   "metadata": {},
   "outputs": [],
   "source": []
  },
  {
   "cell_type": "code",
   "execution_count": 204,
   "id": "8ded3fdd-9367-4fdf-a68c-7749fafcfc1a",
   "metadata": {},
   "outputs": [
    {
     "data": {
      "text/html": [
       "<div>\n",
       "<style scoped>\n",
       "    .dataframe tbody tr th:only-of-type {\n",
       "        vertical-align: middle;\n",
       "    }\n",
       "\n",
       "    .dataframe tbody tr th {\n",
       "        vertical-align: top;\n",
       "    }\n",
       "\n",
       "    .dataframe thead th {\n",
       "        text-align: right;\n",
       "    }\n",
       "</style>\n",
       "<table border=\"1\" class=\"dataframe\">\n",
       "  <thead>\n",
       "    <tr style=\"text-align: right;\">\n",
       "      <th></th>\n",
       "      <th>camis</th>\n",
       "      <th>publish_time</th>\n",
       "      <th>review_text</th>\n",
       "      <th>review_rating</th>\n",
       "    </tr>\n",
       "  </thead>\n",
       "  <tbody>\n",
       "    <tr>\n",
       "      <th>0</th>\n",
       "      <td>41168748</td>\n",
       "      <td>2021-11-14T20:50:12Z</td>\n",
       "      <td>These Guys are really professional. Well behav...</td>\n",
       "      <td>5</td>\n",
       "    </tr>\n",
       "    <tr>\n",
       "      <th>1</th>\n",
       "      <td>41168748</td>\n",
       "      <td>2022-05-02T09:47:34Z</td>\n",
       "      <td>I haven't had Dunkin Donuts in years. Being th...</td>\n",
       "      <td>1</td>\n",
       "    </tr>\n",
       "    <tr>\n",
       "      <th>2</th>\n",
       "      <td>41168748</td>\n",
       "      <td>2021-05-22T23:23:44Z</td>\n",
       "      <td>This Dunkin is nice, but it's located inside a...</td>\n",
       "      <td>5</td>\n",
       "    </tr>\n",
       "    <tr>\n",
       "      <th>3</th>\n",
       "      <td>41168748</td>\n",
       "      <td>2021-08-17T02:55:05Z</td>\n",
       "      <td>Ordered a box of joes they tried to cheat with...</td>\n",
       "      <td>2</td>\n",
       "    </tr>\n",
       "    <tr>\n",
       "      <th>4</th>\n",
       "      <td>41168748</td>\n",
       "      <td>2023-03-06T16:17:03Z</td>\n",
       "      <td>Another review  my daughter and friends  love ...</td>\n",
       "      <td>4</td>\n",
       "    </tr>\n",
       "    <tr>\n",
       "      <th>...</th>\n",
       "      <td>...</td>\n",
       "      <td>...</td>\n",
       "      <td>...</td>\n",
       "      <td>...</td>\n",
       "    </tr>\n",
       "    <tr>\n",
       "      <th>43867</th>\n",
       "      <td>50107528</td>\n",
       "      <td>2023-05-24T21:33:14Z</td>\n",
       "      <td>Easy to locate, great customer service. Went i...</td>\n",
       "      <td>2</td>\n",
       "    </tr>\n",
       "    <tr>\n",
       "      <th>43868</th>\n",
       "      <td>50107528</td>\n",
       "      <td>2023-07-16T04:20:30Z</td>\n",
       "      <td>A solid doner kebab. Good cuts of lamb and ple...</td>\n",
       "      <td>4</td>\n",
       "    </tr>\n",
       "    <tr>\n",
       "      <th>43869</th>\n",
       "      <td>50107528</td>\n",
       "      <td>2023-05-09T18:27:59Z</td>\n",
       "      <td>We spent 5 days in NYC eating a lot of great (...</td>\n",
       "      <td>5</td>\n",
       "    </tr>\n",
       "    <tr>\n",
       "      <th>43870</th>\n",
       "      <td>50107528</td>\n",
       "      <td>2023-03-05T21:48:09Z</td>\n",
       "      <td>Extremely authentic. Staff/owner is from Turke...</td>\n",
       "      <td>5</td>\n",
       "    </tr>\n",
       "    <tr>\n",
       "      <th>43871</th>\n",
       "      <td>50107528</td>\n",
       "      <td>2023-10-23T13:20:31Z</td>\n",
       "      <td>The chicken is very tender, fresh Turkish brea...</td>\n",
       "      <td>5</td>\n",
       "    </tr>\n",
       "  </tbody>\n",
       "</table>\n",
       "<p>43872 rows × 4 columns</p>\n",
       "</div>"
      ],
      "text/plain": [
       "          camis          publish_time  \\\n",
       "0      41168748  2021-11-14T20:50:12Z   \n",
       "1      41168748  2022-05-02T09:47:34Z   \n",
       "2      41168748  2021-05-22T23:23:44Z   \n",
       "3      41168748  2021-08-17T02:55:05Z   \n",
       "4      41168748  2023-03-06T16:17:03Z   \n",
       "...         ...                   ...   \n",
       "43867  50107528  2023-05-24T21:33:14Z   \n",
       "43868  50107528  2023-07-16T04:20:30Z   \n",
       "43869  50107528  2023-05-09T18:27:59Z   \n",
       "43870  50107528  2023-03-05T21:48:09Z   \n",
       "43871  50107528  2023-10-23T13:20:31Z   \n",
       "\n",
       "                                             review_text  review_rating  \n",
       "0      These Guys are really professional. Well behav...              5  \n",
       "1      I haven't had Dunkin Donuts in years. Being th...              1  \n",
       "2      This Dunkin is nice, but it's located inside a...              5  \n",
       "3      Ordered a box of joes they tried to cheat with...              2  \n",
       "4      Another review  my daughter and friends  love ...              4  \n",
       "...                                                  ...            ...  \n",
       "43867  Easy to locate, great customer service. Went i...              2  \n",
       "43868  A solid doner kebab. Good cuts of lamb and ple...              4  \n",
       "43869  We spent 5 days in NYC eating a lot of great (...              5  \n",
       "43870  Extremely authentic. Staff/owner is from Turke...              5  \n",
       "43871  The chicken is very tender, fresh Turkish brea...              5  \n",
       "\n",
       "[43872 rows x 4 columns]"
      ]
     },
     "execution_count": 204,
     "metadata": {},
     "output_type": "execute_result"
    }
   ],
   "source": [
    "def clean_api_reviews(api_data):\n",
    "    df = api_data.copy()\n",
    "    cols = ['camis', 'publish_time', 'review_text', 'review_rating']\n",
    "    df = df[cols]\n",
    "    return df\n",
    "\n",
    "clean_api_reviews(api_reviews)"
   ]
  },
  {
   "cell_type": "code",
   "execution_count": 187,
   "id": "6d70408b-448b-4969-81d7-0b3e553cf5bd",
   "metadata": {},
   "outputs": [],
   "source": [
    "def clean_dates(data):\n",
    "    scrape_reviews = data.copy()\n",
    "    scrape_reviews.relative_date = scrape_reviews.relative_date.apply(lambda x: x[:-4])\n",
    "    scrape_reviews.relative_date = ['1 years' if date == 'a year' else date for date in scrape_reviews.relative_date]\n",
    "    scrape_reviews.relative_date = [re.sub(r'^a', '1', date) if date[0] == 'a' else date for date in scrape_reviews.relative_date]\n",
    "    return scrape_reviews"
   ]
  },
  {
   "cell_type": "code",
   "execution_count": 189,
   "id": "74ffce42-e181-4b73-bad0-c35a3a2c0bfd",
   "metadata": {},
   "outputs": [],
   "source": [
    "reviews = clean_dates(scrape_reviews)"
   ]
  },
  {
   "cell_type": "code",
   "execution_count": 131,
   "id": "e0175231-27df-4d9c-8a10-ccfb1d66f190",
   "metadata": {},
   "outputs": [],
   "source": [
    "def adjust_dates(scrape_reviews):\n",
    "    \n",
    "    dataframes = []  # Create empty list to store dataframes\n",
    "    \n",
    "    # Isolate each restaurant by id\n",
    "    for restaurant_id in scrape_reviews.id.unique():\n",
    "        # Create dataframe of ONE restaurant\n",
    "        restaurant = scrape_reviews[scrape_reviews.id == restaurant_id].copy()\n",
    "        \n",
    "        # Create df of review counts per relative_date and calculate average distribution of reviews\n",
    "        place = scrape_reviews[scrape_reviews.id == restaurant_id]\n",
    "        review_counts = pd.DataFrame(place.relative_date.value_counts())\n",
    "        review_counts['increment'] = 365/review_counts.relative_date\n",
    "        \n",
    "        # Create empty list for new dates, i variable to count increments, and previous_year to track year \n",
    "        new_dates = []\n",
    "        i = 0\n",
    "        previous_year = '1 years'\n",
    "\n",
    "        for date in restaurant.relative_date: \n",
    "            if 'years' in date:  # If date is in years, function will adjust it to estimated date\n",
    "                if date != previous_year:  # When date changes from 'x years' to 'x + 1 years' counters are reset \n",
    "                    i = 0\n",
    "                    previous_year = date\n",
    "                # Calculate adjusted date\n",
    "                adjusted_date = (365*(int(re.findall(r'\\d+', date)[0]))) + (review_counts.loc[date].increment * i)\n",
    "                i += 1\n",
    "                new_dates.append(str(round(adjusted_date)))  # Append adjsuted date\n",
    "            else:\n",
    "                new_dates.append(date)  # Append normal date if date < 1 year\n",
    "        restaurant['new_date'] = new_dates  # Replace dates with new_dates\n",
    "        dataframes.append(restaurant)  # Append dataframe to list of dataframes\n",
    "    reviews = pd.concat(dataframes)  # Join all dataframes\n",
    "    return reviews  # Return joined data\n"
   ]
  },
  {
   "cell_type": "code",
   "execution_count": 190,
   "id": "fb35303d-4c94-4436-97d6-b74610cbb940",
   "metadata": {},
   "outputs": [],
   "source": [
    "reviews = adjust_dates(reviews)"
   ]
  },
  {
   "cell_type": "code",
   "execution_count": 138,
   "id": "2fd61031-2b00-4e22-873f-c4cf8ea05995",
   "metadata": {},
   "outputs": [],
   "source": [
    "def calculate_days(data):\n",
    "    reviews = data.copy()\n",
    "    new_date = []\n",
    "    for date in reviews.new_date:\n",
    "        #print(date)\n",
    "        unit = re.sub(r'[^a-z]', '', date)\n",
    "        if 'hour' in unit:\n",
    "            new_date.append('1')\n",
    "        elif 'day' in unit:\n",
    "            new_date.append(re.sub(r'[^0-9]', '', date))\n",
    "        elif 'week' in unit:\n",
    "            new_date.append(int(re.sub(r'[^0-9]', '', date))*7)\n",
    "        elif 'month' in unit:\n",
    "            new_date.append(int(re.sub(r'[^0-9]', '', date))*30)\n",
    "        else:\n",
    "            new_date.append(date)\n",
    "\n",
    "    reviews['newer_dates'] = new_date\n",
    "    reviews['final_date'] = [pd.to_datetime(retrieval_date) - timedelta(days = n) for retrieval_date,n in zip(reviews.retrieval_date, reviews.newer_dates.astype(int))]\n",
    "    return reviews"
   ]
  },
  {
   "cell_type": "code",
   "execution_count": 191,
   "id": "6d8ae918-8074-484c-ab0f-06cb1f2ae207",
   "metadata": {},
   "outputs": [],
   "source": [
    "final_df = calculate_days(reviews)"
   ]
  },
  {
   "cell_type": "code",
   "execution_count": 205,
   "id": "e1d880f4-4322-4ee9-a762-0b1ccca1ae00",
   "metadata": {},
   "outputs": [],
   "source": [
    "def clean_reviews(data):\n",
    "    final_df = data.copy()\n",
    "    cols = ['id', 'final_date', 'caption', 'rating']\n",
    "    final_df = final_df[cols]\n",
    "    final_df.rating = final_df.rating.astype(int)\n",
    "    final_df.columns = ['camis', 'publish_time', 'review_text', 'review_rating']\n",
    "    return final_df"
   ]
  },
  {
   "cell_type": "code",
   "execution_count": 206,
   "id": "a8afadf7-932e-4e38-ae4d-b6fe6dd34abb",
   "metadata": {},
   "outputs": [],
   "source": [
    "final_df = clean_reviews(final_df)"
   ]
  },
  {
   "cell_type": "code",
   "execution_count": 207,
   "id": "4a01ec89-4f4d-43a5-8b3e-246af1edafd1",
   "metadata": {},
   "outputs": [
    {
     "data": {
      "text/html": [
       "<div>\n",
       "<style scoped>\n",
       "    .dataframe tbody tr th:only-of-type {\n",
       "        vertical-align: middle;\n",
       "    }\n",
       "\n",
       "    .dataframe tbody tr th {\n",
       "        vertical-align: top;\n",
       "    }\n",
       "\n",
       "    .dataframe thead th {\n",
       "        text-align: right;\n",
       "    }\n",
       "</style>\n",
       "<table border=\"1\" class=\"dataframe\">\n",
       "  <thead>\n",
       "    <tr style=\"text-align: right;\">\n",
       "      <th></th>\n",
       "      <th>camis</th>\n",
       "      <th>publish_time</th>\n",
       "      <th>review_text</th>\n",
       "      <th>review_rating</th>\n",
       "    </tr>\n",
       "  </thead>\n",
       "  <tbody>\n",
       "    <tr>\n",
       "      <th>0</th>\n",
       "      <td>41375676</td>\n",
       "      <td>2023-11-01 02:44:04.226505</td>\n",
       "      <td>NaN</td>\n",
       "      <td>5</td>\n",
       "    </tr>\n",
       "    <tr>\n",
       "      <th>1</th>\n",
       "      <td>41375676</td>\n",
       "      <td>2023-11-01 02:44:04.227451</td>\n",
       "      <td>NaN</td>\n",
       "      <td>5</td>\n",
       "    </tr>\n",
       "    <tr>\n",
       "      <th>2</th>\n",
       "      <td>41375676</td>\n",
       "      <td>2023-11-01 02:44:04.227954</td>\n",
       "      <td>NaN</td>\n",
       "      <td>5</td>\n",
       "    </tr>\n",
       "    <tr>\n",
       "      <th>3</th>\n",
       "      <td>41375676</td>\n",
       "      <td>2023-10-29 02:44:04.228882</td>\n",
       "      <td>Fabulous food</td>\n",
       "      <td>5</td>\n",
       "    </tr>\n",
       "    <tr>\n",
       "      <th>4</th>\n",
       "      <td>41375676</td>\n",
       "      <td>2023-10-29 02:44:04.229576</td>\n",
       "      <td>Overrated.  Terrible service, the fault of the...</td>\n",
       "      <td>3</td>\n",
       "    </tr>\n",
       "  </tbody>\n",
       "</table>\n",
       "</div>"
      ],
      "text/plain": [
       "      camis               publish_time  \\\n",
       "0  41375676 2023-11-01 02:44:04.226505   \n",
       "1  41375676 2023-11-01 02:44:04.227451   \n",
       "2  41375676 2023-11-01 02:44:04.227954   \n",
       "3  41375676 2023-10-29 02:44:04.228882   \n",
       "4  41375676 2023-10-29 02:44:04.229576   \n",
       "\n",
       "                                         review_text  review_rating  \n",
       "0                                                NaN              5  \n",
       "1                                                NaN              5  \n",
       "2                                                NaN              5  \n",
       "3                                      Fabulous food              5  \n",
       "4  Overrated.  Terrible service, the fault of the...              3  "
      ]
     },
     "execution_count": 207,
     "metadata": {},
     "output_type": "execute_result"
    }
   ],
   "source": [
    "final_df.head()"
   ]
  },
  {
   "cell_type": "code",
   "execution_count": 230,
   "id": "061455e9-a2f4-40c5-a618-8aeecba905c8",
   "metadata": {},
   "outputs": [],
   "source": [
    "api_reviews = pd.read_csv('reviews_progress.csv')\n",
    "scrape_reviews = pd.read_csv('scraped_reviews.csv')"
   ]
  },
  {
   "cell_type": "code",
   "execution_count": 231,
   "id": "7243d05b-985d-4f50-96f1-ee49074105af",
   "metadata": {},
   "outputs": [
    {
     "data": {
      "text/html": [
       "<div>\n",
       "<style scoped>\n",
       "    .dataframe tbody tr th:only-of-type {\n",
       "        vertical-align: middle;\n",
       "    }\n",
       "\n",
       "    .dataframe tbody tr th {\n",
       "        vertical-align: top;\n",
       "    }\n",
       "\n",
       "    .dataframe thead th {\n",
       "        text-align: right;\n",
       "    }\n",
       "</style>\n",
       "<table border=\"1\" class=\"dataframe\">\n",
       "  <thead>\n",
       "    <tr style=\"text-align: right;\">\n",
       "      <th></th>\n",
       "      <th>camis</th>\n",
       "      <th>publish_time</th>\n",
       "      <th>review_text</th>\n",
       "      <th>review_rating</th>\n",
       "    </tr>\n",
       "  </thead>\n",
       "  <tbody>\n",
       "    <tr>\n",
       "      <th>0</th>\n",
       "      <td>41375676</td>\n",
       "      <td>2023-11-01 02:44:04.226505</td>\n",
       "      <td>NaN</td>\n",
       "      <td>5</td>\n",
       "    </tr>\n",
       "    <tr>\n",
       "      <th>1</th>\n",
       "      <td>41375676</td>\n",
       "      <td>2023-11-01 02:44:04.227451</td>\n",
       "      <td>NaN</td>\n",
       "      <td>5</td>\n",
       "    </tr>\n",
       "    <tr>\n",
       "      <th>2</th>\n",
       "      <td>41375676</td>\n",
       "      <td>2023-11-01 02:44:04.227954</td>\n",
       "      <td>NaN</td>\n",
       "      <td>5</td>\n",
       "    </tr>\n",
       "  </tbody>\n",
       "</table>\n",
       "</div>"
      ],
      "text/plain": [
       "      camis               publish_time review_text  review_rating\n",
       "0  41375676 2023-11-01 02:44:04.226505         NaN              5\n",
       "1  41375676 2023-11-01 02:44:04.227451         NaN              5\n",
       "2  41375676 2023-11-01 02:44:04.227954         NaN              5"
      ]
     },
     "execution_count": 231,
     "metadata": {},
     "output_type": "execute_result"
    }
   ],
   "source": [
    "r1 = prep.cleanse_reviews(scrape_reviews)\n",
    "r1.head(3)"
   ]
  },
  {
   "cell_type": "code",
   "execution_count": 232,
   "id": "21152a1e-d182-4537-94d0-043a9498c97e",
   "metadata": {},
   "outputs": [
    {
     "data": {
      "text/plain": [
       "camis                     int64\n",
       "publish_time     datetime64[ns]\n",
       "review_text              object\n",
       "review_rating             int64\n",
       "dtype: object"
      ]
     },
     "execution_count": 232,
     "metadata": {},
     "output_type": "execute_result"
    }
   ],
   "source": [
    "r1.dtypes"
   ]
  },
  {
   "cell_type": "code",
   "execution_count": 233,
   "id": "072cc8c5-330a-4c37-96c4-dc2052184037",
   "metadata": {},
   "outputs": [
    {
     "data": {
      "text/html": [
       "<div>\n",
       "<style scoped>\n",
       "    .dataframe tbody tr th:only-of-type {\n",
       "        vertical-align: middle;\n",
       "    }\n",
       "\n",
       "    .dataframe tbody tr th {\n",
       "        vertical-align: top;\n",
       "    }\n",
       "\n",
       "    .dataframe thead th {\n",
       "        text-align: right;\n",
       "    }\n",
       "</style>\n",
       "<table border=\"1\" class=\"dataframe\">\n",
       "  <thead>\n",
       "    <tr style=\"text-align: right;\">\n",
       "      <th></th>\n",
       "      <th>camis</th>\n",
       "      <th>publish_time</th>\n",
       "      <th>review_text</th>\n",
       "      <th>review_rating</th>\n",
       "    </tr>\n",
       "  </thead>\n",
       "  <tbody>\n",
       "    <tr>\n",
       "      <th>0</th>\n",
       "      <td>41168748</td>\n",
       "      <td>2021-11-14 20:50:12+00:00</td>\n",
       "      <td>These Guys are really professional. Well behav...</td>\n",
       "      <td>5</td>\n",
       "    </tr>\n",
       "    <tr>\n",
       "      <th>1</th>\n",
       "      <td>41168748</td>\n",
       "      <td>2022-05-02 09:47:34+00:00</td>\n",
       "      <td>I haven't had Dunkin Donuts in years. Being th...</td>\n",
       "      <td>1</td>\n",
       "    </tr>\n",
       "    <tr>\n",
       "      <th>2</th>\n",
       "      <td>41168748</td>\n",
       "      <td>2021-05-22 23:23:44+00:00</td>\n",
       "      <td>This Dunkin is nice, but it's located inside a...</td>\n",
       "      <td>5</td>\n",
       "    </tr>\n",
       "  </tbody>\n",
       "</table>\n",
       "</div>"
      ],
      "text/plain": [
       "      camis              publish_time  \\\n",
       "0  41168748 2021-11-14 20:50:12+00:00   \n",
       "1  41168748 2022-05-02 09:47:34+00:00   \n",
       "2  41168748 2021-05-22 23:23:44+00:00   \n",
       "\n",
       "                                         review_text  review_rating  \n",
       "0  These Guys are really professional. Well behav...              5  \n",
       "1  I haven't had Dunkin Donuts in years. Being th...              1  \n",
       "2  This Dunkin is nice, but it's located inside a...              5  "
      ]
     },
     "execution_count": 233,
     "metadata": {},
     "output_type": "execute_result"
    }
   ],
   "source": [
    "r2 = prep.clean_api_reviews(api_reviews)\n",
    "r2.head(3)"
   ]
  },
  {
   "cell_type": "code",
   "execution_count": 234,
   "id": "e33c9d92-7dfd-4b50-9006-304320488290",
   "metadata": {},
   "outputs": [
    {
     "data": {
      "text/plain": [
       "camis                          int64\n",
       "publish_time     datetime64[ns, UTC]\n",
       "review_text                   object\n",
       "review_rating                  int64\n",
       "dtype: object"
      ]
     },
     "execution_count": 234,
     "metadata": {},
     "output_type": "execute_result"
    }
   ],
   "source": [
    "r2.dtypes"
   ]
  },
  {
   "cell_type": "code",
   "execution_count": 235,
   "id": "5edb2bfd-b357-4452-bc04-a7d98a8aa405",
   "metadata": {},
   "outputs": [
    {
     "data": {
      "text/plain": [
       "61337"
      ]
     },
     "execution_count": 235,
     "metadata": {},
     "output_type": "execute_result"
    }
   ],
   "source": [
    "len(r2) + len(r1)"
   ]
  },
  {
   "cell_type": "code",
   "execution_count": 237,
   "id": "d82d9ec8-a72d-4c8d-8441-e266a2e0804b",
   "metadata": {},
   "outputs": [],
   "source": [
    "joined_reviews = pd.concat([r1, r2])"
   ]
  },
  {
   "cell_type": "code",
   "execution_count": 238,
   "id": "f190bf3b-8a11-406f-b744-d1ea6de1565c",
   "metadata": {},
   "outputs": [],
   "source": [
    "joined_reviews.to_csv('reviews.csv', index=False)"
   ]
  },
  {
   "cell_type": "code",
   "execution_count": null,
   "id": "186185ab-ed1d-4247-8e19-5e695b05cb49",
   "metadata": {},
   "outputs": [],
   "source": []
  }
 ],
 "metadata": {
  "kernelspec": {
   "display_name": "Python 3 (ipykernel)",
   "language": "python",
   "name": "python3"
  },
  "language_info": {
   "codemirror_mode": {
    "name": "ipython",
    "version": 3
   },
   "file_extension": ".py",
   "mimetype": "text/x-python",
   "name": "python",
   "nbconvert_exporter": "python",
   "pygments_lexer": "ipython3",
   "version": "3.10.9"
  }
 },
 "nbformat": 4,
 "nbformat_minor": 5
}
