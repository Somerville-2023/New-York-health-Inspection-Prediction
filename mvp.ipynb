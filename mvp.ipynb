{
 "cells": [
  {
   "cell_type": "code",
   "execution_count": 3,
   "id": "9444742a-51df-4c49-ac08-fa4d957ece7c",
   "metadata": {},
   "outputs": [],
   "source": [
    "# Imported libraries\n",
    "import acquire as a\n",
    "import prepare as p\n",
    "import explore as e\n",
    "import os\n",
    "import pandas as pd"
   ]
  },
  {
   "cell_type": "code",
   "execution_count": 4,
   "id": "9f29b539-4b53-4704-9a87-a8c1ae89320d",
   "metadata": {},
   "outputs": [
    {
     "ename": "NameError",
     "evalue": "name 'key_token' is not defined",
     "output_type": "error",
     "traceback": [
      "\u001b[0;31m---------------------------------------------------------------------------\u001b[0m",
      "\u001b[0;31mNameError\u001b[0m                                 Traceback (most recent call last)",
      "Cell \u001b[0;32mIn[4], line 1\u001b[0m\n\u001b[0;32m----> 1\u001b[0m ny \u001b[38;5;241m=\u001b[39m \u001b[43ma\u001b[49m\u001b[38;5;241;43m.\u001b[39;49m\u001b[43macquire_ny\u001b[49m\u001b[43m(\u001b[49m\u001b[43m)\u001b[49m\n",
      "File \u001b[0;32m~/codeup-data-science/New-York-health-Inspection-Prediction/acquire.py:79\u001b[0m, in \u001b[0;36macquire_ny\u001b[0;34m()\u001b[0m\n\u001b[1;32m     76\u001b[0m \u001b[38;5;28;01mfrom\u001b[39;00m \u001b[38;5;21;01msodapy\u001b[39;00m \u001b[38;5;28;01mimport\u001b[39;00m Socrata\n\u001b[1;32m     77\u001b[0m \u001b[38;5;66;03m# Create client\u001b[39;00m\n\u001b[1;32m     78\u001b[0m \u001b[38;5;66;03m# NOTE: YOU NEED A KEY TOKEN\u001b[39;00m\n\u001b[0;32m---> 79\u001b[0m client \u001b[38;5;241m=\u001b[39m Socrata(\u001b[38;5;124m\"\u001b[39m\u001b[38;5;124mdata.cityofnewyork.us\u001b[39m\u001b[38;5;124m\"\u001b[39m, \u001b[43mkey_token\u001b[49m)\n\u001b[1;32m     80\u001b[0m \u001b[38;5;66;03m# Make request\u001b[39;00m\n\u001b[1;32m     81\u001b[0m results \u001b[38;5;241m=\u001b[39m client\u001b[38;5;241m.\u001b[39mget(\u001b[38;5;124m\"\u001b[39m\u001b[38;5;124m43nn-pn8j\u001b[39m\u001b[38;5;124m\"\u001b[39m, limit\u001b[38;5;241m=\u001b[39m\u001b[38;5;241m500_000\u001b[39m)\n",
      "\u001b[0;31mNameError\u001b[0m: name 'key_token' is not defined"
     ]
    }
   ],
   "source": [
    "ny = a.acquire_ny()"
   ]
  }
 ],
 "metadata": {
  "kernelspec": {
   "display_name": "Python 3 (ipykernel)",
   "language": "python",
   "name": "python3"
  },
  "language_info": {
   "codemirror_mode": {
    "name": "ipython",
    "version": 3
   },
   "file_extension": ".py",
   "mimetype": "text/x-python",
   "name": "python",
   "nbconvert_exporter": "python",
   "pygments_lexer": "ipython3",
   "version": "3.10.9"
  }
 },
 "nbformat": 4,
 "nbformat_minor": 5
}
